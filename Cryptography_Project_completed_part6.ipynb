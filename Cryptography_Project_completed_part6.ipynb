{
 "cells": [
  {
   "cell_type": "markdown",
   "metadata": {},
   "source": [
    "Cryptography"
   ]
  },
  {
   "cell_type": "markdown",
   "metadata": {},
   "source": [
    "### Team\n",
    "<ol>\n",
    "    <li> Mark Pearson </li>\n",
    "    <li> Ronan Geraghty</li>\n",
    "    <li> Milan Patel </li>\n",
    "    <li> Will Steynor </li>\n",
    "</ol>\n",
    "\n"
   ]
  },
  {
   "cell_type": "code",
   "execution_count": 3,
   "metadata": {},
   "outputs": [],
   "source": [
    "from NumberFunctions import *\n",
    "import numpy as np\n",
    "import random as ran\n",
    "import matplotlib.pyplot as plt\n",
    "from time import process_time\n",
    "import pandas as pd\n",
    "import numba\n",
    "import time"
   ]
  },
  {
   "cell_type": "markdown",
   "metadata": {},
   "source": [
    "Stuff extra to include\n",
    "\n",
    "+ difference between asymmetric and symmetric cryptography\n",
    "\n",
    "+ Steganography"
   ]
  },
  {
   "cell_type": "markdown",
   "metadata": {},
   "source": [
    "# Core 2: RSA Signature Message"
   ]
  },
  {
   "cell_type": "markdown",
   "metadata": {},
   "source": [
    "## Modular Inverse"
   ]
  },
  {
   "cell_type": "markdown",
   "metadata": {},
   "source": [
    "Solve, \n",
    "> $ax = 1 \\pmod{m} $ for  $x \\in \\{1,2,3,...,m-1\\}$\n",
    "\n",
    "\n",
    "Proof\n",
    "\n",
    "We have, where $x,y \\in \\mathbb{Z}$ are calculated by the Euclidean algorithm.\n",
    "> $ax+by = gcd(a,b)$\n",
    "\n",
    "We only need to take into account when $gcd(a,b)=1$ as $e$ is chosen so $gcd(e,\\phi{N})=1$\n",
    "\n",
    "Let $m=b$, where $gcd(a,m) = 1$\n",
    "\n",
    "So we get\n",
    "> \\begin{align*}\n",
    "ax+my &= 1\\\\\n",
    "ax + my &\\equiv 1\\pmod{m}\\\\\n",
    "ax &\\equiv 1\\pmod{m}\n",
    "\\end{align*}\n",
    "\n",
    "Therefore, $x$ is a modular inverse of $a$ for $m$\n",
    "\n",
    "However, by using the Euclidean algorithm sometimes $x$ is not in the set $\\{1,2,...,m-1\\}$. This is a problem as if $x$ is negative when we use it later for the RSA signature we need to take the modulo of $int^{x}$, to do this we must have $int = int^{x}$\n",
    "\n",
    "Let us consider the case where $x \\notin \\{1,2,...,m-1\\}$, Let $d \\in \\mathbb{Z}$\n",
    "> \\begin{align*}\n",
    "ax &\\equiv 1\\pmod{m}\\\\\n",
    "ax + adm &\\equiv 1\\pmod{m}\\\\\n",
    "a(x + dm) &\\equiv 1\\pmod{m}\n",
    "\\end{align*}\n",
    "\n",
    "Set $x\\prime = x + dm \\iff x\\prime = x \\pmod{m}$\n",
    "\n",
    "We know $x\\prime \\in \\{1,2,...,m-1\\}$\n"
   ]
  },
  {
   "cell_type": "code",
   "execution_count": 4,
   "metadata": {
    "scrolled": false
   },
   "outputs": [
    {
     "ename": "TypingError",
     "evalue": "Failed in nopython mode pipeline (step: nopython frontend)\n\u001b[1mUntyped global name 'gcd_fast':\u001b[0m \u001b[1m\u001b[1mcannot determine Numba type of <class 'numba.ir.UndefinedType'>\u001b[0m\n\u001b[1m\nFile \"<ipython-input-4-bf6b043b3952>\", line 7:\u001b[0m\n\u001b[1mdef totient_fast(n):\n    <source elided>\n    for i in range(1, n):\n\u001b[1m        if gcd_fast(i, n) == 1:\n\u001b[0m        \u001b[1m^\u001b[0m\u001b[0m\n\u001b[0m",
     "output_type": "error",
     "traceback": [
      "\u001b[1;31m---------------------------------------------------------------------------\u001b[0m",
      "\u001b[1;31mTypingError\u001b[0m                               Traceback (most recent call last)",
      "\u001b[1;32m<ipython-input-4-bf6b043b3952>\u001b[0m in \u001b[0;36m<module>\u001b[1;34m\u001b[0m\n\u001b[1;32m----> 1\u001b[1;33m \u001b[1;33m@\u001b[0m\u001b[0mnumba\u001b[0m\u001b[1;33m.\u001b[0m\u001b[0mjit\u001b[0m\u001b[1;33m(\u001b[0m\u001b[1;34m'int64(int64)'\u001b[0m\u001b[1;33m,\u001b[0m \u001b[0mnopython\u001b[0m\u001b[1;33m=\u001b[0m\u001b[1;32mTrue\u001b[0m\u001b[1;33m)\u001b[0m\u001b[1;33m\u001b[0m\u001b[1;33m\u001b[0m\u001b[0m\n\u001b[0m\u001b[0;32m      2\u001b[0m \u001b[1;32mdef\u001b[0m \u001b[0mtotient_fast\u001b[0m\u001b[1;33m(\u001b[0m\u001b[0mn\u001b[0m\u001b[1;33m)\u001b[0m\u001b[1;33m:\u001b[0m\u001b[1;33m\u001b[0m\u001b[1;33m\u001b[0m\u001b[0m\n\u001b[0;32m      3\u001b[0m     '''return the totient of n,\n\u001b[0;32m      4\u001b[0m         number of postive integers < n which are coprime to n.'''\n\u001b[0;32m      5\u001b[0m     \u001b[0mnum\u001b[0m \u001b[1;33m=\u001b[0m \u001b[1;36m0\u001b[0m\u001b[1;33m\u001b[0m\u001b[1;33m\u001b[0m\u001b[0m\n",
      "\u001b[1;32m~\\Anaconda3\\lib\\site-packages\\numba\\decorators.py\u001b[0m in \u001b[0;36mwrapper\u001b[1;34m(func)\u001b[0m\n\u001b[0;32m    184\u001b[0m             \u001b[1;32mwith\u001b[0m \u001b[0mtypeinfer\u001b[0m\u001b[1;33m.\u001b[0m\u001b[0mregister_dispatcher\u001b[0m\u001b[1;33m(\u001b[0m\u001b[0mdisp\u001b[0m\u001b[1;33m)\u001b[0m\u001b[1;33m:\u001b[0m\u001b[1;33m\u001b[0m\u001b[1;33m\u001b[0m\u001b[0m\n\u001b[0;32m    185\u001b[0m                 \u001b[1;32mfor\u001b[0m \u001b[0msig\u001b[0m \u001b[1;32min\u001b[0m \u001b[0msigs\u001b[0m\u001b[1;33m:\u001b[0m\u001b[1;33m\u001b[0m\u001b[1;33m\u001b[0m\u001b[0m\n\u001b[1;32m--> 186\u001b[1;33m                     \u001b[0mdisp\u001b[0m\u001b[1;33m.\u001b[0m\u001b[0mcompile\u001b[0m\u001b[1;33m(\u001b[0m\u001b[0msig\u001b[0m\u001b[1;33m)\u001b[0m\u001b[1;33m\u001b[0m\u001b[1;33m\u001b[0m\u001b[0m\n\u001b[0m\u001b[0;32m    187\u001b[0m                 \u001b[0mdisp\u001b[0m\u001b[1;33m.\u001b[0m\u001b[0mdisable_compile\u001b[0m\u001b[1;33m(\u001b[0m\u001b[1;33m)\u001b[0m\u001b[1;33m\u001b[0m\u001b[1;33m\u001b[0m\u001b[0m\n\u001b[0;32m    188\u001b[0m         \u001b[1;32mreturn\u001b[0m \u001b[0mdisp\u001b[0m\u001b[1;33m\u001b[0m\u001b[1;33m\u001b[0m\u001b[0m\n",
      "\u001b[1;32m~\\Anaconda3\\lib\\site-packages\\numba\\compiler_lock.py\u001b[0m in \u001b[0;36m_acquire_compile_lock\u001b[1;34m(*args, **kwargs)\u001b[0m\n\u001b[0;32m     30\u001b[0m         \u001b[1;32mdef\u001b[0m \u001b[0m_acquire_compile_lock\u001b[0m\u001b[1;33m(\u001b[0m\u001b[1;33m*\u001b[0m\u001b[0margs\u001b[0m\u001b[1;33m,\u001b[0m \u001b[1;33m**\u001b[0m\u001b[0mkwargs\u001b[0m\u001b[1;33m)\u001b[0m\u001b[1;33m:\u001b[0m\u001b[1;33m\u001b[0m\u001b[1;33m\u001b[0m\u001b[0m\n\u001b[0;32m     31\u001b[0m             \u001b[1;32mwith\u001b[0m \u001b[0mself\u001b[0m\u001b[1;33m:\u001b[0m\u001b[1;33m\u001b[0m\u001b[1;33m\u001b[0m\u001b[0m\n\u001b[1;32m---> 32\u001b[1;33m                 \u001b[1;32mreturn\u001b[0m \u001b[0mfunc\u001b[0m\u001b[1;33m(\u001b[0m\u001b[1;33m*\u001b[0m\u001b[0margs\u001b[0m\u001b[1;33m,\u001b[0m \u001b[1;33m**\u001b[0m\u001b[0mkwargs\u001b[0m\u001b[1;33m)\u001b[0m\u001b[1;33m\u001b[0m\u001b[1;33m\u001b[0m\u001b[0m\n\u001b[0m\u001b[0;32m     33\u001b[0m         \u001b[1;32mreturn\u001b[0m \u001b[0m_acquire_compile_lock\u001b[0m\u001b[1;33m\u001b[0m\u001b[1;33m\u001b[0m\u001b[0m\n\u001b[0;32m     34\u001b[0m \u001b[1;33m\u001b[0m\u001b[0m\n",
      "\u001b[1;32m~\\Anaconda3\\lib\\site-packages\\numba\\dispatcher.py\u001b[0m in \u001b[0;36mcompile\u001b[1;34m(self, sig)\u001b[0m\n\u001b[0;32m    691\u001b[0m \u001b[1;33m\u001b[0m\u001b[0m\n\u001b[0;32m    692\u001b[0m             \u001b[0mself\u001b[0m\u001b[1;33m.\u001b[0m\u001b[0m_cache_misses\u001b[0m\u001b[1;33m[\u001b[0m\u001b[0msig\u001b[0m\u001b[1;33m]\u001b[0m \u001b[1;33m+=\u001b[0m \u001b[1;36m1\u001b[0m\u001b[1;33m\u001b[0m\u001b[1;33m\u001b[0m\u001b[0m\n\u001b[1;32m--> 693\u001b[1;33m             \u001b[0mcres\u001b[0m \u001b[1;33m=\u001b[0m \u001b[0mself\u001b[0m\u001b[1;33m.\u001b[0m\u001b[0m_compiler\u001b[0m\u001b[1;33m.\u001b[0m\u001b[0mcompile\u001b[0m\u001b[1;33m(\u001b[0m\u001b[0margs\u001b[0m\u001b[1;33m,\u001b[0m \u001b[0mreturn_type\u001b[0m\u001b[1;33m)\u001b[0m\u001b[1;33m\u001b[0m\u001b[1;33m\u001b[0m\u001b[0m\n\u001b[0m\u001b[0;32m    694\u001b[0m             \u001b[0mself\u001b[0m\u001b[1;33m.\u001b[0m\u001b[0madd_overload\u001b[0m\u001b[1;33m(\u001b[0m\u001b[0mcres\u001b[0m\u001b[1;33m)\u001b[0m\u001b[1;33m\u001b[0m\u001b[1;33m\u001b[0m\u001b[0m\n\u001b[0;32m    695\u001b[0m             \u001b[0mself\u001b[0m\u001b[1;33m.\u001b[0m\u001b[0m_cache\u001b[0m\u001b[1;33m.\u001b[0m\u001b[0msave_overload\u001b[0m\u001b[1;33m(\u001b[0m\u001b[0msig\u001b[0m\u001b[1;33m,\u001b[0m \u001b[0mcres\u001b[0m\u001b[1;33m)\u001b[0m\u001b[1;33m\u001b[0m\u001b[1;33m\u001b[0m\u001b[0m\n",
      "\u001b[1;32m~\\Anaconda3\\lib\\site-packages\\numba\\dispatcher.py\u001b[0m in \u001b[0;36mcompile\u001b[1;34m(self, args, return_type)\u001b[0m\n\u001b[0;32m     78\u001b[0m             \u001b[1;32mreturn\u001b[0m \u001b[0mretval\u001b[0m\u001b[1;33m\u001b[0m\u001b[1;33m\u001b[0m\u001b[0m\n\u001b[0;32m     79\u001b[0m         \u001b[1;32melse\u001b[0m\u001b[1;33m:\u001b[0m\u001b[1;33m\u001b[0m\u001b[1;33m\u001b[0m\u001b[0m\n\u001b[1;32m---> 80\u001b[1;33m             \u001b[1;32mraise\u001b[0m \u001b[0mretval\u001b[0m\u001b[1;33m\u001b[0m\u001b[1;33m\u001b[0m\u001b[0m\n\u001b[0m\u001b[0;32m     81\u001b[0m \u001b[1;33m\u001b[0m\u001b[0m\n\u001b[0;32m     82\u001b[0m     \u001b[1;32mdef\u001b[0m \u001b[0m_compile_cached\u001b[0m\u001b[1;33m(\u001b[0m\u001b[0mself\u001b[0m\u001b[1;33m,\u001b[0m \u001b[0margs\u001b[0m\u001b[1;33m,\u001b[0m \u001b[0mreturn_type\u001b[0m\u001b[1;33m)\u001b[0m\u001b[1;33m:\u001b[0m\u001b[1;33m\u001b[0m\u001b[1;33m\u001b[0m\u001b[0m\n",
      "\u001b[1;32m~\\Anaconda3\\lib\\site-packages\\numba\\dispatcher.py\u001b[0m in \u001b[0;36m_compile_cached\u001b[1;34m(self, args, return_type)\u001b[0m\n\u001b[0;32m     88\u001b[0m \u001b[1;33m\u001b[0m\u001b[0m\n\u001b[0;32m     89\u001b[0m         \u001b[1;32mtry\u001b[0m\u001b[1;33m:\u001b[0m\u001b[1;33m\u001b[0m\u001b[1;33m\u001b[0m\u001b[0m\n\u001b[1;32m---> 90\u001b[1;33m             \u001b[0mretval\u001b[0m \u001b[1;33m=\u001b[0m \u001b[0mself\u001b[0m\u001b[1;33m.\u001b[0m\u001b[0m_compile_core\u001b[0m\u001b[1;33m(\u001b[0m\u001b[0margs\u001b[0m\u001b[1;33m,\u001b[0m \u001b[0mreturn_type\u001b[0m\u001b[1;33m)\u001b[0m\u001b[1;33m\u001b[0m\u001b[1;33m\u001b[0m\u001b[0m\n\u001b[0m\u001b[0;32m     91\u001b[0m         \u001b[1;32mexcept\u001b[0m \u001b[0merrors\u001b[0m\u001b[1;33m.\u001b[0m\u001b[0mTypingError\u001b[0m \u001b[1;32mas\u001b[0m \u001b[0me\u001b[0m\u001b[1;33m:\u001b[0m\u001b[1;33m\u001b[0m\u001b[1;33m\u001b[0m\u001b[0m\n\u001b[0;32m     92\u001b[0m             \u001b[0mself\u001b[0m\u001b[1;33m.\u001b[0m\u001b[0m_failed_cache\u001b[0m\u001b[1;33m[\u001b[0m\u001b[0mkey\u001b[0m\u001b[1;33m]\u001b[0m \u001b[1;33m=\u001b[0m \u001b[0me\u001b[0m\u001b[1;33m\u001b[0m\u001b[1;33m\u001b[0m\u001b[0m\n",
      "\u001b[1;32m~\\Anaconda3\\lib\\site-packages\\numba\\dispatcher.py\u001b[0m in \u001b[0;36m_compile_core\u001b[1;34m(self, args, return_type)\u001b[0m\n\u001b[0;32m    106\u001b[0m                                       \u001b[0margs\u001b[0m\u001b[1;33m=\u001b[0m\u001b[0margs\u001b[0m\u001b[1;33m,\u001b[0m \u001b[0mreturn_type\u001b[0m\u001b[1;33m=\u001b[0m\u001b[0mreturn_type\u001b[0m\u001b[1;33m,\u001b[0m\u001b[1;33m\u001b[0m\u001b[1;33m\u001b[0m\u001b[0m\n\u001b[0;32m    107\u001b[0m                                       \u001b[0mflags\u001b[0m\u001b[1;33m=\u001b[0m\u001b[0mflags\u001b[0m\u001b[1;33m,\u001b[0m \u001b[0mlocals\u001b[0m\u001b[1;33m=\u001b[0m\u001b[0mself\u001b[0m\u001b[1;33m.\u001b[0m\u001b[0mlocals\u001b[0m\u001b[1;33m,\u001b[0m\u001b[1;33m\u001b[0m\u001b[1;33m\u001b[0m\u001b[0m\n\u001b[1;32m--> 108\u001b[1;33m                                       pipeline_class=self.pipeline_class)\n\u001b[0m\u001b[0;32m    109\u001b[0m         \u001b[1;31m# Check typing error if object mode is used\u001b[0m\u001b[1;33m\u001b[0m\u001b[1;33m\u001b[0m\u001b[1;33m\u001b[0m\u001b[0m\n\u001b[0;32m    110\u001b[0m         \u001b[1;32mif\u001b[0m \u001b[0mcres\u001b[0m\u001b[1;33m.\u001b[0m\u001b[0mtyping_error\u001b[0m \u001b[1;32mis\u001b[0m \u001b[1;32mnot\u001b[0m \u001b[1;32mNone\u001b[0m \u001b[1;32mand\u001b[0m \u001b[1;32mnot\u001b[0m \u001b[0mflags\u001b[0m\u001b[1;33m.\u001b[0m\u001b[0menable_pyobject\u001b[0m\u001b[1;33m:\u001b[0m\u001b[1;33m\u001b[0m\u001b[1;33m\u001b[0m\u001b[0m\n",
      "\u001b[1;32m~\\Anaconda3\\lib\\site-packages\\numba\\compiler.py\u001b[0m in \u001b[0;36mcompile_extra\u001b[1;34m(typingctx, targetctx, func, args, return_type, flags, locals, library, pipeline_class)\u001b[0m\n\u001b[0;32m    970\u001b[0m     pipeline = pipeline_class(typingctx, targetctx, library,\n\u001b[0;32m    971\u001b[0m                               args, return_type, flags, locals)\n\u001b[1;32m--> 972\u001b[1;33m     \u001b[1;32mreturn\u001b[0m \u001b[0mpipeline\u001b[0m\u001b[1;33m.\u001b[0m\u001b[0mcompile_extra\u001b[0m\u001b[1;33m(\u001b[0m\u001b[0mfunc\u001b[0m\u001b[1;33m)\u001b[0m\u001b[1;33m\u001b[0m\u001b[1;33m\u001b[0m\u001b[0m\n\u001b[0m\u001b[0;32m    973\u001b[0m \u001b[1;33m\u001b[0m\u001b[0m\n\u001b[0;32m    974\u001b[0m \u001b[1;33m\u001b[0m\u001b[0m\n",
      "\u001b[1;32m~\\Anaconda3\\lib\\site-packages\\numba\\compiler.py\u001b[0m in \u001b[0;36mcompile_extra\u001b[1;34m(self, func)\u001b[0m\n\u001b[0;32m    388\u001b[0m         \u001b[0mself\u001b[0m\u001b[1;33m.\u001b[0m\u001b[0mlifted\u001b[0m \u001b[1;33m=\u001b[0m \u001b[1;33m(\u001b[0m\u001b[1;33m)\u001b[0m\u001b[1;33m\u001b[0m\u001b[1;33m\u001b[0m\u001b[0m\n\u001b[0;32m    389\u001b[0m         \u001b[0mself\u001b[0m\u001b[1;33m.\u001b[0m\u001b[0mlifted_from\u001b[0m \u001b[1;33m=\u001b[0m \u001b[1;32mNone\u001b[0m\u001b[1;33m\u001b[0m\u001b[1;33m\u001b[0m\u001b[0m\n\u001b[1;32m--> 390\u001b[1;33m         \u001b[1;32mreturn\u001b[0m \u001b[0mself\u001b[0m\u001b[1;33m.\u001b[0m\u001b[0m_compile_bytecode\u001b[0m\u001b[1;33m(\u001b[0m\u001b[1;33m)\u001b[0m\u001b[1;33m\u001b[0m\u001b[1;33m\u001b[0m\u001b[0m\n\u001b[0m\u001b[0;32m    391\u001b[0m \u001b[1;33m\u001b[0m\u001b[0m\n\u001b[0;32m    392\u001b[0m     \u001b[1;32mdef\u001b[0m \u001b[0mcompile_ir\u001b[0m\u001b[1;33m(\u001b[0m\u001b[0mself\u001b[0m\u001b[1;33m,\u001b[0m \u001b[0mfunc_ir\u001b[0m\u001b[1;33m,\u001b[0m \u001b[0mlifted\u001b[0m\u001b[1;33m=\u001b[0m\u001b[1;33m(\u001b[0m\u001b[1;33m)\u001b[0m\u001b[1;33m,\u001b[0m \u001b[0mlifted_from\u001b[0m\u001b[1;33m=\u001b[0m\u001b[1;32mNone\u001b[0m\u001b[1;33m)\u001b[0m\u001b[1;33m:\u001b[0m\u001b[1;33m\u001b[0m\u001b[1;33m\u001b[0m\u001b[0m\n",
      "\u001b[1;32m~\\Anaconda3\\lib\\site-packages\\numba\\compiler.py\u001b[0m in \u001b[0;36m_compile_bytecode\u001b[1;34m(self)\u001b[0m\n\u001b[0;32m    901\u001b[0m         \"\"\"\n\u001b[0;32m    902\u001b[0m         \u001b[1;32massert\u001b[0m \u001b[0mself\u001b[0m\u001b[1;33m.\u001b[0m\u001b[0mfunc_ir\u001b[0m \u001b[1;32mis\u001b[0m \u001b[1;32mNone\u001b[0m\u001b[1;33m\u001b[0m\u001b[1;33m\u001b[0m\u001b[0m\n\u001b[1;32m--> 903\u001b[1;33m         \u001b[1;32mreturn\u001b[0m \u001b[0mself\u001b[0m\u001b[1;33m.\u001b[0m\u001b[0m_compile_core\u001b[0m\u001b[1;33m(\u001b[0m\u001b[1;33m)\u001b[0m\u001b[1;33m\u001b[0m\u001b[1;33m\u001b[0m\u001b[0m\n\u001b[0m\u001b[0;32m    904\u001b[0m \u001b[1;33m\u001b[0m\u001b[0m\n\u001b[0;32m    905\u001b[0m     \u001b[1;32mdef\u001b[0m \u001b[0m_compile_ir\u001b[0m\u001b[1;33m(\u001b[0m\u001b[0mself\u001b[0m\u001b[1;33m)\u001b[0m\u001b[1;33m:\u001b[0m\u001b[1;33m\u001b[0m\u001b[1;33m\u001b[0m\u001b[0m\n",
      "\u001b[1;32m~\\Anaconda3\\lib\\site-packages\\numba\\compiler.py\u001b[0m in \u001b[0;36m_compile_core\u001b[1;34m(self)\u001b[0m\n\u001b[0;32m    888\u001b[0m         \u001b[0mself\u001b[0m\u001b[1;33m.\u001b[0m\u001b[0mdefine_pipelines\u001b[0m\u001b[1;33m(\u001b[0m\u001b[0mpm\u001b[0m\u001b[1;33m)\u001b[0m\u001b[1;33m\u001b[0m\u001b[1;33m\u001b[0m\u001b[0m\n\u001b[0;32m    889\u001b[0m         \u001b[0mpm\u001b[0m\u001b[1;33m.\u001b[0m\u001b[0mfinalize\u001b[0m\u001b[1;33m(\u001b[0m\u001b[1;33m)\u001b[0m\u001b[1;33m\u001b[0m\u001b[1;33m\u001b[0m\u001b[0m\n\u001b[1;32m--> 890\u001b[1;33m         \u001b[0mres\u001b[0m \u001b[1;33m=\u001b[0m \u001b[0mpm\u001b[0m\u001b[1;33m.\u001b[0m\u001b[0mrun\u001b[0m\u001b[1;33m(\u001b[0m\u001b[0mself\u001b[0m\u001b[1;33m.\u001b[0m\u001b[0mstatus\u001b[0m\u001b[1;33m)\u001b[0m\u001b[1;33m\u001b[0m\u001b[1;33m\u001b[0m\u001b[0m\n\u001b[0m\u001b[0;32m    891\u001b[0m         \u001b[1;32mif\u001b[0m \u001b[0mres\u001b[0m \u001b[1;32mis\u001b[0m \u001b[1;32mnot\u001b[0m \u001b[1;32mNone\u001b[0m\u001b[1;33m:\u001b[0m\u001b[1;33m\u001b[0m\u001b[1;33m\u001b[0m\u001b[0m\n\u001b[0;32m    892\u001b[0m             \u001b[1;31m# Early pipeline completion\u001b[0m\u001b[1;33m\u001b[0m\u001b[1;33m\u001b[0m\u001b[1;33m\u001b[0m\u001b[0m\n",
      "\u001b[1;32m~\\Anaconda3\\lib\\site-packages\\numba\\compiler_lock.py\u001b[0m in \u001b[0;36m_acquire_compile_lock\u001b[1;34m(*args, **kwargs)\u001b[0m\n\u001b[0;32m     30\u001b[0m         \u001b[1;32mdef\u001b[0m \u001b[0m_acquire_compile_lock\u001b[0m\u001b[1;33m(\u001b[0m\u001b[1;33m*\u001b[0m\u001b[0margs\u001b[0m\u001b[1;33m,\u001b[0m \u001b[1;33m**\u001b[0m\u001b[0mkwargs\u001b[0m\u001b[1;33m)\u001b[0m\u001b[1;33m:\u001b[0m\u001b[1;33m\u001b[0m\u001b[1;33m\u001b[0m\u001b[0m\n\u001b[0;32m     31\u001b[0m             \u001b[1;32mwith\u001b[0m \u001b[0mself\u001b[0m\u001b[1;33m:\u001b[0m\u001b[1;33m\u001b[0m\u001b[1;33m\u001b[0m\u001b[0m\n\u001b[1;32m---> 32\u001b[1;33m                 \u001b[1;32mreturn\u001b[0m \u001b[0mfunc\u001b[0m\u001b[1;33m(\u001b[0m\u001b[1;33m*\u001b[0m\u001b[0margs\u001b[0m\u001b[1;33m,\u001b[0m \u001b[1;33m**\u001b[0m\u001b[0mkwargs\u001b[0m\u001b[1;33m)\u001b[0m\u001b[1;33m\u001b[0m\u001b[1;33m\u001b[0m\u001b[0m\n\u001b[0m\u001b[0;32m     33\u001b[0m         \u001b[1;32mreturn\u001b[0m \u001b[0m_acquire_compile_lock\u001b[0m\u001b[1;33m\u001b[0m\u001b[1;33m\u001b[0m\u001b[0m\n\u001b[0;32m     34\u001b[0m \u001b[1;33m\u001b[0m\u001b[0m\n",
      "\u001b[1;32m~\\Anaconda3\\lib\\site-packages\\numba\\compiler.py\u001b[0m in \u001b[0;36mrun\u001b[1;34m(self, status)\u001b[0m\n\u001b[0;32m    264\u001b[0m                     \u001b[1;31m# No more fallback pipelines?\u001b[0m\u001b[1;33m\u001b[0m\u001b[1;33m\u001b[0m\u001b[1;33m\u001b[0m\u001b[0m\n\u001b[0;32m    265\u001b[0m                     \u001b[1;32mif\u001b[0m \u001b[0mis_final_pipeline\u001b[0m\u001b[1;33m:\u001b[0m\u001b[1;33m\u001b[0m\u001b[1;33m\u001b[0m\u001b[0m\n\u001b[1;32m--> 266\u001b[1;33m                         \u001b[1;32mraise\u001b[0m \u001b[0mpatched_exception\u001b[0m\u001b[1;33m\u001b[0m\u001b[1;33m\u001b[0m\u001b[0m\n\u001b[0m\u001b[0;32m    267\u001b[0m                     \u001b[1;31m# Go to next fallback pipeline\u001b[0m\u001b[1;33m\u001b[0m\u001b[1;33m\u001b[0m\u001b[1;33m\u001b[0m\u001b[0m\n\u001b[0;32m    268\u001b[0m                     \u001b[1;32melse\u001b[0m\u001b[1;33m:\u001b[0m\u001b[1;33m\u001b[0m\u001b[1;33m\u001b[0m\u001b[0m\n",
      "\u001b[1;32m~\\Anaconda3\\lib\\site-packages\\numba\\compiler.py\u001b[0m in \u001b[0;36mrun\u001b[1;34m(self, status)\u001b[0m\n\u001b[0;32m    255\u001b[0m                 \u001b[1;32mtry\u001b[0m\u001b[1;33m:\u001b[0m\u001b[1;33m\u001b[0m\u001b[1;33m\u001b[0m\u001b[0m\n\u001b[0;32m    256\u001b[0m                     \u001b[0mevent\u001b[0m\u001b[1;33m(\u001b[0m\u001b[1;34m\"-- %s\"\u001b[0m \u001b[1;33m%\u001b[0m \u001b[0mstage_name\u001b[0m\u001b[1;33m)\u001b[0m\u001b[1;33m\u001b[0m\u001b[1;33m\u001b[0m\u001b[0m\n\u001b[1;32m--> 257\u001b[1;33m                     \u001b[0mstage\u001b[0m\u001b[1;33m(\u001b[0m\u001b[1;33m)\u001b[0m\u001b[1;33m\u001b[0m\u001b[1;33m\u001b[0m\u001b[0m\n\u001b[0m\u001b[0;32m    258\u001b[0m                 \u001b[1;32mexcept\u001b[0m \u001b[0m_EarlyPipelineCompletion\u001b[0m \u001b[1;32mas\u001b[0m \u001b[0me\u001b[0m\u001b[1;33m:\u001b[0m\u001b[1;33m\u001b[0m\u001b[1;33m\u001b[0m\u001b[0m\n\u001b[0;32m    259\u001b[0m                     \u001b[1;32mreturn\u001b[0m \u001b[0me\u001b[0m\u001b[1;33m.\u001b[0m\u001b[0mresult\u001b[0m\u001b[1;33m\u001b[0m\u001b[1;33m\u001b[0m\u001b[0m\n",
      "\u001b[1;32m~\\Anaconda3\\lib\\site-packages\\numba\\compiler.py\u001b[0m in \u001b[0;36mstage_nopython_frontend\u001b[1;34m(self)\u001b[0m\n\u001b[0;32m    513\u001b[0m                 \u001b[0mself\u001b[0m\u001b[1;33m.\u001b[0m\u001b[0margs\u001b[0m\u001b[1;33m,\u001b[0m\u001b[1;33m\u001b[0m\u001b[1;33m\u001b[0m\u001b[0m\n\u001b[0;32m    514\u001b[0m                 \u001b[0mself\u001b[0m\u001b[1;33m.\u001b[0m\u001b[0mreturn_type\u001b[0m\u001b[1;33m,\u001b[0m\u001b[1;33m\u001b[0m\u001b[1;33m\u001b[0m\u001b[0m\n\u001b[1;32m--> 515\u001b[1;33m                 self.locals)\n\u001b[0m\u001b[0;32m    516\u001b[0m             \u001b[0mself\u001b[0m\u001b[1;33m.\u001b[0m\u001b[0mtypemap\u001b[0m \u001b[1;33m=\u001b[0m \u001b[0mtypemap\u001b[0m\u001b[1;33m\u001b[0m\u001b[1;33m\u001b[0m\u001b[0m\n\u001b[0;32m    517\u001b[0m             \u001b[0mself\u001b[0m\u001b[1;33m.\u001b[0m\u001b[0mreturn_type\u001b[0m \u001b[1;33m=\u001b[0m \u001b[0mreturn_type\u001b[0m\u001b[1;33m\u001b[0m\u001b[1;33m\u001b[0m\u001b[0m\n",
      "\u001b[1;32m~\\Anaconda3\\lib\\site-packages\\numba\\compiler.py\u001b[0m in \u001b[0;36mtype_inference_stage\u001b[1;34m(typingctx, interp, args, return_type, locals)\u001b[0m\n\u001b[0;32m   1121\u001b[0m             \u001b[0minfer\u001b[0m\u001b[1;33m.\u001b[0m\u001b[0mseed_type\u001b[0m\u001b[1;33m(\u001b[0m\u001b[0mk\u001b[0m\u001b[1;33m,\u001b[0m \u001b[0mv\u001b[0m\u001b[1;33m)\u001b[0m\u001b[1;33m\u001b[0m\u001b[1;33m\u001b[0m\u001b[0m\n\u001b[0;32m   1122\u001b[0m \u001b[1;33m\u001b[0m\u001b[0m\n\u001b[1;32m-> 1123\u001b[1;33m         \u001b[0minfer\u001b[0m\u001b[1;33m.\u001b[0m\u001b[0mbuild_constraint\u001b[0m\u001b[1;33m(\u001b[0m\u001b[1;33m)\u001b[0m\u001b[1;33m\u001b[0m\u001b[1;33m\u001b[0m\u001b[0m\n\u001b[0m\u001b[0;32m   1124\u001b[0m         \u001b[0minfer\u001b[0m\u001b[1;33m.\u001b[0m\u001b[0mpropagate\u001b[0m\u001b[1;33m(\u001b[0m\u001b[1;33m)\u001b[0m\u001b[1;33m\u001b[0m\u001b[1;33m\u001b[0m\u001b[0m\n\u001b[0;32m   1125\u001b[0m         \u001b[0mtypemap\u001b[0m\u001b[1;33m,\u001b[0m \u001b[0mrestype\u001b[0m\u001b[1;33m,\u001b[0m \u001b[0mcalltypes\u001b[0m \u001b[1;33m=\u001b[0m \u001b[0minfer\u001b[0m\u001b[1;33m.\u001b[0m\u001b[0munify\u001b[0m\u001b[1;33m(\u001b[0m\u001b[1;33m)\u001b[0m\u001b[1;33m\u001b[0m\u001b[1;33m\u001b[0m\u001b[0m\n",
      "\u001b[1;32m~\\Anaconda3\\lib\\site-packages\\numba\\typeinfer.py\u001b[0m in \u001b[0;36mbuild_constraint\u001b[1;34m(self)\u001b[0m\n\u001b[0;32m    881\u001b[0m         \u001b[1;32mfor\u001b[0m \u001b[0mblk\u001b[0m \u001b[1;32min\u001b[0m \u001b[0mutils\u001b[0m\u001b[1;33m.\u001b[0m\u001b[0mitervalues\u001b[0m\u001b[1;33m(\u001b[0m\u001b[0mself\u001b[0m\u001b[1;33m.\u001b[0m\u001b[0mblocks\u001b[0m\u001b[1;33m)\u001b[0m\u001b[1;33m:\u001b[0m\u001b[1;33m\u001b[0m\u001b[1;33m\u001b[0m\u001b[0m\n\u001b[0;32m    882\u001b[0m             \u001b[1;32mfor\u001b[0m \u001b[0minst\u001b[0m \u001b[1;32min\u001b[0m \u001b[0mblk\u001b[0m\u001b[1;33m.\u001b[0m\u001b[0mbody\u001b[0m\u001b[1;33m:\u001b[0m\u001b[1;33m\u001b[0m\u001b[1;33m\u001b[0m\u001b[0m\n\u001b[1;32m--> 883\u001b[1;33m                 \u001b[0mself\u001b[0m\u001b[1;33m.\u001b[0m\u001b[0mconstrain_statement\u001b[0m\u001b[1;33m(\u001b[0m\u001b[0minst\u001b[0m\u001b[1;33m)\u001b[0m\u001b[1;33m\u001b[0m\u001b[1;33m\u001b[0m\u001b[0m\n\u001b[0m\u001b[0;32m    884\u001b[0m \u001b[1;33m\u001b[0m\u001b[0m\n\u001b[0;32m    885\u001b[0m     \u001b[1;32mdef\u001b[0m \u001b[0mreturn_types_from_partial\u001b[0m\u001b[1;33m(\u001b[0m\u001b[0mself\u001b[0m\u001b[1;33m)\u001b[0m\u001b[1;33m:\u001b[0m\u001b[1;33m\u001b[0m\u001b[1;33m\u001b[0m\u001b[0m\n",
      "\u001b[1;32m~\\Anaconda3\\lib\\site-packages\\numba\\typeinfer.py\u001b[0m in \u001b[0;36mconstrain_statement\u001b[1;34m(self, inst)\u001b[0m\n\u001b[0;32m   1160\u001b[0m     \u001b[1;32mdef\u001b[0m \u001b[0mconstrain_statement\u001b[0m\u001b[1;33m(\u001b[0m\u001b[0mself\u001b[0m\u001b[1;33m,\u001b[0m \u001b[0minst\u001b[0m\u001b[1;33m)\u001b[0m\u001b[1;33m:\u001b[0m\u001b[1;33m\u001b[0m\u001b[1;33m\u001b[0m\u001b[0m\n\u001b[0;32m   1161\u001b[0m         \u001b[1;32mif\u001b[0m \u001b[0misinstance\u001b[0m\u001b[1;33m(\u001b[0m\u001b[0minst\u001b[0m\u001b[1;33m,\u001b[0m \u001b[0mir\u001b[0m\u001b[1;33m.\u001b[0m\u001b[0mAssign\u001b[0m\u001b[1;33m)\u001b[0m\u001b[1;33m:\u001b[0m\u001b[1;33m\u001b[0m\u001b[1;33m\u001b[0m\u001b[0m\n\u001b[1;32m-> 1162\u001b[1;33m             \u001b[0mself\u001b[0m\u001b[1;33m.\u001b[0m\u001b[0mtypeof_assign\u001b[0m\u001b[1;33m(\u001b[0m\u001b[0minst\u001b[0m\u001b[1;33m)\u001b[0m\u001b[1;33m\u001b[0m\u001b[1;33m\u001b[0m\u001b[0m\n\u001b[0m\u001b[0;32m   1163\u001b[0m         \u001b[1;32melif\u001b[0m \u001b[0misinstance\u001b[0m\u001b[1;33m(\u001b[0m\u001b[0minst\u001b[0m\u001b[1;33m,\u001b[0m \u001b[0mir\u001b[0m\u001b[1;33m.\u001b[0m\u001b[0mSetItem\u001b[0m\u001b[1;33m)\u001b[0m\u001b[1;33m:\u001b[0m\u001b[1;33m\u001b[0m\u001b[1;33m\u001b[0m\u001b[0m\n\u001b[0;32m   1164\u001b[0m             \u001b[0mself\u001b[0m\u001b[1;33m.\u001b[0m\u001b[0mtypeof_setitem\u001b[0m\u001b[1;33m(\u001b[0m\u001b[0minst\u001b[0m\u001b[1;33m)\u001b[0m\u001b[1;33m\u001b[0m\u001b[1;33m\u001b[0m\u001b[0m\n",
      "\u001b[1;32m~\\Anaconda3\\lib\\site-packages\\numba\\typeinfer.py\u001b[0m in \u001b[0;36mtypeof_assign\u001b[1;34m(self, inst)\u001b[0m\n\u001b[0;32m   1231\u001b[0m                                               src=value.name, loc=inst.loc))\n\u001b[0;32m   1232\u001b[0m         \u001b[1;32melif\u001b[0m \u001b[0misinstance\u001b[0m\u001b[1;33m(\u001b[0m\u001b[0mvalue\u001b[0m\u001b[1;33m,\u001b[0m \u001b[1;33m(\u001b[0m\u001b[0mir\u001b[0m\u001b[1;33m.\u001b[0m\u001b[0mGlobal\u001b[0m\u001b[1;33m,\u001b[0m \u001b[0mir\u001b[0m\u001b[1;33m.\u001b[0m\u001b[0mFreeVar\u001b[0m\u001b[1;33m)\u001b[0m\u001b[1;33m)\u001b[0m\u001b[1;33m:\u001b[0m\u001b[1;33m\u001b[0m\u001b[1;33m\u001b[0m\u001b[0m\n\u001b[1;32m-> 1233\u001b[1;33m             \u001b[0mself\u001b[0m\u001b[1;33m.\u001b[0m\u001b[0mtypeof_global\u001b[0m\u001b[1;33m(\u001b[0m\u001b[0minst\u001b[0m\u001b[1;33m,\u001b[0m \u001b[0minst\u001b[0m\u001b[1;33m.\u001b[0m\u001b[0mtarget\u001b[0m\u001b[1;33m,\u001b[0m \u001b[0mvalue\u001b[0m\u001b[1;33m)\u001b[0m\u001b[1;33m\u001b[0m\u001b[1;33m\u001b[0m\u001b[0m\n\u001b[0m\u001b[0;32m   1234\u001b[0m         \u001b[1;32melif\u001b[0m \u001b[0misinstance\u001b[0m\u001b[1;33m(\u001b[0m\u001b[0mvalue\u001b[0m\u001b[1;33m,\u001b[0m \u001b[0mir\u001b[0m\u001b[1;33m.\u001b[0m\u001b[0mArg\u001b[0m\u001b[1;33m)\u001b[0m\u001b[1;33m:\u001b[0m\u001b[1;33m\u001b[0m\u001b[1;33m\u001b[0m\u001b[0m\n\u001b[0;32m   1235\u001b[0m             \u001b[0mself\u001b[0m\u001b[1;33m.\u001b[0m\u001b[0mtypeof_arg\u001b[0m\u001b[1;33m(\u001b[0m\u001b[0minst\u001b[0m\u001b[1;33m,\u001b[0m \u001b[0minst\u001b[0m\u001b[1;33m.\u001b[0m\u001b[0mtarget\u001b[0m\u001b[1;33m,\u001b[0m \u001b[0mvalue\u001b[0m\u001b[1;33m)\u001b[0m\u001b[1;33m\u001b[0m\u001b[1;33m\u001b[0m\u001b[0m\n",
      "\u001b[1;32m~\\Anaconda3\\lib\\site-packages\\numba\\typeinfer.py\u001b[0m in \u001b[0;36mtypeof_global\u001b[1;34m(self, inst, target, gvar)\u001b[0m\n\u001b[0;32m   1328\u001b[0m     \u001b[1;32mdef\u001b[0m \u001b[0mtypeof_global\u001b[0m\u001b[1;33m(\u001b[0m\u001b[0mself\u001b[0m\u001b[1;33m,\u001b[0m \u001b[0minst\u001b[0m\u001b[1;33m,\u001b[0m \u001b[0mtarget\u001b[0m\u001b[1;33m,\u001b[0m \u001b[0mgvar\u001b[0m\u001b[1;33m)\u001b[0m\u001b[1;33m:\u001b[0m\u001b[1;33m\u001b[0m\u001b[1;33m\u001b[0m\u001b[0m\n\u001b[0;32m   1329\u001b[0m         \u001b[1;32mtry\u001b[0m\u001b[1;33m:\u001b[0m\u001b[1;33m\u001b[0m\u001b[1;33m\u001b[0m\u001b[0m\n\u001b[1;32m-> 1330\u001b[1;33m             \u001b[0mtyp\u001b[0m \u001b[1;33m=\u001b[0m \u001b[0mself\u001b[0m\u001b[1;33m.\u001b[0m\u001b[0mresolve_value_type\u001b[0m\u001b[1;33m(\u001b[0m\u001b[0minst\u001b[0m\u001b[1;33m,\u001b[0m \u001b[0mgvar\u001b[0m\u001b[1;33m.\u001b[0m\u001b[0mvalue\u001b[0m\u001b[1;33m)\u001b[0m\u001b[1;33m\u001b[0m\u001b[1;33m\u001b[0m\u001b[0m\n\u001b[0m\u001b[0;32m   1331\u001b[0m         \u001b[1;32mexcept\u001b[0m \u001b[0mTypingError\u001b[0m \u001b[1;32mas\u001b[0m \u001b[0me\u001b[0m\u001b[1;33m:\u001b[0m\u001b[1;33m\u001b[0m\u001b[1;33m\u001b[0m\u001b[0m\n\u001b[0;32m   1332\u001b[0m             if (gvar.name == self.func_id.func_name\n",
      "\u001b[1;32m~\\Anaconda3\\lib\\site-packages\\numba\\typeinfer.py\u001b[0m in \u001b[0;36mresolve_value_type\u001b[1;34m(self, inst, val)\u001b[0m\n\u001b[0;32m   1252\u001b[0m         \u001b[1;32mexcept\u001b[0m \u001b[0mValueError\u001b[0m \u001b[1;32mas\u001b[0m \u001b[0me\u001b[0m\u001b[1;33m:\u001b[0m\u001b[1;33m\u001b[0m\u001b[1;33m\u001b[0m\u001b[0m\n\u001b[0;32m   1253\u001b[0m             \u001b[0mmsg\u001b[0m \u001b[1;33m=\u001b[0m \u001b[0mstr\u001b[0m\u001b[1;33m(\u001b[0m\u001b[0me\u001b[0m\u001b[1;33m)\u001b[0m\u001b[1;33m\u001b[0m\u001b[1;33m\u001b[0m\u001b[0m\n\u001b[1;32m-> 1254\u001b[1;33m         \u001b[1;32mraise\u001b[0m \u001b[0mTypingError\u001b[0m\u001b[1;33m(\u001b[0m\u001b[0mmsg\u001b[0m\u001b[1;33m,\u001b[0m \u001b[0mloc\u001b[0m\u001b[1;33m=\u001b[0m\u001b[0minst\u001b[0m\u001b[1;33m.\u001b[0m\u001b[0mloc\u001b[0m\u001b[1;33m)\u001b[0m\u001b[1;33m\u001b[0m\u001b[1;33m\u001b[0m\u001b[0m\n\u001b[0m\u001b[0;32m   1255\u001b[0m \u001b[1;33m\u001b[0m\u001b[0m\n\u001b[0;32m   1256\u001b[0m     \u001b[1;32mdef\u001b[0m \u001b[0mtypeof_arg\u001b[0m\u001b[1;33m(\u001b[0m\u001b[0mself\u001b[0m\u001b[1;33m,\u001b[0m \u001b[0minst\u001b[0m\u001b[1;33m,\u001b[0m \u001b[0mtarget\u001b[0m\u001b[1;33m,\u001b[0m \u001b[0marg\u001b[0m\u001b[1;33m)\u001b[0m\u001b[1;33m:\u001b[0m\u001b[1;33m\u001b[0m\u001b[1;33m\u001b[0m\u001b[0m\n",
      "\u001b[1;31mTypingError\u001b[0m: Failed in nopython mode pipeline (step: nopython frontend)\n\u001b[1mUntyped global name 'gcd_fast':\u001b[0m \u001b[1m\u001b[1mcannot determine Numba type of <class 'numba.ir.UndefinedType'>\u001b[0m\n\u001b[1m\nFile \"<ipython-input-4-bf6b043b3952>\", line 7:\u001b[0m\n\u001b[1mdef totient_fast(n):\n    <source elided>\n    for i in range(1, n):\n\u001b[1m        if gcd_fast(i, n) == 1:\n\u001b[0m        \u001b[1m^\u001b[0m\u001b[0m\n\u001b[0m"
     ]
    }
   ],
   "source": [
    "@numba.jit('int64(int64)', nopython=True)\n",
    "def totient_fast(n):\n",
    "    '''return the totient of n,\n",
    "        number of postive integers < n which are coprime to n.'''\n",
    "    num = 0\n",
    "    for i in range(1, n):\n",
    "        if gcd_fast(i, n) == 1:\n",
    "            num += 1\n",
    "    return num\n",
    "\n",
    "@numba.vectorize('int64(int64)', nopython= True, target='parallel')\n",
    "def totient_fast_ufunc_par(n):\n",
    "    return totient_fast(n)\n",
    "\n",
    "def totient(n):\n",
    "    '''return the totient of n,\n",
    "        number of postive integers < n which are coprime to n.'''\n",
    "    num = 0\n",
    "    for i in range(1, n):\n",
    "        if gcd_fast(i, n) == 1:\n",
    "            num += 1\n",
    "    return num\n",
    "\n",
    "\n",
    "\n",
    "\n",
    "def my_hash(message, N):\n",
    "    '''Turn message to bits\n",
    "    Then turn into int h'''\n",
    "    return hash(message) % N\n",
    "\n",
    "\n",
    "def modular_inverse(a, n):\n",
    "    '''Solves ax = 1 mod(n) for x in {1,2,3,...,m-1}'''\n",
    "    gcd, x, y = gcd_ext(a, n)\n",
    "    if gcd == 1:\n",
    "        return x % n\n",
    "    else:\n",
    "        return \"gcd not = 1\"\n",
    "\n",
    "def get_primes_composites(n, is_prime_FUN=isprime_basic):\n",
    "    '''returns a numpy array of primes and composites with largest number being n,\n",
    "    is_prime_FUN: which function will be used to identify if a number is prime'''\n",
    "    primes = []\n",
    "    composites = []\n",
    "\n",
    "    for num in range(1, n+1):\n",
    "        if is_prime_FUN(num):\n",
    "            primes.append(num)\n",
    "        else:\n",
    "            composites.append(num)\n",
    "\n",
    "    return np.array(primes), np.array(composites)\n",
    "\n",
    "\n",
    "def primality_test(N, t):\n",
    "    for i in range(0, t):\n",
    "        a = ran.randrange(0, N-1)\n",
    "        if a**(N-1) % N != 1:\n",
    "            return \"composite\"\n",
    "    return \"prime\""
   ]
  },
  {
   "cell_type": "code",
   "execution_count": null,
   "metadata": {},
   "outputs": [],
   "source": [
    "# Tests\n",
    "\n",
    "assert totient(7) == 6\n",
    "assert totient(35) == 24\n",
    "assert totient(5321) == 4992\n",
    "\n",
    "assert max(totient_fast_ufunc_par(np.array([7,35,5321])) - np.array([6,24,4992]))<1e-10\n",
    "\n",
    "assert modular_inverse(15, 7) == 1\n",
    "\n",
    "a = 3487\n",
    "n = 9837\n",
    "b = modular_inverse(a, n)\n",
    "assert (a*b) % n == 1\n",
    "\n",
    "# This test gets negative value originally, but inverse needs to be inbetween {1,2,..,m-1}\n",
    "a = 3231\n",
    "n = 12334\n",
    "assert modular_inverse(a, n) == 11895\n",
    "\n",
    "\n",
    "expected_primes = np.array([2, 3, 5, 7, 11, 13, 17, 19])\n",
    "expected_composites = np.array([1, 4, 6, 8, 9, 10, 12, 14, 15, 16, 18, 20])\n",
    "\n",
    "primes, composites = get_primes_composites(20)\n",
    "assert max(primes - expected_primes) == 0\n",
    "assert max(composites - expected_composites) == 0"
   ]
  },
  {
   "cell_type": "markdown",
   "metadata": {},
   "source": [
    "## Generating primes using Miller Rabin"
   ]
  },
  {
   "cell_type": "markdown",
   "metadata": {},
   "source": [
    "An n bit number is one which requires n bits to be stored, with the most significant bit (the left most bit) being 1. This means the n bit number is in the range $[2^{n-1}, 2^n)$.\n",
    "\n",
    "we need to generate primes of n bit length, the idea is to pick a n bit number and check if it is prime. However, with large values of primes the traditional method of checking if numbers divide the prime doesn't work very fast, if n is prime it has at best a speed of $O(\\sqrt{n})$. \n",
    "\n",
    "However, by using a probabilistic approach to find primes. Large primes can be found. The longer the algorithm is run for the higher the probability of getting a prime is. We will be using the probabilistic method called Miller Rabin."
   ]
  },
  {
   "cell_type": "markdown",
   "metadata": {},
   "source": [
    "### How Miller Rabin Works"
   ]
  },
  {
   "cell_type": "markdown",
   "metadata": {},
   "source": [
    "Let $n$ be prime with $n>2$\n",
    "\n",
    "So we have $n-1$ must be even, this means it can be written as $2^sd$ with $s,d \\in \\mathbb{N}_+$ and $d$ odd.\n",
    "\n",
    "Therefore, we have one of these must be true for each $a\\in \\{2,3,...,n-1\\}$\n",
    "\n",
    "> $a^d \\equiv 1 \\mod{n}$\n",
    "\n",
    "or\n",
    "\n",
    ">$a^{2^rd} \\equiv -1 \\mod{n}$ for $r \\in \\{0,1,2,...,s-1\\}$\n",
    "\n",
    "To prove this we will use Fermat's Little Theorem which states for a prime number $n$ and $a\\in \\mathbb{Z}/n\\mathbb{Z}$.\n",
    "> $a^{n-1} \\equiv 1\\mod{n} \\iff a^{n} \\equiv a \\mod{n}$\n",
    "\n",
    "This can be written as\n",
    ">$a^{n-1} = a^{2^sd}$\n",
    "\n",
    "Then by taking square roots\n",
    ">\\begin{align*}\n",
    "\\sqrt{a^{2^sd}} &\\equiv \\sqrt{1} \\mod{n}\\\\\n",
    "&\\text{ }\\\\\n",
    "a^{2^{s-1}d} &\\equiv +1 \\mod{n} \\\\\n",
    "\\textrm{or}&\\\\\n",
    "a^{2^{s-1}d} &\\equiv -1 \\mod{n}\n",
    "\\end{align*}\n",
    "\n",
    "If it is $+1$ we square root again, when we get the modulo equal to $-1$ we can no longer take any more square roots so that equation is true. Therefore, we get one of the above equations must be true.\n",
    "\n",
    "However, we will be using the contrapositive of the above claim,\n",
    "\n",
    "The contrapositive states,\n",
    "> $(P \\rightarrow Q) \\iff (\\neg{Q} \\rightarrow \\neg{P})$\n",
    "\n",
    "So we get the contrapositive of the above claim is \n",
    "> $a^d \\not\\equiv 1 \\mod{n}$\n",
    "\n",
    "and\n",
    "\n",
    ">$a^{2^rd} \\not\\equiv -1 \\mod{n}$ for $r \\in \\{0,1,2,...,s-1\\}$\n",
    "\n",
    "Then $n$ is not a prime,\n",
    "\n",
    "When $a$ satisfies these equations $a$ is know as a witness for the composition of $n$.\n",
    "\n",
    "When $a$ does not satisfy these equations and $n$ is composite, $a$ is known as a strong liar. This means $n$ is a strong probable prime to base $a$.\n",
    "\n",
    "By randomly picking $a\\in\\{2,3,...,n-1\\}$ multiple times it is unlikely for all of the selected $a$ to be strong liars.\n",
    "\n",
    "This leads to the fact, if $p$ is $prime$, then the Miller Rabin test outputs $prime$. If p is $composite$, the algorithm outputs $composite$ but has a small chance of outputting $prime$."
   ]
  },
  {
   "cell_type": "code",
   "execution_count": null,
   "metadata": {},
   "outputs": [],
   "source": [
    "def random_prime(n_bit, t, trails=500):\n",
    "    '''Returns a uniform n-bit prime, with probability at most 2^(-t) getting a composite,\n",
    "    the higher the trails the less chance of failing to generate a prime but takes longer'''\n",
    "    for i in range(0, trails):\n",
    "        p = np.random.randint(0, 2, n_bit-2)\n",
    "        b = \"\".join(str(i) for i in p)\n",
    "        my_int = int(\"1\" + b + \"1\", 2)  # Want at least n bit and gives odd\n",
    "        if is_prime_miller_rabin(my_int, t):\n",
    "            return my_int\n",
    "    return \"Fail\"\n",
    "\n",
    "\n",
    "def is_prime_miller_rabin(N, t=40):\n",
    "    '''If N is prime, test always outputs True(prime)\n",
    "    If N is composite outputs False(not prime) except with probability at most 2^(-t)'''\n",
    "\n",
    "    if N == 2:\n",
    "        return True  # Prime\n",
    "\n",
    "    if N == 3:\n",
    "        return True  # Prime\n",
    "\n",
    "    if N % 2 == 0:\n",
    "        return False  # Comp\n",
    "\n",
    "    if N < 2:\n",
    "        return False  # Comp\n",
    "\n",
    "    d, s = calc_d_s(N)\n",
    "    for j in range(0, t):\n",
    "        a = ran.randrange(2, N-1)\n",
    "        if is_composite(N, d, s, a):\n",
    "            return False  # Comp\n",
    "    return True  # Prime\n",
    "\n",
    "\n",
    "def is_composite(N, d, s, a):\n",
    "    '''Evaulate a^d != +-1 mod(N), and, a^(d*2^r) != -1 mod(N) for r in {1,2,...,s-1},\n",
    "    However, if output False does not mean prime, it could be a strong liar'''\n",
    "    remain = pow(a, d, N)\n",
    "    if (remain != 1) and (remain != N - 1):\n",
    "        for r in range(1, s):\n",
    "            remain = pow(remain, 2, N)\n",
    "            if remain != N-1:\n",
    "                pass\n",
    "            else:\n",
    "                return False\n",
    "    else:\n",
    "        return False\n",
    "\n",
    "    return True\n",
    "\n",
    "\n",
    "def calc_d_s(N):\n",
    "    s = 0\n",
    "    Num = N - 1\n",
    "    while Num % 2 == 0:\n",
    "        Num //= 2\n",
    "        s += 1\n",
    "    d = Num\n",
    "    return int(d), int(s)"
   ]
  },
  {
   "cell_type": "code",
   "execution_count": null,
   "metadata": {},
   "outputs": [],
   "source": [
    "# Tests\n",
    "assert calc_d_s(71)[0] == 35\n",
    "assert calc_d_s(71)[1] == 1\n",
    "assert calc_d_s(127)[0] == 63\n",
    "assert calc_d_s(127)[1] == 1\n",
    "assert calc_d_s(9627824804082068411)[0] == 4813912402041034205\n",
    "assert calc_d_s(9627824804082068411)[1] == 1\n",
    "assert calc_d_s(203981900391787397947)[0] == 101990950195893698973\n",
    "assert calc_d_s(203981900391787397947)[1] == 1\n",
    "\n",
    "\n",
    "N, d, s = 221, 55, 2\n",
    "# 137 is a witness for compositeness of 221\n",
    "a = 137\n",
    "assert is_composite(N, d, s, a) == True\n",
    "\n",
    "# 174 will lead to 221 being a prime or 174 is a strong liar for 221\n",
    "a = 174\n",
    "assert is_composite(N, d, s, a) == False\n",
    "\n",
    "N, d, s = 71, 35, 1\n",
    "a = 19\n",
    "assert is_composite(N, d, s, a) == False\n",
    "\n",
    "\n",
    "assert is_prime_miller_rabin(203981900391787397947, 40) == True\n",
    "assert is_prime_miller_rabin(-1235, 40) == False\n",
    "assert is_prime_miller_rabin(1, 40) == False\n",
    "assert is_prime_miller_rabin(3, 40) == True\n",
    "\n",
    "# Tests\n",
    "expected_primes = np.array([2, 3, 5, 7, 11, 13, 17, 19])\n",
    "expected_composites = np.array([1, 4, 6, 8, 9, 10, 12, 14, 15, 16, 18, 20])\n",
    "\n",
    "primes, composites = get_primes_composites(20, is_prime_miller_rabin)\n",
    "assert max(primes - expected_primes) == 0\n",
    "assert max(composites - expected_composites) == 0"
   ]
  },
  {
   "cell_type": "code",
   "execution_count": null,
   "metadata": {},
   "outputs": [],
   "source": [
    "def gen_modulas(n_bit):\n",
    "    '''n_bit is the size of the primes you want, the secuirty level.\n",
    "    This will output (N,p,q), N = p*q, p,q are n_bit uniform primes'''\n",
    "\n",
    "    p = \"\"\n",
    "    q = \"\"\n",
    "\n",
    "    while type(p) == str or type(q) == str:\n",
    "        p = random_prime(n_bit, 40)\n",
    "        q = random_prime(n_bit, 40)\n",
    "    N = p*q\n",
    "    return N, p, q\n",
    "\n",
    "\n",
    "def choose_e(phi_n):\n",
    "    e = 2\n",
    "    while True:\n",
    "        if gcd(e, phi_n) == 1:\n",
    "            return e\n",
    "        else:\n",
    "            e += 1\n",
    "\n",
    "\n",
    "def gen_RSA(n_bit):\n",
    "    '''n_bit is the size of the primes you want, the secuirty level.\n",
    "    output, N,e,f, N = p*q, e is relatively prime to phi(N), f solves ef = 1mod(phi(N))'''\n",
    "    N, p, q = gen_modulas(n_bit)\n",
    "    phi_n = (p-1)*(q-1)\n",
    "    e = choose_e(phi_n)\n",
    "    f = modular_inverse(e, phi_n)\n",
    "    return N, e, f"
   ]
  },
  {
   "cell_type": "code",
   "execution_count": null,
   "metadata": {},
   "outputs": [],
   "source": [
    "assert choose_e(448) == 3"
   ]
  },
  {
   "cell_type": "markdown",
   "metadata": {},
   "source": [
    "## The RSA-FDH Signature Scheme"
   ]
  },
  {
   "cell_type": "markdown",
   "metadata": {},
   "source": [
    "This is from the hash and sign paradigm. Where FDH means full domain hash. There are three stages to this scheme: Generation, Sign and Verify\n",
    "+ Generation\n",
    "  - We input the n-bit size of the random uniform primes we want\n",
    "  - This will give us a private key $(N,f)$ and public key $(N,e)$\n",
    "  - Where $N=pq$ and\n",
    "  > $ef \\equiv 1 \\mod{\\phi{N}} $\n",
    "  - A hash function $H$ is generated so all outputs are in $\\{1,2,3,...,N-1\\}$\n",
    "  - The hash function $H$ is part of the public key\n",
    "+ Sign\n",
    "  - We input the private key $(N,f)$ and a message which will be hashed by $H$ into $h$\n",
    "  - So we can compute the $s \\in \\mathbb{Z}$, which is the signature\n",
    "  > $s \\equiv m^d \\pmod{N}$  \n",
    "+ Verify\n",
    "  - We input the public key $(N,e)$ and a message which will be hashed by $H$ into $h\\prime$\n",
    "  - We input $s$ the signature\n",
    "  - Output $1$ which means authenticated if and only if\n",
    "  > $h \\equiv s^e \\pmod{N}$\n",
    "\n",
    "This works as\n",
    "> $s^e \\equiv (h^f)^e \\equiv h^{ef \\mod{\\phi{N}}} \\equiv h^1 \\equiv h\\mod{N}$\n",
    "\n",
    "The reason why this is effective is because calculating $\\phi{N}$ is very difficult, but with extra information $pq=N$ where $p,q \\in$ Primes it makes $\\phi{N}$ easy to calculate, this is know as a trap door. Additionally, the private key can be calculated from knowing the public key and the two primes that make up $N$.\n",
    "\n",
    "Where $\\phi{}$ is the Euler totient function. "
   ]
  },
  {
   "cell_type": "code",
   "execution_count": null,
   "metadata": {},
   "outputs": [],
   "source": [
    "def Generation(n_bit):\n",
    "    '''input: n_bit, size of primes wanted\n",
    "    output: private and public key'''\n",
    "    N, e, f = gen_RSA(n_bit)\n",
    "    private_key = {\"N\": N, \"f\": f}\n",
    "    public_key = {\"N\": N, \"e\": e}\n",
    "    return private_key, public_key\n",
    "\n",
    "\n",
    "def Sign(message, private_key):\n",
    "    h = my_hash(message, private_key[\"N\"])\n",
    "    s = pow(h, private_key[\"f\"], private_key[\"N\"])\n",
    "    return s\n",
    "\n",
    "\n",
    "def Verify(message, s, public_key):\n",
    "    h_prime = my_hash(message, public_key[\"N\"])\n",
    "    h = pow(s, public_key[\"e\"], public_key[\"N\"])\n",
    "\n",
    "    if h_prime == h:\n",
    "        return 1  # Authenticated\n",
    "    else:\n",
    "        return 0  # Intruder"
   ]
  },
  {
   "cell_type": "markdown",
   "metadata": {},
   "source": [
    "### Note, why is $\\phi{(pq)}$ is easy to calculate"
   ]
  },
  {
   "cell_type": "markdown",
   "metadata": {},
   "source": [
    "For large $N$, we have $\\phi{(N)}$ is difficult to calculate. But since $\\phi$ is a multiplicative function we have when $a,b$ are relatively prime ($gcd(a,b)=1$). Then,\n",
    "> $\\phi{(ab)} = \\phi{(a)}\\phi{(b)}$\n",
    "\n",
    "We also have by the definition of the Euler totient function, for all $p\\in primes$\n",
    "> $\\phi{(p)} = p-1$\n",
    "\n",
    "This means if two primes denoted by $p,q$ can be found such that $N=pq$, then $\\phi{(N)}$ can be quickly calculated by\n",
    "> $\\phi{(N)} = \\phi{(p)}\\phi{(q)} = (p-1)(q-1)$\n",
    "\n",
    "\n",
    "Below is a graph of the totient function for the first 500 numbers"
   ]
  },
  {
   "cell_type": "code",
   "execution_count": null,
   "metadata": {},
   "outputs": [],
   "source": [
    "x_prime, x_comp = get_primes_composites(500)\n",
    "\n",
    "y_prime = np.array([totient(x_prime[i]) for i in range(0, len(x_prime))])\n",
    "y_comp = np.array([totient(x_comp[i]) for i in range(0, len(x_comp))])\n",
    "\n",
    "plt.figure(figsize=(14, 6))\n",
    "plt.scatter(x_comp, y_comp, color=\"blue\", label=\"Composites\")\n",
    "plt.scatter(x_prime, y_prime, color=\"red\", label=\"Primes\")\n",
    "plt.title(\"Euler Totient Function\")\n",
    "plt.ylabel(\"Totient\")\n",
    "plt.xlabel(\"Number\")\n",
    "plt.legend(fontsize=\"x-large\")\n",
    "plt.show()"
   ]
  },
  {
   "cell_type": "markdown",
   "metadata": {},
   "source": [
    "Below is also an Euler Totient graph but this time it is calculated with compiled code and on multiple threads thus using all CPU's. This means more numbers can be shown. "
   ]
  },
  {
   "cell_type": "code",
   "execution_count": null,
   "metadata": {},
   "outputs": [],
   "source": [
    "x_prime, x_comp = get_primes_composites(10000, is_prime_FUN=isprime_basic_fast)\n",
    "\n",
    "\n",
    "y_prime = totient_fast_ufunc_par(x_prime)\n",
    "y_comp = totient_fast_ufunc_par(x_comp)\n",
    "\n",
    "plt.figure(figsize=(14, 6))\n",
    "plt.scatter(x_comp, y_comp, color=\"blue\", label=\"Composites\", s = 1)\n",
    "plt.scatter(x_prime, y_prime, color=\"red\", label=\"Primes\", s = 1)\n",
    "plt.title(\"Euler Totient Function\")\n",
    "plt.ylabel(\"Totient\")\n",
    "plt.xlabel(\"Number\")\n",
    "plt.legend(fontsize=\"x-large\")\n",
    "plt.show()"
   ]
  },
  {
   "cell_type": "markdown",
   "metadata": {},
   "source": [
    "### Note, forms of private key"
   ]
  },
  {
   "cell_type": "markdown",
   "metadata": {},
   "source": [
    "If the private key is of the format $(p,q)$ where $N=pq$ given the public key $(N,e)$, the private key can be written in the format $(N,f)$ where $fe \\equiv 1 \\mod{\\phi(N)}$ by the following code"
   ]
  },
  {
   "cell_type": "code",
   "execution_count": null,
   "metadata": {},
   "outputs": [],
   "source": [
    "def convert_to_N_f(prime_private_key, public_key):\n",
    "    '''inputs private key of form two primes and public key\n",
    "    outputs the new private key of form(N,f)'''\n",
    "    p = prime_private_key[\"p\"]\n",
    "    q = prime_private_key[\"q\"]\n",
    "    N = public_key[\"N\"]\n",
    "    e = public_key[\"e\"]\n",
    "\n",
    "    if p*q != N:\n",
    "        return \"The private key does not work with public key\"\n",
    "\n",
    "    phi_N = (p-1)*(q-1)\n",
    "    f = modular_inverse(e, phi_N)\n",
    "    new_private_key = {\"N\": N, \"f\": f}\n",
    "    return new_private_key"
   ]
  },
  {
   "cell_type": "code",
   "execution_count": null,
   "metadata": {},
   "outputs": [],
   "source": [
    "# Tests\n",
    "prime_private_key = {\"p\": 41, \"q\": 61}\n",
    "public_key = {\"N\": 2501, \"e\": 7}\n",
    "private_key = convert_to_N_f(prime_private_key, public_key)\n",
    "assert private_key == {\"N\": 2501, \"f\": 343}"
   ]
  },
  {
   "cell_type": "markdown",
   "metadata": {},
   "source": [
    "## Examples of RSA Signature"
   ]
  },
  {
   "cell_type": "markdown",
   "metadata": {},
   "source": [
    "### Example 1, no intruder"
   ]
  },
  {
   "cell_type": "markdown",
   "metadata": {},
   "source": [
    "Bob wants to know the message he has been sent is from Alice. Therefore, Alice needs to generate private and public keys, sign the message. When Bob receives the message he has to verify the message is from Alice."
   ]
  },
  {
   "cell_type": "code",
   "execution_count": null,
   "metadata": {},
   "outputs": [],
   "source": [
    "message = \"Hello Bob my freind\"\n",
    "# Generate keys with 512 bit primes\n",
    "private_key, public_key = Generation(512)\n",
    "\n",
    "# Alice needs to sign message\n",
    "s = Sign(message, private_key)\n",
    "\n",
    "# s and message are sent to Bob\n",
    "# Bob should also have access to the public key\n",
    "# Bob will now verify Alice sent the message\n",
    "Verification = Verify(message, s, public_key)\n",
    "Verification"
   ]
  },
  {
   "cell_type": "markdown",
   "metadata": {},
   "source": [
    "As can be seen the verification process passed so Bob knows Alice sent the message.\n",
    "\n",
    "Sometimes with very small probability the prime generator will produce a composite number. However, this is fine as then the message will fail the verification process and then the signature process happens again."
   ]
  },
  {
   "cell_type": "markdown",
   "metadata": {},
   "source": [
    "### Example 2, intruder Dave"
   ]
  },
  {
   "cell_type": "markdown",
   "metadata": {},
   "source": [
    "Bob wants to know the message he has been sent is from Alice. And that Dave has not captured and changed the message. Same as before  Alice needs to generate private and public keys, sign the message. When Bob receives the message he has to verify the message is from Alice. If the message fails verification Dave has changed the message. "
   ]
  },
  {
   "cell_type": "code",
   "execution_count": null,
   "metadata": {},
   "outputs": [],
   "source": [
    "message = \"Hello Bob my freind\"\n",
    "# Generate keys with 512 bit primes\n",
    "private_key, public_key = Generation(512)\n",
    "\n",
    "# Alice needs to sign message\n",
    "s = Sign(message, private_key)\n",
    "\n",
    "# s and message are sent to Bob\n",
    "# Bob should also have access to the public key\n",
    "\n",
    "# Dave intercepts the message and changes it\n",
    "message = \"I declare war on Bob\"\n",
    "# Dave sends new message to Bob\n",
    "\n",
    "# Bob will now verify Alice sent the message\n",
    "Verification = Verify(message, s, public_key)\n",
    "Verification"
   ]
  },
  {
   "cell_type": "markdown",
   "metadata": {},
   "source": [
    "The verification failed this means Bob knows that someone has intercepted and changed the message. "
   ]
  },
  {
   "cell_type": "markdown",
   "metadata": {},
   "source": [
    "### Example 3, 6 bit primes with tests and calculations"
   ]
  },
  {
   "cell_type": "markdown",
   "metadata": {},
   "source": [
    "Let the message be hashed to $h$ where $h=15$, we will use 6 bit primes $p=41$ and $q=61$ so we get $N=2501$, we will use the fact that the Euler's totient function is multiplicative and $\\phi{prime} = prime - 1$.\n",
    ">$\\phi{2501} = \\phi{41}\\phi{61} = 40*60 = 2400$"
   ]
  },
  {
   "cell_type": "code",
   "execution_count": null,
   "metadata": {},
   "outputs": [],
   "source": [
    "assert totient(2501) == 2400"
   ]
  },
  {
   "cell_type": "markdown",
   "metadata": {},
   "source": [
    "We will select $e=7$ as $gcd(7,2400)=1$\n",
    "\n",
    "calc by hand show working\n",
    "if test then we get all pass"
   ]
  },
  {
   "cell_type": "code",
   "execution_count": null,
   "metadata": {},
   "outputs": [],
   "source": [
    "assert choose_e(2400) == 7"
   ]
  },
  {
   "cell_type": "markdown",
   "metadata": {},
   "source": [
    "We need to solve for f\n",
    ">\\begin{align*}\n",
    "ef &\\equiv 1 \\mod{\\phi{N}}\\\\\n",
    "7f &\\equiv 1 \\mod{2400}\\\\\n",
    "f &= 343\n",
    "\\end{align*}"
   ]
  },
  {
   "cell_type": "code",
   "execution_count": null,
   "metadata": {},
   "outputs": [],
   "source": [
    "assert modular_inverse(7, 2400) == 343"
   ]
  },
  {
   "cell_type": "markdown",
   "metadata": {},
   "source": [
    "Therefore, we get private key $(N=2501, f=343)$ and public key $(N=2501, e=7)$"
   ]
  },
  {
   "cell_type": "code",
   "execution_count": null,
   "metadata": {},
   "outputs": [],
   "source": [
    "private_key = {\"N\": 2501, \"f\": 343}\n",
    "public_key = {\"N\": 2501, \"e\": 7}\n",
    "message = 15"
   ]
  },
  {
   "cell_type": "markdown",
   "metadata": {},
   "source": [
    "We need to sign the message, the signature $s$\n",
    ">\\begin{align*}\n",
    "s &\\equiv h^f \\mod{N}\\\\\n",
    "s &\\equiv 15^{343} \\mod{2501}\\\\\n",
    "s &= 1053\n",
    "\\end{align*}"
   ]
  },
  {
   "cell_type": "code",
   "execution_count": null,
   "metadata": {},
   "outputs": [],
   "source": [
    "s = Sign(message, private_key)\n",
    "assert s == 1053"
   ]
  },
  {
   "cell_type": "markdown",
   "metadata": {},
   "source": [
    "The message and signature are sent off to the person, the person will verify the message by checking if their $h\\prime = h$.\n",
    "\n",
    "Let us consider the case where the message is not changed.\n",
    "\n",
    ">\\begin{align*}\n",
    "h &\\equiv s^e \\pmod{N}\\\\\n",
    "h &\\equiv 1053^{7} \\pmod{2501}\\\\\n",
    "h &= 15\n",
    "\\end{align*}\n",
    "\n",
    "So since $h\\prime = h$ the message will be verified."
   ]
  },
  {
   "cell_type": "code",
   "execution_count": null,
   "metadata": {},
   "outputs": [],
   "source": [
    "assert Verify(message, s, public_key) == 1"
   ]
  },
  {
   "cell_type": "markdown",
   "metadata": {},
   "source": [
    "This time the same message is sent but a middle man intercepts the message and changes it. Let the new message be hashed to $h\\prime=16$. Therefore, $h\\prime \\neq h$.\n"
   ]
  },
  {
   "cell_type": "code",
   "execution_count": null,
   "metadata": {},
   "outputs": [],
   "source": [
    "message = 16\n",
    "assert Verify(message, s, public_key) == 0"
   ]
  },
  {
   "cell_type": "markdown",
   "metadata": {},
   "source": [
    "The middle man will struggle to forge $s$ as they will struggle to find $f$ as they know $e$ and $N$ but only knowing that information makes solving $ef \\equiv 1 \\mod{\\phi{N}}$ for $f$ difficult for large $N$ as $\\phi{N}$ takes a long time to calculate."
   ]
  },
  {
   "cell_type": "markdown",
   "metadata": {},
   "source": [
    "## Problems with the Plain RSA signature"
   ]
  },
  {
   "cell_type": "markdown",
   "metadata": {},
   "source": [
    "The Plain RSA signature is the same as the RSA-FDH signature but without the hash function $H$. This means only integers in $\\{1,2,...,N-1\\}$ can be sent as the message. With this signature there are a few forms of attacks."
   ]
  },
  {
   "cell_type": "markdown",
   "metadata": {},
   "source": [
    "### A no control of message attack,"
   ]
  },
  {
   "cell_type": "markdown",
   "metadata": {},
   "source": [
    "This attack only requires the public key $(N,e)$, it works as follows. The attacker uniformly picks a signature $s$ where $s\\in\\{1,2,3,...,N-1\\}$. Then calculates the message $h$ where \n",
    ">$h \\equiv s^e \\mod{N}$\n",
    "\n",
    "Therefore, the message $h$ has a valid signature $s$, this is a forgery as no signatures were signed by the owner of the public key. However, the attacker has no control over the messages $h$ that get forged.\n",
    "\n",
    "If this attack is repeated multiple times for different values of the signature $s$ then the attacker can pick a forged message which suits their needs."
   ]
  },
  {
   "cell_type": "markdown",
   "metadata": {},
   "source": [
    "### Forging a signature on an arbitary message"
   ]
  },
  {
   "cell_type": "markdown",
   "metadata": {},
   "source": [
    "Say the attacker wants to forge a message $h\\in\\{1,2,3,...,N-1\\}$ with respect to the public key $(N,e)$, then the attacker picks  $h_1,h_2\\in\\{1,2,3,...,N-1\\}$ which is different from $h$ with\n",
    "> $h \\equiv h_1h_2\\mod{N}$\n",
    "\n",
    "The attacker then needs to obtain valid signatures $s_1, s_2$ for $h_1, h_2$. Then we have $s \\equiv s_1s_2 \\mod{N}$ is a valid signature for $h$. This is because\n",
    ">$s^e \\equiv (s_1s_2)^e \\equiv (h_{1}^{f}h_{2}^{f})^e \\equiv h_1^{fe}h_2^{fe} \\equiv h_1h_2 \\equiv h \\mod{N}$\n",
    "\n",
    "where $f$ is part of the private key, but isn't needed for this to work.\n",
    "\n",
    "This may not seem devastating but it is dangerous to make assumptions about what messages the signer may or may not be willing to sign.\n",
    "\n",
    "Additionally, multiple valid signatures $\\textbf{s} = \\{s_1, s_2, ..., s_q\\}$ and their corresponding messages $\\textbf{h} = \\{h_1,h_2,...,h_q\\}$ can be captured. By using the same principle as above the attacker can obtain a valid signature on any of the $2^q-q$ other messages by taking products of the subset $\\textbf{h}$.\n",
    "\n",
    "Furthermore, one example of getting signatures and messages is when a client wants to connect to a server. If a client uses a signature scheme to authenticate with the server and this is done by the client signing a random message sent by the server. It is easy for a malicious server to ask for a certain message to be signed."
   ]
  },
  {
   "cell_type": "markdown",
   "metadata": {},
   "source": [
    "## Hash Function"
   ]
  },
  {
   "cell_type": "markdown",
   "metadata": {},
   "source": [
    "Let $m$ be a string message and $h$ be a hashed message such that $H(m) = h$\n",
    "\n",
    "This means to prevent these attacks the hash function $H$ must have certain properties.\n",
    "+ $H$ must be hard to invert, this will prevent the \"no control of message attack\". As for each valid signature that is forged it is difficult to find the string message $m$ which corresponds to the hashed message $h$\n",
    "\n",
    "+ $H$ must not have multiplicative relations, that means it is hard to find three messages $m,m_1,m_2$ such that $H(m) = H(m_1)H(m_2)$. This should prevent the \"forgery of an arbitrary message\".\n",
    "\n",
    "+ It must be hard to find collisions for $H$. Since if $H(m_1)=H(m_2)$, then $m_1$ and $m_2$ have the same signature, this means forgery of a non signed message is trivial.\n"
   ]
  },
  {
   "cell_type": "markdown",
   "metadata": {},
   "source": [
    "## Core 6: The Diffie-Hellman Protocol"
   ]
  },
  {
   "cell_type": "markdown",
   "metadata": {},
   "source": [
    "### Sophie Germain Prime\n",
    "\n",
    "First, before discussing the Diffie-Hellman protcol, we will be discussing what a Sophie Germain prime is and why it is useful in many situations for cryptography. Simply a Sophie Germain prime is a prime $q$ such that $p = 2q+1$ is also a prime which is called the complimentary safe prime of the $q$. The complimentary safe prime is very useful due to one of the properties it exhibits, to see this property we look at the prime decomposition of $p-1$.\n",
    "\n",
    "> $p - 1 = (2q + 1) - 1 = 2q$\n",
    "\n",
    "By doing this we already have the prime decompostion of $p-1$, it is simply $2q$. Now if you're wondering why this is useful, we must first discuss primitive roots. \n",
    "\n",
    "A primitive root of a prime $p$ is a value we will call $a$, where $a$ is an integer such that the smallest value $l$, known as the multiplicative order of $a$ relative to $p$, for which,\n",
    "\n",
    "> $a^{l} \\equiv 1mod(p)$\n",
    "\n",
    "is true is:\n",
    "\n",
    "> $l = p-1$\n",
    "\n",
    "It was proven by the German mathmatician Gauss, that all primes have a primitive root and that the amount of primitive roots a prime has is equal to  $\\phi{(p-1)}$, where  $\\phi$ is Eulers totient, so we do not have to worry about a lack of primitive roots. Now a useful fact we can use is that the multiplicative order of $a mod(p)$ will always be a divisior of $p-1$. Thus we have found the use for a Sophie Germain prime, since we know the prime factorization of $p-1$ where $p$ is the complementary safe prime to some Sophie Germain prime $p$, we can use this to easily test if a value $a$ is a primitive root of the complementary safe prime. To do this all we have to do is check if for the safe prime p, any of the following are true:\n",
    "\n",
    ">$a^{1} \\equiv 1mod(p)$\n",
    "\n",
    ">$a^{2} \\equiv 1mod(p)$\n",
    "\n",
    ">$a^{\\frac{(p-1)}{2}} \\equiv 1mod(p)$\n",
    "\n",
    "We only have to check this since we know the multiplicative order of $a mod(p)$ is a divisor of $2q$, so the multiplicative order must be $1,2$ or $q$, hence if none of the above are true, then the multiplicative order is $2q$ which means $a$ is a primitive root of our safe prime. This will get us started on the Diffie-Hellman protocol, so first we write a function to get Sophie Germain primes, and their complementary safe primes along with a function to get primitive roots for complementary safe primes."
   ]
  },
  {
   "cell_type": "code",
   "execution_count": 6,
   "metadata": {},
   "outputs": [
    {
     "ename": "NameError",
     "evalue": "name 'random_prime' is not defined",
     "output_type": "error",
     "traceback": [
      "\u001b[1;31m---------------------------------------------------------------------------\u001b[0m",
      "\u001b[1;31mNameError\u001b[0m                                 Traceback (most recent call last)",
      "\u001b[1;32m<ipython-input-6-291cd60d6e36>\u001b[0m in \u001b[0;36m<module>\u001b[1;34m\u001b[0m\n\u001b[0;32m      5\u001b[0m         \u001b[1;32mif\u001b[0m \u001b[0mis_prime_miller_rabin\u001b[0m\u001b[1;33m(\u001b[0m\u001b[1;33m(\u001b[0m\u001b[1;36m2\u001b[0m\u001b[1;33m*\u001b[0m\u001b[0mp\u001b[0m\u001b[1;33m)\u001b[0m\u001b[1;33m+\u001b[0m\u001b[1;36m1\u001b[0m\u001b[1;33m,\u001b[0m\u001b[0mt\u001b[0m \u001b[1;33m=\u001b[0m \u001b[1;36m40\u001b[0m\u001b[1;33m)\u001b[0m\u001b[1;33m:\u001b[0m \u001b[1;31m#Check if the random prime is Sophie germain\u001b[0m\u001b[1;33m\u001b[0m\u001b[1;33m\u001b[0m\u001b[0m\n\u001b[0;32m      6\u001b[0m             \u001b[1;32mreturn\u001b[0m \u001b[0mp\u001b[0m\u001b[1;33m,\u001b[0m \u001b[1;33m(\u001b[0m\u001b[1;36m2\u001b[0m\u001b[1;33m*\u001b[0m\u001b[0mp\u001b[0m\u001b[1;33m)\u001b[0m\u001b[1;33m+\u001b[0m\u001b[1;36m1\u001b[0m\u001b[1;33m\u001b[0m\u001b[1;33m\u001b[0m\u001b[0m\n\u001b[1;32m----> 7\u001b[1;33m \u001b[0mPublicprimes\u001b[0m \u001b[1;33m=\u001b[0m \u001b[0msgrandprime\u001b[0m\u001b[1;33m(\u001b[0m\u001b[1;36m256\u001b[0m\u001b[1;33m,\u001b[0m\u001b[1;36m40\u001b[0m\u001b[1;33m)\u001b[0m\u001b[1;33m\u001b[0m\u001b[1;33m\u001b[0m\u001b[0m\n\u001b[0m\u001b[0;32m      8\u001b[0m \u001b[1;33m\u001b[0m\u001b[0m\n\u001b[0;32m      9\u001b[0m \u001b[1;33m\u001b[0m\u001b[0m\n",
      "\u001b[1;32m<ipython-input-6-291cd60d6e36>\u001b[0m in \u001b[0;36msgrandprime\u001b[1;34m(n_bit, t)\u001b[0m\n\u001b[0;32m      2\u001b[0m     \u001b[1;34m\"\"\"This function returns a Sophie Germain prime, and its complementary safe prime.\"\"\"\u001b[0m\u001b[1;33m\u001b[0m\u001b[1;33m\u001b[0m\u001b[0m\n\u001b[0;32m      3\u001b[0m     \u001b[1;32mwhile\u001b[0m \u001b[1;32mTrue\u001b[0m\u001b[1;33m:\u001b[0m \u001b[1;31m#Keeps searching untill we find a Sophie Germain prime\u001b[0m\u001b[1;33m\u001b[0m\u001b[1;33m\u001b[0m\u001b[0m\n\u001b[1;32m----> 4\u001b[1;33m         \u001b[0mp\u001b[0m \u001b[1;33m=\u001b[0m \u001b[0mrandom_prime\u001b[0m\u001b[1;33m(\u001b[0m\u001b[0mn_bit\u001b[0m\u001b[1;33m,\u001b[0m \u001b[0mt\u001b[0m\u001b[1;33m,\u001b[0m \u001b[0mtrails\u001b[0m \u001b[1;33m=\u001b[0m \u001b[1;36m500\u001b[0m\u001b[1;33m)\u001b[0m \u001b[1;31m# We generate random primes here\u001b[0m\u001b[1;33m\u001b[0m\u001b[1;33m\u001b[0m\u001b[0m\n\u001b[0m\u001b[0;32m      5\u001b[0m         \u001b[1;32mif\u001b[0m \u001b[0mis_prime_miller_rabin\u001b[0m\u001b[1;33m(\u001b[0m\u001b[1;33m(\u001b[0m\u001b[1;36m2\u001b[0m\u001b[1;33m*\u001b[0m\u001b[0mp\u001b[0m\u001b[1;33m)\u001b[0m\u001b[1;33m+\u001b[0m\u001b[1;36m1\u001b[0m\u001b[1;33m,\u001b[0m\u001b[0mt\u001b[0m \u001b[1;33m=\u001b[0m \u001b[1;36m40\u001b[0m\u001b[1;33m)\u001b[0m\u001b[1;33m:\u001b[0m \u001b[1;31m#Check if the random prime is Sophie germain\u001b[0m\u001b[1;33m\u001b[0m\u001b[1;33m\u001b[0m\u001b[0m\n\u001b[0;32m      6\u001b[0m             \u001b[1;32mreturn\u001b[0m \u001b[0mp\u001b[0m\u001b[1;33m,\u001b[0m \u001b[1;33m(\u001b[0m\u001b[1;36m2\u001b[0m\u001b[1;33m*\u001b[0m\u001b[0mp\u001b[0m\u001b[1;33m)\u001b[0m\u001b[1;33m+\u001b[0m\u001b[1;36m1\u001b[0m\u001b[1;33m\u001b[0m\u001b[1;33m\u001b[0m\u001b[0m\n",
      "\u001b[1;31mNameError\u001b[0m: name 'random_prime' is not defined"
     ]
    }
   ],
   "source": [
    "def sgrandprime(n_bit,t): \n",
    "    \"\"\"This function returns a Sophie Germain prime, and its complementary safe prime.\"\"\"\n",
    "    while True: #Keeps searching untill we find a Sophie Germain prime\n",
    "        bits = False\n",
    "        while bits == False:\n",
    "            p = random_prime(n_bit-1, t, trails = 500) # We generate random primes here\n",
    "            if (2*p+1).bit_length() == n_bit:#We make sure the safe prime is of the desired bit length\n",
    "                bits = True \n",
    "        if is_prime_miller_rabin((2*p)+1,t = 40): #Check if the random prime is Sophie germain\n",
    "            return p, (2*p)+1\n",
    "\n",
    "\n",
    "\n",
    "def safe_primitive_root(publicp):\n",
    "    \"\"\"This will return a primitive root for a given complementary safe prime\n",
    "    for some Sophier Germain prime\"\"\"\n",
    "    q = publicp[1] #Safe prime\n",
    "    p = publicp[0] #Sophie germain prime\n",
    "    b = 2 #Start checking for primitive roots starting from a value of 2\n",
    "    primitive = False\n",
    "    while not primitive: #Keeps searching untill primitive root is found\n",
    "        if b%q == 1 or (b*b)%q == 1 or pow(b,p,q) == 1:   #if any of these are true, b is not a primitive root\n",
    "            b += 1\n",
    "            continue\n",
    "        else: #if none are true, then b is a primitive root.\n",
    "            primitive = True\n",
    "    return b\n",
    "    \n"
   ]
  },
  {
   "cell_type": "markdown",
   "metadata": {},
   "source": [
    "### The Deffie-Hellman Protocol - First Steps\n",
    "\n",
    "Before discussing the first steps of the Diffie-Hellman protocol, we will discuss what the protocol does. This protocol allows two or more parties (In cryptography the first two parties are usually referred to as Alice and Bob) to generate a shared secret key that each party knows, and has access to, without ever having to communicate the key in any form. The importance here is that the secret key is not communicated between parties, because if it is, the key is then suseptible to being observed by an outside party. Thus from this it is easy to see why the Deffie-Hellman protocol is so useful. An example of one of the main uses of this is that it allows parties say Alice and Bob to send encrypted messages to each other using the secret key and then decrypt these message using the same secret key. Hence if an outside party was to observe one of these messages, without the secret key they will not be able to read the message (at least without knowing how they encrypted the message and any potential cracks for this method).\n",
    "\n",
    "So how does the Diffie-Hellman protocol work? First we will look at the two party situation, and we will call these parties Alice and Bob. To begin we need both Alice and Bob to have access to a very large safe prime $p$ (when discussing this protcol we will be using a 256 bit prime) and a primtive root of the prime we will call $g$, however unlike the secret key, $p$ and $g$ can be made public for anyone to have access to. Now when dicussing how the protocol works, you may soon notice that the safe prime Bob and Alice make public does not need to be a safe prime or even a prime at all and the primitive root can be any number for the protocol to work. Despite this we use a safe prime and a primitive root because hackers can calculate discrete logarithms (for example by using the Pohlig-Hellman protocol) to work out the secret key, however the algorithms hackers use is much faster if the number we make public here is not a safe prime, thus for security purposes we use a safe prime and one of the primitive roots for this prime. Hence by using our \"sgrandprime\" function above, we can generate a safe prime for Alice and Bob to use.\n",
    "\n",
    "Now in the next step we want Alice and Bob to generate a private key for themselves, they can not tell each other about these keys nor anyone else, this is for them and only them to know and have access to. This private key is a random number, for alice we will call her private key $a$ and for Bob $b$, however the larger the private key again the better as it makes it harder for hackers to get access to the secret key so again we generate 256 bit random numbers. \n",
    "\n",
    "Below we will generate the safe prime $p$ and primitive root $g$ using the functions from before, also we will make a function to generate our the private keys $a$ and $b$."
   ]
  },
  {
   "cell_type": "code",
   "execution_count": null,
   "metadata": {},
   "outputs": [],
   "source": [
    "\n",
    "def Private_keys(n):\n",
    "    \"\"\"This function simply\"\"\"\n",
    "    keys = []\n",
    "    for i in range (0,n):\n",
    "        bits = False\n",
    "        while bits == False:\n",
    "            x = ran.SystemRandom().getrandbits(256)\n",
    "            if x.bit_length() == 256:\n",
    "                keys.append(x)\n",
    "                bits = True\n",
    "    return keys\n",
    "\n",
    "Publicprimes = sgrandprime(256,40)#Generate the primes to be used\n",
    "p = Publicprimes[1]\n",
    "g = safe_primitive_root(Publicprimes) # Get the primitive root of p\n",
    "keys = Private_keys(2) #Generate the private keys for Alice and Bob (In a real scenorio, they will generate their key alone.)\n",
    "a = keys[0]\n",
    "b = keys[1]"
   ]
  },
  {
   "cell_type": "markdown",
   "metadata": {},
   "source": [
    "### The Diffie-Hellman protocol - Generating Secret Key\n",
    "\n",
    "Once Alice and Bob have their private keys, their next step is to generate their public keys. We will call the public key Alice generates $A$ and Bobs $B$. To generate these public keys we do the following calculations:\n",
    "\n",
    ">$A = g^{a}mod(p)$\n",
    "\n",
    ">$B = g^{b}mod(p)$\n",
    "\n",
    "After we complete these calculations, we now have the public keys for Alice and Bob. The next step is for Alice to send her public key $A$ to Bob, and for Bob to send $B$ to Alice. Though this seems like a compromising step for a protocol based around security, for a hacker to use the public keys to get the private keys it is very difficult because $p$ is a safe prime and $g$ is a primitive root for $p$. By using these numbers a hacker has a very small amount of attack vectors when trying to find the private keys.\n",
    "\n",
    "Once Alice has Bobs public key and Bob has Alices, we calculate the secret key that we will now call $S$. When calculating the secret key this must be done seperately by both Bob and Alice in private as to not let anyone gain access to the secret key. For Alice to generate the $S$ she must do the following calculation:\n",
    "\n",
    ">$S = B^{a}$\n",
    "\n",
    "and Bob must generate $S$ by calculating:\n",
    "\n",
    ">$S = A^{b}$\n",
    "\n",
    "This at first look may not be entirely obvious as to why the calculation Alice does calculates the same secret key as Bobs calculations. However this is due to simple properties of modulo exponents, as you can see below:\n",
    "\n",
    ">$S = B^{a} = (g^{b}mod(p))^{a} = g^{ba}mod(p) = (g^{a}mod(p))^{b} = A^{b} = S$\n",
    "\n",
    "However the calculations above only apply to a two party system. Luckily for us this generalizes quite simply for an $n$ party system. As before we have our safe prime $p$ and a primitive root of $p$ we call $g$, and all $n$ parties must generate their own private key in the same way as before and their relative public key in the same way as before. The only difference for an $n$ party system comes when calculating the secret key $S$. To do this let us label the n private keys generated as below:\n",
    "\n",
    "> $P_{1}, P_{2}, ... , P_{n}$\n",
    "\n",
    "Now all n parties have already calculated their relative public keys, which are as below:\n",
    "\n",
    "> $g^{P_{1}}mod(p), g^{P_{2}}mod(p), ... , g^{P_{n}}mod(p)$\n",
    "\n",
    "We want our final secret key $S$ to be of the same form before, meaning we have $g^{x}mod(p)$, where $x$ is the product of all private keys involved. Hence to achieve this in an n party case, we first label each party $1,2,..n$ and the $i^{th}$ party must send their public key to the $(i+1)^{th}$ party also party $n$ must give his public key to party $1$. Then each member must generate their new public key as below:\n",
    "\n",
    "> $(g^{P_{n}}mod(p))^{P_{1}}, g^{P_{1}}mod(p))^{P_{2}}, ... , g^{P_{n-1}}mod(p))^{P_{n}}$\n",
    "\n",
    "Once this has been completed, we again get each party to send their new public key to the party ahead of them. We repeat this process a total of $n-1$ times, and the final calculation will give each party the secret key $S$ which for the $i{th}$ party will be of the form:\n",
    "\n",
    "> $(g^{P_{i-1}P_{i-2}...P_{1}P_{n}...P_{i+1}}mod(p))^{P_{i}} = g^{P_{1}P_{2}...P_{n}}mod(p) = S$\n",
    "\n",
    "After all parties have the secret key $S$, they can send each other messages encrypted using the key $S$ and decrypt the messages they receive from one another. Below are the functions we use to achieve this."
   ]
  },
  {
   "cell_type": "code",
   "execution_count": null,
   "metadata": {},
   "outputs": [],
   "source": [
    "def Public_Keys(primiroot,Privates,Prime):\n",
    "    \"\"\"This function completed the neccessary calculation to calculate\n",
    "    the Public keys for given private keys and safe prime\"\"\"\n",
    "    n = len(Privates) #So we know how many Public keys we must generate \n",
    "    Publics = []\n",
    "    for i in range (0,n):\n",
    "        Publics.append(pow(primiroot,Privates[i],Prime)) #Calculation required to generate public keys\n",
    "    return Publics \n",
    "\n",
    "Publics = Public_Keys(g,keys,p) #Generate the public keys for Alice and Bob \n",
    "\n",
    "A = Publics[0]\n",
    "B = Publics[1]\n",
    "\n",
    "def Secret_key_steps(publics, privates, generator):\n",
    "    \"\"\"This function completes all neccessary public key swaps between parties\n",
    "    so that they all end up with the same Secret Key\"\"\"\n",
    "    if str(publics).isdigit() == True: #This is to check if \"publics\" is one single public key (and not a list of many public\n",
    "                                       # keys for the general n parties) and if yes then we make \"publics\" a list of\n",
    "                                       # one key only\n",
    "        publics = [publics]\n",
    "    if str(privates).isdigit() == True:#This is to check if \"privates\" is one single private key (and not a list of many private\n",
    "                                       # keys for the general n parties) and if yes then we make \"privates\" a list of\n",
    "                                       # one key only\n",
    "        privates = [privates]\n",
    "    n = len(publics)\n",
    "    if n == 1: #if n == 1 this means it is one person using the public key they have been given to calculate the next public\n",
    "               # key or the final secret key, so we simple calclate this below.\n",
    "        return(pow(publics[0], privates[0], generator))\n",
    "    for m in range(0,n-1):  #For a party of length n, only have to complete this process n-1 times as mentioned above\n",
    "        Temp = [] #Stores the current public key\n",
    "        for i in range(0,n):\n",
    "            Temp.append(pow(publics[(i-1)%n], privates[i], generator) )#Calculates current public key\n",
    "        for j in range(0,n):    \n",
    "            publics[j] = Temp[j]\n",
    "    Final = Temp #After the final repeated is complete \"Temp\" will be equal to the secret key\n",
    "    return Final\n",
    "\n",
    "Alice_S = Secret_key_steps(B,a,p)#Alices calculation for the Secret key\n",
    "Bob_S = Secret_key_steps(A,b,p)#Bobs calculation for the Secret key\n",
    "\n",
    "print(\"Alice calculates the secret key to be\",Alice_S,\", and Bob calculates the secret key to be\", Bob_S, \". Hence they both have the same secret key\")"
   ]
  },
  {
   "cell_type": "markdown",
   "metadata": {},
   "source": [
    "### Alice and Bob - Sending a Message\n",
    "\n",
    "Now that Alice and Bob have both calculated the secret key independently without ever communicating the key with one anoher, they both now have access to a key which they can use to encrypt and decrypt messages they send to each other. Below is an example of how they can do this.\n"
   ]
  },
  {
   "cell_type": "code",
   "execution_count": null,
   "metadata": {},
   "outputs": [],
   "source": [
    "#Below is an example of Alice encrypting a message using the Vigenere cipher using the calculated secret key\n",
    "Alice_message = Vigenere_cipher_ext(\"Hello Bob, I'm sending this message to you with the hopes that you have calculated the secret key, so that we can now communicate in private\", str(Alice_S), \"encrypt\")\n",
    "#Below is how Bob will decrypt Alices message using the secret key\n",
    "Bob_decryption = Vigenere_cipher_ext(Alice_message, str(Bob_S), \"decrypt\")\n",
    "\n",
    "print(\"Thus Alice has encrypted her message using the key, to get the encrypted message - \", Alice_message,\".Bob now decrypts this message using the secret key to get -\", Bob_decryption)"
   ]
  },
  {
   "cell_type": "markdown",
   "metadata": {},
   "source": [
    "### Three Party Example\n",
    "\n",
    "As I mentioned above, the functions we created were generalized for n people, so to carry out this protocol for a 3 party scenorio is very simple. Below is an example of our code working for 3 partys."
   ]
  },
  {
   "cell_type": "code",
   "execution_count": null,
   "metadata": {},
   "outputs": [],
   "source": [
    "#Example of this being used to generate a secret key for a 3 party system\n",
    "\n",
    "threekeys = Private_keys(3) #These will be the 3 private keys for our parties, however they would in a real scenorio\n",
    "                            #be computed alone on each persons computer\n",
    "\n",
    "Three_Alice_private = threekeys[0]\n",
    "Three_Bob_private = threekeys[1]\n",
    "Three_Charlie_private = threekeys[2]\n",
    "\n",
    "Three_Public = Public_Keys(pr,threekeys,p) #Now they all calculate their intial public key \n",
    "\n",
    "Three_Alice_public1 = Three_Public[0] \n",
    "Three_Bob_public1 = Three_Public[1]\n",
    "Three_Charlie_public1 = Three_Public[2]\n",
    "\n",
    "General_function_keys = Secret_key_steps(Three_Public,threekeys,p) #This does the final step where each public key is passed to each party\n",
    "                                                   #as many times as is needed for all parties to have the same secret key\n",
    "                                                   #however again, this would in a real scenorio be done multiple times \n",
    "                                                   #alone.\n",
    "\n",
    "#However if we were to do this manually alone as in a real scenorio, we will follow what each party must do below:\n",
    "\n",
    "#First each party must pass their public key to the next part in the line\n",
    "\n",
    "#Below each party must now calculate their second public key and pass this to the next party to calculate the secret key\n",
    "\n",
    "Three_Alice_public2 = Secret_key_steps(Three_Charlie_public1,Three_Alice_private,p)\n",
    "Three_Bob_public2 = Secret_key_steps(Three_Alice_public1,Three_Bob_private,p)\n",
    "Three_Charlie_public2 = Secret_key_steps(Three_Bob_public1,Three_Charlie_private,p)\n",
    "\n",
    "#Now as this is only a 3 party scenorio, we have one final step to calculate the Secret key below:\n",
    "\n",
    "Three_Alice_S = Secret_key_steps(Three_Charlie_public2,Three_Alice_private,p)\n",
    "Three_Bob_S = Secret_key_steps(Three_Alice_public2,Three_Bob_private,p)\n",
    "Three_Charlie_S = Secret_key_steps(Three_Bob_public2,Three_Charlie_private,p)\n",
    "\n",
    "print(\"The keys we generated using our general function were:\")\n",
    "print(General_function_keys)\n",
    "print(\"The independelty calculated keys were:\")\n",
    "print(\"Alices S -\", Three_Alice_S)\n",
    "print(\"Bobs S -\", Three_Bob_S)\n",
    "print(\"Charlies S -\", Three_Charlie_S)\n",
    "print(\"As you can see their all equal, whever we use our general function, or do it indepently\")"
   ]
  },
  {
   "cell_type": "markdown",
   "metadata": {},
   "source": [
    "### The Diffie-Hellman protocol - Function notes\n",
    "\n",
    "The functions we have created above are generalized functions as I mentioned before, hence they are good for show casing how the protocol works for both a 2 party system and for an n party system. However as mentioned when implementing the The Diffie-Hellman protocol in a real world scenorio these calculations should be done in private for one person. This means you should not use the functions as I have above to calculate private keys, public keys and the secret key for each party in the system on one computer. Instead you will use the functions to only calculate everything for yourself in privacy, as if everything was done from one computer, this would negate the entire process."
   ]
  },
  {
   "cell_type": "markdown",
   "metadata": {},
   "source": [
    "## Mark Part"
   ]
  },
  {
   "cell_type": "markdown",
   "metadata": {},
   "source": [
    "Solving Discrete Logarithm Problem Using Brute Force"
   ]
  },
  {
   "cell_type": "code",
   "execution_count": null,
   "metadata": {},
   "outputs": [],
   "source": [
    "Private_keys(1)"
   ]
  },
  {
   "cell_type": "code",
   "execution_count": null,
   "metadata": {},
   "outputs": [],
   "source": [
    "def discrete_logarithm_brute(a, N, z):\n",
    "    \"\"\"Solves the discrete logarithm problem\n",
    "\n",
    "    Solves z = a^b mod(N) for b, by using a brute force method \n",
    "\n",
    "    Parameters\n",
    "    ----------\n",
    "    a : int\n",
    "    N : int\n",
    "    z : int\n",
    "\n",
    "    Returns\n",
    "    -------\n",
    "    int\n",
    "        Solves z = a^b mod(N) for b,\n",
    "    \"\"\"\n",
    "\n",
    "    b = 1\n",
    "    while True:\n",
    "        if pow(a, b, N) == z:\n",
    "            return b\n",
    "        b += 1\n",
    "\n",
    "\n",
    "def discrete_logarithm_brute_better(a, N, z):\n",
    "    \"\"\"Solves the discrete logarithm problem\n",
    "\n",
    "    Solves z = a^b mod(N) for b, by using a brute force method \n",
    "\n",
    "    Parameters\n",
    "    ----------\n",
    "    a : int\n",
    "    N : int\n",
    "    z : int\n",
    "\n",
    "    Returns\n",
    "    -------\n",
    "    int\n",
    "        Solves z = a^b mod(N) for b,\n",
    "    \"\"\"\n",
    "    b = 1\n",
    "    a_new = a\n",
    "    while True:\n",
    "        if a_new == z:\n",
    "            return b\n",
    "        a_new = (a_new*a) % N\n",
    "        b += 1\n",
    "\n",
    "@numba.jit('int64(int64,int64,int64)', nopython = True)\n",
    "def discrete_logarithm_brute_better_fast(a, N, z):\n",
    "    \"\"\"Solves the discrete logarithm problem\n",
    "\n",
    "    Solves z = a^b mod(N) for b, by using a brute force method, uses a complied version\n",
    "\n",
    "    Parameters\n",
    "    ----------\n",
    "    a : int\n",
    "    N : int\n",
    "    z : int\n",
    "\n",
    "    Returns\n",
    "    -------\n",
    "    int\n",
    "        Solves z = a^b mod(N) for b,\n",
    "    \"\"\"\n",
    "    b = 1\n",
    "    a_new = a\n",
    "    while True:\n",
    "        if a_new == z:\n",
    "            return b\n",
    "        a_new = (a_new*a) % N\n",
    "        b += 1\n"
   ]
  },
  {
   "cell_type": "code",
   "execution_count": null,
   "metadata": {},
   "outputs": [],
   "source": [
    "# Tests\n",
    "assert discrete_logarithm_brute(15, 2342, 167) == 37\n",
    "assert discrete_logarithm_brute(5, 352, 133) == 25\n",
    "assert discrete_logarithm_brute(3452, 123456, 39104) == 543\n",
    "\n",
    "# Tests\n",
    "assert discrete_logarithm_brute_better(15, 2342, 167) == 37\n",
    "assert discrete_logarithm_brute_better(5, 352, 133) == 25\n",
    "assert discrete_logarithm_brute_better(3452, 123456, 39104) == 543\n",
    "\n",
    "# Tests\n",
    "assert discrete_logarithm_brute_better_fast(15, 2342, 167) == 37\n",
    "assert discrete_logarithm_brute_better_fast(5, 352, 133) == 25\n",
    "assert discrete_logarithm_brute_better_fast(3452, 123456, 39104) == 543"
   ]
  },
  {
   "cell_type": "code",
   "execution_count": null,
   "metadata": {},
   "outputs": [],
   "source": [
    "%timeit discrete_logarithm_brute(3452, 123456, 39104)\n",
    "%timeit discrete_logarithm_brute_better(3452, 123456, 39104)\n",
    "%timeit discrete_logarithm_brute_better_fast(3452, 123456, 39104)"
   ]
  },
  {
   "cell_type": "code",
   "execution_count": null,
   "metadata": {},
   "outputs": [],
   "source": [
    "#discrete_logarithm_brute(2,4,3)\n",
    "#Will run forever"
   ]
  },
  {
   "cell_type": "code",
   "execution_count": null,
   "metadata": {},
   "outputs": [],
   "source": [
    "def gen_public_key(n_bit):\n",
    "    \"\"\"generates public information\n",
    "\n",
    "    Generates then calculates public information\n",
    "\n",
    "    Parameters\n",
    "    ----------\n",
    "    n_bit : int\n",
    "        The size of the p prime wanted\n",
    "\n",
    "    Returns\n",
    "    -------\n",
    "    dict\n",
    "        The public information\n",
    "        A : solution to g^a mod(p)\n",
    "        g : primitive root\n",
    "        p : large n_bit prime\n",
    "\n",
    "    \"\"\"\n",
    "    q, p = sgrandprime(n_bit, 40)\n",
    "    g = safe_primitive_root([q, p])\n",
    "    a = Private_keys(1, n_bit)[0]\n",
    "    A = pow(g, a, p)\n",
    "    #print(\"a: \" + str(a) + \" A: \" + str(A) + \" g: \" + str(g) + \" p: \" + str(p))\n",
    "    return {\"A\": A, \"g\": g, \"p\": p}\n",
    "\n",
    "\n",
    "def time_func(Func, num_samples, Func_parameters = [[]]):\n",
    "    \"\"\"Times the function\n",
    "\n",
    "    Parameters\n",
    "    ----------\n",
    "    Func : function\n",
    "        Function that is being timed \n",
    "    num_samples : int\n",
    "        Number of times Func will run\n",
    "    Func_parameters : 2D array\n",
    "        Each array in 2D array are the parameters of the Function Func, if num_samples\n",
    "        greater than number of arrays then it will loop over\n",
    "    \n",
    "    Returns\n",
    "    -------\n",
    "    tuple\n",
    "        mean_time,\n",
    "        std_time\n",
    "        \n",
    "        \n",
    "    Examples\n",
    "    --------\n",
    "    time_func(decompose, 4, [[3226322291321]])   \n",
    "    #will time decompose function 4 times with parameter 3226322291321\n",
    "       \n",
    "    time_func(decompose, 3, [[3304575252941], [1954377239027], [2964234252593]])   \n",
    "    #will time decompose function 3 times with a differenc parameter each time\n",
    "    \n",
    "    \n",
    "    \"\"\"\n",
    "    times = np.zeros(num_samples)\n",
    "    loopover = len(Func_parameters)\n",
    "    for i in range(num_samples):\n",
    "        temp_start_time = time.time()\n",
    "        Func(*Func_parameters[i%loopover])\n",
    "        temp_finish_time = time.time()\n",
    "        times[i] = (temp_finish_time - temp_start_time)\n",
    "    \n",
    "    return times.mean(), times.std()\n",
    "    "
   ]
  },
  {
   "cell_type": "code",
   "execution_count": null,
   "metadata": {},
   "outputs": [],
   "source": [
    "def format_input_parameters(public_keys, my_order = [\"g\", \"p\", \"A\"]):\n",
    "    \"\"\"Formats parameters for the function\n",
    "\n",
    "\n",
    "    Parameters\n",
    "    ----------\n",
    "    public_keys : array of dict\n",
    "\n",
    "    my_oreder : array of str\n",
    "        What order is wanted for the output\n",
    "\n",
    "    Returns\n",
    "    -------\n",
    "    2D array\n",
    "        The parameters for the funciton\n",
    "\n",
    "    \"\"\"\n",
    "\n",
    "    formated_public_keys = []\n",
    "    \n",
    "    for public_key in public_keys:\n",
    "        temp_public_key = []\n",
    "        for key in my_order:\n",
    "            temp_public_key.append(public_key[key])\n",
    "        formated_public_keys.append(temp_public_key)\n",
    "\n",
    "    return formated_public_keys\n",
    "\n"
   ]
  },
  {
   "cell_type": "code",
   "execution_count": null,
   "metadata": {},
   "outputs": [],
   "source": [
    "# Test format_input_parameters\n",
    "input_public_keys = [{\"A\": 307, \"g\": 5, \"p\": 863},\n",
    "                     {\"g\": 5, \"A\": 844, \"p\": 983},\n",
    "                     {\"p\": 563, \"g\": 2, \"A\": 83}]\n",
    "expected_format = [[5, 863, 307],\n",
    "                   [5, 983, 844],\n",
    "                   [2, 563, 83]]\n",
    "assert format_input_parameters(input_public_keys) == expected_format"
   ]
  },
  {
   "cell_type": "code",
   "execution_count": null,
   "metadata": {
    "code_folding": []
   },
   "outputs": [],
   "source": [
    "start = 6\n",
    "stop = 28\n",
    "num_samples = 10\n",
    "\n",
    "mean_times = []\n",
    "std_times = []\n",
    "\n",
    "for n_bit in range(start, stop):\n",
    "    public_keys = [gen_public_key(n_bit) for i in range(num_samples)]\n",
    "\n",
    "    input_parameters = format_input_parameters(public_keys)\n",
    "    temp_mean, temp_std = time_func(\n",
    "        discrete_logarithm_brute_better_fast, num_samples, input_parameters)\n",
    "    mean_times.append(temp_mean)\n",
    "    std_times.append(temp_std)\n",
    "\n",
    "print(\"discrete_logarithm_brute(g, p, A)\")\n",
    "\n",
    "my_time_data = {\"Mean time\": mean_times,\n",
    "                \"Std time\": std_times}\n",
    "time_data_frame = pd.DataFrame(data=my_time_data)\n",
    "time_data_frame.index = range(start, stop)\n",
    "time_data_frame.index.name = \"bit size of p and a\"\n",
    "\n",
    "print(time_data_frame)"
   ]
  },
  {
   "cell_type": "code",
   "execution_count": null,
   "metadata": {},
   "outputs": [],
   "source": [
    "mean_times"
   ]
  },
  {
   "cell_type": "code",
   "execution_count": null,
   "metadata": {},
   "outputs": [],
   "source": [
    "std_times"
   ]
  },
  {
   "cell_type": "code",
   "execution_count": null,
   "metadata": {},
   "outputs": [],
   "source": [
    "# Silly example data\n",
    "#bp_x = np.linspace(0, 2*np.pi, num=40, endpoint=True)\n",
    "#bp_y = np.sin(bp_x)\n",
    "\n",
    "\n",
    "# Make the plot\n",
    "plt.plot(range(start,stop),mean_times, linewidth=3, linestyle=\"--\",\n",
    "         color=\"blue\", label=r\"Collected data\")\n",
    "plt.xlabel(r\"$n$ bit size of p and a\")\n",
    "plt.ylabel(r\" Mean time (seconds)\")\n",
    "plt.title(r\"Discrete Logarithm Brute Force Time\")\n",
    "#plt.xlim(0, 2*np.pi)\n",
    "#plt.ylim(-1.1, 1.1)\n",
    "plt.legend(loc=\"upper left\")\n",
    "plt.show()\n",
    "\n"
   ]
  },
  {
   "cell_type": "code",
   "execution_count": null,
   "metadata": {},
   "outputs": [],
   "source": [
    "q, p = sgrandprime(10, 40)\n",
    "g = safe_primitive_root([q, p])\n",
    "a = Private_keys(1, 10)[0]\n",
    "print(a)\n",
    "print(p)\n",
    "A = pow(g, a, p)\n",
    "print(A)\n",
    "# A = g^a mod(p)\n",
    "\n",
    "discrete_logarithm_brute(g, p, A)"
   ]
  },
  {
   "cell_type": "code",
   "execution_count": null,
   "metadata": {
    "deletable": false,
    "editable": false,
    "run_control": {
     "frozen": true
    }
   },
   "outputs": [],
   "source": [
    "# File save\n",
    "# Will be frozen so can't run when montoring\n",
    "start = 6\n",
    "stop = 70\n",
    "num_samples = 25\n",
    "\n",
    "\n",
    "file_name = \"BruteForceDiscreteLogData.csv\"\n",
    "\n",
    "\n",
    "for n_bit in range(start, stop):\n",
    "    public_keys = [gen_public_key(n_bit) for i in range(num_samples)]\n",
    "\n",
    "    input_parameters = format_input_parameters(public_keys)\n",
    "    temp_mean, temp_std = time_func(\n",
    "        discrete_logarithm_brute, num_samples, input_parameters)\n",
    "\n",
    "    string_to_append = str(n_bit) + \", \"\n",
    "    string_to_append += str(temp_mean) + \", \"\n",
    "    string_to_append += str(temp_std) + \", \"\n",
    "    string_to_append += str(num_samples) + \"\\n\"\n",
    "    brute_force_file = open(file_name, \"a\")\n",
    "    brute_force_file.write(string_to_append)\n",
    "    brute_force_file.close()"
   ]
  },
  {
   "cell_type": "code",
   "execution_count": null,
   "metadata": {},
   "outputs": [],
   "source": []
  },
  {
   "cell_type": "code",
   "execution_count": null,
   "metadata": {},
   "outputs": [],
   "source": []
  },
  {
   "cell_type": "code",
   "execution_count": null,
   "metadata": {},
   "outputs": [],
   "source": []
  },
  {
   "cell_type": "code",
   "execution_count": null,
   "metadata": {},
   "outputs": [],
   "source": []
  }
 ],
 "metadata": {
  "kernelspec": {
   "display_name": "Python 3",
   "language": "python",
   "name": "python3"
  },
  "language_info": {
   "codemirror_mode": {
    "name": "ipython",
    "version": 3
   },
   "file_extension": ".py",
   "mimetype": "text/x-python",
   "name": "python",
   "nbconvert_exporter": "python",
   "pygments_lexer": "ipython3",
   "version": "3.7.4"
  },
  "toc": {
   "base_numbering": 1,
   "nav_menu": {},
   "number_sections": true,
   "sideBar": true,
   "skip_h1_title": false,
   "title_cell": "Table of Contents",
   "title_sidebar": "Contents",
   "toc_cell": false,
   "toc_position": {
    "height": "calc(100% - 180px)",
    "left": "10px",
    "top": "150px",
    "width": "389.198px"
   },
   "toc_section_display": true,
   "toc_window_display": false
  },
  "varInspector": {
   "cols": {
    "lenName": 16,
    "lenType": 16,
    "lenVar": 40
   },
   "kernels_config": {
    "python": {
     "delete_cmd_postfix": "",
     "delete_cmd_prefix": "del ",
     "library": "var_list.py",
     "varRefreshCmd": "print(var_dic_list())"
    },
    "r": {
     "delete_cmd_postfix": ") ",
     "delete_cmd_prefix": "rm(",
     "library": "var_list.r",
     "varRefreshCmd": "cat(var_dic_list()) "
    }
   },
   "position": {
    "height": "616.667px",
    "left": "989.333px",
    "right": "20px",
    "top": "124px",
    "width": "350px"
   },
   "types_to_exclude": [
    "module",
    "function",
    "builtin_function_or_method",
    "instance",
    "_Feature"
   ],
   "window_display": false
  }
 },
 "nbformat": 4,
 "nbformat_minor": 2
}
