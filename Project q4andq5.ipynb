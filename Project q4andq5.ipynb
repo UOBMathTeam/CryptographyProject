{
 "cells": [
  {
   "cell_type": "code",
   "execution_count": 5,
   "metadata": {},
   "outputs": [],
   "source": [
    "import numpy as np\n",
    "import random as ran\n",
    "import matplotlib.pyplot as plt\n",
    "from random import SystemRandom, randint\n",
    "from miller_rabin import is_prime\n",
    "from time import process_time   \n",
    "import math"
   ]
  },
  {
   "cell_type": "markdown",
   "metadata": {},
   "source": [
    "## Core 4: Decompose Function"
   ]
  },
  {
   "cell_type": "markdown",
   "metadata": {},
   "source": [
    "### How Does the Decompose Function Work?\n",
    "\n",
    "The decompose function is using trial division in order to find the factors of a composite integer $N$. We find the smallest factor $p$ of our input $N$ and then divide our $N$ by $p$ to find the next factors of this new number. We iterate this until the number we get to through divisions is equal to $1$."
   ]
  },
  {
   "cell_type": "markdown",
   "metadata": {},
   "source": [
    "### Let's Try an Example with $N = 899$\n",
    "\n",
    "Firstly, we find the smallest factor of $899$ and we do this with our smallest_factor function. This finds the smallest factor of $899$ by finding the remainder when dividing $899$ with each increasing integer starting from $2$. Once the remainder of this division is equal to $0$, we return the value which we divided $899$ by and in this case, it would be $29$.\n",
    "\n",
    "We create a new entry in our dictionary and store this factor here.\n",
    "\n",
    "Next we compute $899$ divided by its smallest factor. This is equivalent to $\\frac{899}{29} = 31$.\n",
    "\n",
    "We again find the smallest factor of $31$ and since this is prime, it returns $31$ and we again create a new entry and add it into our dictionary to store with $29$. Now, we divide the smallest factor of $31$ with $31$ and we clearly get $1$ and this is where we return the dictionary of factors for $899$."
   ]
  },
  {
   "cell_type": "code",
   "execution_count": 19,
   "metadata": {},
   "outputs": [
    {
     "data": {
      "text/plain": [
       "dict_keys([2, 5])"
      ]
     },
     "execution_count": 19,
     "metadata": {},
     "output_type": "execute_result"
    }
   ],
   "source": [
    "def decompose(n):\n",
    "    \"\"\"\n",
    "    Generates a dictionary representing the prime decomposition.\n",
    "    I have slightly modified this function just to include a counter for how many operations the function carries out \n",
    "    for each n. This is to analyse the time complexity of the function.\n",
    "    \"\"\"\n",
    "    factors={}\n",
    "    current_number=n\n",
    "    count1 = 0                                #introducing a counter\n",
    "    while current_number > 1:\n",
    "        p=smallest_factor(current_number)[0]\n",
    "        count1 += smallest_factor(current_number)[1]    #increment the count by the number of operations the smallest_factor function has to carry out for the current number.\n",
    "        if p in factors.keys():                 #if p is not a new factor, increase the power\n",
    "            factors[p]+=1             \n",
    "        else:\n",
    "            factors[p]=1                           #if p is a new factor, create a new entry\n",
    "        current_number = current_number//p\n",
    "        count1 += 1                              #increment the count by 1 for each time we are in the while loop\n",
    "    return factors,count1\n",
    "\n",
    "def smallest_factor(n):\n",
    "    \"\"\"\n",
    "    Returns the smallest factor of a positive integer n, which isn't 1.\n",
    "    This function has been modified to introduce a counter to better analyse the time complexity of the decompose \n",
    "    function; we use this function in the decompose function.\n",
    "    \"\"\"\n",
    "    sqrt=n**0.5\n",
    "    i=2\n",
    "    count = 0\n",
    "    while i<=sqrt:\n",
    "        if n%i==0:\n",
    "            count += 1                         #increment the count by 1 for each time we are in the while loop\n",
    "            return i, count\n",
    "        i+=1\n",
    "        count += 1\n",
    "    return n,count  \n",
    "\n",
    "\n",
    "\n",
    "def random_prime(n_bit, t, trails = 500):\n",
    "    '''Returns a uniform n-bit prime, with probability at most 2^(-t) getting a composite,\n",
    "    the higher the trails the less chance of failing to generate a prime but takes longer'''\n",
    "    for i in range(0, trails):\n",
    "        p = np.random.randint(0,2,n_bit-2)\n",
    "        b = \"\".join(str(i) for i in p)\n",
    "        my_int = int(\"1\" + b + \"1\", 2) #Want at least n bit and gives odd        \n",
    "        if is_prime_miller_rabin(my_int, t):\n",
    "            return my_int\n",
    "    return \"Fail\"\n",
    "\n",
    "def is_prime_miller_rabin(N,t = 40):\n",
    "    '''If N is prime, test always outputs True(prime)\n",
    "    If N is composite outputs False(not prime) except with probability at most 2^(-t)'''\n",
    "    \n",
    "    if N == 2:\n",
    "        return True # Prime\n",
    "    \n",
    "    if N == 3:\n",
    "        return True # Prime\n",
    "    \n",
    "    if N % 2 == 0:\n",
    "        return False # Comp\n",
    "    \n",
    "    if N < 2:\n",
    "        return False # Comp\n",
    "    \n",
    "    d, s = calc_d_s(N)\n",
    "    for j in range(0,t):\n",
    "        a = ran.randrange(2,N-1)\n",
    "        if is_composite(N, d, s, a):\n",
    "            return False #Comp\n",
    "    return True #Prime\n",
    "\n",
    "def calc_d_s(N):\n",
    "    s = 0\n",
    "    Num = N - 1\n",
    "    while Num%2 == 0:\n",
    "        Num //= 2\n",
    "        s += 1\n",
    "    d = Num\n",
    "    return int(d), int(s)\n",
    "\n",
    "def is_composite(N, d, s, a):\n",
    "    '''Evaulate a^d != +-1 mod(N), and, a^(d*2^r) != -1 mod(N) for r in {1,2,...,s-1},\n",
    "    However, if output False does not mean prime, it could be a strong liar'''\n",
    "    remain = pow(a, d, N)\n",
    "    if (remain != 1) and (remain != N - 1):\n",
    "        for r in range(1,s):\n",
    "            remain = pow(remain, 2, N)\n",
    "            if remain != N-1:\n",
    "                pass\n",
    "            else:\n",
    "                return False    \n",
    "    else:\n",
    "        return False\n",
    "    \n",
    "    return True"
   ]
  },
  {
   "cell_type": "code",
   "execution_count": 20,
   "metadata": {},
   "outputs": [],
   "source": [
    "#Tests\n",
    "\n",
    "assert smallest_factor(10)[1] == 1           #checking the count is 1, it should be since 10 is an even number\n",
    "assert smallest_factor(5)[1] == 1            #checking the count is 1, should be since sqrt(5) < 3 so cycles once\n",
    "assert smallest_factor(15)[1] == 2           #the count should be 2 since it cycles through the loop twice\n",
    "\n",
    "assert decompose(10)[1] == 4.   #this holds because we go through the while loop twice since 10 has 2 factors and each factor has to only go through loop in smallest_factor function once."
   ]
  },
  {
   "cell_type": "markdown",
   "metadata": {},
   "source": [
    "### Code for Generating $N = pq$ where $p,q$ are $k$ bit Primes "
   ]
  },
  {
   "cell_type": "code",
   "execution_count": 21,
   "metadata": {},
   "outputs": [],
   "source": [
    "def generate_N(k_bit,n,verbose = False):\n",
    "    '''\n",
    "    Takes k and n as inputs where k is how many bits the random primes, p and q are. The input n is how many N = p*q \n",
    "    we generate. This function returns an n-sized list of N's (p*q's).\n",
    "    We have verbose as an input for our tests below to check that indeed N = p*q.\n",
    "    This function will only generate N's where k is less than 32 bits because otherwise, we would experience an\n",
    "    integer overflow error. However, since we are only using this function for k up to 27, this is not an issue in our\n",
    "    case.\n",
    "    '''\n",
    "    \n",
    "    alist = ([])\n",
    "    for i in range(2*n):\n",
    "        alist.append(random_prime(k_bit, 40))      #we append 2n random k_bit primes to our empty list\n",
    "    x = np.array_split(alist,n)                 #we split this list into pairs of k_bit primes\n",
    "    blist = ([])\n",
    "    for j in range(0,n):\n",
    "        blist.append(np.prod(x[j]))             #we compute the product of each pair of k_bit primes and append them to another empty list\n",
    "    if verbose == True:                         #if we want to, we have the option of returning the pair of primes as well as the product of them\n",
    "        return np.array(blist),x                        #this is for our checks below\n",
    "    else:\n",
    "        return np.array(blist).astype(np.int64)\n",
    "      \n",
    "\n",
    "def generate_sampleN(a,b,c):\n",
    "    '''\n",
    "    Takes a,b,c as inputs where a is the smallest a bit p and q random primes we generate to produce N=p*q and b is \n",
    "    the largest b bit pand q random primes we generate to produce N=p*q. The input c tells the function how many N's\n",
    "    to produce for each bit size. \n",
    "    This function returns a b - a + 1 dimensional array of N's for each bit size between a and b.\n",
    "    '''\n",
    "    if b >= a:                   #this must hold for the function to run \n",
    "        bignumbers = ([])\n",
    "        for p in range(a,b+1):\n",
    "            bignumbers.append(generate_N(p,c))   #append c number of N=pq where p and q are primes of bit size between a and b for each bit size\n",
    "        return np.array(bignumbers)         #returns an b-a+1 dimensional array of N's for each p,q of bit size between a and b\n",
    "    else:\n",
    "        return 'Error: Second input must be greater than the first input.'   #error message if b<a\n",
    "    \n"
   ]
  },
  {
   "cell_type": "code",
   "execution_count": 22,
   "metadata": {},
   "outputs": [],
   "source": [
    "#Tests\n",
    "assert len(generate_N(5,1)) == 1             #Checking the final input gives the number of N's generated\n",
    "assert len(generate_N(31,5)) == 5\n",
    "\n",
    "a = (generate_N(5,1,True))                   #Checking N = p*q\n",
    "assert np.product(a[1]) == a[0]\n",
    "b = (generate_N(7,5,True))\n",
    "for i in range(5):\n",
    "    assert np.product(b[1][i]) == b[0][i]\n",
    "    \n",
    "assert len(generate_sampleN(2,5,6)) == 5-2+1     #Checking this function generates a b-a+1 dimensional array of N's for each bit size between a and b\n",
    "assert len(generate_sampleN(3,9,11)[5]) == 11    #Checking each sample of N's generated for each bit size betwen a and b has length c\n",
    "for j in range(8-4+1):\n",
    "    assert len(generate_sampleN(4,8,13)[j]) == 13  \n",
    "    \n",
    "assert generate_sampleN(3,2,5) == 'Error: Second input must be greater than the first input.' #Checking error message\n",
    "\n"
   ]
  },
  {
   "cell_type": "markdown",
   "metadata": {},
   "source": [
    "### Finding the Time Complexity\n",
    "\n",
    "To find the time complexity of the decompose function, I will plot a graph and table of the average decompose run time for increasing bit sizes, as well as a graph and table of the number of operations (count) executed by the decompose function for increasing bit sizes and see what the relationship is.\n",
    "\n",
    "\n",
    "### Justification of Sample Size\n",
    "\n",
    "I have chosen to generate a sample of $N's$ where $p$ and $q$ are between $10$ and $27$ bit random primes because otherwise if they were longer, it would take a very long time for the average decompose time to run. I have also chosen a sample size of $4$ for each $N$ so I am able to find an average from a decently sized sample as well as so the average decompose time doesn't take too long to run.\n",
    "\n",
    "### Average Decompose Run Times\n",
    "\n",
    "Below is a table and a graph displaying the average decompose times for these $N's$."
   ]
  },
  {
   "cell_type": "code",
   "execution_count": 23,
   "metadata": {},
   "outputs": [],
   "source": [
    "def avg_times(a,b,c,func):\n",
    "    samples = generate_sampleN(a,b,c)\n",
    "    sample_size = c\n",
    "\n",
    "    start = []\n",
    "    end = []\n",
    "    total_time = []\n",
    "    average_time = []\n",
    "    for i in range(b-a+1):\n",
    "        start.append(process_time())           \n",
    "        for n in samples[i]:\n",
    "            func(n)\n",
    "        end.append(process_time())  \n",
    "\n",
    "    for j in range(b-a+1):\n",
    "        total_time.append(end[j] - start[j])\n",
    "    for k in range(b-a+1):\n",
    "        average_time.append(total_time[k] / sample_size)\n",
    "    \n",
    "    return average_time"
   ]
  },
  {
   "cell_type": "code",
   "execution_count": 24,
   "metadata": {},
   "outputs": [
    {
     "name": "stdout",
     "output_type": "stream",
     "text": [
      "bit_size of N   decompose(N) time\n",
      "=============   ===========================\n",
      "10                    0.004285499999998166\n",
      "11                    0.007515999999998968\n",
      "12                    0.00950950000000006 \n",
      "13                    0.018683499999998077\n",
      "14                    0.03976300000000066 \n",
      "15                    0.0854444999999977  \n",
      "16                    0.14445849999999893 \n",
      "17                    0.3894590000000022  \n",
      "18                    0.7121094999999968  \n",
      "19                    1.0763630000000006  \n",
      "20                    2.837890999999999   \n",
      "21                    6.018038499999996   \n",
      "22                    9.807804499999996   \n",
      "23                    21.439370999999994  \n",
      "24                    43.233329           \n",
      "25                    80.01552500000001   \n",
      "26                    142.757945          \n",
      "27                    377.6618805         \n"
     ]
    }
   ],
   "source": [
    "decompose_times = avg_times(10,27,4,decompose)\n",
    "\n",
    "print(\"bit_size of N   decompose(N) time\")\n",
    "print(\"=============   ===========================\")\n",
    "for n in range(len(decompose_times)):\n",
    "    decompose_times1 = str(decompose_times[n])\n",
    "    y = n+10\n",
    "    print(\"{:7s}               {:20s}\".format(str(y),decompose_times1))\n"
   ]
  },
  {
   "cell_type": "markdown",
   "metadata": {},
   "source": [
    "### Average Number of Operations in Decompose Function\n",
    "\n",
    "Below is a table of the average number of operations which the decompose runs for increasing bit sizes."
   ]
  },
  {
   "cell_type": "code",
   "execution_count": 25,
   "metadata": {},
   "outputs": [],
   "source": [
    "def avg_operations(a,b,c,func):\n",
    "    samples = generate_sampleN(a,b,c)\n",
    "    sample_size = c\n",
    "\n",
    "    operations = []\n",
    "    total_operations = []\n",
    "    average_operations = []\n",
    "    for i in range(b-a+1):\n",
    "        for n in samples[i]:\n",
    "            operations.append(func(n)[1])\n",
    "        \n",
    "    split_operations = np.array_split(operations,b-a+1)\n",
    "    for j in range(b-a+1):\n",
    "        total_operations.append(np.sum(split_operations[j]))\n",
    "    for k in range(b-a+1):\n",
    "        average_operations.append(total_operations[k]/c)\n",
    "    return average_operations"
   ]
  },
  {
   "cell_type": "code",
   "execution_count": 26,
   "metadata": {},
   "outputs": [
    {
     "name": "stdout",
     "output_type": "stream",
     "text": [
      "bit_size of p and q   Average number of operations in decompose(N)\n",
      "===================   ============================================\n",
      "10                    747.5               \n",
      "11                    1521.0              \n",
      "12                    2830.0              \n",
      "13                    4921.5              \n",
      "14                    10159.25            \n",
      "15                    24608.75            \n",
      "16                    43749.0             \n",
      "17                    88251.5             \n",
      "18                    165861.75           \n",
      "19                    353592.75           \n",
      "20                    741128.25           \n",
      "21                    1390529.75          \n",
      "22                    2731520.0           \n",
      "23                    5130087.5           \n",
      "24                    10921547.5          \n",
      "25                    23225687.25         \n",
      "26                    47495833.25         \n",
      "27                    92566927.25         \n"
     ]
    }
   ],
   "source": [
    "decompose_ops = avg_operations(10,27,4,decompose)\n",
    "\n",
    "print(\"bit_size of p and q   Average number of operations in decompose(N)\")\n",
    "print(\"===================   ============================================\")\n",
    "for n in range(len(decompose_ops)):\n",
    "    decompose_ops1 = str(decompose_ops[n])\n",
    "    y = n+10\n",
    "    print(\"{:7s}               {:20s}\".format(str(y),decompose_ops1))"
   ]
  },
  {
   "cell_type": "code",
   "execution_count": 27,
   "metadata": {},
   "outputs": [
    {
     "data": {
      "image/png": "[encoded data removed]",
      "text/plain": [
       "<Figure size 432x288 with 2 Axes>"
      ]
     },
     "metadata": {
      "needs_background": "light"
     },
     "output_type": "display_data"
    }
   ],
   "source": [
    "x = range(10,len(decompose_times)+10)\n",
    "\n",
    "fig, (ax1, ax2) = plt.subplots(1,2)\n",
    "ax1.plot(x,decompose_times)\n",
    "ax2.plot(x,decompose_ops)\n",
    "ax1.set_title('Average Decompose Run Time of $N = pq$')\n",
    "ax1.set_xlabel('Bit size of $p$ and $q$')\n",
    "ax1.set_ylabel('Run Time (seconds)')\n",
    "ax2.set_title('Average Number of Decompose Operations for $N = pq$')\n",
    "ax2.set_xlabel('Bit size of $p$ and $q$')\n",
    "ax2.set_ylabel('Number of Operations')\n",
    "plt.subplots_adjust(left = 0, right = 2, wspace = 0.3)\n",
    "plt.show()"
   ]
  },
  {
   "cell_type": "code",
   "execution_count": 28,
   "metadata": {},
   "outputs": [],
   "source": [
    "def find_ratio(lists):\n",
    "    dlist = []\n",
    "    for i in range(len(lists)-2):\n",
    "        ratio = lists[i+1]/lists[i]\n",
    "        dlist.append(ratio)\n",
    "    ratio_mean = np.mean(dlist)\n",
    "    ratio_std = np.std(dlist)\n",
    "    return ratio_mean,ratio_std"
   ]
  },
  {
   "cell_type": "markdown",
   "metadata": {},
   "source": [
    "### Ratio of Average Run Time of Decompose Function for Increasing Bit Sizes"
   ]
  },
  {
   "cell_type": "code",
   "execution_count": 29,
   "metadata": {},
   "outputs": [
    {
     "name": "stdout",
     "output_type": "stream",
     "text": [
      "Mean Ratio of Decompose Times = 1.9507367510672375\n",
      "Standard Deviation of Ratio of Decompose Times = 0.3631630164589108\n"
     ]
    }
   ],
   "source": [
    "decompose_time_ratios = find_ratio(decompose_times)\n",
    "\n",
    "print('Mean Ratio of Decompose Times = {}'.format(decompose_time_ratios[0]))\n",
    "print('Standard Deviation of Ratio of Decompose Times = {}'.format(decompose_time_ratios[1]))"
   ]
  },
  {
   "cell_type": "markdown",
   "metadata": {},
   "source": [
    "### Ratio of Average Number of Operations of Decompose Function for Increasing Bit Sizes"
   ]
  },
  {
   "cell_type": "code",
   "execution_count": 30,
   "metadata": {},
   "outputs": [
    {
     "name": "stdout",
     "output_type": "stream",
     "text": [
      "Mean Ratio of Decompose Operations = 2.0026547651468483\n",
      "Standard Deviation of Ratio of Decompose Operations = 0.16355770829520674\n"
     ]
    }
   ],
   "source": [
    "decompose_ops_ratios = find_ratio(decompose_ops)\n",
    "\n",
    "print('Mean Ratio of Decompose Operations = {}'.format(decompose_ops_ratios[0]))\n",
    "print('Standard Deviation of Ratio of Decompose Operations = {}'.format(decompose_ops_ratios[1]))"
   ]
  },
  {
   "cell_type": "markdown",
   "metadata": {},
   "source": [
    "### Decompose Time Complexity\n",
    "\n",
    "A good guess for the time complexity of the decompose function we are using is $O(2^p)$, where $p$ is the bit size of one of our non-trivial prime factors of $N = pq$ where $p$ and $q$ are of the same bit size. We are able to estimate the time complexity because we have found the average runtime and average number of operations the decompose function performs and they increase by the same rate as we will explain later on.\n",
    "\n",
    "Regarding the average runtime, from earlier, the mean ratio (from a sample size of 4 for each bit size) of the average run time for the decompose function performs for consecutive $N's$ is the roughly the same at $2$. Furthermore, the standard deviation for the ratio is small implying that the ratio roughly stays constant. In addition, the graphs for the average decompose run time is in the shape of $y = 2^x$.\n",
    "\n",
    "Furthermore, for consecutive $N's$, the average number of operations for the decompose function roughly doubles too and the ratio has a low standard deviation too, as seen above, meaning this ratio stays constant. Since, the average number of operations also increases at the same rate as the average run time of the decompose function, we have a good amount of evidence to be confident that this function does have an $O(2^p)$ time complexity.\n",
    "\n",
    "However, this may not necessarily be the case because our graph for the average runtimes may change drastically for larger $p$ and $q$ but it is a reasonable guess because the data points we have fit this model well. From this time complexity, we are able to extrapolate the graph and make estimates for the average decompose times for larger $N$."
   ]
  },
  {
   "cell_type": "markdown",
   "metadata": {},
   "source": [
    "### Estimating the Average Decompose Time for Larger $N$\n",
    "\n",
    "It is of our best interest to be able to estimate the average decompose time because as the bit size increases for $N$, it takes longer to find the average time taken, and to find when it become infeasible, we want to find how long it takes for larger $N$.\n",
    "\n",
    "In order to estimate the average decompose time for larger values of $N$, we will plot a graph of shape $y = c \\cdot 2^x$, where $c$ is our average decompose runtime for our smallest value of $N$, this would be when $p$ and $q$ are of $10$ bit sizes. We will compute a better average time for this value of $N$ using a larger sample size of $20$, because this value is our scale factor for the graph so will affect all values in our graph a lot so it must be as accurate as possible. "
   ]
  },
  {
   "cell_type": "code",
   "execution_count": 31,
   "metadata": {},
   "outputs": [],
   "source": [
    "c = avg_times(10,10,20,decompose)"
   ]
  },
  {
   "cell_type": "markdown",
   "metadata": {},
   "source": [
    "Below is a table and graph of of our estimated average decompose time."
   ]
  },
  {
   "cell_type": "code",
   "execution_count": 32,
   "metadata": {},
   "outputs": [
    {
     "name": "stdout",
     "output_type": "stream",
     "text": [
      "bit_size of p and q   Estimated Average decompose(N) time\n",
      "===================   ===================================\n",
      "10                    0.0033184999999775755\n",
      "11                    0.006636999999955151\n",
      "12                    0.013273999999910302\n",
      "13                    0.026547999999820604\n",
      "14                    0.05309599999964121 \n",
      "15                    0.10619199999928242 \n",
      "16                    0.21238399999856483 \n",
      "17                    0.42476799999712966 \n",
      "18                    0.8495359999942593  \n",
      "19                    1.6990719999885187  \n",
      "20                    3.3981439999770373  \n",
      "21                    6.796287999954075   \n",
      "22                    13.59257599990815   \n",
      "23                    27.1851519998163    \n",
      "24                    54.3703039996326    \n",
      "25                    108.7406079992652   \n",
      "26                    217.4812159985304   \n",
      "27                    434.9624319970608   \n",
      "28                    869.9248639941216   \n",
      "29                    1739.849727988243   \n",
      "30                    3479.699455976486   \n",
      "31                    6959.398911952972   \n",
      "32                    13918.797823905945  \n",
      "33                    27837.59564781189   \n",
      "34                    55675.19129562378   \n",
      "35                    111350.38259124756  \n",
      "36                    222700.76518249512  \n",
      "37                    445401.53036499023  \n",
      "38                    890803.0607299805   \n",
      "39                    1781606.121459961   \n",
      "40                    3563212.242919922   \n",
      "41                    7126424.485839844   \n",
      "42                    14252848.971679688  \n",
      "43                    28505697.943359375  \n",
      "44                    57011395.88671875   \n",
      "45                    114022791.7734375   \n",
      "46                    228045583.546875    \n",
      "47                    456091167.09375     \n",
      "48                    912182334.1875      \n",
      "49                    1824364668.375      \n"
     ]
    }
   ],
   "source": [
    "p = np.arange(10,50,0.01)\n",
    "flist = []\n",
    "for n in np.arange(0,40,0.01):\n",
    "    flist.append(c[0]*(2**n))\n",
    "    \n",
    "\n",
    "print(\"bit_size of p and q   Estimated Average decompose(N) time\")\n",
    "print(\"===================   ===================================\")\n",
    "for n in range(40):\n",
    "    average_time3 = str(flist[100*n])\n",
    "    y = n+10\n",
    "    print(\"{:7s}               {:20s}\".format(str(y),average_time3))\n"
   ]
  },
  {
   "cell_type": "code",
   "execution_count": 33,
   "metadata": {},
   "outputs": [
    {
     "data": {
      "image/png": "[encoded data removed]",
      "text/plain": [
       "<Figure size 432x288 with 1 Axes>"
      ]
     },
     "metadata": {
      "needs_background": "light"
     },
     "output_type": "display_data"
    }
   ],
   "source": [
    "plt.plot(p,flist)\n",
    "plt.xlabel('Bit size of $p$ and $q$')\n",
    "plt.ylabel('Run Time (seconds)')\n",
    "plt.title('Estimated Average Decompose Computation Time')\n",
    "plt.show()"
   ]
  },
  {
   "cell_type": "markdown",
   "metadata": {},
   "source": [
    "## At What Bit Length does the Decompose Function Become Infeasible?\n",
    "\n",
    "### The Purpose of the Decompose Function (Security)\n",
    "The purpose of the decompose function is to find the prime decomposition of a number. In terms of an RSA setting, we would be using this function to attempt to crack the private key, which are, say, primes $p$ and $q$ given the public key $N = pq$. From the public key, we are also given $e$, an auxiliary number called the exponent but the decompose function does not use this information. Therefore, it is clear to see that the decompose function, which does not use the exponent will not be as efficient at finding the prime decomposition as a function which does use this extra information, like the RSA decryption method mentioned in the previous question.\n",
    "Furthermore, since the private key in an RSA setting is usually 2048 bits long, the decompose function is not effective at all at cracking this. This is because, as we discussed earlier in the time complexity section, due to the decompose function being $O(2^p)$, it is effective at cracking short private keys but becomes ineffective very quickly as the bit length of the private key increases.\n",
    "\n",
    "### Maximum Bit Length Feasibility\n",
    "The NIST (National Institute of Standards and Technology) recommends that you should update private and public keys at least once every $2$ years, and since the decompose function's purpose is to crack the private key, I can conjecture that it becomes infeasible if it takes longer than $2$ years to crack it. \n",
    "https://www.keylength.com/en/4/\n",
    "\n",
    "On my laptop, the average decompose time for $N = pq$ where $p$ and $q$ are:\n",
    "+ $30$-bit random primes is approximately $26$ minutes\n",
    "+ $40$-bit random primes is approximately $19$ days \n",
    "+ $45$-bit random primes is approximately $1.64$ years\n",
    "+ $46$-bit random primes is approximately $3.3$ years\n",
    "\n",
    "Therefore, we can conjecture that the decompose function for $N=pq$ becomes infeasible when $p$ and $q$ are greater than $45$-bit random primes.\n",
    "\n",
    "### How Long is the Bit Length in Practice?\n",
    "\n",
    "In practise, the bit length of $N$ is usually $2048$ bits because this is deemed secure enough to have a very low probability of being hacked. Indeed, the factoring record is the factorisation of the $829$-bit RSA-$250$, set in February 2020. However, with quantum computers currently being developed which are a lot faster than traditional computers, RSA and many other traditional encryption methods used today may become obsolete; a huge security issue. Luckily, there are already a few quantum-resistant security protocols which are being developed to work around this encryption problem so hopefully these encryption methods will be developed before quantum computers because otherwise it would result in a security disaster."
   ]
  },
  {
   "cell_type": "markdown",
   "metadata": {},
   "source": [
    "## Core 5: Pollard Rho Method"
   ]
  },
  {
   "cell_type": "markdown",
   "metadata": {},
   "source": [
    "### What is The Pollard Rho Method?\n",
    "\n",
    "The Pollard Rho method is an algorithm used for factorising large composite integers, $N$. It has been heuristically claimed, but not rigorously, that the Pollard Rho method works in runs at a time of $O(N^{0.25})$. It is very effective at finding small factors of a composite integer. Since we are primarily concerned with factorising $N$ = $pq$ where $p$ and $q$ are prime numbers, since this is what we do in an RSA setting, we will be looking at this case and compare how efficient the Pollard Rho method is in comparison to the decompose function. \n",
    "\n",
    "### How Does it Work?\n",
    "\n",
    "There are two main steps in the Pollard Rho method. These are described below.\n",
    "\n",
    "#### First Step\n",
    "\n",
    "The first step is to generate a random sequence of integers which are less than the composite integer we are factorising, $N$. This is done using using the function \n",
    "> $g(m) = (m^2 + 1) \\pmod N$\n",
    "\n",
    "\n",
    "A starting value $m_0 = 2$, is chosen and each pair of integers in the sequence is generated using  \n",
    ">$(m_{i+1}, m_{2(i + 1)}) = (g(m_i), g(g(m_{2i})))$\n",
    "\n",
    "We are choosing to compute pairs of integers to increase space efficiency; this works due to Floyd's Cycle Finding algorithm which we will discuss in more detail later. We compute the sequence until we get to $(m_k, m_{2k})$ where $k \\approx 10 \\cdot N^{0.25}$. We have chosen this value of $k$ because it has been stated in the question that if we iterate our next step this number of times then we find with high probability, a non-trivial prime factor of $N$.\n",
    "\n",
    "#### Second Step\n",
    "\n",
    "The next step is to find the greatest common divisor ($gcd$) of the difference between the pairs we have generated in the sequence and the number we're attempting to factorise, $N$. We have three different cases here. \n",
    "\n",
    "The first case is where,\n",
    ">$gcd(\\mid m_{2i} - m_i \\mid, N) = 1$ for $i \\in \\{1,2,3, ... k\\}$ where $k \\approx 10 \\cdot N^{0.25}$\n",
    "\n",
    "If the above statement holds, we test it for the next $i$ in our set and we keep iterating this until we get a different value for our $gcd$.\n",
    "\n",
    "\n",
    "If next case is where,\n",
    ">$gcd(\\mid m_{2i} - m_i \\mid, N) = p$ for some $i \\in \\{1,2,3, ... k\\}$ and some $1 < p < N$ $\\iff m_{2i} \\equiv m_i \\pmod p$ $\\iff p \\mid m_{2i} - m_i$\n",
    "\n",
    "Therefore, we have found a non-trivial prime factor of N in this case and this non-trivial prime factor is indeed the value of $p$. This outcome occurs with very high probability. This is because we expect all $(m_i, m_{2i})$ such that $1 \\leq i < k$ to be distinct modulo $N$ so we expect to find at least one pair $(m_i, m_{2i})$ where $gcd(\\mid m_{2i} - m_i \\mid, N) = p$ and $1 < p < N$. Since we are concerned with the case where $N = pq$, we simply find our other prime factor by dividing $N$ by $p$.\n",
    "\n",
    "The final case is where,\n",
    ">$gcd(\\mid m_{2i} - m_i \\mid, N) = N$ \n",
    "\n",
    "This statement is equivalent to $\\mid m_{2i} - m_i \\mid = 0$ meaning that there is a pair in the sequence that are equal to eachother (this happens with low probability). Therefore, by Floyd's cycle finding algorithm, $m_i$ becomes cyclic at the first time $gcd(\\mid m_{2i} - m_i \\mid, N) = N$; after this point, no matter how many times we iterate the Pollard Rho method, we will not find any more factors.\n",
    "\n",
    "In conclusion, the Pollard Rho method keeps iterating $gcd(\\mid m_{2i} - m_i \\mid, N)$ until we reach one of these three criteria. Either until we find that $1 < gcd(\\mid m_{2i} - m_i \\mid, N) < N$, in which we return a non-trivial factor of $N$. Or until we compute $gcd(\\mid m_{2i} - m_i \\mid, N)$ for all $i \\in \\{1,2,3, ... k\\}$, and if this doesn't return a value between $0$ and $N$ each time, we return a failure. Or, finally, if $gcd(\\mid m_{2k} - m_k \\mid, N) = N$ in which case we also return a failure. In the event that we return a failure, one possible solution is to try altering our function $g(m) = (m^2 + 1)$ $mod$ $N$ to $g(m) = (m^2 + c)$ $mod$ $N$ where $c$ is any integer such that $c \\neq 0, -2, 1$. This produces a different sequence of values and in this new sequence, we find $m_i \\equiv m_{2i} \\pmod p$ for some $1 \\leq i \\leq k$, and hence a non-trivial prime factor of N with high probability."
   ]
  },
  {
   "cell_type": "markdown",
   "metadata": {},
   "source": [
    "### Example of Pollard Rho with $N = 961$ ($N$ is the Product of Two Primes)\n",
    "\n",
    "We will first generate our first pair in the sequence. We have in this case that \n",
    ">$g(m) = m^2 + 1 \\pmod{961}$\n",
    "\n",
    "So our first pair in our sequence would be as follows, where we are starting $m_0 = 2$ would be \n",
    ">\\begin{align*}\n",
    "(m_1, m_2) &= (g(m_0), g(g(m_0)))\\\\\n",
    "           &= (g(2), g(g(2)))\\\\\n",
    "           &= (5, 26)\n",
    " \\end{align*}\n",
    "\n",
    "Now, we must find the greatest common divisor of the difference of this pair and $N = 961$.\n",
    ">$gcd(\\mid 26 - 5 \\mid, 961) = 1$\n",
    "\n",
    "Since the greatest common divisor wasn't between $1$ and $961$, we must find the next pair in the sequence.\n",
    ">\\begin{align*}\n",
    "(m_2, m_4) &= (g(m_1), g(g(m_2)))\\\\\n",
    "           &= (g(5), g(g(26)))\\\\\n",
    "           &= (26, g(677))\\\\\n",
    "           &= (26, 894)\\\\\n",
    " \\end{align*}\n",
    "\n",
    "Now, as before, we find the greatest common divisor of the difference of this pair and $N = 961$.\n",
    ">$gcd(\\mid 894 - 26 \\mid, 961) = 31$\n",
    "\n",
    "Since the greatest common divisor is between $1$ and $961$, we have found a non-trivial factor of $N = 961$ in $31$ and since we are only considering the case when $N$ is the product of two primes, we can simply divide $961$ by $31$ to find the other prime factor. So, it turns out that the prime decomposition of of $961$ is $31 \\times 31$."
   ]
  },
  {
   "cell_type": "markdown",
   "metadata": {},
   "source": [
    "### Birthday Paradox\n",
    "\n",
    "The Pollard Rho method takes advantage of the birthday paradox in order to find pairs in a large sequence of numbers which satisfy this criteria: $gcd(\\mid m_{2i} - m_i \\mid, N) = p$.\n",
    "So understanding this paradox is the key to learning how the Pollard Rho method works,so we will briefly explain this concept here. \n",
    "\n",
    "This paradox is concerned with the probability in a set of $n$ randomly chosen people, some pair of them will share the same birthday. It is a paradox because it turns out this probability is a lot higher than you would expect. For example, in a room of $23$ people, there is a $50$% chance that at least two people share the same birthday and in a room of $75$ people, there is a $99.9$% chance of at least two people sharing the same birthday. \n",
    "By some combinations mathematics, in a room of $23$ people, there are $253$ pairs; this is calculated by:\n",
    "\n",
    ">$\\frac{23 \\cdot 22}{2} = 253$\n",
    "\n",
    "Now, the chance of two people having different birthdays is clearly:\n",
    "\n",
    ">$1 - \\frac{1}{365} = \\frac{364}{365}$\n",
    "\n",
    "So, the chance of all $23$ people in the room having different birthdays is:\n",
    "\n",
    ">$\\frac{364}{365}^{253} = 0.4995$\n",
    "\n",
    "Therefore, the chance of two people having the same birthday is about $50/50$ and it is easy to see that this probability exponentially increases as the number of people in the room increase.\n",
    "\n",
    "### Time Complexity\n",
    "\n",
    "By the birthday paradox, it follows that we find a non-trivial prime factor of N with probability $1/2$ in $O(\\sqrt p) \\leq O(N^{0.25})$ time, assuming that the sequence we generate is truly random. However, we only have a heuristic claim that the Pollard Rho method has the same time complexity and a rigorous analysis of this method still remains open. A time complexity is an asymptotic upper bound, because it bounds the growth of the running time for large enough input sizes. However, it is important to note that this is not necessarily an asymptotically tight bound. For example, in our case, the running time for the Pollard Rho method grows no faster than $c \\cdot N^{0.25}$ for some constant c; it could in fact grow a lot slower than at a rate of $N^{0.25}$.\n",
    "\n",
    "We have the function $g:S \\rightarrow S$ as we stated earlier and since $S$ is a finite set of cardinality $N$, this function will eventually cycle. By some number theory of random numbers, we have that the expected length of the tail of the sequence of integers $m_i$ has length $\\sqrt{\\pi N / 8}$ and the expected length of the endlessly repeating cycle is also $\\sqrt{\\pi N / 8}$. The method in which one would initially think to find duplicates in the sequence is by storing all the integers in the sequence, and checking for duplicates in a pairwise fashion (i.e. checking all possible pairs of the sequence). By the birthday problem, the expected number of inputs until a pair of integers $m_i$ and $m_j$ are equal to eachother is $\\sqrt{\\pi N / 2}$. Therefore, this method of finding when the sequence becomes cyclic takes up $O(\\sqrt N)$ memory and $O(\\sqrt N)$ time. For example, if we had the sequence of integers $x_1, x_2, ..., x_k$ where $k = N^{0.25}$ where $N \\sim 10^{30}$ and did pairwise comparisons we would have to store $10^8$ numbers in memory.\n",
    "\n",
    "We are able to reduce the storage requirements of the Pollard Rho method drastically to only two numbers using Floyd's Cycle Finding Algorithm so in our code, we will employ this version of the Pollard Rho method. We will discuss how the Floyd's cycle finding algorithm works in the next section.\n",
    "\n",
    "\n",
    "### Floyd's Cycle Finding Algorithm\n",
    "\n",
    "The Floyd's Cycle Finding Algorithm allows us to easily find when the sequence cycles using only pairs of numbers from the sequence and we only need to store one pair at a time. I will proceed to explain this by analogy. Suppose we have two runners, A and B with B running twice as fast as A, where they start at the same position. Then, when B has overtaken A we know that B has cycled around at least once so we can stop the algorithm at this point. In the analogy, runner A is $a = g(a)$ from our pollard_rho function below and runner B is $b = g(g(b))$ from the same pollard_rho function. We know that $b$ has 'overtaken' $a$ when $\\mid a-  b \\mid = 0$ or equivalently, when $gcd(\\mid a - b \\mid,N) = N$. Therefore, at this point the sequence becomes cyclic and we can return a failure and try finding a non-trivial prime factor of $N$ by using a different function $g$.\n",
    "\n",
    "Let us assume that the tail of the sequence has length $\\lambda$ and the cycle of the sequence has length $\\mu$, then the first time that $x_m = x_{2m}$ is when $m = \\mu (1+\\lfloor{\\lambda/\\mu}\\rfloor)$ which makes sense because it takes one cycle after the initial tail of the sequence to repeat and hence find a duplicate. Since, $\\lambda < m \\leq \\lambda + \\mu$, the expected running time of the Floyd's Cycle Finding algorithm is $O(\\sqrt N)$.\n",
    "\n",
    "### Our Pollard Rho Function\n",
    "\n",
    "We are primarily concentrated on trying to crack the RSA key so we will focus on coding the Pollard Rho method so it is able to factor $N = pq$ for $p$ and $q$ where they are $k$ bit random primes. "
   ]
  },
  {
   "cell_type": "code",
   "execution_count": 34,
   "metadata": {},
   "outputs": [],
   "source": [
    "def gcd(a,b):\n",
    "    \"\"\"Returns the greatest common divisor of integers a and b using Euclid's algorithm.\n",
    "    The order of a and b does not matter and nor do the signs.\"\"\"\n",
    "    if not(a%1 ==0 and b%1==0):\n",
    "        return \"Need to use integers for gcd.\"\n",
    "    if b==0:\n",
    "        return abs(a)                           #Use abs to ensure this is positive\n",
    "    else:\n",
    "        return gcd(b,a%b)\n",
    "\n",
    "def g(a):\n",
    "    return (a**2 + 1)\n",
    "    \n",
    "def h(a):\n",
    "    return (a**2 + 2)\n",
    "\n",
    "def pollard_rho_N(n):\n",
    "    a = 2                             #our inital value in our sequence is set at 2\n",
    "    b = 2\n",
    "    d = 1\n",
    "    count = 0\n",
    "    k = np.round(10*(n**0.25))        #this k value is the number of times we iterate our function\n",
    "\n",
    "    while d == 1:\n",
    "        a = g(a)%n                    #a and b are pairs in our sequence \n",
    "        b = g(g(b))%n\n",
    "        d = gcd(np.abs(a - b), n)     #finding our gcd and if it is equal to 1, we compute another pair and try again\n",
    "        count += 1                    #increment count each iteration\n",
    "        if count == k:                #we stop our function if we reach k number of iterations of our function\n",
    "            return 'Failure: Iterated k times, try using pollard_rho2(n)',_,count #pollard_rho2 uses a different pseudo-random number generator\n",
    "\n",
    "\n",
    "    if d == n:                        #if this occurs we are stuck in a loop of the same sequence by Floyd's cycle finding algorithm so we stop our function\n",
    "        return 'Failure: Try using pollard_rho2(n)',_,count\n",
    "    else:                             #if 1 < d < n, then we have found our factors of N\n",
    "        return d, n//d ,count     \n",
    "    \n",
    "def h(a):\n",
    "    return (a**2 + 2)\n",
    "    \n",
    "def pollard_rho2(n):\n",
    "    a = 2\n",
    "    b = 2\n",
    "    d = 1\n",
    "\n",
    "    while d == 1:\n",
    "        a = h(a)%n                 #this function uses a different pseudo-random number generator\n",
    "        b = h(h(b))%n\n",
    "        d = gcd(np.abs(a - b), n)\n",
    "\n",
    "    if d == n: \n",
    "        return 'Failure'\n",
    "    else:\n",
    "        return d, n//d\n"
   ]
  },
  {
   "cell_type": "code",
   "execution_count": 35,
   "metadata": {},
   "outputs": [],
   "source": [
    "#Tests\n",
    "assert pollard_rho_N(752523017)[0] * pollard_rho_N(752523017)[1] == 752523017    #checking it returns factors of N\n",
    "assert pollard_rho_N(29)[0] == 'Failure: Try using pollard_rho2(n)'  #checking it doesn't work for primes"
   ]
  },
  {
   "cell_type": "markdown",
   "metadata": {},
   "source": [
    "### Generating $N = pq$ where $p,q$ are Primes and $N$ is of k-bits\n",
    "\n",
    "Below are 3 functions which are all needed to eventually produce a $b-a+1$ dimensional array of $N's$ for each bit size between arbitrary $a$ and $b$.\n",
    "\n",
    "This is needed to test the time complexity of the Pollard Rho function we coded to make sure it is indeed $O(N^{0.25})$."
   ]
  },
  {
   "cell_type": "code",
   "execution_count": 36,
   "metadata": {},
   "outputs": [],
   "source": [
    "def generate_Nbits(k_bit,verbose = False):\n",
    "    '''\n",
    "    Generates 1 N = pq value where p and q are prime numbers and the bit size of N is the size of the input k_bits.\n",
    "    '''\n",
    "    x = 0\n",
    "    alist = []\n",
    "\n",
    "    while len(bin(x)) - 2 != k_bit:                       #needs to be -2 because len(bin(x)) bit size + 2 due to 0b before numbers in bin(x)\n",
    "        a = random_prime((math.ceil(k_bit/2)), 40)        #have found primes should be of length k_bit/2 for their product to be of k_bits with high probability\n",
    "        b = random_prime((math.ceil(k_bit/2)), 40)\n",
    "        x = a * b\n",
    "    if verbose == True:                                   #this is for our tests below\n",
    "        return x,a,b\n",
    "    return x\n",
    "\n",
    "def generate_Nbits_n(k_bit,n,verbose = False):\n",
    "    '''\n",
    "    Generates a list of size n of N's where the N's are k_bit size.\n",
    "    '''\n",
    "    count = 0\n",
    "    blist = []\n",
    "    while count < n:                                      #have this while loop so we have a n sized list of N's \n",
    "        blist.append(generate_Nbits(k_bit))             \n",
    "        count += 1\n",
    "    return blist\n",
    "\n",
    "def generate_sampleNbits(a,b,c):\n",
    "    '''\n",
    "    Takes a,b,c as inputs where a is the smallest N=p*q of length a bits and b is \n",
    "    the largest N=p*q for length b bits. The input c tells the function how many N's\n",
    "    to produce for each bit size. \n",
    "    This function returns a b - a + 1 dimensional array of N's for each bit size between a and b.\n",
    "    '''\n",
    "    if b >= a:                   #this must hold for the function to run \n",
    "        bignumbers = []\n",
    "        for p in range(a,b+1):\n",
    "            bignumbers.append(generate_Nbits_n(p,c))   #append c number of N=pq of bit size between a and b for each bit size\n",
    "        return np.array(bignumbers)         #returns a b-a+1 dimensional array of N's of bit size between a and b\n",
    "    else:\n",
    "        return 'Error: Second input must be greater than the first input.'   #error message if b<a\n"
   ]
  },
  {
   "cell_type": "code",
   "execution_count": 37,
   "metadata": {},
   "outputs": [],
   "source": [
    "#Tests\n",
    "assert len(bin(generate_Nbits(20))) == 22             #Checking the binary length of N is indeed equal to the input + 2\n",
    "assert len(bin(generate_Nbits(50))) == 52             #Double checking\n",
    "\n",
    "N = generate_Nbits(30, True)\n",
    "assert is_prime_miller_rabin(N[1],40) == True         #Checking p and q in N = pq are indeed primes\n",
    "assert is_prime_miller_rabin(N[2],40) == True\n",
    "assert N[0] == N[1] * N[2]                            #Checking N = pq\n",
    "\n",
    "assert len(generate_Nbits_n(20,5)) == 5                  #Checking sample size is equal to the second input\n",
    "\n",
    "assert len(generate_sampleNbits(20,27,4)) == 27 - 20 + 1  #Checking this function generates a b-a+1 dimensional array of N's for each bit size between a and b\n",
    "assert len(generate_sampleNbits(20,27,4)[2]) == 4         #Checking each sample of N's generated for each bit size betwen a and b has length c\n",
    "\n",
    "assert generate_sampleNbits(39,5,4) == 'Error: Second input must be greater than the first input.'  #Checking error message"
   ]
  },
  {
   "cell_type": "markdown",
   "metadata": {},
   "source": [
    "### Average Pollard Rho Run Time for $k$ Bits "
   ]
  },
  {
   "cell_type": "code",
   "execution_count": 38,
   "metadata": {},
   "outputs": [],
   "source": [
    "def avg_timesk(a,b,c,func):\n",
    "    samples = generate_sampleNbits(a,b,c)\n",
    "    sample_size = c\n",
    "\n",
    "    start = []\n",
    "    end = []\n",
    "    total_time = []\n",
    "    average_time = []\n",
    "    for i in range(b-a+1):\n",
    "        start.append(process_time())           \n",
    "        for n in samples[i]:\n",
    "            func(n)\n",
    "        end.append(process_time())  \n",
    "\n",
    "    for j in range(b-a+1):\n",
    "        total_time.append(end[j] - start[j])\n",
    "    for k in range(b-a+1):\n",
    "        average_time.append(total_time[k] / sample_size)\n",
    "    return average_time"
   ]
  },
  {
   "cell_type": "code",
   "execution_count": 39,
   "metadata": {},
   "outputs": [
    {
     "name": "stdout",
     "output_type": "stream",
     "text": [
      "bit_size of N   Average Pollard Rho(N) time\n",
      "=============   ===========================\n",
      "10                    0.00011799999992945231\n",
      "11                    0.0001449999999749707\n",
      "12                    0.0003070000000207074\n",
      "13                    0.0002640000000155851\n",
      "14                    0.0002399999998488056\n",
      "15                    0.00031149999995250255\n",
      "16                    0.0003440000000409782\n",
      "17                    0.0033155000000988366\n",
      "18                    0.0053105000001778535\n",
      "19                    0.011688000000049215\n",
      "20                    0.01253550000001269 \n",
      "21                    0.007916499999964799\n",
      "22                    0.01969550000012532 \n",
      "23                    0.0302560000000085  \n",
      "24                    0.02402200000005905 \n",
      "25                    0.04417949999992743 \n",
      "26                    0.045787499999960346\n",
      "27                    0.0754620000000159  \n",
      "28                    0.08302349999985381 \n",
      "29                    0.11881549999998242 \n",
      "30                    0.11617150000006404 \n",
      "31                    0.14869699999985642 \n",
      "32                    0.20269849999999678 \n",
      "33                    0.30458299999986593 \n",
      "34                    0.33585249999987354 \n",
      "35                    0.5333020000000488  \n",
      "36                    0.5276400000000194  \n",
      "37                    0.5621170000001712  \n",
      "38                    0.6675210000000789  \n",
      "39                    0.8097729999999501  \n",
      "40                    0.8943360000000666  \n",
      "41                    1.1418305000001965  \n",
      "42                    1.3067559999999503  \n",
      "43                    1.9054920000000948  \n",
      "44                    1.8435779999999795  \n",
      "45                    2.3576955000000908  \n",
      "46                    2.8049349999998867  \n",
      "47                    3.5067129999999906  \n",
      "48                    4.047996500000181   \n",
      "49                    5.06479800000011    \n",
      "50                    5.852127999999993   \n"
     ]
    }
   ],
   "source": [
    "pollard_rho_times = avg_timesk(10,50,4,pollard_rho_N)\n",
    "print(\"bit_size of N   Average Pollard Rho(N) time\")\n",
    "print(\"=============   ===========================\")\n",
    "for n in range(len(pollard_rho_times)):\n",
    "    pollard_rho_times1 = str(pollard_rho_times[n])\n",
    "    y = n+10\n",
    "    print(\"{:7s}               {:20s}\".format(str(y),pollard_rho_times1))"
   ]
  },
  {
   "cell_type": "markdown",
   "metadata": {},
   "source": [
    "### Average Decompose Run Time for $k$ Bits "
   ]
  },
  {
   "cell_type": "code",
   "execution_count": 40,
   "metadata": {},
   "outputs": [
    {
     "name": "stdout",
     "output_type": "stream",
     "text": [
      "bit_size of N   Average decompose(N) times\n",
      "=============   =========================\n",
      "10                    0.00013949999993201345\n",
      "11                    0.0001850000001013541\n",
      "12                    0.00020949999998265412\n",
      "13                    0.0002904999998918356\n",
      "14                    0.0004610000000866421\n",
      "15                    0.0005600000001777516\n",
      "16                    0.0006989999999404972\n",
      "17                    0.0010854999998173298\n",
      "18                    0.0013460000000122818\n",
      "19                    0.002128999999968073\n",
      "20                    0.002543500000001586\n",
      "21                    0.004477500000120926\n",
      "22                    0.005913999999847874\n",
      "23                    0.00896099999999933 \n",
      "24                    0.012205500000163738\n",
      "25                    0.017313500000000204\n",
      "26                    0.027443500000117638\n",
      "27                    0.03421700000012606 \n",
      "28                    0.03682000000003427 \n",
      "29                    0.062180500000067696\n",
      "30                    0.10719449999987773 \n",
      "31                    0.15336150000007365 \n",
      "32                    0.23252750000006017 \n",
      "33                    0.32331999999996697 \n",
      "34                    0.34405100000003586 \n",
      "35                    0.5584384999999656  \n",
      "36                    0.618748000000096   \n",
      "37                    1.0241414999998142  \n",
      "38                    1.2929670000000897  \n",
      "39                    2.1716639999999643  \n",
      "40                    2.7550665000001118  \n",
      "41                    4.261682999999948   \n",
      "42                    5.260322999999971   \n",
      "43                    8.20370650000018    \n",
      "44                    11.804996000000074  \n",
      "45                    16.732336499999974  \n",
      "46                    25.361472999999933  \n",
      "47                    31.17374400000017   \n",
      "48                    40.14992700000016   \n",
      "49                    70.63748999999984   \n",
      "50                    98.05821300000002   \n"
     ]
    }
   ],
   "source": [
    "decompose_timesN = avg_timesk(10,50,4,decompose) \n",
    "\n",
    "print(\"bit_size of N   Average decompose(N) times\")\n",
    "print(\"=============   =========================\")\n",
    "for n in range(len(decompose_timesN)):\n",
    "    decompose_timesN1 = str(decompose_timesN[n])\n",
    "    y = n+10\n",
    "    print(\"{:7s}               {:20s}\".format(str(y),decompose_timesN1))"
   ]
  },
  {
   "cell_type": "markdown",
   "metadata": {},
   "source": [
    "### Average Pollard Rho Run Time vs Average Decompose Run Time for $k$ Bits\n",
    "\n",
    "Below is a graph comparing the average execution time for the Pollard Rho and decompose function for increasing $N$."
   ]
  },
  {
   "cell_type": "code",
   "execution_count": 41,
   "metadata": {},
   "outputs": [
    {
     "data": {
      "image/png": "[encoded data removed]",
      "text/plain": [
       "<Figure size 432x288 with 2 Axes>"
      ]
     },
     "metadata": {
      "needs_background": "light"
     },
     "output_type": "display_data"
    }
   ],
   "source": [
    "x = range(10,len(decompose_timesN)+10)\n",
    "fig, (ax1, ax2) = plt.subplots(1,2)\n",
    "ax1.plot(x,pollard_rho_times)\n",
    "ax2.plot(x,decompose_timesN)\n",
    "ax1.set_title('Average Pollard Rho Run Time for $N = pq$')\n",
    "ax1.set_xlabel('Bit size of $N$')\n",
    "ax1.set_ylabel('Run Time (seconds)')\n",
    "ax2.set_title('Average Decompose Run Time for $N = pq$')\n",
    "ax2.set_xlabel('Bit size of $N$')\n",
    "ax2.set_ylabel('Run Time (seconds)')\n",
    "plt.subplots_adjust(left = 0, right = 2, wspace = 0.3)\n",
    "plt.show()"
   ]
  },
  {
   "cell_type": "markdown",
   "metadata": {},
   "source": [
    "### Comparing Pollard Rho and Decompose Functions\n",
    "\n",
    "From our graphs which plot the average run time of these two factoring algorithms for $N$ = $pq$ where $p$ and $q$ are prime numbers, we can see that the average decompose run time is consistently lower for smaller bit sizes of $N$. However, when $N$ reaches $35$ bits, the average run time for the Pollard Rho function is lower than the average decompose run time for the first time.  From this bit size, the difference between the run time for the Pollard Rho function and the decompose function increases, depicting how the Pollard Rho method is far more effective than the decompose function with large bit sizes of $N$."
   ]
  },
  {
   "cell_type": "markdown",
   "metadata": {},
   "source": [
    "### Pollard Rho Time Complexity Check\n",
    "#### Average Operations\n",
    "\n",
    "We will check, firstly, that the Pollard Rho time complexity is indeed $O(N^{0.25})$.\n",
    "We will do this by plotting graphs of $N$ against the worst-case operations performed by the function; this is when we iterate the function $10 \\cdot N^{0.25}$. It would be interesting to see how close the Pollard Rho function is to performing at a worst case scenario when $N = pq$ so we will also plot how many operations the function actually performs too.\n",
    "\n",
    "We will not use our average operations function here because we want to find our worst-case operations too."
   ]
  },
  {
   "cell_type": "code",
   "execution_count": 42,
   "metadata": {},
   "outputs": [],
   "source": [
    "a = 20\n",
    "b = 50\n",
    "c = 4\n",
    "\n",
    "samples = generate_sampleNbits(a,b,c)\n",
    "sample_size = c\n",
    "\n",
    "\n",
    "operations = []\n",
    "max_operations = []\n",
    "total_operations = []\n",
    "total_max_operations = []\n",
    "average_operations = []\n",
    "average_max_operations = []\n",
    "for i in range(b-a+1):\n",
    "    for n in samples[i]:\n",
    "        operations.append(pollard_rho_N(n)[2])\n",
    "        max_operations.append(10*(n**0.25))\n",
    "        \n",
    "split_operations = np.array_split(operations,b-a+1)\n",
    "split_max_operations = np.array_split(max_operations,b-a+1)\n",
    "for j in range(b-a+1):\n",
    "    total_operations.append(np.sum(split_operations[j]))\n",
    "    total_max_operations.append(np.sum(split_max_operations[j]))\n",
    "for k in range(b-a+1):\n",
    "    average_operations.append(total_operations[k]/c)\n",
    "    average_max_operations.append(total_max_operations[k]/c)\n",
    "\n"
   ]
  },
  {
   "cell_type": "code",
   "execution_count": 44,
   "metadata": {},
   "outputs": [
    {
     "data": {
      "image/png": "[encoded data removed]",
      "text/plain": [
       "<Figure size 432x288 with 1 Axes>"
      ]
     },
     "metadata": {
      "needs_background": "light"
     },
     "output_type": "display_data"
    }
   ],
   "source": [
    "average_samples = []\n",
    "for x in range(0,31):\n",
    "    average_samples.append(np.mean(samples[x]))\n",
    "\n",
    "plt.plot(average_samples, average_operations, label = 'Average Operations')\n",
    "plt.plot(average_samples, average_max_operations, label = 'Average Max Operations')\n",
    "plt.title('Average Number of Operations for Increasing $N$')\n",
    "plt.xlabel('Value of $N$')\n",
    "plt.ylabel('Number of Operations')\n",
    "plt.legend()\n",
    "plt.show()"
   ]
  },
  {
   "cell_type": "markdown",
   "metadata": {},
   "source": [
    "As we can see above, the operations actually performed by the function is close to this worst-case scenario often so it turns out the graphs look pretty much identical. Therefore, since the worst-case scenario is where we iterate the function $10 \\cdot N^{0.25}$ times, the graph has this shape, which would suggest that the time complexity is indeed $O(N^{0.25})$. Now, we will check if the average run time for the Pollard Rho also has this shape, and then we have strong evidence to support the time complexity being $O(N^{0.25})$.\n",
    "\n",
    "The reason why the worst-case scenario and actual scenario are so similar is because I have coded the $N's$ to be generated such that the two non-trivial prime factors $p$ and $q$ are of the same bit length, meaning that the factors are quite large, especially for a larger bit size of $N$. This makes it more of a worst case scenario because as I stated at the start of this section, Pollard Rho is most effective when factorising small factors."
   ]
  },
  {
   "cell_type": "markdown",
   "metadata": {},
   "source": [
    "#### Average Run Time\n",
    "\n",
    "Now, we will check if the average run time of the Pollard Rho function also has the shape of $O(N^{0.25})$.\n",
    "\n",
    "Again, we will not use our average time function from earlier because in this case, we want to know what our sample values were so we are able to plot a graph with these $N$."
   ]
  },
  {
   "cell_type": "code",
   "execution_count": 45,
   "metadata": {},
   "outputs": [],
   "source": [
    "a = 20\n",
    "b = 50\n",
    "c = 4\n",
    "\n",
    "samples1 = generate_sampleNbits(a,b,c)\n",
    "sample_size = c\n",
    "\n",
    "start = []\n",
    "end = []\n",
    "total_time = []\n",
    "average_time = []\n",
    "for i in range(b-a+1):\n",
    "    start.append(process_time())           \n",
    "    for n in samples1[i]:\n",
    "        pollard_rho_N(n)\n",
    "    end.append(process_time())  \n",
    "\n",
    "for j in range(b-a+1):\n",
    "    total_time.append(end[j] - start[j])\n",
    "for k in range(b-a+1):\n",
    "    average_time.append(total_time[k] / sample_size)\n"
   ]
  },
  {
   "cell_type": "code",
   "execution_count": 58,
   "metadata": {},
   "outputs": [
    {
     "data": {
      "image/png": "[encoded data removed]",
      "text/plain": [
       "<Figure size 432x288 with 1 Axes>"
      ]
     },
     "metadata": {
      "needs_background": "light"
     },
     "output_type": "display_data"
    }
   ],
   "source": [
    "average_samples1 = []\n",
    "for x in range(0,31):\n",
    "    average_samples1.append(np.mean(samples1[x]))\n",
    "best_fit = []\n",
    "for y in range(0,31):\n",
    "    best_fit.append(0.00115*(average_samples1[y]**0.25))\n",
    "\n",
    "plt.title('Average Pollard Rho Run Times for Increasing $N$')\n",
    "plt.plot(average_samples1, average_time, label = 'Average Time')\n",
    "plt.plot(average_samples1, best_fit, label = '$0.00115 \\cdot N^{0.25}$')\n",
    "plt.xlabel('Value of $N$')\n",
    "plt.ylabel('Run Time (secs)')\n",
    "plt.legend()\n",
    "plt.show()"
   ]
  },
  {
   "cell_type": "markdown",
   "metadata": {},
   "source": [
    "We can see that the run time for the Pollard Rho function also follows a graph of $c \\cdot N^{0.25}$ for some constant $c$. So we are able to say with reasonable confidence that the time complexity is indeed $O(N^{0.25})$ as stated in the question. Furthermore, now we are able to extrapolate the graph of our run times since we know what this value is $c$ now. We did this from trying different values of $c$ until we got a graph which aligned with our average run times."
   ]
  },
  {
   "cell_type": "markdown",
   "metadata": {},
   "source": [
    "### Feasibility of the Pollard Rho Function\n",
    "\n",
    "Similarly to when checking the feasibility of the decompose function, we will say that the function stops becoming feasible once the average run time is longer than $2$ years. \n",
    "\n",
    "We know that the expected running time for the Pollard Rho function is $c \\cdot N^{0.25}$ where $c = 0.00115$. Therefore, we can conjecture that this function becomes infeasible when \n",
    ">$0.00115 \\cdot N^{0.25} = 63070000$\n",
    "\n",
    "This is because $63070000$ is roughly the number of seconds in $2$ years. \n",
    ">$0.00115 \\cdot N^{0.25} = 63070000 \\implies N^{0.25} = 54843478260.9 \\implies N = 54843478260.9^4$\n",
    "\n",
    "> $N \\approx 9.0469036 \\times 10^{42}$"
   ]
  },
  {
   "cell_type": "code",
   "execution_count": 60,
   "metadata": {},
   "outputs": [
    {
     "data": {
      "text/plain": [
       "143"
      ]
     },
     "execution_count": 60,
     "metadata": {},
     "output_type": "execute_result"
    }
   ],
   "source": [
    "len(bin(9046903600000000000000000000000000000000000)) - 2"
   ]
  },
  {
   "cell_type": "markdown",
   "metadata": {},
   "source": [
    "Now we have that the number of bits in this value of $N$ is $143$ from the code above so we can conjecture that the Pollard Rho function becomes infeasible at roughly $143$ bits when decomposing a product of two primes."
   ]
  },
  {
   "cell_type": "markdown",
   "metadata": {},
   "source": [
    "##  Pollard p-1 Algorithm\n",
    "\n",
    "If we know a number $N$ is the product of two primes, $p$ and $q$ we can use the Pollard $p-1$ Algorithm to find $p$ and $q$. So if we have:\n",
    "\n",
    "$N=pq$\n",
    "\n",
    "We know by Fermat's little theorem, that for $a$ and prime number $p$, where $gcd(a,p)=1$:\n",
    "\n",
    "$a^{p-1} \\equiv 1 (mod p)$\n",
    "\n",
    "We don't know $p$ but we can work with it. Take arbitary $L \\in \\mathbb{N}$. Now we suppose $p-1$ is a factor of $L$ then:\n",
    "\n",
    "$p-1|L$\n",
    "\n",
    "Now using Fermats little theorem again:\n",
    "\n",
    "$a^{L} \\equiv (a^{p-1})^{k} \\equiv 1(mod p)$\n",
    "\n",
    "So $p$ divides $a^{L}-1$. Since $p$ is a factor of $N$, $gcd(a^{L}-1,N)$ will include $p$.\n",
    "\n",
    "Now how do we find $L$?\n",
    "\n",
    "\n",
    "Since $p-1$ is not prime it is the product of prime numbers:\n",
    "\n",
    "$p-1 = p_{1}^{e_{1}}  \\times  p_{2}^{e_{2}}  \\times  ... $\n",
    "\n",
    "Where for some number $B$,\n",
    "\n",
    "$\\forall   p_{i} \\leq B$\n",
    "\n",
    "This property makes $p-1$ $B$-power smooth. Let $L$ be the least common multiple of all powers of primes $\\leq b$ that are $\\leq n$. If $l^{q} \\leq n$ , then $q\\space$ln $l \\leq$ ln $n$ and so $q\\leq \\lfloor \\frac{ln\\space n}{ln\\space l} \\rfloor$. Thus\n",
    "\n",
    "$$ L = \\prod_{primes \\space   l \\leq B} q^{\\lfloor ln \\space n \\space/\\space ln\\space l \\rfloor} $$\n",
    "\n",
    "\n",
    "### Algorithm\n",
    "\n",
    "\n",
    "$\\bullet$ Select $B$\n",
    "\n",
    "$\\bullet$ select random integer $a$, between 2 and $n-1$. Compute gcd($a,n$). If gcd($a,n$)$\\geq 2$ then return $gcd(a,n)$\n",
    "\n",
    "$\\bullet$ For each prime $l\\leq B$:\n",
    "           Compute $q\\leq \\lfloor \\frac{ln(n)}{ln(l)} \\rfloor$ and set $a = a^{l^q} (mod n)$\n",
    "           \n",
    "           \n",
    "$\\bullet$ Compute $d \\space = \\space gcd(a,n)$\n",
    "\n",
    "\n",
    "$\\bullet$ If $d=1$ then increase $B$. If $d=n$ then reduce $B$ and then start over again. Otherwise return $d$."
   ]
  },
  {
   "cell_type": "code",
   "execution_count": 63,
   "metadata": {},
   "outputs": [],
   "source": [
    "def primes(n):\n",
    "    alist = []\n",
    "    for i in range(n+1):\n",
    "        if is_prime_miller_rabin(i,40) == True:\n",
    "            alist.append(i)\n",
    "    return alist\n",
    "\n",
    "\n",
    "def pow_mod_pingala(base,exponent,modulus):\n",
    "    n = 1                            # n will be updated as shown above \n",
    "    bin_string = bin(exponent)[2:]   # Get exponent in binary \n",
    "    for bit in bin_string:           # Iterate throught binary string\n",
    "        if bit == '1':              \n",
    "            n = n * n * base  %  modulus\n",
    "        if bit == '0':              # The only other possible case. \n",
    "            n = n * n  %  modulus\n",
    "    return n \n",
    "\n",
    "def pminus1(n):\n",
    "    b = math.ceil(n**0.5)           #this is the smoothness bound, set because all prime factors of N are less than the square root of N\n",
    "    alist = primes(b)\n",
    "    a = 2\n",
    "    d = gcd(a,n)\n",
    "    found = False\n",
    "    if d >= 2:\n",
    "        found = True\n",
    "        return d\n",
    "    else:\n",
    "        while found == False:\n",
    "            for q in alist:\n",
    "                l = math.floor(math.log(n,10)/math.log(q,10))\n",
    "                c = pow(q,l)\n",
    "                a = pow_mod_pingala(a,c,n)      #here, we are using modular exponentiation from the lecture notes which is a lot faster than pow\n",
    "                d = gcd(a-1, n)\n",
    "                if d == 1:\n",
    "                    b += 1\n",
    "                if d == n:\n",
    "                    b -= 1    \n",
    "                else:\n",
    "                    found == True\n",
    "                    return d, int(n/d)\n"
   ]
  },
  {
   "cell_type": "code",
   "execution_count": 13,
   "metadata": {},
   "outputs": [],
   "source": [
    "#Tests\n",
    "assert pminus1(551)[0] * pminus1(551)[1] == 551    #checking pminus1 works for 10 bit N\n",
    "assert pminus1(542257)[0] * pminus1(542257)[1] == 542257    #checking pminus1 works for 20 bit N\n",
    "assert pminus1(818810243)[0] * pminus1(818810243)[1] == 818810243    #checking pminus1 works for 30 bit N\n",
    "assert pminus1(30662248501)[0] * pminus1(30662248501)[1] == 30662248501    #checking pminus1 works for 35 bit N\n"
   ]
  },
  {
   "cell_type": "markdown",
   "metadata": {},
   "source": [
    "### How long does the Pollard p-1 Algorithm Take?\n",
    "\n",
    "We will run a few %timeit tests for increasing values of $N = pq$ to find out roughly how effective this algorithm is at factorising these numbers and then compare it to our previous algorithms."
   ]
  },
  {
   "cell_type": "code",
   "execution_count": 14,
   "metadata": {},
   "outputs": [
    {
     "name": "stdout",
     "output_type": "stream",
     "text": [
      "876 µs ± 51.8 µs per loop (mean ± std. dev. of 7 runs, 1000 loops each)\n"
     ]
    }
   ],
   "source": [
    "%timeit pminus1(551)                #timeit test for a 10 bit N"
   ]
  },
  {
   "cell_type": "code",
   "execution_count": 15,
   "metadata": {},
   "outputs": [
    {
     "name": "stdout",
     "output_type": "stream",
     "text": [
      "18.2 ms ± 392 µs per loop (mean ± std. dev. of 7 runs, 100 loops each)\n"
     ]
    }
   ],
   "source": [
    "%timeit pminus1(542257)          #timeit test for a 20 bit N"
   ]
  },
  {
   "cell_type": "code",
   "execution_count": 16,
   "metadata": {},
   "outputs": [
    {
     "name": "stdout",
     "output_type": "stream",
     "text": [
      "522 ms ± 7.02 ms per loop (mean ± std. dev. of 7 runs, 1 loop each)\n"
     ]
    }
   ],
   "source": [
    "%timeit pminus1(818810243)          #timeit test for a 30 bit N"
   ]
  },
  {
   "cell_type": "code",
   "execution_count": 17,
   "metadata": {},
   "outputs": [
    {
     "name": "stdout",
     "output_type": "stream",
     "text": [
      "3.22 s ± 44.2 ms per loop (mean ± std. dev. of 7 runs, 1 loop each)\n"
     ]
    }
   ],
   "source": [
    "%timeit pminus1(30662248501)        #timeit test for a 35 bit N"
   ]
  },
  {
   "cell_type": "code",
   "execution_count": 18,
   "metadata": {},
   "outputs": [
    {
     "name": "stdout",
     "output_type": "stream",
     "text": [
      "Approximate Running Times of our Factoring Algorithms for N = pq\n",
      " \n",
      "Bit Size   Pollard's p-1   Decompose   Pollard's Rho\n",
      "========   =============   =========   ============\n",
      "10         0.0009          0.0001      0.0001      \n",
      "20         0.02            0.003       0.01        \n",
      "30         0.5             0.1         0.1         \n",
      "35         3               0.6         0.3         \n"
     ]
    }
   ],
   "source": [
    "#these times are the runtimes to one significant figure we have found from earlier when testing each function for\n",
    "#10,20,30 and 35 bits \n",
    "\n",
    "bits = [10,20,30,35]\n",
    "rough_pminus1_times = [0.0009,0.02,0.5,3]\n",
    "rough_decompose_times = [0.0001,0.003,0.1,0.6]\n",
    "rough_rho_times = [0.0001,0.01,0.1,0.3]\n",
    "\n",
    "\n",
    "print(\"Approximate Running Times of our Factoring Algorithms for N = pq\")\n",
    "print(' ')\n",
    "print(\"Bit Size   Pollard's p-1   Decompose   Pollard's Rho\")\n",
    "print(\"========   =============   =========   ============\")\n",
    "for n in range(len(rough_pminus1_times)):\n",
    "    bitsn = str(bits[n])\n",
    "    pminus1_timen = str(rough_pminus1_times[n])\n",
    "    decompose_timen = str(rough_decompose_times[n])\n",
    "    rho_timen = str(rough_rho_times[n])\n",
    "    print(\"{:7s}    {:7s}         {:7s}     {:7s}     \".format(bitsn,pminus1_timen,decompose_timen,rho_timen))\n",
    "    \n",
    "    "
   ]
  },
  {
   "cell_type": "markdown",
   "metadata": {},
   "source": [
    "### Analysis of Results\n",
    "\n",
    "It is clear to see from these times that this algorithm is not as efficient as our decompose function and definitely not as efficient as our Pollard's Rho algorithm.\n",
    "\n",
    "We can see that for each bit size of N, the Pollard $p-1$ algorithm is consistently slower than the other two.\n",
    "\n",
    "This suggests to us that it is never advantageous to use Pollard's $p-1$ algorithm for any $N's$ because these other two functions are more efficient. \n",
    "\n",
    "In terms of an RSA setting of factorising $N$ when $N$ is very large, it is definitely not feasible to use Pollard's $p-1$ algorithm because even at a small bit size of $35$, the runtime is $3$ seconds which is $10$ times slower than our Pollard Rho algorithm which we have already concluded becomes infeasible at $169$ bits."
   ]
  },
  {
   "cell_type": "markdown",
   "metadata": {},
   "source": [
    "### Time Complexity of the Pollard p-1 Algorithm\n",
    "\n",
    "The time complexity of the Pollard p-1 method for finding a factor $p$ of $n$ such that $p-1$ is $B$-smooth is $O(\\frac{Bln(n)}{ln(B)})$.\n",
    "\n",
    "This time complexity is exponential like both of our previous algorithms so as the bit size of $N$ increases, the running time will increase at a faster rate. We are already able to see this happening from the bit sizes going from $10$ to $35$. This is becase from $10$ to $20$ bit sizes, the runtime increases by $0.1991$ seconds. However, from $20$ to $30$ bit sizes, the runtime increases by $0.58$ seconds."
   ]
  },
  {
   "cell_type": "markdown",
   "metadata": {},
   "source": [
    "## Lenstra Elliptic-Curve Factorisation"
   ]
  },
  {
   "cell_type": "markdown",
   "metadata": {},
   "source": [
    "Lenstra's Elliptic-Curve Factorisation algorithm is the third fastest method for factoring large numbers and is the best for finding small factors of $N$."
   ]
  },
  {
   "cell_type": "markdown",
   "metadata": {},
   "source": [
    "## Elliptic curve approach\n",
    "An elliptic curve is in the form: \n",
    "\n",
    "$$ y^{3} = x^{3} +Ax + B$$\n",
    "\n",
    "\n",
    "\n",
    "In the elliptic curve approach we replace $\\mathbb{Z} /p \\mathbb{Z} $ with rational points $\\mathbb{F}_{p}$ on the elliptic curve $E(\\mathbb{F}_{p})$. Instead of $a^{k}$ we calculate $kP$ on a point $P\\in E(\\mathbb{F}_{p})$. When the number of rational points on the curve (#$E(\\mathbb{F}_{p})$) divides $k$ then $kP=O$, where $O$ is the infinite point on the curve, it will provide a factor of $n$. If #$E(\\mathbb{F}_{p})$$\\nmid k$ we select another curve $E^{'}(\\mathbb{F}_{p})$ which will have value #$E^{'}(\\mathbb{F}_{p})$. This will be random in the Hasse-Weil bound that states for a curve $E(\\mathbb{F}_{p})$,   $1+p-\\sqrt{2p}<$#$E(\\mathbb{F}_{p})$$<1+p + \\sqrt{2p}$.\n",
    "\n",
    "To calculate multiples of $P\\in E(\\mathbb{F}_{p})$ we will use repeated addition and doubling. We will work over $\\mathbb{Z} /n \\mathbb{Z} $. We know this is not a field as some elements $g \\in \\mathbb{Z} /n \\mathbb{Z}$ do not have inverses but this happens when $gcd(g,n) \\neq 1$ which is what we're looking for. Since we are using repeated addition and doubling, it is important to look at the formula for adding two points $P$ and $Q$ on the curve $E$ to get a point $R$\n",
    "\n",
    "$$ x_{R} = \\lambda^{2} - x_{P} - x_{Q}$$\n",
    "$$ y_{R} = y_{Q} + \\lambda (x_{R} - x_{Q})$$\n",
    "\n",
    "if $x_{P} \\neq x_{Q}$: \n",
    "\n",
    "$$ \\lambda = (y_{P} - y_{Q})(x_{P} - x_{Q})^{-1}$$\n",
    "\n",
    "if $x_{P} = x_{Q}$:\n",
    "\n",
    "$$ \\lambda = (3x_{p}^{2} + A)(2y_{p})^{-1} $$\n",
    "\n",
    "We will check if $x_{P} - x_{Q}$ and $2y_{p}$ have inverses in their respected cases.\n",
    "\n",
    "### Algorithm\n",
    "\n",
    "$\\bullet$ Choose random $A$, $x_{p}$, $y_{p}$ such that $1< A, x_{p}, y_{p} < n$.\n",
    "\n",
    "$\\bullet$ Calculate $B$ using elliptic curve formula\n",
    "\n",
    "$\\bullet$ Check curve is non-singular by seeing that $gcd(4A^{3} + 27B^{2}, n)=1$. If it equals $n$ then generate a different curve. If it is between $1$ and $n$, we're done.\n",
    "\n",
    "$\\bullet$ Using your chosen $K$ compute $lcm(1,....,K)$\n",
    "\n",
    "$\\bullet$ Attempt to compute $kP$. If the formula doesn't fail then change the curve.  After a while if this still doesn't produce a factor, increase $k$ and repeat\n",
    "\n",
    "$\\bullet$ If the formula does fail return the $gcd$ of either $x_{P} - x_{Q}$ or $2y_{p}$ with $n$ depending on the case.\n",
    "\n"
   ]
  },
  {
   "cell_type": "code",
   "execution_count": 64,
   "metadata": {},
   "outputs": [],
   "source": [
    "def modular_inv(a, b):\n",
    "    if b == 0:\n",
    "        return 1, 0, a\n",
    "    q, r = divmod(a, b)\n",
    "    x, y, g = modular_inv(b, r)\n",
    "    return y, x - q * y, g\n",
    "\n",
    "    \n",
    "# Addition in Elliptic curve modulo m space\n",
    "def elliptic_add(p, q, a, b, m):\n",
    "    # If one point is infinity, return other one\n",
    "    if p[2] == 0:\n",
    "        return q\n",
    "    if q[2] == 0: \n",
    "        return p\n",
    "    if p[0] == q[0]:\n",
    "        if (p[1] + q[1]) % m == 0:\n",
    "            return 0, 1, 0  # Infinity\n",
    "        num = (3 * p[0] * p[0] + a) % m\n",
    "        denom = (2 * p[1]) % m\n",
    "    else:\n",
    "        num = (q[1] - p[1]) % m\n",
    "        denom = (q[0] - p[0]) % m\n",
    "    inv, _, g = modular_inv(denom, m)\n",
    "    # Unable to find inverse, arithmetic breaks\n",
    "    if g > 1:\n",
    "        return 0, 0, denom  # Failure\n",
    "    z = (num * inv * num * inv - p[0] - q[0]) % m\n",
    "    return z, (num * inv * (p[0] - z) - p[1]) % m, 1\n",
    "\n",
    "# Multiplication (repeated addition and doubling)\n",
    "def elliptic_mul(k, p, a, b, m):\n",
    "    r = (0, 1, 0)  # Infinity\n",
    "    while k > 0:\n",
    "        # p is failure, return it\n",
    "        if p[2] > 1:\n",
    "            return p\n",
    "        if k % 2 == 1:\n",
    "            r = elliptic_add(p, r, a, b, m)\n",
    "        k = k // 2\n",
    "        p = elliptic_add(p, p, a, b, m)\n",
    "    return r\n",
    "\n",
    "\n",
    "# Lenstra's algorithm for factoring\n",
    "# Limit specifies the amount of work permitted\n",
    "def lenstra(n, limit):\n",
    "    g = n\n",
    "    while g == n:\n",
    "        # Randomized x and y\n",
    "        q = ran.randint(0, n - 1), ran.randint(0, n - 1), 1\n",
    "        # Randomized curve coefficient a, computed b\n",
    "        a = ran.randint(0, n - 1)\n",
    "        b = (q[1] * q[1] - q[0] * q[0] * q[0] - a * q[0]) % n\n",
    "        g = gcd(4 * a * a * a + 27 * b * b, n)  # singularity check\n",
    "    # If we got lucky, return lucky factor\n",
    "    if g > 1:\n",
    "        return g, n//g\n",
    "    # increase k step by step until lcm(1, ..., limit)\n",
    "    for p in primes(limit):\n",
    "        pp = p\n",
    "        while pp < limit:\n",
    "            q = elliptic_mul(p, q, a, b, n)\n",
    "            # Elliptic arithmetic breaks\n",
    "            if q[2] > 1:\n",
    "                return gcd(q[2], n), n//gcd(q[2],n)\n",
    "            pp = p * pp\n",
    "    return False"
   ]
  },
  {
   "cell_type": "code",
   "execution_count": 127,
   "metadata": {},
   "outputs": [],
   "source": [
    "#Tests\n",
    "#These assert checks work most of the time, if it does not work, the lenstra function has returned False, but if we \n",
    "#run the checks again, it is likely the asserts will run because lenstra returns factors with high probability\n",
    "\n",
    "a = lenstra(551,1000)\n",
    "assert a[0] * a[1] == 551    #checking lenstra works for 10 bit N\n",
    "b = lenstra(542257,1000)\n",
    "assert b[0] * b[1] == 542257    #checking lenstra works for 20 bit N\n",
    "c = lenstra(818810243,1000)\n",
    "assert c[0] * c[1] == 818810243    #checking lenstra works for 30 bit N\n",
    "d = lenstra(30662248501,1000)\n",
    "assert d[0] * d[1] == 30662248501    #checking lenstra works for 35 bit N\n"
   ]
  },
  {
   "cell_type": "markdown",
   "metadata": {},
   "source": [
    "### How long does the Lenstra's Algorithm Take?\n",
    "\n",
    "As before, we will run a few %timeit tests for increasing values of $N = pq$ to find out roughly how effective this algorithm is at factorising these numbers and then compare it to our previous algorithms."
   ]
  },
  {
   "cell_type": "code",
   "execution_count": 129,
   "metadata": {},
   "outputs": [
    {
     "name": "stdout",
     "output_type": "stream",
     "text": [
      "26.8 ms ± 5.39 ms per loop (mean ± std. dev. of 7 runs, 10 loops each)\n"
     ]
    }
   ],
   "source": [
    "%timeit lenstra(551,1000)                #timeit test for a 10 bit N"
   ]
  },
  {
   "cell_type": "code",
   "execution_count": 134,
   "metadata": {},
   "outputs": [
    {
     "name": "stdout",
     "output_type": "stream",
     "text": [
      "28.3 ms ± 4.1 ms per loop (mean ± std. dev. of 7 runs, 10 loops each)\n"
     ]
    }
   ],
   "source": [
    "%timeit lenstra(542257,1000)          #timeit test for a 20 bit N"
   ]
  },
  {
   "cell_type": "code",
   "execution_count": 135,
   "metadata": {},
   "outputs": [
    {
     "name": "stdout",
     "output_type": "stream",
     "text": [
      "33.3 ms ± 2.3 ms per loop (mean ± std. dev. of 7 runs, 10 loops each)\n"
     ]
    }
   ],
   "source": [
    "%timeit lenstra(818810243,1000)          #timeit test for a 30 bit N"
   ]
  },
  {
   "cell_type": "code",
   "execution_count": 136,
   "metadata": {},
   "outputs": [
    {
     "name": "stdout",
     "output_type": "stream",
     "text": [
      "44.5 ms ± 3.5 ms per loop (mean ± std. dev. of 7 runs, 10 loops each)\n"
     ]
    }
   ],
   "source": [
    "%timeit lenstra(30662248501,1000)        #timeit test for a 35 bit N"
   ]
  },
  {
   "cell_type": "code",
   "execution_count": 169,
   "metadata": {},
   "outputs": [
    {
     "name": "stdout",
     "output_type": "stream",
     "text": [
      "Approximate Running Times of our Factoring Algorithms for N = pq\n",
      " \n",
      "Bit Size   Lenstra   Decompose   Pollard's Rho   Pollard's p-1\n",
      "========   =======   =========   =============   =============\n",
      "10         0.03      0.0001      0.0001          0.0009 \n",
      "20         0.03      0.003       0.01            0.02   \n",
      "30         0.03      0.1         0.1             0.6    \n",
      "35         0.04      0.6         0.3             3      \n"
     ]
    }
   ],
   "source": [
    "#these times are the runtimes to one significant figure we have found from earlier when testing each function for\n",
    "#10,20,30 and 35 bits \n",
    "\n",
    "rough_lenstra_times = [0.03,0.03,0.03,0.04]\n",
    "\n",
    "print(\"Approximate Running Times of our Factoring Algorithms for N = pq\")\n",
    "print(' ')\n",
    "print(\"Bit Size   Lenstra   Decompose   Pollard's Rho   Pollard's p-1\")\n",
    "print(\"========   =======   =========   =============   =============\")\n",
    "for n in range(len(rough_pminus1_times)):\n",
    "    bitsn = str(bits[n])\n",
    "    pminus1_timen = str(rough_pminus1_times[n])\n",
    "    decompose_timen = str(rough_decompose_times[n])\n",
    "    rho_timen = str(rough_rho_times[n])\n",
    "    lenstra_timen = str(rough_lenstra_times[n])\n",
    "    print(\"{:7s}    {:7s}   {:7s}     {:7s}         {:7s}\".format(bitsn,lenstra_timen,decompose_timen,rho_timen,pminus1_timen))\n",
    "    \n",
    "    "
   ]
  },
  {
   "cell_type": "markdown",
   "metadata": {},
   "source": [
    "### Analysis of Results\n",
    "\n",
    "From these results, we can see that Lenstra's algorithm far outperforms all other algorithms when factorising larger $N$ of bit size $35$. Also, judging by the way the approximate running time of Lenstra's algorithm stays roughly the same ffrom bit sizes $10$ to $35$, it is not an unreasonable assumption that Lenstra's will be able to factorise far larger $N$ than Pollard's Rho, Pollard's $p-1$ and the decompose function could. We will test this claim in more detail later through more %timeit tests for larger bit sizes of $N$.\n",
    "\n",
    "However, for small bit sizes of $20$ or less, all other algorithms are faster, even Pollard's $p-1$! \n",
    "\n",
    "Therefore, if we ever decided to implement our own factoring algorithm for $N = pq$ using all of these algorithms, we would use the decompose function up to a bit size of about $20$ and from here, use Lenstra's algorithm to factorise all other larger"
   ]
  },
  {
   "cell_type": "markdown",
   "metadata": {},
   "source": [
    "### Tests for Larger $N$\n",
    "\n",
    "For these larger $N$, we have increased the amount of work permitted to be done by the algorithm by $10$ times so it still returns factors of $N$ with reasonably high probability."
   ]
  },
  {
   "cell_type": "code",
   "execution_count": 84,
   "metadata": {},
   "outputs": [
    {
     "data": {
      "text/plain": [
       "782057011584921932569"
      ]
     },
     "execution_count": 84,
     "metadata": {},
     "output_type": "execute_result"
    }
   ],
   "source": [
    "generate_Nbits(70)"
   ]
  },
  {
   "cell_type": "code",
   "execution_count": 235,
   "metadata": {},
   "outputs": [
    {
     "name": "stdout",
     "output_type": "stream",
     "text": [
      "285 ms ± 113 ms per loop (mean ± std. dev. of 7 runs, 1 loop each)\n"
     ]
    }
   ],
   "source": [
    "%timeit lenstra(706542481693,10000)           #timeit test for a 40 bit N"
   ]
  },
  {
   "cell_type": "code",
   "execution_count": 237,
   "metadata": {},
   "outputs": [
    {
     "name": "stdout",
     "output_type": "stream",
     "text": [
      "359 ms ± 158 ms per loop (mean ± std. dev. of 7 runs, 1 loop each)\n"
     ]
    }
   ],
   "source": [
    "%timeit lenstra(33629819514581,10000)         #timeit test for a 45 bit N"
   ]
  },
  {
   "cell_type": "code",
   "execution_count": 239,
   "metadata": {},
   "outputs": [
    {
     "name": "stdout",
     "output_type": "stream",
     "text": [
      "531 ms ± 151 ms per loop (mean ± std. dev. of 7 runs, 1 loop each)\n"
     ]
    }
   ],
   "source": [
    "%timeit lenstra(915925713947053,10000)        #timeit test for a 50 bit N"
   ]
  },
  {
   "cell_type": "code",
   "execution_count": 83,
   "metadata": {},
   "outputs": [
    {
     "name": "stdout",
     "output_type": "stream",
     "text": [
      "4.48 s ± 1.9 s per loop (mean ± std. dev. of 7 runs, 1 loop each)\n"
     ]
    }
   ],
   "source": [
    "%timeit lenstra(619664021840893559,100000)    #timeit test for a 60 bit N, increased amount of work dony by 10 times"
   ]
  },
  {
   "cell_type": "markdown",
   "metadata": {},
   "source": [
    "These results give further evidence that Lenstra's algorithm is far better at factorsing $N$ as a product of two primes than any of the previous algorithms we have looked at. Especially for large bit sizes due to its sub-exponential running time which we will discuss in the next section."
   ]
  },
  {
   "cell_type": "markdown",
   "metadata": {},
   "source": [
    "### Time Complexity of Lenstra's Algorithm\n",
    "\n",
    "Out of all of the factoring algorithms which we have seen, Lenstra's Elliptic Curve factoring algorithm is the only one which has a sub-exponential running time making it easily the most effective out of all of them to factorise large $N$. \n",
    "\n",
    "The Handbook of Applied Cryptography states in chapter $3$ that the expected running time of Lenstra's algorithm for $N = pq$ where $p$, $q$ are primes of similar size is as follows.\n",
    "\n",
    "$L_N[0.5, 1] = O(exp((1 + o(1))(ln(N)^{0.5}(ln(ln(N))^{0.5})$\n",
    "\n",
    "This is actually the same as the time complexity as the quadratic sieve algorithm which is the second fastest known factoring algorithm after the number field sieve factoring algorithm discovered in $1990$. However, in practise, Lenstra's algorithm is still slower than the quadratic sieve because the operations in the quadratic sieve are single precision operations whilst in Lenstra's algorithm, the operations are more computationally intensive multi-precision elliptic curve operations. \n",
    "\n"
   ]
  }
 ],
 "metadata": {
  "kernelspec": {
   "display_name": "Python 3",
   "language": "python",
   "name": "python3"
  },
  "language_info": {
   "codemirror_mode": {
    "name": "ipython",
    "version": 3
   },
   "file_extension": ".py",
   "mimetype": "text/x-python",
   "name": "python",
   "nbconvert_exporter": "python",
   "pygments_lexer": "ipython3",
   "version": "3.7.4"
  }
 },
 "nbformat": 4,
 "nbformat_minor": 2
}
