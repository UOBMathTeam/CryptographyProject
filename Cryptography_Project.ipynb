{
 "cells": [
  {
   "cell_type": "markdown",
   "metadata": {},
   "source": [
    "# Cryptography"
   ]
  },
  {
   "cell_type": "markdown",
   "metadata": {},
   "source": [
    "### Team\n",
    "<ol>\n",
    "    <li> Mark Pearson </li>\n",
    "    <li> Ronan Geraghty</li>\n",
    "    <li> Milan Patel </li>\n",
    "    <li> Will Steynor </li>\n",
    "</ol>\n",
    "\n"
   ]
  },
  {
   "cell_type": "code",
   "execution_count": 2,
   "metadata": {},
   "outputs": [],
   "source": [
    "from NumberFunctions import *\n",
    "import numpy as np\n",
    "import random as ran"
   ]
  },
  {
   "cell_type": "code",
   "execution_count": null,
   "metadata": {},
   "outputs": [],
   "source": []
  },
  {
   "cell_type": "markdown",
   "metadata": {},
   "source": [
    "### Core 2\n",
    "RSA Sign Message\n",
    "\n",
    "We know totient(prime) = prime - 1, and also totient is a multiplicative funciton.\n",
    "\n",
    "So totient(prime1 x prime2) = (prime1 - 1)(prime2 - 1)\n",
    "\n",
    "n-bit prime means it takes n bits of storage to store"
   ]
  },
  {
   "cell_type": "markdown",
   "metadata": {},
   "source": [
    "### Modular Inverse\n",
    "Solve, \n",
    "> $ax = 1 \\pmod{m} $ for  $x \\in \\{1,2,3,...,m-1\\}$\n",
    "\n",
    "\n",
    "Proof\n",
    "\n",
    "We have, where $x,y \\in \\mathbb{Z}$ are calculated by the Euclidean algorithm.\n",
    "> $ax+by = gcd(a,b)$\n",
    "\n",
    "We only need to take into account when $gcd(a,b)=1$ as $e$ is chosen so $gcd(e,\\phi{N})=1$\n",
    "\n",
    "Let $m=b$, where $gcd(a,m) = 1$\n",
    "\n",
    "So we get\n",
    "> \\begin{align*}\n",
    "ax+my &= 1\\\\\n",
    "ax + my &\\equiv 1\\pmod{m}\\\\\n",
    "ax &\\equiv 1\\pmod{m}\n",
    "\\end{align*}\n",
    "\n",
    "Therefore, $x$ is a modular inverse of $a$ for $m$\n",
    "\n",
    "However, by using the Euclidean algorithum sometimes $x$ is not in the set $\\{1,2,...,m-1\\}$. This is a problem as if $x$ is negative when we use it later for the RSA signiture we need to take the modulo of $int^{x}$, to do this we must have $int = int^{x}$\n",
    "\n",
    "Let us consider the case where $x \\notin \\{1,2,...,m-1\\}$, Let $d \\in \\mathbb{Z}$\n",
    "> \\begin{align*}\n",
    "ax &\\equiv 1\\pmod{m}\\\\\n",
    "ax + adm &\\equiv 1\\pmod{m}\\\\\n",
    "a(x + dm) &\\equiv 1\\pmod{m}\n",
    "\\end{align*}\n",
    "\n",
    "Set $x\\prime = x + dm \\iff x\\prime = x \\pmod{m}$\n",
    "\n",
    "We know $x\\prime \\in \\{1,2,...,m-1\\}$\n"
   ]
  },
  {
   "cell_type": "code",
   "execution_count": 168,
   "metadata": {},
   "outputs": [],
   "source": [
    "def totient(n):\n",
    "    '''return the totient of n,\n",
    "        number of postive integers < n which are coprime to n.'''\n",
    "    num = 0\n",
    "    for i in range(1,n):\n",
    "        if gcd(i,n) == 1:\n",
    "            num += 1\n",
    "    return num\n",
    "\n",
    "#Use hash\n",
    "def my_hash(message):\n",
    "    'Turn message to bits'\n",
    "    'Then turn into int h'\n",
    "    pass\n",
    "\n",
    "def modular_inverse(a,n):\n",
    "    '''Solves ax = 1 mod(n) for x in {1,2,3,...,m-1}'''\n",
    "    gcd, x, y = gcd_ext(a, n)\n",
    "    if gcd == 1:\n",
    "        return x%n\n",
    "    else:\n",
    "        return \"gcd not = 1\"\n",
    "\n",
    "\n",
    "def primality_test(N, t):\n",
    "    for i in range(0,t):\n",
    "        a = ran.randrange(0,N-1)\n",
    "        if a**(N-1) %N != 1:\n",
    "            return \"composite\"\n",
    "    return \"prime\"\n",
    "\n",
    "\n",
    "\n"
   ]
  },
  {
   "cell_type": "code",
   "execution_count": 169,
   "metadata": {},
   "outputs": [
    {
     "data": {
      "text/plain": [
       "649102072833799681092928429141278423619000743619292513009867"
      ]
     },
     "execution_count": 169,
     "metadata": {},
     "output_type": "execute_result"
    }
   ],
   "source": [
    " "
   ]
  },
  {
   "cell_type": "code",
   "execution_count": 165,
   "metadata": {},
   "outputs": [
    {
     "name": "stdout",
     "output_type": "stream",
     "text": [
      "Help on function gcd_ext in module NumberFunctions:\n",
      "\n",
      "gcd_ext(a, b)\n",
      "    Wish to output (gcd,x,y) such that gcd=ax+by.\n",
      "\n"
     ]
    }
   ],
   "source": [
    "help(gcd_ext)"
   ]
  },
  {
   "cell_type": "code",
   "execution_count": 167,
   "metadata": {},
   "outputs": [],
   "source": [
    "#Tests\n",
    "\n",
    "assert totient(7) == 6\n",
    "assert totient(35) == 24\n",
    "assert totient(5321) == 4992\n",
    "\n",
    "\n",
    "\n",
    "assert modular_inverse(15,7) == 1\n",
    "\n",
    "a=3487\n",
    "n=9837\n",
    "b=modular_inverse(a,n)\n",
    "assert (a*b)%n == 1\n",
    "\n",
    "#This test gets negative value originally, but inverse needs to be inbetween {1,2,..,m-1}\n",
    "a = 3231\n",
    "n = 12334\n",
    "assert modular_inverse(a,n) == 11895"
   ]
  },
  {
   "cell_type": "code",
   "execution_count": 170,
   "metadata": {},
   "outputs": [
    {
     "data": {
      "text/plain": [
       "1"
      ]
     },
     "execution_count": 170,
     "metadata": {},
     "output_type": "execute_result"
    }
   ],
   "source": [
    "modular_inverse(3231,12334)\n",
    "(3231*(12334-439))**2 % 12334"
   ]
  },
  {
   "cell_type": "code",
   "execution_count": 171,
   "metadata": {},
   "outputs": [
    {
     "data": {
      "text/plain": [
       "11895"
      ]
     },
     "execution_count": 171,
     "metadata": {},
     "output_type": "execute_result"
    }
   ],
   "source": [
    "12334-439"
   ]
  },
  {
   "cell_type": "markdown",
   "metadata": {},
   "source": [
    "Need to gen primes of n bit lenght, idea pick number in range check if it is prime. However, with big primes doesn't work very fast. Use proboballistic approach therefore find prime which has a high prob of being prime(longer it works the higher prob of being prime).\n",
    "\n",
    "Using Miller Rabin explain, proof"
   ]
  },
  {
   "cell_type": "code",
   "execution_count": 172,
   "metadata": {},
   "outputs": [],
   "source": [
    "def random_prime(n_bit, t, trails = 500):\n",
    "    '''Returns a uniform n-bit prime, with probability at most 2^(-t) getting a composite'''\n",
    "    for i in range(0, trails):\n",
    "        p = np.random.randint(0,2,n_bit-2)\n",
    "        b = \"\".join(str(i) for i in p)\n",
    "        my_int = int(\"1\" + b + \"1\", 2) #Want at least n bit and gives odd        \n",
    "        if is_prime_miller_rabin(my_int, t):\n",
    "            return my_int\n",
    "    return \"Fail\"\n",
    "\n",
    "def is_prime_miller_rabin(N,t):\n",
    "    '''If N is prime, test always outputs True(prime)\n",
    "    If N is composite outputs False(not prime) except with probability at most 2^(-t)'''\n",
    "    \n",
    "    if N == 2:\n",
    "        return True # Prime\n",
    "    \n",
    "    if N % 2 == 0:\n",
    "        return False # Comp\n",
    "    \n",
    "    d, s = calc_d_s(N)\n",
    "    for j in range(0,t):\n",
    "        a = ran.randrange(2,N-1)\n",
    "        if is_composite(N, d, s, a):\n",
    "            return False #Comp\n",
    "    return True #Prime\n",
    "    \n",
    "        \n",
    "def is_composite(N, d, s, a):\n",
    "    '''Evaulate a^d != +-1 mod(N), and, a^(d*2^r) != -1 mod(N) for r in {1,2,...,s-1},\n",
    "    However, if output False does not mean prime could be strong liar'''\n",
    "    remain = pow(a, d, N)\n",
    "    if (remain != 1) and (remain != N - 1):\n",
    "        for r in range(1,s):\n",
    "            remain = pow(remain, 2, N)\n",
    "            if remain != N-1:\n",
    "                pass\n",
    "            else:\n",
    "                return False    \n",
    "    else:\n",
    "        return False\n",
    "    \n",
    "    return True\n",
    "    \n",
    "def calc_d_s(N):\n",
    "    s = 0\n",
    "    Num = N - 1\n",
    "    while Num%2 == 0:\n",
    "        Num //= 2\n",
    "        s += 1\n",
    "    d = Num\n",
    "    return int(d), int(s)"
   ]
  },
  {
   "cell_type": "code",
   "execution_count": 173,
   "metadata": {},
   "outputs": [],
   "source": [
    "#Tests\n",
    "assert calc_d_s(71)[0] == 35\n",
    "assert calc_d_s(71)[1] == 1\n",
    "assert calc_d_s(127)[0] == 63\n",
    "assert calc_d_s(127)[1] == 1\n",
    "assert calc_d_s(9627824804082068411)[0] == 4813912402041034205\n",
    "assert calc_d_s(9627824804082068411)[1] == 1\n",
    "assert calc_d_s(203981900391787397947)[0] == 101990950195893698973\n",
    "assert calc_d_s(203981900391787397947)[1] == 1\n",
    "\n",
    "\n",
    "\n",
    "N, d, s = 221, 55, 2\n",
    "#137 is a witness for compositeness of 221\n",
    "a = 137\n",
    "assert is_composite(N, d, s, a) == True\n",
    "\n",
    "#174 will lead to 221 being a prime or 174 is a strong liar for 221\n",
    "a = 174\n",
    "assert is_composite(N, d, s, a) == False\n",
    "\n",
    "N, d, s = 71, 35, 1\n",
    "a = 19\n",
    "assert is_composite(N, d, s, a) == False\n",
    "\n",
    "\n",
    "assert is_prime_miller_rabin(203981900391787397947,40) == True"
   ]
  },
  {
   "cell_type": "markdown",
   "metadata": {},
   "source": [
    "(p,q) is the private key with 512 bit primes, in question but books say (N,f) is private key\n",
    "\n",
    "(N,e) is the public key, where N=pxq, \n",
    "\n",
    "h = hash(message)\n",
    "\n",
    "computes signature\n",
    "s = h^f mod(N)\n",
    "\n",
    "f is the multiplicative inverse of e modulo φ(N)\n",
    "\n",
    "send s to bob"
   ]
  },
  {
   "cell_type": "code",
   "execution_count": 208,
   "metadata": {},
   "outputs": [],
   "source": [
    "def gen_modulas(n_bit):\n",
    "    '''n_bit is the size of the primes you want, the secuirty level.\n",
    "    This will output (N,p,q), N = p*q, p,q are n_bit uniform primes'''\n",
    "    \n",
    "    p=\"\"\n",
    "    q=\"\"\n",
    "    \n",
    "    while type(p) == str or type(q) ==str:\n",
    "        p = random_prime(n_bit, 40)\n",
    "        q = random_prime(n_bit, 40)\n",
    "    N = p*q\n",
    "    return N, p, q\n",
    "\n",
    "def choose_e(phi_n):\n",
    "    e = 2\n",
    "    while True:\n",
    "        if gcd(e, phi_n) == 1:\n",
    "            return e\n",
    "        else:\n",
    "            e += 1\n",
    "\n",
    "def gen_RSA(n_bit):\n",
    "    '''n_bit is the size of the primes you want, the secuirty level.\n",
    "    output, N,e,f, N = p*q, e is relatively prime to phi(N), f solves ef = 1mod(phi(N))'''\n",
    "    N, p, q = gen_modulas(n_bit)\n",
    "    phi_n = (p-1)*(q-1)\n",
    "    e = choose_e(phi_n)\n",
    "    f = modular_inverse(e,phi_n)\n",
    "    return N,e,f\n",
    "    "
   ]
  },
  {
   "cell_type": "code",
   "execution_count": 195,
   "metadata": {},
   "outputs": [
    {
     "name": "stdout",
     "output_type": "stream",
     "text": [
      "p: 41\n",
      "q: 61\n",
      "7\n",
      "2400\n"
     ]
    },
    {
     "data": {
      "text/plain": [
       "(2501, 7, 343)"
      ]
     },
     "execution_count": 195,
     "metadata": {},
     "output_type": "execute_result"
    }
   ],
   "source": [
    "assert choose_e(448) == 3\n",
    "gen_RSA(100)"
   ]
  },
  {
   "cell_type": "code",
   "execution_count": 209,
   "metadata": {},
   "outputs": [
    {
     "data": {
      "text/plain": [
       "'Authenticated'"
      ]
     },
     "execution_count": 209,
     "metadata": {},
     "output_type": "execute_result"
    }
   ],
   "source": [
    "message = \"Hello\"\n",
    "N, e, f = gen_RSA(512) #N is product of two 512 bit primes except with negligible prob\n",
    "private_key = [N,f]\n",
    "public_key = [N,e] #maybe save as dict\n",
    "\n",
    "\n",
    "def Alice_part(message, private_key):\n",
    "    N = private_key[0]\n",
    "    f = private_key[1]\n",
    "    h = hash(message)\n",
    "    s = pow(h,f,N)\n",
    "    return s\n",
    "\n",
    "#Bob will get the public key, message and s\n",
    "s = Alice_part(message, private_key)\n",
    "\n",
    "def Bob_part(message, s, public_key):\n",
    "    N = public_key[0]\n",
    "    e = public_key[1]\n",
    "    h_prime = hash(message)\n",
    "    h = pow(s, e, N)\n",
    "    if h == h_prime%N:\n",
    "        return \"Authenticated\" #Message from Alice\n",
    "    else:\n",
    "        return \"Intruder\" #Message not from Alice\n",
    "    \n",
    "Bob_part(message, s, public_key)"
   ]
  },
  {
   "cell_type": "code",
   "execution_count": 197,
   "metadata": {},
   "outputs": [
    {
     "data": {
      "text/plain": [
       "15"
      ]
     },
     "execution_count": 197,
     "metadata": {},
     "output_type": "execute_result"
    }
   ],
   "source": [
    "pow(1053,7,2501)"
   ]
  },
  {
   "cell_type": "code",
   "execution_count": 44,
   "metadata": {},
   "outputs": [
    {
     "name": "stdout",
     "output_type": "stream",
     "text": [
      "Hello hashes to 5648249924368395339\n",
      "N is: 149034529219695800793470810661398045399855555913713242039707118969801278763904847219027681407782401533571375058821646870283598295576228556877550874819103739478953609684788156099452709192871021619083357779228456085542309986963526381461000452179205128944349914446204765632718104781004614511219086547591306792623\n",
      "phi(N) is: 149034529219695800793470810661398045399855555913713242039707118969801278763904847219027681407782401533571375058821646870283598295576228556877550874819103715062343538401944739184708306887043564562591601575481743186332531710711193024908456547985089089232235449550793896153673657720962530246519737316098070785920\n"
     ]
    },
    {
     "data": {
      "text/plain": [
       "62861950319384268118105945380194311353348822309999329910700516105653360815920249348525534288676007169961624157266275126954988382573261612912349658909028116289671431645061915439037639501783607627841827439869043312384695489799731205453304252674118014258619614955479885628040355746080595030193207632613575873423"
      ]
     },
     "execution_count": 44,
     "metadata": {},
     "output_type": "execute_result"
    }
   ],
   "source": [
    "e = 11 #need to chose e so gcd(e,phi(N))=1\n",
    "message = \"Hello\"\n",
    "h = hash(message)\n",
    "print(message + \" hashes to \" + str(h))\n",
    "p = random_prime(512, 40)\n",
    "q = random_prime(512, 40)\n",
    "N = p*q\n",
    "print (\"N is: \" + str(N))\n",
    "tot_N = (p-1)*(q-1)\n",
    "print (\"phi(N) is: \" + str(tot_N))\n",
    "\n",
    "f = modular_inverse(e,tot_N)\n",
    "s = pow(h, f, N)\n",
    "#Send s to bob still working progress"
   ]
  },
  {
   "cell_type": "code",
   "execution_count": null,
   "metadata": {},
   "outputs": [],
   "source": []
  },
  {
   "cell_type": "code",
   "execution_count": null,
   "metadata": {},
   "outputs": [],
   "source": []
  },
  {
   "cell_type": "code",
   "execution_count": 19,
   "metadata": {},
   "outputs": [],
   "source": []
  },
  {
   "cell_type": "code",
   "execution_count": 11,
   "metadata": {},
   "outputs": [
    {
     "name": "stdout",
     "output_type": "stream",
     "text": [
      "Help on built-in function pow in module builtins:\n",
      "\n",
      "pow(x, y, z=None, /)\n",
      "    Equivalent to x**y (with two arguments) or x**y % z (with three arguments)\n",
      "    \n",
      "    Some types, such as ints, are able to use a more efficient algorithm when\n",
      "    invoked using the three argument form.\n",
      "\n"
     ]
    }
   ],
   "source": [
    "help(pow)\n"
   ]
  },
  {
   "cell_type": "code",
   "execution_count": null,
   "metadata": {},
   "outputs": [],
   "source": []
  }
 ],
 "metadata": {
  "kernelspec": {
   "display_name": "Python 3",
   "language": "python",
   "name": "python3"
  },
  "language_info": {
   "codemirror_mode": {
    "name": "ipython",
    "version": 3
   },
   "file_extension": ".py",
   "mimetype": "text/x-python",
   "name": "python",
   "nbconvert_exporter": "python",
   "pygments_lexer": "ipython3",
   "version": "3.7.6"
  }
 },
 "nbformat": 4,
 "nbformat_minor": 2
}
