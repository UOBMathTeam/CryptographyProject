{
 "cells": [
  {
   "cell_type": "markdown",
   "metadata": {},
   "source": [
    "# Cryptography"
   ]
  },
  {
   "cell_type": "markdown",
   "metadata": {},
   "source": [
    "### Team\n",
    "<ol>\n",
    "    <li> Mark Pearson </li>\n",
    "    <li> Ronan Geraghty</li>\n",
    "    <li> Milan Patel </li>\n",
    "    <li> Will Steynor </li>\n",
    "</ol>\n",
    "\n"
   ]
  },
  {
   "cell_type": "code",
   "execution_count": 2,
   "metadata": {},
   "outputs": [],
   "source": [
    "from NumberFunctions import *\n",
    "import numpy as np\n",
    "import random as ran"
   ]
  },
  {
   "cell_type": "code",
   "execution_count": null,
   "metadata": {},
   "outputs": [],
   "source": []
  },
  {
   "cell_type": "markdown",
   "metadata": {},
   "source": [
    "### Core 2\n",
    "RSA Sign Message\n",
    "\n",
    "We know totient(prime) = prime - 1, and also totient is a multiplicative funciton.\n",
    "\n",
    "So totient(prime1 x prime2) = (prime1 - 1)(prime2 - 1)\n",
    "\n",
    "n-bit prime means it takes n bits of storage to store"
   ]
  },
  {
   "cell_type": "code",
   "execution_count": 20,
   "metadata": {},
   "outputs": [],
   "source": [
    "def totient(n):\n",
    "    '''return the totient of n,\n",
    "        number of postive integers < n which are coprime to n.'''\n",
    "    num = 0\n",
    "    for i in range(1,n):\n",
    "        if gcd(i,n) == 1:\n",
    "            num += 1\n",
    "    return num\n",
    "\n",
    "#Use hash\n",
    "def my_hash(message):\n",
    "    'Turn message to bits'\n",
    "    'Then turn into int h'\n",
    "    pass\n",
    "\n",
    "def modular_inverse(a,n):\n",
    "    '''Solves ax = 1 mod(n) for x '''\n",
    "    gcd, x, y = gcd_ext(a, n)\n",
    "    if gcd == 1:\n",
    "        return x\n",
    "    else:\n",
    "        return \"gcd not = 1\"\n",
    "\n",
    "\n",
    "def primality_test(N, t):\n",
    "    for i in range(0,t):\n",
    "        a = ran.randrange(0,N-1)\n",
    "        if a**(N-1) %N != 1:\n",
    "            return \"composite\"\n",
    "    return \"prime\"\n",
    "\n",
    "\n",
    "\n"
   ]
  },
  {
   "cell_type": "code",
   "execution_count": 21,
   "metadata": {},
   "outputs": [],
   "source": [
    "#Tests\n",
    "\n",
    "assert totient(7) == 6\n",
    "assert totient(35) == 24\n",
    "assert totient(5321) == 4992\n",
    "\n",
    "\n",
    "\n",
    "assert modular_inverse(15,7) == 1\n",
    "\n",
    "a=3487\n",
    "n=9837\n",
    "b=modular_inverse(a,n)\n",
    "assert (a*b)%n == 1"
   ]
  },
  {
   "cell_type": "markdown",
   "metadata": {},
   "source": [
    "Need to gen primes of n bit lenght, idea pick number in range check if it is prime. However, with big primes doesn't work very fast. Use proboballistic approach therefore find prime which has a high prob of being prime(longer it works the higher prob of being prime).\n",
    "\n",
    "Using Miller Rabin explain, proof"
   ]
  },
  {
   "cell_type": "code",
   "execution_count": 16,
   "metadata": {},
   "outputs": [],
   "source": [
    "def random_prime(n_bit, t, trails = 500):\n",
    "    '''Returns a uniform n-bit prime, with probability at most 2^(-t) getting a composite'''\n",
    "    for i in range(0, trails):\n",
    "        p = np.random.randint(0,2,n_bit-2)\n",
    "        b = \"\".join(str(i) for i in p)\n",
    "        my_int = int(\"1\" + b + \"1\", 2) #Want at least n bit and gives odd        \n",
    "        if is_prime_miller_rabin(my_int, t):\n",
    "            return my_int\n",
    "    return \"Fail\"\n",
    "\n",
    "def is_prime_miller_rabin(N,t):\n",
    "    '''If N is prime, test always outputs True(prime)\n",
    "    If N is composite outputs False(not prime) except with probability at most 2^(-t)'''\n",
    "    \n",
    "    if N == 2:\n",
    "        return True # Prime\n",
    "    \n",
    "    if N % 2 == 0:\n",
    "        return False # Comp\n",
    "    \n",
    "    d, s = calc_d_s(N)\n",
    "    for j in range(0,t):\n",
    "        a = ran.randrange(2,N-1)\n",
    "        if is_composite(N, d, s, a):\n",
    "            return False #Comp\n",
    "    return True #Prime\n",
    "    \n",
    "        \n",
    "def is_composite(N, d, s, a):\n",
    "    '''Evaulate a^d != +-1 mod(N), and, a^(d*2^r) != -1 mod(N) for r in {1,2,...,s-1},\n",
    "    However, if output False does not mean prime could be strong liar'''\n",
    "    remain = pow(a, d, N)\n",
    "    if (remain != 1) and (remain != N - 1):\n",
    "        for r in range(1,s):\n",
    "            remain = pow(remain, 2, N)\n",
    "            if remain != N-1:\n",
    "                pass\n",
    "            else:\n",
    "                return False    \n",
    "    else:\n",
    "        return False\n",
    "    \n",
    "    return True\n",
    "    \n",
    "def calc_d_s(N):\n",
    "    s = 0\n",
    "    Num = N - 1\n",
    "    while Num%2 == 0:\n",
    "        Num //= 2\n",
    "        s += 1\n",
    "    d = Num\n",
    "    return int(d), int(s)"
   ]
  },
  {
   "cell_type": "code",
   "execution_count": 17,
   "metadata": {},
   "outputs": [],
   "source": [
    "#Tests\n",
    "assert calc_d_s(71)[0] == 35\n",
    "assert calc_d_s(71)[1] == 1\n",
    "assert calc_d_s(127)[0] == 63\n",
    "assert calc_d_s(127)[1] == 1\n",
    "assert calc_d_s(9627824804082068411)[0] == 4813912402041034205\n",
    "assert calc_d_s(9627824804082068411)[1] == 1\n",
    "assert calc_d_s(203981900391787397947)[0] == 101990950195893698973\n",
    "assert calc_d_s(203981900391787397947)[1] == 1\n",
    "\n",
    "\n",
    "\n",
    "N, d, s = 221, 55, 2\n",
    "#137 is a witness for compositeness of 221\n",
    "a = 137\n",
    "assert is_composite(N, d, s, a) == True\n",
    "\n",
    "#174 will lead to 221 being a prime or 174 is a strong liar for 221\n",
    "a = 174\n",
    "assert is_composite(N, d, s, a) == False\n",
    "\n",
    "N, d, s = 71, 35, 1\n",
    "a = 19\n",
    "assert is_composite(N, d, s, a) == False\n",
    "\n",
    "\n",
    "assert is_prime_miller_rabin(203981900391787397947,40) == True"
   ]
  },
  {
   "cell_type": "markdown",
   "metadata": {},
   "source": [
    "(p,q) is the private key with 512 bit primes,\n",
    "\n",
    "(N,e) is the private key, where N=pxq, \n",
    "\n",
    "h = hash(message)\n",
    "\n",
    "computes signature\n",
    "s = h^f mod(N)\n",
    "\n",
    "f is the multiplicative inverse of e modulo φ(N)\n",
    "\n",
    "send s to bob"
   ]
  },
  {
   "cell_type": "code",
   "execution_count": 44,
   "metadata": {},
   "outputs": [
    {
     "name": "stdout",
     "output_type": "stream",
     "text": [
      "Hello hashes to 5648249924368395339\n",
      "N is: 149034529219695800793470810661398045399855555913713242039707118969801278763904847219027681407782401533571375058821646870283598295576228556877550874819103739478953609684788156099452709192871021619083357779228456085542309986963526381461000452179205128944349914446204765632718104781004614511219086547591306792623\n",
      "phi(N) is: 149034529219695800793470810661398045399855555913713242039707118969801278763904847219027681407782401533571375058821646870283598295576228556877550874819103715062343538401944739184708306887043564562591601575481743186332531710711193024908456547985089089232235449550793896153673657720962530246519737316098070785920\n"
     ]
    },
    {
     "data": {
      "text/plain": [
       "62861950319384268118105945380194311353348822309999329910700516105653360815920249348525534288676007169961624157266275126954988382573261612912349658909028116289671431645061915439037639501783607627841827439869043312384695489799731205453304252674118014258619614955479885628040355746080595030193207632613575873423"
      ]
     },
     "execution_count": 44,
     "metadata": {},
     "output_type": "execute_result"
    }
   ],
   "source": [
    "e = 11 #need to chose e so gcd(e,phi(N))=1\n",
    "message = \"Hello\"\n",
    "h = hash(message)\n",
    "print(message + \" hashes to \" + str(h))\n",
    "p = random_prime(512, 40)\n",
    "q = random_prime(512, 40)\n",
    "N = p*q\n",
    "print (\"N is: \" + str(N))\n",
    "tot_N = (p-1)*(q-1)\n",
    "print (\"phi(N) is: \" + str(tot_N))\n",
    "\n",
    "f = modular_inverse(e,tot_N)\n",
    "s = pow(h, f, N)\n",
    "#Send s to bob still working progress"
   ]
  },
  {
   "cell_type": "code",
   "execution_count": null,
   "metadata": {},
   "outputs": [],
   "source": []
  },
  {
   "cell_type": "code",
   "execution_count": 19,
   "metadata": {},
   "outputs": [],
   "source": []
  },
  {
   "cell_type": "code",
   "execution_count": 11,
   "metadata": {},
   "outputs": [
    {
     "name": "stdout",
     "output_type": "stream",
     "text": [
      "Help on built-in function pow in module builtins:\n",
      "\n",
      "pow(x, y, z=None, /)\n",
      "    Equivalent to x**y (with two arguments) or x**y % z (with three arguments)\n",
      "    \n",
      "    Some types, such as ints, are able to use a more efficient algorithm when\n",
      "    invoked using the three argument form.\n",
      "\n"
     ]
    }
   ],
   "source": [
    "help(pow)\n"
   ]
  },
  {
   "cell_type": "code",
   "execution_count": null,
   "metadata": {},
   "outputs": [],
   "source": []
  }
 ],
 "metadata": {
  "kernelspec": {
   "display_name": "Python 3",
   "language": "python",
   "name": "python3"
  },
  "language_info": {
   "codemirror_mode": {
    "name": "ipython",
    "version": 3
   },
   "file_extension": ".py",
   "mimetype": "text/x-python",
   "name": "python",
   "nbconvert_exporter": "python",
   "pygments_lexer": "ipython3",
   "version": "3.7.6"
  }
 },
 "nbformat": 4,
 "nbformat_minor": 2
}
