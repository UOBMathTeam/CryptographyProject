{
 "cells": [
  {
   "cell_type": "markdown",
   "metadata": {},
   "source": [
    "# Cryptography"
   ]
  },
  {
   "cell_type": "markdown",
   "metadata": {},
   "source": [
    "### Team\n",
    "<ol>\n",
    "    <li> Mark Pearson </li>\n",
    "    <li> Ronan Geraghty</li>\n",
    "    <li> Milan Patel </li>\n",
    "    <li> Will Steynor </li>\n",
    "</ol>\n",
    "\n"
   ]
  },
  {
   "cell_type": "code",
   "execution_count": 1,
   "metadata": {},
   "outputs": [],
   "source": [
    "from NumberFunctions import *\n",
    "import numpy as np\n",
    "import random as ran\n",
    "import matplotlib.pyplot as plt"
   ]
  },
  {
   "cell_type": "markdown",
   "metadata": {},
   "source": [
    "Stuff extra to include\n",
    "\n",
    "+ difference between asymmetric and symmetric cryptography\n",
    "\n",
    "+ Steganography"
   ]
  },
  {
   "cell_type": "markdown",
   "metadata": {},
   "source": [
    "## Core 2: RSA Signature Message"
   ]
  },
  {
   "cell_type": "markdown",
   "metadata": {},
   "source": [
    "### Modular Inverse\n",
    "Solve, \n",
    "> $ax = 1 \\pmod{m} $ for  $x \\in \\{1,2,3,...,m-1\\}$\n",
    "\n",
    "\n",
    "Proof\n",
    "\n",
    "We have, where $x,y \\in \\mathbb{Z}$ are calculated by the Euclidean algorithm.\n",
    "> $ax+by = gcd(a,b)$\n",
    "\n",
    "We only need to take into account when $gcd(a,b)=1$ as $e$ is chosen so $gcd(e,\\phi{N})=1$\n",
    "\n",
    "Let $m=b$, where $gcd(a,m) = 1$\n",
    "\n",
    "So we get\n",
    "> \\begin{align*}\n",
    "ax+my &= 1\\\\\n",
    "ax + my &\\equiv 1\\pmod{m}\\\\\n",
    "ax &\\equiv 1\\pmod{m}\n",
    "\\end{align*}\n",
    "\n",
    "Therefore, $x$ is a modular inverse of $a$ for $m$\n",
    "\n",
    "However, by using the Euclidean algorithum sometimes $x$ is not in the set $\\{1,2,...,m-1\\}$. This is a problem as if $x$ is negative when we use it later for the RSA signiture we need to take the modulo of $int^{x}$, to do this we must have $int = int^{x}$\n",
    "\n",
    "Let us consider the case where $x \\notin \\{1,2,...,m-1\\}$, Let $d \\in \\mathbb{Z}$\n",
    "> \\begin{align*}\n",
    "ax &\\equiv 1\\pmod{m}\\\\\n",
    "ax + adm &\\equiv 1\\pmod{m}\\\\\n",
    "a(x + dm) &\\equiv 1\\pmod{m}\n",
    "\\end{align*}\n",
    "\n",
    "Set $x\\prime = x + dm \\iff x\\prime = x \\pmod{m}$\n",
    "\n",
    "We know $x\\prime \\in \\{1,2,...,m-1\\}$\n"
   ]
  },
  {
   "cell_type": "code",
   "execution_count": 2,
   "metadata": {},
   "outputs": [],
   "source": [
    "def totient(n):\n",
    "    '''return the totient of n,\n",
    "        number of postive integers < n which are coprime to n.'''\n",
    "    num = 0\n",
    "    for i in range(1,n):\n",
    "        if gcd(i,n) == 1:\n",
    "            num += 1\n",
    "    return num\n",
    "\n",
    "def my_hash(message, N):\n",
    "    '''Turn message to bits\n",
    "    Then turn into int h'''\n",
    "    return hash(message)%N\n",
    "\n",
    "def modular_inverse(a,n):\n",
    "    '''Solves ax = 1 mod(n) for x in {1,2,3,...,m-1}'''\n",
    "    gcd, x, y = gcd_ext(a, n)\n",
    "    if gcd == 1:\n",
    "        return x%n\n",
    "    else:\n",
    "        return \"gcd not = 1\"\n",
    "    \n",
    "def get_primes_composites(n, is_prime_FUN = isprime_basic):\n",
    "    '''returns a numpy array of primes and composites with largest number being n,\n",
    "    is_prime_FUN: which function will be used to identify if a number is prime'''\n",
    "    primes = []\n",
    "    composites = []\n",
    "    \n",
    "    \n",
    "    for num in range(1,n+1):\n",
    "        if is_prime_FUN(num):\n",
    "            primes.append(num)\n",
    "        else:\n",
    "            composites.append(num)\n",
    "        \n",
    "    return np.array(primes), np.array(composites)\n",
    "\n",
    "\n",
    "def primality_test(N, t):\n",
    "    for i in range(0,t):\n",
    "        a = ran.randrange(0,N-1)\n",
    "        if a**(N-1) %N != 1:\n",
    "            return \"composite\"\n",
    "    return \"prime\"\n",
    "\n",
    "\n",
    "\n"
   ]
  },
  {
   "cell_type": "code",
   "execution_count": 3,
   "metadata": {},
   "outputs": [],
   "source": [
    "#Tests\n",
    "\n",
    "assert totient(7) == 6\n",
    "assert totient(35) == 24\n",
    "assert totient(5321) == 4992\n",
    "\n",
    "\n",
    "\n",
    "assert modular_inverse(15,7) == 1\n",
    "\n",
    "a=3487\n",
    "n=9837\n",
    "b=modular_inverse(a,n)\n",
    "assert (a*b)%n == 1\n",
    "\n",
    "#This test gets negative value originally, but inverse needs to be inbetween {1,2,..,m-1}\n",
    "a = 3231\n",
    "n = 12334\n",
    "assert modular_inverse(a,n) == 11895\n",
    "\n",
    "\n",
    "expected_primes = np.array([2,3,5,7,11,13,17,19])\n",
    "expected_composites = np.array([1,4,6,8,9,10,12,14,15,16,18,20])\n",
    "\n",
    "primes, composites = get_primes_composites(20)\n",
    "assert max(primes - expected_primes) == 0\n",
    "assert max(composites - expected_composites) == 0\n",
    "\n"
   ]
  },
  {
   "cell_type": "markdown",
   "metadata": {},
   "source": [
    "### Generating primes using Miller Rabin\n",
    "An n bit number is one which requires n bits to be stored, with the most signifcant bit (the left most bit) being 1. This means the n bit number is in the range $[2^{n-1}, 2^n)$.\n",
    "\n",
    "we need to generate primes of n bit lenght, the idea is to pick a n bit number and check if it is prime. However, with large values of primes the traditional method of checking if numbers divide the prime doesn't work very fast, if n is prime it has at best a speed of $O(\\sqrt{n})$. \n",
    "\n",
    "However, by using a proboballistic approach to find primes. Large primes can be found. The longer the algorithum is run for the higher the probability of getting a prime is. We will be using the probabilistic method called Miller Rabin.\n",
    "\n",
    "#### How Miller Rabin Works\n",
    "\n",
    "Let $n$ be prime with $n>2$\n",
    "\n",
    "So we have $n-1$ must be even, this means it can be written as $2^sd$ with $s,d \\in \\mathbb{N}_+$ and $d$ odd.\n",
    "\n",
    "Therefore, we have one of these must be true for each $a\\in \\{2,3,...,n-1\\}$\n",
    "\n",
    "> $a^d \\equiv 1 \\mod{n}$\n",
    "\n",
    "or\n",
    "\n",
    ">$a^{2^rd} \\equiv -1 \\mod{n}$ for $r \\in \\{0,1,2,...,s-1\\}$\n",
    "\n",
    "To prove this we will use Fermat's Little Theorem which states for a prime number $n$ and $a\\in \\mathbb{Z}/n\\mathbb{Z}$.\n",
    "> $a^{n-1} \\equiv 1\\mod{n} \\iff a^{n} \\equiv a \\mod{n}$\n",
    "\n",
    "This can be written as\n",
    ">$a^{n-1} = a^{2^sd}$\n",
    "\n",
    "Then by taking square roots\n",
    ">\\begin{align*}\n",
    "\\sqrt{a^{2^sd}} &\\equiv \\sqrt{1} \\mod{n}\\\\\n",
    "&\\text{ }\\\\\n",
    "a^{2^{s-1}d} &\\equiv +1 \\mod{n} \\\\\n",
    "\\textrm{or}&\\\\\n",
    "a^{2^{s-1}d} &\\equiv -1 \\mod{n}\n",
    "\\end{align*}\n",
    "\n",
    "If it is $+1$ we square root again, when we get the modulo equal to $-1$ we can no longer take any more square roots so that equation is true. Therefore, we get one of the above equations must be true.\n",
    "\n",
    "However, we will be using the contrapositive of the above claim,\n",
    "\n",
    "The contrapositve states,\n",
    "> $(P \\rightarrow Q) \\iff (\\neg{Q} \\rightarrow \\neg{P})$\n",
    "\n",
    "So we get the contrapositive of the above claim is \n",
    "> $a^d \\not\\equiv 1 \\mod{n}$\n",
    "\n",
    "and\n",
    "\n",
    ">$a^{2^rd} \\not\\equiv -1 \\mod{n}$ for $r \\in \\{0,1,2,...,s-1\\}$\n",
    "\n",
    "Then $n$ is not a prime,\n",
    "\n",
    "When $a$ satisfys these equations $a$ is know as a witness for the composition of $n$.\n",
    "\n",
    "When $a$ does not satisfy these equations and $n$ is composite, $a$ is known as a strong liar. This means $n$ is a strong probable prime to base $a$.\n",
    "\n",
    "By randomly picking $a\\in\\{2,3,...,n-1\\}$ multiple times it is unlikely for all of the selected $a$ to be strong liars.\n",
    "\n",
    "This leads to the fact, if $p$ is $prime$, then the Miller Rabin test outputs $prime$. If p is $composite$, the algorithum outputs $composite$ but has a small chance of outputing $prime$."
   ]
  },
  {
   "cell_type": "code",
   "execution_count": 4,
   "metadata": {},
   "outputs": [],
   "source": [
    "def random_prime(n_bit, t, trails = 500):\n",
    "    '''Returns a uniform n-bit prime, with probability at most 2^(-t) getting a composite,\n",
    "    the higher the trails the less chance of failing to generate a prime but takes longer'''\n",
    "    for i in range(0, trails):\n",
    "        p = np.random.randint(0,2,n_bit-2)\n",
    "        b = \"\".join(str(i) for i in p)\n",
    "        my_int = int(\"1\" + b + \"1\", 2) #Want at least n bit and gives odd        \n",
    "        if is_prime_miller_rabin(my_int, t):\n",
    "            return my_int\n",
    "    return \"Fail\"\n",
    "\n",
    "def is_prime_miller_rabin(N,t = 40):\n",
    "    '''If N is prime, test always outputs True(prime)\n",
    "    If N is composite outputs False(not prime) except with probability at most 2^(-t)'''\n",
    "    \n",
    "    if N == 2:\n",
    "        return True # Prime\n",
    "    \n",
    "    if N == 3:\n",
    "        return True # Prime\n",
    "    \n",
    "    if N % 2 == 0:\n",
    "        return False # Comp\n",
    "    \n",
    "    if N < 2:\n",
    "        return False # Comp\n",
    "    \n",
    "    d, s = calc_d_s(N)\n",
    "    for j in range(0,t):\n",
    "        a = ran.randrange(2,N-1)\n",
    "        if is_composite(N, d, s, a):\n",
    "            return False #Comp\n",
    "    return True #Prime\n",
    "    \n",
    "        \n",
    "def is_composite(N, d, s, a):\n",
    "    '''Evaulate a^d != +-1 mod(N), and, a^(d*2^r) != -1 mod(N) for r in {1,2,...,s-1},\n",
    "    However, if output False does not mean prime, it could be a strong liar'''\n",
    "    remain = pow(a, d, N)\n",
    "    if (remain != 1) and (remain != N - 1):\n",
    "        for r in range(1,s):\n",
    "            remain = pow(remain, 2, N)\n",
    "            if remain != N-1:\n",
    "                pass\n",
    "            else:\n",
    "                return False    \n",
    "    else:\n",
    "        return False\n",
    "    \n",
    "    return True\n",
    "    \n",
    "def calc_d_s(N):\n",
    "    s = 0\n",
    "    Num = N - 1\n",
    "    while Num%2 == 0:\n",
    "        Num //= 2\n",
    "        s += 1\n",
    "    d = Num\n",
    "    return int(d), int(s)"
   ]
  },
  {
   "cell_type": "code",
   "execution_count": 5,
   "metadata": {},
   "outputs": [],
   "source": [
    "#Tests\n",
    "assert calc_d_s(71)[0] == 35\n",
    "assert calc_d_s(71)[1] == 1\n",
    "assert calc_d_s(127)[0] == 63\n",
    "assert calc_d_s(127)[1] == 1\n",
    "assert calc_d_s(9627824804082068411)[0] == 4813912402041034205\n",
    "assert calc_d_s(9627824804082068411)[1] == 1\n",
    "assert calc_d_s(203981900391787397947)[0] == 101990950195893698973\n",
    "assert calc_d_s(203981900391787397947)[1] == 1\n",
    "\n",
    "\n",
    "\n",
    "N, d, s = 221, 55, 2\n",
    "#137 is a witness for compositeness of 221\n",
    "a = 137\n",
    "assert is_composite(N, d, s, a) == True\n",
    "\n",
    "#174 will lead to 221 being a prime or 174 is a strong liar for 221\n",
    "a = 174\n",
    "assert is_composite(N, d, s, a) == False\n",
    "\n",
    "N, d, s = 71, 35, 1\n",
    "a = 19\n",
    "assert is_composite(N, d, s, a) == False\n",
    "\n",
    "\n",
    "assert is_prime_miller_rabin(203981900391787397947,40) == True\n",
    "assert is_prime_miller_rabin(-1235,40) == False\n",
    "assert is_prime_miller_rabin(1,40) == False\n",
    "assert is_prime_miller_rabin(3,40) == True\n",
    "\n",
    "#Tests\n",
    "expected_primes = np.array([2,3,5,7,11,13,17,19])\n",
    "expected_composites = np.array([1,4,6,8,9,10,12,14,15,16,18,20])\n",
    "\n",
    "primes, composites = get_primes_composites(20, is_prime_miller_rabin)\n",
    "assert max(primes - expected_primes) == 0\n",
    "assert max(composites - expected_composites) == 0"
   ]
  },
  {
   "cell_type": "code",
   "execution_count": 6,
   "metadata": {},
   "outputs": [],
   "source": [
    "def gen_modulas(n_bit):\n",
    "    '''n_bit is the size of the primes you want, the secuirty level.\n",
    "    This will output (N,p,q), N = p*q, p,q are n_bit uniform primes'''\n",
    "    \n",
    "    p=\"\"\n",
    "    q=\"\"\n",
    "    \n",
    "    while type(p) == str or type(q) ==str:\n",
    "        p = random_prime(n_bit, 40)\n",
    "        q = random_prime(n_bit, 40)\n",
    "    N = p*q\n",
    "    return N, p, q\n",
    "\n",
    "def choose_e(phi_n):\n",
    "    e = 2\n",
    "    while True:\n",
    "        if gcd(e, phi_n) == 1:\n",
    "            return e\n",
    "        else:\n",
    "            e += 1\n",
    "\n",
    "def gen_RSA(n_bit):\n",
    "    '''n_bit is the size of the primes you want, the secuirty level.\n",
    "    output, N,e,f, N = p*q, e is relatively prime to phi(N), f solves ef = 1mod(phi(N))'''\n",
    "    N, p, q = gen_modulas(n_bit)\n",
    "    phi_n = (p-1)*(q-1)\n",
    "    e = choose_e(phi_n)\n",
    "    f = modular_inverse(e,phi_n)\n",
    "    return N,e,f\n",
    "    "
   ]
  },
  {
   "cell_type": "code",
   "execution_count": 7,
   "metadata": {},
   "outputs": [],
   "source": [
    "assert choose_e(448) == 3"
   ]
  },
  {
   "cell_type": "markdown",
   "metadata": {},
   "source": [
    "### The RSA-FDH Signature Scheme\n",
    "This is from the hash and sign paradigm. Where FDH means full domain hash. There are three stages to this scheme: Generation, Sign and Verify\n",
    "+ Generation\n",
    "  - We input the n-bit size of the random uniform primes we want\n",
    "  - This will give us a private key $(N,f)$ and public key $(N,e)$\n",
    "  - Where $N=pq$ and\n",
    "  > $ef \\equiv 1 \\mod{\\phi{N}} $\n",
    "  - A hash function $H$ is generated so all outputs are in $\\{1,2,3,...,N-1\\}$\n",
    "  - The hash function $H$ is part of the public key\n",
    "+ Sign\n",
    "  - We input the private key $(N,f)$ and a messsage which will be hashed by $H$ into $h$\n",
    "  - So we can compute the $s \\in \\mathbb{Z}$, which is the signature\n",
    "  > $s \\equiv m^d \\pmod{N}$  \n",
    "+ Verify\n",
    "  - We input the public key $(N,e)$ and a messsage which will be hashed by $H$ into $h\\prime$\n",
    "  - We input $s$ the signature\n",
    "  - Output $1$ which means authenticated if and only if\n",
    "  > $h \\equiv s^e \\pmod{N}$\n",
    "\n",
    "This works as\n",
    "> $s^e \\equiv (h^f)^e \\equiv h^{ef \\mod{\\phi{N}}} \\equiv h^1 \\equiv h\\mod{N}$\n",
    "\n",
    "The reason why this is effective is becuase calculating $\\phi{N}$ is very difficult, but with extra information $pq=N$ where $p,q \\in$ Primes it makes $\\phi{N}$ easy to calculate, this is know as a trap door. Additionally, the private key can be calculated from knowing the public key and the two primes that make up $N$.\n",
    "\n",
    "Where $\\phi{}$ is the Euler totient function. "
   ]
  },
  {
   "cell_type": "code",
   "execution_count": 8,
   "metadata": {},
   "outputs": [],
   "source": [
    "def Generation(n_bit):\n",
    "    '''input: n_bit, size of primes wanted\n",
    "    output: private and public key'''\n",
    "    N,e,f = gen_RSA(n_bit)\n",
    "    private_key = {\"N\":N, \"f\":f}\n",
    "    public_key = {\"N\":N, \"e\":e}\n",
    "    return private_key, public_key\n",
    "    \n",
    "def Sign(message, private_key):\n",
    "    h = my_hash(message, private_key[\"N\"])\n",
    "    s = pow(h,private_key[\"f\"],private_key[\"N\"])\n",
    "    return s\n",
    "\n",
    "def Verify(message, s, public_key):\n",
    "    h_prime = my_hash(message, public_key[\"N\"])\n",
    "    h = pow(s, public_key[\"e\"], public_key[\"N\"])\n",
    "    \n",
    "    if h_prime == h:\n",
    "        return 1 #Authenticated\n",
    "    else:\n",
    "        return 0 #Intruder\n",
    "    "
   ]
  },
  {
   "cell_type": "markdown",
   "metadata": {},
   "source": [
    "#### Note, why is $\\phi{(pq)}$ is easy to calculate\n",
    "\n",
    "For large $N$, we have $\\phi{(N)}$ is difficult to calculate. But since $\\phi$ is a multiplicative function we have when $a,b$ are relatively prime ($gcd(a,b)=1$). Then,\n",
    "> $\\phi{(ab)} = \\phi{(a)}\\phi{(b)}$\n",
    "\n",
    "We also have by the definition of the Euler totient function, for all $p\\in primes$\n",
    "> $\\phi{(p)} = p-1$\n",
    "\n",
    "This means if two primes denoted by $p,q$ can be found such that $N=pq$, then $\\phi{(N)}$ can be quickly calculated by\n",
    "> $\\phi{(N)} = \\phi{(p)}\\phi{(q)} = (p-1)(q-1)$\n",
    "\n",
    "\n",
    "Below is a graph of the totient function for the first 500 numbers"
   ]
  },
  {
   "cell_type": "code",
   "execution_count": 9,
   "metadata": {},
   "outputs": [
    {
     "data": {
      "image/png": "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\n",
      "text/plain": [
       "<Figure size 1008x432 with 1 Axes>"
      ]
     },
     "metadata": {
      "needs_background": "light"
     },
     "output_type": "display_data"
    }
   ],
   "source": [
    "x_prime, x_comp = get_primes_composites(500)\n",
    "\n",
    "y_prime = np.array([totient(x_prime[i]) for i in range(0,len(x_prime))])\n",
    "y_comp = np.array([totient(x_comp[i]) for i in range(0,len(x_comp))])\n",
    "\n",
    "plt.figure(figsize=(14,6))\n",
    "plt.scatter(x_comp, y_comp, color = \"blue\", label = \"Composites\")\n",
    "plt.scatter(x_prime, y_prime, color = \"red\", label = \"Primes\")\n",
    "plt.title(\"Euler Totient Function\")\n",
    "plt.ylabel(\"Totient\")\n",
    "plt.xlabel(\"Number\")\n",
    "plt.legend(fontsize = \"x-large\")\n",
    "plt.show()"
   ]
  },
  {
   "cell_type": "markdown",
   "metadata": {},
   "source": [
    "#### Note, forms of private key\n",
    "If the private key is of the format $(p,q)$ where $N=pq$ given the public key $(N,e)$, the private key can be written in the format $(N,f)$ where $fe \\equiv 1 \\mod{\\phi(N)}$ by the following code"
   ]
  },
  {
   "cell_type": "code",
   "execution_count": 10,
   "metadata": {},
   "outputs": [],
   "source": [
    "def convert_to_N_f(prime_private_key,public_key):\n",
    "    '''inputs private key of form two primes and public key\n",
    "    outputs the new private key of form(N,f)'''\n",
    "    p = prime_private_key[\"p\"]\n",
    "    q = prime_private_key[\"q\"]\n",
    "    N = public_key[\"N\"]\n",
    "    e = public_key[\"e\"]\n",
    "    \n",
    "    if p*q != N:\n",
    "        return \"The private key does not work with public key\"\n",
    "    \n",
    "    phi_N = (p-1)*(q-1)\n",
    "    f = modular_inverse(e,phi_N)\n",
    "    new_private_key = {\"N\":N, \"f\":f}\n",
    "    return new_private_key\n",
    "    "
   ]
  },
  {
   "cell_type": "code",
   "execution_count": 11,
   "metadata": {},
   "outputs": [],
   "source": [
    "#Tests\n",
    "prime_private_key = {\"p\":41, \"q\":61}\n",
    "public_key = {\"N\":2501, \"e\":7}\n",
    "private_key = convert_to_N_f(prime_private_key, public_key)\n",
    "assert private_key == {\"N\":2501, \"f\":343}"
   ]
  },
  {
   "cell_type": "markdown",
   "metadata": {},
   "source": [
    "## Examples of RSA Signature"
   ]
  },
  {
   "cell_type": "markdown",
   "metadata": {},
   "source": [
    "### Example 1, no intruder"
   ]
  },
  {
   "cell_type": "markdown",
   "metadata": {},
   "source": [
    "Bob wants to know the message he has been sent is from Alice. Therefore, Alice needs to generate private and public keys, sign the message. When Bob recieves the message he has to verify the message is from Alice."
   ]
  },
  {
   "cell_type": "code",
   "execution_count": 12,
   "metadata": {},
   "outputs": [
    {
     "data": {
      "text/plain": [
       "1"
      ]
     },
     "execution_count": 12,
     "metadata": {},
     "output_type": "execute_result"
    }
   ],
   "source": [
    "message = \"Hello Bob my freind\"\n",
    "#Generate keys with 512 bit primes\n",
    "private_key, public_key = Generation(512)\n",
    "\n",
    "#Alice needs to sign message\n",
    "s = Sign(message, private_key)\n",
    "\n",
    "#s and message are sent to Bob\n",
    "#Bob should also have access to the public key\n",
    "#Bob will now verify Alice sent the message\n",
    "Verification = Verify(message, s, public_key)\n",
    "Verification"
   ]
  },
  {
   "cell_type": "markdown",
   "metadata": {},
   "source": [
    "As can be seen the verification process passed so Bob knows Alice sent the message.\n",
    "\n",
    "Sometimes with very small probability the prime generator will produce a composite number. However, this is fine as then the message will fail the verification process and then the signature process happens again."
   ]
  },
  {
   "cell_type": "markdown",
   "metadata": {},
   "source": [
    "### Example 2, intruder Dave"
   ]
  },
  {
   "cell_type": "markdown",
   "metadata": {},
   "source": [
    "Bob wants to know the message he has been sent is from Alice. And that Dave has not captured and changed the message. Same as before  Alice needs to generate private and public keys, sign the message. When Bob recieves the message he has to verify the message is from Alice. If the message fails verification Dave has changed the messsage. "
   ]
  },
  {
   "cell_type": "code",
   "execution_count": 13,
   "metadata": {},
   "outputs": [
    {
     "data": {
      "text/plain": [
       "0"
      ]
     },
     "execution_count": 13,
     "metadata": {},
     "output_type": "execute_result"
    }
   ],
   "source": [
    "message = \"Hello Bob my freind\"\n",
    "#Generate keys with 512 bit primes\n",
    "private_key, public_key = Generation(512)\n",
    "\n",
    "#Alice needs to sign message\n",
    "s = Sign(message, private_key)\n",
    "\n",
    "#s and message are sent to Bob\n",
    "#Bob should also have access to the public key\n",
    "\n",
    "#Dave intercepts the message and changes it\n",
    "message = \"I declare war on Bob\"\n",
    "#Dave sends new message to Bob\n",
    "\n",
    "#Bob will now verify Alice sent the message\n",
    "Verification = Verify(message, s, public_key)\n",
    "Verification"
   ]
  },
  {
   "cell_type": "markdown",
   "metadata": {},
   "source": [
    "The verification failed this means Bob knows that someone has intercepted and changed the message. "
   ]
  },
  {
   "cell_type": "markdown",
   "metadata": {},
   "source": [
    "### Example 3, 6 bit primes with tests and calculations\n",
    "\n",
    "Let the message be hashed to $h$ where $h=15$, we will use 6 bit primes $p=41$ and $q=61$ so we get $N=2501$, we will use the fact that the Euler's totient function is multiplicative and $\\phi{prime} = prime - 1$.\n",
    ">$\\phi{2501} = \\phi{41}\\phi{61} = 40*60 = 2400$"
   ]
  },
  {
   "cell_type": "code",
   "execution_count": 14,
   "metadata": {},
   "outputs": [],
   "source": [
    "assert totient(2501) == 2400"
   ]
  },
  {
   "cell_type": "markdown",
   "metadata": {},
   "source": [
    "We will select $e=7$ as $gcd(7,2400)=1$\n",
    "\n",
    "calc by hand show working\n",
    "if test then we get all pass"
   ]
  },
  {
   "cell_type": "code",
   "execution_count": 15,
   "metadata": {},
   "outputs": [],
   "source": [
    "assert choose_e(2400) == 7"
   ]
  },
  {
   "cell_type": "markdown",
   "metadata": {},
   "source": [
    "We need to solve for f\n",
    ">\\begin{align*}\n",
    "ef &\\equiv 1 \\mod{\\phi{N}}\\\\\n",
    "7f &\\equiv 1 \\mod{2400}\\\\\n",
    "f &= 343\n",
    "\\end{align*}"
   ]
  },
  {
   "cell_type": "code",
   "execution_count": 16,
   "metadata": {},
   "outputs": [],
   "source": [
    "assert modular_inverse(7, 2400) == 343"
   ]
  },
  {
   "cell_type": "markdown",
   "metadata": {},
   "source": [
    "Therefore, we get private key $(N=2501, f=343)$ and public key $(N=2501, e=7)$"
   ]
  },
  {
   "cell_type": "code",
   "execution_count": 17,
   "metadata": {},
   "outputs": [],
   "source": [
    "private_key = {\"N\": 2501, \"f\": 343}\n",
    "public_key = {\"N\": 2501, \"e\": 7}\n",
    "message = 15"
   ]
  },
  {
   "cell_type": "markdown",
   "metadata": {},
   "source": [
    "We need to sign the message, the signature $s$\n",
    ">\\begin{align*}\n",
    "s &\\equiv h^f \\mod{N}\\\\\n",
    "s &\\equiv 15^{343} \\mod{2501}\\\\\n",
    "s &= 1053\n",
    "\\end{align*}"
   ]
  },
  {
   "cell_type": "code",
   "execution_count": 18,
   "metadata": {},
   "outputs": [],
   "source": [
    "s = Sign(message, private_key)\n",
    "assert s == 1053"
   ]
  },
  {
   "cell_type": "markdown",
   "metadata": {},
   "source": [
    "The message and signature are sent off to the person, the person will verify the message by checking if their $h\\prime = h$.\n",
    "\n",
    "Let us consider the case where the message is not changed.\n",
    "\n",
    ">\\begin{align*}\n",
    "h &\\equiv s^e \\pmod{N}\\\\\n",
    "h &\\equiv 1053^{7} \\pmod{2501}\\\\\n",
    "h &= 15\n",
    "\\end{align*}\n",
    "\n",
    "So since $h\\prime = h$ the message will be verified."
   ]
  },
  {
   "cell_type": "code",
   "execution_count": 19,
   "metadata": {},
   "outputs": [],
   "source": [
    "assert Verify(message, s, public_key) == 1"
   ]
  },
  {
   "cell_type": "markdown",
   "metadata": {},
   "source": [
    "This time the same message is sent but a middle man intercepts the message and changes it. Let the new message be hashed to $h\\prime=16$. Therefore, $h\\prime \\neq h$.\n"
   ]
  },
  {
   "cell_type": "code",
   "execution_count": 20,
   "metadata": {},
   "outputs": [],
   "source": [
    "message = 16\n",
    "assert Verify(message, s, public_key) == 0"
   ]
  },
  {
   "cell_type": "markdown",
   "metadata": {},
   "source": [
    "The middle man will struggle to forge $s$ as they will struggle to find $f$ as they know $e$ and $N$ but only knowing that information makes solving $ef \\equiv 1 \\mod{\\phi{N}}$ for $f$ difficult for large $N$ as $\\phi{N}$ takes a long time to calculate."
   ]
  },
  {
   "cell_type": "markdown",
   "metadata": {},
   "source": [
    "### Problems with the Plain RSA signature\n",
    "The Plain RSA signature is the same as the RSA-FDH signature but without the hash function $H$. This means only integers in $\\{1,2,...,N-1\\}$ can be sent as the message. With this signature there are a few forms of attacks.\n",
    "\n",
    "##### A no control of message attack,\n",
    "\n",
    "\n",
    "This attack only requires the public key $(N,e)$, it works as follows. The attacker uniformly picks a signature $s$ where $s\\in\\{1,2,3,...,N-1\\}$. Then calculates the message $h$ where \n",
    ">$h \\equiv s^e \\mod{N}$\n",
    "\n",
    "Therefore, the message $h$ has a valid signature $s$, this is a forgery as no signatures were signed by the owner of the public key. However, the attacker has no control over the messages $h$ that get forged.\n",
    "\n",
    "If this attack is reapeted multiple times for different values of the signature $s$ then the attacker can pick a forged message which suits their needs.\n",
    "\n",
    "\n",
    "##### Forging a signature on an arbitary message\n",
    "\n",
    "Say the attacker wants to forge a message $h\\in\\{1,2,3,...,N-1\\}$ with respect to the public key $(N,e)$, then the attcker picks  $h_1,h_2\\in\\{1,2,3,...,N-1\\}$ which is different from $h$ with\n",
    "> $h \\equiv h_1h_2\\mod{N}$\n",
    "\n",
    "The attacker then needs to obtain valid signatures $s_1, s_2$ for $h_1, h_2$. Then we have $s \\equiv s_1s_2 \\mod{N}$ is a valid signature for $h$. This is because\n",
    ">$s^e \\equiv (s_1s_2)^e \\equiv (h_{1}^{f}h_{2}^{f})^e \\equiv h_1^{fe}h_2^{fe} \\equiv h_1h_2 \\equiv h \\mod{N}$\n",
    "\n",
    "where $f$ is part of the private key, but isn't needed for this to work.\n",
    "\n",
    "This may not seem devastating but it is dangerous to make assumptions about what messages the signer may or may not be willing to sign.\n",
    "\n",
    "Additionally, multiple valid signatures $\\textbf{s} = \\{s_1, s_2, ..., s_q\\}$ and their corresponding messages $\\textbf{h} = \\{h_1,h_2,...,h_q\\}$ can be captured. By using the same principle as above the attacker can obtain a valid signature on any of the $2^q-q$ other messages by taking products of the subset $\\textbf{h}$.\n",
    "\n",
    "Furthermore, one example of getting signatures and messages is when a client wants to connect to a server. If a cleint uses a signature scheme to authenticate with the server and this is done by the cleint signing a random message sent by the server. It is easy for a malicious server to ask for a certain message to be signed.\n",
    "\n",
    "#### Hash Function\n",
    "Let $m$ be a string message and $h$ be a hashed message such that $H(m) = h$\n",
    "\n",
    "This means to prevent these attacks the hash function $H$ must have certain properties.\n",
    "+ $H$ must be hard to invert, this will prevent the \"no control of message attack\". As for each valid signature that is forged it is diffcult to find the string message $m$ which corresponds to the hashed message $h$\n",
    "\n",
    "+ $H$ must not have multiplicative relations, that means it is hard to find three messages $m,m_1,m_2$ such that $H(m) = H(m_1)H(m_2)$. This should prevent the \"forgery of an arbitary message\".\n",
    "\n",
    "+ It must be hard to find collisions for $H$. Since if $H(m_1)=H(m_2)$, then $m_1$ and $m_2$ have the same signature, this means forgery of a non signed message is trivial.\n"
   ]
  },
  {
   "cell_type": "code",
   "execution_count": null,
   "metadata": {},
   "outputs": [],
   "source": []
  }
 ],
 "metadata": {
  "kernelspec": {
   "display_name": "Python 3",
   "language": "python",
   "name": "python3"
  },
  "language_info": {
   "codemirror_mode": {
    "name": "ipython",
    "version": 3
   },
   "file_extension": ".py",
   "mimetype": "text/x-python",
   "name": "python",
   "nbconvert_exporter": "python",
   "pygments_lexer": "ipython3",
   "version": "3.7.6"
  }
 },
 "nbformat": 4,
 "nbformat_minor": 2
}


from time import process_time   


def generate_N(k,n):
    alist = ([])
    for i in range(2*n):
        alist.append(random_prime(k,40))
    x = np.array_split(alist,n)
    blist = ([])
    for j in range(n):
        blist.append(np.product(x[j]))
    return blist

numbers = generate_N(25,5)


sample_size = len(numbers)

start = process_time()           
for n in numbers:
    decompose(n)
end = process_time()            

total_time = end - start
average_time = total_time / sample_size

print("\nThe time taken was {:.2f} seconds".format(total_time))
print("The average time per number was", end = " ") 
print("{:.2f} seconds".format(average_time))  
