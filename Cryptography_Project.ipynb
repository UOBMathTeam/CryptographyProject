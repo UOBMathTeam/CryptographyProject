{
 "cells": [
  {
   "cell_type": "markdown",
   "metadata": {},
   "source": [
    "Cryptography"
   ]
  },
  {
   "cell_type": "markdown",
   "metadata": {},
   "source": [
    "### Team\n",
    "<ol>\n",
    "    <li> Mark Pearson </li>\n",
    "    <li> Ronan Geraghty</li>\n",
    "    <li> Milan Patel </li>\n",
    "    <li> Will Steynor </li>\n",
    "</ol>\n",
    "\n"
   ]
  },
  {
   "cell_type": "code",
   "execution_count": 5,
   "metadata": {},
   "outputs": [],
   "source": [
    "from NumberFunctions import *\n",
    "import numpy as np\n",
    "import random as ran\n",
    "import matplotlib.pyplot as plt\n",
    "from time import process_time\n",
    "import pandas as pd\n",
    "import numba\n",
    "import time\n",
    "import secrets\n",
    "import os"
   ]
  },
  {
   "cell_type": "markdown",
   "metadata": {},
   "source": [
    "Stuff extra to include\n",
    "\n",
    "+ difference between asymmetric and symmetric cryptography\n",
    "\n",
    "+ Steganography\n",
    "\n",
    "+ wrighting own pow function with acceleration Done"
   ]
  },
  {
   "cell_type": "markdown",
   "metadata": {},
   "source": []
  },
  {
   "cell_type": "markdown",
   "metadata": {},
   "source": []
  },
  {
   "cell_type": "markdown",
   "metadata": {},
   "source": [
    "# Introduction"
   ]
  },
  {
   "cell_type": "markdown",
   "metadata": {},
   "source": [
    "### Style Guide - PEP 8"
   ]
  },
  {
   "cell_type": "markdown",
   "metadata": {},
   "source": [
    "Our group will be using the coding style PEP 8 in this project. A PEP stands for 'Python Enhancement Proposal' which is a python document proving information for the Python community. For example, PEP 1 is called 'PEP Purpose and Guidelines'.\n",
    "\n",
    "We will be using PEP 8 as it will make our code easier to read. Additionally, the project is being developed by different people so having a consistent coding style will make the code feel more seamless and polished.\n",
    "\n",
    "The guidelines for Pep 8 are at https://www.python.org/dev/peps/pep-0008/"
   ]
  },
  {
   "cell_type": "markdown",
   "metadata": {},
   "source": [
    "### Big Integers"
   ]
  },
  {
   "cell_type": "markdown",
   "metadata": {},
   "source": [
    "In this project we want to use numba which will allow us to compile python code. However, one problem we will have with using this is an overflow error with dealing with big integers. A natural example of this would be a hand tally counter, when all the rotors become 9 then the addition of an extra click will make to system go to all zeros. Therefore, the system can count but has to be modulo $10^{\\text{number of rotors}}$. An example to do with computers would be,\n",
    "\n",
    "Assume we have a n-bit machine, we have a max size $2^n -1$. If we do\n",
    "> $(2^n -1) + (2^n-1) = 2 \\cdot 2^n - 2 \\geq 2^n -1$\n",
    "\n",
    "The result will be out of range. The program will either raise an error or carry on the process but only with the last n bits (taking the last n bits is essentially doing $\\pmod{2^{n+1}}$). Additionally, if the input to a function is set as 'int64' then the function is limited to working with 64 bit integers. Therefore, for the numba algorithms they can only be used with bits smaller than the bit size of the CPU. Also when there is a square in the algorithm the input has to be a bit number half the bit size of the CPU.\n",
    "\n",
    "\n",
    "\n",
    "This problem can be solved by creating a type class named something like 'BigInt' for numba. However, the solution created may end up being slower than the normal python implementation. \n",
    "\n",
    "By looking at the python source code on github https://github.com/python/cpython/blob/master/Objects/longobject.c, (which is not written in python) we gain an understanding on how python stores and processes integers bigger than the bit size of the CPU.\n",
    "\n",
    "In Python $3.x$ the types 'long' and 'int' were merged together. Therefore, the integers are non limited in length. These integers are stored in base $2^{30}$, with the number being stored in a int32 array. Below is an example:\n",
    "\n",
    "> \\begin{align*}\n",
    "& 64563604292343170255\\\\\n",
    "=& 1231 \\cdot (2^{30})^{0} + 32 \\cdot (2^{30})^1 + 56 \\cdot (2^{30})^2\n",
    "\\end{align*}\n",
    "\n",
    "Therefore, this will be stored as $[1231, 32, 56]$\n",
    "Since the range for each element is $[0,2^{30}-1]$ two bits are left because these are required for some operations. An example of an operation is when adding, as sometimes the addition will overflow the base $2^{30}$, when this happens it carries over to the next element.\n",
    "\n",
    "Another interesting method is how python multiplies two large integers together, it doesn't use repeated adding which multiplication is defined as but instead it uses an algorithm called 'Karatsuba Algorithm'.\n",
    "\n"
   ]
  },
  {
   "cell_type": "markdown",
   "metadata": {},
   "source": [
    "### The Square and Multiply Algorithm"
   ]
  },
  {
   "cell_type": "markdown",
   "metadata": {},
   "source": [
    "In this project we want to use numba which will allow us to compile python code. This is because in cryptography many functions take a long time to run. However, the numba module does not support the 'pow' function. Therefore, we will make our own 'pow' function that will be based on Square and Multiply Algorithm. This uses the fact\n",
    "\n",
    ">$$\n",
    "[a^b \\mod{N}]=\n",
    "\\begin{cases}\n",
    "[(a^{b/2})^2 \\mod{N}], &\\textrm{when $b$ is even}\\\\\n",
    "[a\\cdot (a^{(b-1)/2})^2 \\mod{N}], &\\textrm{when $b$ is odd}\n",
    "\\end{cases}\n",
    "$$"
   ]
  },
  {
   "cell_type": "code",
   "execution_count": 6,
   "metadata": {},
   "outputs": [],
   "source": [
    "@numba.jit(numba.uint64(numba.uint64, numba.uint64, numba.uint64), nopython=True)\n",
    "def my_pow(a, b, N):\n",
    "    r\"\"\"Square and Multiply\n",
    "\n",
    "    Calculates a^b mod(N), in time polynomial in |a|,|b| and |N|\n",
    "\n",
    "    Parameters\n",
    "    ----------\n",
    "    a : int, up to 63 bit\n",
    "    b : int, up to 63 bit\n",
    "        b > 0\n",
    "    N : int, up to 31 bit\n",
    "\n",
    "    Returns\n",
    "    -------\n",
    "    int\n",
    "        The solution to a^b mod(N)   \n",
    "    \"\"\"\n",
    "    x = a\n",
    "    t = 1\n",
    "    # So solution is tx^b mod(N)\n",
    "    while b > 0:\n",
    "        if b % 2 == 1:\n",
    "            # Odd\n",
    "            t, b = (t*x) % N, b-1\n",
    "        x, b = ((x % N)**2) % N, b//2\n",
    "    return t"
   ]
  },
  {
   "cell_type": "code",
   "execution_count": 7,
   "metadata": {},
   "outputs": [],
   "source": [
    "# Tests\n",
    "assert my_pow(12321, 546547, 2349809) == pow(12321, 546547, 2349809)\n",
    "assert my_pow(4564, 47, 9809) == pow(4564, 47, 9809)\n",
    "assert my_pow(2**33, 2**33, 21312) == pow(2**33, 2**33, 21312)\n",
    "\n",
    "n = 63\n",
    "assert my_pow(2**n, 2**n, 8589934591) == pow(2**n, 2**n, 8589934591)"
   ]
  },
  {
   "cell_type": "code",
   "execution_count": 8,
   "metadata": {
    "deletable": false,
    "editable": false,
    "run_control": {
     "frozen": true
    }
   },
   "outputs": [
    {
     "name": "stdout",
     "output_type": "stream",
     "text": [
      "2.06 µs ± 31 ns per loop (mean ± std. dev. of 7 runs, 100000 loops each)\n",
      "2.6 µs ± 191 ns per loop (mean ± std. dev. of 7 runs, 100000 loops each)\n"
     ]
    }
   ],
   "source": [
    "%timeit my_pow(12321, 546547, 2349809)\n",
    "%timeit pow(12321, 546547, 2349809)"
   ]
  },
  {
   "cell_type": "markdown",
   "metadata": {},
   "source": [
    "Therefore, the code which was just created is over $1.5$x faster than the python built in function.\n",
    "\n",
    "However, this function has its limits as the parameters have to be 64 bit integers and in a calculation if a number becomes larger than 64 bits then an overflow error occurs, meaning the first few bits will be dropped leading to the incorrect result."
   ]
  },
  {
   "cell_type": "markdown",
   "metadata": {},
   "source": [
    "### Create File Structure"
   ]
  },
  {
   "cell_type": "markdown",
   "metadata": {},
   "source": [
    "We will need a file structure, this will be used to make the files neater and easier to read. For example, it will be used to store running times for some algorithms. As running these at run time will make the project take a long time to run. "
   ]
  },
  {
   "cell_type": "code",
   "execution_count": 9,
   "metadata": {},
   "outputs": [],
   "source": [
    "directory = 'data'\n",
    "\n",
    "if not os.path.exists(directory):\n",
    "    os.makedirs(directory)"
   ]
  },
  {
   "cell_type": "markdown",
   "metadata": {},
   "source": [
    "Is Will in this team or should we sub him out."
   ]
  },
  {
   "cell_type": "markdown",
   "metadata": {},
   "source": [
    "## Core 1: Ciphers, Encryption, Decryption and Cracking"
   ]
  },
  {
   "cell_type": "markdown",
   "metadata": {},
   "source": [
    "### The Caesar Cipher\n",
    "\n",
    "Firstly before getting into different types of ciphers and how to crack these ciphers, we will define a cipher.\n",
    "\n",
    "A cipher is simply an algorithm used to encrypt data, and since we use an algorithm, we can reverse this algorithm to decrypt already encrypted data given that we have enough information.\n",
    "\n",
    "These algorithms used for encryption can be very simple, in fact the first cipher we look at, The Caesar Cipher, was used by the Roman leader Julian Caeser to encrypt messages. The Caesar Cipher is a type of cipher known as a substitution cipher, this means that each letter (this can include symbols, numbers and pretty much any character you want) is replaced by another letter. The Caesar Cipher does this by first choosing a key which can be a number from 1 to 26 (this can be a larger range as you add more characters as you'll see) let's say we choose the key 12. Now you align the number 12, which has the letter L associated with it, with the letter A and shift everything else along with it as shown below.\n",
    "\n",
    "     A | B | C | D | E | F | G | H | I | J  | K  | L  | M  | N  | O  | P  | Q  | R  | S  | T  | U  | V  | W  | X  | Y  | Z\n",
    "     1 | 2 | 3 | 4 | 5 | 6 | 7 | 8 | 9 | 10 | 11 | 12 | 13 | 14 | 15 | 16 | 17 | 18 | 19 | 20 | 21 | 22 | 23 | 24 | 25 | 26  \n",
    "    ---|---|---|---|---|---|---|---|---|----|----|----|----|----|----|----|----|----|----|----|----|----|----|----|----|----\n",
    "     A | B | C | D | E | F | G | H | I | J  | K  | L  | M  | N  | O  | P  | Q  | R  | S  | T  | U  | V  | W  | X  | Y  | Z\n",
    "     \n",
    "                                                           |\n",
    "                                                           |\n",
    "                                                           V\n",
    "                                                           \n",
    "    L  | M  | N  | O  | P  | Q  | R  | S  | T  | U  | V  | W  | X  | Y  | Z  | A | B | C | D | E | F | G | H | I | J  | K  | \n",
    "    12 | 13 | 14 | 15 | 16 | 17 | 18 | 19 | 20 | 21 | 22 | 23 | 24 | 25 | 26 | 1 | 2 | 3 | 4 | 5 | 6 | 7 | 8 | 9 | 10 | 11 | \n",
    "    ---|----|----|----|----|----|----|----|----|----|----|----|----|----|----|---|---|---|---|---|---|---|---|---|----|----|\n",
    "     A | B  | C  | D  | E  | F  | G  | H  | I  | J  | K  | L  | M  | N  | O  | P | Q | R | S | T | U | V | W | X | Y  | Z  |\n",
    "     \n",
    "So now using our key table above we can encrypt a message, for example \"The Caeser Cipher\" will become \"Esp Nlpdlc Ntaspc\" when encrypted using key 12 as above. Now that you understand how the cipher works and what a cipher is, we will program a function that implements the Caesar Cipher for us.\n",
    "     \n",
    "     \n",
    "     \n",
    " "
   ]
  },
  {
   "cell_type": "code",
   "execution_count": 10,
   "metadata": {},
   "outputs": [
    {
     "data": {
      "text/plain": [
       "'ESP NLPDLC NTASPC'"
      ]
     },
     "execution_count": 10,
     "metadata": {},
     "output_type": "execute_result"
    }
   ],
   "source": [
    "\n",
    "\n",
    "def Caesar_cipher_basic(message,key,setting): \n",
    "    '''This function will take in a message you wish to encrypt or decrypt,\n",
    "    using the Caesar Cipher and the key you wish to use to encrypt or decrypt the\n",
    "    message with'''\n",
    "    Alphabet = 'ABCDEFGHIJKLMNOPQRSTUVWXYZ'\n",
    "    if key>len(Alphabet) or key<0: #Here we make sure that the key entered is a valid key\n",
    "        return(\"Please enter a valid key\")\n",
    "    if not (setting == \"encrypt\" or setting == \"decrypt\"):\n",
    "        return(\"Please enter a valid setting\")\n",
    "    empty = ''\n",
    "    MES = message.upper() #Since we are using only capital letters, we must capitalize the whole message\n",
    "    for x in MES:\n",
    "        if x in Alphabet:      \n",
    "            index = Alphabet.find(x)\n",
    "            if setting == \"encrypt\":\n",
    "                index = index + key\n",
    "            else:\n",
    "                index = index - key #When the setting is decrypt we do the algorithm in reverse to recieve the original message\n",
    "            index = index%len(Alphabet)\n",
    "            empty = empty + Alphabet[index]\n",
    "        else:\n",
    "            empty = empty + x\n",
    "    return(empty)\n",
    "\n",
    "Caesar_cipher_basic(\"The Caesar Cipher\", 11, \"encrypt\") #Check this is the same as above however key is 11 as index = position-1\n"
   ]
  },
  {
   "cell_type": "markdown",
   "metadata": {},
   "source": [
    "### Extending The Caesar Cipher\n",
    "\n",
    "As mentioned above we do not have to limit ourselves to only substituting capitalized letters as we have above, this was used for simplicity before computer algorithms could quickly encrypt messages. Now we have the ability to encrypt thousands of different characters extremely quickly, however we will still limit ourselves a bit. Below we will use a larger set of characters to choose from by using the ASCII characters in the range 32 to 126. The reason we will use this range is because it involves most punctuation used in the English language, all the numbers and both capitalized and uncapitalized letters."
   ]
  },
  {
   "cell_type": "code",
   "execution_count": 11,
   "metadata": {},
   "outputs": [
    {
     "data": {
      "text/plain": [
       "'_sp+Nlp~l}+Nt{sp}'"
      ]
     },
     "execution_count": 11,
     "metadata": {},
     "output_type": "execute_result"
    }
   ],
   "source": [
    "def Character_Set(n,m):\n",
    "    '''Returns the character set with which you wish to encrypt the message using'''\n",
    "    Characters = ''\n",
    "    for i in range(n,m+1):\n",
    "        c = chr(i)\n",
    "        Characters += c\n",
    "    return Characters\n",
    "\n",
    "encounter = Character_Set(32,126) #Our character set to be used\n",
    "        \n",
    "def Caesar_cipher_ext(mes,k,s):\n",
    "    '''This is the same function as \"Caeser_cipher_basic\", however it now uses the character set\n",
    "    encounter which is defined outside of the function to encrypt and decrypt our messages with'''\n",
    "    if k>len(encounter) or k<0:\n",
    "        return(\"Please enter a valid key\")\n",
    "    if not (s == \"encrypt\" or s == \"decrypt\"):\n",
    "        return(\"Please enter a valid setting\")\n",
    "    empty = ''\n",
    "    for x in mes:\n",
    "        if x in encounter:      \n",
    "            index = encounter.find(x)\n",
    "            if s == \"encrypt\":\n",
    "                index = index + k\n",
    "            else:\n",
    "                index = index - k\n",
    "            index = index%len(encounter)\n",
    "            empty = empty + encounter[index]\n",
    "        else:\n",
    "            empty = empty + x\n",
    "    return(empty)\n",
    "Caesar_cipher_ext(\"The Caesar Cipher\", 11, \"encrypt\")#Notice this looks different to above with the same key"
   ]
  },
  {
   "cell_type": "markdown",
   "metadata": {},
   "source": [
    "### Cracking The Caesar Cipher\n",
    "\n",
    "Although The Caesar Cipher would of been useful before the age of computers, today it is very rare in usage other than for introductions to Ciphers. The reason for this is because it is simply too easy for a computer to \"Brute-force attack\" the cipher. A Bruter-force attack is simple, it is an algorithm which attempts every possible key for a message and outputs the decryption of that message. In more advandced ciphers this is not a feasible method for cracking an encrypted message. However since the Caesar Cipher has a very small amount of possible keys, in our case only 95, it takes very little time to attempt every key. \n",
    "\n",
    "Now reading through every decrypted message to check if it is the original may still take a while, so we can check some properties the original message might display. For example if we know the most commonly used letter in the english language and the most commonly used word, we could quickly check if the decrypted message contains this word or has the same most common letter.\n",
    "\n",
    "Using data from http://en.wikipedia.org/wiki/Letter_frequency, which we will use again later, we see that \"e\" is the most common letter, making up about 12.702% of all used letters. Also using data from https://en.wikipedia.org/wiki/Most_common_words_in_English, we see that \"the\" is the most common word in the english language. From this we can check if the most common letter in our decrypted message is \"e\", or if the word \"the\" is contained within our decrypted message. If it is then we could highlight this message, which will allow us to see messages which our more likely to be the true message, and save us time. This is a technique we will go more in depth with later, this is just basic implementation of this data.\n"
   ]
  },
  {
   "cell_type": "code",
   "execution_count": 12,
   "metadata": {},
   "outputs": [
    {
     "name": "stdout",
     "output_type": "stream",
     "text": [
      "Key 0 message - _sp+Nlp~l}+Nt{sp}\n",
      "Key 1 message - ^ro*Mko}k|*Mszro|\n",
      "Key 2 message - ]qn)Ljn|j{)Lryqn{\n",
      "Key 3 message - \\pm(Kim{iz(Kqxpmz\n",
      "Key 4 message - [ol'Jhlzhy'Jpwoly\n",
      "Key 5 message - Znk&Igkygx&Iovnkx\n",
      "Key 6 message - Ymj%Hfjxfw%Hnumjw\n",
      "Key 7 message - Xli$Geiwev$Gmtliv\n",
      "Key 8 message - Wkh#Fdhvdu#Flskhu\n",
      "Key 9 message - Vjg\"Ecguct\"Ekrjgt\n",
      "Key 10 message - Uif!Dbftbs!Djqifs\n",
      "*Key 11 is more likely to be the true key, message -  The Caesar Cipher\n",
      "Key 12 message - Sgd~B`dr`q~Bhogdq\n",
      "Key 13 message - Rfc}A_cq_p}Agnfcp\n",
      "Key 14 message - Qeb|@^bp^o|@fmebo\n",
      "Key 15 message - Pda{?]ao]n{?eldan\n",
      "Key 16 message - Oc`z>\\`n\\mz>dkc`m\n",
      "Key 17 message - Nb_y=[_m[ly=cjb_l\n",
      "Key 18 message - Ma^x<Z^lZkx<bia^k\n",
      "Key 19 message - L`]w;Y]kYjw;ah`]j\n",
      "Key 20 message - K_\\v:X\\jXiv:`g_\\i\n",
      "Key 21 message - J^[u9W[iWhu9_f^[h\n",
      "Key 22 message - I]Zt8VZhVgt8^e]Zg\n",
      "Key 23 message - H\\Ys7UYgUfs7]d\\Yf\n",
      "Key 24 message - G[Xr6TXfTer6\\c[Xe\n",
      "Key 25 message - FZWq5SWeSdq5[bZWd\n",
      "Key 26 message - EYVp4RVdRcp4ZaYVc\n",
      "Key 27 message - DXUo3QUcQbo3Y`XUb\n",
      "Key 28 message - CWTn2PTbPan2X_WTa\n",
      "Key 29 message - BVSm1OSaO`m1W^VS`\n",
      "Key 30 message - AURl0NR`N_l0V]UR_\n",
      "Key 31 message - @TQk/MQ_M^k/U\\TQ^\n",
      "Key 32 message - ?SPj.LP^L]j.T[SP]\n",
      "Key 33 message - >ROi-KO]K\\i-SZRO\\\n",
      "Key 34 message - =QNh,JN\\J[h,RYQN[\n",
      "Key 35 message - <PMg+IM[IZg+QXPMZ\n",
      "Key 36 message - ;OLf*HLZHYf*PWOLY\n",
      "Key 37 message - :NKe)GKYGXe)OVNKX\n",
      "Key 38 message - 9MJd(FJXFWd(NUMJW\n",
      "Key 39 message - 8LIc'EIWEVc'MTLIV\n",
      "Key 40 message - 7KHb&DHVDUb&LSKHU\n",
      "Key 41 message - 6JGa%CGUCTa%KRJGT\n",
      "Key 42 message - 5IF`$BFTBS`$JQIFS\n",
      "*Key 43 is more likely to be the true key, message -  4HE_#AESAR_#IPHER\n",
      "Key 44 message - 3GD^\"@DR@Q^\"HOGDQ\n",
      "Key 45 message - 2FC]!?CQ?P]!GNFCP\n",
      "Key 46 message - 1EB\\ >BP>O\\ FMEBO\n",
      "Key 47 message - 0DA[~=AO=N[~ELDAN\n",
      "Key 48 message - /C@Z}<@N<MZ}DKC@M\n",
      "Key 49 message - .B?Y|;?M;LY|CJB?L\n",
      "Key 50 message - -A>X{:>L:KX{BIA>K\n",
      "Key 51 message - ,@=Wz9=K9JWzAH@=J\n",
      "Key 52 message - +?<Vy8<J8IVy@G?<I\n",
      "Key 53 message - *>;Ux7;I7HUx?F>;H\n",
      "Key 54 message - )=:Tw6:H6GTw>E=:G\n",
      "Key 55 message - (<9Sv59G5FSv=D<9F\n",
      "Key 56 message - ';8Ru48F4ERu<C;8E\n",
      "Key 57 message - &:7Qt37E3DQt;B:7D\n",
      "Key 58 message - %96Ps26D2CPs:A96C\n",
      "Key 59 message - $85Or15C1BOr9@85B\n",
      "Key 60 message - #74Nq04B0ANq8?74A\n",
      "Key 61 message - \"63Mp/3A/@Mp7>63@\n",
      "Key 62 message - !52Lo.2@.?Lo6=52?\n",
      "Key 63 message -  41Kn-1?->Kn5<41>\n",
      "Key 64 message - ~30Jm,0>,=Jm4;30=\n",
      "Key 65 message - }2/Il+/=+<Il3:2/<\n",
      "Key 66 message - |1.Hk*.<*;Hk291.;\n",
      "Key 67 message - {0-Gj)-;):Gj180-:\n",
      "Key 68 message - z/,Fi(,:(9Fi07/,9\n",
      "Key 69 message - y.+Eh'+9'8Eh/6.+8\n",
      "Key 70 message - x-*Dg&*8&7Dg.5-*7\n",
      "Key 71 message - w,)Cf%)7%6Cf-4,)6\n",
      "Key 72 message - v+(Be$(6$5Be,3+(5\n",
      "Key 73 message - u*'Ad#'5#4Ad+2*'4\n",
      "Key 74 message - t)&@c\"&4\"3@c*1)&3\n",
      "Key 75 message - s(%?b!%3!2?b)0(%2\n",
      "Key 76 message - r'$>a $2 1>a(/'$1\n",
      "Key 77 message - q&#=`~#1~0=`'.&#0\n",
      "Key 78 message - p%\"<_}\"0}/<_&-%\"/\n",
      "Key 79 message - o$!;^|!/|.;^%,$!.\n",
      "Key 80 message - n# :]{ .{-:]$+# -\n",
      "Key 81 message - m\"~9\\z~-z,9\\#*\"~,\n",
      "Key 82 message - l!}8[y},y+8[\")!}+\n",
      "Key 83 message - k |7Zx|+x*7Z!( |*\n",
      "Key 84 message - j~{6Yw{*w)6Y '~{)\n",
      "Key 85 message - i}z5Xvz)v(5X~&}z(\n",
      "Key 86 message - h|y4Wuy(u'4W}%|y'\n",
      "Key 87 message - g{x3Vtx't&3V|${x&\n",
      "Key 88 message - fzw2Usw&s%2U{#zw%\n",
      "Key 89 message - eyv1Trv%r$1Tz\"yv$\n",
      "Key 90 message - dxu0Squ$q#0Sy!xu#\n",
      "Key 91 message - cwt/Rpt#p\"/Rx wt\"\n",
      "Key 92 message - bvs.Qos\"o!.Qw~vs!\n",
      "Key 93 message - aur-Pnr!n -Pv}ur \n",
      "Key 94 message - `tq,Omq m~,Ou|tq~\n"
     ]
    }
   ],
   "source": [
    "def common_letter (message):\n",
    "    '''Returns the most common letter in a message'''\n",
    "    message = message.lower() #We only check for lower case letters here\n",
    "    #The code below counts how many times a letter occurs in the message and returns the letter with the most counts\n",
    "    return(max(((y, message.count(y)) for y in message), key=lambda x:x[1])[0]) #This counts how many times a letter occurs \n",
    "    \n",
    "\n",
    "def Caesar_cipher_brute(message):\n",
    "    '''This fucntion does a Brute-force attack on the message by attempting\n",
    "    every possible key and outputting the decrypted message for a given key'''\n",
    "    totalkeys = len(encounter)\n",
    "    for k in range(0,totalkeys): #We want to use every possible key \n",
    "        translation = Caesar_cipher_ext(message,k,\"decrypt\")\n",
    "        if common_letter(translation) == \"e\"  or (\"the\" in translation.lower()) == True: #Checking for our potential indicators\n",
    "            print(\"*Key\", k, \"is more likely to be the true key, message - \", translation)\n",
    "        else:\n",
    "            print(\"Key\", k,\"message -\", translation)\n",
    "            \n",
    "Caesar_cipher_brute('_sp+Nlp~l}+Nt{sp}')"
   ]
  },
  {
   "cell_type": "markdown",
   "metadata": {},
   "source": [
    "### The Vigenère Cipher\n",
    "\n",
    "Now we will look at another substitution cipher called the Vigenère Cipher. In fact the Vigenère Cipher is a polyalphabetic cipher, which means it uses multiple keys to encrypt the data at different points of the data. The Vigenère Cipher is very similar to the Caesar Cipher, in fact it is just the Caesar Cipher applied to data multiple times with different keys at each point cycling through the same subkeys given by the key of the Vigenère Cipher. To clear this up it is easy to first follow an example. \n",
    "\n",
    "First we need a message we wish to encrypt using the Vigenère Cipher, we will use the message \"ENCRYPT THIS MESSAGE\". Now we need a key which we will use to encrypt this message, however unlike the Caesar Cipher, the Vigenère Cipher uses a collection of letters (or later we will see any character) to encrypt the message. For our example we will use the key \"SECRET\". Now each letter of our key \"SECRET\" is a subkey and we will cycle through these keys and apply the Caeser Cipher at each point in our message using the current subkey. Hence the first letter in our message is \"E\", and the first letter in our key is \"S\", so the letter \"E\" will be encrypted using the Caeser Cipher and the key \"S\". However of course \"S\" is not a number as our keys were when we previously used the Caesar Cipher, however again if you look at the table we used when discussing the Caesar Cipher, you can see the letter S has the number 19 associated with it, so this is the key we use. Thus the subkey used at each letter of the message is show below.     \n",
    " \n",
    " \n",
    "    Vigenère key  | S  | E  | C  | R  | E  | T  | S  |    | E  | C  | R  | E  |    | T  | S  | E  | C  | R  | E  | T  |\n",
    "    Caesar subkey | 19 | 5  | 3  | 18 | 5  | 20 | 19 |    | 5  | 3  | 18 | 5  |    | 20 | 19 | 5  | 3  | 18 | 5  | 20 |\n",
    "                  |----|----|----|----|----|----|----|----|----|----|----|----|----|----|----|----|----|----|----|----|       \n",
    "    Message       | E  | N  | C  | R  | Y  | P  | T  |    | T  | H  | I  | S  |    | M  | E  | S  | S  | A  | G  | E  |\n",
    " \n",
    " \n",
    "However again as happened with the Caesar Cipher we can see that spaces must be ignored for now and all other characters but capital letters, again two versions of the Vigenère Cipher will be given, one basic and one which can use as many characters as you want (In ASCII). \n",
    "\n",
    "Now Although the Vigenère Cipher is similar to the Caeser Cipher, it is orders of magnitude more secure. For example with the character set above \"Alphabet\", the Caesar Cipher has only 26 keys to attempt, however the Vigenère Cipher has $26^{n}$ possible keys where $n$ is the length of the key. Thus the longer the key you use the more secure your encrypted message is, this is why we can not use the \"Brute-force Attack\" against a message encrypted with Vigenère Cipher (Technically we can however this will become very unfeisable as the length of the key increases)."
   ]
  },
  {
   "cell_type": "code",
   "execution_count": 13,
   "metadata": {},
   "outputs": [
    {
     "data": {
      "text/plain": [
       "'Wreicil xjzw fwwurkx'"
      ]
     },
     "execution_count": 13,
     "metadata": {},
     "output_type": "execute_result"
    }
   ],
   "source": [
    "def Vigenere_cipher_basic(message, key, setting):\n",
    "    '''This function will use the Vigenère Cipher to encrypt or \n",
    "    decrypt a message for a given key, provided the characters\n",
    "    in the key are letters'''\n",
    "    Alphabet = 'ABCDEFGHIJKLMNOPQRSTUVWXYZ'\n",
    "    if not (setting == \"encrypt\" or setting == \"decrypt\"):\n",
    "        return(\"Please enter a valid setting\")\n",
    "    key = key.upper() #If the user inputs a non-capitalized key, we must capitalize it for the cipher to work\n",
    "    output = \"\"\n",
    "    pos = 0 #This keeps track of the cycling of the key, telling us which subkey to use and where\n",
    "    repeat = len(key)#If the index of the subkey is larger than the length of the key we repeat and use the first subkey again\n",
    "    for x in message:\n",
    "        if x.upper() in Alphabet:#If the message is not capitalized, we capitalize the letters so we can encrypt them\n",
    "            index = Alphabet.find(x.upper())\n",
    "            if setting == \"encrypt\":\n",
    "                index += Alphabet.find(key[pos])\n",
    "            else:\n",
    "                index -= Alphabet.find(key[pos])\n",
    "            index = index%len(Alphabet)\n",
    "            if x.isupper():#If the current letter was originally capitalized, the encrypted chracter will also be capitalized\n",
    "                output = output + Alphabet[index]\n",
    "            if x.islower():#If the current letter was originally not capitalized, the encrypted chracter will also not be\n",
    "                output = output + Alphabet[index].lower()\n",
    "            pos += 1\n",
    "            if pos == repeat:\n",
    "                pos = 0\n",
    "        else:\n",
    "            output += x\n",
    "    return(output)\n",
    "\n",
    "\n",
    "Vigenere_cipher_basic(\"Encrypt this message\", \"secret\",\"encrypt\")"
   ]
  },
  {
   "cell_type": "markdown",
   "metadata": {},
   "source": [
    "### Extending The Vigenère Cipher\n",
    "\n",
    "Here we do just as we did when extending the character set of the Caesar Cipher, so again we will use the character set we called \"encounter\" which is the ASCII chracters in the range 32 to 126. Although this did make the Caeser Cipher harder to crack because we had to attempt 95 keys now, this is very little added computation time for a computer, however for the Vigenère Cipher ther are now $95^{n}$ keys to be attempted where $n$ is the length of the key being used. This means as the key length increases, the amount of possible keys increases massively, making the \"Brute-force Attack\" even less feisable."
   ]
  },
  {
   "cell_type": "code",
   "execution_count": 14,
   "metadata": {},
   "outputs": [],
   "source": [
    "import pyperclip as pp\n",
    "def Vigenere_cipher_ext(message, key, setting):\n",
    "    '''This is the same as the function Vigenere_ciper_basic, however we\n",
    "    now use the character set encounter, also this means we no longer\n",
    "    have any need to capitalize the key nor capitalize the message'''\n",
    "    if not (setting == \"encrypt\" or setting == \"decrypt\"):\n",
    "        return(\"Please enter a valid setting\")\n",
    "    output = \"\"\n",
    "    pos = 0\n",
    "    repeat = len(key)\n",
    "    for x in message:\n",
    "        if x in encounter:\n",
    "            index = encounter.find(x)\n",
    "            if setting == \"encrypt\":\n",
    "                index += encounter.find(key[pos])\n",
    "            else:\n",
    "                index -= encounter.find(key[pos])\n",
    "            index = index%len(encounter)\n",
    "            output = output + encounter[index]\n",
    "            pos += 1\n",
    "            if pos == repeat:\n",
    "                pos = 0\n",
    "        else:\n",
    "            output = output + x\n",
    "    if setting == \"encrypt\":\n",
    "        pp.copy(output)#This copies the outputted message, so you can easily send the encrypted message to who you want\n",
    "        print(\"Encrypted message has been copied\")\n",
    "    return(output)\n",
    "\n"
   ]
  },
  {
   "cell_type": "markdown",
   "metadata": {},
   "source": [
    "### Cracking The Vigenère Cipher Using The Dictionary\n",
    "Here we will begin looking at how to crack the Vigenère Cipher, as mentioned before this is more difficult to do than on a message encrypted using the Caeser Cipher as we can not simple brute-force attack the message. The problem is that if the person encrypting the message is using only the alphabet as their character set to encrypt their message, we do not know how long the key is they are using. If we were to assume the key was of length somewhere in the range [1,12] we have many keys to test, in fact we have.\n",
    "\n",
    ">$\\sum_{i=1}^{12} 26^{i} = 99246114928149461$ \n",
    "\n",
    "Which is a lot more than the 26 we had for the Caesar Cipher. On top of this taking the computer a very long time, we still have no rubust criteria that we can check a decrypted message against to see if it could be the original message, and it would take an extremly long time to check all 99246114928149462 decrypted messages. To add to the seemingly impossible task of cracking this cipher, we do not know how long the key actually is, so for all we know the key may be of length 10, 100, 1000 or anything.\n",
    "\n",
    "Thus when trying to crack the Vigenère Cipher, we must go about this using a more efficent and robust method. One method we will use is called a \"Dictionary attack\", many hackers will use this method to attempt many passwords to gain access to someones account. This method depends on one key idea, that humans tend to use words for passwords or in this case for the key because words are easier to remember, however because of these dictionary attacks, this can leave your account or encryption vulnerable. The basis of these dictionary attacks is to simply attempt a very large set of words as the key to try and decrypt a message. This is very simple, as to do this we can download a text file filled with english words (The text file I will be using can be found here http://www.gwicks.net/dictionaries.htm). Now all we have to do is attempt every word on this file, which on the file we will be using is 65,000 words. Though this may seem like many words you must keep in mind that even if we knew that the key was of length 4, using a brute-force attack we would still need to attempt,\n",
    "\n",
    ">$26^{4} = 4569764$ keys.\n",
    "\n",
    "However as I mentioned, there is one more problem we must over come, we can not manually check all 65,000 decrypted messages ourself as this will take a long time. To get around this we come up with a more robust method for checking if a message is likely the original than before. \n",
    "\n",
    "First we need a function which splits up each word (collectios of characters with a space inbetween them) in the decrypted message for a given key, and puts each individual word into a potential word list. Then for each element in the list, we want to check if this element is the same as any word in our dictionary text file which indicates that this element is a word. Thus we count how many words this message contains and then divide this by how many elements are in the potential word list, to get the percentage of words in this decrypted message are in the dictionary.\n",
    "\n",
    "Next we need a function that checks if the percentage of real words (words in the dictionary) and percentage of letters to characters in a message is above a certain threshold. If the message is above our threshold percentage, than we say there is a chance this is the original message. Hence by combining these two functions we have a more robust procedure to make sure only decrypted messages which are very likely to be the original are shown, which in effect means we only have to read a handful of wrong messages."
   ]
  },
  {
   "cell_type": "code",
   "execution_count": null,
   "metadata": {},
   "outputs": [
    {
     "name": "stdout",
     "output_type": "stream",
     "text": [
      "Possible message, Key abel - Quick test message\n"
     ]
    }
   ],
   "source": [
    "alphabet = \"'ABCDEFGHIJKLMNOPQRSTUVWXYZ'\"\n",
    "import pyperclip as pp\n",
    "def wordspercent(message):\n",
    "    '''This is the first function we wanted above, this function returns\n",
    "    the percentage of words a message has that are in our text file\n",
    "    dictionary.'''\n",
    "    message = message.lower()#Use lower case to match the way the words are written in our text file\n",
    "    potential = message.split()#Split collections of letters up if a space is between them and make a list of these collections\n",
    "    if potential == []:\n",
    "        return 0\n",
    "    matches = 0#This will keep track of how many words the message has that is in our dictionary\n",
    "    dictionary = open('Dictionary_words.txt') #Read the text file that contains our dictionary words\n",
    "    Words = {}#Create a dictionary of all of our words in the text file\n",
    "    for x in dictionary.read().split('\\n'):\n",
    "        Words[x] = None\n",
    "        dictionary.close()\n",
    "\n",
    "    for y in potential:\n",
    "        if y in Words:\n",
    "            matches += 1 #If the element in our potential list is the same as a word in our dictionary we add 1 to matches\n",
    "    return matches / len(potential)#Ration of words to non words\n",
    "\n",
    "def potentialofmessage(message, wpercent, lpercent):\n",
    "    '''For a given minimum percentage of words and letters, this function\n",
    "    returns if the inputted message equals or exceeds this percentage \n",
    "    for both word percentage and letter percentage'''\n",
    "    wMatch = wordspercent(message) * 100 >= wpercent #checks if the percentage of words for a message is above the minimum\n",
    "    count = 0 #This will count the amount of characters in our message are in the alphabet\n",
    "    for x in message:\n",
    "        if x.upper() in alphabet:\n",
    "            count += 1\n",
    "    letsper = count / len(message) * 100 #Percentage of letters to non letters\n",
    "    lMatch = letsper >= lpercent #Checking this percentage is above the minimum\n",
    "    isword = wMatch and lMatch #If and only if both are True, will isword  be True also\n",
    "    return isword\n",
    "\n",
    "def Vigenere_cipher_crack(message):\n",
    "    '''This is the main crack function, it takes in the encrypted messaged\n",
    "    and returns decrypted messages and their keys that could potentially by the \n",
    "    original message and key, it does this by using the functions we created above'''\n",
    "    words = open(\"Dictionary_words.txt\")\n",
    "    check = words.readlines() #Check is the words we will check that could potentially be the key\n",
    "    words.close()\n",
    "    for x in check:\n",
    "        x = x.strip()\n",
    "        text = Vigenere_cipher_basic(message, x, \"decrypt\")#The reason for using the basic function here is because\n",
    "        #only words can be the potential key meaning if the true key uses characters outside of the set \"alphabet\",\n",
    "        #We can not crack it using this function.\n",
    "        if potentialofmessage(text, 50, 80): #If the decrypted message is likely the original we run the code below\n",
    "            print('Possible message, Key ' + x + ' - ' + text)             \n",
    "            user = input('If you want to end enter \"Yes\", else just press enter.')#The user will read the decrypted message\n",
    "            #and if they believe this seems like the original message they can stop the functin here by typing \"Yes\".\n",
    "            if user ==\"Yes\":\n",
    "                pp.copy(text)\n",
    "                print(\"Encrypted message has been copied\")\n",
    "                return text\n",
    "Vigenere_cipher_crack(\"Qvmnk uidt nidsbkp\")"
   ]
  },
  {
   "cell_type": "markdown",
   "metadata": {},
   "source": [
    "### Cracking The Vigenère Cipher (Key Lengths)\n",
    "\n",
    "Now clearly the method used above is not very efficent and has many limitations as checking 65,000 keys can still take a long time for the average computer, especially when the key used for encyption may not even be a word so will not be able to be decrypted using this method. Another problem is that if the word starts with a z for example \"zurrich\", the algorithm will try every word that comes before it alphabetically, rather than trying the most likely keys first. We now try to get past these limitations and crack the Vigenère Cipher for almost all cases as we will see, in doing this we will no longer use the basic Vigenère Cipher, instead we will use the extended version that uses any character set. The method we will be using is called \"The Babbage Attack & Kasiski Examination\".\n",
    "\n",
    "The first step in this method is to identify any repeated sequences in the enrypted message. We only count sequences of letters of 3 or more, however in this code we will limit ourselves to sequences of any length from 3 to 6 to speed up the algorithm. The reason we do this is because many words such as \"the\", as I mentioned before, are used many times in a single message, or we can notice that most verbs have the same ending \"ing\". Now if we notice that the same sequence of letters repeat multiple times, this may indicate the same letters being encrypted using the same subkey as before due to the subkey repeating. For example, if we encrypt the sentance \"You going running?\", using our Vigenère Cipher with the key \"examples\", the output is \"?hWmX\\\\ObMxTc_[ObM8\". We notice that the sequence of letters \"obM\" repeats twice. This can be explained by following the example below.\n",
    "\n",
    "    Vigenère key  | e  | x  | a  |  m | p  | l  | e  | s  | e  | x  | a  | m  | p  | l  | e  | s  | e  | x  |\n",
    "                  |----|----|----|----|----|----|----|----|----|----|----|----|----|----|----|----|----|----|     \n",
    "    Message       | Y  | o  | u  |    | g  | o  | i  | n  | g  |    | r  | u  | n  | n  | i  | n  | g  | ?  | \n",
    "\n",
    "\n",
    "Notice how in our message we have the repeated sequence \"ing\" eppear twice, and both times this is being encrypted using the \n",
    "same subkeys, \"e\", \"s\" and \"e\" respectively. This is extremely useful when trying to find the key, as we can now count the number of characters between repeats of sequences. As you can see the number of characters between the repeated sequence \"obM\" in our encrypted message is 8, counting from the first letter of the first sequence, to the letter before the beggining of the second sequence. Here it just so happens that the number of characters between the repeats is the exact same as the legnth of the key, however this will not happen all the time. Though this is not always true it is true that if the same letters in the orginial message are being encoded by the same characters in the key, than one of the factors of the distance between these two sequences must be the true key length, due to the cyclic nature of the encryption. This brings us to the next step of our method.\n",
    "\n",
    "Now we must find the factors of the distance between repeated sequences. To show how we do this we will look at a longer encrypted message given below:\n",
    "\n",
    ">\"'kGmj\\[sMhK\\XlXiTgK\\XlRUZ^Tme\\JU_8a7wcKsH^G\\p_KUJbPUpNHc[madfefsjTaOpYUhekGQV[Z`_&a7wZehXrK\\XlSme[GaelZcelVOcaef[gPW_Ts\"\n",
    "\n",
    "Now you can check for youself using the functions below, this encrypted message has four repeated sequences \"K\\\\X\", \"\\\\XL\", \"A7W\" and \"K\\\\XL\". Now the distances between these repeated sequences are 8, 48, 72 and 80. In this part of the method as I mentioned we get the factors of the distances between the sequences, however we only want the factors that occur most, as these are more likely to be the true key length. In this case the most likely key lengths would be 2, 4 and 8 as they are factors of all 4 distances. Our next step will be to get every second, fourth and eigth letter, however before doing this we will create functions to carry out our method thus far.\n",
    "\n",
    "       \n",
    "\n"
   ]
  },
  {
   "cell_type": "code",
   "execution_count": null,
   "metadata": {},
   "outputs": [],
   "source": [
    "import operator as op\n",
    "import itertools\n",
    "chr\n",
    "\n",
    "def sequences(message):\n",
    "    \"\"\"The function we use to output the sequences that repeat in \n",
    "    the encrypted message, with the distance between the repeats with the first \n",
    "    occurence of the sequence.\"\"\"\n",
    "    message = message.upper()\n",
    "    seq = {}\n",
    "    le = len(message)+1\n",
    "    for x in range(3,7): #To speed up this process, we only check sequences of length 3 to 6\n",
    "        for y in range(le - x): # We use this range to stop ourselves using an index too large for the message\n",
    "            checks = message[y:y + x] #Potential sequences\n",
    "            for z in range(x + y, le - x):\n",
    "                if message[z:z + x] == checks: #Checking if our potential sequence is repeated anywhere\n",
    "                    if checks not in seq:                    \n",
    "                        seq[checks] = [z-y] #inserts the distance between repeated sequences found\n",
    "                    else:   \n",
    "                        seq[checks].append(z - y)\n",
    "\n",
    "    return(seq)\n",
    "\n",
    "def factorslimit(n,m):\n",
    "    \"\"\"This will get the factors of a number up to a maximum factor,\n",
    "    we do this to speed up the cracking process as trying all key lengths\n",
    "    can take extremly long times.\"\"\"\n",
    "    factors = []  \n",
    "    for x in range(2, m+1): \n",
    "        if n%x == 0:\n",
    "            factors.append(x)\n",
    "    return factors\n",
    "\n",
    "\n",
    "def seqfactors(seqfactors):\n",
    "    \"\"\"This is the function we use to get the frequency of factors\n",
    "    for the distances between repeated sequences, it allows\n",
    "    us to know which factors are the most common\"\"\"\n",
    "    frequency = {} #This dictionary will keep track of the factors and how often they occur\n",
    "    count = []\n",
    "    for x in seqfactors: #x are the sequences which have been repeated\n",
    "        for y in seqfactors[x]: #y are the factors of the distances between repeated sequences\n",
    "            if y not in frequency:\n",
    "                frequency[y] = 0\n",
    "            frequency[y] += 1\n",
    "    for z in frequency: #z is again the repeated sequences\n",
    "            count.append((z, frequency[z])) #We now use count to output only factors and their relative frequencies\n",
    "    count.sort(key=op.itemgetter(1), reverse=True) #Order them buy the most common factor\n",
    "    return count\n",
    "\n",
    "\n",
    "def keylengths(message,m):\n",
    "    \"\"\"This uses all of the functions above to intake a message and output\n",
    "    the most likely lengths of the key\"\"\"\n",
    "    sequence = sequences(message)\n",
    "    factors = {}\n",
    "    for x in sequence:\n",
    "        factors[x] = []\n",
    "        for y in sequence[x]:\n",
    "            factors[x].extend(factorslimit(y,m))\n",
    "    faccount = seqfactors(factors)\n",
    "    potentiallength = []\n",
    "    for z in faccount:\n",
    "        potentiallength.append(z[0])\n",
    "    return potentiallength[:5] #Output only the 5 most likely key lengths \n",
    "\n",
    "        \n",
    "\n",
    "\n",
    "\n"
   ]
  },
  {
   "cell_type": "markdown",
   "metadata": {},
   "source": [
    "### Cracking The Vigenère Cipher (Letter Frequency Analysis)\n",
    "\n",
    "Now we are on to the next step of \"The Babbage Attack & Kasiski Examination\". With the functions we created above, our next step is to now get every $N^{th}$ letter from the encrypted message where $N$ is our most likely key lengths. We will have to do this for all key lengths we think could potentially be correct, which we set to be limited to the 5 most likely above. This is very simple for us to do, we just look at our message and choose every $N^{th}$ character starting from the first character of the message. We then do this again starting from the second character of the message, and repeat this up to the $N-1$ character in the message. Again we repeat this for each potential key length. For example for the encrypted message we used before:\n",
    "\n",
    ">\"'kGmj\\[sMhK\\XlXiTgK\\XlRUZ^Tme\\JU_8a7wcKsH^G\\p_KUJbPUpNHc[madfefsjTaOpYUhekGQV[Z`_&a7wZehXrK\\XlSme[GaelZcelVOcaef[gPW_Ts\"\n",
    "\n",
    "If we believed the key was of length 4, than we would select every fourth character in the message as so:\n",
    "\n",
    " Every $4^{th}$ character from the first character:\n",
    "\n",
    ">'jMXTXZe_wHpJp[fjpeV_wXXeeec[_\n",
    "\n",
    "Every $4^{th}$ character from the second character:\n",
    "\n",
    ">k\\\\hlgl^\\\\8c^_bNmeTYk[&Zrl[llagT\n",
    "\n",
    "Every $4^{th}$ character from the third character:\n",
    "\n",
    ">G[KXKRTJaKGKPHafaUGZaeKSGZVePs\n",
    "\n",
    "Every $4^{th}$ character from the fourth character:\n",
    "\n",
    ">ms\\\\i\\\\UmU7s\\\\UUcdsOhQ`7h\\\\macOfW\n",
    "\n",
    "Now if we have predicted the length of the key correct, this means the the first character of the key encrypts every $4^{th}$ character from the first character of the message and then the second character of the key encrypts every $4^{th}$ character from the second character of the message and so on. This is important to us as now we can attempt every possible character for each character in the key which is only $95n$ subkeys to attempt for a key of length $n$. Our next step will be deciding which characters are most likely to be our subkey.\n",
    "\n",
    "As I briefly mentioned above, language is not a uniform distribution of letters, some letters occur more frequently than others, and this data can again be found at http://en.wikipedia.org/wiki/Letter_frequency. The table below shows what percentage of the English language is made up of each letter to 1 d.p. \n",
    "    \n",
    "         A | B | C | D | E  | F | G | H | I | J | K | L | M | N | O | P | Q | R | S | T | U | V | W | X | Y | Z\n",
    "        ---|---|---|---|----|---|---|---|---|---|---|---|---|---|---|---|---|---|---|---|---|---|---|---|---|---  \n",
    "        8.2|1.3|2.8|4.3|12.7|2.2|2.0|6.1|7.0|0.2|0.8|4.0|2.4|6.8|7.5|1.9|0.1|6.0|6.3|9.1|2.8|1.0|2.4|0.2|2.0|0.1\n",
    "        \n",
    "This is clearly a useful fact when trying to decrypt messages. Now for this step we want to try all possible subkeys to try and decrypt each of our sequences of $N^{th}$ letters above. From this we want to analyse the frequency of letters that occur in each decrypted message and see how well this message matches the data above. We do this by checking if the 6 most frequent letters in our decrypted message and the 6 least frequent letters match the data . From the data we see the 6 most frequent letters are \"ETAOIN\" and the 6 least frequent are \"VKJXQZ\". Thus we score each decrypted message on how many of their 6 most frequent and least frequent letters match the true 6 most frequent and least frequent. The subkeys that cause the decrypted message to have the highest score are than the most likely subkey used on these letters, which means we have found candiates for what is most likely the $n^{th}$ letter in the true key where $n$ is what character we start from when choosing every $N^{th}$ letter. \n",
    "\n",
    "Once we have done this, we can begin attempting each combination of most likely key lengths and most likely letters for each character in the key. First however we must create functions to do what we have described above."
   ]
  },
  {
   "cell_type": "code",
   "execution_count": null,
   "metadata": {},
   "outputs": [],
   "source": [
    "# Data from http://en.wikipedia.org/wiki/Letter_frequency rounded to 2 decimal places\n",
    "englishLetterFreq = {'A': 8.17, 'B': 1.29, 'C':2.78,'D': 4.25,  'E': 12.70,'F': 2.23,'G': 2.02, 'H': 6.09,'I':6.97,'J': 0.15,\n",
    "'K': 0.77,'L': 4.03,'M': 2.41,'N': 6.75,'O': 7.51,'P':1.93,'Q': 0.10, 'R': 5.99, 'S': 6.33,'T': 9.06,  'U': 2.76, \n",
    "'V': 0.98,'W': 2.36, 'X': 0.15,'Y': 1.97,  'Z':0.07} \n",
    "\n",
    "alphabet = 'ABCDEFGHIJKLMNOPQRSTUVWXYZ'\n",
    "frequency_alphabet = 'ETAOINSHRDLCUMWFGYPBVKJXQZ'\n",
    "\n",
    "def factorsequences(length, initial, message):\n",
    "    \"\"\"This function will create a sequence of every nth letter for\n",
    "    an inputted message starting from different positions\"\"\"\n",
    "    message = message.upper()\n",
    "    string = ''\n",
    "    while initial < len(message)+1: #To stop using too large of an index\n",
    "        string += message[initial-1]\n",
    "        initial += length #Adding the distance of what we believe is the key length to get every nth letter\n",
    "    return string #Sequence we want of every nth letter\n",
    "\n",
    "def letters(message):\n",
    "    \"\"\"This will get how many times a given letter occurs\n",
    "    in the inputted message\"\"\"\n",
    "    Count = {}\n",
    "    for i in alphabet:\n",
    "        Count[i]= 0\n",
    "    for x in message.upper():#Must capitalize the message so it matches the format of \"alphabet\"\n",
    "        if x in alphabet:\n",
    "            Count[x] += 1\n",
    "    return(Count)\n",
    "\n",
    "\n",
    "\n",
    "def frequency(message):\n",
    "    \"\"\"This function will output a message of all letters in the alphabet ordered\n",
    "    by their frequency within the inputted message \"\"\"\n",
    "    count = letters(message) #Count how many of each letter occurs\n",
    "    freq = {}\n",
    "    for x in alphabet:\n",
    "        if count[x] not in freq: #This checks if the frequency of letter x is already appended to dictionary \"freq\"\n",
    "            freq[count[x]] = [x] # if no then we add the frequency to dictionary with the given letter\n",
    "        else:\n",
    "            freq[count[x]].append(x)#If yes then we just append it, so if two letters have the same frequency they are grouped.\n",
    "    for y in freq:\n",
    "        freq[y].sort(key=frequency_alphabet.find, reverse=True)#Put this in reverse order with respect to \"frequency_alphabet\"\n",
    "        freq[y] = '' .join(freq[y]) #we put this into a string itself, so we keep track of what letters occured how many times\n",
    "    freqfin = list(freq.items())#Turn our dictionary to a list\n",
    "    freqfin.sort(key = op.itemgetter(0), reverse=True)#Order this list with respect to how ofter letters occur\n",
    "    order = \"\"\n",
    "    for z in freqfin:\n",
    "        order = order + z[1] #Order will be the letters order with respect to how often each letter occurs\n",
    "    return(order)\n",
    "\n",
    "\n",
    "def Frequencymatch(message):\n",
    "    \"\"\"This function keeps track of the \"score\" of a decrypted message,\n",
    "    which means how many of the 6 most and least frequent letters in the message\n",
    "    match the true 6 most and least frequent letters in the Englsh language\"\"\"\n",
    "    Order = frequency(message)\n",
    "    matchScore = 0\n",
    "    for x in \"ETAOIN\": \n",
    "        if x in Order[:6]: #Checks if one of the letters in \"ETAOIN\" are in the messages 6 most frequent letters\n",
    "            matchScore += 1\n",
    "    for y in \"VKJXQZ\":\n",
    "        if y in Order[-6:]:#Checks if one of the letters in \"VKJXQZ\" are in the messages 6 least frequent letters\n",
    "            matchScore += 1\n",
    "    return matchScore\n",
    "\n"
   ]
  },
  {
   "cell_type": "markdown",
   "metadata": {},
   "source": [
    "### Cracking The Vigenère Cipher \n",
    "\n",
    "Now that we have all of the preliminary functions, we can move on to the final step of cracking the Vigenère Cipher. We have come full circle and ended up where we started when cracking the Caesar cipher, using a \"Brute-force Attack\" as our final step. \n",
    "\n",
    "From the functions above, we now have the ability to output likely key lengths and likely characters at each position in the key for a message encyrpted using the Vigenère Cipher. All that is left to do is attempt every likely key length along with every combition of likely characters. Though the entire purpose of using the Babbage Attack & Kasiski Examination was to avoid going about cracking the cipher using a Brute-force attack, this allows us to attempt orders of magnitude less possible combinations for keys. For example if we knew the key was of length 7, using just a Brute-force attack, we would need to attempt\n",
    "\n",
    ">$95^{7} = 69833729609375$ keys\n",
    "\n",
    "However using the Babbage Attack & Kasiski Examination, as we only use the 4 most likely characters (you can use as many characters as you like, however I have choosen 4 to keep the process fast) for each position, we have to attempt\n",
    "\n",
    ">$4^{7} = 16384$ keys\n",
    "\n",
    "Though this is already a huge improvement, it is a much larger improvement if you take into accont the fact that we will not know the length of the key. Now all that's left is to create the functions that will complete our process.\n"
   ]
  },
  {
   "cell_type": "code",
   "execution_count": null,
   "metadata": {},
   "outputs": [],
   "source": [
    "\n",
    "def quick_bruteattempts(message, length, show):\n",
    "    \"\"\"This function takes an encrypted message, with a length of key \n",
    "    we would like to attempt the hacks with, and then attempts every combination\n",
    "    of key we have using only the 4 most likely characters in each position of the key.\n",
    "    Also you have the option to see which keys are being attempted by setting show\n",
    "    to True.\"\"\"\n",
    "    combinations = itertools.product(range(0,4),repeat=length) #This will Create a list of all combinations of numbers \n",
    "                                                               # 0 to 3 in which there must be \"length\" numbers choosen. \n",
    "                                                               #We will use this later to attempt all key combinations\n",
    "    frequency = []\n",
    "    for x in range (1,length+1): #Due to the way the function \"factorsequences\" is set up, we must increase the range by 1 \n",
    "                                 #in order to avoid index out of range error\n",
    "        strings = factorsequences(length, x, message)#Gets all sequnces of letters when choosing the Nth letter.\n",
    "        Matches = []\n",
    "        for y in encounter:\n",
    "            possdecrypt = Vigenere_cipher_ext(strings, y, \"decrypt\") #We attempt to decrypt each Nth letter substring using\n",
    "                                                                     #All possible characters to get the likely characters\n",
    "                                                                     #Using our \"Frequencymatch\" function.\n",
    "            freq = Frequencymatch(possdecrypt)\n",
    "            Matches.append((y,freq))\n",
    "        Matches.sort(key=op.itemgetter(1),reverse = True) #Sort this by largest frequencies first\n",
    "        frequency.append(Matches[:4])#Gets the 4 letters which are most likely to be the subkey for that position.\n",
    "    if show == True: #This is for if you want to see what characters will be attempted for each key postion\n",
    "        for n in range(0,len(frequency)):\n",
    "            print(\"Characters to be attempted for character\", n+1, \":\")\n",
    "            for z in frequency[n]:\n",
    "                print(z[0])\n",
    "    for comb in combinations: #This is where we get every combination of possible keys for the given key length\n",
    "        attemptkey = ''\n",
    "        for index in range(0,length):\n",
    "            attemptkey += frequency[index][comb[index]][0] #Here we get every possible key for our given key length \n",
    "                                                           #and most likely characters\n",
    "        if show == True: #Just to show what key is being attempted\n",
    "            print(\"Key being attempted\", attemptkey)\n",
    "        attempteddecrypt = Vigenere_cipher_ext(message, attemptkey, \"decrypt\")\n",
    "        if potentialofmessage(attempteddecrypt, 50, 75) == True: #We only show messages that are likely to be the original\n",
    "            Final = attempteddecrypt\n",
    "            print(\"The key used could potentially be\", attemptkey)\n",
    "            print(\"Message using this key is - \", Final[:321],\"...\")#Only display first 321 characters of text\n",
    "            user = input('If you want to end enter \"Yes\", else just press enter.') #If the user belives this is the message\n",
    "                                                                                   #they can stop the process here\n",
    "            if user ==\"Yes\":\n",
    "                pp.copy(Final)\n",
    "                print(\"Encrypted message has been copied\")\n",
    "                return Final #Decrypted message outputed\n",
    "\n",
    "def Vigenere_crack(message,m, show):    \n",
    "    \"\"\"This is our final function that cracks an inputted encyrpted message, it is essentially\n",
    "    a neater verison of our \"qucik_bruteattempts\" however it uses every possible\n",
    "    key length, not just one\"\"\"\n",
    "    potentiallengths = keylengths(message,m) # Get 5 most possible key lengths\n",
    "    if show == True: #If the user wants to see what key lengths will be attempted\n",
    "        display = ''\n",
    "        for x in potentiallengths:\n",
    "            display += '%s ' %(x)\n",
    "        print(\"The most likely key lengths are\", display)\n",
    "        for y in potentiallengths:\n",
    "            allcombos = 4**y #Just to show how many combinations must be attempted for a given key length\n",
    "            if show == True:\n",
    "                print(\"Key length currently being attempted\", y, \", there are\", allcombos, \"possible keys to be attempted at this length.\")\n",
    "            decryptedmessages = quick_bruteattempts(message, y, show)\n",
    "            if not decryptedmessages == None: #If we find no possible decrypted messages, we move on to the next part of code\n",
    "                break\n",
    "        if decryptedmessages == None:#We now resort to a full Brute-force Attack if the user wants to\n",
    "            user = input('Unable to decrypt message using efficent algorithm, would you like to attempt all other key lengths? Type \"Yes\" if so, else just press enter.')\n",
    "            if not user ==\"Yes\":\n",
    "                return\n",
    "            else:\n",
    "                print('Attempting all other key lengths')\n",
    "                for z in (1,m+1):\n",
    "                    if z not in potentiallengths: #Only attempt keys we havent yet attempted\n",
    "                        if show == True:\n",
    "                            allcombos = 4**z\n",
    "                            print(\"Key length currently being attempted\", z, \", there are\", allcombos, \"possible keys to be attempted at this length.\")\n",
    "                        decryptedmessages = quick_bruteattempts_ext(message, z, show)\n",
    "                        if not decryptedmessages == None:\n",
    "                            break\n",
    "                        if decryptedmessages == None:\n",
    "                            return (\"Could not decrypt message\")\n",
    "        return decryptedmessages #Output decrypted message\n"
   ]
  },
  {
   "cell_type": "markdown",
   "metadata": {},
   "source": [
    "### Cracking The Vigenère Cipher Final Notes\n",
    "\n",
    "We have finally cracked the Vigenère Cipher for most cases of encryption using this cipher. However I feel it is noteworth to mention the fact that if the encrypter uses a key the same length of the message, the message is uncrackable without attempting every possible key length and combination. Thus this is not a full proof method to cracking the cipher, however it is very good compared to just randomly guessing keys."
   ]
  },
  {
   "cell_type": "markdown",
   "metadata": {},
   "source": [
    "### The Affine Cipher\n",
    "\n",
    "Now we will look at our third and final cipher, the Affine Cipher. Again the Affine Cipher is another monoalphabetic substitution cipher, in fact the Affine Cipher incorporates two ciphers in one. The first cipher it uses we have already met, it is the Caesar Cipher however the other cipher we have yet to discuss, it is called the Multiplicative Cipher. Before we discuss the Affine Cipher, we must understand the Multiplicative Cipher.\n",
    "\n",
    "The Multiplicative Cipher is very similar to the Caesar Cipher, in fact it is the same sort of substituion cipher as the Caesar Cipher. The only difference between the two is that in the Caesar Cipher we find the index of each character in a message and add the value of our key to the characters index to get a new index which we use to substitute our original character out for a new one, however in the Multplicative Cipher, rather than simply adding the key to the index we multiply it. Again like in the Caesar Cipher, this multiplying of the index must be done modulo the length of our character set as if we did not do this our new index may be out of the character sets range. Below we will look at the same example we used for the Caesar Cipher, and see how a key of 12 will affect the indexes if we were to use the alphabet as our character set for the Multiplicative Cipher:\n",
    "\n",
    "     A | B | C | D | E | F | G | H | I | J | K  | L  | M  | N  | O  | P  | Q  | R  | S  | T  | U  | V  | W  | X  | Y  | Z\n",
    "     0 | 1 | 2 | 3 | 4 | 5 | 6 | 7 | 8 | 9 | 10 | 11 | 12 | 13 | 14 | 15 | 16 | 17 | 18 | 19 | 20 | 21 | 22 | 23 | 24 | 25  \n",
    "    ---|---|---|---|---|---|---|---|---|---|----|----|----|----|----|----|----|----|----|----|----|----|----|----|----|----\n",
    "     A | B | C | D | E | F | G | H | I | J | K  | L  | M  | N  | O  | P  | Q  | R  | S  | T  | U  | V  | W  | X  | Y  | Z\n",
    "\n",
    "   \n",
    "                                                           |\n",
    "                                                           |\n",
    "                                                           V\n",
    " \n",
    "     A | M  | Y  | K  | W  | I | U  | G | S  | E | Q  | C | O  | A | M  | Y  | K  | W  | I | U  | G | S  | E | Q  | C | O\n",
    "     0 | 12 | 24 | 10 | 22 | 8 | 20 | 6 | 18 | 4 | 16 | 2 | 14 | 0 | 12 | 24 | 10 | 22 | 8 | 20 | 6 | 18 | 4 | 16 | 2 | 14\n",
    "    ---|----|----|----|----|---|----|---|----|---|----|---|----|---|----|----|----|----|---|----|---|----|---|----|---|----\n",
    "     A | B  | C  | D  | E  | F | G  | H | I  | J | K  | L | M  | N | O  | P  | Q  | R  | S | T  | U | V  | W | X  | Y |  Z\n",
    "\n",
    "\n",
    "To be clear the top row is the character set with each characters index being shown, and below is the character that gets mapped to the character above when encrypted. Now after applying the key 12, as you can see the multiplicative cipher changes the indexes, however they are not all unique, in fact because of modular arithmatic after the originial letter indexed 12 the each letter is indexed the same way as the first 12. This as you may guess, is a big issue as when trying to decrypt a message using the above key how do we know whever the letter \"A\" should when decrypted become \"A\" again or \"N\". It is impossible to know this, so to avoid this we must use a key that is coprime to the length of our character set this way no overlapping letters will occur.\n",
    "\n",
    "Now that we know how the Multiplicative Cipher works, the Affine Cipher is easy to understand. When using the Affine Cipher we need two keys, one key which we use for the encrypting the message using the Multiplicative Cipher that we will call \"Multkey\" and another for the Caesar Cipher that we will call \"Caesarkey\". If we want to encrypt using the Affine Cipher we first apply the Multiplicative Cipher to the message (essentially we multiply the index of each character by the Multkey) and then we apply the Caesar Cipher to the new message (Just add Caesar key to the index of each character), again we do this all modulo the length of the character set. If instead we want to decrypt using the Affine Cipher, instead we subtract the Ceasarkey from the index of each character in the message, and then multiply each index by the modular inverse of the Multikey and do this all modulo the length of the character set too. We have spoken about modular inverses earlier, so we know that if we multiply our Multikey by it's modular inverse \"m\" we have:\n",
    "\n",
    "> $Multikey \\times m \\equiv 1 mod(n)$\n",
    "\n",
    "Where $n$ is the length of our character set. Thus to see why this decryption process works lets say our Multikey is $M$ and it's modular inverse is $m$, let $n$ be the length of our character set, $a$ our Caesar key and finally $i$ the index of a character in the message we wish to encrypt. When encrypting $i$ we will get a new index we will call $e$ and we calculate this as so:\n",
    "\n",
    "> $e = (iM + a) mod(n)$\n",
    "\n",
    "Now to see how we get the original index when decrypting see below:\n",
    "\n",
    "> $i = (m \\times (e - a))mod(n) = (m \\times (iM))mod(n) = imod(n) = i$\n",
    "\n",
    "Thus we should now understand how encryption and decryption works using the Affine Cipher, so now we will create the functions that implement the Affine Cipher."
   ]
  },
  {
   "cell_type": "code",
   "execution_count": null,
   "metadata": {},
   "outputs": [],
   "source": [
    "###REMOVE THIS IS IN FINAL PROJECT AS THIS WILL HAVE TO COME AFTER CORE 2\n",
    "from NumberFunctions import *\n",
    "import random as ran\n",
    "\n",
    "def modular_inverse(a,n):\n",
    "    '''Solves ax = 1 mod(n) for x in {1,2,3,...,m-1}'''\n",
    "    gcd, x, y = gcd_ext(a, n)\n",
    "    if gcd == 1:\n",
    "        return x%n\n",
    "    else:\n",
    "        return \"gcd not = 1\"\n",
    "###\n",
    "import sys\n",
    "\n",
    "def Usefulkeys(Multikey, Caesarkey, setting):\n",
    "    \"\"\"This is a function we will use in the Affine Cipher function\n",
    "    to check that the keys being used for the Cipher actually work when \n",
    "    encrypting the text or so the user is aware they are using a weak key.\"\"\"\n",
    "    if setting == 'encrypt': #This only matters if the setting is to encrypt\n",
    "        if Multikey == 1 and Caesarkey == 0: #This means the message will not be encrypted as the ciphers will change nothing\n",
    "            #We use sys.exit below because this allows us to use this function inside our Affine Cipher function to stop it.\n",
    "            sys.exit('The key being used to encrypt using the multiplicative cipher is 1 and the Caesar ciphe key is 0, meaning this will not encrypt the message, please enter a new key')                   \n",
    "    if Multikey <= 0: #If it is 0, everything will be the same letter, any less will cause negative numbers, so it won't work\n",
    "        sys.exit('Multiplicative key must be larger than 0, please enter a new key.')\n",
    "    if Caesarkey < 0 or Caesarkey > len(encounter) - 1: #This wil lcause the Caesar key to be out of range\n",
    "        sys.exit('Caesar key is outside of the range of the charcter set for the Caesar cipher, please enter a new key.')\n",
    "    if not gcd(Multikey, len(encounter)) == 1: #As mentioend in the notes we need this for the Cipehr to work.\n",
    "        sys.exit('The multiplicative key is not coprime to the size of the current character set, please change either the character set or key')\n",
    "    \n",
    "    \n",
    "def keygeneration():\n",
    "    \"\"\"This is a function you can use to create a Multikey and Caesar key for yourself\n",
    "    that is quick and will work, also it outputs it as one Affine Cipher key\"\"\"\n",
    "    while True:\n",
    "        Multikey = ran.randint(2, len(encounter)) #These both check that the keys are within the corrct range\n",
    "        Caesarkey = ran.randint(2, len(encounter))\n",
    "        if gcd(Multikey, len(encounter)) == 1: #To check it works for our code\n",
    "            pp.copy(Multikey * len(encounter) + Caesarkey)\n",
    "            return (\"Affine Cipher key -,\", Multikey * len(encounter) + Caesarkey,\"has been copied.\")\n",
    "\n",
    "\n",
    "def Affine_cipher(message, key, setting):\n",
    "    \"\"\"This is where we apply the Affine Cipher\"\"\"\n",
    "    if str(key).isdigit() == True:   #To check if the key entered is one Affine key or two keys the Multi and Caesar key.\n",
    "        Multikey = key // len(encounter) #If it is one key, we must use this to get the two keys as show, also\n",
    "                                         #though this is not neccesary and we could require the user to input 2 seperate keys,\n",
    "                                         # this will allows us to crack the Cipher as you will see next, so this code will be\n",
    "                                         #explained in the enxt section.\n",
    "        Caesarkey = key % len(encounter)\n",
    "    else: #If not one key, we have been given 2 keys a Multikey and a Caesar key\n",
    "        Multikey = key[0]\n",
    "        Caesarkey = key[1]\n",
    "    Usefulkeys(Multikey, Caesarkey, setting) #Checks our keys work as mentioned in the function\n",
    "    output = ''\n",
    "    for x in message:\n",
    "        if x in encounter:\n",
    "            index = encounter.find(x)\n",
    "            if setting == \"encrypt\":\n",
    "                output += encounter[(index * Multikey + Caesarkey) % len(encounter)] #As mentioned in the notes this is how \n",
    "                                                                                     #Affine encryption works\n",
    "            if setting == \"decrypt\":\n",
    "                output +=  encounter[(index - Caesarkey) * modular_inverse(Multikey,len(encounter)) % len(encounter)]\n",
    "                #The code above is implementing the method we saw in the notes to decrypt an affine encrypted message.\n",
    "        else:\n",
    "            output += x #If x is not in our character set, add the original character x to the message anyway.\n",
    "    return output\n",
    "                                                   \n",
    "Affine_cipher(\"\"\"X}/$wt/Rpt#p\"/rx wt\";/t}r\") $x}v/p}s/str\") $x}v/#)|q~{#/x}&~{&ts/r~}&t\"$x}v/$wt|/$~/}%|qt\"#;/pssx}v/~\"/#%q$\"pr$x}v/$wt/zt);/p}s/$wt}/r~}&t\"$x}v/$wt/}t\\'/}%|qt\"/qprz/$~/p/#)|q~{=\"\"\", [1,0], \"encrypt\")\n"
   ]
  },
  {
   "cell_type": "markdown",
   "metadata": {},
   "source": [
    "### Cracking The Affine Cipher\n",
    "\n",
    "The method for cracking the Affine Cipher is the same as the method we used for the Caesar Cipher, we use a \"Brute-force Attack\". The reason for this is because, there are a limited amount of keys you can use for the Affine Cipher, in fact if $n$ is the length of our character set, there are only $n^{2}$ possible keys. The reason being for this is simple, it is because we work modulo $n$ and we have a choice for the Multikey of which there are $n$ possible values it can take due to working modulo $n$ (actually a bit less since we wouldn't expect this to be a value of 1 or a value such that gcd(Multikey,$n$) is not equal to 1), and for the Caesarkey we also have $n$ possible keys. Thus the amount of combinations of keys we can have is equal to at most:\n",
    "\n",
    ">$n \\times n = n^{2}$\n",
    "\n",
    "Now this is the reason for having the section of code in our Affine Cipher that let us input one key and in return we got both the Caesarkey and Multikey. The code is set up to cycle through all possible combinations of keys. To show how this works, again let $M$ be our Multikey $a$ our Caesar key and $A$ our Affine Key then in our code we have:\n",
    "\n",
    "> $M = \\lfloor\\frac{A}{n}\\rfloor$\n",
    "\n",
    "> $a = Amod(n)$\n",
    "\n",
    "Now for $x \\in \\{1,2,...,n\\}$ if:\n",
    "\n",
    "> $ (x)n = A $ \n",
    "\n",
    "Then we have that for $y \\in \\{0,1,...,n-1\\}$\n",
    "\n",
    "> $ a = (A + y) mod(n) = y$\n",
    "\n",
    "Thus we cycle through all $n$ combinations for $a$, and here we also have:\n",
    "\n",
    "> $M = \\lfloor\\frac{A+y}{n}\\rfloor = x$\n",
    "\n",
    "Hence by cycling through all choices for $x$ and $y$ we test all combinations of possible keys. Thus we will now implement this into a function to Brute force all combinations of keys below and crack the Affine Cipher."
   ]
  },
  {
   "cell_type": "code",
   "execution_count": null,
   "metadata": {},
   "outputs": [],
   "source": [
    "def Affine_crack(message, show):\n",
    "    \"\"\"This is the function that will attempt to crack a message\n",
    "    encrypted using the Affine Cipher\"\"\"\n",
    "    for x in range(0, len(encounter)**2):#The amount of psosible keys as mentioned\n",
    "        if not gcd(x // len(encounter), len(encounter)) == 1: #Don't test the key if the gcd is not 1 as mentioned in the notes\n",
    "            continue\n",
    "        decrypted = Affine_cipher(message, x ,\"decrypt\") #decrypt the message using this key\n",
    "        if show == True:\n",
    "            print(\"Key being attempted -\", x,\". Decrypted message for this key\", decrypted[:50],\"...\")\n",
    "        if potentialofmessage(decrypted, 50, 75) == True: #This is our function from earlier that checks how likely a message \n",
    "                                                          #is to be the original message\n",
    "            print('Potential Key for decryption -', x)\n",
    "            print('The decrypted message for this key is -', decrypted)                \n",
    "            user = input('If you want to end enter \"Yes\", else just press enter.') \n",
    "            if user ==\"Yes\":\n",
    "                pp.copy(decrypted)\n",
    "                return decrypted\n",
    "    return \n",
    "Affine_crack(\"\"\"m?/#[i/*\\\\ig\\\\L/3vu[iLV/i?3LKu#v?@/\\\\?N/Ni3LKu#v?@/gK$wZhg/v?YZhYiN/3Z?YiL#v?@/#[i$/#Z/?>$wiLgV/\\\\NNv?@/ZL/g>w#L\\\\3#v?@/#[i/MiKV/\\\\?N/#[i?/3Z?YiL#v?@/#[i/?it/?>$wiL/w\\\\3M/#Z/\\\\/gK$wZh-\"\"\", True)"
   ]
  },
  {
   "cell_type": "markdown",
   "metadata": {},
   "source": [
    "# Core 2: RSA Signature Message"
   ]
  },
  {
   "cell_type": "markdown",
   "metadata": {},
   "source": [
    "## Modular Inverse"
   ]
  },
  {
   "cell_type": "markdown",
   "metadata": {},
   "source": [
    "Solve, \n",
    "> $ax = 1 \\pmod{m} $ for  $x \\in \\{1,2,3,...,m-1\\}$\n",
    "\n",
    "\n",
    "Proof\n",
    "\n",
    "We have, where $x,y \\in \\mathbb{Z}$ are calculated by the Euclidean algorithm.\n",
    "> $ax+by = gcd(a,b)$\n",
    "\n",
    "We only need to take into account when $gcd(a,b)=1$ as $e$ is chosen so $gcd(e,\\phi{N})=1$\n",
    "\n",
    "Let $m=b$, where $gcd(a,m) = 1$\n",
    "\n",
    "So we get\n",
    "> \\begin{align*}\n",
    "ax+my &= 1\\\\\n",
    "ax + my &\\equiv 1\\pmod{m}\\\\\n",
    "ax &\\equiv 1\\pmod{m}\n",
    "\\end{align*}\n",
    "\n",
    "Therefore, $x$ is a modular inverse of $a$ for $m$\n",
    "\n",
    "However, by using the Euclidean algorithm sometimes $x$ is not in the set $\\{1,2,...,m-1\\}$. This is a problem as if $x$ is negative when we use it later for the RSA signature we need to take the modulo of $int^{x}$, to do this we must have $int = int^{x}$\n",
    "\n",
    "Let us consider the case where $x \\notin \\{1,2,...,m-1\\}$, Let $d \\in \\mathbb{Z}$\n",
    "> \\begin{align*}\n",
    "ax &\\equiv 1\\pmod{m}\\\\\n",
    "ax + adm &\\equiv 1\\pmod{m}\\\\\n",
    "a(x + dm) &\\equiv 1\\pmod{m}\n",
    "\\end{align*}\n",
    "\n",
    "Set $x\\prime = x + dm \\iff x\\prime = x \\pmod{m}$\n",
    "\n",
    "We know $x\\prime \\in \\{1,2,...,m-1\\}$\n"
   ]
  },
  {
   "cell_type": "code",
   "execution_count": null,
   "metadata": {
    "scrolled": false
   },
   "outputs": [],
   "source": [
    "@numba.jit('int64(int64)', nopython=True)\n",
    "def totient_fast(n):\n",
    "    '''return the totient of n,\n",
    "        number of postive integers < n which are coprime to n.'''\n",
    "    num = 0\n",
    "    for i in range(1, n):\n",
    "        if gcd_fast(i, n) == 1:\n",
    "            num += 1\n",
    "    return num\n",
    "\n",
    "\n",
    "@numba.vectorize('int64(int64)', nopython=True, target='parallel')\n",
    "def totient_fast_ufunc_par(n):\n",
    "    return totient_fast(n)\n",
    "\n",
    "\n",
    "def totient(n):\n",
    "    '''return the totient of n,\n",
    "        number of postive integers < n which are coprime to n.'''\n",
    "    num = 0\n",
    "    for i in range(1, n):\n",
    "        if gcd_fast(i, n) == 1:\n",
    "            num += 1\n",
    "    return num\n",
    "\n",
    "\n",
    "def my_hash(message, N):\n",
    "    '''Turn message to bits\n",
    "    Then turn into int h'''\n",
    "    return hash(message) % N\n",
    "\n",
    "\n",
    "def modular_inverse(a, n):\n",
    "    '''Solves ax = 1 mod(n) for x in {1,2,3,...,m-1}'''\n",
    "    gcd, x, y = gcd_ext(a, n)\n",
    "    if gcd == 1:\n",
    "        return x % n\n",
    "    else:\n",
    "        return \"gcd not = 1\"\n",
    "\n",
    "\n",
    "@numba.jit('int64(int64,int64)', nopython=True)\n",
    "def modular_inverse_fast(a, n):\n",
    "    # Solves ax = 1 mod(n) for x in {1,2,3,...,m-1}\n",
    "\n",
    "    gcd, x, y = gcd_ext_fast(a, n)\n",
    "    if gcd == 1:\n",
    "        return x % n\n",
    "    else:\n",
    "        return -1\n",
    "\n",
    "\n",
    "def get_primes_composites(n, is_prime_FUN=isprime_basic):\n",
    "    '''returns a numpy array of primes and composites with largest number being n,\n",
    "    is_prime_FUN: which function will be used to identify if a number is prime'''\n",
    "    primes = []\n",
    "    composites = []\n",
    "\n",
    "    for num in range(1, n+1):\n",
    "        if is_prime_FUN(num):\n",
    "            primes.append(num)\n",
    "        else:\n",
    "            composites.append(num)\n",
    "\n",
    "    return np.array(primes), np.array(composites)\n",
    "\n",
    "\n",
    "def primality_test(N, t):\n",
    "    for i in range(0, t):\n",
    "        a = ran.randrange(0, N-1)\n",
    "        if a**(N-1) % N != 1:\n",
    "            return \"composite\"\n",
    "    return \"prime\""
   ]
  },
  {
   "cell_type": "code",
   "execution_count": null,
   "metadata": {},
   "outputs": [],
   "source": [
    "# Tests\n",
    "\n",
    "assert totient(7) == 6\n",
    "assert totient(35) == 24\n",
    "assert totient(5321) == 4992\n",
    "\n",
    "assert max(totient_fast_ufunc_par(\n",
    "    np.array([7, 35, 5321])) - np.array([6, 24, 4992])) < 1e-10\n",
    "\n",
    "assert modular_inverse(15, 7) == 1\n",
    "assert modular_inverse_fast(15, 7) == 1\n",
    "\n",
    "a = 3487\n",
    "n = 9837\n",
    "b = modular_inverse(a, n)\n",
    "d = modular_inverse_fast(a, n)\n",
    "assert (a*b) % n == 1\n",
    "assert (a*d) % n == 1\n",
    "\n",
    "# This test gets negative value originally, but inverse needs to be inbetween {1,2,..,m-1}\n",
    "a = 3231\n",
    "n = 12334\n",
    "assert modular_inverse(a, n) == 11895\n",
    "\n",
    "\n",
    "expected_primes = np.array([2, 3, 5, 7, 11, 13, 17, 19])\n",
    "expected_composites = np.array([1, 4, 6, 8, 9, 10, 12, 14, 15, 16, 18, 20])\n",
    "\n",
    "primes, composites = get_primes_composites(20)\n",
    "assert max(primes - expected_primes) == 0\n",
    "assert max(composites - expected_composites) == 0"
   ]
  },
  {
   "cell_type": "markdown",
   "metadata": {},
   "source": [
    "## Generating primes using Miller Rabin"
   ]
  },
  {
   "cell_type": "markdown",
   "metadata": {},
   "source": [
    "An n bit number is one which requires n bits to be stored, with the most significant bit (the left most bit) being 1. This means the n bit number is in the range $[2^{n-1}, 2^n)$.\n",
    "\n",
    "we need to generate primes of n bit length, the idea is to pick a n bit number and check if it is prime. However, with large values of primes the traditional method of checking if numbers divide the prime doesn't work very fast, if n is prime it has at best a speed of $O(\\sqrt{n})$. \n",
    "\n",
    "However, by using a probabilistic approach to find primes. Large primes can be found. The longer the algorithm is run for the higher the probability of getting a prime is. We will be using the probabilistic method called Miller Rabin."
   ]
  },
  {
   "cell_type": "markdown",
   "metadata": {},
   "source": [
    "### How Miller Rabin Works"
   ]
  },
  {
   "cell_type": "markdown",
   "metadata": {},
   "source": [
    "Let $n$ be prime with $n>2$\n",
    "\n",
    "So we have $n-1$ must be even, this means it can be written as $2^sd$ with $s,d \\in \\mathbb{N}_+$ and $d$ odd.\n",
    "\n",
    "Therefore, we have one of these must be true for each $a\\in \\{2,3,...,n-1\\}$\n",
    "\n",
    "> $a^d \\equiv 1 \\mod{n}$\n",
    "\n",
    "or\n",
    "\n",
    ">$a^{2^rd} \\equiv -1 \\mod{n}$ for $r \\in \\{0,1,2,...,s-1\\}$\n",
    "\n",
    "To prove this we will use Fermat's Little Theorem which states for a prime number $n$ and $a\\in \\mathbb{Z}/n\\mathbb{Z}$.\n",
    "> $a^{n-1} \\equiv 1\\mod{n} \\iff a^{n} \\equiv a \\mod{n}$\n",
    "\n",
    "This can be written as\n",
    ">$a^{n-1} = a^{2^sd}$\n",
    "\n",
    "Then by taking square roots\n",
    ">\\begin{align*}\n",
    "\\sqrt{a^{2^sd}} &\\equiv \\sqrt{1} \\mod{n}\\\\\n",
    "&\\text{ }\\\\\n",
    "a^{2^{s-1}d} &\\equiv +1 \\mod{n} \\\\\n",
    "\\textrm{or}&\\\\\n",
    "a^{2^{s-1}d} &\\equiv -1 \\mod{n}\n",
    "\\end{align*}\n",
    "\n",
    "If it is $+1$ we square root again, when we get the modulo equal to $-1$ we can no longer take any more square roots so that equation is true. Therefore, we get one of the above equations must be true.\n",
    "\n",
    "However, we will be using the contrapositive of the above claim,\n",
    "\n",
    "The contrapositive states,\n",
    "> $(P \\rightarrow Q) \\iff (\\neg{Q} \\rightarrow \\neg{P})$\n",
    "\n",
    "So we get the contrapositive of the above claim is \n",
    "> $a^d \\not\\equiv 1 \\mod{n}$\n",
    "\n",
    "and\n",
    "\n",
    ">$a^{2^rd} \\not\\equiv -1 \\mod{n}$ for $r \\in \\{0,1,2,...,s-1\\}$\n",
    "\n",
    "Then $n$ is not a prime,\n",
    "\n",
    "When $a$ satisfies these equations $a$ is know as a witness for the composition of $n$.\n",
    "\n",
    "When $a$ does not satisfy these equations and $n$ is composite, $a$ is known as a strong liar. This means $n$ is a strong probable prime to base $a$.\n",
    "\n",
    "By randomly picking $a\\in\\{2,3,...,n-1\\}$ multiple times it is unlikely for all of the selected $a$ to be strong liars.\n",
    "\n",
    "This leads to the fact, if $p$ is $prime$, then the Miller Rabin test outputs $prime$. If p is $composite$, the algorithm outputs $composite$ but has a small chance of outputting $prime$."
   ]
  },
  {
   "cell_type": "code",
   "execution_count": null,
   "metadata": {},
   "outputs": [],
   "source": [
    "def random_prime(n_bit, t, trails=500):\n",
    "    '''Returns a uniform n-bit prime, with probability at most 2^(-t) getting a composite,\n",
    "    the higher the trails the less chance of failing to generate a prime but takes longer'''\n",
    "    for i in range(0, trails):\n",
    "        p = [secrets.choice([0, 1]) for i in range(0, n_bit-2)]\n",
    "        b = \"\".join(str(i) for i in p)\n",
    "        my_int = int(\"1\" + b + \"1\", 2)  # Want at least n bit and gives odd\n",
    "        if is_prime_miller_rabin(my_int, t):\n",
    "            return my_int\n",
    "    return \"Fail\"\n",
    "\n",
    "\n",
    "def is_prime_miller_rabin(N, t=40):\n",
    "    '''If N is prime, test always outputs True(prime)\n",
    "    If N is composite outputs False(not prime) except with probability at most 2^(-t)'''\n",
    "\n",
    "    if N == 2:\n",
    "        return True  # Prime\n",
    "\n",
    "    if N == 3:\n",
    "        return True  # Prime\n",
    "\n",
    "    if N % 2 == 0:\n",
    "        return False  # Comp\n",
    "\n",
    "    if N < 2:\n",
    "        return False  # Comp\n",
    "\n",
    "    d, s = calc_d_s(N)\n",
    "    for j in range(0, t):\n",
    "        a = ran.randrange(2, N-1)\n",
    "        if is_composite(N, d, s, a):\n",
    "            return False  # Comp\n",
    "    return True  # Prime\n",
    "\n",
    "\n",
    "def is_composite(N, d, s, a):\n",
    "    '''Evaulate a^d != +-1 mod(N), and, a^(d*2^r) != -1 mod(N) for r in {1,2,...,s-1},\n",
    "    However, if output False does not mean prime, it could be a strong liar'''\n",
    "    remain = pow(a, d, N)\n",
    "    if (remain != 1) and (remain != N - 1):\n",
    "        for r in range(1, s):\n",
    "            remain = pow(remain, 2, N)\n",
    "            if remain != N-1:\n",
    "                pass\n",
    "            else:\n",
    "                return False\n",
    "    else:\n",
    "        return False\n",
    "\n",
    "    return True\n",
    "\n",
    "\n",
    "def calc_d_s(N):\n",
    "    s = 0\n",
    "    Num = N - 1\n",
    "    while Num % 2 == 0:\n",
    "        Num //= 2\n",
    "        s += 1\n",
    "    d = Num\n",
    "    return int(d), int(s)"
   ]
  },
  {
   "cell_type": "code",
   "execution_count": null,
   "metadata": {},
   "outputs": [],
   "source": [
    "# Tests\n",
    "assert calc_d_s(71)[0] == 35\n",
    "assert calc_d_s(71)[1] == 1\n",
    "assert calc_d_s(127)[0] == 63\n",
    "assert calc_d_s(127)[1] == 1\n",
    "assert calc_d_s(9627824804082068411)[0] == 4813912402041034205\n",
    "assert calc_d_s(9627824804082068411)[1] == 1\n",
    "assert calc_d_s(203981900391787397947)[0] == 101990950195893698973\n",
    "assert calc_d_s(203981900391787397947)[1] == 1\n",
    "\n",
    "\n",
    "N, d, s = 221, 55, 2\n",
    "# 137 is a witness for compositeness of 221\n",
    "a = 137\n",
    "assert is_composite(N, d, s, a) == True\n",
    "\n",
    "# 174 will lead to 221 being a prime or 174 is a strong liar for 221\n",
    "a = 174\n",
    "assert is_composite(N, d, s, a) == False\n",
    "\n",
    "N, d, s = 71, 35, 1\n",
    "a = 19\n",
    "assert is_composite(N, d, s, a) == False\n",
    "\n",
    "\n",
    "assert is_prime_miller_rabin(203981900391787397947, 40) == True\n",
    "assert is_prime_miller_rabin(-1235, 40) == False\n",
    "assert is_prime_miller_rabin(1, 40) == False\n",
    "assert is_prime_miller_rabin(3, 40) == True\n",
    "\n",
    "# Tests\n",
    "expected_primes = np.array([2, 3, 5, 7, 11, 13, 17, 19])\n",
    "expected_composites = np.array([1, 4, 6, 8, 9, 10, 12, 14, 15, 16, 18, 20])\n",
    "\n",
    "primes, composites = get_primes_composites(20, is_prime_miller_rabin)\n",
    "assert max(primes - expected_primes) == 0\n",
    "assert max(composites - expected_composites) == 0"
   ]
  },
  {
   "cell_type": "code",
   "execution_count": null,
   "metadata": {},
   "outputs": [],
   "source": [
    "def gen_modulas(n_bit):\n",
    "    '''n_bit is the size of the primes you want, the secuirty level.\n",
    "    This will output (N,p,q), N = p*q, p,q are n_bit uniform primes'''\n",
    "\n",
    "    p = \"\"\n",
    "    q = \"\"\n",
    "\n",
    "    while type(p) == str or type(q) == str:\n",
    "        p = random_prime(n_bit, 40)\n",
    "        q = random_prime(n_bit, 40)\n",
    "    N = p*q\n",
    "    return N, p, q\n",
    "\n",
    "\n",
    "def choose_e(phi_n):\n",
    "    e = 2\n",
    "    while True:\n",
    "        if gcd(e, phi_n) == 1:\n",
    "            return e\n",
    "        else:\n",
    "            e += 1\n",
    "\n",
    "\n",
    "def gen_RSA(n_bit):\n",
    "    '''n_bit is the size of the primes you want, the secuirty level.\n",
    "    output, N,e,f, N = p*q, e is relatively prime to phi(N), f solves ef = 1mod(phi(N))'''\n",
    "    N, p, q = gen_modulas(n_bit)\n",
    "    phi_n = (p-1)*(q-1)\n",
    "    e = choose_e(phi_n)\n",
    "    f = modular_inverse(e, phi_n)\n",
    "    return N, e, f"
   ]
  },
  {
   "cell_type": "code",
   "execution_count": null,
   "metadata": {},
   "outputs": [],
   "source": [
    "assert choose_e(448) == 3"
   ]
  },
  {
   "cell_type": "markdown",
   "metadata": {},
   "source": [
    "## The RSA-FDH Signature Scheme"
   ]
  },
  {
   "cell_type": "markdown",
   "metadata": {},
   "source": [
    "This is from the hash and sign paradigm. Where FDH means full domain hash. There are three stages to this scheme: Generation, Sign and Verify\n",
    "+ Generation\n",
    "  - We input the n-bit size of the random uniform primes we want\n",
    "  - This will give us a private key $(N,f)$ and public key $(N,e)$\n",
    "  - Where $N=pq$ and\n",
    "  > $ef \\equiv 1 \\mod{\\phi{N}} $\n",
    "  - A hash function $H$ is generated so all outputs are in $\\{1,2,3,...,N-1\\}$\n",
    "  - The hash function $H$ is part of the public key\n",
    "+ Sign\n",
    "  - We input the private key $(N,f)$ and a message which will be hashed by $H$ into $h$\n",
    "  - So we can compute the $s \\in \\mathbb{Z}$, which is the signature\n",
    "  > $s \\equiv m^d \\pmod{N}$  \n",
    "+ Verify\n",
    "  - We input the public key $(N,e)$ and a message which will be hashed by $H$ into $h\\prime$\n",
    "  - We input $s$ the signature\n",
    "  - Output $1$ which means authenticated if and only if\n",
    "  > $h \\equiv s^e \\pmod{N}$\n",
    "\n",
    "This works as\n",
    "> $s^e \\equiv (h^f)^e \\equiv h^{ef \\mod{\\phi{N}}} \\equiv h^1 \\equiv h\\mod{N}$\n",
    "\n",
    "The reason why this is effective is because calculating $\\phi{N}$ is very difficult, but with extra information $pq=N$ where $p,q \\in$ Primes it makes $\\phi{N}$ easy to calculate, this is know as a trap door. Additionally, the private key can be calculated from knowing the public key and the two primes that make up $N$.\n",
    "\n",
    "Where $\\phi{}$ is the Euler totient function. "
   ]
  },
  {
   "cell_type": "code",
   "execution_count": null,
   "metadata": {},
   "outputs": [],
   "source": [
    "def Generation(n_bit):\n",
    "    '''input: n_bit, size of primes wanted\n",
    "    output: private and public key'''\n",
    "    N, e, f = gen_RSA(n_bit)\n",
    "    private_key = {\"N\": N, \"f\": f}\n",
    "    public_key = {\"N\": N, \"e\": e}\n",
    "    return private_key, public_key\n",
    "\n",
    "\n",
    "def Sign(message, private_key):\n",
    "    h = my_hash(message, private_key[\"N\"])\n",
    "    s = pow(h, private_key[\"f\"], private_key[\"N\"])\n",
    "    return s\n",
    "\n",
    "\n",
    "def Verify(message, s, public_key):\n",
    "    h_prime = my_hash(message, public_key[\"N\"])\n",
    "    h = pow(s, public_key[\"e\"], public_key[\"N\"])\n",
    "\n",
    "    if h_prime == h:\n",
    "        return 1  # Authenticated\n",
    "    else:\n",
    "        return 0  # Intruder"
   ]
  },
  {
   "cell_type": "markdown",
   "metadata": {},
   "source": [
    "### Note, why is $\\phi{(pq)}$ is easy to calculate"
   ]
  },
  {
   "cell_type": "markdown",
   "metadata": {},
   "source": [
    "For large $N$, we have $\\phi{(N)}$ is difficult to calculate. But since $\\phi$ is a multiplicative function we have when $a,b$ are relatively prime ($gcd(a,b)=1$). Then,\n",
    "> $\\phi{(ab)} = \\phi{(a)}\\phi{(b)}$\n",
    "\n",
    "We also have by the definition of the Euler totient function, for all $p\\in primes$\n",
    "> $\\phi{(p)} = p-1$\n",
    "\n",
    "This means if two primes denoted by $p,q$ can be found such that $N=pq$, then $\\phi{(N)}$ can be quickly calculated by\n",
    "> $\\phi{(N)} = \\phi{(p)}\\phi{(q)} = (p-1)(q-1)$\n",
    "\n",
    "\n",
    "Below is a graph of the totient function for the first 500 numbers"
   ]
  },
  {
   "cell_type": "code",
   "execution_count": null,
   "metadata": {},
   "outputs": [],
   "source": [
    "x_prime, x_comp = get_primes_composites(500)\n",
    "\n",
    "y_prime = np.array([totient(x_prime[i]) for i in range(0, len(x_prime))])\n",
    "y_comp = np.array([totient(x_comp[i]) for i in range(0, len(x_comp))])\n",
    "\n",
    "plt.figure(figsize=(14, 6))\n",
    "plt.scatter(x_comp, y_comp, color=\"blue\", label=\"Composites\")\n",
    "plt.scatter(x_prime, y_prime, color=\"red\", label=\"Primes\")\n",
    "plt.title(\"Euler Totient Function\")\n",
    "plt.ylabel(\"Totient\")\n",
    "plt.xlabel(\"Number\")\n",
    "plt.legend(fontsize=\"x-large\")\n",
    "plt.show()"
   ]
  },
  {
   "cell_type": "markdown",
   "metadata": {},
   "source": [
    "Below is also an Euler Totient graph but this time it is calculated with compiled code and on multiple threads thus using all CPU's. This means more numbers can be shown. "
   ]
  },
  {
   "cell_type": "code",
   "execution_count": null,
   "metadata": {},
   "outputs": [],
   "source": [
    "x_prime, x_comp = get_primes_composites(10000, is_prime_FUN=isprime_basic_fast)\n",
    "\n",
    "\n",
    "y_prime = totient_fast_ufunc_par(x_prime)\n",
    "y_comp = totient_fast_ufunc_par(x_comp)\n",
    "\n",
    "plt.figure(figsize=(14, 6))\n",
    "plt.scatter(x_comp, y_comp, color=\"blue\", label=\"Composites\", s=1)\n",
    "plt.scatter(x_prime, y_prime, color=\"red\", label=\"Primes\", s=1)\n",
    "plt.title(\"Euler Totient Function\")\n",
    "plt.ylabel(\"Totient\")\n",
    "plt.xlabel(\"Number\")\n",
    "plt.legend(fontsize=\"x-large\")\n",
    "plt.show()"
   ]
  },
  {
   "cell_type": "markdown",
   "metadata": {},
   "source": [
    "### Note, forms of private key"
   ]
  },
  {
   "cell_type": "markdown",
   "metadata": {},
   "source": [
    "If the private key is of the format $(p,q)$ where $N=pq$ given the public key $(N,e)$, the private key can be written in the format $(N,f)$ where $fe \\equiv 1 \\mod{\\phi(N)}$ by the following code"
   ]
  },
  {
   "cell_type": "code",
   "execution_count": null,
   "metadata": {},
   "outputs": [],
   "source": [
    "def convert_to_N_f(prime_private_key, public_key):\n",
    "    '''inputs private key of form two primes and public key\n",
    "    outputs the new private key of form(N,f)'''\n",
    "    p = prime_private_key[\"p\"]\n",
    "    q = prime_private_key[\"q\"]\n",
    "    N = public_key[\"N\"]\n",
    "    e = public_key[\"e\"]\n",
    "\n",
    "    if p*q != N:\n",
    "        return \"The private key does not work with public key\"\n",
    "\n",
    "    phi_N = (p-1)*(q-1)\n",
    "    f = modular_inverse(e, phi_N)\n",
    "    new_private_key = {\"N\": N, \"f\": f}\n",
    "    return new_private_key"
   ]
  },
  {
   "cell_type": "code",
   "execution_count": null,
   "metadata": {},
   "outputs": [],
   "source": [
    "# Tests\n",
    "prime_private_key = {\"p\": 41, \"q\": 61}\n",
    "public_key = {\"N\": 2501, \"e\": 7}\n",
    "private_key = convert_to_N_f(prime_private_key, public_key)\n",
    "assert private_key == {\"N\": 2501, \"f\": 343}"
   ]
  },
  {
   "cell_type": "markdown",
   "metadata": {},
   "source": [
    "## Examples of RSA Signature"
   ]
  },
  {
   "cell_type": "markdown",
   "metadata": {},
   "source": [
    "### Example 1, no intruder"
   ]
  },
  {
   "cell_type": "markdown",
   "metadata": {},
   "source": [
    "Bob wants to know the message he has been sent is from Alice. Therefore, Alice needs to generate private and public keys, sign the message. When Bob receives the message he has to verify the message is from Alice."
   ]
  },
  {
   "cell_type": "code",
   "execution_count": null,
   "metadata": {},
   "outputs": [],
   "source": [
    "message = \"Hello Bob my freind\"\n",
    "# Generate keys with 512 bit primes\n",
    "private_key, public_key = Generation(512)\n",
    "\n",
    "# Alice needs to sign message\n",
    "s = Sign(message, private_key)\n",
    "\n",
    "# s and message are sent to Bob\n",
    "# Bob should also have access to the public key\n",
    "# Bob will now verify Alice sent the message\n",
    "Verification = Verify(message, s, public_key)\n",
    "Verification"
   ]
  },
  {
   "cell_type": "markdown",
   "metadata": {},
   "source": [
    "As can be seen the verification process passed so Bob knows Alice sent the message.\n",
    "\n",
    "Sometimes with very small probability the prime generator will produce a composite number. However, this is fine as then the message will fail the verification process and then the signature process happens again."
   ]
  },
  {
   "cell_type": "markdown",
   "metadata": {},
   "source": [
    "### Example 2, intruder Dave"
   ]
  },
  {
   "cell_type": "markdown",
   "metadata": {},
   "source": [
    "Bob wants to know the message he has been sent is from Alice. And that Dave has not captured and changed the message. Same as before  Alice needs to generate private and public keys, sign the message. When Bob receives the message he has to verify the message is from Alice. If the message fails verification Dave has changed the message. "
   ]
  },
  {
   "cell_type": "code",
   "execution_count": null,
   "metadata": {},
   "outputs": [],
   "source": [
    "message = \"Hello Bob my freind\"\n",
    "# Generate keys with 512 bit primes\n",
    "private_key, public_key = Generation(512)\n",
    "\n",
    "# Alice needs to sign message\n",
    "s = Sign(message, private_key)\n",
    "\n",
    "# s and message are sent to Bob\n",
    "# Bob should also have access to the public key\n",
    "\n",
    "# Dave intercepts the message and changes it\n",
    "message = \"I declare war on Bob\"\n",
    "# Dave sends new message to Bob\n",
    "\n",
    "# Bob will now verify Alice sent the message\n",
    "Verification = Verify(message, s, public_key)\n",
    "Verification"
   ]
  },
  {
   "cell_type": "markdown",
   "metadata": {},
   "source": [
    "The verification failed this means Bob knows that someone has intercepted and changed the message. "
   ]
  },
  {
   "cell_type": "markdown",
   "metadata": {},
   "source": [
    "### Example 3, 6 bit primes with tests and calculations"
   ]
  },
  {
   "cell_type": "markdown",
   "metadata": {},
   "source": [
    "Let the message be hashed to $h$ where $h=15$, we will use 6 bit primes $p=41$ and $q=61$ so we get $N=2501$, we will use the fact that the Euler's totient function is multiplicative and $\\phi{prime} = prime - 1$.\n",
    ">$\\phi{2501} = \\phi{41}\\phi{61} = 40*60 = 2400$"
   ]
  },
  {
   "cell_type": "code",
   "execution_count": null,
   "metadata": {},
   "outputs": [],
   "source": [
    "assert totient(2501) == 2400"
   ]
  },
  {
   "cell_type": "markdown",
   "metadata": {},
   "source": [
    "We will select $e=7$ as $gcd(7,2400)=1$\n",
    "\n",
    "calc by hand show working\n",
    "if test then we get all pass"
   ]
  },
  {
   "cell_type": "code",
   "execution_count": null,
   "metadata": {},
   "outputs": [],
   "source": [
    "assert choose_e(2400) == 7"
   ]
  },
  {
   "cell_type": "markdown",
   "metadata": {},
   "source": [
    "We need to solve for f\n",
    ">\\begin{align*}\n",
    "ef &\\equiv 1 \\mod{\\phi{N}}\\\\\n",
    "7f &\\equiv 1 \\mod{2400}\\\\\n",
    "f &= 343\n",
    "\\end{align*}"
   ]
  },
  {
   "cell_type": "code",
   "execution_count": null,
   "metadata": {},
   "outputs": [],
   "source": [
    "assert modular_inverse(7, 2400) == 343"
   ]
  },
  {
   "cell_type": "markdown",
   "metadata": {},
   "source": [
    "Therefore, we get private key $(N=2501, f=343)$ and public key $(N=2501, e=7)$"
   ]
  },
  {
   "cell_type": "code",
   "execution_count": null,
   "metadata": {},
   "outputs": [],
   "source": [
    "private_key = {\"N\": 2501, \"f\": 343}\n",
    "public_key = {\"N\": 2501, \"e\": 7}\n",
    "message = 15"
   ]
  },
  {
   "cell_type": "markdown",
   "metadata": {},
   "source": [
    "We need to sign the message, the signature $s$\n",
    ">\\begin{align*}\n",
    "s &\\equiv h^f \\mod{N}\\\\\n",
    "s &\\equiv 15^{343} \\mod{2501}\\\\\n",
    "s &= 1053\n",
    "\\end{align*}"
   ]
  },
  {
   "cell_type": "code",
   "execution_count": null,
   "metadata": {},
   "outputs": [],
   "source": [
    "s = Sign(message, private_key)\n",
    "assert s == 1053"
   ]
  },
  {
   "cell_type": "markdown",
   "metadata": {},
   "source": [
    "The message and signature are sent off to the person, the person will verify the message by checking if their $h\\prime = h$.\n",
    "\n",
    "Let us consider the case where the message is not changed.\n",
    "\n",
    ">\\begin{align*}\n",
    "h &\\equiv s^e \\pmod{N}\\\\\n",
    "h &\\equiv 1053^{7} \\pmod{2501}\\\\\n",
    "h &= 15\n",
    "\\end{align*}\n",
    "\n",
    "So since $h\\prime = h$ the message will be verified."
   ]
  },
  {
   "cell_type": "code",
   "execution_count": null,
   "metadata": {},
   "outputs": [],
   "source": [
    "assert Verify(message, s, public_key) == 1"
   ]
  },
  {
   "cell_type": "markdown",
   "metadata": {},
   "source": [
    "This time the same message is sent but a middle man intercepts the message and changes it. Let the new message be hashed to $h\\prime=16$. Therefore, $h\\prime \\neq h$.\n"
   ]
  },
  {
   "cell_type": "code",
   "execution_count": null,
   "metadata": {},
   "outputs": [],
   "source": [
    "message = 16\n",
    "assert Verify(message, s, public_key) == 0"
   ]
  },
  {
   "cell_type": "markdown",
   "metadata": {},
   "source": [
    "The middle man will struggle to forge $s$ as they will struggle to find $f$ as they know $e$ and $N$ but only knowing that information makes solving $ef \\equiv 1 \\mod{\\phi{N}}$ for $f$ difficult for large $N$ as $\\phi{N}$ takes a long time to calculate."
   ]
  },
  {
   "cell_type": "markdown",
   "metadata": {},
   "source": [
    "## Problems with the Plain RSA signature"
   ]
  },
  {
   "cell_type": "markdown",
   "metadata": {},
   "source": [
    "The Plain RSA signature is the same as the RSA-FDH signature but without the hash function $H$. This means only integers in $\\{1,2,...,N-1\\}$ can be sent as the message. With this signature there are a few forms of attacks."
   ]
  },
  {
   "cell_type": "markdown",
   "metadata": {},
   "source": [
    "### A no control of message attack,"
   ]
  },
  {
   "cell_type": "markdown",
   "metadata": {},
   "source": [
    "This attack only requires the public key $(N,e)$, it works as follows. The attacker uniformly picks a signature $s$ where $s\\in\\{1,2,3,...,N-1\\}$. Then calculates the message $h$ where \n",
    ">$h \\equiv s^e \\mod{N}$\n",
    "\n",
    "Therefore, the message $h$ has a valid signature $s$, this is a forgery as no signatures were signed by the owner of the public key. However, the attacker has no control over the messages $h$ that get forged.\n",
    "\n",
    "If this attack is repeated multiple times for different values of the signature $s$ then the attacker can pick a forged message which suits their needs."
   ]
  },
  {
   "cell_type": "markdown",
   "metadata": {},
   "source": [
    "### Forging a signature on an arbitary message"
   ]
  },
  {
   "cell_type": "markdown",
   "metadata": {},
   "source": [
    "Say the attacker wants to forge a message $h\\in\\{1,2,3,...,N-1\\}$ with respect to the public key $(N,e)$, then the attacker picks  $h_1,h_2\\in\\{1,2,3,...,N-1\\}$ which is different from $h$ with\n",
    "> $h \\equiv h_1h_2\\mod{N}$\n",
    "\n",
    "The attacker then needs to obtain valid signatures $s_1, s_2$ for $h_1, h_2$. Then we have $s \\equiv s_1s_2 \\mod{N}$ is a valid signature for $h$. This is because\n",
    ">$s^e \\equiv (s_1s_2)^e \\equiv (h_{1}^{f}h_{2}^{f})^e \\equiv h_1^{fe}h_2^{fe} \\equiv h_1h_2 \\equiv h \\mod{N}$\n",
    "\n",
    "where $f$ is part of the private key, but isn't needed for this to work.\n",
    "\n",
    "This may not seem devastating but it is dangerous to make assumptions about what messages the signer may or may not be willing to sign.\n",
    "\n",
    "Additionally, multiple valid signatures $\\textbf{s} = \\{s_1, s_2, ..., s_q\\}$ and their corresponding messages $\\textbf{h} = \\{h_1,h_2,...,h_q\\}$ can be captured. By using the same principle as above the attacker can obtain a valid signature on any of the $2^q-q$ other messages by taking products of the subset $\\textbf{h}$.\n",
    "\n",
    "Furthermore, one example of getting signatures and messages is when a client wants to connect to a server. If a client uses a signature scheme to authenticate with the server and this is done by the client signing a random message sent by the server. It is easy for a malicious server to ask for a certain message to be signed."
   ]
  },
  {
   "cell_type": "markdown",
   "metadata": {},
   "source": [
    "## Hash Function"
   ]
  },
  {
   "cell_type": "markdown",
   "metadata": {},
   "source": [
    "Let $m$ be a string message and $h$ be a hashed message such that $H(m) = h$\n",
    "\n",
    "This means to prevent these attacks the hash function $H$ must have certain properties.\n",
    "+ $H$ must be hard to invert, this will prevent the \"no control of message attack\". As for each valid signature that is forged it is difficult to find the string message $m$ which corresponds to the hashed message $h$\n",
    "\n",
    "+ $H$ must not have multiplicative relations, that means it is hard to find three messages $m,m_1,m_2$ such that $H(m) = H(m_1)H(m_2)$. This should prevent the \"forgery of an arbitrary message\".\n",
    "\n",
    "+ It must be hard to find collisions for $H$. Since if $H(m_1)=H(m_2)$, then $m_1$ and $m_2$ have the same signature, this means forgery of a non signed message is trivial.\n"
   ]
  },
  {
   "cell_type": "markdown",
   "metadata": {},
   "source": [
    "# Core 3: Using RSA to encrypt and decrypt long strings"
   ]
  },
  {
   "cell_type": "markdown",
   "metadata": {},
   "source": [
    "We will encrypt and decrypt long strings (greater than 20000 characters) using the RSA method by slicing these strings into smaller, more appropreatly sized strings. We will then apply the method to these sub-strings to form a list of cyphertext. The benfits to this is that we can still use our 512 bit primes to encrypt the message since we split the message into subsections with a maximum of 512 bits. This means we don't have to generate massive primes which would take longer. The security benefits to this method are still the same as the RSA method; the code is still hard to crack due to the size of the prime numbers used. To even further improve the security of the message you could generate new private and public keys for each segment and send a list of private and public keys instead of one. However since the information is being sent as a list, the order of the list mist remain instact as the message would be giberish otherwise.\n",
    "\n"
   ]
  },
  {
   "cell_type": "code",
   "execution_count": null,
   "metadata": {},
   "outputs": [],
   "source": [
    "#creating your message:\n",
    "# here i've used a text file of Alice in Wonderland\n",
    "with open('alice29.txt', 'r') as myfile:\n",
    "    my_text = myfile.read()\n",
    "\n"
   ]
  },
  {
   "cell_type": "code",
   "execution_count": null,
   "metadata": {},
   "outputs": [],
   "source": [
    "# encrypting using functions defined in the notes:\n",
    "\n",
    "def blength(message, verbose=False):\n",
    "    length = len(message)\n",
    "    bin_length = 1 + (8 * length)\n",
    "    if verbose:\n",
    "        return print(bin_length)\n",
    "    return bin_length\n",
    "\n",
    "def char_to_byte(char): \n",
    "    byte_string = bin(ord(char))[2:]\n",
    "    num_zeros = 8 - len(byte_string)\n",
    "    for i in range(num_zeros):\n",
    "        byte_string = '0' + byte_string\n",
    "    return byte_string  \n",
    "\n",
    "def convert_to_binary(text):\n",
    "    bin_string = '1'\n",
    "    for letter in text: \n",
    "        bin_string = bin_string + char_to_byte(letter)\n",
    "     \n",
    "    return bin_string\n",
    "    \n",
    "\n",
    "def convert_to_integer(text,verbose=False): \n",
    "    bin_string = '1'\n",
    "    for letter in text: \n",
    "        bin_string = bin_string + char_to_byte(letter)\n",
    "    \n",
    "    return int(bin_string,2)\n",
    "\n",
    "\n",
    "\n",
    "def rsa_private_key(bit_length):\n",
    "    '''\n",
    "    Given input bit_length returns a private RSA key (p,q) where \n",
    "    both p and q are primes with bit_length number of (binary) bits. \n",
    "    '''\n",
    "    p = random_prime(bit_length, 40, trails=500)\n",
    "    q = random_prime(bit_length, 40, trails=500)\n",
    "    return (p,q)\n",
    "\n",
    "def rsa_public_key(p,q, e = 65537):\n",
    "    '''\n",
    "    Given input (p,q,e) returns the RSA public key \n",
    "    from the two prime numbers p and q and auxiliary \n",
    "    exponent e. If only (p,q) input, e = 65537 is used.\n",
    "    '''\n",
    "    N = p*q\n",
    "    return (N,e)\n",
    "\n",
    "\n",
    "\n",
    "def rsa_encrypt(m, N, e):  \n",
    "    '''\n",
    "    Given input (m,N,E) where m is the numerical \n",
    "    encoding of a message, returns the RSA \n",
    "    encryption of m using public key (N,e).\n",
    "    '''\n",
    "    return pow(m, e, N)\n",
    "\n",
    "\n"
   ]
  },
  {
   "cell_type": "code",
   "execution_count": null,
   "metadata": {},
   "outputs": [],
   "source": [
    "# first establish your public and private keys\n",
    "\n",
    "(p,q) = rsa_private_key(512)\n",
    "(N,e) = rsa_public_key(p,q, e = 65537)\n",
    "print('Public Key is: N ={} and e={}'.format(N,e)) #Print the public key\n",
    "\n",
    "\n",
    "\n",
    "# this function will take your text split it into sub-strings and convert these into a list of ciphertext c's.\n",
    "\n",
    "def split_and_encrypt(text,N,e):\n",
    "    split=[]\n",
    "    for index in range(0, len(text), 60):         #This splits your text every 60 charcaters ans stores  \n",
    "        split.append(text[index : index + 60])    #these sub strings in a list\n",
    "    integer=[]\n",
    "    for i in range(0,len(split)):                    #this takes each element in the list and calculates \n",
    "        integer.append(convert_to_integer(split[i])) #its integer value and stores it in a new list called integer\n",
    "    ctxt=[]                                          \n",
    "    for i in range(0,len(integer)):                 #now take these integer values and turn each of those\n",
    "        ctxt.append(rsa_encrypt(integer[i],N,e))    #into cyphertext so you are left with a list of cyphertext.\n",
    "    return ctxt\n",
    "\n",
    "\n",
    "#we will use this function for Alice in Wonderland and define our list of cyphertext as my_cval:\n",
    "\n",
    "my_ctxt = split_and_encrypt(my_text,N,e)\n",
    "\n",
    "\n"
   ]
  },
  {
   "cell_type": "markdown",
   "metadata": {},
   "source": [
    "Bob now sends this message to Alice. She now has the job of decrypting this text. We agian will use the functions given in the lecture notes."
   ]
  },
  {
   "cell_type": "code",
   "execution_count": null,
   "metadata": {},
   "outputs": [],
   "source": [
    "from gmpy2 import invert  \n",
    "\n",
    "def modular_inverse(n,m): \n",
    "    return int(invert(n,m))\n",
    "\n",
    "def rsa_decrypt(c,p,q,N,e): \n",
    "    '''\n",
    "    Given input (c,p,q,N,e) returns the RSA decryption of ciphertext\n",
    "    c using private key (p,q) and public key (N,e). (We input N as a \n",
    "    parameter to avoid having to recompute N = p*q.)\n",
    "    '''\n",
    "    totient = N - (p + q) + 1\n",
    "    f = modular_inverse(e,totient)\n",
    "    return pow(c,f,N)\n",
    "\n",
    "def convert_to_text(number): \n",
    "    # Remove '0b1' from the string \n",
    "    bin_string = bin(number)[3:] \n",
    "    text = ''                           \n",
    "    length = len(bin_string)\n",
    "    for i in range(0,length,8):  \n",
    "        # Pick out binary strings, 8 bits at a time\n",
    "        byte_string = bin_string[i:i+8]   \n",
    "        # Convert byte_string to a character before \n",
    "        # appending it to text \n",
    "        text += chr(int(byte_string,2))  \n",
    "    return text\n",
    "\n"
   ]
  },
  {
   "cell_type": "code",
   "execution_count": null,
   "metadata": {},
   "outputs": [],
   "source": [
    "#Now we will take our list of cypertext, decrypt these into integer values. Turn those interger values into strings of\n",
    "#text and then join these strings together to form our original message\n",
    "\n",
    "\n",
    "def decrypt_and_join(ctxt,p,q,N,e):\n",
    "    decrypt=[]\n",
    "    for i in range(0,len(ctxt)):\n",
    "        decrypt.append(rsa_decrypt(ctxt[i],p,q,N,e)) #turning cyphertext into the original integers\n",
    "    word=[]\n",
    "    for i in range(0,len(decrypt)):\n",
    "        word.append(convert_to_text(decrypt[i])) #converting the integers into text\n",
    "    return print(\"\".join(word)) #joining the substrings together to get the original text \n",
    "\n",
    "# we will take our list my_cval and use this function and our private and public keys to decrypt the message\n",
    "\n",
    "print(decrypt_and_join(my_ctxt,p,q,N,e))"
   ]
  },
  {
   "cell_type": "markdown",
   "metadata": {},
   "source": [
    "This is as we expected"
   ]
  },
  {
   "cell_type": "markdown",
   "metadata": {},
   "source": [
    "We may see this method as time consuming, especially for large texts, but here we can see that acctually it doesn't take that long. 10.5-11s is a good time considering the size of this document."
   ]
  },
  {
   "cell_type": "code",
   "execution_count": null,
   "metadata": {},
   "outputs": [],
   "source": [
    "#Same code just won't print the text, so we can just check the timing\n",
    "\n",
    "def decrypt_and_join1(cval,p,q,N,e):\n",
    "    decrypt=[]\n",
    "    for i in range(0,len(cval)):\n",
    "        decrypt.append(rsa_decrypt(cval[i],p,q,N,e)) #turning cyphertext into the original integers\n",
    "    word=[]\n",
    "    for i in range(0,len(decrypt)):\n",
    "        word.append(convert_to_text(decrypt[i])) #converting the integers into text\n",
    "    return \"\".join(word)#joining the substrings together to get the original text \n",
    "\n",
    "%timeit decrypt_and_join1(my_ctxt,p,q,N,e)\n",
    "\n"
   ]
  },
  {
   "cell_type": "markdown",
   "metadata": {},
   "source": [
    "## Core 6: The Diffie-Hellman Protocol"
   ]
  },
  {
 "cells": [
  {
   "cell_type": "code",
   "execution_count": 5,
   "metadata": {},
   "outputs": [],
   "source": [
    "import numpy as np\n",
    "import random as ran\n",
    "import matplotlib.pyplot as plt\n",
    "from random import SystemRandom, randint\n",
    "from miller_rabin import is_prime\n",
    "from time import process_time   \n",
    "import math"
   ]
  },
  {
   "cell_type": "markdown",
   "metadata": {},
   "source": [
    "## Core 4: Decompose Function"
   ]
  },
  {
   "cell_type": "markdown",
   "metadata": {},
   "source": [
    "### How Does the Decompose Function Work?\n",
    "\n",
    "The decompose function is using trial division in order to find the factors of a composite integer $N$. We find the smallest factor $p$ of our input $N$ and then divide our $N$ by $p$ to find the next factors of this new number. We iterate this until the number we get to through divisions is equal to $1$."
   ]
  },
  {
   "cell_type": "markdown",
   "metadata": {},
   "source": [
    "### Let's Try an Example with $N = 899$\n",
    "\n",
    "Firstly, we find the smallest factor of $899$ and we do this with our smallest_factor function. This finds the smallest factor of $899$ by finding the remainder when dividing $899$ with each increasing integer starting from $2$. Once the remainder of this division is equal to $0$, we return the value which we divided $899$ by and in this case, it would be $29$.\n",
    "\n",
    "We create a new entry in our dictionary and store this factor here.\n",
    "\n",
    "Next we compute $899$ divided by its smallest factor. This is equivalent to $\\frac{899}{29} = 31$.\n",
    "\n",
    "We again find the smallest factor of $31$ and since this is prime, it returns $31$ and we again create a new entry and add it into our dictionary to store with $29$. Now, we divide the smallest factor of $31$ with $31$ and we clearly get $1$ and this is where we return the dictionary of factors for $899$."
   ]
  },
  {
   "cell_type": "code",
   "execution_count": 19,
   "metadata": {},
   "outputs": [
    {
     "data": {
      "text/plain": [
       "dict_keys([2, 5])"
      ]
     },
     "execution_count": 19,
     "metadata": {},
     "output_type": "execute_result"
    }
   ],
   "source": [
    "def decompose(n):\n",
    "    \"\"\"\n",
    "    Generates a dictionary representing the prime decomposition.\n",
    "    I have slightly modified this function just to include a counter for how many operations the function carries out \n",
    "    for each n. This is to analyse the time complexity of the function.\n",
    "    \"\"\"\n",
    "    factors={}\n",
    "    current_number=n\n",
    "    count1 = 0                                #introducing a counter\n",
    "    while current_number > 1:\n",
    "        p=smallest_factor(current_number)[0]\n",
    "        count1 += smallest_factor(current_number)[1]    #increment the count by the number of operations the smallest_factor function has to carry out for the current number.\n",
    "        if p in factors.keys():                 #if p is not a new factor, increase the power\n",
    "            factors[p]+=1             \n",
    "        else:\n",
    "            factors[p]=1                           #if p is a new factor, create a new entry\n",
    "        current_number = current_number//p\n",
    "        count1 += 1                              #increment the count by 1 for each time we are in the while loop\n",
    "    return factors,count1\n",
    "\n",
    "def smallest_factor(n):\n",
    "    \"\"\"\n",
    "    Returns the smallest factor of a positive integer n, which isn't 1.\n",
    "    This function has been modified to introduce a counter to better analyse the time complexity of the decompose \n",
    "    function; we use this function in the decompose function.\n",
    "    \"\"\"\n",
    "    sqrt=n**0.5\n",
    "    i=2\n",
    "    count = 0\n",
    "    while i<=sqrt:\n",
    "        if n%i==0:\n",
    "            count += 1                         #increment the count by 1 for each time we are in the while loop\n",
    "            return i, count\n",
    "        i+=1\n",
    "        count += 1\n",
    "    return n,count  \n",
    "\n",
    "\n",
    "\n",
    "def random_prime(n_bit, t, trails = 500):\n",
    "    '''Returns a uniform n-bit prime, with probability at most 2^(-t) getting a composite,\n",
    "    the higher the trails the less chance of failing to generate a prime but takes longer'''\n",
    "    for i in range(0, trails):\n",
    "        p = np.random.randint(0,2,n_bit-2)\n",
    "        b = \"\".join(str(i) for i in p)\n",
    "        my_int = int(\"1\" + b + \"1\", 2) #Want at least n bit and gives odd        \n",
    "        if is_prime_miller_rabin(my_int, t):\n",
    "            return my_int\n",
    "    return \"Fail\"\n",
    "\n",
    "def is_prime_miller_rabin(N,t = 40):\n",
    "    '''If N is prime, test always outputs True(prime)\n",
    "    If N is composite outputs False(not prime) except with probability at most 2^(-t)'''\n",
    "    \n",
    "    if N == 2:\n",
    "        return True # Prime\n",
    "    \n",
    "    if N == 3:\n",
    "        return True # Prime\n",
    "    \n",
    "    if N % 2 == 0:\n",
    "        return False # Comp\n",
    "    \n",
    "    if N < 2:\n",
    "        return False # Comp\n",
    "    \n",
    "    d, s = calc_d_s(N)\n",
    "    for j in range(0,t):\n",
    "        a = ran.randrange(2,N-1)\n",
    "        if is_composite(N, d, s, a):\n",
    "            return False #Comp\n",
    "    return True #Prime\n",
    "\n",
    "def calc_d_s(N):\n",
    "    s = 0\n",
    "    Num = N - 1\n",
    "    while Num%2 == 0:\n",
    "        Num //= 2\n",
    "        s += 1\n",
    "    d = Num\n",
    "    return int(d), int(s)\n",
    "\n",
    "def is_composite(N, d, s, a):\n",
    "    '''Evaulate a^d != +-1 mod(N), and, a^(d*2^r) != -1 mod(N) for r in {1,2,...,s-1},\n",
    "    However, if output False does not mean prime, it could be a strong liar'''\n",
    "    remain = pow(a, d, N)\n",
    "    if (remain != 1) and (remain != N - 1):\n",
    "        for r in range(1,s):\n",
    "            remain = pow(remain, 2, N)\n",
    "            if remain != N-1:\n",
    "                pass\n",
    "            else:\n",
    "                return False    \n",
    "    else:\n",
    "        return False\n",
    "    \n",
    "    return True"
   ]
  },
  {
   "cell_type": "code",
   "execution_count": 20,
   "metadata": {},
   "outputs": [],
   "source": [
    "#Tests\n",
    "\n",
    "assert smallest_factor(10)[1] == 1           #checking the count is 1, it should be since 10 is an even number\n",
    "assert smallest_factor(5)[1] == 1            #checking the count is 1, should be since sqrt(5) < 3 so cycles once\n",
    "assert smallest_factor(15)[1] == 2           #the count should be 2 since it cycles through the loop twice\n",
    "\n",
    "assert decompose(10)[1] == 4.   #this holds because we go through the while loop twice since 10 has 2 factors and each factor has to only go through loop in smallest_factor function once."
   ]
  },
  {
   "cell_type": "markdown",
   "metadata": {},
   "source": [
    "### Code for Generating $N = pq$ where $p,q$ are $k$ bit Primes "
   ]
  },
  {
   "cell_type": "code",
   "execution_count": 21,
   "metadata": {},
   "outputs": [],
   "source": [
    "def generate_N(k_bit,n,verbose = False):\n",
    "    '''\n",
    "    Takes k and n as inputs where k is how many bits the random primes, p and q are. The input n is how many N = p*q \n",
    "    we generate. This function returns an n-sized list of N's (p*q's).\n",
    "    We have verbose as an input for our tests below to check that indeed N = p*q.\n",
    "    This function will only generate N's where k is less than 32 bits because otherwise, we would experience an\n",
    "    integer overflow error. However, since we are only using this function for k up to 27, this is not an issue in our\n",
    "    case.\n",
    "    '''\n",
    "    \n",
    "    alist = ([])\n",
    "    for i in range(2*n):\n",
    "        alist.append(random_prime(k_bit, 40))      #we append 2n random k_bit primes to our empty list\n",
    "    x = np.array_split(alist,n)                 #we split this list into pairs of k_bit primes\n",
    "    blist = ([])\n",
    "    for j in range(0,n):\n",
    "        blist.append(np.prod(x[j]))             #we compute the product of each pair of k_bit primes and append them to another empty list\n",
    "    if verbose == True:                         #if we want to, we have the option of returning the pair of primes as well as the product of them\n",
    "        return np.array(blist),x                        #this is for our checks below\n",
    "    else:\n",
    "        return np.array(blist).astype(np.int64)\n",
    "      \n",
    "\n",
    "def generate_sampleN(a,b,c):\n",
    "    '''\n",
    "    Takes a,b,c as inputs where a is the smallest a bit p and q random primes we generate to produce N=p*q and b is \n",
    "    the largest b bit p and q random primes we generate to produce N=p*q. The input c tells the function how many N's\n",
    "    to produce for each bit size. \n",
    "    This function returns a b - a + 1 dimensional array of N's for each bit size between a and b.\n",
    "    '''\n",
    "    if b >= a:                   #this must hold for the function to run \n",
    "        bignumbers = ([])\n",
    "        for p in range(a,b+1):\n",
    "            bignumbers.append(generate_N(p,c))   #append c number of N=pq where p and q are primes of bit size between a and b for each bit size\n",
    "        return np.array(bignumbers)         #returns an b-a+1 dimensional array of N's for each p,q of bit size between a and b\n",
    "    else:\n",
    "        return 'Error: Second input must be greater than the first input.'   #error message if b<a\n",
    "    \n"
   ]
  },
  {
   "cell_type": "code",
   "execution_count": 22,
   "metadata": {},
   "outputs": [],
   "source": [
    "#Tests\n",
    "assert len(generate_N(5,1)) == 1             #Checking the final input gives the number of N's generated\n",
    "assert len(generate_N(31,5)) == 5\n",
    "\n",
    "a = (generate_N(5,1,True))                   #Checking N = p*q\n",
    "assert np.product(a[1]) == a[0]\n",
    "b = (generate_N(7,5,True))\n",
    "for i in range(5):\n",
    "    assert np.product(b[1][i]) == b[0][i]\n",
    "    \n",
    "assert len(generate_sampleN(2,5,6)) == 5-2+1     #Checking this function generates a b-a+1 dimensional array of N's for each bit size between a and b\n",
    "assert len(generate_sampleN(3,9,11)[5]) == 11    #Checking each sample of N's generated for each bit size betwen a and b has length c\n",
    "for j in range(8-4+1):\n",
    "    assert len(generate_sampleN(4,8,13)[j]) == 13  \n",
    "    \n",
    "assert generate_sampleN(3,2,5) == 'Error: Second input must be greater than the first input.' #Checking error message\n",
    "\n"
   ]
  },
  {
   "cell_type": "markdown",
   "metadata": {},
   "source": [
    "### Finding the Time Complexity\n",
    "\n",
    "To find the time complexity of the decompose function, I will plot a graph and table of the average decompose run time for increasing bit sizes, as well as a graph and table of the number of operations (count) executed by the decompose function for increasing bit sizes and see what the relationship is.\n",
    "\n",
    "\n",
    "### Justification of Sample Size\n",
    "\n",
    "I have chosen to generate a sample of $N's$ where $p$ and $q$ are between $10$ and $27$ bit random primes because otherwise if they were longer, it would take a very long time for the average decompose time to run. I have also chosen a sample size of $4$ for each $N$ so I am able to find an average from a decently sized sample as well as so the average decompose time doesn't take too long to run.\n",
    "\n",
    "### Average Decompose Run Times\n",
    "\n",
    "Below is a table and a graph displaying the average decompose times for these $N's$."
   ]
  },
  {
   "cell_type": "code",
   "execution_count": 23,
   "metadata": {},
   "outputs": [],
   "source": [
    "def avg_times(a,b,c,func):\n",
    "    '''\n",
    "    Takes a,b,c and func as inputs where a is the smallest a bit p and q random primes we generate to produce N=p*q and b is \n",
    "    the largest b bit p and q random primes we generate to produce N=p*q. The input c tells the function how many N's\n",
    "    to produce for each bit size. The func input is which function we are choosing to find the average running time \n",
    "    for these varying N.\n",
    "    This function returns the average running times as a list.\n",
    "    '''\n",
    "    samples = generate_sampleN(a,b,c)                   #generating our N's to test on\n",
    "    sample_size = c\n",
    "\n",
    "    start = []\n",
    "    end = []\n",
    "    total_time = []\n",
    "    average_time = []\n",
    "    for i in range(b-a+1):                              #finding the time taken for each N in our sample\n",
    "        start.append(process_time())           \n",
    "        for n in samples[i]:\n",
    "            func(n)\n",
    "        end.append(process_time())   \n",
    "\n",
    "    for j in range(b-a+1):                              #calculating the average time for each bit size between a and b\n",
    "        total_time.append(end[j] - start[j])\n",
    "    for k in range(b-a+1):\n",
    "        average_time.append(total_time[k] / sample_size)\n",
    "    \n",
    "    return average_time"
   ]
  },
  {
   "cell_type": "code",
   "execution_count": 24,
   "metadata": {},
   "outputs": [
    {
     "name": "stdout",
     "output_type": "stream",
     "text": [
      "bit_size of N   decompose(N) time\n",
      "=============   ===========================\n",
      "10                    0.004285499999998166\n",
      "11                    0.007515999999998968\n",
      "12                    0.00950950000000006 \n",
      "13                    0.018683499999998077\n",
      "14                    0.03976300000000066 \n",
      "15                    0.0854444999999977  \n",
      "16                    0.14445849999999893 \n",
      "17                    0.3894590000000022  \n",
      "18                    0.7121094999999968  \n",
      "19                    1.0763630000000006  \n",
      "20                    2.837890999999999   \n",
      "21                    6.018038499999996   \n",
      "22                    9.807804499999996   \n",
      "23                    21.439370999999994  \n",
      "24                    43.233329           \n",
      "25                    80.01552500000001   \n",
      "26                    142.757945          \n",
      "27                    377.6618805         \n"
     ]
    }
   ],
   "source": [
    "decompose_times = avg_times(10,27,4,decompose)\n",
    "\n",
    "print(\"bit_size of N   decompose(N) time\")\n",
    "print(\"=============   ===========================\")\n",
    "for n in range(len(decompose_times)):\n",
    "    decompose_times1 = str(decompose_times[n])\n",
    "    y = n+10\n",
    "    print(\"{:7s}               {:20s}\".format(str(y),decompose_times1))\n"
   ]
  },
  {
   "cell_type": "markdown",
   "metadata": {},
   "source": [
    "### Average Number of Operations in Decompose Function\n",
    "\n",
    "Below is a table of the average number of operations which the decompose runs for increasing bit sizes."
   ]
  },
  {
   "cell_type": "code",
   "execution_count": 25,
   "metadata": {},
   "outputs": [],
   "source": [
    "def avg_operations(a,b,c,func):\n",
    "    '''\n",
    "    Takes a,b,c and func as inputs where a is the smallest a bit p and q random primes we generate to produce N=p*q and b is \n",
    "    the largest b bit p and q random primes we generate to produce N=p*q. The input c tells the function how many N's\n",
    "    to produce for each bit size. The func input is which function we are choosing to find the average number of \n",
    "    operations for these varying N.\n",
    "    This function returns the average number of operations as a list.\n",
    "    '''\n",
    "    samples = generate_sampleN(a,b,c)                            #generating our N's to test on\n",
    "    sample_size = c\n",
    "\n",
    "    operations = []\n",
    "    total_operations = []\n",
    "    average_operations = []\n",
    "    for i in range(b-a+1):                                       #finding the number of operations for each N in our sample\n",
    "        for n in samples[i]:\n",
    "            operations.append(func(n)[1])\n",
    "        \n",
    "    split_operations = np.array_split(operations,b-a+1)       \n",
    "    for j in range(b-a+1):                                        #calculating the average number of operations for each bit size between a and b\n",
    "        total_operations.append(np.sum(split_operations[j]))\n",
    "    for k in range(b-a+1):\n",
    "        average_operations.append(total_operations[k]/c)\n",
    "    return average_operations"
   ]
  },
  {
   "cell_type": "code",
   "execution_count": 26,
   "metadata": {},
   "outputs": [
    {
     "name": "stdout",
     "output_type": "stream",
     "text": [
      "bit_size of p and q   Average number of operations in decompose(N)\n",
      "===================   ============================================\n",
      "10                    747.5               \n",
      "11                    1521.0              \n",
      "12                    2830.0              \n",
      "13                    4921.5              \n",
      "14                    10159.25            \n",
      "15                    24608.75            \n",
      "16                    43749.0             \n",
      "17                    88251.5             \n",
      "18                    165861.75           \n",
      "19                    353592.75           \n",
      "20                    741128.25           \n",
      "21                    1390529.75          \n",
      "22                    2731520.0           \n",
      "23                    5130087.5           \n",
      "24                    10921547.5          \n",
      "25                    23225687.25         \n",
      "26                    47495833.25         \n",
      "27                    92566927.25         \n"
     ]
    }
   ],
   "source": [
    "decompose_ops = avg_operations(10,27,4,decompose)\n",
    "\n",
    "print(\"bit_size of p and q   Average number of operations in decompose(N)\")\n",
    "print(\"===================   ============================================\")\n",
    "for n in range(len(decompose_ops)):\n",
    "    decompose_ops1 = str(decompose_ops[n])\n",
    "    y = n+10\n",
    "    print(\"{:7s}               {:20s}\".format(str(y),decompose_ops1))"
   ]
  },
  {
   "cell_type": "code",
   "execution_count": 27,
   "metadata": {},
   "outputs": [
    {
     "data": {
      "image/png": "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\n",
      "text/plain": [
       "<Figure size 432x288 with 2 Axes>"
      ]
     },
     "metadata": {
      "needs_background": "light"
     },
     "output_type": "display_data"
    }
   ],
   "source": [
    "x = range(10,len(decompose_times)+10)\n",
    "\n",
    "fig, (ax1, ax2) = plt.subplots(1,2)\n",
    "ax1.plot(x,decompose_times)\n",
    "ax2.plot(x,decompose_ops)\n",
    "ax1.set_title('Average Decompose Run Time of $N = pq$')\n",
    "ax1.set_xlabel('Bit size of $p$ and $q$')\n",
    "ax1.set_ylabel('Run Time (seconds)')\n",
    "ax2.set_title('Average Number of Decompose Operations for $N = pq$')\n",
    "ax2.set_xlabel('Bit size of $p$ and $q$')\n",
    "ax2.set_ylabel('Number of Operations')\n",
    "plt.subplots_adjust(left = 0, right = 2, wspace = 0.3)\n",
    "plt.show()"
   ]
  },
  {
   "cell_type": "code",
   "execution_count": 28,
   "metadata": {},
   "outputs": [],
   "source": [
    "def find_ratio(lists):\n",
    "    '''\n",
    "    Given a list input, this function finds the ratio between each consecutive term in the list and finds the mean \n",
    "    and standard deviation of this ratio.\n",
    "    '''\n",
    "    dlist = []\n",
    "    for i in range(len(lists)-2):                 #finding the ratio between consecutive terms in the list\n",
    "        ratio = lists[i+1]/lists[i]\n",
    "        dlist.append(ratio)\n",
    "    ratio_mean = np.mean(dlist)                   #finding mean of ratio\n",
    "    ratio_std = np.std(dlist)                     #finding standard deviation of ratio\n",
    "    return ratio_mean,ratio_std"
   ]
  },
  {
   "cell_type": "markdown",
   "metadata": {},
   "source": [
    "### Ratio of Average Run Time of Decompose Function for Increasing Bit Sizes"
   ]
  },
  {
   "cell_type": "code",
   "execution_count": 29,
   "metadata": {},
   "outputs": [
    {
     "name": "stdout",
     "output_type": "stream",
     "text": [
      "Mean Ratio of Decompose Times = 1.9507367510672375\n",
      "Standard Deviation of Ratio of Decompose Times = 0.3631630164589108\n"
     ]
    }
   ],
   "source": [
    "decompose_time_ratios = find_ratio(decompose_times)\n",
    "\n",
    "print('Mean Ratio of Decompose Times = {}'.format(decompose_time_ratios[0]))\n",
    "print('Standard Deviation of Ratio of Decompose Times = {}'.format(decompose_time_ratios[1]))"
   ]
  },
  {
   "cell_type": "markdown",
   "metadata": {},
   "source": [
    "### Ratio of Average Number of Operations of Decompose Function for Increasing Bit Sizes"
   ]
  },
  {
   "cell_type": "code",
   "execution_count": 30,
   "metadata": {},
   "outputs": [
    {
     "name": "stdout",
     "output_type": "stream",
     "text": [
      "Mean Ratio of Decompose Operations = 2.0026547651468483\n",
      "Standard Deviation of Ratio of Decompose Operations = 0.16355770829520674\n"
     ]
    }
   ],
   "source": [
    "decompose_ops_ratios = find_ratio(decompose_ops)\n",
    "\n",
    "print('Mean Ratio of Decompose Operations = {}'.format(decompose_ops_ratios[0]))\n",
    "print('Standard Deviation of Ratio of Decompose Operations = {}'.format(decompose_ops_ratios[1]))"
   ]
  },
  {
   "cell_type": "markdown",
   "metadata": {},
   "source": [
    "### Decompose Time Complexity\n",
    "\n",
    "A good guess for the time complexity of the decompose function we are using is $O(2^p)$, where $p$ is the bit size of one of our non-trivial prime factors of $N = pq$ where $p$ and $q$ are of the same bit size. We are able to estimate the time complexity because we have found the average runtime and average number of operations the decompose function performs and they increase by the same rate as we will explain later on.\n",
    "\n",
    "Regarding the average runtime, from earlier, the mean ratio (from a sample size of 4 for each bit size) of the average run time for the decompose function performs for consecutive $N's$ is the roughly the same at $2$. Furthermore, the standard deviation for the ratio is small implying that the ratio roughly stays constant. In addition, the graphs for the average decompose run time is in the shape of $y = 2^x$.\n",
    "\n",
    "Furthermore, for consecutive $N's$, the average number of operations for the decompose function roughly doubles too and the ratio has a low standard deviation too, as seen above, meaning this ratio stays constant. Since, the average number of operations also increases at the same rate as the average run time of the decompose function, we have a good amount of evidence to be confident that this function does have an $O(2^p)$ time complexity.\n",
    "\n",
    "However, this may not necessarily be the case because our graph for the average runtimes may change drastically for larger $p$ and $q$ but it is a reasonable guess because the data points we have fit this model well. From this time complexity, we are able to extrapolate the graph and make estimates for the average decompose times for larger $N$."
   ]
  },
  {
   "cell_type": "markdown",
   "metadata": {},
   "source": [
    "### Estimating the Average Decompose Time for Larger $N$\n",
    "\n",
    "It is of our best interest to be able to estimate the average decompose time because as the bit size increases for $N$, it takes longer to find the average time taken, and to find when it become infeasible, we want to find how long it takes for larger $N$.\n",
    "\n",
    "In order to estimate the average decompose time for larger values of $N$, we will plot a graph of shape $y = c \\cdot 2^x$, where $c$ is our average decompose runtime for our smallest value of $N$, this would be when $p$ and $q$ are of $10$ bit sizes. We will compute a better average time for this value of $N$ using a larger sample size of $20$, because this value is our scale factor for the graph so will affect all values in our graph a lot so it must be as accurate as possible. "
   ]
  },
  {
   "cell_type": "code",
   "execution_count": 31,
   "metadata": {},
   "outputs": [],
   "source": [
    "c = avg_times(10,10,20,decompose)"
   ]
  },
  {
   "cell_type": "markdown",
   "metadata": {},
   "source": [
    "Below is a table and graph of of our estimated average decompose time."
   ]
  },
  {
   "cell_type": "code",
   "execution_count": 32,
   "metadata": {},
   "outputs": [
    {
     "name": "stdout",
     "output_type": "stream",
     "text": [
      "bit_size of p and q   Estimated Average decompose(N) time\n",
      "===================   ===================================\n",
      "10                    0.0033184999999775755\n",
      "11                    0.006636999999955151\n",
      "12                    0.013273999999910302\n",
      "13                    0.026547999999820604\n",
      "14                    0.05309599999964121 \n",
      "15                    0.10619199999928242 \n",
      "16                    0.21238399999856483 \n",
      "17                    0.42476799999712966 \n",
      "18                    0.8495359999942593  \n",
      "19                    1.6990719999885187  \n",
      "20                    3.3981439999770373  \n",
      "21                    6.796287999954075   \n",
      "22                    13.59257599990815   \n",
      "23                    27.1851519998163    \n",
      "24                    54.3703039996326    \n",
      "25                    108.7406079992652   \n",
      "26                    217.4812159985304   \n",
      "27                    434.9624319970608   \n",
      "28                    869.9248639941216   \n",
      "29                    1739.849727988243   \n",
      "30                    3479.699455976486   \n",
      "31                    6959.398911952972   \n",
      "32                    13918.797823905945  \n",
      "33                    27837.59564781189   \n",
      "34                    55675.19129562378   \n",
      "35                    111350.38259124756  \n",
      "36                    222700.76518249512  \n",
      "37                    445401.53036499023  \n",
      "38                    890803.0607299805   \n",
      "39                    1781606.121459961   \n",
      "40                    3563212.242919922   \n",
      "41                    7126424.485839844   \n",
      "42                    14252848.971679688  \n",
      "43                    28505697.943359375  \n",
      "44                    57011395.88671875   \n",
      "45                    114022791.7734375   \n",
      "46                    228045583.546875    \n",
      "47                    456091167.09375     \n",
      "48                    912182334.1875      \n",
      "49                    1824364668.375      \n"
     ]
    }
   ],
   "source": [
    "p = np.arange(10,50,0.01)\n",
    "flist = []\n",
    "for n in np.arange(0,40,0.01):\n",
    "    flist.append(c[0]*(2**n))\n",
    "    \n",
    "\n",
    "print(\"bit_size of p and q   Estimated Average decompose(N) time\")\n",
    "print(\"===================   ===================================\")\n",
    "for n in range(40):\n",
    "    average_time3 = str(flist[100*n])\n",
    "    y = n+10\n",
    "    print(\"{:7s}               {:20s}\".format(str(y),average_time3))\n"
   ]
  },
  {
   "cell_type": "code",
   "execution_count": 33,
   "metadata": {},
   "outputs": [
    {
     "data": {
      "image/png": "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\n",
      "text/plain": [
       "<Figure size 432x288 with 1 Axes>"
      ]
     },
     "metadata": {
      "needs_background": "light"
     },
     "output_type": "display_data"
    }
   ],
   "source": [
    "plt.plot(p,flist)\n",
    "plt.xlabel('Bit size of $p$ and $q$')\n",
    "plt.ylabel('Run Time (seconds)')\n",
    "plt.title('Estimated Average Decompose Computation Time')\n",
    "plt.show()"
   ]
  },
  {
   "cell_type": "markdown",
   "metadata": {},
   "source": [
    "## At What Bit Length does the Decompose Function Become Infeasible?\n",
    "\n",
    "### The Purpose of the Decompose Function (Security)\n",
    "The purpose of the decompose function is to find the prime decomposition of a number. In terms of an RSA setting, we would be using this function to attempt to crack the private key, which are, say, primes $p$ and $q$ given the public key $N = pq$. From the public key, we are also given $e$, an auxiliary number called the exponent but the decompose function does not use this information. Therefore, it is clear to see that the decompose function, which does not use the exponent will not be as efficient at finding the prime decomposition as a function which does use this extra information, like the RSA decryption method mentioned in the previous question.\n",
    "Furthermore, since the private key in an RSA setting is usually 2048 bits long, the decompose function is not effective at all at cracking this. This is because, as we discussed earlier in the time complexity section, due to the decompose function being $O(2^p)$, it is effective at cracking short private keys but becomes ineffective very quickly as the bit length of the private key increases.\n",
    "\n",
    "### Maximum Bit Length Feasibility\n",
    "The NIST (National Institute of Standards and Technology) recommends that you should update private and public keys at least once every $2$ years, and since the decompose function's purpose is to crack the private key, I can conjecture that it becomes infeasible if it takes longer than $2$ years to crack it. \n",
    "https://www.keylength.com/en/4/\n",
    "\n",
    "On my laptop, the average decompose time for $N = pq$ where $p$ and $q$ are:\n",
    "+ $30$-bit random primes is approximately $26$ minutes\n",
    "+ $40$-bit random primes is approximately $19$ days \n",
    "+ $45$-bit random primes is approximately $1.64$ years\n",
    "+ $46$-bit random primes is approximately $3.3$ years\n",
    "\n",
    "Therefore, we can conjecture that the decompose function for $N=pq$ becomes infeasible when $p$ and $q$ are greater than $45$-bit random primes.\n",
    "\n",
    "### How Long is the Bit Length in Practice?\n",
    "\n",
    "In practise, the bit length of $N$ is usually $2048$ bits because this is deemed secure enough to have a very low probability of being hacked. Indeed, the factoring record is the factorisation of the $829$-bit RSA-$250$, set in February 2020. However, with quantum computers currently being developed which are a lot faster than traditional computers, RSA and many other traditional encryption methods used today may become obsolete; a huge security issue. Luckily, there are already a few quantum-resistant security protocols which are being developed to work around this encryption problem so hopefully these encryption methods will be developed before quantum computers because otherwise it would result in a security disaster.\n",
    "\n",
    "https://phys.org/news/2020-03-cryptographic.html"
   ]
  },
  {
   "cell_type": "markdown",
   "metadata": {},
   "source": [
    "## Core 5: Pollard Rho Method"
   ]
  },
  {
   "cell_type": "markdown",
   "metadata": {},
   "source": [
    "### What is The Pollard Rho Method?\n",
    "\n",
    "The Pollard Rho method is an algorithm used for factorising large composite integers, $N$. It has been heuristically claimed, but not rigorously, that the Pollard Rho method works in runs at a time of $O(N^{0.25})$. It is very effective at finding small factors of a composite integer. Since we are primarily concerned with factorising $N$ = $pq$ where $p$ and $q$ are prime numbers, since this is what we do in an RSA setting, we will be looking at this case and compare how efficient the Pollard Rho method is in comparison to the decompose function. \n",
    "https://en.wikipedia.org/wiki/Pollard%27s_rho_algorithm#Complexity\n",
    "\n",
    "### How Does it Work?\n",
    "\n",
    "There are two main steps in the Pollard Rho method. These are described below. This method has been taken from the Handbook of Applied Cryptography Chapter $3$.\n",
    "\n",
    "#### First Step\n",
    "\n",
    "The first step is to generate a random sequence of integers which are less than the composite integer we are factorising, $N$. This is done using using the function \n",
    "> $g(m) = (m^2 + 1) \\pmod N$\n",
    "\n",
    "\n",
    "A starting value $m_0 = 2$, is chosen and each pair of integers in the sequence is generated using  \n",
    ">$(m_{i+1}, m_{2(i + 1)}) = (g(m_i), g(g(m_{2i})))$\n",
    "\n",
    "We are choosing to compute pairs of integers to increase space efficiency; this works due to Floyd's Cycle Finding algorithm which we will discuss in more detail later. We compute the sequence until we get to $(m_k, m_{2k})$ where $k \\approx 10 \\cdot N^{0.25}$. We have chosen this value of $k$ because it has been stated in the question that if we iterate our next step this number of times then we find with high probability, a non-trivial prime factor of $N$.\n",
    "\n",
    "#### Second Step\n",
    "\n",
    "The next step is to find the greatest common divisor ($gcd$) of the difference between the pairs we have generated in the sequence and the number we're attempting to factorise, $N$. We have three different cases here. \n",
    "\n",
    "The first case is where,\n",
    ">$gcd(\\mid m_{2i} - m_i \\mid, N) = 1$ for $i \\in \\{1,2,3, ... k\\}$ where $k \\approx 10 \\cdot N^{0.25}$\n",
    "\n",
    "If the above statement holds, we test it for the next $i$ in our set and we keep iterating this until we get a different value for our $gcd$.\n",
    "\n",
    "\n",
    "If next case is where,\n",
    ">$gcd(\\mid m_{2i} - m_i \\mid, N) = p$ for some $i \\in \\{1,2,3, ... k\\}$ and some $1 < p < N$ $\\iff m_{2i} \\equiv m_i \\pmod p$ $\\iff p \\mid m_{2i} - m_i$\n",
    "\n",
    "Therefore, we have found a non-trivial prime factor of N in this case and this non-trivial prime factor is indeed the value of $p$. This outcome occurs with very high probability. This is because we expect all $(m_i, m_{2i})$ such that $1 \\leq i < k$ to be distinct modulo $N$ so we expect to find at least one pair $(m_i, m_{2i})$ where $gcd(\\mid m_{2i} - m_i \\mid, N) = p$ and $1 < p < N$. Since we are concerned with the case where $N = pq$, we simply find our other prime factor by dividing $N$ by $p$.\n",
    "\n",
    "The final case is where,\n",
    ">$gcd(\\mid m_{2i} - m_i \\mid, N) = N$ \n",
    "\n",
    "This statement is equivalent to $\\mid m_{2i} - m_i \\mid = 0$ meaning that there is a pair in the sequence that are equal to eachother (this happens with low probability). Therefore, by Floyd's cycle finding algorithm, $m_i$ becomes cyclic at the first time $gcd(\\mid m_{2i} - m_i \\mid, N) = N$; after this point, no matter how many times we iterate the Pollard Rho method, we will not find any more factors.\n",
    "\n",
    "In conclusion, the Pollard Rho method keeps iterating $gcd(\\mid m_{2i} - m_i \\mid, N)$ until we reach one of these three criteria. Either until we find that $1 < gcd(\\mid m_{2i} - m_i \\mid, N) < N$, in which we return a non-trivial factor of $N$. Or until we compute $gcd(\\mid m_{2i} - m_i \\mid, N)$ for all $i \\in \\{1,2,3, ... k\\}$, and if this doesn't return a value between $0$ and $N$ each time, we return a failure. Or, finally, if $gcd(\\mid m_{2k} - m_k \\mid, N) = N$ in which case we also return a failure. In the event that we return a failure, one possible solution is to try altering our function $g(m) = (m^2 + 1)$ $mod$ $N$ to $g(m) = (m^2 + c)$ $mod$ $N$ where $c$ is any integer such that $c \\neq 0, -2, 1$. This produces a different sequence of values and in this new sequence, we find $m_i \\equiv m_{2i} \\pmod p$ for some $1 \\leq i \\leq k$, and hence a non-trivial prime factor of N with high probability."
   ]
  },
  {
   "cell_type": "markdown",
   "metadata": {},
   "source": [
    "### Example of Pollard Rho with $N = 961$ ($N$ is the Product of Two Primes)\n",
    "\n",
    "We will first generate our first pair in the sequence. We have in this case that \n",
    ">$g(m) = m^2 + 1 \\pmod{961}$\n",
    "\n",
    "So our first pair in our sequence would be as follows, where we are starting $m_0 = 2$ would be \n",
    ">\\begin{align*}\n",
    "(m_1, m_2) &= (g(m_0), g(g(m_0)))\\\\\n",
    "           &= (g(2), g(g(2)))\\\\\n",
    "           &= (5, 26)\n",
    " \\end{align*}\n",
    "\n",
    "Now, we must find the greatest common divisor of the difference of this pair and $N = 961$.\n",
    ">$gcd(\\mid 26 - 5 \\mid, 961) = 1$\n",
    "\n",
    "Since the greatest common divisor wasn't between $1$ and $961$, we must find the next pair in the sequence.\n",
    ">\\begin{align*}\n",
    "(m_2, m_4) &= (g(m_1), g(g(m_2)))\\\\\n",
    "           &= (g(5), g(g(26)))\\\\\n",
    "           &= (26, g(677))\\\\\n",
    "           &= (26, 894)\\\\\n",
    " \\end{align*}\n",
    "\n",
    "Now, as before, we find the greatest common divisor of the difference of this pair and $N = 961$.\n",
    ">$gcd(\\mid 894 - 26 \\mid, 961) = 31$\n",
    "\n",
    "Since the greatest common divisor is between $1$ and $961$, we have found a non-trivial factor of $N = 961$ in $31$ and since we are only considering the case when $N$ is the product of two primes, we can simply divide $961$ by $31$ to find the other prime factor. So, it turns out that the prime decomposition of of $961$ is $31 \\times 31$."
   ]
  },
  {
   "cell_type": "markdown",
   "metadata": {},
   "source": [
    "### Birthday Paradox\n",
    "\n",
    "The Pollard Rho method takes advantage of the birthday paradox in order to find pairs in a large sequence of numbers which satisfy this criteria: $gcd(\\mid m_{2i} - m_i \\mid, N) = p$.\n",
    "So understanding this paradox is the key to learning how the Pollard Rho method works,so we will briefly explain this concept here. \n",
    "\n",
    "This paradox is concerned with the probability in a set of $n$ randomly chosen people, some pair of them will share the same birthday. It is a paradox because it turns out this probability is a lot higher than you would expect. For example, in a room of $23$ people, there is a $50$% chance that at least two people share the same birthday and in a room of $75$ people, there is a $99.9$% chance of at least two people sharing the same birthday. \n",
    "By some combinations mathematics, in a room of $23$ people, there are $253$ pairs; this is calculated by:\n",
    "\n",
    ">$\\frac{23 \\cdot 22}{2} = 253$\n",
    "\n",
    "Now, the chance of two people having different birthdays is clearly:\n",
    "\n",
    ">$1 - \\frac{1}{365} = \\frac{364}{365}$\n",
    "\n",
    "So, the chance of all $23$ people in the room having different birthdays is:\n",
    "\n",
    ">$\\frac{364}{365}^{253} = 0.4995$\n",
    "\n",
    "Therefore, the chance of two people having the same birthday is about $50/50$ and it is easy to see that this probability exponentially increases as the number of people in the room increase.\n",
    "\n",
    "https://betterexplained.com/articles/understanding-the-birthday-paradox/\n",
    "\n",
    "### Time Complexity\n",
    "\n",
    "By the birthday paradox, it follows that we find a non-trivial prime factor of N with probability $1/2$ in $O(\\sqrt p) \\leq O(N^{0.25})$ time, assuming that the sequence we generate is truly random. However, we only have a heuristic claim that the Pollard Rho method has the same time complexity and a rigorous analysis of this method still remains open. A time complexity is an asymptotic upper bound, because it bounds the growth of the running time for large enough input sizes. However, it is important to note that this is not necessarily an asymptotically tight bound. For example, in our case, the running time for the Pollard Rho method grows no faster than $c \\cdot N^{0.25}$ for some constant $c$; it could in fact grow a lot slower than at a rate of $N^{0.25}$.\n",
    "\n",
    "We have the function $g:S \\rightarrow S$ as we stated earlier and since $S$ is a finite set of cardinality $N$, this function will eventually cycle. By some number theory of random numbers, we have that the expected length of the tail of the sequence of integers $m_i$ is $\\sqrt{\\pi N / 8}$ and the expected length of the endlessly repeating cycle is also $\\sqrt{\\pi N / 8}$. The method in which one would initially think to find duplicates in the sequence is by storing all the integers in the sequence, and checking for duplicates in a pairwise fashion (i.e. checking all possible pairs of the sequence). By the birthday problem, the expected number of inputs until a pair of integers $m_i$ and $m_j$ are equal to eachother is $\\sqrt{\\pi N / 2}$. Therefore, this method of finding when the sequence becomes cyclic takes up $O(\\sqrt N)$ memory and $O(\\sqrt N)$ time. For example, if we had the sequence of integers $x_1, x_2, ..., x_k$ where $k = N^{0.25}$ where $N \\sim 10^{30}$ and did pairwise comparisons we would have to store $10^8$ numbers in memory.\n",
    "\n",
    "https://www.cs.colorado.edu/~srirams/courses/csci2824-spr14/pollardsRho.html\n",
    "\n",
    "We are able to reduce the storage requirements of the Pollard Rho method drastically to only two numbers using Floyd's Cycle Finding Algorithm so in our code, we will employ this version of the Pollard Rho method. We will discuss how the Floyd's cycle finding algorithm works in the next section.\n",
    "\n",
    "\n",
    "### Floyd's Cycle Finding Algorithm\n",
    "\n",
    "The Floyd's Cycle Finding Algorithm allows us to easily find when the sequence cycles using only pairs of numbers from the sequence and we only need to store one pair at a time. Therefore, when using this algorithm, the Pollard Rho method has a space complexity of only $O(1)$. \n",
    "\n",
    "I will proceed to explain this by analogy. Suppose we have two runners, A and B with B running twice as fast as A, where they start at the same position. Then, when B has overtaken A we know that B has cycled around at least once so we can stop the algorithm at this point. In the analogy, runner A is $a = g(a)$ from our pollard_rho function below and runner B is $b = g(g(b))$ from the same pollard_rho function. We know that $b$ has 'overtaken' $a$ when $\\mid a-  b \\mid = 0$ or equivalently, when $gcd(\\mid a - b \\mid,N) = N$. Therefore, at this point the sequence becomes cyclic and we can return a failure and try finding a non-trivial prime factor of $N$ by using a different function $g$.\n",
    "\n",
    "\n",
    "### Our Pollard Rho Function\n",
    "\n",
    "We are primarily concentrated on trying to crack the RSA key so we will focus on coding the Pollard Rho method so it is able to factor $N = pq$ for $p$ and $q$ where they are $k$ bit random primes. "
   ]
  },
  {
   "cell_type": "code",
   "execution_count": 34,
   "metadata": {},
   "outputs": [],
   "source": [
    "def gcd(a,b):\n",
    "    \"\"\"Returns the greatest common divisor of integers a and b using Euclid's algorithm.\n",
    "    The order of a and b does not matter and nor do the signs.\"\"\"\n",
    "    if not(a%1 ==0 and b%1==0):\n",
    "        return \"Need to use integers for gcd.\"\n",
    "    if b==0:\n",
    "        return abs(a)                           #Use abs to ensure this is positive\n",
    "    else:\n",
    "        return gcd(b,a%b)\n",
    "\n",
    "def g(a):\n",
    "    return (a**2 + 1)\n",
    "    \n",
    "def h(a):\n",
    "    return (a**2 + 2)\n",
    "\n",
    "def pollard_rho_N(n):\n",
    "    a = 2                             #our inital value in our sequence is set at 2\n",
    "    b = 2\n",
    "    d = 1\n",
    "    count = 0\n",
    "    k = np.round(10*(n**0.25))        #this k value is the number of times we iterate our function\n",
    "\n",
    "    while d == 1:\n",
    "        a = g(a)%n                    #a and b are pairs in our sequence \n",
    "        b = g(g(b))%n\n",
    "        d = gcd(np.abs(a - b), n)     #finding our gcd and if it is equal to 1, we compute another pair and try again\n",
    "        count += 1                    #increment count each iteration\n",
    "        if count == k:                #we stop our function if we reach k number of iterations of our function\n",
    "            return 'Failure: Iterated k times, try using pollard_rho2(n)',_,count #pollard_rho2 uses a different pseudo-random number generator\n",
    "\n",
    "\n",
    "    if d == n:                        #if this occurs we are stuck in a loop of the same sequence by Floyd's cycle finding algorithm so we stop our function\n",
    "        return 'Failure: Try using pollard_rho2(n)',_,count\n",
    "    else:                             #if 1 < d < n, then we have found our factors of N\n",
    "        return d, n//d ,count     \n",
    "    \n",
    "def h(a):\n",
    "    return (a**2 + 2)\n",
    "    \n",
    "def pollard_rho2(n):\n",
    "    a = 2\n",
    "    b = 2\n",
    "    d = 1\n",
    "\n",
    "    while d == 1:\n",
    "        a = h(a)%n                 #this function uses a different pseudo-random number generator\n",
    "        b = h(h(b))%n\n",
    "        d = gcd(np.abs(a - b), n)\n",
    "\n",
    "    if d == n: \n",
    "        return 'Failure'\n",
    "    else:\n",
    "        return d, n//d\n"
   ]
  },
  {
   "cell_type": "code",
   "execution_count": 35,
   "metadata": {},
   "outputs": [],
   "source": [
    "#Tests\n",
    "assert pollard_rho_N(752523017)[0] * pollard_rho_N(752523017)[1] == 752523017    #checking it returns factors of N\n",
    "assert pollard_rho_N(29)[0] == 'Failure: Try using pollard_rho2(n)'  #checking it doesn't work for primes"
   ]
  },
  {
   "cell_type": "markdown",
   "metadata": {},
   "source": [
    "### Generating $N = pq$ where $p,q$ are Primes and $N$ is of k-bits\n",
    "\n",
    "Below are 3 functions which are all needed to eventually produce a $b-a+1$ dimensional array of $N's$ for each bit size between arbitrary $a$ and $b$.\n",
    "\n",
    "This is needed to test the time complexity of the Pollard Rho function we coded to make sure it is indeed $O(N^{0.25})$."
   ]
  },
  {
   "cell_type": "code",
   "execution_count": 36,
   "metadata": {},
   "outputs": [],
   "source": [
    "def generate_Nbits(k_bit,verbose = False):\n",
    "    '''\n",
    "    Generates 1 N = pq value where p and q are prime numbers and the bit size of N is the size of the input k_bits.\n",
    "    '''\n",
    "    x = 0\n",
    "    alist = []\n",
    "\n",
    "    while len(bin(x)) - 2 != k_bit:                       #needs to be -2 because len(bin(x)) bit size + 2 due to 0b before numbers in bin(x)\n",
    "        a = random_prime((math.ceil(k_bit/2)), 40)        #have found primes should be of length k_bit/2 for their product to be of k_bits with high probability\n",
    "        b = random_prime((math.ceil(k_bit/2)), 40)\n",
    "        x = a * b\n",
    "    if verbose == True:                                   #this is for our tests below\n",
    "        return x,a,b\n",
    "    return x\n",
    "\n",
    "def generate_Nbits_n(k_bit,n,verbose = False):\n",
    "    '''\n",
    "    Generates a list of size n of N's where the N's are k_bit size.\n",
    "    '''\n",
    "    count = 0\n",
    "    blist = []\n",
    "    while count < n:                                      #have this while loop so we have a n sized list of N's \n",
    "        blist.append(generate_Nbits(k_bit))             \n",
    "        count += 1\n",
    "    return blist\n",
    "\n",
    "def generate_sampleNbits(a,b,c):\n",
    "    '''\n",
    "    Takes a,b,c as inputs where a is the smallest N=p*q of length a bits and b is \n",
    "    the largest N=p*q for length b bits. The input c tells the function how many N's\n",
    "    to produce for each bit size. \n",
    "    This function returns a b - a + 1 dimensional array of N's for each bit size between a and b.\n",
    "    '''\n",
    "    if b >= a:                   #this must hold for the function to run \n",
    "        bignumbers = []\n",
    "        for p in range(a,b+1):\n",
    "            bignumbers.append(generate_Nbits_n(p,c))   #append c number of N=pq of bit size between a and b for each bit size\n",
    "        return np.array(bignumbers)         #returns a b-a+1 dimensional array of N's of bit size between a and b\n",
    "    else:\n",
    "        return 'Error: Second input must be greater than the first input.'   #error message if b<a\n"
   ]
  },
  {
   "cell_type": "code",
   "execution_count": 37,
   "metadata": {},
   "outputs": [],
   "source": [
    "#Tests\n",
    "assert len(bin(generate_Nbits(20))) == 22             #Checking the binary length of N is indeed equal to the input + 2\n",
    "assert len(bin(generate_Nbits(50))) == 52             #Double checking\n",
    "\n",
    "N = generate_Nbits(30, True)\n",
    "assert is_prime_miller_rabin(N[1],40) == True         #Checking p and q in N = pq are indeed primes\n",
    "assert is_prime_miller_rabin(N[2],40) == True\n",
    "assert N[0] == N[1] * N[2]                            #Checking N = pq\n",
    "\n",
    "assert len(generate_Nbits_n(20,5)) == 5                  #Checking sample size is equal to the second input\n",
    "\n",
    "assert len(generate_sampleNbits(20,27,4)) == 27 - 20 + 1  #Checking this function generates a b-a+1 dimensional array of N's for each bit size between a and b\n",
    "assert len(generate_sampleNbits(20,27,4)[2]) == 4         #Checking each sample of N's generated for each bit size betwen a and b has length c\n",
    "\n",
    "assert generate_sampleNbits(39,5,4) == 'Error: Second input must be greater than the first input.'  #Checking error message"
   ]
  },
  {
   "cell_type": "markdown",
   "metadata": {},
   "source": [
    "### Average Pollard Rho Run Time for $k$ Bits "
   ]
  },
  {
   "cell_type": "code",
   "execution_count": 38,
   "metadata": {},
   "outputs": [],
   "source": [
    "def avg_timesk(a,b,c,func):\n",
    "    '''\n",
    "    This is the same as our avg_times function we used earlier, but we are generating different N.\n",
    "    '''\n",
    "    samples = generate_sampleNbits(a,b,c)\n",
    "    sample_size = c\n",
    "\n",
    "    start = []\n",
    "    end = []\n",
    "    total_time = []\n",
    "    average_time = []\n",
    "    for i in range(b-a+1):\n",
    "        start.append(process_time())           \n",
    "        for n in samples[i]:\n",
    "            func(n)\n",
    "        end.append(process_time())  \n",
    "\n",
    "    for j in range(b-a+1):\n",
    "        total_time.append(end[j] - start[j])\n",
    "    for k in range(b-a+1):\n",
    "        average_time.append(total_time[k] / sample_size)\n",
    "    return average_time"
   ]
  },
  {
   "cell_type": "code",
   "execution_count": 39,
   "metadata": {},
   "outputs": [
    {
     "name": "stdout",
     "output_type": "stream",
     "text": [
      "bit_size of N   Average Pollard Rho(N) time\n",
      "=============   ===========================\n",
      "10                    0.00011799999992945231\n",
      "11                    0.0001449999999749707\n",
      "12                    0.0003070000000207074\n",
      "13                    0.0002640000000155851\n",
      "14                    0.0002399999998488056\n",
      "15                    0.00031149999995250255\n",
      "16                    0.0003440000000409782\n",
      "17                    0.0033155000000988366\n",
      "18                    0.0053105000001778535\n",
      "19                    0.011688000000049215\n",
      "20                    0.01253550000001269 \n",
      "21                    0.007916499999964799\n",
      "22                    0.01969550000012532 \n",
      "23                    0.0302560000000085  \n",
      "24                    0.02402200000005905 \n",
      "25                    0.04417949999992743 \n",
      "26                    0.045787499999960346\n",
      "27                    0.0754620000000159  \n",
      "28                    0.08302349999985381 \n",
      "29                    0.11881549999998242 \n",
      "30                    0.11617150000006404 \n",
      "31                    0.14869699999985642 \n",
      "32                    0.20269849999999678 \n",
      "33                    0.30458299999986593 \n",
      "34                    0.33585249999987354 \n",
      "35                    0.5333020000000488  \n",
      "36                    0.5276400000000194  \n",
      "37                    0.5621170000001712  \n",
      "38                    0.6675210000000789  \n",
      "39                    0.8097729999999501  \n",
      "40                    0.8943360000000666  \n",
      "41                    1.1418305000001965  \n",
      "42                    1.3067559999999503  \n",
      "43                    1.9054920000000948  \n",
      "44                    1.8435779999999795  \n",
      "45                    2.3576955000000908  \n",
      "46                    2.8049349999998867  \n",
      "47                    3.5067129999999906  \n",
      "48                    4.047996500000181   \n",
      "49                    5.06479800000011    \n",
      "50                    5.852127999999993   \n"
     ]
    }
   ],
   "source": [
    "pollard_rho_times = avg_timesk(10,50,4,pollard_rho_N)\n",
    "print(\"bit_size of N   Average Pollard Rho(N) time\")\n",
    "print(\"=============   ===========================\")\n",
    "for n in range(len(pollard_rho_times)):\n",
    "    pollard_rho_times1 = str(pollard_rho_times[n])\n",
    "    y = n+10\n",
    "    print(\"{:7s}               {:20s}\".format(str(y),pollard_rho_times1))"
   ]
  },
  {
   "cell_type": "markdown",
   "metadata": {},
   "source": [
    "### Average Decompose Run Time for $k$ Bits "
   ]
  },
  {
   "cell_type": "code",
   "execution_count": 40,
   "metadata": {},
   "outputs": [
    {
     "name": "stdout",
     "output_type": "stream",
     "text": [
      "bit_size of N   Average decompose(N) times\n",
      "=============   =========================\n",
      "10                    0.00013949999993201345\n",
      "11                    0.0001850000001013541\n",
      "12                    0.00020949999998265412\n",
      "13                    0.0002904999998918356\n",
      "14                    0.0004610000000866421\n",
      "15                    0.0005600000001777516\n",
      "16                    0.0006989999999404972\n",
      "17                    0.0010854999998173298\n",
      "18                    0.0013460000000122818\n",
      "19                    0.002128999999968073\n",
      "20                    0.002543500000001586\n",
      "21                    0.004477500000120926\n",
      "22                    0.005913999999847874\n",
      "23                    0.00896099999999933 \n",
      "24                    0.012205500000163738\n",
      "25                    0.017313500000000204\n",
      "26                    0.027443500000117638\n",
      "27                    0.03421700000012606 \n",
      "28                    0.03682000000003427 \n",
      "29                    0.062180500000067696\n",
      "30                    0.10719449999987773 \n",
      "31                    0.15336150000007365 \n",
      "32                    0.23252750000006017 \n",
      "33                    0.32331999999996697 \n",
      "34                    0.34405100000003586 \n",
      "35                    0.5584384999999656  \n",
      "36                    0.618748000000096   \n",
      "37                    1.0241414999998142  \n",
      "38                    1.2929670000000897  \n",
      "39                    2.1716639999999643  \n",
      "40                    2.7550665000001118  \n",
      "41                    4.261682999999948   \n",
      "42                    5.260322999999971   \n",
      "43                    8.20370650000018    \n",
      "44                    11.804996000000074  \n",
      "45                    16.732336499999974  \n",
      "46                    25.361472999999933  \n",
      "47                    31.17374400000017   \n",
      "48                    40.14992700000016   \n",
      "49                    70.63748999999984   \n",
      "50                    98.05821300000002   \n"
     ]
    }
   ],
   "source": [
    "decompose_timesN = avg_timesk(10,50,4,decompose) \n",
    "\n",
    "print(\"bit_size of N   Average decompose(N) times\")\n",
    "print(\"=============   =========================\")\n",
    "for n in range(len(decompose_timesN)):\n",
    "    decompose_timesN1 = str(decompose_timesN[n])\n",
    "    y = n+10\n",
    "    print(\"{:7s}               {:20s}\".format(str(y),decompose_timesN1))"
   ]
  },
  {
   "cell_type": "markdown",
   "metadata": {},
   "source": [
    "### Average Pollard Rho Run Time vs Average Decompose Run Time for $k$ Bits\n",
    "\n",
    "Below is a graph comparing the average execution time for the Pollard Rho and decompose function for increasing $N$."
   ]
  },
  {
   "cell_type": "code",
   "execution_count": 41,
   "metadata": {},
   "outputs": [
    {
     "data": {
      "image/png": "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\n",
      "text/plain": [
       "<Figure size 432x288 with 2 Axes>"
      ]
     },
     "metadata": {
      "needs_background": "light"
     },
     "output_type": "display_data"
    }
   ],
   "source": [
    "x = range(10,len(decompose_timesN)+10)\n",
    "fig, (ax1, ax2) = plt.subplots(1,2)\n",
    "ax1.plot(x,pollard_rho_times)\n",
    "ax2.plot(x,decompose_timesN)\n",
    "ax1.set_title('Average Pollard Rho Run Time for $N = pq$')\n",
    "ax1.set_xlabel('Bit size of $N$')\n",
    "ax1.set_ylabel('Run Time (seconds)')\n",
    "ax2.set_title('Average Decompose Run Time for $N = pq$')\n",
    "ax2.set_xlabel('Bit size of $N$')\n",
    "ax2.set_ylabel('Run Time (seconds)')\n",
    "plt.subplots_adjust(left = 0, right = 2, wspace = 0.3)\n",
    "plt.show()"
   ]
  },
  {
   "cell_type": "markdown",
   "metadata": {},
   "source": [
    "### Comparing Pollard Rho and Decompose Functions\n",
    "\n",
    "From our graphs which plot the average run time of these two factoring algorithms for $N$ = $pq$ where $p$ and $q$ are prime numbers, we can see that the average decompose run time is consistently lower for smaller bit sizes of $N$. However, when $N$ reaches $35$ bits, the average run time for the Pollard Rho function is lower than the average decompose run time for the first time.  From this bit size, the difference between the run time for the Pollard Rho function and the decompose function increases, depicting how the Pollard Rho method is far more effective than the decompose function with large bit sizes of $N$."
   ]
  },
  {
   "cell_type": "markdown",
   "metadata": {},
   "source": [
    "### Pollard Rho Time Complexity Check\n",
    "#### Average Operations\n",
    "\n",
    "We will check, firstly, that the Pollard Rho time complexity is indeed $O(N^{0.25})$.\n",
    "We will do this by plotting graphs of $N$ against the worst-case operations performed by the function; this is when we iterate the function $10 \\cdot N^{0.25}$. It would be interesting to see how close the Pollard Rho function is to performing at a worst case scenario when $N = pq$ so we will also plot how many operations the function actually performs too.\n",
    "\n",
    "We will not use our average operations function here because we want to find our worst-case operations too."
   ]
  },
  {
   "cell_type": "code",
   "execution_count": 42,
   "metadata": {},
   "outputs": [],
   "source": [
    "a = 20\n",
    "b = 50\n",
    "c = 4\n",
    "\n",
    "samples = generate_sampleNbits(a,b,c)\n",
    "sample_size = c\n",
    "\n",
    "\n",
    "operations = []\n",
    "max_operations = []\n",
    "total_operations = []\n",
    "total_max_operations = []\n",
    "average_operations = []\n",
    "average_max_operations = []\n",
    "for i in range(b-a+1):\n",
    "    for n in samples[i]:\n",
    "        operations.append(pollard_rho_N(n)[2])               #these are the actual operations performed by pollard rho\n",
    "        max_operations.append(10*(n**0.25))                  #these are the worst-case operations performed by pollard rho\n",
    "        \n",
    "split_operations = np.array_split(operations,b-a+1)\n",
    "split_max_operations = np.array_split(max_operations,b-a+1)\n",
    "for j in range(b-a+1):\n",
    "    total_operations.append(np.sum(split_operations[j]))\n",
    "    total_max_operations.append(np.sum(split_max_operations[j]))\n",
    "for k in range(b-a+1):\n",
    "    average_operations.append(total_operations[k]/c)\n",
    "    average_max_operations.append(total_max_operations[k]/c)\n",
    "\n"
   ]
  },
  {
   "cell_type": "code",
   "execution_count": 44,
   "metadata": {},
   "outputs": [
    {
     "data": {
      "image/png": "iVBORw0KGgoAAAANSUhEUgAAAZEAAAEaCAYAAADQVmpMAAAABHNCSVQICAgIfAhkiAAAAAlwSFlzAAALEgAACxIB0t1+/AAAADh0RVh0U29mdHdhcmUAbWF0cGxvdGxpYiB2ZXJzaW9uMy4xLjEsIGh0dHA6Ly9tYXRwbG90bGliLm9yZy8QZhcZAAAgAElEQVR4nOzdeXxU9fX4/9dJWMK+ExK2gEDYAyFAFGSzZREFFEWxVtzQVq1LtaL9+VGr/bXautdWQVGhlkVRkLqLiBVlS9iXsAcS1rAnQALJnO8f9yYOIZkMIZPJcp6Pxzwy9323M3cmc+Z93+/7vqKqGGOMMcUREuwAjDHGlF+WRIwxxhSbJRFjjDHFZknEGGNMsVkSMcYYU2yWRIwxxhSbJRFjjDHFZknEGGNMsVkSMWWWiCSLyC+CtO9oEVklIukicn8wYrhYIrJBRAaV4v7K/TG7GKV9vMsKSyIBJCKLROSoiFQPdiwXy/1CPyAitbzK7hSRRUEMK5AeBRapah1Vfa2gBUTkVhFZJyKnRGS/iLwhIvVLOc7cWM5LuKraRVUXlWIYRR6zCxXMHxIXKpDHW0QaiIiKyJJ85ZNF5OVA7NNflkQCRESigMsBBUYFYPtVSnqbfqgCPBCE/V6UYh6r1sAGH9t8GHge+ANQD4h31/lGRKoVJ04f+wrGe10cPo+ZL6X5GsvR8fTWA9gPdBaRiHzlq4MTkktV7RGAB/Ak8CPwEvCpV/ljwJx8y74KvOY+jwQ+AtKAncD9XsslA5OAtUAWzpf6Y8B2IB3YCFzjtXwssMqd9yEwG/iz1/xC91XA60l293UEqO+W3YnzyzN3GQXaeU2/l29/yThfumuBk8BUIBz4wo1xAdAg3/KPu6/rKPAuEOZP7AUdq3zzOwGLgGM4X3yjvOYtBHKATCAD6JBv3bpu+bh85bWBg8DtRcVfku818G/AA5x243rUaxu/KOr1ei37iLu/4+5nJfdYTwL2uPvdDFxRwOejwGNWxHH2+R4V8BoKjdGd3xL42D2eh4HXfeyrVWHH3uv/tLD/qwKPh3esfhxTn/+bBRyHh4D/AnOAu92yUOAU0D2o33XB3HlFfgDbgHuAXsBZINwtb+2+8XW9Pgj7cH7JhgCJOAmoGtAW2AEM8/pQrnb/WWq4ZdfjfBmFADfgfDlHuOvvwqk5VAWuBc7kflCL2lcBrycZ+IX7T5q7jeIkkaU4iaM5zhfuSqAnUB3ni+ipfMuvd19vQ5yk/Gd/Yi/oWHnNq+q+P3901x/i/jNHey2zCLizkGMxHMim4C+9acBMX/H7c/wv5L32fn8Kec/8eb3JwHJ3+w2BTcBvgGggBYh0l4sCLinkuJxzzIrar6/3KP9r8BWj1//RGuBloBYQBvQv5PNQy9exL+L/qtDjkf898HFMff5vFnIcpgPPAjcDX7hlXXASYtWgftcFc+cV9QH0x0kcjd3pJOAhr/mLgVvc578EtrvP+wK7823rceBd93ky7q9cH/teDYwGBuD8WpJ8+/2zP/sqYLvJOF9IXXF+VTWheEnkV17THwFveE3/DpiXb/nfeE1fifPrsMjYfR0rnNOM+4EQr7KZwNNe04soPIncDOwvZN5zwDe+4i/p99r7/SnkPfPn9SYDN3tN/w14E2iHk+x/QRFfVvmPWVH79fM15r2uwmJ0n1+KU6s4L7Hn35c/nx8f/1eFHo/874GPY+rzf7OQ/a8FxgINcGp6dYBfAYm+jl9pPKxNJDAmAF+r6iF3eoZbhtf0ePf5Te40OLWUSBE5lvvA+RUX7rVuiveOROQWEVnttXxXoDHOr5896n4CC1jXn32dR1XXA5/iVPeL44DX89MFTNfOt7x3zLtwXpe/sadQsEggRVU9+bbd3L+XwCGgcSHn1iPc+b7ix8/X4O97XRR/X+9+r+engNqqug14EHgaOCgis0QkEv/4s9/C3qPCnBej+7wlsEtVs32sm7uvIo99Yce6GMejoHiL+t88h9sxpxOwWlWP4tRuRuDU4IPbHoI1rJc4EakBjAMGuj129uOcz4wRkRh3sQ+BQSLSAriGn5NICrBTVet7Peqo6pVeu8j74IlIa+At4D6gkarWxzl9IjinyJqLiHit29LruT/7KsxTwETO/xI6BdT0mm7mx7aK4h1zK2Av/seuFGwv0FJEvD//rXB+HfpjCc5phGu9C92eayOAb4uIHz9fg7/v9TnLFuCiXq+qzlDV/jhfvorTocAf/uzXV9wXIgVoVUSjuXotW+ixL+pYX8TxyFXU/2Z+XXF+YO1wp+cBY3CSyKoL3HeJsyRS8sbgNDB2xuk50QPnV8QPwC0AqpqGU/V/F+fDvMlddzlwQkQmiUgNEQkVka4i0ruQfdXC+RCnAYjIbTgfOHC+6HKA+0SkioiMBvp4rXuh+8rj/hqbDeS/FmA1cJO7reHAwKK25Yd7RaSFiDTE+bU4+2Jidy3DOcf9qIhUdfv2Xw3M8mdlVT0O/An4h4gMd7cRhfPjIBWnodtX/BTjNfh6r8Gp0bUt6dfrXvsxxP01nInzZZZT1HoXu99iWI7z5fyciNQSkTAR6edjWV/HvtBjfZHHI1dR/5v59QTWeNVcPsE5NWo1kQpqAs651d2quj/3AbwO/Mrrl9IMnPOqubUQVDUH55+sB06PkUPA2zhdSM+jqhuBF3E+lAeAbjiNt6jqGZxfynfg9Iy5Gec0VFZx9lWAZ3D+2bw94G7zGM752nl+bsuXGcDXOL/CduCcN76o2N1jMwqn1nAI+BdOG1WSv0Gp6t9wksILwAmcL8wUnJ46Wb7id9cvsffa9VfgCff0yyMl+Hqr47TzHMI5NdPUfd1FKonj7C+v49kO2I2TzG8oYtkCj30Rx7rYx8Nr/z7/NwtwTjdeVd2F095SH6czQVDJuaflTEUmIstwGiLfDXYslYGIJOM0NC8IdiymbCvP/5tWE6nARGSgiDRzq8wTgO7Al8GOy5jKriL9b5bHKzeN/6KBD3B6hGwHrlPVfcENyRhDBfrftNNZxhhjis1OZxljjCm2Snc6q3HjxhoVFRXsMIwxptxITEw8pKpNCppX6ZJIVFQUCQkJwQ7DGGPKDRHZVdg8O51ljDGm2CyJGGOMKTZLIsYYY4qt0rWJFOTs2bOkpqaSmZkZ7FBMJRIWFkaLFi2oWrVqsEMxptgsiQCpqanUqVOHqKgozh1Y05jAUFUOHz5Mamoqbdq0CXY4xhSbnc4CMjMzadSokSUQU2pEhEaNGlnt15R7lkRclkBMabPPnKkI7HSWMcZUUGeyMtmdlMCRrcvxnDpK/C3Plvg+rCZShsydOxcRISmpxG+3EBCLFy+mT58+dOzYkY4dOzJlypRS2e9f/vKXc6Yvu+yyUtmvMWVZVuYptq7+gWUfvsiy137N1md7wV+a027uSPqs/xNtd7yPejxFb+gCVboBGOPi4jT/FeubNm2iU6dOQYroZ+PGjWPfvn1cccUVPP300xe9vZycHEJDQy8+sALs37+fPn36MG/ePGJjYzl06BDDhg3jmWeeYeTIkRe17aLirl27NhkZGRe1j7KirHz2TPmSefokuzclcHTbcmTfahqe2ESr7GSqiXOTxePUIqV6e9IbdqVay1iadYwnMqoTElK8eoOIJKpqXIEzVbVSPXr16qX5bdy48byy0paenq6RkZG6efNmjY6OzisfN26cfvbZZ3nTEyZM0Dlz5mh2drY+8sgjGhcXp926ddM333xTVVW/++47HTRokI4fP147deqkqqqjR4/W2NhY7dy5s06ePDlvW2+//ba2b99eBw4cqHfeeafee++9qqp68OBBvfbaazUuLk7j4uJ08eLF58X7xBNP6P/93/+dU7ZgwQLt379/Xpx333239u/fX9u3b6///e9/VVUvOu5JkyZpSEiIxsTE6E033aSqqrVq1VJVVY/Ho4888oh26dJFu3btqrNmzcrb9sCBA3Xs2LEaHR2tN910k3o8nrztderUSbt166YPP/zwBb5rF68sfPZM2Xb6VIZuTvxOl85+Xpe9Ml63PdNDzzzZQPWpuqpP1dWjT0Xq2r8M0p8m36eJn7+jqds3qicnp0RjABK0kO/UgLaJuHd2S8e5n3C2qsa595qeDUTh3OJxnKoedW9a/yrOvYNPAbeq6kp3OxOAJ9zN/llVp7nlvYD3gBrA58AD7gsutj/9dwMb9564mE2cp3NkXZ66uovPZebNm8fw4cPp0KEDDRs2ZOXKlcTGxnLjjTcye/ZsrrzySs6cOcO3337LG2+8wdSpU6lXrx4rVqwgKyuLfv36MXToUACWL1/O+vXr87qOvvPOOzRs2JDTp0/Tu3dvxo4dS1ZWFs8++ywrV66kTp06DBkyhJiYGAAeeOABHnroIfr378/u3bsZNmwYmzZtOifeDRs2MGHChHPK4uLi2LBhQ950cnIy33//Pdu3b2fw4MFs27aN6dOnX1Tczz33HK+//jqrV59/a+mPP/6Y1atXs2bNGg4dOkTv3r0ZMGAAAKtWrWLDhg1ERkbSr18/fvzxRzp37szcuXNJSkpCRDh27Jjf76kxgZB5KoPkjcs4vn0Fsm8NjU9spFXObjqIcxrqKHVICetAQvjlVG8VS7OOlxLRqj31i1nDKAml0bA+WFUPeU0/Bnyrqs+JyGPu9CSc+zC3dx99gTeAvm7SeQqIAxRIFJH5qnrUXeYuYClOEhkOfFEKr6nEzZw5kwcffBCAG2+8kZkzZxIbG8uIESO4//77ycrK4ssvv2TAgAHUqFGDr7/+mrVr1zJnzhwAjh8/ztatW6lWrRp9+vQ559qD1157jblz5wKQkpLC1q1b2b9/PwMHDqRhw4YAXH/99WzZsgWABQsWsHHjxrz1T5w4QXp6OnXq1MkrU9UCexd5l40bN46QkBDat29P27ZtSUpKuui4GzVqVOgxXLx4MePHjyc0NJTw8HAGDhzIihUrqFu3Ln369KFFixYA9OjRg+TkZOLj4wkLC+POO+9k5MiRXHXVVUW+T8aUlNMn09nlJoyQ/WtofGITLXN209FNGEeoS2pYNCsaDaZ6q15EdOxDs5btaRDEhFGQYPTOGg0Mcp9PAxbhJJHRwHS3JrFUROqLSIS77DeqegRARL4BhovIIqCuqi5xy6cDY7jIJFJUjSEQDh8+zMKFC1m/fj0iQk5ODiLC3/72N8LCwhg0aBBfffUVs2fPZvz48YDzJf6Pf/yDYcOGnbOtRYsWUatWrXOmFyxYwJIlS6hZsyaDBg0iMzMTXxU2j8fDkiVLqFGjRqHLdOnShYSEBEaNGpVXlpiYSOfOnfOm8ycZEbnouH3x9ZqqV6+e9zw0NJTs7GyqVKnC8uXL+fbbb5k1axavv/46Cxcu9LkPY4rjVMZxdm9YxrEdKwjdv4Ym6ZtomZNCR3E+s4epR2pYB1Y0HkJYq15EdIonvHlbGpaxhFGQQEeowNcikigid7ll4ereBtL929Qtbw6keK2b6pb5Kk8toPw8InKXiCSISEJaWtpFvqSSN2fOHG655RZ27dpFcnIyKSkptGnThsWLFwNOzeTdd9/lhx9+yPvyHTZsGG+88QZnz54FYMuWLZw8efK8bR8/fpwGDRpQs2ZNkpKSWLp0KQB9+vTh+++/5+jRo2RnZ/PRRx/lrTN06FBef/31vOmCTh3de++9vPfee3nzDh8+zKRJk3j00Ufzlvnwww/xeDxs376dHTt2EB0dfdFxA1StWjVvfW8DBgxg9uzZ5OTkkJaWxv/+9z/69OlT2GEnIyOD48ePc+WVV/LKK68U+DqNuVAn04+xcemXLJ3xZ1a8fD3Jz3Sl+t9b0/GL64nf/DfaHF/G8eoRLG91B6v7vcHBiatp+GQyMY8t4NI7X6bn0Jtp1rJdsRvBS1ugayL9VHWviDQFvhERX31XC7rySotRfn6h6hRgCji9s3yHXPpmzpzJY489dk7Z2LFjmTFjBpdffjlDhw7llltuYdSoUVSrVg2AO++8k+TkZGJjY1FVmjRpwrx5887b9vDhw3nzzTfp3r070dHRxMfHA9C8eXP++Mc/0rdvXyIjI+ncuTP16tUDnNNI9957L927dyc7O5sBAwbw5ptvnrPdiIgI3n//fSZOnEh6ejqqyoMPPsjVV1+dt0x0dDQDBw7kwIEDvPnmm3mnji4mboC77rqL7t27Exsby3/+85+88muuuYYlS5YQExOTV5Nr1qxZoV2m09PTGT16dF7N7OWXX/b5PhmTX8aJo+zesJQTO1ZQ5cAammQk0TJnD53dGkYaDdhTI5p9jYdTo3Uvmne+lCaRUTQOctwlqdS6+IrI00AGMBEYpKr73NNVi1Q1WkQmu89nustvxjmVNchd/m63fDLOKbBFwHeq2tEtH++9XGHKchff0paRkUHt2rXJzs7mmmuu4fbbb+eaa64pkW3feuutXHXVVVx33XUlsr2KqrJ+9sqj9ONH2L1+Cek7V1DlwFqankyiRc5eQtyEcZCG7KnZkczG3agZFUvzjpfSOLJ1kKMuGb66+AasJiIitYAQVU13nw8FngHmAxOA59y/n7irzAfuE5FZOA3rx91E8xXwFxFp4C43FHhcVY+ISLqIxAPLgFuAfwTq9VRETz/9NAsWLCAzM5OhQ4cyZsyYYIdkTJlw4thhdm/4iYydCVQ9sJamGUm01L3ktpgeoBF7a0azp8nV1HRrGE2btcw7N1+ZBPJ0Vjgw121crQLMUNUvRWQF8IGI3AHsBq53l/8cp3vvNpwuvrcBuMniWWCFu9wzuY3swG/5uYvvF5TTnlnB8sILLwRs2++9917Atm1MSTp+JI2U3ISRto7wjCRa6D66uvP304R9taJJbTKaWq3jaN45nvDwFoQHNeqyI2BJRFV3ADEFlB8GriigXIF7C9nWO8A7BZQnQN57bYwxPh0/fIDdG5aSkZxA9YNrCD+ZRHM9QD13/l5pyv6aHUltci01o3rRonM8zZo2p1lQoy7bbABGY0yFdOzQfqeGkZxA9YPraHYqiUg9SDd3/l4JZ3+taHY3uZ7abeJo2flSIhs3IzKoUZc/lkSMMeXe0bR9pGz4iVPJiVRLW0vEySQiSKO+Oz9VmrGvVmd2Nb2R2lFxtOoST2SjcEsYJcCSiDGmXDl8IJXUjUs4lZxAWNo6Ik5tphmHyO15kyoR7K3TlV1Nu+fVMFo0bEKLoEZdcVkSKUPmzp3Ltddey6ZNm+jYsWOww/Fp0aJFDB48mLfffps77rgDcManio2N5e9//zuPPPLIRe9jypQpvPTSSwDUrVuXl156if79+1/0dn1JTk7mp59+4qabbgIgISGB6dOn89prrwV0v6Zgh/bvZs/GpZzalUhY2loiT20mnMPkDn6TIpGk1okhObw7tdv0chJGg8aWMEqRJZEyZObMmfTv359Zs2aV+aHgAbp168bs2bPzksisWbPyBnG8WJ9++imTJ09m8eLFNG7cmJUrVzJmzBiWL19Os2YX18yZO+RJQZKTk5kxY0ZeEomLiyMuruARsE3JOrR3F6mblnB6VyI1Dq0j8tRmmnKExoBHhdTQSFLq9mRneHfqtOlNqy7xtKzXkJbBDrySKx/X1VcCGRkZ/Pjjj0ydOpVZs2blld9www18/vnnedO33norH330ETk5OfzhD3+gd+/edO/encmTJwM/1xBuuukmunVzmhDHjBlDr1696NKlyzk3jpo6dSodOnRg0KBBTJw4kfvuuw+AtLQ0xo4dS+/evenduzc//vhjgTG3atWKzMxMDhw4gKry5ZdfMmLEiLz5b731Fr179yYmJoaxY8dy6tQpAEaPHs306dMBmDx5Mr/61a/O2/bzzz/P3//+dxo3dq7tjY2NZcKECfzzn/8EICoqikmTJtGnTx/69OnDtm3bfMb+9NNPc9ddd+Vd/Z+cnMzll19ObGwssbGx/PTTTwA89thj/PDDD/To0YOXX36ZRYsW5Q3MeOTIEcaMGUP37t2Jj49n7dq1edu+/fbbGTRoEG3bts2rtZw8eZKRI0cSExND165dmT17ts/PQGWhHg8H9+xk9TczWDL1YVY/P4y0p6NoPKU7PX64m7673qJBZiq76/ZiaYdH2Dh8Nqce3kmrJzcS9/uPiP/VU3S57Erq1GsY7JdisJrI+b54DPavK9ltNusGI57zuUh5Gwo+13XXXceHH35Iz549iY2NPWegw2uvvZaJEycC8MQTTzB16lR+97vfMWXKFPr160ebNm148cUXzxkXK9eGDRvo1avXOWVxcXFMmzYtb7pu3bosX76c6dOn8+CDD/Lpp5/6jD0xMZHFixdTo0YNTp06xTfffENYWBhbt25l/PjxJCQk8Nxzz/HCCy/w6aefAk5SzvXUU0/Rs2dP5s2bx8KFC7nlllvyxttKSkriu+++Iz09nejoaH7729/y5ZdfEhkZyWeffQY444FVNurxcHDvTvZuXELW7pXUOLyO5qe30JRjNAVyVEgJbUFyvd5sD4+h3iW9adW5L63r1KdiXOtd8VkSKSPK21DwucaNG8cNN9xAUlIS48ePz/tFD7B+/XqeeOIJjh07RkZGRt7gkeHh4TzzzDMMHjyYuXPn5sVQlPzDz+eOaDx+/Hgeeughn7EDjBo1Km9k4rNnz3LfffexevVqQkND8167L4sXL84bqHLIkCEcPnw4LzGMHDmS6tWrU716dZo2bcqBAwfo1q0bjzzyCJMmTeKqq67i8ssv9+t1llfq8XAgdTt7Ny0la3ciNQ+vp0XmFsI5TjhOwtgd2oqd9eLZ1iyG+pf0plXnPkTVrkdUsIM3xWZJJL8iagyBUB6Hgs/VrFkzqlatyjfffMOrr756ThK59dZbmTdvHjExMbz33nvn/Kpft24djRo1Yu/evQVut3PnziQmJjJkyJC8spUrVxY61Hzuc1+xex+Xl19+mfDwcNasWYPH4yEsLKzI11rQMcvdb0FDzXfo0IHExEQ+//xzHn/8cYYOHcqTTz5Z5H7KA/V42J+ylf1JS8ncvZJah9fTMnMLzThBMyBbQ9gd2ood9S9jWzOnhtG6c1/a1KpDmyK3bsoTaxMpA8rjUPDennnmGZ5//vnzGvHT09OJiIjg7Nmz54y2u3z5cr744gtWrVrFCy+8wM6dO8/b5qOPPsqkSZM4fPhwXgzvvfce99xzT94yuW0Ms2fP5tJLL72g2I8fP05ERAQhISH8+9//JifHuTd1nTp18mou+Q0YMCDvdSxatIjGjRtTt27dQo/L3r17qVmzJjfffDOPPPIIK1euLHTZskw9HvbuTGLlF++yZMrvWPfXwRx7phUR7/ah55L7iUv9N7XOHmZr/f4s6/RHNl81l+xJKbR9cg29H5xF3xsfp2PvX1Cj1vk1WVP+WU2kDCiPQ8F7u+yyywosf/bZZ+nbty+tW7emW7dupKenk5WVxcSJE3n33XeJjIzkxRdf5Pbbb2fhwoXn1CxGjRrFnj17uOyyyxAR6tSpw/vvv09ERETeMllZWfTt2xePx8PMmTMvKPZ77rmHsWPH8uGHHzJ48OC8Wkr37t2pUqUKMTEx3HrrrfTs2TNvnaeffprbbruN7t27U7NmzXPaZwqybt06/vCHPxASEkLVqlV54403fC5fFqjHw97kzexPWsqZlJXUPrKOlllbiSSDSOCshrKrShRbGwxAI3rQoF0fWnXqzSU1anFJsIM3QVFqQ8GXFTYU/M8CORR8oEVFRZGQkJDXe6u8CvZnTz0edm5cwYHlc6hzYDmtsrZSF6dGe0ZD2V0liiP1OqMRPWjYrg+tOsVRPaxm0OI1wRGUoeBN2WdDwVdOnpwctqxaxLGEj2hx4Fva6n6iVNhRpS2bGl4BET1o2L4PrTr2op0lDFMESyKVWCCHgg+05OTkYIdQrmSfPUPSsi85uXoubQ4toiNHOKOhJNXoyZ5L7uKSy8fRrllL2gU7UFPuWBJx5e8+akygBfpUcubpkyT9OJ8z6+fT4dj/6EoGp7Uam2r3ZXf0VbS//Dq6NyjfpwNN8FkSAcLCwjh8+DCNGjWyRGJKhapy+PBhv7oWX4iME0fZ/MNHsOm/dExfSg/J5AQ12VK3HyFdRtOp/xhirZeUKUGWRIAWLVqQmppKWlpasEMxlUhYWBgtWlz8UIFH0/axdfGHVNvyGZ1OJdJLznKYeqxvNJQa3cfQ8dKRxFUv2WRlTC5LIkDVqlXPucLbmLLuQOp2khd/QO0dX9Axay19RNlHE1Y1G0u92Gvp0OsK+hYyyKQxJck+ZcaUEynb1rHnpw9osPsrorM3Ew7sCmnJ8ha30qTPdVzS7TIiQuz6YVO6LIkYU0apx8OODcs5uPxDmu1ZQBtPMi2BrVXas6TNvUTGj6N1dA8bqNAElSURY8oQT04OW1Z+x7HEj2l5YAGX6AHaqJBUvStLo/5A637X0751NO2DHagxLksixgTZ2TNZbF72JSfXzKPtoe/oyFHOaCibasSyp91vaNv/ejo3s1svmbLJkogxQZB5KoOkH+dzdv0ntD++mK5kcEqrk1S7L7s6XkWHy68jpn6jojdkTJBZEjGmlKQfP8LmxR8RkncNRxYnqMXmev2o0mU0HfuNtms4TLljScSYADqato9tP3xAta3ONRxxks0h6rOu8QhqxoyhY/yV9K5WvegNGVNGWRIxpoTtT9lG8uIPqLPzCzpmraO3KHulKSubXU/92Gtp32uIXcNhKgz7JBtTAlK2riF1yRwa7f6SDtlbaAYkh7RiRcvbadx7LJd0u5RIu4bDVECWRIwpBvV42LF+KQdXfESzPd/QxrOLlsCWKh1Y0uY+ml96PVEdeti9w02FZ0nEGD95cnLYkriQY4kf0ergQi7RA0TlXsPR5lGi+o2jQyu7gsNULpZEjPHh7JkskpZ+yak1H3PJ4UV05JhzDUfNXqS2u4d2l19Pl6bNgx2mMUET8CQiIqFAArBHVa8SkTbALKAhsBL4taqeEZHqwHSgF3AYuEFVk91tPA7cAeQA96vqV275cOBVIBR4W1WfC/TrMRVf5qkMNi2eR/aG+XQ4vphunHSu4ajTl+SOV9Oh/1i7hsMYV2nURB4ANgF13enngZdVdZaIvImTHN5w/x5V1XYicqO73A0i0sRGGYIAACAASURBVBm4EegCRAILRKSDu61/Ar8EUoEVIjJfVTeWwmsyFUz68SNs/mEOIUn/pWP6MnpKFsepxZZ6/anSZZRzH46atYMdpjFlTkCTiIi0AEYC/z/we3Hu+DQEuMldZBrwNE4SGe0+B5gDvO4uPxqYpapZwE4R2Qb0cZfbpqo73H3Ncpe1JGL8cuTgHrb98CHVt31Gp1Mr813DcS0d44fbNRzGFOGCkoiIhAC1VfWEn6u8AjwK5F6G2wg4pqrZ7nQqkHtCuTmQAqCq2SJy3F2+ObDUa5ve66TkK+9bSNx3AXcBtGrVys/QTUXkXMMx272GYz19RNkr4c41HL3G0qHXEBqHhgY7TGPKjSKTiIjMAH6D0x6RCNQTkZdU9e9FrHcVcFBVE0VkUG5xAYtqEfMKKy+o032BN61W1SnAFIC4uLjA3tjalDkpW9eQ+tMHNEr5Ou8ajp0hrVne6g6a9h5L267xdg2HMcXkT02ks6qeEJFfAZ8Dk3CSic8kAvQDRonIlUAYTpvIK0B9Eani1kZaAHvd5VOBlkCqiFQB6gFHvMpzea9TWLmpxNTjYfu6JaStmEPE3gVEeXb/fA1H2/tpcel1tGkfg93L0piL508SqSoiVYExwOuqelZEivw1r6qPA48DuDWRR1T1VyLyIXAdTg+tCcAn7irz3ekl7vyFqqoiMh+YISIv4TSstweW49RQ2ru9vfbgNL7ntrWYSsaTk8OWhG85tvJjWh38lnZ60L0PR3eWthlPVP9xdGjZLthhGlPh+JNEJgPJwBrgfyLSGvC3TaQgk4BZIvJnYBUw1S2fCvzbbTg/gpMUUNUNIvIBToN5NnCvquYAiMh9wFc4XXzfUdUNFxGXKWfOnskiaclnnFr7idc1HFXYVLMXe9rfxyX9r7NrOIwJMFG98CYCr9NR5U5cXJwmJCQEOwxTTKdPppP04ydkb/iE6OM/UjfvGo54PJ2uJrr/WOrUaxjsMI2pUEQkUVXjCprnT8N6dWAsEJVv+WdKJDpjinDi2GG2/DCHkKRP6Zjx8zUcm+sPoGrX0XS87Gq7hsOYIPHndNYnwHGcxvSswIZjjOPwgVS2//AB1bd9TqfTK4mTHNJowLomI6kVM4bovnYNhzFlgT9JpIWqDg94JKbS2797K8mLZ1M3+Uui3Ws49kg4KyNupH6va+kQO5gmdg2HMWWKP0nkJxHppqrrAh6NqXR2bV7N3qUf0Djla9pnb3Wv4Yhieas7Ce97PW0696a5XcNhTJnlTxLpD9wqIjtxTmcJoKraPaCRmQrJuYbjJ9KWzyFy3wJae1JoDWyuEs3StvfT/LJxtGnXza7hMKac8CeJjAh4FKZCy8nOZkvitxxf+TGtD3xLO9KI0hCSwrqzrO3NtOl/A9HNLW0YUx4VmURUdZeIxACXu0U/qOqawIZlKoItKxdx9Md3uOTw93Ryr+HYWDOOlA73077/9XRtEhHsEI0xF8mfLr4PABOBj92i90Vkiqr+I6CRmXJJPR42LvkC/d/f6Jq1mpMaRlLdS9nV8SqiLx9Lj7oNgh2iMaYE+XM66w6gr6qeBBCR53GGJrEkYvKox8PaRXOovuRlupzdyCHqs7TdQ3Qb/SC96tQPdnjGmADxJ4kIzgi+uXIoeGRdUwl5cnJY/c2/qbviNWJytrOfJizr9EdiRt1HfI1awQ7PGBNg/iSRd4FlIjLXnR7Dz+NdmUoq++wZVn3+Nk3X/ItYTwopEsnymGfpOfJumtlFgMZUGv40rL8kIotwuvoKcJuqrgp0YKZsyso8xer/vkGLjZPprQfYGRJFYu8X6THsVlpWKY27LRtjypJC/+tFpK57H5GGOKP4JnvNa6iqRwIfnikrTp9MZ80nr9B2yzv05QhbqnRgdd+n6T7kBtrYVeTGVFq+fjrOAK7CGTPLe6hfcafbBjAuU0acOHaYDZ+8SPTOfxPPCTZU686B/i/Ttf8oxK4kN6bSKzSJqOpV7l+7CqwSOnZoP0nz/kbn1JlcyinWhPXmwOBH6dJ3aLBDM8aUIf5cJ/Ktql5RVJmpGA7t3cW2T/5K9/0fEy9ZrKw1gDq/nERMj/7BDs0YUwb5ahMJA2oCjUWkAT93662Lc5taU4FkZZ5i1bsP0XP/R8SRw6p6V9BkxOPEduoV7NCMMWWYr5rI3cCDOAkjkZ+TyAngnwGOy5SiQ/tTODR1HPFnN7K84Ugir/r/6H1Jl2CHZYwpB3y1ibwKvCoiv7MhTiqu7Wt/pNbHt9BaT5DY9xX6XHlbsEMyxpQj/lwn8g8R6Qp0BsK8yqcHMjATeKu+eJfopZM4IXXYc+08esX0C3ZIxphyxp+G9aeAQThJ5HOcoeEXA5ZEyilPTg7L35tEfMpbJFXtRKM7P6Bds1bBDssYUw7509H/OuAKYL+q3gbEADauRTl1KuM4q18eQ3zKWyyvN4I2jyykiSUQY0wx+TNOxWlV9YhItojUBQ5iFxqWS/t3b+XktHHEZO9kafvf0/em/7MLBo0xF8WfJJIgIvWBt3B6aWUAywMalSlxScu+pskXd9JUz7B+0FvED74+2CEZYyoAn0lERAT4q6oeA94UkS+Buqq6tlSiMyVi+dzX6LH6aQ6EhJMx/hNionsGOyRjTAXhM4moqorIPKCXO51cGkGZkpF99gwJb/+O+AOzWBfWk1Z3f0C9hk2DHZYxpgLx53TWUhHpraorAh6NKTHHjx5i1+QbiM9MYGmT64m7619UqVot2GEZYyoYf5LIYOA3IpIMnMQdxVdVuwcyMFN8KVvXwIwb6eg5wLLuTxM/9qFgh2SMqaD8SSIjAh6FKTHrvv+Y1t/dSw5V2DZiBn3jhwc7JGNMBVZk/05V3QW0BIa4z0/5s56IhInIchFZIyIbRORPbnkbEVkmIltFZLaIVHPLq7vT29z5UV7betwt3ywiw7zKh7tl20TksQt98RWJejwsnfEsnRfezqGQppy+dQGdLYEYYwLMn2TwFDAJeNwtqgq878e2s3ASTwzQAxguIvHA88DLqtoeOArc4S5/B3BUVdsBL7vLISKdgRuBLsBw4F8iEioioTgDQY7AuZp+vLtspZOVeYqE124mfssLrKnVj/CHvicyKjrYYRljKgF/rjS7BhiF0x6Cqu4F6hS1kjoy3Mmq7kOBIcAct3waMMZ9Ptqdxp1/hdvFeDQwS1WzVHUnsA3o4z62qeoOVT0DzHKXrVQOH0hl54tX0PvYZyxpcQc9Hp5PrTr1gx2WMaaS8CeJnFFVxb1FrojU8nfjbo1hNc5V7t8A24FjqprtLpIKNHefNwdSANz5x4FG3uX51imsvKA47hKRBBFJSEtL8zf8Mm/72iWcfWMQrc9sI7H3i1x650uE2P3OjTGlyJ8k8oGITAbqi8hEYAHO1etFUtUcVe0BtMCpOXQqaDH3rxQy70LLC4pjiqrGqWpckyZNig68HFj11TQiPhqN4CH1mo/pNfLOYIdkjKmE/BkK/gUR+SXOzag6AE+q6jcXshNVPSYii4B4nGRUxa1ttAD2uoul4jTgp4pIFaAecMSrPJf3OoWVV1jq8bD0vce4dPdkkqp2pPEdH9I+wgZQNMYEh7+j760DfgD+5z4vkog0ccfcQkRqAL8ANgHf4YwMDDAB+MR9Pt+dxp2/0D2NNh+40e291QZojzN21wqgvdvbqxpO4/t8P19PuXQ64wSrXhrDpbsns6LeMKIeXkhjSyDGmCDy534idwJPAgtxTiH9Q0SeUdV3ilg1Apjm9qIKAT5Q1U9FZCMwS0T+DKwCprrLTwX+LSLbcGogNwKo6gYR+QDYCGQD96pqjhvbfcBXQCjwjqpuuIDXXq4c2L2V9Gk30CN7B0vbP0jfm56yEXiNMUEnzo99HwuIbAYuU9XD7nQj4CdVLZd9SOPi4jQhISHYYVyQpOULaPL57VTTM+wY+BoxQ8YFOyRjTCUiIomqGlfQPH+uWE8F0r2m0zm3V5QJoOVz/0GP1U9zMKQxGTfOI6ZjbLBDMsaYPP4kkT3AMhH5BKf302hguYj8HkBVXwpgfJVWTnY2K966j/gDM1kf1oOWd31AvUbhwQ7LGGPO4U8S2e4+cuU2hBd5waEpnhPHDpP85g3EZ65gaZPr6DXxX1StZnckNsaUPf508f2TiNR2nurJUoipUkvZtg6dcQOdcvazrOuTxF//cLBDMsaYQvns3iMi94jIbmAXsFtEdonIPaUTWuWz7n9zqff+MOp4TrBl2Pv0tQRijCnjCq2JiMgTwGXAIFXd4Za1BV4VkYaq+udSirHCU4+HZbP/SlzSC+wObUXYr2fTpU3HYIdljDFF8nU669dAjKpm5hao6g4RGQesASyJlIAzWZmsfvMO4o9+yqpal9H+NzOoXbdBsMMyxhi/FHWP9cwCyk6LiCdwIVUeRw7uYf9b4+hzdj1Lmt9G39tftAEUjTHliq82kVQRuSJ/oYgMAfYFLqTKYcf6ZWT9ayBtz2wmIe4FLp34iiUQY0y546smcj/wiYgsBhJxrhHpDfSjEt63oySlrPuBZnPGkiG12D36Y+JiBwQ7JGOMKZZCk4g7ZlVX4CacuwoKzgCMdxd0msv46expanx2D8eoTcjEhXRoHhXsiIwxptj8aRMpaqBFcwE8C/5E48zdvBj5dx62BGKMKedsGNjStPMHQpa9wXvZQ4m+9KpgR2OMMRfNn2FPTEnIPAHz7iGtWgv+4bmZxR1tHCxjTPlXaE1ERL51/z5feuFUYF/9ET2RyoNnfsPArq2pUc16Yhljyj9fNZEIERkIjBKRWeS7p7mqrgxoZBXJlq9g1b/ZEX03P65py7QezYMdkTHGlAhfSeRJ4DGce5fnH+5dgSGBCqpCOXUE5v8OwrvyavY1NKqVQb9LGgU7KmOMKRG+uvjOAeaIyP+p6rOlGFPF8tnv4dQRTo77gC+n7GN875ZUCbX+DMaYisGfoeCfFZFRQO4VcYtU9dPAhlVBrJsDG+bCFU/yRVpjzmTvYZSdyjLGVCBF/iQWkb8CDwAb3ccDbpnxJSMNPnsYWvSGyx7gk9V7aNmwBrGt6gc7MmOMKTH+dPEdCfRQVQ+AiEwDVgGPBzKwci/xXcg8BqNe5+CpbH7cdoh7BrVDRIpe1xhjygl/T857/3yuF4hAKpScbEh4Fy4ZAk078tnafXgURveIDHZkxhhTovypifwVWCUi3+F08x2A1UJ82/w5pO+FkS8C8MnqvXSKqEv7cLstvTGmYvGnYX2miCzCGcFXgEmquj/QgZVrK96Ceq2gwzB2HT7J6pRjPDbC7lRojKl4/Br2RFX3AfMDHEvFkLYZdv4PrngKQkKZv3ovAFfH2KksY0zFYxcslLQVb0NoNYi9BVVl3uo99GnTkOb1awQ7MmOMKXGWREpSVjqsngldroFajdmw9wTb005ag7oxpsLymUREJERE1pdWMOXe2tlwJh16TwRg/pq9VAkRruwaEeTAjDEmMHwmEffakDUi0qqU4im/VGH52xARAy3i8HiU+av3MrBDExrUqhbs6IwxJiD8aViPADaIyHLgZG6hqo4KWFTl0a4fIW0TjHodRJj+0072n8jk8SutV5YxpuLyJ4n8qTgbFpGWwHSgGeABpqjqqyLSEJgNRAHJwDhVPSrOpdyvAlcCp4Bbc4ebF5EJwBPupv+sqtPc8l7Ae0AN4HPgAVXV4sR70Va8DWH1oetYvli3jz99upFfdApnZDc7lWWMqbiKbFhX1e9xvuyrus9XAP7cSyQbeFhVOwHxwL0i0hlnePlvVbU98K07DTACaO8+7gLeAHCTzlNAX6AP8JSINHDXecNdNne94X7EVfLS98Om/0LPm1m+J5MHZq+mZ8v6/GN8Txux1xhTofkzAONEYA4w2S1qDswraj1V3Zdbk1DVdGCTu+5oYJq72DRgjPt8NDBdHUuB+iISAQwDvlHVI6p6FPgGGO7Oq6uqS9zax3SvbZWuxPfAk83ONjdw57QVtGhQg6kTetvdC40xFZ4/P5PvBfoBJwBUdSvQ9EJ2IiJRQE9gGRDuXryYexFj7raaAyleq6W6Zb7KUwsoL2j/d4lIgogkpKWlXUjoRcs5Cwnvkhk1mJs+SqN61VCm3dbHGtONMZWCP0kkS1XP5E6ISBWcOxv6RURqAx8BD6rqCV+LFlCmxSg/v1B1iqrGqWpckyZNigr5wiR9Chn7+cvB/qRnZvPebb1p2bBmye7DGGPKKH+SyPci8keghoj8EvgQ+K8/GxeRqjgJ5D+q+rFbfMA9FYX796Bbngq09Fq9BbC3iPIWBZSXKs+ytzgYGs7s4x158+ZedIm0QY6NMZWHP0nkMSANWAfcjdML6gmfawBub6upwCZV9b5H+3xggvt8AvCJV/kt4ogHjrunu74ChopIA7dBfSjwlTsvXUTi3X3d4rWtUuHZv4GQ3T/yTuZg/nZ9T/q3b1yauzfGmKDzZxRfj3sjqmU4p4s2+9mNth/wa2CdiKx2y/4IPAd8ICJ3ALuB6915n+N0792G08X3Nnf/R0TkWZxeYQDPqOoR9/lv+bmL7xfuo9Ss/eQVOmlVIgZPZLTd9tYYUwlJUflAREYCbwLbcdoh2gB3q2qpfmGXlLi4OE1ISCiRbe39Uwf2hbUj9tHP7I6FxpgKS0QSVTWuoHn+XGz4IjBYVbe5G7sE+IxS/tVf1uzbtZlIPcDuVhMsgRhjKi1/2kQO5iYQ1w5+bgyvtFJXLQCgabdfBDkSY4wJnkJrIiJyrft0g4h8DnyA0yZyPT+3T1RamryYY9QmqlOBNTxjjKkUfJ3Outrr+QFgoPs8DWhw/uKVS4vjieys1YOeoXZVujGm8io0iajqbaUZSHmS1x7SYkLRCxtjTAVWZMO6iLQBfocz6m7e8pV5KPjUVQuIwNpDjDHGn95Z83AuGvwvzpDulZ61hxhjjMOfJJKpqq8FPJJypPGJjeyq0ZkYaw8xxlRy/iSRV0XkKeBrICu3MHeY98pGPR6a5ezjYJ2+wQ7FGGOCzp8k0g1n+JIh/Hw6S93pSufw/hQaSxbSqG2wQzHGmKDzJ4lcA7T1Hg6+Mju4exONgRrh7YMdijHGBJ0/V6yvAeoHOpDy4uTezQA0atUxyJEYY0zw+VMTCQeSRGQF57aJVMouvtmHtnNWQwlvaTURY4zxJ4k8FfAoypHqJ5LZHxJOy6p2+1tjjPHnfiLfl0Yg5UXd06kcqd78nFstGmNMZVVkm4iIpIvICfeRKSI5IuLrXukVlno8NMveS2ad1sEOxRhjygR/aiJ1vKdFZAzQJ2ARlWFH0vbSSE6jDa17rzHGgH+9s86hqvOopNeIpCVvBKBGsw5BjsQYY8oGfwZgvNZrMgSIw7nYsNJJ37cFgIYtrXuvMcaAf72zvO8rkg0kA6MDEk0Zl31oO9kaYt17jTHG5U+biN1XxFXteDIHQprQvHpYsEMxxpgywdftcZ/0sZ6q6rMBiKdMq3s6hcPVW9A82IEYY0wZ4ath/WQBD4A7gEkBjqtMqpd9mMyw8GCHYYwxZYav2+O+mPtcROoADwC3AbOAFwtbr6JSj4f6eoKcGg2DHYoxxpQZPrv4ikhDEfkzsBYn4cSq6iRVPVgq0ZUhp06eoJpkI5ZEjDEmj682kb8D1wJTgG6qmlFqUZVBJ44coBYQUqtRsEMxxpgyw1dN5GEgEngC2Os19El6ZRz25OSxNACq1mkc5EiMMabs8NUmcsFXs1dkp487SaR6HauJGGNMLksUfso+7VS+qtduEORIjDGm7AhYEhGRd0TkoIis9yprKCLfiMhW928Dt1xE5DUR2SYia0Uk1mudCe7yW0Vkgld5LxFZ567zmohIoF4LQPbpdADCatUpYkljjKk8AlkTeQ8Ynq/sMeBbVW0PfOtOA4wA2ruPu4A3wEk6ODfF6oszcvBTuYnHXeYur/Xy76tEebKcfgVhteoFcjfGGFOuBCyJqOr/gCP5ikcD09zn04AxXuXT1bEUqC8iEcAw4BtVPaKqR4FvgOHuvLqqukRVFZjuta2A8GQ6NZFadex288YYk6u020TCVXUfgPu3qVveHEjxWi7VLfNVnlpAeYFE5C4RSRCRhLS0tOJFfuYk2RpC9bCaxVvfGGMqoLLSsF5Qe4YWo7xAqjpFVeNUNa5JkybFC/BMBqckDAkpK4fMGGOCr7S/EQ+4p6Jw/+Ze+Z4K59y2vAWwt4jyFgWUB0zI2ZNkYqP3GmOMt9JOIvOB3B5WE4BPvMpvcXtpxQPH3dNdXwFDRaSB26A+FPjKnZcuIvFur6xbvLYVECE5WWSJJRFjjPHmz02pikVEZgKDgMYikorTy+o54AMRuQPYDVzvLv45cCWwDTiFM9AjqnpERJ4FVrjLPaOquY31v8XpAVYD+MJ9BEyoJ4tsqRbIXRhjTLkTsCSiquMLmXVFAcsqcG8h23kHeKeA8gSg68XEeCFCcrI4G2JJxBhjvFkrsZ+qeM5YTcQYY/KxJOKnUD2LJyRgFTdjjCmXLIn4KUSz8UjVYIdhjDFliiURP4VojtVEjDEmH0sifgrVbFRCgx2GMcaUKZZE/BRCDh6xmogxxnizJOKnUM1G7XSWMcacw5KIn0I1B7WaiDHGnMOSiJ9CyUHFDpcxxnizb0U/heCBEGtYN8YYb5ZE/CSo1USMMSYf+1b0UwgK1sXXGGPOYUnET4In2CEYY0yZY0nET4KCnc4yxphz2LeinwRFC7wrrzHGVF6WRPwkajURY4zJz74V/WR1EGOMOZ8lET85bSKWSowxxpslET8JitVHjDHmXJZEjDHGFJslEWOMMcVmScQYY0yxWRK5AGoN68YYcw5LIsYYY4rNksgFEOudZYwx57AkYowxptgsiRhjjCk2SyLGGGOKzZLIBViTeizYIRhjTJliScQYY0yxlfskIiLDRWSziGwTkccCua9OzeoGcvPGGFPulOskIiKhwD+BEUBnYLyIdA7U/qpVKdeHyxhjSlx5/1bsA2xT1R2qegaYBYwOxI4+inyY0+2vDsSmjTGm3KoS7AAuUnMgxWs6FeibfyERuQu4C6BVq1bF2tGv755UrPWMMaYiK+81kYIuIdfzClSnqGqcqsY1adKkFMIyxpjKobwnkVSgpdd0C2BvkGIxxphKp7wnkRVAexFpIyLVgBuB+UGOyRhjKo1y3Saiqtkich/wFRAKvKOqG4IcljHGVBrlOokAqOrnwOfBjsMYYyqj8n46yxhjTBBZEjHGGFNslkSMMcYUm6ied1lFhSYiacCuYq7eGDhUguEEksUaGBZrYFisgVFSsbZW1QIvsqt0SeRiiEiCqsYFOw5/WKyBYbEGhsUaGKURq53OMsYYU2yWRIwxxhSbJZELMyXYAVwAizUwLNbAsFgDI+CxWpuIMcaYYrOaiDHGmGKzJGKMMabYLIn4oTTv436xROQdETkoIuuDHYsvItJSRL4TkU0iskFEHgh2TIURkTARWS4ia9xY/xTsmIoiIqEiskpEPg12LL6ISLKIrBOR1SKSEOx4fBGR+iIyR0SS3M/tpcGOqSAiEu0ez9zHCRF5MGD7szYR39z7uG8Bfolz/5IVwHhV3RjUwAohIgOADGC6qnYNdjyFEZEIIEJVV4pIHSARGFMWj6uICFBLVTNEpCqwGHhAVZcGObRCicjvgTigrqpeFex4CiMiyUCcqpb5i/dEZBrwg6q+7d56oqaqHgt2XL643197gL6qWtyLrH2ymkjRSu0+7iVBVf8HHAl2HEVR1X2qutJ9ng5swrndcZmjjgx3sqr7KLO/vkSkBTASeDvYsVQUIlIXGABMBVDVM2U9gbiuALYHKoGAJRF/FHQf9zL5ZVdeiUgU0BNYFtxICueeHloNHAS+UdUyGyvwCvAo4Al2IH5Q4GsRSRSRu4IdjA9tgTTgXfc04dsiUivYQfnhRmBmIHdgSaRoft3H3RSPiNQGPgIeVNUTwY6nMKqao6o9cG7B3EdEyuSpQhG5CjioqonBjsVP/VQ1FhgB3Oueji2LqgCxwBuq2hM4CZT19tFqwCjgw0Dux5JI0ew+7gHiti98BPxHVT8Odjz+cE9hLAKGBzmUwvQDRrltDbOAISLyfnBDKpyq7nX/HgTm4pw+LotSgVSvGugcnKRSlo0AVqrqgUDuxJJI0ew+7gHgNlZPBTap6kvBjscXEWkiIvXd5zWAXwBJwY2qYKr6uKq2UNUonM/qQlW9OchhFUhEarmdKnBPDQ0FymSvQlXdD6SISLRbdAVQ5jqB5DOeAJ/Kggpwe9xAK2/3cReRmcAgoLGIpAJPqerU4EZVoH7Ar4F1blsDwB/d2x2XNRHANLenSwjwgaqW6a6z5UQ4MNf5PUEVYIaqfhnckHz6HfAf98fkDuC2IMdTKBGpidOj9O6A78u6+BpjjCkuO51ljDGm2CyJGGOMKTZLIsYYY4rNkogxxphisyRijDHl3IUMvCoiA0RkpYhki8h1BcyvKyJ7ROR1f/ZtScQYY8q/9/D/AtjdwK3AjELmPwt87++OLYkYY0w5V9DAqyJyiYh86Y5L9oOIdHSXTVbVtRQwtpqI9MK5fudrf/dtScSYIojIIhEZlq/sQRH5l491MgqbV4Jx3e/e1+I/Bcy7W0RURDp5lW1yB7s0lcMU4Heq2gt4BCj08wogIiHAi8AfLmQndsW6MUWbiTOEyFdeZTdygf9sAXAPMEJVdxYwrzuwGmdI+E0iUh3nF2bAhgQ3ZYc7sOllwIfuiAAA1YtY7R7gc1VN8VqnSFYTMaZoc4Cr3C/i3KHrI4HFIjLPPV2woaChzEUkyruxU0QeEZGnvaZvdu+auFpEJrtDq+Tfxu9FZL37eNAtexNnePL5IvJQATF3+3/t3U+ITWEYx/HvTxbYTJmamgVW8q/MMMQURbOwsaBMaMrCpCw0KxtlZTULsVYSK9lgISmpwcJkiozY2thYTGyQfz0Wz8u9c3HvmWM2us1psQAAAh9JREFUw+9Tt26d+77n3Lqd57zPOfd5gHEyiABsIOuUuUTF/2ER8C4i+pte6zqMGQROlOKdZ4Ejksar7MjM2oiIGeAxjRuXh4Br5YR8tKQLtgBjkrqrzltSTQfJcuj9wDdgpOUzA2SNpm3AduCYpE0RcZysJr07Is7/Zvr1ZKHQHkldZFB5XvXYbGErbRVeSRqGLHgqqa/DmJGIWFmKd54ku6N2LHfvIGJWzY+UFsxu9DMm6RkwSbYMWD2HOYeAAWCqFKEcIlcXzXYANyLifemueB3Y2W5SSSuAmYj4CNwF9pDprek5HJstIKXw6iNgjaTXkkbJC5LR8vt8QenIKmlrKc46DFyQ9FcFZX1PxKyam8A5SZuBpaU3/C6yLPxgRHyQNAEsaRn3ldkXa83bBVyJiFNt9ls9Od2wkcaq4zZ5Mukt38H+QRFx+A+bfnnsNyKmyL5I7ea7TD423JFXImYVlFXABHCJxiqkC3hbAshaMt3U6g2ZUuou91T2Nm27BxyQ1AMgabmkVS3jHwD7JC0rPTf2Aw87HG5z6uo+uXJpDixm88ZBxKy6q0Af2TEQ4A6wWNI0+QetydYBEfEFOEP2j79FUzOriHgJnCZ7jE+TqafelvFPyCvCx2WOixHxtMNx/gwiEfGpvP9cujKazSv3EzEzs9q8EjEzs9ocRMzMrDYHETMzq81BxMzManMQMTOz2hxEzMysNgcRMzOr7TuFwLKh4If+hgAAAABJRU5ErkJggg==\n",
      "text/plain": [
       "<Figure size 432x288 with 1 Axes>"
      ]
     },
     "metadata": {
      "needs_background": "light"
     },
     "output_type": "display_data"
    }
   ],
   "source": [
    "average_samples = []\n",
    "for x in range(0,31):\n",
    "    average_samples.append(np.mean(samples[x]))\n",
    "\n",
    "plt.plot(average_samples, average_operations, label = 'Average Operations')\n",
    "plt.plot(average_samples, average_max_operations, label = 'Average Max Operations')\n",
    "plt.title('Average Number of Operations for Increasing $N$')\n",
    "plt.xlabel('Value of $N$')\n",
    "plt.ylabel('Number of Operations')\n",
    "plt.legend()\n",
    "plt.show()"
   ]
  },
  {
   "cell_type": "markdown",
   "metadata": {},
   "source": [
    "As we can see above, the operations actually performed by the function is close to this worst-case scenario often so it turns out the graphs look pretty much identical. Therefore, since the worst-case scenario is where we iterate the function $10 \\cdot N^{0.25}$ times, the graph has this shape, which would suggest that the time complexity is indeed $O(N^{0.25})$. Now, we will check if the average run time for the Pollard Rho also has this shape, and then we have strong evidence to support the time complexity being $O(N^{0.25})$.\n",
    "\n",
    "The reason why the worst-case scenario and actual scenario are so similar is because I have coded the $N's$ to be generated such that the two non-trivial prime factors $p$ and $q$ are of the same bit length, meaning that the factors are quite large, especially for a larger bit size of $N$. This makes it more of a worst case scenario because as I stated at the start of this section, Pollard Rho is most effective when factorising small factors."
   ]
  },
  {
   "cell_type": "markdown",
   "metadata": {},
   "source": [
    "#### Average Run Time\n",
    "\n",
    "Now, we will check if the average run time of the Pollard Rho function also has the shape of $O(N^{0.25})$.\n",
    "\n",
    "Again, we will not use our average time function from earlier because in this case, we want to know what our sample values were so we are able to plot a graph with these $N$."
   ]
  },
  {
   "cell_type": "code",
   "execution_count": 45,
   "metadata": {},
   "outputs": [],
   "source": [
    "a = 20\n",
    "b = 50\n",
    "c = 4\n",
    "\n",
    "samples1 = generate_sampleNbits(a,b,c)\n",
    "sample_size = c\n",
    "\n",
    "start = []\n",
    "end = []\n",
    "total_time = []\n",
    "average_time = []\n",
    "for i in range(b-a+1):\n",
    "    start.append(process_time())           \n",
    "    for n in samples1[i]:\n",
    "        pollard_rho_N(n)\n",
    "    end.append(process_time())  \n",
    "\n",
    "for j in range(b-a+1):\n",
    "    total_time.append(end[j] - start[j])\n",
    "for k in range(b-a+1):\n",
    "    average_time.append(total_time[k] / sample_size)\n"
   ]
  },
  {
   "cell_type": "code",
   "execution_count": 58,
   "metadata": {},
   "outputs": [
    {
     "data": {
      "image/png": "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\n",
      "text/plain": [
       "<Figure size 432x288 with 1 Axes>"
      ]
     },
     "metadata": {
      "needs_background": "light"
     },
     "output_type": "display_data"
    }
   ],
   "source": [
    "average_samples1 = []\n",
    "for x in range(0,31):\n",
    "    average_samples1.append(np.mean(samples1[x]))      #average value of N for each bit size in our sample\n",
    "best_fit = []\n",
    "for y in range(0,31):\n",
    "    best_fit.append(0.00115*(average_samples1[y]**0.25))  \n",
    "\n",
    "plt.title('Average Pollard Rho Run Times for Increasing $N$')\n",
    "plt.plot(average_samples1, average_time, label = 'Average Time')\n",
    "plt.plot(average_samples1, best_fit, label = '$0.00115 \\cdot N^{0.25}$')\n",
    "plt.xlabel('Value of $N$')\n",
    "plt.ylabel('Run Time (secs)')\n",
    "plt.legend()\n",
    "plt.show()"
   ]
  },
  {
   "cell_type": "markdown",
   "metadata": {},
   "source": [
    "We can see that the run time for the Pollard Rho function also follows a graph of $c \\cdot N^{0.25}$ for some constant $c$. So we are able to say with reasonable confidence that the time complexity is indeed $O(N^{0.25})$ as stated in the question. Furthermore, now we are able to extrapolate the graph of our run times since we know what this value is $c$ now. We did this from trying different values of $c$ until we got a graph which aligned with our average run times."
   ]
  },
  {
   "cell_type": "markdown",
   "metadata": {},
   "source": [
    "### Feasibility of the Pollard Rho Function\n",
    "\n",
    "Similarly to when checking the feasibility of the decompose function, we will say that the function stops becoming feasible once the average run time is longer than $2$ years. \n",
    "\n",
    "We know that the expected running time for the Pollard Rho function is $c \\cdot N^{0.25}$ where $c = 0.00115$. Therefore, we can conjecture that this function becomes infeasible when \n",
    ">$0.00115 \\cdot N^{0.25} = 63070000$\n",
    "\n",
    "This is because $63070000$ is roughly the number of seconds in $2$ years. \n",
    ">$0.00115 \\cdot N^{0.25} = 63070000 \\implies N^{0.25} = 54843478260.9 \\implies N = 54843478260.9^4$\n",
    "\n",
    "> $N \\approx 9.0469036 \\times 10^{42}$"
   ]
  },
  {
   "cell_type": "code",
   "execution_count": 60,
   "metadata": {},
   "outputs": [
    {
     "data": {
      "text/plain": [
       "143"
      ]
     },
     "execution_count": 60,
     "metadata": {},
     "output_type": "execute_result"
    }
   ],
   "source": [
    "len(bin(9046903600000000000000000000000000000000000)) - 2"
   ]
  },
  {
   "cell_type": "markdown",
   "metadata": {},
   "source": [
    "Now we have that the number of bits in this value of $N$ is $143$ from the code above so we can conjecture that the Pollard Rho function becomes infeasible at roughly $143$ bits when decomposing a product of two primes."
   ]
  },
  {
   "cell_type": "markdown",
   "metadata": {},
   "source": [
    "##  Pollard p-1 Algorithm\n",
    "\n",
    "If we know a number $N$ is the product of two primes, $p$ and $q$ we can use the Pollard $p-1$ Algorithm to find $p$ and $q$. So if we have:\n",
    "\n",
    "$N=pq$\n",
    "\n",
    "We know by Fermat's little theorem, that for $a$ and prime number $p$, where $gcd(a,p)=1$:\n",
    "\n",
    "$a^{p-1} \\equiv 1 (mod p)$\n",
    "\n",
    "We don't know $p$ but we can work with it. Take arbitary $L \\in \\mathbb{N}$. Now we suppose $p-1$ is a factor of $L$ then:\n",
    "\n",
    "$p-1|L$\n",
    "\n",
    "Now using Fermats little theorem again:\n",
    "\n",
    "$a^{L} \\equiv (a^{p-1})^{k} \\equiv 1(mod p)$\n",
    "\n",
    "So $p$ divides $a^{L}-1$. Since $p$ is a factor of $N$, $gcd(a^{L}-1,N)$ will include $p$.\n",
    "\n",
    "Now how do we find $L$?\n",
    "\n",
    "\n",
    "Since $p-1$ is not prime it is the product of prime numbers:\n",
    "\n",
    "$p-1 = p_{1}^{e_{1}}  \\times  p_{2}^{e_{2}}  \\times  ... $\n",
    "\n",
    "Where for some number $B$,\n",
    "\n",
    "$\\forall   p_{i} \\leq B$\n",
    "\n",
    "This property makes $p-1$ $B$-power smooth. Let $L$ be the least common multiple of all powers of primes $\\leq b$ that are $\\leq n$. If $l^{q} \\leq n$ , then $q\\space$ln $l \\leq$ ln $n$ and so $q\\leq \\lfloor \\frac{ln\\space n}{ln\\space l} \\rfloor$. Thus\n",
    "\n",
    "$$ L = \\prod_{primes \\space   l \\leq B} q^{\\lfloor ln \\space n \\space/\\space ln\\space l \\rfloor} $$\n",
    "\n",
    "\n",
    "### Algorithm\n",
    "\n",
    "\n",
    "$\\bullet$ Select $B$\n",
    "\n",
    "$\\bullet$ select random integer $a$, between 2 and $n-1$. Compute gcd($a,n$). If gcd($a,n$)$\\geq 2$ then return $gcd(a,n)$\n",
    "\n",
    "$\\bullet$ For each prime $l\\leq B$:\n",
    "           Compute $q\\leq \\lfloor \\frac{ln(n)}{ln(l)} \\rfloor$ and set $a = a^{l^q} (mod n)$\n",
    "           \n",
    "           \n",
    "$\\bullet$ Compute $d \\space = \\space gcd(a,n)$\n",
    "\n",
    "\n",
    "$\\bullet$ If $d=1$ then increase $B$. If $d=n$ then reduce $B$ and then start over again. Otherwise return $d$."
   ]
  },
  {
   "cell_type": "code",
   "execution_count": 63,
   "metadata": {},
   "outputs": [],
   "source": [
    "def primes(n):\n",
    "    alist = []\n",
    "    for i in range(n+1):\n",
    "        if is_prime_miller_rabin(i,40) == True:\n",
    "            alist.append(i)\n",
    "    return alist\n",
    "\n",
    "\n",
    "def pow_mod_pingala(base,exponent,modulus):\n",
    "    n = 1                            # n will be updated as shown above \n",
    "    bin_string = bin(exponent)[2:]   # Get exponent in binary \n",
    "    for bit in bin_string:           # Iterate throught binary string\n",
    "        if bit == '1':              \n",
    "            n = n * n * base  %  modulus\n",
    "        if bit == '0':              # The only other possible case. \n",
    "            n = n * n  %  modulus\n",
    "    return n \n",
    "\n",
    "def pminus1(n):\n",
    "    b = math.ceil(n**0.5)           #this is the smoothness bound, set because all prime factors of N are less than the square root of N\n",
    "    alist = primes(b)\n",
    "    a = 2\n",
    "    d = gcd(a,n)\n",
    "    found = False\n",
    "    if d >= 2:\n",
    "        found = True\n",
    "        return d\n",
    "    else:\n",
    "        while found == False:\n",
    "            for q in alist:\n",
    "                l = math.floor(math.log(n,10)/math.log(q,10))\n",
    "                c = pow(q,l)\n",
    "                a = pow_mod_pingala(a,c,n)      #here, we are using modular exponentiation from the lecture notes which is a lot faster than pow\n",
    "                d = gcd(a-1, n)\n",
    "                if d == 1:\n",
    "                    b += 1\n",
    "                if d == n:\n",
    "                    b -= 1    \n",
    "                else:\n",
    "                    found == True\n",
    "                    return d, int(n/d)\n"
   ]
  },
  {
   "cell_type": "code",
   "execution_count": 13,
   "metadata": {},
   "outputs": [],
   "source": [
    "#Tests\n",
    "assert pminus1(551)[0] * pminus1(551)[1] == 551    #checking pminus1 works for 10 bit N\n",
    "assert pminus1(542257)[0] * pminus1(542257)[1] == 542257    #checking pminus1 works for 20 bit N\n",
    "assert pminus1(818810243)[0] * pminus1(818810243)[1] == 818810243    #checking pminus1 works for 30 bit N\n",
    "assert pminus1(30662248501)[0] * pminus1(30662248501)[1] == 30662248501    #checking pminus1 works for 35 bit N\n"
   ]
  },
  {
   "cell_type": "markdown",
   "metadata": {},
   "source": [
    "### How long does the Pollard p-1 Algorithm Take?\n",
    "\n",
    "We will run a few %timeit tests for increasing values of $N = pq$ to find out roughly how effective this algorithm is at factorising these numbers and then compare it to our previous algorithms."
   ]
  },
  {
   "cell_type": "code",
   "execution_count": 14,
   "metadata": {},
   "outputs": [
    {
     "name": "stdout",
     "output_type": "stream",
     "text": [
      "876 µs ± 51.8 µs per loop (mean ± std. dev. of 7 runs, 1000 loops each)\n"
     ]
    }
   ],
   "source": [
    "%timeit pminus1(551)                #timeit test for a 10 bit N"
   ]
  },
  {
   "cell_type": "code",
   "execution_count": 15,
   "metadata": {},
   "outputs": [
    {
     "name": "stdout",
     "output_type": "stream",
     "text": [
      "18.2 ms ± 392 µs per loop (mean ± std. dev. of 7 runs, 100 loops each)\n"
     ]
    }
   ],
   "source": [
    "%timeit pminus1(542257)             #timeit test for a 20 bit N"
   ]
  },
  {
   "cell_type": "code",
   "execution_count": 16,
   "metadata": {},
   "outputs": [
    {
     "name": "stdout",
     "output_type": "stream",
     "text": [
      "522 ms ± 7.02 ms per loop (mean ± std. dev. of 7 runs, 1 loop each)\n"
     ]
    }
   ],
   "source": [
    "%timeit pminus1(818810243)          #timeit test for a 30 bit N"
   ]
  },
  {
   "cell_type": "code",
   "execution_count": 17,
   "metadata": {},
   "outputs": [
    {
     "name": "stdout",
     "output_type": "stream",
     "text": [
      "3.22 s ± 44.2 ms per loop (mean ± std. dev. of 7 runs, 1 loop each)\n"
     ]
    }
   ],
   "source": [
    "%timeit pminus1(30662248501)        #timeit test for a 35 bit N"
   ]
  },
  {
   "cell_type": "code",
   "execution_count": 18,
   "metadata": {},
   "outputs": [
    {
     "name": "stdout",
     "output_type": "stream",
     "text": [
      "Approximate Running Times of our Factoring Algorithms for N = pq\n",
      " \n",
      "Bit Size   Pollard's p-1   Decompose   Pollard's Rho\n",
      "========   =============   =========   ============\n",
      "10         0.0009          0.0001      0.0001      \n",
      "20         0.02            0.003       0.01        \n",
      "30         0.5             0.1         0.1         \n",
      "35         3               0.6         0.3         \n"
     ]
    }
   ],
   "source": [
    "#these times are the runtimes to one significant figure we have found from earlier when testing each function for\n",
    "#10,20,30 and 35 bits \n",
    "\n",
    "bits = [10,20,30,35]\n",
    "rough_pminus1_times = [0.0009,0.02,0.5,3]\n",
    "rough_decompose_times = [0.0001,0.003,0.1,0.6]\n",
    "rough_rho_times = [0.0001,0.01,0.1,0.3]\n",
    "\n",
    "\n",
    "print(\"Approximate Running Times of our Factoring Algorithms for N = pq\")\n",
    "print(' ')\n",
    "print(\"Bit Size   Pollard's p-1   Decompose   Pollard's Rho\")\n",
    "print(\"========   =============   =========   ============\")\n",
    "for n in range(len(rough_pminus1_times)):\n",
    "    bitsn = str(bits[n])\n",
    "    pminus1_timen = str(rough_pminus1_times[n])\n",
    "    decompose_timen = str(rough_decompose_times[n])\n",
    "    rho_timen = str(rough_rho_times[n])\n",
    "    print(\"{:7s}    {:7s}         {:7s}     {:7s}     \".format(bitsn,pminus1_timen,decompose_timen,rho_timen))\n",
    "    \n",
    "    "
   ]
  },
  {
   "cell_type": "markdown",
   "metadata": {},
   "source": [
    "### Analysis of Results\n",
    "\n",
    "It is clear to see from these times that this algorithm is not as efficient as our decompose function and definitely not as efficient as our Pollard's Rho algorithm.\n",
    "\n",
    "We can see that for each bit size of N, the Pollard $p-1$ algorithm is consistently slower than the other two.\n",
    "\n",
    "This suggests to us that it is never advantageous to use Pollard's $p-1$ algorithm for any $N's$ because these other two functions are more efficient. \n",
    "\n",
    "In terms of an RSA setting of factorising $N$ when $N$ is very large, it is definitely not feasible to use Pollard's $p-1$ algorithm because even at a small bit size of $35$, the runtime is $3$ seconds which is $10$ times slower than our Pollard Rho algorithm which we have already concluded becomes infeasible at $169$ bits."
   ]
  },
  {
   "cell_type": "markdown",
   "metadata": {},
   "source": [
    "### Time Complexity of the Pollard p-1 Algorithm\n",
    "\n",
    "The time complexity of the Pollard p-1 method for finding a factor $p$ of $n$ such that $p-1$ is $B$-smooth is $O(\\frac{Bln(n)}{ln(B)})$.\n",
    "\n",
    "This time complexity is exponential like both of our previous algorithms so as the bit size of $N$ increases, the running time will increase at a faster rate. We are already able to see this happening from the bit sizes going from $10$ to $35$. This is becase from $10$ to $20$ bit sizes, the runtime increases by $0.1991$ seconds. However, from $20$ to $30$ bit sizes, the runtime increases by $0.58$ seconds."
   ]
  },
  {
   "cell_type": "markdown",
   "metadata": {},
   "source": [
    "## Lenstra Elliptic-Curve Factorisation"
   ]
  },
  {
   "cell_type": "markdown",
   "metadata": {},
   "source": [
    "Lenstra's Elliptic-Curve Factorisation algorithm is the third fastest method for factoring large numbers and is the best for finding small factors of $N$."
   ]
  },
  {
   "cell_type": "markdown",
   "metadata": {},
   "source": [
    "## Elliptic curve approach\n",
    "An elliptic curve is in the form: \n",
    "\n",
    "$$ y^{3} = x^{3} +Ax + B$$\n",
    "\n",
    "\n",
    "\n",
    "In the elliptic curve approach we replace $\\mathbb{Z} /p \\mathbb{Z} $ with rational points $\\mathbb{F}_{p}$ on the elliptic curve $E(\\mathbb{F}_{p})$. Instead of $a^{k}$ we calculate $kP$ on a point $P\\in E(\\mathbb{F}_{p})$. When the number of rational points on the curve (#$E(\\mathbb{F}_{p})$) divides $k$ then $kP=O$, where $O$ is the infinite point on the curve, it will provide a factor of $n$. If #$E(\\mathbb{F}_{p})$$\\nmid k$ we select another curve $E^{'}(\\mathbb{F}_{p})$ which will have value #$E^{'}(\\mathbb{F}_{p})$. This will be random in the Hasse-Weil bound that states for a curve $E(\\mathbb{F}_{p})$,   $1+p-\\sqrt{2p}<$#$E(\\mathbb{F}_{p})$$<1+p + \\sqrt{2p}$.\n",
    "\n",
    "To calculate multiples of $P\\in E(\\mathbb{F}_{p})$ we will use repeated addition and doubling. We will work over $\\mathbb{Z} /n \\mathbb{Z} $. We know this is not a field as some elements $g \\in \\mathbb{Z} /n \\mathbb{Z}$ do not have inverses but this happens when $gcd(g,n) \\neq 1$ which is what we're looking for. Since we are using repeated addition and doubling, it is important to look at the formula for adding two points $P$ and $Q$ on the curve $E$ to get a point $R$\n",
    "\n",
    "$$ x_{R} = \\lambda^{2} - x_{P} - x_{Q}$$\n",
    "$$ y_{R} = y_{Q} + \\lambda (x_{R} - x_{Q})$$\n",
    "\n",
    "if $x_{P} \\neq x_{Q}$: \n",
    "\n",
    "$$ \\lambda = (y_{P} - y_{Q})(x_{P} - x_{Q})^{-1}$$\n",
    "\n",
    "if $x_{P} = x_{Q}$:\n",
    "\n",
    "$$ \\lambda = (3x_{p}^{2} + A)(2y_{p})^{-1} $$\n",
    "\n",
    "We will check if $x_{P} - x_{Q}$ and $2y_{p}$ have inverses in their respected cases.\n",
    "\n",
    "### Algorithm\n",
    "\n",
    "$\\bullet$ Choose random $A$, $x_{p}$, $y_{p}$ such that $1< A, x_{p}, y_{p} < n$.\n",
    "\n",
    "$\\bullet$ Calculate $B$ using elliptic curve formula\n",
    "\n",
    "$\\bullet$ Check curve is non-singular by seeing that $gcd(4A^{3} + 27B^{2}, n)=1$. If it equals $n$ then generate a different curve. If it is between $1$ and $n$, we're done.\n",
    "\n",
    "$\\bullet$ Using your chosen $K$ compute $lcm(1,....,K)$\n",
    "\n",
    "$\\bullet$ Attempt to compute $kP$. If the formula doesn't fail then change the curve.  After a while if this still doesn't produce a factor, increase $k$ and repeat\n",
    "\n",
    "$\\bullet$ If the formula does fail return the $gcd$ of either $x_{P} - x_{Q}$ or $2y_{p}$ with $n$ depending on the case.\n",
    "\n"
   ]
  },
  {
   "cell_type": "code",
   "execution_count": 64,
   "metadata": {},
   "outputs": [],
   "source": [
    "def modular_inv(a, b):\n",
    "    if b == 0:\n",
    "        return 1, 0, a\n",
    "    q, r = divmod(a, b)\n",
    "    x, y, g = modular_inv(b, r)\n",
    "    return y, x - q * y, g\n",
    "\n",
    "    \n",
    "# Addition in Elliptic curve modulo m space\n",
    "def elliptic_add(p, q, a, b, m):\n",
    "    # If one point is infinity, return other one\n",
    "    if p[2] == 0:\n",
    "        return q\n",
    "    if q[2] == 0: \n",
    "        return p\n",
    "    if p[0] == q[0]:\n",
    "        if (p[1] + q[1]) % m == 0:\n",
    "            return 0, 1, 0  # Infinity\n",
    "        num = (3 * p[0] * p[0] + a) % m\n",
    "        denom = (2 * p[1]) % m\n",
    "    else:\n",
    "        num = (q[1] - p[1]) % m\n",
    "        denom = (q[0] - p[0]) % m\n",
    "    inv, _, g = modular_inv(denom, m)\n",
    "    # Unable to find inverse, arithmetic breaks\n",
    "    if g > 1:\n",
    "        return 0, 0, denom  # Failure\n",
    "    z = (num * inv * num * inv - p[0] - q[0]) % m\n",
    "    return z, (num * inv * (p[0] - z) - p[1]) % m, 1\n",
    "\n",
    "# Multiplication (repeated addition and doubling)\n",
    "def elliptic_mul(k, p, a, b, m):\n",
    "    r = (0, 1, 0)  # Infinity\n",
    "    while k > 0:\n",
    "        # p is failure, return it\n",
    "        if p[2] > 1:\n",
    "            return p\n",
    "        if k % 2 == 1:\n",
    "            r = elliptic_add(p, r, a, b, m)\n",
    "        k = k // 2\n",
    "        p = elliptic_add(p, p, a, b, m)\n",
    "    return r\n",
    "\n",
    "\n",
    "# Lenstra's algorithm for factoring\n",
    "# Limit specifies the amount of work permitted\n",
    "def lenstra(n, limit):\n",
    "    g = n\n",
    "    while g == n:\n",
    "        # Randomized x and y\n",
    "        q = ran.randint(0, n - 1), ran.randint(0, n - 1), 1\n",
    "        # Randomized curve coefficient a, computed b\n",
    "        a = ran.randint(0, n - 1)\n",
    "        b = (q[1] * q[1] - q[0] * q[0] * q[0] - a * q[0]) % n\n",
    "        g = gcd(4 * a * a * a + 27 * b * b, n)  # singularity check\n",
    "    # If we got lucky, return lucky factor\n",
    "    if g > 1:\n",
    "        return g, n//g\n",
    "    # increase k step by step until lcm(1, ..., limit)\n",
    "    for p in primes(limit):\n",
    "        pp = p\n",
    "        while pp < limit:\n",
    "            q = elliptic_mul(p, q, a, b, n)\n",
    "            # Elliptic arithmetic breaks\n",
    "            if q[2] > 1:\n",
    "                return gcd(q[2], n), n//gcd(q[2],n)\n",
    "            pp = p * pp\n",
    "    return False"
   ]
  },
  {
   "cell_type": "code",
   "execution_count": 127,
   "metadata": {},
   "outputs": [],
   "source": [
    "#Tests\n",
    "#These assert checks work most of the time, if it does not work, the lenstra function has returned False, but if we \n",
    "#run the checks again, it is likely the asserts will run because lenstra returns factors with high probability\n",
    "\n",
    "a = lenstra(551,1000)\n",
    "assert a[0] * a[1] == 551    #checking lenstra works for 10 bit N\n",
    "b = lenstra(542257,1000)\n",
    "assert b[0] * b[1] == 542257    #checking lenstra works for 20 bit N\n",
    "c = lenstra(818810243,1000)\n",
    "assert c[0] * c[1] == 818810243    #checking lenstra works for 30 bit N\n",
    "d = lenstra(30662248501,1000)\n",
    "assert d[0] * d[1] == 30662248501    #checking lenstra works for 35 bit N\n"
   ]
  },
  {
   "cell_type": "markdown",
   "metadata": {},
   "source": [
    "### How long does the Lenstra's Algorithm Take?\n",
    "\n",
    "As before, we will run a few %timeit tests for increasing values of $N = pq$ to find out roughly how effective this algorithm is at factorising these numbers and then compare it to our previous algorithms."
   ]
  },
  {
   "cell_type": "code",
   "execution_count": 129,
   "metadata": {},
   "outputs": [
    {
     "name": "stdout",
     "output_type": "stream",
     "text": [
      "26.8 ms ± 5.39 ms per loop (mean ± std. dev. of 7 runs, 10 loops each)\n"
     ]
    }
   ],
   "source": [
    "%timeit lenstra(551,1000)                #timeit test for a 10 bit N"
   ]
  },
  {
   "cell_type": "code",
   "execution_count": 134,
   "metadata": {},
   "outputs": [
    {
     "name": "stdout",
     "output_type": "stream",
     "text": [
      "28.3 ms ± 4.1 ms per loop (mean ± std. dev. of 7 runs, 10 loops each)\n"
     ]
    }
   ],
   "source": [
    "%timeit lenstra(542257,1000)          #timeit test for a 20 bit N"
   ]
  },
  {
   "cell_type": "code",
   "execution_count": 135,
   "metadata": {},
   "outputs": [
    {
     "name": "stdout",
     "output_type": "stream",
     "text": [
      "33.3 ms ± 2.3 ms per loop (mean ± std. dev. of 7 runs, 10 loops each)\n"
     ]
    }
   ],
   "source": [
    "%timeit lenstra(818810243,1000)          #timeit test for a 30 bit N"
   ]
  },
  {
   "cell_type": "code",
   "execution_count": 136,
   "metadata": {},
   "outputs": [
    {
     "name": "stdout",
     "output_type": "stream",
     "text": [
      "44.5 ms ± 3.5 ms per loop (mean ± std. dev. of 7 runs, 10 loops each)\n"
     ]
    }
   ],
   "source": [
    "%timeit lenstra(30662248501,1000)        #timeit test for a 35 bit N"
   ]
  },
  {
   "cell_type": "code",
   "execution_count": 169,
   "metadata": {},
   "outputs": [
    {
     "name": "stdout",
     "output_type": "stream",
     "text": [
      "Approximate Running Times of our Factoring Algorithms for N = pq\n",
      " \n",
      "Bit Size   Lenstra   Decompose   Pollard's Rho   Pollard's p-1\n",
      "========   =======   =========   =============   =============\n",
      "10         0.03      0.0001      0.0001          0.0009 \n",
      "20         0.03      0.003       0.01            0.02   \n",
      "30         0.03      0.1         0.1             0.6    \n",
      "35         0.04      0.6         0.3             3      \n"
     ]
    }
   ],
   "source": [
    "#these times are the runtimes to one significant figure we have found from earlier when testing each function for\n",
    "#10,20,30 and 35 bits \n",
    "\n",
    "rough_lenstra_times = [0.03,0.03,0.03,0.04]\n",
    "\n",
    "print(\"Approximate Running Times of our Factoring Algorithms for N = pq\")\n",
    "print(' ')\n",
    "print(\"Bit Size   Lenstra   Decompose   Pollard's Rho   Pollard's p-1\")\n",
    "print(\"========   =======   =========   =============   =============\")\n",
    "for n in range(len(rough_pminus1_times)):\n",
    "    bitsn = str(bits[n])\n",
    "    pminus1_timen = str(rough_pminus1_times[n])\n",
    "    decompose_timen = str(rough_decompose_times[n])\n",
    "    rho_timen = str(rough_rho_times[n])\n",
    "    lenstra_timen = str(rough_lenstra_times[n])\n",
    "    print(\"{:7s}    {:7s}   {:7s}     {:7s}         {:7s}\".format(bitsn,lenstra_timen,decompose_timen,rho_timen,pminus1_timen))\n",
    "    \n",
    "    "
   ]
  },
  {
   "cell_type": "markdown",
   "metadata": {},
   "source": [
    "### Analysis of Results\n",
    "\n",
    "From these results, we can see that Lenstra's algorithm far outperforms all other algorithms when factorising larger $N$ of bit size $35$. Also, judging by the way the approximate running time of Lenstra's algorithm stays roughly the same ffrom bit sizes $10$ to $35$, it is not an unreasonable assumption that Lenstra's will be able to factorise far larger $N$ than Pollard's Rho, Pollard's $p-1$ and the decompose function could. We will test this claim in more detail later through more %timeit tests for larger bit sizes of $N$.\n",
    "\n",
    "However, for small bit sizes of $20$ or less, all other algorithms are faster, even Pollard's $p-1$! \n",
    "\n",
    "Therefore, if we ever decided to implement our own factoring algorithm for $N = pq$ using all of these algorithms, we would use the decompose function up to a bit size of about $20$ and from here, use Lenstra's algorithm to factorise all other larger"
   ]
  },
  {
   "cell_type": "markdown",
   "metadata": {},
   "source": [
    "### Tests for Larger $N$\n",
    "\n",
    "For these larger $N$, we have increased the amount of work permitted to be done by the algorithm by $10$ times so it still returns factors of $N$ with reasonably high probability."
   ]
  },
  {
   "cell_type": "code",
   "execution_count": 84,
   "metadata": {},
   "outputs": [
    {
     "data": {
      "text/plain": [
       "782057011584921932569"
      ]
     },
     "execution_count": 84,
     "metadata": {},
     "output_type": "execute_result"
    }
   ],
   "source": [
    "generate_Nbits(70)"
   ]
  },
  {
   "cell_type": "code",
   "execution_count": 235,
   "metadata": {},
   "outputs": [
    {
     "name": "stdout",
     "output_type": "stream",
     "text": [
      "285 ms ± 113 ms per loop (mean ± std. dev. of 7 runs, 1 loop each)\n"
     ]
    }
   ],
   "source": [
    "%timeit lenstra(706542481693,10000)           #timeit test for a 40 bit N"
   ]
  },
  {
   "cell_type": "code",
   "execution_count": 237,
   "metadata": {},
   "outputs": [
    {
     "name": "stdout",
     "output_type": "stream",
     "text": [
      "359 ms ± 158 ms per loop (mean ± std. dev. of 7 runs, 1 loop each)\n"
     ]
    }
   ],
   "source": [
    "%timeit lenstra(33629819514581,10000)         #timeit test for a 45 bit N"
   ]
  },
  {
   "cell_type": "code",
   "execution_count": 239,
   "metadata": {},
   "outputs": [
    {
     "name": "stdout",
     "output_type": "stream",
     "text": [
      "531 ms ± 151 ms per loop (mean ± std. dev. of 7 runs, 1 loop each)\n"
     ]
    }
   ],
   "source": [
    "%timeit lenstra(915925713947053,10000)        #timeit test for a 50 bit N"
   ]
  },
  {
   "cell_type": "code",
   "execution_count": 83,
   "metadata": {},
   "outputs": [
    {
     "name": "stdout",
     "output_type": "stream",
     "text": [
      "4.48 s ± 1.9 s per loop (mean ± std. dev. of 7 runs, 1 loop each)\n"
     ]
    }
   ],
   "source": [
    "%timeit lenstra(619664021840893559,100000)    #timeit test for a 60 bit N, increased amount of work dony by 10 times"
   ]
  },
  {
   "cell_type": "markdown",
   "metadata": {},
   "source": [
    "These results give further evidence that Lenstra's algorithm is far better at factorsing $N$ as a product of two primes than any of the previous algorithms we have looked at. Especially for large bit sizes due to its sub-exponential running time which we will discuss in the next section."
   ]
  },
  {
   "cell_type": "markdown",
   "metadata": {},
   "source": [
    "### Time Complexity of Lenstra's Algorithm\n",
    "\n",
    "Out of all of the factoring algorithms which we have seen, Lenstra's Elliptic Curve factoring algorithm is the only one which has a sub-exponential running time making it easily the most effective out of all of them to factorise large $N$. \n",
    "\n",
    "The Handbook of Applied Cryptography states in chapter $3$ that the expected running time of Lenstra's algorithm for $N = pq$ where $p$, $q$ are primes of similar size is as follows.\n",
    "\n",
    "$L_N[0.5, 1] = O(exp((1 + o(1))(ln(N)^{0.5}(ln(ln(N))^{0.5})$\n",
    "\n",
    "This is actually the same as the time complexity as the quadratic sieve algorithm which is the second fastest known factoring algorithm after the number field sieve factoring algorithm discovered in $1990$. However, in practise, Lenstra's algorithm is still slower than the quadratic sieve because the operations in the quadratic sieve are single precision operations whilst in Lenstra's algorithm, the operations are more computationally intensive multi-precision elliptic curve operations. \n",
    "\n"
   ]
  }
 ],
 "metadata": {
  "kernelspec": {
   "display_name": "Python 3",
   "language": "python",
   "name": "python3"
  },
  "language_info": {
   "codemirror_mode": {
    "name": "ipython",
    "version": 3
   },
   "file_extension": ".py",
   "mimetype": "text/x-python",
   "name": "python",
   "nbconvert_exporter": "python",
   "pygments_lexer": "ipython3",
   "version": "3.7.4"
  }
 },
 "nbformat": 4,
 "nbformat_minor": 2
}

  {
   "cell_type": "markdown",
   "metadata": {},
   "source": [
    "### Sophie Germain Prime\n",
    "\n",
    "First, before discussing the Diffie-Hellman protcol, we will be discussing what a Sophie Germain prime is and why it is useful in many situations for cryptography. Simply a Sophie Germain prime is a prime $q$ such that $p = 2q+1$ is also a prime which is called the complimentary safe prime of the $q$. The complimentary safe prime is very useful due to one of the properties it exhibits, to see this property we look at the prime decomposition of $p-1$.\n",
    "\n",
    "> $p - 1 = (2q + 1) - 1 = 2q$\n",
    "\n",
    "By doing this we already have the prime decompostion of $p-1$, it is simply $2q$. Now if you're wondering why this is useful, we must first discuss primitive roots. \n",
    "\n",
    "A primitive root of a prime $p$ is a value we will call $a$, where $a$ is an integer such that the smallest value $l$, known as the multiplicative order of $a$ relative to $p$, for which,\n",
    "\n",
    "> $a^{l} \\equiv 1mod(p)$\n",
    "\n",
    "is true is:\n",
    "\n",
    "> $l = p-1$\n",
    "\n",
    "It was proven by the German mathmatician Gauss, that all primes have a primitive root and that the amount of primitive roots a prime has is equal to  $\\phi{(p-1)}$, where  $\\phi$ is Eulers totient, so we do not have to worry about a lack of primitive roots. Now a useful fact we can use is that the multiplicative order of $a mod(p)$ will always be a divisior of $p-1$. Thus we have found the use for a Sophie Germain prime, since we know the prime factorization of $p-1$ where $p$ is the complementary safe prime to some Sophie Germain prime $p$, we can use this to easily test if a value $a$ is a primitive root of the complementary safe prime. To do this all we have to do is check if for the safe prime p, any of the following are true:\n",
    "\n",
    ">$a^{1} \\equiv 1mod(p)$\n",
    "\n",
    ">$a^{2} \\equiv 1mod(p)$\n",
    "\n",
    ">$a^{\\frac{(p-1)}{2}} \\equiv 1mod(p)$\n",
    "\n",
    "We only have to check this since we know the multiplicative order of $a mod(p)$ is a divisor of $2q$, so the multiplicative order must be $1,2$ or $q$, hence if none of the above are true, then the multiplicative order is $2q$ which means $a$ is a primitive root of our safe prime. This will get us started on the Diffie-Hellman protocol, so first we write a function to get Sophie Germain primes, and their complementary safe primes along with a function to get primitive roots for complementary safe primes."
   ]
  },
  {
   "cell_type": "code",
   "execution_count": null,
   "metadata": {},
   "outputs": [],
   "source": [
    "def sgrandprime(n_bit,t): \n",
    "    \"\"\"This function returns a Sophie Germain prime, and its complementary safe prime.\"\"\"\n",
    "    while True: #Keeps searching untill we find a Sophie Germain prime\n",
    "        bits = False\n",
    "        while bits == False:\n",
    "            p = random_prime(n_bit-1, t, trails = 500) # We generate random primes here\n",
    "            if (2*p+1).bit_length() == n_bit:#We make sure the safe prime is of the desired bit length\n",
    "                bits = True \n",
    "        if is_prime_miller_rabin((2*p)+1,t = 40): #Check if the random prime is Sophie germain\n",
    "            return p, (2*p)+1\n",
    "\n",
    "\n",
    "\n",
    "def safe_primitive_root(publicp):\n",
    "    \"\"\"This will return a primitive root for a given complementary safe prime\n",
    "    for some Sophier Germain prime\"\"\"\n",
    "    q = publicp[1] #Safe prime\n",
    "    p = publicp[0] #Sophie germain prime\n",
    "    b = 2 #Start checking for primitive roots starting from a value of 2\n",
    "    primitive = False\n",
    "    while not primitive: #Keeps searching untill primitive root is found\n",
    "        if b%q == 1 or (b*b)%q == 1 or pow(b,p,q) == 1:   #if any of these are true, b is not a primitive root\n",
    "            b += 1\n",
    "            continue\n",
    "        else: #if none are true, then b is a primitive root.\n",
    "            primitive = True\n",
    "    return b"
   ]
  },
  {
   "cell_type": "markdown",
   "metadata": {},
   "source": [
    "### The Deffie-Hellman Protocol - First Steps\n",
    "\n",
    "Before discussing the first steps of the Diffie-Hellman protocol, we will discuss what the protocol does. This protocol allows two or more parties (In cryptography the first two parties are usually referred to as Alice and Bob) to generate a shared secret key that each party knows, and has access to, without ever having to communicate the key in any form. The importance here is that the secret key is not communicated between parties, because if it is, the key is then suseptible to being observed by an outside party. Thus from this it is easy to see why the Deffie-Hellman protocol is so useful. An example of one of the main uses of this is that it allows parties say Alice and Bob to send encrypted messages to each other using the secret key and then decrypt these message using the same secret key. Hence if an outside party was to observe one of these messages, without the secret key they will not be able to read the message (at least without knowing how they encrypted the message and any potential cracks for this method).\n",
    "\n",
    "So how does the Diffie-Hellman protocol work? First we will look at the two party situation, and we will call these parties Alice and Bob. To begin we need both Alice and Bob to have access to a very large safe prime $p$ (when discussing this protcol we will be using a 256 bit prime) and a primtive root of the prime we will call $g$, however unlike the secret key, $p$ and $g$ can be made public for anyone to have access to. Now when dicussing how the protocol works, you may soon notice that the safe prime Bob and Alice make public does not need to be a safe prime or even a prime at all and the primitive root can be any number for the protocol to work. Despite this we use a safe prime and a primitive root because hackers can calculate discrete logarithms (for example by using the Pohlig-Hellman protocol) to work out the secret key, however the algorithms hackers use is much faster if the number we make public here is not a safe prime, thus for security purposes we use a safe prime and one of the primitive roots for this prime. Hence by using our \"sgrandprime\" function above, we can generate a safe prime for Alice and Bob to use.\n",
    "\n",
    "Now in the next step we want Alice and Bob to generate a private key for themselves, they can not tell each other about these keys nor anyone else, this is for them and only them to know and have access to. This private key is a random number, for alice we will call her private key $a$ and for Bob $b$, however the larger the private key again the better as it makes it harder for hackers to get access to the secret key so again we generate 256 bit random numbers. \n",
    "\n",
    "Below we will generate the safe prime $p$ and primitive root $g$ using the functions from before, also we will make a function to generate our the private keys $a$ and $b$."
   ]
  },
  {
   "cell_type": "code",
   "execution_count": null,
   "metadata": {},
   "outputs": [],
   "source": [
    "\n",
    "def Private_keys(n):\n",
    "    \"\"\"This function simply\"\"\"\n",
    "    keys = []\n",
    "    for i in range (0,n):\n",
    "        bits = False\n",
    "        while bits == False:\n",
    "            x = ran.SystemRandom().getrandbits(256)\n",
    "            if x.bit_length() == 256:\n",
    "                keys.append(x)\n",
    "                bits = True\n",
    "    return keys\n",
    "\n",
    "Publicprimes = sgrandprime(256,40)#Generate the primes to be used\n",
    "p = Publicprimes[1]\n",
    "g = safe_primitive_root(Publicprimes) # Get the primitive root of p\n",
    "keys = Private_keys(2) #Generate the private keys for Alice and Bob (In a real scenorio, they will generate their key alone.)\n",
    "a = keys[0]\n",
    "b = keys[1]"
   ]
  },
  {
   "cell_type": "markdown",
   "metadata": {},
   "source": [
    "### The Diffie-Hellman protocol - Generating Secret Key\n",
    "\n",
    "Once Alice and Bob have their private keys, their next step is to generate their public keys. We will call the public key Alice generates $A$ and Bobs $B$. To generate these public keys we do the following calculations:\n",
    "\n",
    ">$A = g^{a}mod(p)$\n",
    "\n",
    ">$B = g^{b}mod(p)$\n",
    "\n",
    "After we complete these calculations, we now have the public keys for Alice and Bob. The next step is for Alice to send her public key $A$ to Bob, and for Bob to send $B$ to Alice. Though this seems like a compromising step for a protocol based around security, for a hacker to use the public keys to get the private keys it is very difficult because $p$ is a safe prime and $g$ is a primitive root for $p$. By using these numbers a hacker has a very small amount of attack vectors when trying to find the private keys.\n",
    "\n",
    "Once Alice has Bobs public key and Bob has Alices, we calculate the secret key that we will now call $S$. When calculating the secret key this must be done seperately by both Bob and Alice in private as to not let anyone gain access to the secret key. For Alice to generate the $S$ she must do the following calculation:\n",
    "\n",
    ">$S = B^{a}$\n",
    "\n",
    "and Bob must generate $S$ by calculating:\n",
    "\n",
    ">$S = A^{b}$\n",
    "\n",
    "This at first look may not be entirely obvious as to why the calculation Alice does calculates the same secret key as Bobs calculations. However this is due to simple properties of modulo exponents, as you can see below:\n",
    "\n",
    ">$S = B^{a} = (g^{b}mod(p))^{a} = g^{ba}mod(p) = (g^{a}mod(p))^{b} = A^{b} = S$\n",
    "\n",
    "However the calculations above only apply to a two party system. Luckily for us this generalizes quite simply for an $n$ party system. As before we have our safe prime $p$ and a primitive root of $p$ we call $g$, and all $n$ parties must generate their own private key in the same way as before and their relative public key in the same way as before. The only difference for an $n$ party system comes when calculating the secret key $S$. To do this let us label the n private keys generated as below:\n",
    "\n",
    "> $P_{1}, P_{2}, ... , P_{n}$\n",
    "\n",
    "Now all n parties have already calculated their relative public keys, which are as below:\n",
    "\n",
    "> $g^{P_{1}}mod(p), g^{P_{2}}mod(p), ... , g^{P_{n}}mod(p)$\n",
    "\n",
    "We want our final secret key $S$ to be of the same form before, meaning we have $g^{x}mod(p)$, where $x$ is the product of all private keys involved. Hence to achieve this in an n party case, we first label each party $1,2,..n$ and the $i^{th}$ party must send their public key to the $(i+1)^{th}$ party also party $n$ must give his public key to party $1$. Then each member must generate their new public key as below:\n",
    "\n",
    "> $(g^{P_{n}}mod(p))^{P_{1}}, g^{P_{1}}mod(p))^{P_{2}}, ... , g^{P_{n-1}}mod(p))^{P_{n}}$\n",
    "\n",
    "Once this has been completed, we again get each party to send their new public key to the party ahead of them. We repeat this process a total of $n-1$ times, and the final calculation will give each party the secret key $S$ which for the $i{th}$ party will be of the form:\n",
    "\n",
    "> $(g^{P_{i-1}P_{i-2}...P_{1}P_{n}...P_{i+1}}mod(p))^{P_{i}} = g^{P_{1}P_{2}...P_{n}}mod(p) = S$\n",
    "\n",
    "After all parties have the secret key $S$, they can send each other messages encrypted using the key $S$ and decrypt the messages they receive from one another. Below are the functions we use to achieve this."
   ]
  },
  {
   "cell_type": "code",
   "execution_count": null,
   "metadata": {},
   "outputs": [],
   "source": [
    "def Public_Keys(primiroot,Privates,Prime):\n",
    "    \"\"\"This function completed the neccessary calculation to calculate\n",
    "    the Public keys for given private keys and safe prime\"\"\"\n",
    "    n = len(Privates) #So we know how many Public keys we must generate \n",
    "    Publics = []\n",
    "    for i in range (0,n):\n",
    "        Publics.append(pow(primiroot,Privates[i],Prime)) #Calculation required to generate public keys\n",
    "    return Publics \n",
    "\n",
    "Publics = Public_Keys(g,keys,p) #Generate the public keys for Alice and Bob \n",
    "\n",
    "A = Publics[0]\n",
    "B = Publics[1]\n",
    "\n",
    "def Secret_key_steps(publics, privates, generator):\n",
    "    \"\"\"This function completes all neccessary public key swaps between parties\n",
    "    so that they all end up with the same Secret Key\"\"\"\n",
    "    if str(publics).isdigit() == True: #This is to check if \"publics\" is one single public key (and not a list of many public\n",
    "                                       # keys for the general n parties) and if yes then we make \"publics\" a list of\n",
    "                                       # one key only\n",
    "        publics = [publics]\n",
    "    if str(privates).isdigit() == True:#This is to check if \"privates\" is one single private key (and not a list of many private\n",
    "                                       # keys for the general n parties) and if yes then we make \"privates\" a list of\n",
    "                                       # one key only\n",
    "        privates = [privates]\n",
    "    n = len(publics)\n",
    "    if n == 1: #if n == 1 this means it is one person using the public key they have been given to calculate the next public\n",
    "               # key or the final secret key, so we simple calclate this below.\n",
    "        return(pow(publics[0], privates[0], generator))\n",
    "    for m in range(0,n-1):  #For a party of length n, only have to complete this process n-1 times as mentioned above\n",
    "        Temp = [] #Stores the current public key\n",
    "        for i in range(0,n):\n",
    "            Temp.append(pow(publics[(i-1)%n], privates[i], generator) )#Calculates current public key\n",
    "        for j in range(0,n):    \n",
    "            publics[j] = Temp[j]\n",
    "    Final = Temp #After the final repeated is complete \"Temp\" will be equal to the secret key\n",
    "    return Final\n",
    "\n",
    "Alice_S = Secret_key_steps(B,a,p)#Alices calculation for the Secret key\n",
    "Bob_S = Secret_key_steps(A,b,p)#Bobs calculation for the Secret key\n",
    "\n",
    "print(\"Alice calculates the secret key to be\",Alice_S,\", and Bob calculates the secret key to be\", Bob_S, \". Hence they both have the same secret key\")"
   ]
  },
  {
   "cell_type": "markdown",
   "metadata": {},
   "source": [
    "### Alice and Bob - Sending a Message\n",
    "\n",
    "Now that Alice and Bob have both calculated the secret key independently without ever communicating the key with one anoher, they both now have access to a key which they can use to encrypt and decrypt messages they send to each other. Below is an example of how they can do this."
   ]
  },
  {
   "cell_type": "code",
   "execution_count": null,
   "metadata": {},
   "outputs": [],
   "source": [
    "#Below is an example of Alice encrypting a message using the Vigenere cipher using the calculated secret key\n",
    "Alice_message = Vigenere_cipher_ext(\"Hello Bob, I'm sending this message to you with the hopes that you have calculated the secret key, so that we can now communicate in private\", str(Alice_S), \"encrypt\")\n",
    "#Below is how Bob will decrypt Alices message using the secret key\n",
    "Bob_decryption = Vigenere_cipher_ext(Alice_message, str(Bob_S), \"decrypt\")\n",
    "\n",
    "print(\"Thus Alice has encrypted her message using the key, to get the encrypted message - \", Alice_message,\".Bob now decrypts this message using the secret key to get -\", Bob_decryption)"
   ]
  },
  {
   "cell_type": "markdown",
   "metadata": {},
   "source": [
    "### Three Party Example\n",
    "\n",
    "As I mentioned above, the functions we created were generalized for n people, so to carry out this protocol for a 3 party scenorio is very simple. Below is an example of our code working for 3 partys."
   ]
  },
  {
   "cell_type": "code",
   "execution_count": null,
   "metadata": {},
   "outputs": [],
   "source": [
    "#Example of this being used to generate a secret key for a 3 party system\n",
    "\n",
    "threekeys = Private_keys(3) #These will be the 3 private keys for our parties, however they would in a real scenorio\n",
    "                            #be computed alone on each persons computer\n",
    "\n",
    "Three_Alice_private = threekeys[0]\n",
    "Three_Bob_private = threekeys[1]\n",
    "Three_Charlie_private = threekeys[2]\n",
    "\n",
    "Three_Public = Public_Keys(g,threekeys,p) #Now they all calculate their intial public key \n",
    "\n",
    "Three_Alice_public1 = Three_Public[0] \n",
    "Three_Bob_public1 = Three_Public[1]\n",
    "Three_Charlie_public1 = Three_Public[2]\n",
    "\n",
    "General_function_keys = Secret_key_steps(Three_Public,threekeys,p) #This does the final step where each public key is passed to each party\n",
    "                                                   #as many times as is needed for all parties to have the same secret key\n",
    "                                                   #however again, this would in a real scenorio be done multiple times \n",
    "                                                   #alone.\n",
    "\n",
    "#However if we were to do this manually alone as in a real scenorio, we will follow what each party must do below:\n",
    "\n",
    "#First each party must pass their public key to the next part in the line\n",
    "\n",
    "#Below each party must now calculate their second public key and pass this to the next party to calculate the secret key\n",
    "\n",
    "Three_Alice_public2 = Secret_key_steps(Three_Charlie_public1,Three_Alice_private,p)\n",
    "Three_Bob_public2 = Secret_key_steps(Three_Alice_public1,Three_Bob_private,p)\n",
    "Three_Charlie_public2 = Secret_key_steps(Three_Bob_public1,Three_Charlie_private,p)\n",
    "\n",
    "#Now as this is only a 3 party scenorio, we have one final step to calculate the Secret key below:\n",
    "\n",
    "Three_Alice_S = Secret_key_steps(Three_Charlie_public2,Three_Alice_private,p)\n",
    "Three_Bob_S = Secret_key_steps(Three_Alice_public2,Three_Bob_private,p)\n",
    "Three_Charlie_S = Secret_key_steps(Three_Bob_public2,Three_Charlie_private,p)\n",
    "\n",
    "print(\"The keys we generated using our general function were:\")\n",
    "print(General_function_keys)\n",
    "print(\"The independelty calculated keys were:\")\n",
    "print(\"Alices S -\", Three_Alice_S)\n",
    "print(\"Bobs S -\", Three_Bob_S)\n",
    "print(\"Charlies S -\", Three_Charlie_S)\n",
    "print(\"As you can see their all equal, whever we use our general function, or do it indepently\")"
   ]
  },
  {
   "cell_type": "markdown",
   "metadata": {},
   "source": [
    "### The Diffie-Hellman protocol - Function notes\n",
    "\n",
    "The functions we have created above are generalized functions as I mentioned before, hence they are good for show casing how the protocol works for both a 2 party system and for an n party system. However as mentioned when implementing the The Diffie-Hellman protocol in a real world scenorio these calculations should be done in private for one person. This means you should not use the functions as I have above to calculate private keys, public keys and the secret key for each party in the system on one computer. Instead you will use the functions to only calculate everything for yourself in privacy, as if everything was done from one computer, this would negate the entire process."
   ]
  },
  {
   "cell_type": "markdown",
   "metadata": {},
   "source": [
    "## Solving the discrete logarithm problem"
   ]
  },
  {
   "cell_type": "markdown",
   "metadata": {},
   "source": [
    "The discrete logarithm problem is finding $a \\in \\mathbb{N}$ such that it solves\n",
    "> $M \\equiv g^a\\mod{p}$\n",
    "\n",
    "where $M,g,p \\in \\mathbb{N}$\n",
    "\n",
    "So far there are no discrete logarithm algorithms that work in polynomial time on a classical computer. However, there are algorithms in quantum computing like Shor's algorithm that are efficient, this algorithm is for breaking down an integer into its prime factors. But it can be modified to solve the discrete logarithm problem.\n",
    "\n",
    "A time function will be used to time the function. Therefore, different methods can be compared. This time function can be used to time any function. "
   ]
  },
  {
   "cell_type": "code",
   "execution_count": null,
   "metadata": {},
   "outputs": [],
   "source": [
    "def time_func(Func, num_samples, Func_parameters=[[]]):\n",
    "    \"\"\"Times the function\n",
    "\n",
    "    Parameters\n",
    "    ----------\n",
    "    Func : function\n",
    "        Function that is being timed \n",
    "    num_samples : int\n",
    "        Number of times Func will run\n",
    "    Func_parameters : 2D array\n",
    "        Each array in 2D array are the parameters of the Function Func, if num_samples\n",
    "        greater than number of arrays then it will loop over\n",
    "\n",
    "    Returns\n",
    "    -------\n",
    "    tuple\n",
    "        mean_time,\n",
    "        std_time\n",
    "\n",
    "\n",
    "    Examples\n",
    "    --------\n",
    "    time_func(decompose, 4, [[3226322291321]])   \n",
    "    #will time decompose function 4 times with parameter 3226322291321\n",
    "\n",
    "    time_func(decompose, 3, [[3304575252941], [1954377239027], [2964234252593]])   \n",
    "    #will time decompose function 3 times with a differenc parameter each time\n",
    "\n",
    "\n",
    "    \"\"\"\n",
    "    times = np.zeros(num_samples)\n",
    "    loopover = len(Func_parameters)\n",
    "    for i in range(num_samples):\n",
    "        temp_start_time = time.time()\n",
    "        Func(*Func_parameters[i % loopover])\n",
    "        temp_finish_time = time.time()\n",
    "        times[i] = (temp_finish_time - temp_start_time)\n",
    "\n",
    "    return times.mean(), times.std()"
   ]
  },
  {
   "cell_type": "markdown",
   "metadata": {},
   "source": [
    "We will now create a function which times how long each discrete logarithm algorithm takes with different bit sizes. It outputs a pandas data frame."
   ]
  },
  {
   "cell_type": "code",
   "execution_count": null,
   "metadata": {},
   "outputs": [],
   "source": [
    "def time_discrete_logarithm(Func, start, stop, num_samples=10):\n",
    "    r\"\"\"time_discrete_logarithm\n",
    "\n",
    "    Times how long a discrete logarithm algorithm takes to run.\n",
    "    Outputs a pandas data frame with the results.\n",
    "\n",
    "    Parameters\n",
    "    ----------\n",
    "    Func : Func\n",
    "        The function that is to solve the discrete logarithm\n",
    "    start : int\n",
    "        The bit size to start at\n",
    "    stop : int\n",
    "        The bit size to stop at, does not include stop size bit\n",
    "    num_samples : int, optional\n",
    "        The number of samples to be taken.  Defaults to 10\n",
    "\n",
    "    Returns\n",
    "    -------\n",
    "    pandas data frame\n",
    "        index: bit size of p and q\n",
    "        Mean time: Has the mean time\n",
    "        Std time: Has the std times\n",
    "\n",
    "    \"\"\"\n",
    "\n",
    "    discrete_logarithm_mean_times = []\n",
    "    discrete_logarithm_std_times = []\n",
    "\n",
    "    for n_bit in range(start, stop):\n",
    "        public_keys = [gen_public_key(n_bit) for i in range(num_samples)]\n",
    "\n",
    "        input_parameters = format_input_parameters(public_keys)\n",
    "        temp_mean, temp_std = time_func(\n",
    "            Func, num_samples, input_parameters)\n",
    "\n",
    "        discrete_logarithm_mean_times.append(temp_mean)\n",
    "        discrete_logarithm_std_times.append(temp_std)\n",
    "\n",
    "    #print(\"discrete_logarithm_brute_better_fast(g, p, A)\")\n",
    "\n",
    "    my_time_data = {\"Mean time\": discrete_logarithm_mean_times,\n",
    "                    \"Std time\": discrete_logarithm_std_times}\n",
    "    time_data_frame = pd.DataFrame(data=my_time_data)\n",
    "    time_data_frame.index = range(start, stop)\n",
    "    time_data_frame.index.name = \"bit size of p and a\"\n",
    "\n",
    "    return time_data_frame\n",
    "\n",
    "\n",
    "def gen_public_key(n_bit):\n",
    "    \"\"\"generates public information\n",
    "\n",
    "    Generates then calculates public information\n",
    "\n",
    "    Parameters\n",
    "    ----------\n",
    "    n_bit : int\n",
    "        The size of the p prime wanted\n",
    "\n",
    "    Returns\n",
    "    -------\n",
    "    dict\n",
    "        The public information\n",
    "        A : solution to g^a mod(p)\n",
    "        g : primitive root\n",
    "        p : large n_bit prime\n",
    "\n",
    "    \"\"\"\n",
    "    q, p = sgrandprime(n_bit, 40)\n",
    "    g = safe_primitive_root([q, p])\n",
    "    a = Private_keys(n_bit)[0]\n",
    "    A = pow(g, a, p)\n",
    "    return {\"A\": A, \"g\": g, \"p\": p}\n",
    "\n",
    "\n",
    "def format_input_parameters(public_keys, my_order=[\"g\", \"p\", \"A\"]):\n",
    "    \"\"\"Formats parameters for the function\n",
    "\n",
    "\n",
    "    Parameters\n",
    "    ----------\n",
    "    public_keys : array of dict\n",
    "\n",
    "    my_oreder : array of str\n",
    "        What order is wanted for the output\n",
    "\n",
    "    Returns\n",
    "    -------\n",
    "    2D array\n",
    "        The parameters for the funciton\n",
    "\n",
    "    \"\"\"\n",
    "\n",
    "    formated_public_keys = []\n",
    "\n",
    "    for public_key in public_keys:\n",
    "        temp_public_key = []\n",
    "        for key in my_order:\n",
    "            temp_public_key.append(public_key[key])\n",
    "        formated_public_keys.append(temp_public_key)\n",
    "\n",
    "    return formated_public_keys"
   ]
  },
  {
   "cell_type": "code",
   "execution_count": null,
   "metadata": {},
   "outputs": [],
   "source": [
    "# Test format_input_parameters\n",
    "input_public_keys = [{\"A\": 307, \"g\": 5, \"p\": 863},\n",
    "                     {\"g\": 5, \"A\": 844, \"p\": 983},\n",
    "                     {\"p\": 563, \"g\": 2, \"A\": 83}]\n",
    "expected_format = [[5, 863, 307],\n",
    "                   [5, 983, 844],\n",
    "                   [2, 563, 83]]\n",
    "assert format_input_parameters(input_public_keys) == expected_format"
   ]
  },
  {
   "cell_type": "markdown",
   "metadata": {},
   "source": [
    "As solving the discrete logarithm problem has time complexity of $\\mathcal{O}(2^N)$, we will need a way of finding the curve of best fit in order to predict run times of higher bit numbers."
   ]
  },
  {
   "cell_type": "code",
   "execution_count": null,
   "metadata": {},
   "outputs": [],
   "source": [
    "def log_best_fit(x, y):\n",
    "    \"\"\"Finds the best fit values for alpha, beta\n",
    "\n",
    "    y = alpha*e^(x*beta)\n",
    "\n",
    "    Parameters\n",
    "    ----------\n",
    "    y : array of floats\n",
    "\n",
    "    x : array of floats\n",
    "\n",
    "    Returns\n",
    "    -------\n",
    "        turple of float\n",
    "        alpha, beta\n",
    "        The parameters for the funciton\n",
    "\n",
    "    \"\"\"\n",
    "    x = np.array(x)\n",
    "    y = np.array(y)\n",
    "    # Need to disregard any y=0\n",
    "    index_of_0 = np.where(y == 0)\n",
    "    x = np.delete(x, index_of_0)\n",
    "    y = np.delete(y, index_of_0)\n",
    "\n",
    "    ln_y = np.log(y)\n",
    "\n",
    "    ln_alpha, beta = best_fit(x, ln_y)\n",
    "    alpha = np.e**ln_alpha\n",
    "\n",
    "    return alpha, beta\n",
    "\n",
    "\n",
    "def best_fit(x, y):\n",
    "    \"\"\"Finds the best fit values for alpha, beta\n",
    "\n",
    "     y = beta*x + alpha\n",
    "\n",
    "\n",
    "    Parameters\n",
    "    ----------\n",
    "    y : array of floats\n",
    "\n",
    "    x : array of floats\n",
    "\n",
    "    Returns\n",
    "    -------\n",
    "        turple of float\n",
    "        alpha, beta\n",
    "        The parameters for the funciton\n",
    "\n",
    "    \"\"\"\n",
    "    x = np.array(x)\n",
    "    y = np.array(y)\n",
    "\n",
    "    n = len(x)\n",
    "    S_xx = sum(x**2)-((sum(x))**2/n)\n",
    "    S_xy = sum(x*y)-(sum(x)*sum(y)/n)\n",
    "\n",
    "    beta = S_xy/S_xx\n",
    "    alpha = y.mean() - beta*x.mean()\n",
    "\n",
    "    return alpha, beta\n",
    "\n",
    "\n",
    "def get_prediction(df, start=1, stop=5, step=0.5, ab=False):\n",
    "    \"\"\"Get prediction of what further times will be\n",
    "\n",
    "    Uses linear and exponential regression to predict future times,\n",
    "    By solving\n",
    "        y = alpha*e^(x*beta)\n",
    "\n",
    "    Parameters\n",
    "    ----------\n",
    "    df : pandas data frame\n",
    "        Contains the time it takes for a n bit prime to be solved in discrete logarithum problem.\n",
    "    start : float, optional\n",
    "        the n_bit position to start the returned line.\n",
    "    stop: float, optional\n",
    "        the n_bit position to finish the returned line, does not include end. \n",
    "    step: float, optional\n",
    "        the smaller the number the higher the detail of the line, defaults to 0.5 .\n",
    "    ab: boolean, optional\n",
    "        If the alpha and beta want to be returned instead, defaults to false.\n",
    "\n",
    "    Returns\n",
    "    -------\n",
    "        turple of float arrays\n",
    "        Points of the predicted line\n",
    "\n",
    "        alpha, beta\n",
    "        Curve of best fit\n",
    "\n",
    "    \"\"\"\n",
    "    # process df\n",
    "    n_bit = np.array(df.index)\n",
    "    times = np.array(df)\n",
    "\n",
    "    # find curve of best fit\n",
    "    alpha, beta = log_best_fit(n_bit, times)\n",
    "\n",
    "    if ab:\n",
    "        return alpha, beta\n",
    "\n",
    "    # get points\n",
    "    x_vals = np.arange(start, stop, step)\n",
    "    y_vals = alpha*(np.e**(beta*x_vals))\n",
    "\n",
    "    return x_vals, y_vals\n",
    "\n",
    "\n",
    "def calc_time(x, alpha, beta, inverse=False):\n",
    "    \"\"\"Maths function for Calculating time\n",
    "\n",
    "    Calculates\n",
    "        y = alpha*e^(x*beta)\n",
    "\n",
    "    Parameters\n",
    "    ----------\n",
    "    x : float\n",
    "    alpha: float\n",
    "    beta: float\n",
    "    inverse: boolean, optional\n",
    "        if true solves the inverse of the function, defaults to False.\n",
    "    \"\"\"\n",
    "    if inverse:\n",
    "        return (np.log(x)-np.log(alpha))/beta\n",
    "    else:\n",
    "        return alpha*(np.e**(x*beta))"
   ]
  },
  {
   "cell_type": "code",
   "execution_count": null,
   "metadata": {},
   "outputs": [],
   "source": [
    "# Test best_fit()\n",
    "test_x = [1, 3, 4]\n",
    "test_y = [5, 9, 11]\n",
    "test_alpha, test_beta = best_fit(test_x, test_y)\n",
    "assert abs(test_alpha - 3) < 0.001\n",
    "assert abs(test_beta - 2) < 0.001\n",
    "\n",
    "# Test log_best_fit()\n",
    "test_x = [0, 1, 2, 3, 4, 5]\n",
    "test_y = [3, 7, 10, 24, 50, 95]\n",
    "test_alpha, test_beta = log_best_fit(test_x, test_y)\n",
    "assert abs(test_alpha - 3.0465) < 0.001\n",
    "assert abs(test_beta - 0.6871) < 0.001\n",
    "\n",
    "# Test get prediction\n",
    "test_df = pd.DataFrame(data={'test data': [3, 7, 10, 24, 50, 95]})\n",
    "expected_y_vals = [23.934, 47.579, 94.584]\n",
    "actual_x_vals, actual_y_vals = get_prediction(test_df['test data'], 3, 6, 1)\n",
    "\n",
    "assert max(abs(actual_x_vals - [3, 4, 5])) < 1e-5\n",
    "assert max(abs(actual_y_vals - expected_y_vals)) < 1e-1\n",
    "\n",
    "\n",
    "# Test calc_time()\n",
    "alpha = 3\n",
    "beta = 2\n",
    "x = 4\n",
    "expected_y = 8942.873961\n",
    "assert abs(calc_time(x, alpha, beta) - expected_y) < 1e-4\n",
    "\n",
    "y = 1000\n",
    "expected_x = 2.90457\n",
    "assert abs(calc_time(y, alpha, beta, inverse=True) - expected_x) < 1e-4"
   ]
  },
  {
   "cell_type": "markdown",
   "metadata": {},
   "source": [
    "### Using Brute Force"
   ]
  },
  {
   "cell_type": "markdown",
   "metadata": {},
   "source": [
    "Here we have a basic brute force method. This method works by starting with $a=1$ then evaluating $g^a\\mod{p}$ and comparing it to $M$. By incrementing $a$ until a solution is found.\n",
    "\n",
    "This method only works if there is a solution for $a$ as \"discrete_logarithm_brute(2,4,3)\" will run forever. Since this is being used to crack the Diffie-Hellman protocol then there has to be a solution, so this problem can be disregarded.\n",
    "\n",
    "To make the code run faster numba will be used. This will allow the code to be compiled before running, this means the start up time of a function will be longer but since these methods have many loops the time to complete will be reduced."
   ]
  },
  {
   "cell_type": "code",
   "execution_count": null,
   "metadata": {},
   "outputs": [],
   "source": [
    "def discrete_logarithm_brute(a, N, z):\n",
    "    \"\"\"Solves the discrete logarithm problem\n",
    "\n",
    "    Solves z = a^b mod(N) for b, by using a brute force method \n",
    "\n",
    "    Parameters\n",
    "    ----------\n",
    "    a : int\n",
    "    N : int\n",
    "    z : int\n",
    "\n",
    "    Returns\n",
    "    -------\n",
    "    int\n",
    "        Solves z = a^b mod(N) for b,\n",
    "    \"\"\"\n",
    "\n",
    "    b = 1\n",
    "    while True:\n",
    "        if pow(a, b, N) == z:\n",
    "            return b\n",
    "        b += 1\n",
    "\n",
    "\n",
    "@numba.jit('int64(int64,int64,int64)', nopython=True)\n",
    "def discrete_logarithm_brute_fast(a, N, z):\n",
    "    \"\"\"Solves the discrete logarithm problem\n",
    "\n",
    "    Solves z = a^b mod(N) for b, by using a brute force method \n",
    "\n",
    "    Parameters\n",
    "    ----------\n",
    "    a : int\n",
    "    N : int\n",
    "    z : int\n",
    "\n",
    "    Returns\n",
    "    -------\n",
    "    int\n",
    "        Solves z = a^b mod(N) for b,\n",
    "    \"\"\"\n",
    "\n",
    "    b = 1\n",
    "    while True:\n",
    "        if my_pow(a, b, N) == z:\n",
    "            return b\n",
    "        b += 1"
   ]
  },
  {
   "cell_type": "code",
   "execution_count": null,
   "metadata": {},
   "outputs": [],
   "source": [
    "# Tests\n",
    "# Brute\n",
    "assert discrete_logarithm_brute(15, 2342, 167) == 37\n",
    "assert discrete_logarithm_brute(5, 352, 133) == 25\n",
    "assert discrete_logarithm_brute(3452, 123456, 39104) == 543\n",
    "\n",
    "for n_bit in range(3, 20):\n",
    "    test_dict = gen_public_key(n_bit)\n",
    "    g = test_dict['g']\n",
    "    p = test_dict['p']\n",
    "    A = test_dict['A']\n",
    "    b = discrete_logarithm_brute(g, p, A)\n",
    "    assert pow(g, b, p) == A\n",
    "\n",
    "# Compiled Brute\n",
    "assert discrete_logarithm_brute_fast(15, 2342, 167) == 37\n",
    "assert discrete_logarithm_brute_fast(5, 352, 133) == 25\n",
    "assert discrete_logarithm_brute_fast(3452, 123456, 39104) == 543\n",
    "\n",
    "for n_bit in range(3, 20):\n",
    "    test_dict = gen_public_key(n_bit)\n",
    "    g = test_dict['g']\n",
    "    p = test_dict['p']\n",
    "    A = test_dict['A']\n",
    "    b = discrete_logarithm_brute_fast(g, p, A)\n",
    "    assert pow(g, b, p) == A"
   ]
  },
  {
   "cell_type": "markdown",
   "metadata": {},
   "source": [
    "The method below is still a brute force method. It uses information from the previous loop which means it doesn't have to evaluate $g^a\\mod{p}$ every time. However, this comes at the price of using extra storage space which increase space complexity."
   ]
  },
  {
   "cell_type": "code",
   "execution_count": null,
   "metadata": {},
   "outputs": [],
   "source": [
    "def discrete_logarithm_brute_better(a, N, z):\n",
    "    \"\"\"Solves the discrete logarithm problem\n",
    "\n",
    "    Solves z = a^b mod(N) for b, by using a brute force method \n",
    "\n",
    "    Parameters\n",
    "    ----------\n",
    "    a : int\n",
    "    N : int\n",
    "    z : int\n",
    "\n",
    "    Returns\n",
    "    -------\n",
    "    int\n",
    "        Solves z = a^b mod(N) for b,\n",
    "    \"\"\"\n",
    "    b = 1\n",
    "    a_new = a\n",
    "    while True:\n",
    "        if a_new == z:\n",
    "            return b\n",
    "        a_new = (a_new*a) % N\n",
    "        b += 1\n",
    "\n",
    "\n",
    "@numba.jit('int64(int64,int64,int64)', nopython=True)\n",
    "def discrete_logarithm_brute_better_fast(a, N, z):\n",
    "    \"\"\"Solves the discrete logarithm problem\n",
    "\n",
    "    Solves z = a^b mod(N) for b, by using a brute force method, uses a complied version\n",
    "\n",
    "    Parameters\n",
    "    ----------\n",
    "    a : int\n",
    "    N : int\n",
    "    z : int\n",
    "\n",
    "    Returns\n",
    "    -------\n",
    "    int\n",
    "        Solves z = a^b mod(N) for b,\n",
    "    \"\"\"\n",
    "    b = 1\n",
    "    a_new = a % N\n",
    "    while True:\n",
    "        if a_new == z:\n",
    "            return b\n",
    "        a_new = (a_new*a) % N\n",
    "        b += 1"
   ]
  },
  {
   "cell_type": "code",
   "execution_count": null,
   "metadata": {},
   "outputs": [],
   "source": [
    "# Tests\n",
    "# Better Brute\n",
    "assert discrete_logarithm_brute_better(15, 2342, 167) == 37\n",
    "assert discrete_logarithm_brute_better(5, 352, 133) == 25\n",
    "assert discrete_logarithm_brute_better(3452, 123456, 39104) == 543\n",
    "\n",
    "for n_bit in range(3, 24):\n",
    "    test_dict = gen_public_key(n_bit)\n",
    "    g = test_dict['g']\n",
    "    p = test_dict['p']\n",
    "    A = test_dict['A']\n",
    "    b = discrete_logarithm_brute_better(g, p, A)\n",
    "    assert pow(g, b, p) == A\n",
    "\n",
    "\n",
    "# Compiled Better Brute\n",
    "assert discrete_logarithm_brute_better_fast(15, 2342, 167) == 37\n",
    "assert discrete_logarithm_brute_better_fast(5, 352, 133) == 25\n",
    "assert discrete_logarithm_brute_better_fast(3452, 123456, 39104) == 543\n",
    "\n",
    "for n_bit in range(3, 29):\n",
    "    test_dict = gen_public_key(n_bit)\n",
    "    g = test_dict['g']\n",
    "    p = test_dict['p']\n",
    "    A = test_dict['A']\n",
    "    b = discrete_logarithm_brute_better_fast(g, p, A)\n",
    "    assert pow(g, b, p) == A"
   ]
  },
  {
   "cell_type": "markdown",
   "metadata": {},
   "source": [
    "### Comparing Brute Force Methods"
   ]
  },
  {
   "cell_type": "markdown",
   "metadata": {},
   "source": [
    "By comparing these functions it is clear to see that the brute better algorithm is faster. Additionally, the algorithms which are compiled are faster. So from using a better brute force method and compiled code we get the solution runs over $100$ times faster."
   ]
  },
  {
   "cell_type": "code",
   "execution_count": null,
   "metadata": {
    "deletable": false,
    "editable": false,
    "run_control": {
     "frozen": true
    }
   },
   "outputs": [],
   "source": [
    "%timeit discrete_logarithm_brute(3452, 123456, 39104)\n",
    "%timeit discrete_logarithm_brute_fast(3452, 123456, 39104)\n",
    "%timeit discrete_logarithm_brute_better(3452, 123456, 39104)\n",
    "%timeit discrete_logarithm_brute_better_fast(3452, 123456, 39104)"
   ]
  },
  {
   "cell_type": "code",
   "execution_count": null,
   "metadata": {},
   "outputs": [],
   "source": [
    "read_times = True\n",
    "dl_brute_time_file_name = 'Discrete Logarithm Brute Times.csv'\n",
    "dl_brute_fast_time_file_name = 'Discrete Logarithm Compiled Brute Times.csv'\n",
    "dl_brute_better_time_file_name = 'Discrete Logarithm Better Brute Times.csv'\n",
    "dl_brute_better_fast_time_file_name = 'Discrete Logarithm Compiled Better Brute Times.csv'"
   ]
  },
  {
   "cell_type": "code",
   "execution_count": null,
   "metadata": {},
   "outputs": [],
   "source": [
    "# Brute\n",
    "if os.path.exists('data/' + dl_brute_time_file_name) and read_times:\n",
    "    # read\n",
    "    dl_brute_times = pd.read_csv(\n",
    "        'data/' + dl_brute_time_file_name, index_col=0)\n",
    "else:\n",
    "    # Create times\n",
    "    dl_brute_times = time_discrete_logarithm(\n",
    "        discrete_logarithm_brute, 8, 22, 20)  # 21\n",
    "    # Save times\n",
    "    dl_brute_times.to_csv('data/' + dl_brute_time_file_name)"
   ]
  },
  {
   "cell_type": "code",
   "execution_count": null,
   "metadata": {},
   "outputs": [],
   "source": [
    "# Compiled Brute\n",
    "if os.path.exists('data/' + dl_brute_fast_time_file_name) and read_times:\n",
    "    # read\n",
    "    dl_brute_fast_times = pd.read_csv(\n",
    "        'data/' + dl_brute_fast_time_file_name, index_col=0)\n",
    "else:\n",
    "    # Create times\n",
    "    dl_brute_fast_times = time_discrete_logarithm(\n",
    "        discrete_logarithm_brute_fast, 10, 23, 20)  # 23\n",
    "    # Save times\n",
    "    dl_brute_fast_times.to_csv('data/' + dl_brute_fast_time_file_name)"
   ]
  },
  {
   "cell_type": "code",
   "execution_count": null,
   "metadata": {},
   "outputs": [],
   "source": [
    "# Better Brute\n",
    "if os.path.exists('data/' + dl_brute_better_time_file_name) and read_times:\n",
    "    # read file\n",
    "    dl_brute_better_times = pd.read_csv(\n",
    "        'data/' + dl_brute_better_time_file_name, index_col=0)\n",
    "else:\n",
    "    # Create times\n",
    "    dl_brute_better_times = time_discrete_logarithm(\n",
    "        discrete_logarithm_brute_better, 12, 27, 20)  # 26\n",
    "    # Save times\n",
    "    dl_brute_better_times.to_csv('data/' + dl_brute_better_time_file_name)"
   ]
  },
  {
   "cell_type": "code",
   "execution_count": null,
   "metadata": {},
   "outputs": [],
   "source": [
    "# Compiled Better Brute\n",
    "if os.path.exists('data/' + dl_brute_better_fast_time_file_name) and read_times:\n",
    "    # read file\n",
    "    dl_brute_better_fast_times = pd.read_csv(\n",
    "        'data/' + dl_brute_better_fast_time_file_name, index_col=0)\n",
    "else:\n",
    "    # Create times\n",
    "    dl_brute_better_fast_times = time_discrete_logarithm(\n",
    "        discrete_logarithm_brute_better_fast, 13, 30, 20)  # 29\n",
    "    # Save times\n",
    "    dl_brute_better_fast_times.to_csv(\n",
    "        'data/' + dl_brute_better_fast_time_file_name)"
   ]
  },
  {
   "cell_type": "code",
   "execution_count": null,
   "metadata": {},
   "outputs": [],
   "source": [
    "MT = 'Mean time'\n",
    "ST = 'Std time'\n",
    "\n",
    "df = pd.DataFrame({'0': dl_brute_times[MT], '1': dl_brute_times[ST],\n",
    "                   '2': dl_brute_fast_times[MT], '3': dl_brute_fast_times[ST],\n",
    "                   '4': dl_brute_better_times[MT], '5': dl_brute_better_times[ST],\n",
    "                   '6': dl_brute_better_fast_times[MT], '7': dl_brute_better_fast_times[ST]})\n",
    "\n",
    "columns = [('Brute', MT), ('Brute', ST),\n",
    "           ('Compiled Brute', MT), ('Compiled Brute', ST),\n",
    "           ('Better Brute', MT), ('Better Brute', ST),\n",
    "           ('Compiled Better Brute', MT), ('Compiled Better Brute', ST)]\n",
    "\n",
    "df.columns = pd.MultiIndex.from_tuples(columns)\n",
    "df.index.name = \"bit size of p and a\"\n",
    "df"
   ]
  },
  {
   "cell_type": "code",
   "execution_count": null,
   "metadata": {},
   "outputs": [],
   "source": [
    "# Make plot\n",
    "plt.figure(figsize=(14, 8))\n",
    "# Plot data\n",
    "plt.plot(dl_brute_times['Mean time'], label='Brute', color='Blue')\n",
    "plt.plot(dl_brute_fast_times['Mean time'],\n",
    "         label='Compiled Brute', color='orange')\n",
    "plt.plot(dl_brute_better_times['Mean time'],\n",
    "         label='Brute Better', color='green')\n",
    "plt.plot(dl_brute_better_fast_times['Mean time'],\n",
    "         label='Compiled Brute Better', color='red')\n",
    "\n",
    "# The extrapolated curves\n",
    "plt.plot(*get_prediction(dl_brute_times[MT], 12, 31), linewidth=1,\n",
    "         linestyle=\"--\", color=\"blue\",\n",
    "         label=r\"$y = (%e) e^{(%e) x}$\" % (get_prediction(dl_brute_times[MT], ab=True)))\n",
    "\n",
    "plt.plot(*get_prediction(dl_brute_fast_times[MT], 12, 31), linewidth=1,\n",
    "         linestyle=\"--\", color=\"orange\",\n",
    "         label=r\"$y = (%e) e^{(%e) x}$\" % (get_prediction(dl_brute_fast_times[MT], ab=True)))\n",
    "\n",
    "plt.plot(*get_prediction(dl_brute_better_times[MT], 12, 31), linewidth=1,\n",
    "         linestyle=\"--\", color=\"green\",\n",
    "         label=r\"$y = (%e) e^{(%e) x}$\" % (get_prediction(dl_brute_better_times[MT], ab=True)))\n",
    "\n",
    "plt.plot(*get_prediction(dl_brute_better_fast_times[MT], 12, 31), linewidth=1,\n",
    "         linestyle=\"--\", color=\"red\",\n",
    "         label=r\"$y = (%e) e^{(%e) x}$\" % (get_prediction(dl_brute_better_fast_times[MT],\n",
    "                                                          ab=True)))\n",
    "\n",
    "plt.ylim(0, 3)\n",
    "plt.legend(loc=\"upper left\", prop={\"size\": 12})\n",
    "plt.xlabel(r\"$n$ bit size of p and a\")\n",
    "plt.ylabel(r\" Mean time (seconds)\")\n",
    "plt.title(r\"Discrete Logarithm Brute Force Algorithms Time\")\n",
    "# plt.yscale('log')\n",
    "\n",
    "plt.show()"
   ]
  },
  {
   "cell_type": "markdown",
   "metadata": {},
   "source": [
    "The dashed lines are extrapolated data."
   ]
  },
  {
   "cell_type": "markdown",
   "metadata": {},
   "source": [
    "###  Baby step/Giant step"
   ]
  },
  {
   "cell_type": "markdown",
   "metadata": {},
   "source": [
    "We are trying to solve for $x$\n",
    "> $a^x \\equiv b \\mod{N}$\n",
    "\n",
    "Let $k\\in \\mathbb{N}$, set $x = mk + n$ where $m,n \\in \\mathbb{N}$ such that\n",
    "\n",
    ">\\begin{align*}\n",
    "&a^{mk+n} \\equiv b \\mod{N}\\\\\n",
    "\\iff &a^{n} \\equiv ba^{-mk} \\mod{N}\n",
    "\\end{align*}\n",
    "\n",
    "So we are looking for $n,m \\in \\mathbb{N}$ to satisfy the equation above. We know $0 \\leq n < k$, since if $n=k$ then $m$ could be increased and $n$ reduced.\n",
    "To find this solution we evaluate\n",
    ">\\begin{align*}\n",
    "&a,a^{2},...,a^{k-1}\\mod{N}\\\\\n",
    "&ba^{-k}, ba^{-2k}, ..., ba^{-rk}\\mod{N}\n",
    "\\end{align*}\n",
    "\n",
    "until $rk>N$\n",
    "\n",
    "Stop when $rk>N$ as the order of any element $a$ has to be less than N. Then find the values that are equivalent, this gives a valid value for $m,n$. If none of them are the same then there is no solution.\n",
    "\n",
    "This algorithm has time complexity and space complexity $\\mathcal{O} (\\sqrt{n})$ where $n$ is the order of the cyclic group formed by $a^x\\mod{N}$\n",
    "\n",
    "An important note is that this algorithm only works when $N$ is prime."
   ]
  },
  {
   "cell_type": "code",
   "execution_count": null,
   "metadata": {},
   "outputs": [],
   "source": [
    "def discrete_logarithm_step(a, N, z):\n",
    "    \"\"\"Solves the discrete logarithm problem\n",
    "\n",
    "    Solves z = a^b mod(N) for b, by using the baby step, giant step method \n",
    "\n",
    "    Parameters\n",
    "    ----------\n",
    "    a : int\n",
    "    N : int\n",
    "    z : int\n",
    "\n",
    "    Returns\n",
    "    -------\n",
    "    int\n",
    "        Solves z = a^b mod(N) for b,\n",
    "        if recieved -1 then there is no solution\n",
    "    \"\"\"\n",
    "    k = int(np.floor(N**0.5 + 1))\n",
    "    a_to_k = {pow(a, power, N): power for power in range(k)}\n",
    "    ab = pow(a, k * (N - 2), N)\n",
    "\n",
    "    #power = 0\n",
    "    if z % N in a_to_k:\n",
    "        n = a_to_k[(z % N)]\n",
    "        return n\n",
    "\n",
    "    new_ab = ab\n",
    "    for power in range(1, k):\n",
    "        val = z*new_ab % N\n",
    "        new_ab = new_ab*ab % N\n",
    "        if val in a_to_k:\n",
    "            n = a_to_k[val]\n",
    "            m = power\n",
    "            return m*k + n\n",
    "\n",
    "    # No solution\n",
    "    return -1"
   ]
  },
  {
   "cell_type": "code",
   "execution_count": null,
   "metadata": {},
   "outputs": [],
   "source": [
    "# Tests\n",
    "assert discrete_logarithm_step(3, 59, 19) == 17\n",
    "assert discrete_logarithm_step(2, 306707, 210153) == 3648\n",
    "assert discrete_logarithm_step(2, 67422227, 63257631) == 1075556\n",
    "\n",
    "\n",
    "for n_bit in range(3, 33):\n",
    "    test_dict = gen_public_key(n_bit)\n",
    "    g = test_dict['g']\n",
    "    p = test_dict['p']\n",
    "    A = test_dict['A']\n",
    "    b = discrete_logarithm_step(g, p, A)\n",
    "    assert pow(g, b, p) == A"
   ]
  },
  {
   "cell_type": "markdown",
   "metadata": {},
   "source": [
    "#### Example of Baby Step/Giant Step"
   ]
  },
  {
   "cell_type": "markdown",
   "metadata": {},
   "source": [
    "We will solve \n",
    "> $7^x \\equiv 13 \\mod{33}$\n",
    "\n",
    "Therefore, we will let $a=7$, $b=13$, $N=33$ and set $k=Ceiling(\\sqrt(N))=6$. As this is the value of $k$ in the code.\n",
    "\n",
    "First we calculate the sequence\n",
    "\n",
    ">\\begin{align*}\n",
    "&a^{0},&a^{1},& &a^2,& &a^3,& &a^4,& &a^5,& \\mod{N}\\\\\n",
    "&1,&{7},& &16,&  &\\underline{13},&  &25,&  &10,& \\mod{33}\n",
    "\\end{align*}\n",
    "\n",
    "Then calculate the modular inverse,\n",
    "\n",
    ">\\begin{align*}\n",
    "aa^{-1} &\\equiv 1\\mod{N}\\\\\n",
    "77^{-1} &\\equiv 1\\mod{33}\\\\\n",
    "7^{-1} &\\equiv 19\\mod{33}\n",
    "\\end{align*}\n",
    "\n",
    "Now calculate\n",
    ">\\begin{align*}\n",
    "&ba^{-0k},& &ba^{-k},& &ba^{-2k},& &ba^{-3k},& &ba^{-4k},& &ba^{-5k},& &ba^{-6k},& \\mod{N}\\\\\n",
    "&13\\cdot 7^{0},& &13\\cdot 7^{-6},& &13\\cdot 7^{-12},& &13\\cdot 7^{-18},& &13\\cdot 7^{-24},& &13\\cdot 7^{-30},& &13\\cdot 7^{-36},& \\mod{33}\\\\\n",
    "&\\underline{13},& &28,& &7,&  &10,&  &19,&  &13,& &28,&\\mod{33}\n",
    "\\end{align*}\n",
    "\n",
    "We then find the value which is in both lists, in this case there are multiple. We pick the one which gives the smallest value for $x$. In the code it observes 'ba' values first and compares it to 'a_to_k' this will guarantee the smallest $x$. \n",
    "\n",
    "We have\n",
    "> $b\\cdot a^{-0\\cdot6}\\equiv 7 \\equiv a^3 \\mod{33}$\n",
    "\n",
    "Which leads to \n",
    "> $b \\equiv a^{3 + 0 \\cdot 6} \\mod{33}$\n",
    "\n",
    "So $x=3$"
   ]
  },
  {
   "cell_type": "code",
   "execution_count": null,
   "metadata": {},
   "outputs": [],
   "source": [
    "# Now check code folows example\n",
    "assert discrete_logarithm_step(7, 33, 13) == 3"
   ]
  },
  {
   "cell_type": "markdown",
   "metadata": {},
   "source": [
    "#### Fast version"
   ]
  },
  {
   "cell_type": "code",
   "execution_count": null,
   "metadata": {},
   "outputs": [],
   "source": [
    "@numba.jit(nopython=True)\n",
    "def isin(element, the_list):\n",
    "    for selected_element in the_list:\n",
    "        if element == selected_element:\n",
    "            return True\n",
    "    return False\n",
    "\n",
    "\n",
    "@numba.jit(numba.int64(numba.uint64, numba.uint64, numba.uint64), nopython=True)\n",
    "def discrete_logarithm_step_fast(a, N, z):\n",
    "    \"\"\"Solves the discrete logarithm problem\n",
    "\n",
    "    Solves z = a^b mod(N) for b, by using the baby step, giant step method, compiled \n",
    "    Works up to 16 bit public key\n",
    "\n",
    "    Parameters\n",
    "    ----------\n",
    "    a : int\n",
    "    N : int\n",
    "    z : int\n",
    "\n",
    "    Returns\n",
    "    -------\n",
    "    int\n",
    "        Solves z = a^b mod(N) for b,\n",
    "        if recieved -1 then there is no solution\n",
    "    \"\"\"\n",
    "    k = numba.uint64(np.floor(N**0.5 + 1))\n",
    "\n",
    "    a_to_k = np.zeros(k, dtype = numba.uint64)\n",
    "    a_to_k[0] = 1\n",
    "    a_to_k[1] = numba.uint64(a)\n",
    "    for i in range(2, k):\n",
    "        a_to_k[i] = my_pow(a*a_to_k[i-1], 1, N)\n",
    "    r = 1\n",
    "    ab = my_pow(a, k*(N-2), N)\n",
    "\n",
    "    #power = 0\n",
    "    if isin(z%N,a_to_k):\n",
    "        n = np.where(a_to_k == z%N)[0][0]\n",
    "        return n\n",
    "    \n",
    "    new_ab = ab\n",
    "    for power in range(1,k):\n",
    "        val = z*new_ab % N\n",
    "        new_ab = new_ab*ab % N\n",
    "        if isin(val, a_to_k):\n",
    "            n = np.where(a_to_k == val)[0][0]\n",
    "            m = power\n",
    "            return m*k + n\n",
    "\n",
    "    # No solution\n",
    "    return -1"
   ]
  },
  {
   "cell_type": "code",
   "execution_count": null,
   "metadata": {},
   "outputs": [],
   "source": [
    "# Tests\n",
    "\n",
    "assert isin(2, np.array([1, 4, 6, 2]))\n",
    "assert not isin(3, np.array([1, 4, 6, 2]))\n",
    "\n",
    "assert discrete_logarithm_step_fast(7, 33, 13) == 3\n",
    "assert discrete_logarithm_step_fast(3, 59, 19) == 17\n",
    "\n",
    "\n",
    "\n",
    "# Only works up to 26-bit as pow function can't go higher without overflow\n",
    "for n_bit in range(5, 27):\n",
    "    test_dict = gen_public_key(n_bit)\n",
    "    g = test_dict['g']\n",
    "    p = test_dict['p']\n",
    "    A = test_dict['A']\n",
    "    b = discrete_logarithm_step_fast(g, p, A)\n",
    "    assert pow(g, b, p) == A\n"
   ]
  },
  {
   "cell_type": "markdown",
   "metadata": {},
   "source": [
    "### Comparing Baby/Giant Steps Methods"
   ]
  },
  {
   "cell_type": "markdown",
   "metadata": {},
   "source": [
    "By comparing these functions it is clear to see that the algorithms which are compiled are faster. So from using a compiled version we get the solution runs over $80$ times faster. Because of the overflow error the fast version encounters it sadly can't be used for larger bits."
   ]
  },
  {
   "cell_type": "code",
   "execution_count": null,
   "metadata": {
    "deletable": false,
    "editable": false,
    "run_control": {
     "frozen": true
    }
   },
   "outputs": [],
   "source": [
    "%timeit discrete_logarithm_step(3452, 123456, 39104)\n",
    "%timeit discrete_logarithm_step_fast(3452, 123456, 39104)"
   ]
  },
  {
   "cell_type": "code",
   "execution_count": null,
   "metadata": {},
   "outputs": [],
   "source": [
    "read_times = True\n",
    "dl_step_time_file_name = 'Discrete Logarithm Step Times.csv'\n",
    "dl_step_fast_time_file_name = 'Discrete Logarithm Compiled Step Times.csv'"
   ]
  },
  {
   "cell_type": "code",
   "execution_count": null,
   "metadata": {},
   "outputs": [],
   "source": [
    "# Step\n",
    "if os.path.exists('data/' + dl_step_time_file_name) and read_times:\n",
    "    # read\n",
    "    dl_step_times = pd.read_csv(\n",
    "        'data/' + dl_step_time_file_name, index_col=0)\n",
    "else:\n",
    "    dl_step_times = time_discrete_logarithm(\n",
    "        discrete_logarithm_step, 20, 42, 20)  # 42\n",
    "    # Save times\n",
    "    dl_step_times.to_csv('data/' + dl_step_time_file_name)"
   ]
  },
  {
   "cell_type": "code",
   "execution_count": null,
   "metadata": {},
   "outputs": [],
   "source": [
    "# Compiled Step\n",
    "if os.path.exists('data/' + dl_step_fast_time_file_name) and read_times:\n",
    "    # read\n",
    "    dl_step_fast_times = pd.read_csv(\n",
    "        'data/' + dl_step_fast_time_file_name, index_col=0)\n",
    "else:\n",
    "    dl_step_fast_times = time_discrete_logarithm(\n",
    "        discrete_logarithm_step_fast, 10, 26, 20)  # 26\n",
    "    # Save times\n",
    "    dl_step_fast_times.to_csv('data/' + dl_step_fast_time_file_name)"
   ]
  },
  {
   "cell_type": "code",
   "execution_count": null,
   "metadata": {},
   "outputs": [],
   "source": [
    "MT = 'Mean time'\n",
    "ST = 'Std time'\n",
    "\n",
    "df = pd.DataFrame({'0': dl_step_times[MT], '1': dl_step_times[ST],\n",
    "                   '2': dl_step_fast_times[MT], '3': dl_step_fast_times[ST]})\n",
    "\n",
    "columns = [('Step', MT), ('Step', ST),\n",
    "           ('Compiled Step', MT), ('Compiled Step', ST)]\n",
    "\n",
    "df.columns = pd.MultiIndex.from_tuples(columns)\n",
    "df.index.name = \"bit size of p and a\"\n",
    "df"
   ]
  },
  {
   "cell_type": "code",
   "execution_count": null,
   "metadata": {},
   "outputs": [],
   "source": [
    "# Make plot\n",
    "plt.figure(figsize=(14, 8))\n",
    "# Plot data\n",
    "plt.plot(dl_step_times['Mean time'],\n",
    "         label='Baby Step, Giant Step', color='black')\n",
    "plt.plot(dl_step_fast_times['Mean time'],\n",
    "         label='Compiled Step', color='purple')\n",
    "\n",
    "\n",
    "# The extrapolated curves\n",
    "plt.plot(*get_prediction(dl_step_times[MT], 12, 45), linewidth=1,\n",
    "         linestyle=\"--\", color=\"black\",\n",
    "         label=r\"$y = (%e) e^{(%e) x}$\" % (get_prediction(dl_step_times[MT], ab=True)))\n",
    "\n",
    "plt.plot(*get_prediction(dl_step_fast_times[MT], 12, 45), linewidth=1,\n",
    "         linestyle=\"--\", color=\"purple\",\n",
    "         label=r\"$y = (%e) e^{(%e) x}$\" % (get_prediction(dl_step_fast_times[MT], ab=True)))\n",
    "\n",
    "\n",
    "plt.ylim(0, 5.5)\n",
    "plt.xlim(22, 45)\n",
    "plt.legend(loc=\"upper left\", prop={\"size\": 15})\n",
    "plt.xlabel(r\"$n$ bit size of p and a\")\n",
    "plt.ylabel(r\" Mean time (seconds)\")\n",
    "plt.title(r\"Discrete Logarithm Step Algorithms Time\")\n",
    "# plt.yscale('log')\n",
    "\n",
    "plt.show()"
   ]
  },
  {
   "cell_type": "markdown",
   "metadata": {},
   "source": [
    "Take the compiled one with a pinch of salt as it can only go up to 26 bits before overflow errors start happening."
   ]
  },
  {
   "cell_type": "markdown",
   "metadata": {},
   "source": [
    "### Comparing Discrete Logarithm Methods"
   ]
  },
  {
   "cell_type": "code",
   "execution_count": null,
   "metadata": {
    "deletable": false,
    "editable": false,
    "run_control": {
     "frozen": true
    }
   },
   "outputs": [],
   "source": [
    "%timeit discrete_logarithm_brute(3452, 123456, 39104)\n",
    "%timeit discrete_logarithm_brute_fast(3452, 123456, 39104)\n",
    "%timeit discrete_logarithm_brute_better(3452, 123456, 39104)\n",
    "%timeit discrete_logarithm_brute_better_fast(3452, 123456, 39104)\n",
    "%timeit discrete_logarithm_step(3452, 123456, 39104)\n",
    "%timeit discrete_logarithm_step_fast(3452, 123456, 39104)"
   ]
  },
  {
   "cell_type": "markdown",
   "metadata": {},
   "source": [
    "This shows for the brute methods at smaller bit ranges that method can be faster."
   ]
  },
  {
   "cell_type": "code",
   "execution_count": null,
   "metadata": {},
   "outputs": [],
   "source": [
    "MT = 'Mean time'\n",
    "ST = 'Std time'\n",
    "\n",
    "\n",
    "df_all_times = pd.DataFrame({'0': dl_brute_times[MT], '1': dl_brute_times[ST],\n",
    "                             '2': dl_brute_fast_times[MT], '3': dl_brute_fast_times[ST],\n",
    "                             '4': dl_brute_better_times[MT], '5': dl_brute_better_times[ST],\n",
    "                             '6': dl_brute_better_fast_times[MT], '7': dl_brute_better_fast_times[ST],\n",
    "                             '8': dl_step_times[MT], '9': dl_step_times[ST],\n",
    "                             '10': dl_step_fast_times[MT], '11': dl_step_fast_times[ST]})\n",
    "\n",
    "columns = [('Brute', MT), ('Brute', ST),\n",
    "           ('Compiled Brute', MT), ('Compiled Brute', ST),\n",
    "           ('Better Brute', MT), ('Better Brute', ST),\n",
    "           ('Compiled Better Brute', MT), ('Compiled Better Brute', ST),\n",
    "           ('Step', MT), ('Step', ST),\n",
    "           ('Compiled Step', MT), ('Compiled Step', ST)]\n",
    "\n",
    "df_all_times.columns = pd.MultiIndex.from_tuples(columns)\n",
    "df_all_times.index.name = \"bit size of p and a\"\n",
    "df_all_times"
   ]
  },
  {
   "cell_type": "code",
   "execution_count": null,
   "metadata": {},
   "outputs": [],
   "source": [
    "# Make plot\n",
    "plt.figure(figsize=(14, 8))\n",
    "# Plot data\n",
    "\n",
    "\n",
    "# The extrapolated curves\n",
    "\n",
    "\n",
    "# Plot data\n",
    "# Brute\n",
    "plt.plot(dl_brute_times['Mean time'], label='Brute', color='Blue')\n",
    "plt.plot(dl_brute_fast_times['Mean time'],\n",
    "         label='Compiled Brute', color='orange')\n",
    "plt.plot(dl_brute_better_times['Mean time'],\n",
    "         label='Brute Better', color='green')\n",
    "plt.plot(dl_brute_better_fast_times['Mean time'],\n",
    "         label='Compiled Brute Better', color='red')\n",
    "\n",
    "# Baby/Giant Steps\n",
    "plt.plot(dl_step_times['Mean time'],\n",
    "         label='Baby Step, Giant Step', color='black')\n",
    "\n",
    "plt.plot(dl_step_fast_times['Mean time'],\n",
    "         label='Compiled Baby Step, Giant Step', color='purple')\n",
    "\n",
    "# The extrapolated curves\n",
    "# Brute\n",
    "plt.plot(*get_prediction(dl_brute_times[MT], 12, 31), linewidth=1,\n",
    "         linestyle=\"--\", color=\"blue\",\n",
    "         label=r\"$y = (%e) e^{(%e) x}$\" % (get_prediction(dl_brute_times[MT], ab=True)))\n",
    "\n",
    "plt.plot(*get_prediction(dl_brute_fast_times[MT], 12, 31), linewidth=1,\n",
    "         linestyle=\"--\", color=\"orange\",\n",
    "         label=r\"$y = (%e) e^{(%e) x}$\" % (get_prediction(dl_brute_fast_times[MT], ab=True)))\n",
    "\n",
    "plt.plot(*get_prediction(dl_brute_better_times[MT], 12, 31), linewidth=1,\n",
    "         linestyle=\"--\", color=\"green\",\n",
    "         label=r\"$y = (%e) e^{(%e) x}$\" % (get_prediction(dl_brute_better_times[MT], ab=True)))\n",
    "\n",
    "plt.plot(*get_prediction(dl_brute_better_fast_times[MT], 12, 35), linewidth=1,\n",
    "         linestyle=\"--\", color=\"red\",\n",
    "         label=r\"$y = (%e) e^{(%e) x}$\" % (get_prediction(dl_brute_better_fast_times[MT],\n",
    "                                                          ab=True)))\n",
    "\n",
    "# Baby/Giant Steps\n",
    "plt.plot(*get_prediction(dl_step_times[MT], 12, 45), linewidth=1,\n",
    "         linestyle=\"--\", color=\"black\",\n",
    "         label=r\"$y = (%e) e^{(%e) x}$\" % (get_prediction(dl_step_times[MT], ab=True)))\n",
    "\n",
    "plt.plot(*get_prediction(dl_step_fast_times[MT], 12, 45), linewidth=1,\n",
    "         linestyle=\"--\", color=\"purple\",\n",
    "         label=r\"$y = (%e) e^{(%e) x}$\" % (get_prediction(dl_step_fast_times[MT], ab=True)))\n",
    "\n",
    "plt.ylim(0, 6)\n",
    "plt.xlim(0, 45)\n",
    "plt.legend(loc=\"upper left\", prop={\"size\": 15})\n",
    "plt.xlabel(r\"$n$ bit size of p and a\")\n",
    "plt.ylabel(r\" Mean time (seconds)\")\n",
    "plt.title(r\"Discrete Logarithm Algorithms Time\")\n",
    "# plt.yscale('log')\n",
    "\n",
    "# Save the graph as an image\n",
    "plt.savefig('data/Discrete Logarithm Algorithms Time Graph')\n",
    "\n",
    "\n",
    "plt.show()"
   ]
  },
  {
   "cell_type": "markdown",
   "metadata": {},
   "source": [
    "As discussed earlier in the project we concluded from the NIST (National Institute of Standards and Technology) that for any security method it should take over $2$ years to crack. In this case to crack the Diffie-Hellman protocol (solving the discrete logarithm problem) should take over $2$ years, when the function takes longer than two years to solve this is the point at which the function becomes infeasible. As we don't have time to test what bit size takes over 2 years we will have to use the data gathered and extrapolate. Due to the nature of extrapolation these will be approximations.\n",
    "\n",
    "Below is a table of the bit size of $p$ and $a$ required to exceed the time needed to solve the discrete logarithm problem using the given method."
   ]
  },
  {
   "cell_type": "code",
   "execution_count": null,
   "metadata": {},
   "outputs": [],
   "source": [
    "h = 60*60  # seconds in hour\n",
    "d = 24*h  # seconds in day\n",
    "w = 7*d  # seconds in week\n",
    "m = 30.42 * d  # seconds in month\n",
    "y = 365.25 * d  # seconds in year\n",
    "MT = 'Mean time'\n",
    "\n",
    "\n",
    "time_seg = [h, 5*h, 12*h, d, w, 2*w, m, 3*m, 6*m, y, 2*y]\n",
    "\n",
    "time_name = ['1 hour', '5 hours', '12 hours', '1 day', '1 week',\n",
    "             '2 weeks', '1 month', '3 months', '6 months', '1 year', '2 years']\n",
    "\n",
    "\n",
    "infeasible_brute_bit = [calc_time(time_val, *get_prediction(dl_brute_times[MT], ab=True),\n",
    "                                  inverse=True) for time_val in time_seg]\n",
    "\n",
    "infeasible_brute_fast_bit = [calc_time(time_val, *get_prediction(dl_brute_fast_times[MT], ab=True),\n",
    "                                       inverse=True) for time_val in time_seg]\n",
    "\n",
    "infeasible_brute_better_bit = [calc_time(time_val, *get_prediction(dl_brute_better_times[MT], ab=True),\n",
    "                                         inverse=True) for time_val in time_seg]\n",
    "\n",
    "infeasible_brute_better_fast_bit = [calc_time(time_val, *get_prediction(dl_brute_better_fast_times[MT], ab=True),\n",
    "                                              inverse=True) for time_val in time_seg]\n",
    "\n",
    "\n",
    "infeasible_step_bit = [calc_time(time_val, *get_prediction(dl_step_times[MT], ab=True),\n",
    "                                 inverse=True) for time_val in time_seg]\n",
    "\n",
    "infeasible_step_fast_bit = [calc_time(time_val, *get_prediction(dl_step_fast_times[MT], ab=True),\n",
    "                                 inverse=True) for time_val in time_seg]\n",
    "\n",
    "\n",
    "df_infeasible = pd.DataFrame(\n",
    "    {'Time': time_name, 'Brute': infeasible_brute_bit, 'Compiled Brute': infeasible_brute_fast_bit,\n",
    "     'Brute Better': infeasible_brute_better_bit, 'Compiled Brute Better': infeasible_brute_better_fast_bit,\n",
    "     'Step': infeasible_step_bit, 'Compiled Step': infeasible_step_fast_bit})\n",
    "\n",
    "df_infeasible"
   ]
  },
  {
   "cell_type": "markdown",
   "metadata": {},
   "source": [
    "Obviously you can't have a n-bit number where $n$ isn't an integer, so taking the ceiling (rounding up) will give the bit size of $p$ and $a$ to solve the discrete logarithm problem in over the time for the given function."
   ]
  },
  {
   "cell_type": "code",
   "execution_count": null,
   "metadata": {},
   "outputs": [],
   "source": [
    "# Saves data fram as CSV file\n",
    "df_all_times.to_csv('data/Discrete Logarithm Algorithms Time Table.csv')\n",
    "df_infeasible.to_csv(\n",
    "    'data/Discrete Logarithm Infeasible Bit Times.csv', index=False)"
   ]
  },
  {
   "cell_type": "markdown",
   "metadata": {},
   "source": [
    "It is very clear to see that the Baby/Giant step algorithm is superior to all of the brute force methods. Therefore, even if an algorithm is written in machine code for the CPU it is quicker to use a more time efficient algorithm it is also a lot easier to code. However, the space complexity (the amount of space used up) for the Baby/Giant step algorithm is inferior to all the brute algorithms, this reason is negligible as the desktops have lots of storage space, first using CPU cache then RAM and if that overflows virtual memory.\n",
    "\n",
    "It is worth to note in the Compiled Step algorithms current state, it can't deal with high bit numbers as overflow errors will occur."
   ]
  },
  {
   "cell_type": "markdown",
   "metadata": {},
   "source": [
    "# Referencing"
   ]
  },
  {
   "cell_type": "markdown",
   "metadata": {},
   "source": [
    "KATZ, J.K. LINDELL, Y.L. $\\textbf{Introduction To Modern Cryptography}$. 2nd edition. Taylor and Francis group. Dec. 2014\n",
    "\n",
    "http://numba.pydata.org/numba-doc/latest/user/index.html 24/05/2020\n",
    "\n",
    "https://github.com/python/cpython 24/05/2020\n",
    "\n",
    "https://en.wikipedia.org/wiki/Baby-step_giant-step 24/05/2020\n"
   ]
  },
  {
   "cell_type": "code",
   "execution_count": null,
   "metadata": {},
   "outputs": [],
   "source": []
  }
 ],
 "metadata": {
  "kernelspec": {
   "display_name": "Python 3",
   "language": "python",
   "name": "python3"
  },
  "language_info": {
   "codemirror_mode": {
    "name": "ipython",
    "version": 3
   },
   "file_extension": ".py",
   "mimetype": "text/x-python",
   "name": "python",
   "nbconvert_exporter": "python",
   "pygments_lexer": "ipython3",
   "version": "3.7.4"
  },
  "toc": {
   "base_numbering": 1,
   "nav_menu": {
    "height": "498px",
    "width": "413px"
   },
   "number_sections": true,
   "sideBar": true,
   "skip_h1_title": false,
   "title_cell": "Table of Contents",
   "title_sidebar": "Contents",
   "toc_cell": false,
   "toc_position": {
    "height": "calc(100% - 180px)",
    "left": "10px",
    "top": "150px",
    "width": "389.198px"
   },
   "toc_section_display": true,
   "toc_window_display": false
  },
  "varInspector": {
   "cols": {
    "lenName": 16,
    "lenType": 16,
    "lenVar": 40
   },
   "kernels_config": {
    "python": {
     "delete_cmd_postfix": "",
     "delete_cmd_prefix": "del ",
     "library": "var_list.py",
     "varRefreshCmd": "print(var_dic_list())"
    },
    "r": {
     "delete_cmd_postfix": ") ",
     "delete_cmd_prefix": "rm(",
     "library": "var_list.r",
     "varRefreshCmd": "cat(var_dic_list()) "
    }
   },
   "position": {
    "height": "616.667px",
    "left": "989.333px",
    "right": "20px",
    "top": "124px",
    "width": "350px"
   },
   "types_to_exclude": [
    "module",
    "function",
    "builtin_function_or_method",
    "instance",
    "_Feature"
   ],
   "window_display": false
  }
 },
 "nbformat": 4,
 "nbformat_minor": 2
}
