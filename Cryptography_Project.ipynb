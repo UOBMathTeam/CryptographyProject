{
 "cells": [
  {
   "cell_type": "markdown",
   "metadata": {},
   "source": [
    "Cryptography"
   ]
  },
  {
   "cell_type": "markdown",
   "metadata": {},
   "source": [
    "### Team\n",
    "<ol>\n",
    "    <li> Mark Pearson </li>\n",
    "    <li> Ronan Geraghty</li>\n",
    "    <li> Milan Patel </li>\n",
    "    <li> Will Steynor </li>\n",
    "</ol>\n",
    "\n"
   ]
  },
  {
   "cell_type": "code",
   "execution_count": 1,
   "metadata": {},
   "outputs": [],
   "source": [
    "from NumberFunctions import *\n",
    "import numpy as np\n",
    "import random as ran\n",
    "import matplotlib.pyplot as plt\n",
    "from time import process_time\n",
    "import pandas as pd\n",
    "import numba\n",
    "import time"
   ]
  },
  {
   "cell_type": "markdown",
   "metadata": {},
   "source": [
    "Stuff extra to include\n",
    "\n",
    "+ difference between asymmetric and symmetric cryptography\n",
    "\n",
    "+ Steganography"
   ]
  },
  {
   "cell_type": "markdown",
   "metadata": {},
   "source": [
    "# Core 2: RSA Signature Message"
   ]
  },
  {
   "cell_type": "markdown",
   "metadata": {},
   "source": [
    "## Modular Inverse"
   ]
  },
  {
   "cell_type": "markdown",
   "metadata": {},
   "source": [
    "Solve, \n",
    "> $ax = 1 \\pmod{m} $ for  $x \\in \\{1,2,3,...,m-1\\}$\n",
    "\n",
    "\n",
    "Proof\n",
    "\n",
    "We have, where $x,y \\in \\mathbb{Z}$ are calculated by the Euclidean algorithm.\n",
    "> $ax+by = gcd(a,b)$\n",
    "\n",
    "We only need to take into account when $gcd(a,b)=1$ as $e$ is chosen so $gcd(e,\\phi{N})=1$\n",
    "\n",
    "Let $m=b$, where $gcd(a,m) = 1$\n",
    "\n",
    "So we get\n",
    "> \\begin{align*}\n",
    "ax+my &= 1\\\\\n",
    "ax + my &\\equiv 1\\pmod{m}\\\\\n",
    "ax &\\equiv 1\\pmod{m}\n",
    "\\end{align*}\n",
    "\n",
    "Therefore, $x$ is a modular inverse of $a$ for $m$\n",
    "\n",
    "However, by using the Euclidean algorithm sometimes $x$ is not in the set $\\{1,2,...,m-1\\}$. This is a problem as if $x$ is negative when we use it later for the RSA signature we need to take the modulo of $int^{x}$, to do this we must have $int = int^{x}$\n",
    "\n",
    "Let us consider the case where $x \\notin \\{1,2,...,m-1\\}$, Let $d \\in \\mathbb{Z}$\n",
    "> \\begin{align*}\n",
    "ax &\\equiv 1\\pmod{m}\\\\\n",
    "ax + adm &\\equiv 1\\pmod{m}\\\\\n",
    "a(x + dm) &\\equiv 1\\pmod{m}\n",
    "\\end{align*}\n",
    "\n",
    "Set $x\\prime = x + dm \\iff x\\prime = x \\pmod{m}$\n",
    "\n",
    "We know $x\\prime \\in \\{1,2,...,m-1\\}$\n"
   ]
  },
  {
   "cell_type": "code",
   "execution_count": 2,
   "metadata": {
    "scrolled": false
   },
   "outputs": [],
   "source": [
    "@numba.jit('int64(int64)', nopython=True)\n",
    "def totient_fast(n):\n",
    "    '''return the totient of n,\n",
    "        number of postive integers < n which are coprime to n.'''\n",
    "    num = 0\n",
    "    for i in range(1, n):\n",
    "        if gcd_fast(i, n) == 1:\n",
    "            num += 1\n",
    "    return num\n",
    "\n",
    "@numba.vectorize('int64(int64)', nopython= True, target='parallel')\n",
    "def totient_fast_ufunc_par(n):\n",
    "    return totient_fast(n)\n",
    "\n",
    "def totient(n):\n",
    "    '''return the totient of n,\n",
    "        number of postive integers < n which are coprime to n.'''\n",
    "    num = 0\n",
    "    for i in range(1, n):\n",
    "        if gcd_fast(i, n) == 1:\n",
    "            num += 1\n",
    "    return num\n",
    "\n",
    "\n",
    "\n",
    "\n",
    "def my_hash(message, N):\n",
    "    '''Turn message to bits\n",
    "    Then turn into int h'''\n",
    "    return hash(message) % N\n",
    "\n",
    "\n",
    "def modular_inverse(a, n):\n",
    "    '''Solves ax = 1 mod(n) for x in {1,2,3,...,m-1}'''\n",
    "    gcd, x, y = gcd_ext(a, n)\n",
    "    if gcd == 1:\n",
    "        return x % n\n",
    "    else:\n",
    "        return \"gcd not = 1\"\n",
    "\n",
    "def get_primes_composites(n, is_prime_FUN=isprime_basic):\n",
    "    '''returns a numpy array of primes and composites with largest number being n,\n",
    "    is_prime_FUN: which function will be used to identify if a number is prime'''\n",
    "    primes = []\n",
    "    composites = []\n",
    "\n",
    "    for num in range(1, n+1):\n",
    "        if is_prime_FUN(num):\n",
    "            primes.append(num)\n",
    "        else:\n",
    "            composites.append(num)\n",
    "\n",
    "    return np.array(primes), np.array(composites)\n",
    "\n",
    "\n",
    "def primality_test(N, t):\n",
    "    for i in range(0, t):\n",
    "        a = ran.randrange(0, N-1)\n",
    "        if a**(N-1) % N != 1:\n",
    "            return \"composite\"\n",
    "    return \"prime\""
   ]
  },
  {
   "cell_type": "code",
   "execution_count": 3,
   "metadata": {},
   "outputs": [],
   "source": [
    "# Tests\n",
    "\n",
    "assert totient(7) == 6\n",
    "assert totient(35) == 24\n",
    "assert totient(5321) == 4992\n",
    "\n",
    "assert max(totient_fast_ufunc_par(np.array([7,35,5321])) - np.array([6,24,4992]))<1e-10\n",
    "\n",
    "assert modular_inverse(15, 7) == 1\n",
    "\n",
    "a = 3487\n",
    "n = 9837\n",
    "b = modular_inverse(a, n)\n",
    "assert (a*b) % n == 1\n",
    "\n",
    "# This test gets negative value originally, but inverse needs to be inbetween {1,2,..,m-1}\n",
    "a = 3231\n",
    "n = 12334\n",
    "assert modular_inverse(a, n) == 11895\n",
    "\n",
    "\n",
    "expected_primes = np.array([2, 3, 5, 7, 11, 13, 17, 19])\n",
    "expected_composites = np.array([1, 4, 6, 8, 9, 10, 12, 14, 15, 16, 18, 20])\n",
    "\n",
    "primes, composites = get_primes_composites(20)\n",
    "assert max(primes - expected_primes) == 0\n",
    "assert max(composites - expected_composites) == 0"
   ]
  },
  {
   "cell_type": "markdown",
   "metadata": {},
   "source": [
    "## Generating primes using Miller Rabin"
   ]
  },
  {
   "cell_type": "markdown",
   "metadata": {},
   "source": [
    "An n bit number is one which requires n bits to be stored, with the most significant bit (the left most bit) being 1. This means the n bit number is in the range $[2^{n-1}, 2^n)$.\n",
    "\n",
    "we need to generate primes of n bit length, the idea is to pick a n bit number and check if it is prime. However, with large values of primes the traditional method of checking if numbers divide the prime doesn't work very fast, if n is prime it has at best a speed of $O(\\sqrt{n})$. \n",
    "\n",
    "However, by using a probabilistic approach to find primes. Large primes can be found. The longer the algorithm is run for the higher the probability of getting a prime is. We will be using the probabilistic method called Miller Rabin."
   ]
  },
  {
   "cell_type": "markdown",
   "metadata": {},
   "source": [
    "### How Miller Rabin Works"
   ]
  },
  {
   "cell_type": "markdown",
   "metadata": {},
   "source": [
    "Let $n$ be prime with $n>2$\n",
    "\n",
    "So we have $n-1$ must be even, this means it can be written as $2^sd$ with $s,d \\in \\mathbb{N}_+$ and $d$ odd.\n",
    "\n",
    "Therefore, we have one of these must be true for each $a\\in \\{2,3,...,n-1\\}$\n",
    "\n",
    "> $a^d \\equiv 1 \\mod{n}$\n",
    "\n",
    "or\n",
    "\n",
    ">$a^{2^rd} \\equiv -1 \\mod{n}$ for $r \\in \\{0,1,2,...,s-1\\}$\n",
    "\n",
    "To prove this we will use Fermat's Little Theorem which states for a prime number $n$ and $a\\in \\mathbb{Z}/n\\mathbb{Z}$.\n",
    "> $a^{n-1} \\equiv 1\\mod{n} \\iff a^{n} \\equiv a \\mod{n}$\n",
    "\n",
    "This can be written as\n",
    ">$a^{n-1} = a^{2^sd}$\n",
    "\n",
    "Then by taking square roots\n",
    ">\\begin{align*}\n",
    "\\sqrt{a^{2^sd}} &\\equiv \\sqrt{1} \\mod{n}\\\\\n",
    "&\\text{ }\\\\\n",
    "a^{2^{s-1}d} &\\equiv +1 \\mod{n} \\\\\n",
    "\\textrm{or}&\\\\\n",
    "a^{2^{s-1}d} &\\equiv -1 \\mod{n}\n",
    "\\end{align*}\n",
    "\n",
    "If it is $+1$ we square root again, when we get the modulo equal to $-1$ we can no longer take any more square roots so that equation is true. Therefore, we get one of the above equations must be true.\n",
    "\n",
    "However, we will be using the contrapositive of the above claim,\n",
    "\n",
    "The contrapositive states,\n",
    "> $(P \\rightarrow Q) \\iff (\\neg{Q} \\rightarrow \\neg{P})$\n",
    "\n",
    "So we get the contrapositive of the above claim is \n",
    "> $a^d \\not\\equiv 1 \\mod{n}$\n",
    "\n",
    "and\n",
    "\n",
    ">$a^{2^rd} \\not\\equiv -1 \\mod{n}$ for $r \\in \\{0,1,2,...,s-1\\}$\n",
    "\n",
    "Then $n$ is not a prime,\n",
    "\n",
    "When $a$ satisfies these equations $a$ is know as a witness for the composition of $n$.\n",
    "\n",
    "When $a$ does not satisfy these equations and $n$ is composite, $a$ is known as a strong liar. This means $n$ is a strong probable prime to base $a$.\n",
    "\n",
    "By randomly picking $a\\in\\{2,3,...,n-1\\}$ multiple times it is unlikely for all of the selected $a$ to be strong liars.\n",
    "\n",
    "This leads to the fact, if $p$ is $prime$, then the Miller Rabin test outputs $prime$. If p is $composite$, the algorithm outputs $composite$ but has a small chance of outputting $prime$."
   ]
  },
  {
   "cell_type": "code",
   "execution_count": 41,
   "metadata": {},
   "outputs": [],
   "source": [
    "def random_prime(n_bit, t, trails=500):\n",
    "    '''Returns a uniform n-bit prime, with probability at most 2^(-t) getting a composite,\n",
    "    the higher the trails the less chance of failing to generate a prime but takes longer'''\n",
    "    for i in range(0, trails):\n",
    "        p = np.random.randint(0, 2, n_bit-2)\n",
    "        b = \"\".join(str(i) for i in p)\n",
    "        my_int = int(\"1\" + b + \"1\", 2)  # Want at least n bit and gives odd\n",
    "        if is_prime_miller_rabin(my_int, t):\n",
    "            return my_int\n",
    "    return \"Fail\"\n",
    "\n",
    "\n",
    "def is_prime_miller_rabin(N, t=40):\n",
    "    '''If N is prime, test always outputs True(prime)\n",
    "    If N is composite outputs False(not prime) except with probability at most 2^(-t)'''\n",
    "\n",
    "    if N == 2:\n",
    "        return True  # Prime\n",
    "\n",
    "    if N == 3:\n",
    "        return True  # Prime\n",
    "\n",
    "    if N % 2 == 0:\n",
    "        return False  # Comp\n",
    "\n",
    "    if N < 2:\n",
    "        return False  # Comp\n",
    "\n",
    "    d, s = calc_d_s(N)\n",
    "    for j in range(0, t):\n",
    "        a = ran.randrange(2, N-1)\n",
    "        if is_composite(N, d, s, a):\n",
    "            return False  # Comp\n",
    "    return True  # Prime\n",
    "\n",
    "\n",
    "def is_composite(N, d, s, a):\n",
    "    '''Evaulate a^d != +-1 mod(N), and, a^(d*2^r) != -1 mod(N) for r in {1,2,...,s-1},\n",
    "    However, if output False does not mean prime, it could be a strong liar'''\n",
    "    remain = pow(a, d, N)\n",
    "    if (remain != 1) and (remain != N - 1):\n",
    "        for r in range(1, s):\n",
    "            remain = pow(remain, 2, N)\n",
    "            if remain != N-1:\n",
    "                pass\n",
    "            else:\n",
    "                return False\n",
    "    else:\n",
    "        return False\n",
    "\n",
    "    return True\n",
    "\n",
    "\n",
    "def calc_d_s(N):\n",
    "    s = 0\n",
    "    Num = N - 1\n",
    "    while Num % 2 == 0:\n",
    "        Num //= 2\n",
    "        s += 1\n",
    "    d = Num\n",
    "    return int(d), int(s)"
   ]
  },
  {
   "cell_type": "code",
   "execution_count": 42,
   "metadata": {},
   "outputs": [],
   "source": [
    "# Tests\n",
    "assert calc_d_s(71)[0] == 35\n",
    "assert calc_d_s(71)[1] == 1\n",
    "assert calc_d_s(127)[0] == 63\n",
    "assert calc_d_s(127)[1] == 1\n",
    "assert calc_d_s(9627824804082068411)[0] == 4813912402041034205\n",
    "assert calc_d_s(9627824804082068411)[1] == 1\n",
    "assert calc_d_s(203981900391787397947)[0] == 101990950195893698973\n",
    "assert calc_d_s(203981900391787397947)[1] == 1\n",
    "\n",
    "\n",
    "N, d, s = 221, 55, 2\n",
    "# 137 is a witness for compositeness of 221\n",
    "a = 137\n",
    "assert is_composite(N, d, s, a) == True\n",
    "\n",
    "# 174 will lead to 221 being a prime or 174 is a strong liar for 221\n",
    "a = 174\n",
    "assert is_composite(N, d, s, a) == False\n",
    "\n",
    "N, d, s = 71, 35, 1\n",
    "a = 19\n",
    "assert is_composite(N, d, s, a) == False\n",
    "\n",
    "\n",
    "assert is_prime_miller_rabin(203981900391787397947, 40) == True\n",
    "assert is_prime_miller_rabin(-1235, 40) == False\n",
    "assert is_prime_miller_rabin(1, 40) == False\n",
    "assert is_prime_miller_rabin(3, 40) == True\n",
    "\n",
    "# Tests\n",
    "expected_primes = np.array([2, 3, 5, 7, 11, 13, 17, 19])\n",
    "expected_composites = np.array([1, 4, 6, 8, 9, 10, 12, 14, 15, 16, 18, 20])\n",
    "\n",
    "primes, composites = get_primes_composites(20, is_prime_miller_rabin)\n",
    "assert max(primes - expected_primes) == 0\n",
    "assert max(composites - expected_composites) == 0"
   ]
  },
  {
   "cell_type": "code",
   "execution_count": 43,
   "metadata": {},
   "outputs": [],
   "source": [
    "def gen_modulas(n_bit):\n",
    "    '''n_bit is the size of the primes you want, the secuirty level.\n",
    "    This will output (N,p,q), N = p*q, p,q are n_bit uniform primes'''\n",
    "\n",
    "    p = \"\"\n",
    "    q = \"\"\n",
    "\n",
    "    while type(p) == str or type(q) == str:\n",
    "        p = random_prime(n_bit, 40)\n",
    "        q = random_prime(n_bit, 40)\n",
    "    N = p*q\n",
    "    return N, p, q\n",
    "\n",
    "\n",
    "def choose_e(phi_n):\n",
    "    e = 2\n",
    "    while True:\n",
    "        if gcd(e, phi_n) == 1:\n",
    "            return e\n",
    "        else:\n",
    "            e += 1\n",
    "\n",
    "\n",
    "def gen_RSA(n_bit):\n",
    "    '''n_bit is the size of the primes you want, the secuirty level.\n",
    "    output, N,e,f, N = p*q, e is relatively prime to phi(N), f solves ef = 1mod(phi(N))'''\n",
    "    N, p, q = gen_modulas(n_bit)\n",
    "    phi_n = (p-1)*(q-1)\n",
    "    e = choose_e(phi_n)\n",
    "    f = modular_inverse(e, phi_n)\n",
    "    return N, e, f"
   ]
  },
  {
   "cell_type": "code",
   "execution_count": 44,
   "metadata": {},
   "outputs": [],
   "source": [
    "assert choose_e(448) == 3"
   ]
  },
  {
   "cell_type": "markdown",
   "metadata": {},
   "source": [
    "## The RSA-FDH Signature Scheme"
   ]
  },
  {
   "cell_type": "markdown",
   "metadata": {},
   "source": [
    "This is from the hash and sign paradigm. Where FDH means full domain hash. There are three stages to this scheme: Generation, Sign and Verify\n",
    "+ Generation\n",
    "  - We input the n-bit size of the random uniform primes we want\n",
    "  - This will give us a private key $(N,f)$ and public key $(N,e)$\n",
    "  - Where $N=pq$ and\n",
    "  > $ef \\equiv 1 \\mod{\\phi{N}} $\n",
    "  - A hash function $H$ is generated so all outputs are in $\\{1,2,3,...,N-1\\}$\n",
    "  - The hash function $H$ is part of the public key\n",
    "+ Sign\n",
    "  - We input the private key $(N,f)$ and a message which will be hashed by $H$ into $h$\n",
    "  - So we can compute the $s \\in \\mathbb{Z}$, which is the signature\n",
    "  > $s \\equiv m^d \\pmod{N}$  \n",
    "+ Verify\n",
    "  - We input the public key $(N,e)$ and a message which will be hashed by $H$ into $h\\prime$\n",
    "  - We input $s$ the signature\n",
    "  - Output $1$ which means authenticated if and only if\n",
    "  > $h \\equiv s^e \\pmod{N}$\n",
    "\n",
    "This works as\n",
    "> $s^e \\equiv (h^f)^e \\equiv h^{ef \\mod{\\phi{N}}} \\equiv h^1 \\equiv h\\mod{N}$\n",
    "\n",
    "The reason why this is effective is because calculating $\\phi{N}$ is very difficult, but with extra information $pq=N$ where $p,q \\in$ Primes it makes $\\phi{N}$ easy to calculate, this is know as a trap door. Additionally, the private key can be calculated from knowing the public key and the two primes that make up $N$.\n",
    "\n",
    "Where $\\phi{}$ is the Euler totient function. "
   ]
  },
  {
   "cell_type": "code",
   "execution_count": 8,
   "metadata": {},
   "outputs": [],
   "source": [
    "def Generation(n_bit):\n",
    "    '''input: n_bit, size of primes wanted\n",
    "    output: private and public key'''\n",
    "    N, e, f = gen_RSA(n_bit)\n",
    "    private_key = {\"N\": N, \"f\": f}\n",
    "    public_key = {\"N\": N, \"e\": e}\n",
    "    return private_key, public_key\n",
    "\n",
    "\n",
    "def Sign(message, private_key):\n",
    "    h = my_hash(message, private_key[\"N\"])\n",
    "    s = pow(h, private_key[\"f\"], private_key[\"N\"])\n",
    "    return s\n",
    "\n",
    "\n",
    "def Verify(message, s, public_key):\n",
    "    h_prime = my_hash(message, public_key[\"N\"])\n",
    "    h = pow(s, public_key[\"e\"], public_key[\"N\"])\n",
    "\n",
    "    if h_prime == h:\n",
    "        return 1  # Authenticated\n",
    "    else:\n",
    "        return 0  # Intruder"
   ]
  },
  {
   "cell_type": "markdown",
   "metadata": {},
   "source": [
    "### Note, why is $\\phi{(pq)}$ is easy to calculate"
   ]
  },
  {
   "cell_type": "markdown",
   "metadata": {},
   "source": [
    "For large $N$, we have $\\phi{(N)}$ is difficult to calculate. But since $\\phi$ is a multiplicative function we have when $a,b$ are relatively prime ($gcd(a,b)=1$). Then,\n",
    "> $\\phi{(ab)} = \\phi{(a)}\\phi{(b)}$\n",
    "\n",
    "We also have by the definition of the Euler totient function, for all $p\\in primes$\n",
    "> $\\phi{(p)} = p-1$\n",
    "\n",
    "This means if two primes denoted by $p,q$ can be found such that $N=pq$, then $\\phi{(N)}$ can be quickly calculated by\n",
    "> $\\phi{(N)} = \\phi{(p)}\\phi{(q)} = (p-1)(q-1)$\n",
    "\n",
    "\n",
    "Below is a graph of the totient function for the first 500 numbers"
   ]
  },
  {
   "cell_type": "code",
   "execution_count": 16,
   "metadata": {},
   "outputs": [
    {
     "data": {
      "image/png": "[encoded data removed]",
      "text/plain": [
       "<Figure size 1008x432 with 1 Axes>"
      ]
     },
     "metadata": {
      "needs_background": "light"
     },
     "output_type": "display_data"
    }
   ],
   "source": [
    "x_prime, x_comp = get_primes_composites(500)\n",
    "\n",
    "y_prime = np.array([totient(x_prime[i]) for i in range(0, len(x_prime))])\n",
    "y_comp = np.array([totient(x_comp[i]) for i in range(0, len(x_comp))])\n",
    "\n",
    "plt.figure(figsize=(14, 6))\n",
    "plt.scatter(x_comp, y_comp, color=\"blue\", label=\"Composites\")\n",
    "plt.scatter(x_prime, y_prime, color=\"red\", label=\"Primes\")\n",
    "plt.title(\"Euler Totient Function\")\n",
    "plt.ylabel(\"Totient\")\n",
    "plt.xlabel(\"Number\")\n",
    "plt.legend(fontsize=\"x-large\")\n",
    "plt.show()"
   ]
  },
  {
   "cell_type": "markdown",
   "metadata": {},
   "source": [
    "Below is also an Euler Totient graph but this time it is calculated with compiled code and on multiple threads thus using all CPU's. This means more numbers can be shown. "
   ]
  },
  {
   "cell_type": "code",
   "execution_count": 19,
   "metadata": {},
   "outputs": [
    {
     "data": {
      "image/png": "[encoded data removed]",
      "text/plain": [
       "<Figure size 1008x432 with 1 Axes>"
      ]
     },
     "metadata": {
      "needs_background": "light"
     },
     "output_type": "display_data"
    }
   ],
   "source": [
    "x_prime, x_comp = get_primes_composites(10000, is_prime_FUN=isprime_basic_fast)\n",
    "\n",
    "\n",
    "y_prime = totient_fast_ufunc_par(x_prime)\n",
    "y_comp = totient_fast_ufunc_par(x_comp)\n",
    "\n",
    "plt.figure(figsize=(14, 6))\n",
    "plt.scatter(x_comp, y_comp, color=\"blue\", label=\"Composites\", s = 1)\n",
    "plt.scatter(x_prime, y_prime, color=\"red\", label=\"Primes\", s = 1)\n",
    "plt.title(\"Euler Totient Function\")\n",
    "plt.ylabel(\"Totient\")\n",
    "plt.xlabel(\"Number\")\n",
    "plt.legend(fontsize=\"x-large\")\n",
    "plt.show()"
   ]
  },
  {
   "cell_type": "markdown",
   "metadata": {},
   "source": [
    "### Note, forms of private key"
   ]
  },
  {
   "cell_type": "markdown",
   "metadata": {},
   "source": [
    "If the private key is of the format $(p,q)$ where $N=pq$ given the public key $(N,e)$, the private key can be written in the format $(N,f)$ where $fe \\equiv 1 \\mod{\\phi(N)}$ by the following code"
   ]
  },
  {
   "cell_type": "code",
   "execution_count": 10,
   "metadata": {},
   "outputs": [],
   "source": [
    "def convert_to_N_f(prime_private_key, public_key):\n",
    "    '''inputs private key of form two primes and public key\n",
    "    outputs the new private key of form(N,f)'''\n",
    "    p = prime_private_key[\"p\"]\n",
    "    q = prime_private_key[\"q\"]\n",
    "    N = public_key[\"N\"]\n",
    "    e = public_key[\"e\"]\n",
    "\n",
    "    if p*q != N:\n",
    "        return \"The private key does not work with public key\"\n",
    "\n",
    "    phi_N = (p-1)*(q-1)\n",
    "    f = modular_inverse(e, phi_N)\n",
    "    new_private_key = {\"N\": N, \"f\": f}\n",
    "    return new_private_key"
   ]
  },
  {
   "cell_type": "code",
   "execution_count": 11,
   "metadata": {},
   "outputs": [],
   "source": [
    "# Tests\n",
    "prime_private_key = {\"p\": 41, \"q\": 61}\n",
    "public_key = {\"N\": 2501, \"e\": 7}\n",
    "private_key = convert_to_N_f(prime_private_key, public_key)\n",
    "assert private_key == {\"N\": 2501, \"f\": 343}"
   ]
  },
  {
   "cell_type": "markdown",
   "metadata": {},
   "source": [
    "## Examples of RSA Signature"
   ]
  },
  {
   "cell_type": "markdown",
   "metadata": {},
   "source": [
    "### Example 1, no intruder"
   ]
  },
  {
   "cell_type": "markdown",
   "metadata": {},
   "source": [
    "Bob wants to know the message he has been sent is from Alice. Therefore, Alice needs to generate private and public keys, sign the message. When Bob receives the message he has to verify the message is from Alice."
   ]
  },
  {
   "cell_type": "code",
   "execution_count": 12,
   "metadata": {},
   "outputs": [
    {
     "data": {
      "text/plain": [
       "1"
      ]
     },
     "execution_count": 12,
     "metadata": {},
     "output_type": "execute_result"
    }
   ],
   "source": [
    "message = \"Hello Bob my freind\"\n",
    "# Generate keys with 512 bit primes\n",
    "private_key, public_key = Generation(512)\n",
    "\n",
    "# Alice needs to sign message\n",
    "s = Sign(message, private_key)\n",
    "\n",
    "# s and message are sent to Bob\n",
    "# Bob should also have access to the public key\n",
    "# Bob will now verify Alice sent the message\n",
    "Verification = Verify(message, s, public_key)\n",
    "Verification"
   ]
  },
  {
   "cell_type": "markdown",
   "metadata": {},
   "source": [
    "As can be seen the verification process passed so Bob knows Alice sent the message.\n",
    "\n",
    "Sometimes with very small probability the prime generator will produce a composite number. However, this is fine as then the message will fail the verification process and then the signature process happens again."
   ]
  },
  {
   "cell_type": "markdown",
   "metadata": {},
   "source": [
    "### Example 2, intruder Dave"
   ]
  },
  {
   "cell_type": "markdown",
   "metadata": {},
   "source": [
    "Bob wants to know the message he has been sent is from Alice. And that Dave has not captured and changed the message. Same as before  Alice needs to generate private and public keys, sign the message. When Bob receives the message he has to verify the message is from Alice. If the message fails verification Dave has changed the message. "
   ]
  },
  {
   "cell_type": "code",
   "execution_count": 13,
   "metadata": {},
   "outputs": [
    {
     "data": {
      "text/plain": [
       "0"
      ]
     },
     "execution_count": 13,
     "metadata": {},
     "output_type": "execute_result"
    }
   ],
   "source": [
    "message = \"Hello Bob my freind\"\n",
    "# Generate keys with 512 bit primes\n",
    "private_key, public_key = Generation(512)\n",
    "\n",
    "# Alice needs to sign message\n",
    "s = Sign(message, private_key)\n",
    "\n",
    "# s and message are sent to Bob\n",
    "# Bob should also have access to the public key\n",
    "\n",
    "# Dave intercepts the message and changes it\n",
    "message = \"I declare war on Bob\"\n",
    "# Dave sends new message to Bob\n",
    "\n",
    "# Bob will now verify Alice sent the message\n",
    "Verification = Verify(message, s, public_key)\n",
    "Verification"
   ]
  },
  {
   "cell_type": "markdown",
   "metadata": {},
   "source": [
    "The verification failed this means Bob knows that someone has intercepted and changed the message. "
   ]
  },
  {
   "cell_type": "markdown",
   "metadata": {},
   "source": [
    "### Example 3, 6 bit primes with tests and calculations"
   ]
  },
  {
   "cell_type": "markdown",
   "metadata": {},
   "source": [
    "Let the message be hashed to $h$ where $h=15$, we will use 6 bit primes $p=41$ and $q=61$ so we get $N=2501$, we will use the fact that the Euler's totient function is multiplicative and $\\phi{prime} = prime - 1$.\n",
    ">$\\phi{2501} = \\phi{41}\\phi{61} = 40*60 = 2400$"
   ]
  },
  {
   "cell_type": "code",
   "execution_count": 14,
   "metadata": {},
   "outputs": [],
   "source": [
    "assert totient(2501) == 2400"
   ]
  },
  {
   "cell_type": "markdown",
   "metadata": {},
   "source": [
    "We will select $e=7$ as $gcd(7,2400)=1$\n",
    "\n",
    "calc by hand show working\n",
    "if test then we get all pass"
   ]
  },
  {
   "cell_type": "code",
   "execution_count": 15,
   "metadata": {},
   "outputs": [],
   "source": [
    "assert choose_e(2400) == 7"
   ]
  },
  {
   "cell_type": "markdown",
   "metadata": {},
   "source": [
    "We need to solve for f\n",
    ">\\begin{align*}\n",
    "ef &\\equiv 1 \\mod{\\phi{N}}\\\\\n",
    "7f &\\equiv 1 \\mod{2400}\\\\\n",
    "f &= 343\n",
    "\\end{align*}"
   ]
  },
  {
   "cell_type": "code",
   "execution_count": 16,
   "metadata": {},
   "outputs": [],
   "source": [
    "assert modular_inverse(7, 2400) == 343"
   ]
  },
  {
   "cell_type": "markdown",
   "metadata": {},
   "source": [
    "Therefore, we get private key $(N=2501, f=343)$ and public key $(N=2501, e=7)$"
   ]
  },
  {
   "cell_type": "code",
   "execution_count": 17,
   "metadata": {},
   "outputs": [],
   "source": [
    "private_key = {\"N\": 2501, \"f\": 343}\n",
    "public_key = {\"N\": 2501, \"e\": 7}\n",
    "message = 15"
   ]
  },
  {
   "cell_type": "markdown",
   "metadata": {},
   "source": [
    "We need to sign the message, the signature $s$\n",
    ">\\begin{align*}\n",
    "s &\\equiv h^f \\mod{N}\\\\\n",
    "s &\\equiv 15^{343} \\mod{2501}\\\\\n",
    "s &= 1053\n",
    "\\end{align*}"
   ]
  },
  {
   "cell_type": "code",
   "execution_count": 18,
   "metadata": {},
   "outputs": [],
   "source": [
    "s = Sign(message, private_key)\n",
    "assert s == 1053"
   ]
  },
  {
   "cell_type": "markdown",
   "metadata": {},
   "source": [
    "The message and signature are sent off to the person, the person will verify the message by checking if their $h\\prime = h$.\n",
    "\n",
    "Let us consider the case where the message is not changed.\n",
    "\n",
    ">\\begin{align*}\n",
    "h &\\equiv s^e \\pmod{N}\\\\\n",
    "h &\\equiv 1053^{7} \\pmod{2501}\\\\\n",
    "h &= 15\n",
    "\\end{align*}\n",
    "\n",
    "So since $h\\prime = h$ the message will be verified."
   ]
  },
  {
   "cell_type": "code",
   "execution_count": 19,
   "metadata": {},
   "outputs": [],
   "source": [
    "assert Verify(message, s, public_key) == 1"
   ]
  },
  {
   "cell_type": "markdown",
   "metadata": {},
   "source": [
    "This time the same message is sent but a middle man intercepts the message and changes it. Let the new message be hashed to $h\\prime=16$. Therefore, $h\\prime \\neq h$.\n"
   ]
  },
  {
   "cell_type": "code",
   "execution_count": 20,
   "metadata": {},
   "outputs": [],
   "source": [
    "message = 16\n",
    "assert Verify(message, s, public_key) == 0"
   ]
  },
  {
   "cell_type": "markdown",
   "metadata": {},
   "source": [
    "The middle man will struggle to forge $s$ as they will struggle to find $f$ as they know $e$ and $N$ but only knowing that information makes solving $ef \\equiv 1 \\mod{\\phi{N}}$ for $f$ difficult for large $N$ as $\\phi{N}$ takes a long time to calculate."
   ]
  },
  {
   "cell_type": "markdown",
   "metadata": {},
   "source": [
    "## Problems with the Plain RSA signature"
   ]
  },
  {
   "cell_type": "markdown",
   "metadata": {},
   "source": [
    "The Plain RSA signature is the same as the RSA-FDH signature but without the hash function $H$. This means only integers in $\\{1,2,...,N-1\\}$ can be sent as the message. With this signature there are a few forms of attacks."
   ]
  },
  {
   "cell_type": "markdown",
   "metadata": {},
   "source": [
    "### A no control of message attack,"
   ]
  },
  {
   "cell_type": "markdown",
   "metadata": {},
   "source": [
    "This attack only requires the public key $(N,e)$, it works as follows. The attacker uniformly picks a signature $s$ where $s\\in\\{1,2,3,...,N-1\\}$. Then calculates the message $h$ where \n",
    ">$h \\equiv s^e \\mod{N}$\n",
    "\n",
    "Therefore, the message $h$ has a valid signature $s$, this is a forgery as no signatures were signed by the owner of the public key. However, the attacker has no control over the messages $h$ that get forged.\n",
    "\n",
    "If this attack is repeated multiple times for different values of the signature $s$ then the attacker can pick a forged message which suits their needs."
   ]
  },
  {
   "cell_type": "markdown",
   "metadata": {},
   "source": [
    "### Forging a signature on an arbitary message"
   ]
  },
  {
   "cell_type": "markdown",
   "metadata": {},
   "source": [
    "Say the attacker wants to forge a message $h\\in\\{1,2,3,...,N-1\\}$ with respect to the public key $(N,e)$, then the attacker picks  $h_1,h_2\\in\\{1,2,3,...,N-1\\}$ which is different from $h$ with\n",
    "> $h \\equiv h_1h_2\\mod{N}$\n",
    "\n",
    "The attacker then needs to obtain valid signatures $s_1, s_2$ for $h_1, h_2$. Then we have $s \\equiv s_1s_2 \\mod{N}$ is a valid signature for $h$. This is because\n",
    ">$s^e \\equiv (s_1s_2)^e \\equiv (h_{1}^{f}h_{2}^{f})^e \\equiv h_1^{fe}h_2^{fe} \\equiv h_1h_2 \\equiv h \\mod{N}$\n",
    "\n",
    "where $f$ is part of the private key, but isn't needed for this to work.\n",
    "\n",
    "This may not seem devastating but it is dangerous to make assumptions about what messages the signer may or may not be willing to sign.\n",
    "\n",
    "Additionally, multiple valid signatures $\\textbf{s} = \\{s_1, s_2, ..., s_q\\}$ and their corresponding messages $\\textbf{h} = \\{h_1,h_2,...,h_q\\}$ can be captured. By using the same principle as above the attacker can obtain a valid signature on any of the $2^q-q$ other messages by taking products of the subset $\\textbf{h}$.\n",
    "\n",
    "Furthermore, one example of getting signatures and messages is when a client wants to connect to a server. If a client uses a signature scheme to authenticate with the server and this is done by the client signing a random message sent by the server. It is easy for a malicious server to ask for a certain message to be signed."
   ]
  },
  {
   "cell_type": "markdown",
   "metadata": {},
   "source": [
    "## Hash Function"
   ]
  },
  {
   "cell_type": "markdown",
   "metadata": {},
   "source": [
    "Let $m$ be a string message and $h$ be a hashed message such that $H(m) = h$\n",
    "\n",
    "This means to prevent these attacks the hash function $H$ must have certain properties.\n",
    "+ $H$ must be hard to invert, this will prevent the \"no control of message attack\". As for each valid signature that is forged it is difficult to find the string message $m$ which corresponds to the hashed message $h$\n",
    "\n",
    "+ $H$ must not have multiplicative relations, that means it is hard to find three messages $m,m_1,m_2$ such that $H(m) = H(m_1)H(m_2)$. This should prevent the \"forgery of an arbitrary message\".\n",
    "\n",
    "+ It must be hard to find collisions for $H$. Since if $H(m_1)=H(m_2)$, then $m_1$ and $m_2$ have the same signature, this means forgery of a non signed message is trivial.\n"
   ]
  },
  {
   "cell_type": "markdown",
   "metadata": {},
   "source": [
    "# Diffie-Hellman Protocol"
   ]
  },
  {
   "cell_type": "markdown",
   "metadata": {},
   "source": [
    "## Ronan Part"
   ]
  },
  {
   "cell_type": "code",
   "execution_count": 45,
   "metadata": {},
   "outputs": [],
   "source": [
    "def sgrandprime(n_bit, t):  # Talk about why we use a prime here, its because using a Prime allows for many more potential Secret\n",
    "    # Keys when modulo a prime, Also SOphie Germain prime avoids complications with certain primes because p-1 is composite, so\n",
    "    # The multiplicative group has order p-1, which is mad as it makes it easy to crack\n",
    "    while True:\n",
    "        p = random_prime(n_bit-1, t, trails=5000) #-1 as 2*p + 1 needs to be n_bit prime\n",
    "        if is_prime_miller_rabin((2*p)+1, t=40):\n",
    "            return p, (2*p)+1\n",
    "\n",
    "\n",
    "Publicprimes = sgrandprime(256, 40)"
   ]
  },
  {
   "cell_type": "code",
   "execution_count": 46,
   "metadata": {},
   "outputs": [],
   "source": [
    "#Range test\n",
    "test_prime = sgrandprime(10,40)[1]\n",
    "assert test_prime<2**10\n",
    "assert test_prime>=2**(10-1)"
   ]
  },
  {
   "cell_type": "code",
   "execution_count": 47,
   "metadata": {},
   "outputs": [
    {
     "data": {
      "text/plain": [
       "2"
      ]
     },
     "execution_count": 47,
     "metadata": {},
     "output_type": "execute_result"
    }
   ],
   "source": [
    "def safe_primitive_root(Publicprimes):\n",
    "    q = Publicprimes[1]\n",
    "    p = Publicprimes[0]\n",
    "    b = 2\n",
    "    primitive = False\n",
    "    while not primitive:\n",
    "        if b % q == 1 or (b*b) % q == 1 or pow(b, p, q) == 1:\n",
    "            b += 1\n",
    "            continue\n",
    "        else:\n",
    "            primitive = True\n",
    "    return b\n",
    "\n",
    "\n",
    "pr = safe_primitive_root(Publicprimes)\n",
    "pr"
   ]
  },
  {
   "cell_type": "code",
   "execution_count": 48,
   "metadata": {},
   "outputs": [
    {
     "data": {
      "text/plain": [
       "[27458413833330209910067655602030970328231646874965249779207146680339164682005,\n",
       " 27458413833330209910067655602030970328231646874965249779207146680339164682005]"
      ]
     },
     "execution_count": 48,
     "metadata": {},
     "output_type": "execute_result"
    }
   ],
   "source": [
    "def Private_keys(n, n_bit = 256):\n",
    "    keys = []\n",
    "    for i in range(0, n):\n",
    "        keys.append(2**(n_bit -1) + ran.SystemRandom().getrandbits((n_bit -1)))\n",
    "    return keys\n",
    "\n",
    "\n",
    "keys = Private_keys(2)\n",
    "\n",
    "Alice_private = keys[0]\n",
    "Bob_private = keys[1]\n",
    "\n",
    "\n",
    "def Public_Keys(primiroot, Privates, Prime):\n",
    "    n = len(Privates)\n",
    "    Publics = []\n",
    "    for i in range(0, n):\n",
    "        Publics.append(pow(primiroot, Privates[i], Prime))\n",
    "    return Publics\n",
    "\n",
    "\n",
    "Publics = Public_Keys(pr, keys, Publicprimes[1])\n",
    "\n",
    "Alice_public = Publics[0]\n",
    "Bob_public = Publics[1]\n",
    "\n",
    "\n",
    "def Secret_key(publics, privates, generator):\n",
    "    n = len(publics)\n",
    "    publicuse = publics\n",
    "    for m in range(0, n-1):\n",
    "        Temp = []\n",
    "        for i in range(0, n):\n",
    "            Temp.append(pow(publicuse[(i-1) % n], privates[i], generator))\n",
    "        for j in range(0, n):\n",
    "            publicuse[j] = Temp[j]\n",
    "    Final = Temp\n",
    "    return Final\n",
    "\n",
    "\n",
    "Secret_key(Publics, keys, Publicprimes[1])"
   ]
  },
  {
   "cell_type": "code",
   "execution_count": 49,
   "metadata": {},
   "outputs": [
    {
     "data": {
      "text/plain": [
       "[40243474632964431943122377413471674922046232043245292967670542318280490487278,\n",
       " 40243474632964431943122377413471674922046232043245292967670542318280490487278,\n",
       " 40243474632964431943122377413471674922046232043245292967670542318280490487278]"
      ]
     },
     "execution_count": 49,
     "metadata": {},
     "output_type": "execute_result"
    }
   ],
   "source": [
    "# Three parties\n",
    "threekeys = Private_keys(3)\n",
    "Three_Alice_private = threekeys[0]\n",
    "Three_Bob_private = threekeys[1]\n",
    "Three_Charlie_private = threekeys[2]\n",
    "\n",
    "Three_Public = Public_Keys(pr, threekeys, Publicprimes[1])\n",
    "\n",
    "Three_Alice_public = Three_Public[0]\n",
    "Three_Bob_public = Three_Public[1]\n",
    "Three_Charlie_public = Three_Public[2]\n",
    "\n",
    "Secret_key(Three_Public, threekeys, Publicprimes[1])"
   ]
  },
  {
   "cell_type": "markdown",
   "metadata": {},
   "source": [
    "## Mark Part"
   ]
  },
  {
   "cell_type": "markdown",
   "metadata": {},
   "source": [
    "Solving Discrete Logarithm Problem Using Brute Force"
   ]
  },
  {
   "cell_type": "code",
   "execution_count": 26,
   "metadata": {},
   "outputs": [
    {
     "data": {
      "text/plain": [
       "[91191854821211850519475909873254176559251166530888189669953193890892278040696]"
      ]
     },
     "execution_count": 26,
     "metadata": {},
     "output_type": "execute_result"
    }
   ],
   "source": [
    "Private_keys(1)"
   ]
  },
  {
   "cell_type": "code",
   "execution_count": 33,
   "metadata": {},
   "outputs": [],
   "source": [
    "def discrete_logarithm_brute(a, N, z):\n",
    "    \"\"\"Solves the discrete logarithm problem\n",
    "\n",
    "    Solves z = a^b mod(N) for b, by using a brute force method \n",
    "\n",
    "    Parameters\n",
    "    ----------\n",
    "    a : int\n",
    "    N : int\n",
    "    z : int\n",
    "\n",
    "    Returns\n",
    "    -------\n",
    "    int\n",
    "        Solves z = a^b mod(N) for b,\n",
    "    \"\"\"\n",
    "\n",
    "    b = 1\n",
    "    while True:\n",
    "        if pow(a, b, N) == z:\n",
    "            return b\n",
    "        b += 1\n",
    "\n",
    "\n",
    "def discrete_logarithm_brute_better(a, N, z):\n",
    "    \"\"\"Solves the discrete logarithm problem\n",
    "\n",
    "    Solves z = a^b mod(N) for b, by using a brute force method \n",
    "\n",
    "    Parameters\n",
    "    ----------\n",
    "    a : int\n",
    "    N : int\n",
    "    z : int\n",
    "\n",
    "    Returns\n",
    "    -------\n",
    "    int\n",
    "        Solves z = a^b mod(N) for b,\n",
    "    \"\"\"\n",
    "    b = 1\n",
    "    a_new = a\n",
    "    while True:\n",
    "        if a_new == z:\n",
    "            return b\n",
    "        a_new = (a_new*a) % N\n",
    "        b += 1\n",
    "\n",
    "@numba.jit('int64(int64,int64,int64)', nopython = True)\n",
    "def discrete_logarithm_brute_better_fast(a, N, z):\n",
    "    \"\"\"Solves the discrete logarithm problem\n",
    "\n",
    "    Solves z = a^b mod(N) for b, by using a brute force method, uses a complied version\n",
    "\n",
    "    Parameters\n",
    "    ----------\n",
    "    a : int\n",
    "    N : int\n",
    "    z : int\n",
    "\n",
    "    Returns\n",
    "    -------\n",
    "    int\n",
    "        Solves z = a^b mod(N) for b,\n",
    "    \"\"\"\n",
    "    b = 1\n",
    "    a_new = a\n",
    "    while True:\n",
    "        if a_new == z:\n",
    "            return b\n",
    "        a_new = (a_new*a) % N\n",
    "        b += 1\n"
   ]
  },
  {
   "cell_type": "code",
   "execution_count": 34,
   "metadata": {},
   "outputs": [],
   "source": [
    "# Tests\n",
    "assert discrete_logarithm_brute(15, 2342, 167) == 37\n",
    "assert discrete_logarithm_brute(5, 352, 133) == 25\n",
    "assert discrete_logarithm_brute(3452, 123456, 39104) == 543\n",
    "\n",
    "# Tests\n",
    "assert discrete_logarithm_brute_better(15, 2342, 167) == 37\n",
    "assert discrete_logarithm_brute_better(5, 352, 133) == 25\n",
    "assert discrete_logarithm_brute_better(3452, 123456, 39104) == 543\n",
    "\n",
    "# Tests\n",
    "assert discrete_logarithm_brute_better_fast(15, 2342, 167) == 37\n",
    "assert discrete_logarithm_brute_better_fast(5, 352, 133) == 25\n",
    "assert discrete_logarithm_brute_better_fast(3452, 123456, 39104) == 543"
   ]
  },
  {
   "cell_type": "code",
   "execution_count": 35,
   "metadata": {},
   "outputs": [
    {
     "name": "stdout",
     "output_type": "stream",
     "text": [
      "641 µs ± 2.85 µs per loop (mean ± std. dev. of 7 runs, 1000 loops each)\n",
      "58.5 µs ± 304 ns per loop (mean ± std. dev. of 7 runs, 10000 loops each)\n",
      "5.62 µs ± 36.3 ns per loop (mean ± std. dev. of 7 runs, 100000 loops each)\n"
     ]
    }
   ],
   "source": [
    "%timeit discrete_logarithm_brute(3452, 123456, 39104)\n",
    "%timeit discrete_logarithm_brute_better(3452, 123456, 39104)\n",
    "%timeit discrete_logarithm_brute_better_fast(3452, 123456, 39104)"
   ]
  },
  {
   "cell_type": "code",
   "execution_count": 29,
   "metadata": {},
   "outputs": [],
   "source": [
    "#discrete_logarithm_brute(2,4,3)\n",
    "#Will run forever"
   ]
  },
  {
   "cell_type": "code",
   "execution_count": 75,
   "metadata": {},
   "outputs": [],
   "source": [
    "def gen_public_key(n_bit):\n",
    "    \"\"\"generates public information\n",
    "\n",
    "    Generates then calculates public information\n",
    "\n",
    "    Parameters\n",
    "    ----------\n",
    "    n_bit : int\n",
    "        The size of the p prime wanted\n",
    "\n",
    "    Returns\n",
    "    -------\n",
    "    dict\n",
    "        The public information\n",
    "        A : solution to g^a mod(p)\n",
    "        g : primitive root\n",
    "        p : large n_bit prime\n",
    "\n",
    "    \"\"\"\n",
    "    q, p = sgrandprime(n_bit, 40)\n",
    "    g = safe_primitive_root([q, p])\n",
    "    a = Private_keys(1, n_bit)[0]\n",
    "    A = pow(g, a, p)\n",
    "    #print(\"a: \" + str(a) + \" A: \" + str(A) + \" g: \" + str(g) + \" p: \" + str(p))\n",
    "    return {\"A\": A, \"g\": g, \"p\": p}\n",
    "\n",
    "\n",
    "def time_func(Func, num_samples, Func_parameters = [[]]):\n",
    "    \"\"\"Times the function\n",
    "\n",
    "    Parameters\n",
    "    ----------\n",
    "    Func : function\n",
    "        Function that is being timed \n",
    "    num_samples : int\n",
    "        Number of times Func will run\n",
    "    Func_parameters : 2D array\n",
    "        Each array in 2D array are the parameters of the Function Func, if num_samples\n",
    "        greater than number of arrays then it will loop over\n",
    "    \n",
    "    Returns\n",
    "    -------\n",
    "    tuple\n",
    "        mean_time,\n",
    "        std_time\n",
    "        \n",
    "        \n",
    "    Examples\n",
    "    --------\n",
    "    time_func(decompose, 4, [[3226322291321]])   \n",
    "    #will time decompose function 4 times with parameter 3226322291321\n",
    "       \n",
    "    time_func(decompose, 3, [[3304575252941], [1954377239027], [2964234252593]])   \n",
    "    #will time decompose function 3 times with a differenc parameter each time\n",
    "    \n",
    "    \n",
    "    \"\"\"\n",
    "    times = np.zeros(num_samples)\n",
    "    loopover = len(Func_parameters)\n",
    "    for i in range(num_samples):\n",
    "        temp_start_time = time.time()\n",
    "        Func(*Func_parameters[i%loopover])\n",
    "        temp_finish_time = time.time()\n",
    "        times[i] = (temp_finish_time - temp_start_time)\n",
    "    \n",
    "    return times.mean(), times.std()\n",
    "    "
   ]
  },
  {
   "cell_type": "code",
   "execution_count": 76,
   "metadata": {},
   "outputs": [],
   "source": [
    "def format_input_parameters(public_keys, my_order = [\"g\", \"p\", \"A\"]):\n",
    "    \"\"\"Formats parameters for the function\n",
    "\n",
    "\n",
    "    Parameters\n",
    "    ----------\n",
    "    public_keys : array of dict\n",
    "\n",
    "    my_oreder : array of str\n",
    "        What order is wanted for the output\n",
    "\n",
    "    Returns\n",
    "    -------\n",
    "    2D array\n",
    "        The parameters for the funciton\n",
    "\n",
    "    \"\"\"\n",
    "\n",
    "    formated_public_keys = []\n",
    "    \n",
    "    for public_key in public_keys:\n",
    "        temp_public_key = []\n",
    "        for key in my_order:\n",
    "            temp_public_key.append(public_key[key])\n",
    "        formated_public_keys.append(temp_public_key)\n",
    "\n",
    "    return formated_public_keys\n",
    "\n"
   ]
  },
  {
   "cell_type": "code",
   "execution_count": 77,
   "metadata": {},
   "outputs": [],
   "source": [
    "# Test format_input_parameters\n",
    "input_public_keys = [{\"A\": 307, \"g\": 5, \"p\": 863},\n",
    "                     {\"g\": 5, \"A\": 844, \"p\": 983},\n",
    "                     {\"p\": 563, \"g\": 2, \"A\": 83}]\n",
    "expected_format = [[5, 863, 307],\n",
    "                   [5, 983, 844],\n",
    "                   [2, 563, 83]]\n",
    "assert format_input_parameters(input_public_keys) == expected_format"
   ]
  },
  {
   "cell_type": "code",
   "execution_count": 79,
   "metadata": {
    "code_folding": []
   },
   "outputs": [
    {
     "name": "stdout",
     "output_type": "stream",
     "text": [
      "discrete_logarithm_brute(g, p, A)\n",
      "                     Mean time  Std time\n",
      "bit size of p and a                     \n",
      "6                     0.000000  0.000000\n",
      "7                     0.000000  0.000000\n",
      "8                     0.000000  0.000000\n",
      "9                     0.000000  0.000000\n",
      "10                    0.000000  0.000000\n",
      "11                    0.000000  0.000000\n",
      "12                    0.000100  0.000299\n",
      "13                    0.000100  0.000299\n",
      "14                    0.000097  0.000290\n",
      "15                    0.000200  0.000399\n",
      "16                    0.000302  0.000461\n",
      "17                    0.000499  0.000499\n",
      "18                    0.001696  0.000456\n",
      "19                    0.001696  0.001002\n",
      "20                    0.004787  0.002673\n",
      "21                    0.005687  0.006262\n",
      "22                    0.020046  0.010835\n",
      "23                    0.027526  0.019898\n",
      "24                    0.033314  0.034925\n",
      "25                    0.119284  0.087941\n",
      "26                    0.326727  0.170783\n",
      "27                    0.566362  0.383588\n"
     ]
    }
   ],
   "source": [
    "start = 6\n",
    "stop = 28\n",
    "num_samples = 10\n",
    "\n",
    "mean_times = []\n",
    "std_times = []\n",
    "\n",
    "for n_bit in range(start, stop):\n",
    "    public_keys = [gen_public_key(n_bit) for i in range(num_samples)]\n",
    "\n",
    "    input_parameters = format_input_parameters(public_keys)\n",
    "    temp_mean, temp_std = time_func(\n",
    "        discrete_logarithm_brute_better_fast, num_samples, input_parameters)\n",
    "    mean_times.append(temp_mean)\n",
    "    std_times.append(temp_std)\n",
    "\n",
    "print(\"discrete_logarithm_brute(g, p, A)\")\n",
    "\n",
    "my_time_data = {\"Mean time\": mean_times,\n",
    "                \"Std time\": std_times}\n",
    "time_data_frame = pd.DataFrame(data=my_time_data)\n",
    "time_data_frame.index = range(start, stop)\n",
    "time_data_frame.index.name = \"bit size of p and a\"\n",
    "\n",
    "print(time_data_frame)"
   ]
  },
  {
   "cell_type": "code",
   "execution_count": 34,
   "metadata": {},
   "outputs": [
    {
     "data": {
      "text/plain": [
       "[0.0,\n",
       " 0.0,\n",
       " 0.0001994609832763672,\n",
       " 0.0002991676330566406,\n",
       " 0.0004972934722900391,\n",
       " 0.0008975744247436523,\n",
       " 0.0012965440750122071,\n",
       " 0.0030931711196899416,\n",
       " 0.007782506942749024,\n",
       " 0.015558362007141113,\n",
       " 0.04278972148895264,\n",
       " 0.10433056354522705,\n",
       " 0.21462621688842773,\n",
       " 0.44092133045196535]"
      ]
     },
     "execution_count": 34,
     "metadata": {},
     "output_type": "execute_result"
    }
   ],
   "source": [
    "mean_times"
   ]
  },
  {
   "cell_type": "code",
   "execution_count": 35,
   "metadata": {},
   "outputs": [
    {
     "data": {
      "text/plain": [
       "[0.0,\n",
       " 0.0,\n",
       " 0.0005983829498291016,\n",
       " 0.0004573691277150501,\n",
       " 0.0004973077099892887,\n",
       " 0.0008284811321897422,\n",
       " 0.0010023122932317126,\n",
       " 0.0024997470479998923,\n",
       " 0.005781693053138425,\n",
       " 0.013671117499960264,\n",
       " 0.030443842034209023,\n",
       " 0.04650373618723107,\n",
       " 0.13709305444972497,\n",
       " 0.30028754223397913]"
      ]
     },
     "execution_count": 35,
     "metadata": {},
     "output_type": "execute_result"
    }
   ],
   "source": [
    "std_times"
   ]
  },
  {
   "cell_type": "code",
   "execution_count": 80,
   "metadata": {},
   "outputs": [
    {
     "data": {
      "image/png": "[encoded data removed]",
      "text/plain": [
       "<Figure size 432x288 with 1 Axes>"
      ]
     },
     "metadata": {
      "needs_background": "light"
     },
     "output_type": "display_data"
    }
   ],
   "source": [
    "# Silly example data\n",
    "#bp_x = np.linspace(0, 2*np.pi, num=40, endpoint=True)\n",
    "#bp_y = np.sin(bp_x)\n",
    "\n",
    "\n",
    "# Make the plot\n",
    "plt.plot(range(start,stop),mean_times, linewidth=3, linestyle=\"--\",\n",
    "         color=\"blue\", label=r\"Collected data\")\n",
    "plt.xlabel(r\"$n$ bit size of p and a\")\n",
    "plt.ylabel(r\" Mean time (seconds)\")\n",
    "plt.title(r\"Discrete Logarithm Brute Force Time\")\n",
    "#plt.xlim(0, 2*np.pi)\n",
    "#plt.ylim(-1.1, 1.1)\n",
    "plt.legend(loc=\"upper left\")\n",
    "plt.show()\n",
    "\n"
   ]
  },
  {
   "cell_type": "code",
   "execution_count": 37,
   "metadata": {},
   "outputs": [
    {
     "name": "stdout",
     "output_type": "stream",
     "text": [
      "632\n",
      "887\n",
      "435\n"
     ]
    },
    {
     "data": {
      "text/plain": [
       "632"
      ]
     },
     "execution_count": 37,
     "metadata": {},
     "output_type": "execute_result"
    }
   ],
   "source": [
    "q, p = sgrandprime(10, 40)\n",
    "g = safe_primitive_root([q, p])\n",
    "a = Private_keys(1, 10)[0]\n",
    "print(a)\n",
    "print(p)\n",
    "A = pow(g, a, p)\n",
    "print(A)\n",
    "# A = g^a mod(p)\n",
    "\n",
    "discrete_logarithm_brute(g, p, A)"
   ]
  },
  {
   "cell_type": "code",
   "execution_count": 41,
   "metadata": {
    "deletable": false,
    "editable": false,
    "run_control": {
     "frozen": true
    }
   },
   "outputs": [
    {
     "ename": "KeyboardInterrupt",
     "evalue": "",
     "output_type": "error",
     "traceback": [
      "\u001b[1;31m---------------------------------------------------------------------------\u001b[0m",
      "\u001b[1;31mKeyboardInterrupt\u001b[0m                         Traceback (most recent call last)",
      "\u001b[1;32m<ipython-input-41-ff710eb03cad>\u001b[0m in \u001b[0;36m<module>\u001b[1;34m\u001b[0m\n\u001b[0;32m     14\u001b[0m     \u001b[0minput_parameters\u001b[0m \u001b[1;33m=\u001b[0m \u001b[0mformat_input_parameters\u001b[0m\u001b[1;33m(\u001b[0m\u001b[0mpublic_keys\u001b[0m\u001b[1;33m)\u001b[0m\u001b[1;33m\u001b[0m\u001b[1;33m\u001b[0m\u001b[0m\n\u001b[0;32m     15\u001b[0m     temp_mean, temp_std = time_func(\n\u001b[1;32m---> 16\u001b[1;33m         discrete_logarithm_brute, num_samples, input_parameters)\n\u001b[0m\u001b[0;32m     17\u001b[0m \u001b[1;33m\u001b[0m\u001b[0m\n\u001b[0;32m     18\u001b[0m     \u001b[0mstring_to_append\u001b[0m \u001b[1;33m=\u001b[0m \u001b[0mstr\u001b[0m\u001b[1;33m(\u001b[0m\u001b[0mn_bit\u001b[0m\u001b[1;33m)\u001b[0m \u001b[1;33m+\u001b[0m \u001b[1;34m\", \"\u001b[0m\u001b[1;33m\u001b[0m\u001b[1;33m\u001b[0m\u001b[0m\n",
      "\u001b[1;32m<ipython-input-30-2a57157e6038>\u001b[0m in \u001b[0;36mtime_func\u001b[1;34m(Func, num_samples, Func_parameters)\u001b[0m\n\u001b[0;32m     60\u001b[0m     \u001b[1;32mfor\u001b[0m \u001b[0mi\u001b[0m \u001b[1;32min\u001b[0m \u001b[0mrange\u001b[0m\u001b[1;33m(\u001b[0m\u001b[0mnum_samples\u001b[0m\u001b[1;33m)\u001b[0m\u001b[1;33m:\u001b[0m\u001b[1;33m\u001b[0m\u001b[1;33m\u001b[0m\u001b[0m\n\u001b[0;32m     61\u001b[0m         \u001b[0mtemp_start_time\u001b[0m \u001b[1;33m=\u001b[0m \u001b[0mtime\u001b[0m\u001b[1;33m.\u001b[0m\u001b[0mtime\u001b[0m\u001b[1;33m(\u001b[0m\u001b[1;33m)\u001b[0m\u001b[1;33m\u001b[0m\u001b[1;33m\u001b[0m\u001b[0m\n\u001b[1;32m---> 62\u001b[1;33m         \u001b[0mFunc\u001b[0m\u001b[1;33m(\u001b[0m\u001b[1;33m*\u001b[0m\u001b[0mFunc_parameters\u001b[0m\u001b[1;33m[\u001b[0m\u001b[0mi\u001b[0m\u001b[1;33m%\u001b[0m\u001b[0mloopover\u001b[0m\u001b[1;33m]\u001b[0m\u001b[1;33m)\u001b[0m\u001b[1;33m\u001b[0m\u001b[1;33m\u001b[0m\u001b[0m\n\u001b[0m\u001b[0;32m     63\u001b[0m         \u001b[0mtemp_finish_time\u001b[0m \u001b[1;33m=\u001b[0m \u001b[0mtime\u001b[0m\u001b[1;33m.\u001b[0m\u001b[0mtime\u001b[0m\u001b[1;33m(\u001b[0m\u001b[1;33m)\u001b[0m\u001b[1;33m\u001b[0m\u001b[1;33m\u001b[0m\u001b[0m\n\u001b[0;32m     64\u001b[0m         \u001b[0mtimes\u001b[0m\u001b[1;33m.\u001b[0m\u001b[0mappend\u001b[0m\u001b[1;33m(\u001b[0m\u001b[0mtemp_finish_time\u001b[0m \u001b[1;33m-\u001b[0m \u001b[0mtemp_start_time\u001b[0m\u001b[1;33m)\u001b[0m\u001b[1;33m\u001b[0m\u001b[1;33m\u001b[0m\u001b[0m\n",
      "\u001b[1;32m<ipython-input-27-f06ae70c5580>\u001b[0m in \u001b[0;36mdiscrete_logarithm_brute\u001b[1;34m(a, N, z)\u001b[0m\n\u001b[0;32m     20\u001b[0m         \u001b[1;32mif\u001b[0m \u001b[0mpow\u001b[0m\u001b[1;33m(\u001b[0m\u001b[0ma\u001b[0m\u001b[1;33m,\u001b[0m \u001b[0mb\u001b[0m\u001b[1;33m,\u001b[0m \u001b[0mN\u001b[0m\u001b[1;33m)\u001b[0m \u001b[1;33m==\u001b[0m \u001b[0mz\u001b[0m\u001b[1;33m:\u001b[0m\u001b[1;33m\u001b[0m\u001b[1;33m\u001b[0m\u001b[0m\n\u001b[0;32m     21\u001b[0m             \u001b[1;32mreturn\u001b[0m \u001b[0mb\u001b[0m\u001b[1;33m\u001b[0m\u001b[1;33m\u001b[0m\u001b[0m\n\u001b[1;32m---> 22\u001b[1;33m         \u001b[0mb\u001b[0m \u001b[1;33m+=\u001b[0m \u001b[1;36m1\u001b[0m\u001b[1;33m\u001b[0m\u001b[1;33m\u001b[0m\u001b[0m\n\u001b[0m\u001b[0;32m     23\u001b[0m \u001b[1;33m\u001b[0m\u001b[0m\n\u001b[0;32m     24\u001b[0m \u001b[1;33m\u001b[0m\u001b[0m\n",
      "\u001b[1;31mKeyboardInterrupt\u001b[0m: "
     ]
    }
   ],
   "source": [
    "# File save\n",
    "# Will be frozen so can't run when montoring\n",
    "start = 6\n",
    "stop = 70\n",
    "num_samples = 25\n",
    "\n",
    "\n",
    "file_name = \"BruteForceDiscreteLogData.csv\"\n",
    "\n",
    "\n",
    "for n_bit in range(start, stop):\n",
    "    public_keys = [gen_public_key(n_bit) for i in range(num_samples)]\n",
    "\n",
    "    input_parameters = format_input_parameters(public_keys)\n",
    "    temp_mean, temp_std = time_func(\n",
    "        discrete_logarithm_brute, num_samples, input_parameters)\n",
    "\n",
    "    string_to_append = str(n_bit) + \", \"\n",
    "    string_to_append += str(temp_mean) + \", \"\n",
    "    string_to_append += str(temp_std) + \", \"\n",
    "    string_to_append += str(num_samples) + \"\\n\"\n",
    "    brute_force_file = open(file_name, \"a\")\n",
    "    brute_force_file.write(string_to_append)\n",
    "    brute_force_file.close()"
   ]
  },
  {
   "cell_type": "code",
   "execution_count": null,
   "metadata": {},
   "outputs": [],
   "source": []
  },
  {
   "cell_type": "code",
   "execution_count": null,
   "metadata": {},
   "outputs": [],
   "source": []
  },
  {
   "cell_type": "code",
   "execution_count": null,
   "metadata": {},
   "outputs": [],
   "source": []
  },
  {
   "cell_type": "code",
   "execution_count": null,
   "metadata": {},
   "outputs": [],
   "source": []
  }
 ],
 "metadata": {
  "kernelspec": {
   "display_name": "Python 3",
   "language": "python",
   "name": "python3"
  },
  "language_info": {
   "codemirror_mode": {
    "name": "ipython",
    "version": 3
   },
   "file_extension": ".py",
   "mimetype": "text/x-python",
   "name": "python",
   "nbconvert_exporter": "python",
   "pygments_lexer": "ipython3",
   "version": "3.7.6"
  },
  "toc": {
   "base_numbering": 1,
   "nav_menu": {},
   "number_sections": true,
   "sideBar": true,
   "skip_h1_title": false,
   "title_cell": "Table of Contents",
   "title_sidebar": "Contents",
   "toc_cell": false,
   "toc_position": {
    "height": "calc(100% - 180px)",
    "left": "10px",
    "top": "150px",
    "width": "389.198px"
   },
   "toc_section_display": true,
   "toc_window_display": false
  },
  "varInspector": {
   "cols": {
    "lenName": 16,
    "lenType": 16,
    "lenVar": 40
   },
   "kernels_config": {
    "python": {
     "delete_cmd_postfix": "",
     "delete_cmd_prefix": "del ",
     "library": "var_list.py",
     "varRefreshCmd": "print(var_dic_list())"
    },
    "r": {
     "delete_cmd_postfix": ") ",
     "delete_cmd_prefix": "rm(",
     "library": "var_list.r",
     "varRefreshCmd": "cat(var_dic_list()) "
    }
   },
   "position": {
    "height": "616.667px",
    "left": "989.333px",
    "right": "20px",
    "top": "124px",
    "width": "350px"
   },
   "types_to_exclude": [
    "module",
    "function",
    "builtin_function_or_method",
    "instance",
    "_Feature"
   ],
   "window_display": false
  }
 },
 "nbformat": 4,
 "nbformat_minor": 2
}
