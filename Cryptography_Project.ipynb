{
 "cells": [
  {
   "cell_type": "markdown",
   "metadata": {},
   "source": [
    "Cryptography"
   ]
  },
  {
   "cell_type": "markdown",
   "metadata": {},
   "source": [
    "### Team\n",
    "<ol>\n",
    "    <li> Mark Pearson </li>\n",
    "    <li> Ronan Geraghty</li>\n",
    "    <li> Milan Patel </li>\n",
    "    <li> Will Steynor </li>\n",
    "</ol>\n",
    "\n"
   ]
  },
  {
   "cell_type": "code",
   "execution_count": 1,
   "metadata": {},
   "outputs": [],
   "source": [
    "from NumberFunctions import *\n",
    "import numpy as np\n",
    "import random as ran\n",
    "import matplotlib.pyplot as plt\n",
    "from time import process_time\n",
    "import pandas as pd\n",
    "import numba\n",
    "import time"
   ]
  },
  {
   "cell_type": "markdown",
   "metadata": {},
   "source": [
    "Stuff extra to include\n",
    "\n",
    "+ difference between asymmetric and symmetric cryptography\n",
    "\n",
    "+ Steganography\n",
    "\n",
    "+ wrighting own pow function with acceleration"
   ]
  },
  {
   "cell_type": "markdown",
   "metadata": {},
   "source": []
  },
  {
   "cell_type": "code",
   "execution_count": 46,
   "metadata": {},
   "outputs": [
    {
     "data": {
      "application/javascript": [
       "$.getScript('https://kmahelona.github.io/ipython_notebook_goodies/ipython_notebook_toc.js')\n"
      ],
      "text/plain": [
       "<IPython.core.display.Javascript object>"
      ]
     },
     "metadata": {},
     "output_type": "display_data"
    }
   ],
   "source": []
  },
  {
   "cell_type": "markdown",
   "metadata": {},
   "source": []
  },
  {
   "cell_type": "markdown",
   "metadata": {},
   "source": [
    "# Introduction"
   ]
  },
  {
   "cell_type": "markdown",
   "metadata": {},
   "source": [
    "### The Square and Multiply Algorithm"
   ]
  },
  {
   "cell_type": "markdown",
   "metadata": {},
   "source": [
    "In this project we want to use numba which will allow us to compile python code. This is because in cryptography many functions take a long time to run. However, the numba module does not support the 'pow' function. Therefore, we will make our own 'pow' function that will be based on Square and Multiply Algorithm. This uses the fact\n",
    "\n",
    ">$$\n",
    "[a^b \\mod{N}]=\n",
    "\\begin{cases}\n",
    "[(a^{b/2})^2 \\mod{N}], &\\textrm{when $b$ is even}\\\\\n",
    "[a\\cdot (a^{(b-1)/2})^2 \\mod{N}], &\\textrm{when $b$ is odd}\n",
    "\\end{cases}\n",
    "$$"
   ]
  },
  {
   "cell_type": "code",
   "execution_count": 2,
   "metadata": {},
   "outputs": [],
   "source": [
    "@numba.jit('int64(int64,int64,int64)',nopython=True)\n",
    "def my_pow(a, b, N):\n",
    "    r\"\"\"Square and Multiply\n",
    "\n",
    "    Calculates a^b mod(N), in time polynomial in |a|,|b| and |N|\n",
    "\n",
    "    Parameters\n",
    "    ----------\n",
    "    a : int\n",
    "    b : int\n",
    "        b > 0\n",
    "    N : int\n",
    "\n",
    "    Returns\n",
    "    -------\n",
    "    int\n",
    "        The solution to a^b mod(N)   \n",
    "    \"\"\"\n",
    "    x = a\n",
    "    t = 1\n",
    "    #So solution is tx^b mod(N)\n",
    "    while b>0:\n",
    "        if b%2==1:\n",
    "            #Odd\n",
    "            t, b = (t*x)%N, b-1\n",
    "        x,b = ((x%N)**2)%N, b//2\n",
    "    return t"
   ]
  },
  {
   "cell_type": "code",
   "execution_count": 3,
   "metadata": {},
   "outputs": [],
   "source": [
    "#Tests\n",
    "assert my_pow(12321,546547,2349809) == pow(12321,546547,2349809)\n",
    "assert my_pow(4564,47,9809) == pow(4564,47,9809)\n",
    "assert my_pow(2**33,2**33,21312) == pow(2**33,2**33,21312)"
   ]
  },
  {
   "cell_type": "code",
   "execution_count": 129,
   "metadata": {
    "deletable": false,
    "editable": false,
    "run_control": {
     "frozen": true
    }
   },
   "outputs": [
    {
     "name": "stdout",
     "output_type": "stream",
     "text": [
      "667 ns ± 11.6 ns per loop (mean ± std. dev. of 7 runs, 1000000 loops each)\n",
      "2.54 µs ± 83 ns per loop (mean ± std. dev. of 7 runs, 100000 loops each)\n"
     ]
    }
   ],
   "source": [
    "%timeit my_pow(12321,546547,2349809)\n",
    "%timeit pow(12321,546547,2349809)"
   ]
  },
  {
   "cell_type": "markdown",
   "metadata": {},
   "source": [
    "Therefore, the code which was just created is over $5$x faster than the python built in function.\n",
    "\n",
    "However, this function has its limits as the parameters have to be 64 bit integers and in a calculation if a number becomes larger than 64 bits then an overflow error occurs, meaning the first few bits will be dropped leading to the incorrect result."
   ]
  },
  {
   "cell_type": "markdown",
   "metadata": {},
   "source": [
    "# Core 2: RSA Signature Message"
   ]
  },
  {
   "cell_type": "markdown",
   "metadata": {},
   "source": [
    "## Modular Inverse"
   ]
  },
  {
   "cell_type": "markdown",
   "metadata": {},
   "source": [
    "Solve, \n",
    "> $ax = 1 \\pmod{m} $ for  $x \\in \\{1,2,3,...,m-1\\}$\n",
    "\n",
    "\n",
    "Proof\n",
    "\n",
    "We have, where $x,y \\in \\mathbb{Z}$ are calculated by the Euclidean algorithm.\n",
    "> $ax+by = gcd(a,b)$\n",
    "\n",
    "We only need to take into account when $gcd(a,b)=1$ as $e$ is chosen so $gcd(e,\\phi{N})=1$\n",
    "\n",
    "Let $m=b$, where $gcd(a,m) = 1$\n",
    "\n",
    "So we get\n",
    "> \\begin{align*}\n",
    "ax+my &= 1\\\\\n",
    "ax + my &\\equiv 1\\pmod{m}\\\\\n",
    "ax &\\equiv 1\\pmod{m}\n",
    "\\end{align*}\n",
    "\n",
    "Therefore, $x$ is a modular inverse of $a$ for $m$\n",
    "\n",
    "However, by using the Euclidean algorithm sometimes $x$ is not in the set $\\{1,2,...,m-1\\}$. This is a problem as if $x$ is negative when we use it later for the RSA signature we need to take the modulo of $int^{x}$, to do this we must have $int = int^{x}$\n",
    "\n",
    "Let us consider the case where $x \\notin \\{1,2,...,m-1\\}$, Let $d \\in \\mathbb{Z}$\n",
    "> \\begin{align*}\n",
    "ax &\\equiv 1\\pmod{m}\\\\\n",
    "ax + adm &\\equiv 1\\pmod{m}\\\\\n",
    "a(x + dm) &\\equiv 1\\pmod{m}\n",
    "\\end{align*}\n",
    "\n",
    "Set $x\\prime = x + dm \\iff x\\prime = x \\pmod{m}$\n",
    "\n",
    "We know $x\\prime \\in \\{1,2,...,m-1\\}$\n"
   ]
  },
  {
   "cell_type": "code",
   "execution_count": 4,
   "metadata": {
    "scrolled": false
   },
   "outputs": [],
   "source": [
    "@numba.jit('int64(int64)', nopython=True)\n",
    "def totient_fast(n):\n",
    "    '''return the totient of n,\n",
    "        number of postive integers < n which are coprime to n.'''\n",
    "    num = 0\n",
    "    for i in range(1, n):\n",
    "        if gcd_fast(i, n) == 1:\n",
    "            num += 1\n",
    "    return num\n",
    "\n",
    "@numba.vectorize('int64(int64)', nopython= True, target='parallel')\n",
    "def totient_fast_ufunc_par(n):\n",
    "    return totient_fast(n)\n",
    "\n",
    "def totient(n):\n",
    "    '''return the totient of n,\n",
    "        number of postive integers < n which are coprime to n.'''\n",
    "    num = 0\n",
    "    for i in range(1, n):\n",
    "        if gcd_fast(i, n) == 1:\n",
    "            num += 1\n",
    "    return num\n",
    "\n",
    "\n",
    "\n",
    "\n",
    "def my_hash(message, N):\n",
    "    '''Turn message to bits\n",
    "    Then turn into int h'''\n",
    "    return hash(message) % N\n",
    "\n",
    "\n",
    "def modular_inverse(a, n):\n",
    "    '''Solves ax = 1 mod(n) for x in {1,2,3,...,m-1}'''\n",
    "    gcd, x, y = gcd_ext(a, n)\n",
    "    if gcd == 1:\n",
    "        return x % n\n",
    "    else:\n",
    "        return \"gcd not = 1\"\n",
    "\n",
    "@numba.jit('int64(int64,int64)', nopython = True)\n",
    "def modular_inverse_fast(a, n):\n",
    "    #Solves ax = 1 mod(n) for x in {1,2,3,...,m-1}\n",
    "\n",
    "    gcd, x, y = gcd_ext_fast(a, n)\n",
    "    if gcd == 1:\n",
    "        return x % n\n",
    "    else:\n",
    "        return -1\n",
    "\n",
    "def get_primes_composites(n, is_prime_FUN=isprime_basic):\n",
    "    '''returns a numpy array of primes and composites with largest number being n,\n",
    "    is_prime_FUN: which function will be used to identify if a number is prime'''\n",
    "    primes = []\n",
    "    composites = []\n",
    "\n",
    "    for num in range(1, n+1):\n",
    "        if is_prime_FUN(num):\n",
    "            primes.append(num)\n",
    "        else:\n",
    "            composites.append(num)\n",
    "\n",
    "    return np.array(primes), np.array(composites)\n",
    "\n",
    "\n",
    "def primality_test(N, t):\n",
    "    for i in range(0, t):\n",
    "        a = ran.randrange(0, N-1)\n",
    "        if a**(N-1) % N != 1:\n",
    "            return \"composite\"\n",
    "    return \"prime\""
   ]
  },
  {
   "cell_type": "code",
   "execution_count": 5,
   "metadata": {},
   "outputs": [],
   "source": [
    "# Tests\n",
    "\n",
    "assert totient(7) == 6\n",
    "assert totient(35) == 24\n",
    "assert totient(5321) == 4992\n",
    "\n",
    "assert max(totient_fast_ufunc_par(np.array([7,35,5321])) - np.array([6,24,4992]))<1e-10\n",
    "\n",
    "assert modular_inverse(15, 7) == 1\n",
    "assert modular_inverse_fast(15, 7) == 1\n",
    "\n",
    "a = 3487\n",
    "n = 9837\n",
    "b = modular_inverse(a, n)\n",
    "d = modular_inverse_fast(a, n)\n",
    "assert (a*b) % n == 1\n",
    "assert (a*d) % n == 1\n",
    "\n",
    "# This test gets negative value originally, but inverse needs to be inbetween {1,2,..,m-1}\n",
    "a = 3231\n",
    "n = 12334\n",
    "assert modular_inverse(a, n) == 11895\n",
    "\n",
    "\n",
    "expected_primes = np.array([2, 3, 5, 7, 11, 13, 17, 19])\n",
    "expected_composites = np.array([1, 4, 6, 8, 9, 10, 12, 14, 15, 16, 18, 20])\n",
    "\n",
    "primes, composites = get_primes_composites(20)\n",
    "assert max(primes - expected_primes) == 0\n",
    "assert max(composites - expected_composites) == 0"
   ]
  },
  {
   "cell_type": "markdown",
   "metadata": {},
   "source": [
    "## Generating primes using Miller Rabin"
   ]
  },
  {
   "cell_type": "markdown",
   "metadata": {},
   "source": [
    "An n bit number is one which requires n bits to be stored, with the most significant bit (the left most bit) being 1. This means the n bit number is in the range $[2^{n-1}, 2^n)$.\n",
    "\n",
    "we need to generate primes of n bit length, the idea is to pick a n bit number and check if it is prime. However, with large values of primes the traditional method of checking if numbers divide the prime doesn't work very fast, if n is prime it has at best a speed of $O(\\sqrt{n})$. \n",
    "\n",
    "However, by using a probabilistic approach to find primes. Large primes can be found. The longer the algorithm is run for the higher the probability of getting a prime is. We will be using the probabilistic method called Miller Rabin."
   ]
  },
  {
   "cell_type": "markdown",
   "metadata": {},
   "source": [
    "### How Miller Rabin Works"
   ]
  },
  {
   "cell_type": "markdown",
   "metadata": {},
   "source": [
    "Let $n$ be prime with $n>2$\n",
    "\n",
    "So we have $n-1$ must be even, this means it can be written as $2^sd$ with $s,d \\in \\mathbb{N}_+$ and $d$ odd.\n",
    "\n",
    "Therefore, we have one of these must be true for each $a\\in \\{2,3,...,n-1\\}$\n",
    "\n",
    "> $a^d \\equiv 1 \\mod{n}$\n",
    "\n",
    "or\n",
    "\n",
    ">$a^{2^rd} \\equiv -1 \\mod{n}$ for $r \\in \\{0,1,2,...,s-1\\}$\n",
    "\n",
    "To prove this we will use Fermat's Little Theorem which states for a prime number $n$ and $a\\in \\mathbb{Z}/n\\mathbb{Z}$.\n",
    "> $a^{n-1} \\equiv 1\\mod{n} \\iff a^{n} \\equiv a \\mod{n}$\n",
    "\n",
    "This can be written as\n",
    ">$a^{n-1} = a^{2^sd}$\n",
    "\n",
    "Then by taking square roots\n",
    ">\\begin{align*}\n",
    "\\sqrt{a^{2^sd}} &\\equiv \\sqrt{1} \\mod{n}\\\\\n",
    "&\\text{ }\\\\\n",
    "a^{2^{s-1}d} &\\equiv +1 \\mod{n} \\\\\n",
    "\\textrm{or}&\\\\\n",
    "a^{2^{s-1}d} &\\equiv -1 \\mod{n}\n",
    "\\end{align*}\n",
    "\n",
    "If it is $+1$ we square root again, when we get the modulo equal to $-1$ we can no longer take any more square roots so that equation is true. Therefore, we get one of the above equations must be true.\n",
    "\n",
    "However, we will be using the contrapositive of the above claim,\n",
    "\n",
    "The contrapositive states,\n",
    "> $(P \\rightarrow Q) \\iff (\\neg{Q} \\rightarrow \\neg{P})$\n",
    "\n",
    "So we get the contrapositive of the above claim is \n",
    "> $a^d \\not\\equiv 1 \\mod{n}$\n",
    "\n",
    "and\n",
    "\n",
    ">$a^{2^rd} \\not\\equiv -1 \\mod{n}$ for $r \\in \\{0,1,2,...,s-1\\}$\n",
    "\n",
    "Then $n$ is not a prime,\n",
    "\n",
    "When $a$ satisfies these equations $a$ is know as a witness for the composition of $n$.\n",
    "\n",
    "When $a$ does not satisfy these equations and $n$ is composite, $a$ is known as a strong liar. This means $n$ is a strong probable prime to base $a$.\n",
    "\n",
    "By randomly picking $a\\in\\{2,3,...,n-1\\}$ multiple times it is unlikely for all of the selected $a$ to be strong liars.\n",
    "\n",
    "This leads to the fact, if $p$ is $prime$, then the Miller Rabin test outputs $prime$. If p is $composite$, the algorithm outputs $composite$ but has a small chance of outputting $prime$."
   ]
  },
  {
   "cell_type": "code",
   "execution_count": 6,
   "metadata": {},
   "outputs": [],
   "source": [
    "def random_prime(n_bit, t, trails=500):\n",
    "    '''Returns a uniform n-bit prime, with probability at most 2^(-t) getting a composite,\n",
    "    the higher the trails the less chance of failing to generate a prime but takes longer'''\n",
    "    for i in range(0, trails):\n",
    "        p = np.random.randint(0, 2, n_bit-2)\n",
    "        b = \"\".join(str(i) for i in p)\n",
    "        my_int = int(\"1\" + b + \"1\", 2)  # Want at least n bit and gives odd\n",
    "        if is_prime_miller_rabin(my_int, t):\n",
    "            return my_int\n",
    "    return \"Fail\"\n",
    "\n",
    "\n",
    "def is_prime_miller_rabin(N, t=40):\n",
    "    '''If N is prime, test always outputs True(prime)\n",
    "    If N is composite outputs False(not prime) except with probability at most 2^(-t)'''\n",
    "\n",
    "    if N == 2:\n",
    "        return True  # Prime\n",
    "\n",
    "    if N == 3:\n",
    "        return True  # Prime\n",
    "\n",
    "    if N % 2 == 0:\n",
    "        return False  # Comp\n",
    "\n",
    "    if N < 2:\n",
    "        return False  # Comp\n",
    "\n",
    "    d, s = calc_d_s(N)\n",
    "    for j in range(0, t):\n",
    "        a = ran.randrange(2, N-1)\n",
    "        if is_composite(N, d, s, a):\n",
    "            return False  # Comp\n",
    "    return True  # Prime\n",
    "\n",
    "\n",
    "def is_composite(N, d, s, a):\n",
    "    '''Evaulate a^d != +-1 mod(N), and, a^(d*2^r) != -1 mod(N) for r in {1,2,...,s-1},\n",
    "    However, if output False does not mean prime, it could be a strong liar'''\n",
    "    remain = pow(a, d, N)\n",
    "    if (remain != 1) and (remain != N - 1):\n",
    "        for r in range(1, s):\n",
    "            remain = pow(remain, 2, N)\n",
    "            if remain != N-1:\n",
    "                pass\n",
    "            else:\n",
    "                return False\n",
    "    else:\n",
    "        return False\n",
    "\n",
    "    return True\n",
    "\n",
    "\n",
    "def calc_d_s(N):\n",
    "    s = 0\n",
    "    Num = N - 1\n",
    "    while Num % 2 == 0:\n",
    "        Num //= 2\n",
    "        s += 1\n",
    "    d = Num\n",
    "    return int(d), int(s)"
   ]
  },
  {
   "cell_type": "code",
   "execution_count": 7,
   "metadata": {},
   "outputs": [],
   "source": [
    "# Tests\n",
    "assert calc_d_s(71)[0] == 35\n",
    "assert calc_d_s(71)[1] == 1\n",
    "assert calc_d_s(127)[0] == 63\n",
    "assert calc_d_s(127)[1] == 1\n",
    "assert calc_d_s(9627824804082068411)[0] == 4813912402041034205\n",
    "assert calc_d_s(9627824804082068411)[1] == 1\n",
    "assert calc_d_s(203981900391787397947)[0] == 101990950195893698973\n",
    "assert calc_d_s(203981900391787397947)[1] == 1\n",
    "\n",
    "\n",
    "N, d, s = 221, 55, 2\n",
    "# 137 is a witness for compositeness of 221\n",
    "a = 137\n",
    "assert is_composite(N, d, s, a) == True\n",
    "\n",
    "# 174 will lead to 221 being a prime or 174 is a strong liar for 221\n",
    "a = 174\n",
    "assert is_composite(N, d, s, a) == False\n",
    "\n",
    "N, d, s = 71, 35, 1\n",
    "a = 19\n",
    "assert is_composite(N, d, s, a) == False\n",
    "\n",
    "\n",
    "assert is_prime_miller_rabin(203981900391787397947, 40) == True\n",
    "assert is_prime_miller_rabin(-1235, 40) == False\n",
    "assert is_prime_miller_rabin(1, 40) == False\n",
    "assert is_prime_miller_rabin(3, 40) == True\n",
    "\n",
    "# Tests\n",
    "expected_primes = np.array([2, 3, 5, 7, 11, 13, 17, 19])\n",
    "expected_composites = np.array([1, 4, 6, 8, 9, 10, 12, 14, 15, 16, 18, 20])\n",
    "\n",
    "primes, composites = get_primes_composites(20, is_prime_miller_rabin)\n",
    "assert max(primes - expected_primes) == 0\n",
    "assert max(composites - expected_composites) == 0"
   ]
  },
  {
   "cell_type": "code",
   "execution_count": 8,
   "metadata": {},
   "outputs": [],
   "source": [
    "def gen_modulas(n_bit):\n",
    "    '''n_bit is the size of the primes you want, the secuirty level.\n",
    "    This will output (N,p,q), N = p*q, p,q are n_bit uniform primes'''\n",
    "\n",
    "    p = \"\"\n",
    "    q = \"\"\n",
    "\n",
    "    while type(p) == str or type(q) == str:\n",
    "        p = random_prime(n_bit, 40)\n",
    "        q = random_prime(n_bit, 40)\n",
    "    N = p*q\n",
    "    return N, p, q\n",
    "\n",
    "\n",
    "def choose_e(phi_n):\n",
    "    e = 2\n",
    "    while True:\n",
    "        if gcd(e, phi_n) == 1:\n",
    "            return e\n",
    "        else:\n",
    "            e += 1\n",
    "\n",
    "\n",
    "def gen_RSA(n_bit):\n",
    "    '''n_bit is the size of the primes you want, the secuirty level.\n",
    "    output, N,e,f, N = p*q, e is relatively prime to phi(N), f solves ef = 1mod(phi(N))'''\n",
    "    N, p, q = gen_modulas(n_bit)\n",
    "    phi_n = (p-1)*(q-1)\n",
    "    e = choose_e(phi_n)\n",
    "    f = modular_inverse(e, phi_n)\n",
    "    return N, e, f"
   ]
  },
  {
   "cell_type": "code",
   "execution_count": 9,
   "metadata": {},
   "outputs": [],
   "source": [
    "assert choose_e(448) == 3"
   ]
  },
  {
   "cell_type": "markdown",
   "metadata": {},
   "source": [
    "## The RSA-FDH Signature Scheme"
   ]
  },
  {
   "cell_type": "markdown",
   "metadata": {},
   "source": [
    "This is from the hash and sign paradigm. Where FDH means full domain hash. There are three stages to this scheme: Generation, Sign and Verify\n",
    "+ Generation\n",
    "  - We input the n-bit size of the random uniform primes we want\n",
    "  - This will give us a private key $(N,f)$ and public key $(N,e)$\n",
    "  - Where $N=pq$ and\n",
    "  > $ef \\equiv 1 \\mod{\\phi{N}} $\n",
    "  - A hash function $H$ is generated so all outputs are in $\\{1,2,3,...,N-1\\}$\n",
    "  - The hash function $H$ is part of the public key\n",
    "+ Sign\n",
    "  - We input the private key $(N,f)$ and a message which will be hashed by $H$ into $h$\n",
    "  - So we can compute the $s \\in \\mathbb{Z}$, which is the signature\n",
    "  > $s \\equiv m^d \\pmod{N}$  \n",
    "+ Verify\n",
    "  - We input the public key $(N,e)$ and a message which will be hashed by $H$ into $h\\prime$\n",
    "  - We input $s$ the signature\n",
    "  - Output $1$ which means authenticated if and only if\n",
    "  > $h \\equiv s^e \\pmod{N}$\n",
    "\n",
    "This works as\n",
    "> $s^e \\equiv (h^f)^e \\equiv h^{ef \\mod{\\phi{N}}} \\equiv h^1 \\equiv h\\mod{N}$\n",
    "\n",
    "The reason why this is effective is because calculating $\\phi{N}$ is very difficult, but with extra information $pq=N$ where $p,q \\in$ Primes it makes $\\phi{N}$ easy to calculate, this is know as a trap door. Additionally, the private key can be calculated from knowing the public key and the two primes that make up $N$.\n",
    "\n",
    "Where $\\phi{}$ is the Euler totient function. "
   ]
  },
  {
   "cell_type": "code",
   "execution_count": 10,
   "metadata": {},
   "outputs": [],
   "source": [
    "def Generation(n_bit):\n",
    "    '''input: n_bit, size of primes wanted\n",
    "    output: private and public key'''\n",
    "    N, e, f = gen_RSA(n_bit)\n",
    "    private_key = {\"N\": N, \"f\": f}\n",
    "    public_key = {\"N\": N, \"e\": e}\n",
    "    return private_key, public_key\n",
    "\n",
    "\n",
    "def Sign(message, private_key):\n",
    "    h = my_hash(message, private_key[\"N\"])\n",
    "    s = pow(h, private_key[\"f\"], private_key[\"N\"])\n",
    "    return s\n",
    "\n",
    "\n",
    "def Verify(message, s, public_key):\n",
    "    h_prime = my_hash(message, public_key[\"N\"])\n",
    "    h = pow(s, public_key[\"e\"], public_key[\"N\"])\n",
    "\n",
    "    if h_prime == h:\n",
    "        return 1  # Authenticated\n",
    "    else:\n",
    "        return 0  # Intruder"
   ]
  },
  {
   "cell_type": "markdown",
   "metadata": {},
   "source": [
    "### Note, why is $\\phi{(pq)}$ is easy to calculate"
   ]
  },
  {
   "cell_type": "markdown",
   "metadata": {},
   "source": [
    "For large $N$, we have $\\phi{(N)}$ is difficult to calculate. But since $\\phi$ is a multiplicative function we have when $a,b$ are relatively prime ($gcd(a,b)=1$). Then,\n",
    "> $\\phi{(ab)} = \\phi{(a)}\\phi{(b)}$\n",
    "\n",
    "We also have by the definition of the Euler totient function, for all $p\\in primes$\n",
    "> $\\phi{(p)} = p-1$\n",
    "\n",
    "This means if two primes denoted by $p,q$ can be found such that $N=pq$, then $\\phi{(N)}$ can be quickly calculated by\n",
    "> $\\phi{(N)} = \\phi{(p)}\\phi{(q)} = (p-1)(q-1)$\n",
    "\n",
    "\n",
    "Below is a graph of the totient function for the first 500 numbers"
   ]
  },
  {
   "cell_type": "code",
   "execution_count": 11,
   "metadata": {},
   "outputs": [
    {
     "data": {
      "image/png": "[encoded data removed]",
      "text/plain": [
       "<Figure size 1008x432 with 1 Axes>"
      ]
     },
     "metadata": {
      "needs_background": "light"
     },
     "output_type": "display_data"
    }
   ],
   "source": [
    "x_prime, x_comp = get_primes_composites(500)\n",
    "\n",
    "y_prime = np.array([totient(x_prime[i]) for i in range(0, len(x_prime))])\n",
    "y_comp = np.array([totient(x_comp[i]) for i in range(0, len(x_comp))])\n",
    "\n",
    "plt.figure(figsize=(14, 6))\n",
    "plt.scatter(x_comp, y_comp, color=\"blue\", label=\"Composites\")\n",
    "plt.scatter(x_prime, y_prime, color=\"red\", label=\"Primes\")\n",
    "plt.title(\"Euler Totient Function\")\n",
    "plt.ylabel(\"Totient\")\n",
    "plt.xlabel(\"Number\")\n",
    "plt.legend(fontsize=\"x-large\")\n",
    "plt.show()"
   ]
  },
  {
   "cell_type": "markdown",
   "metadata": {},
   "source": [
    "Below is also an Euler Totient graph but this time it is calculated with compiled code and on multiple threads thus using all CPU's. This means more numbers can be shown. "
   ]
  },
  {
   "cell_type": "code",
   "execution_count": 12,
   "metadata": {},
   "outputs": [
    {
     "data": {
      "image/png": "[encoded data removed]",
      "text/plain": [
       "<Figure size 1008x432 with 1 Axes>"
      ]
     },
     "metadata": {
      "needs_background": "light"
     },
     "output_type": "display_data"
    }
   ],
   "source": [
    "x_prime, x_comp = get_primes_composites(10000, is_prime_FUN=isprime_basic_fast)\n",
    "\n",
    "\n",
    "y_prime = totient_fast_ufunc_par(x_prime)\n",
    "y_comp = totient_fast_ufunc_par(x_comp)\n",
    "\n",
    "plt.figure(figsize=(14, 6))\n",
    "plt.scatter(x_comp, y_comp, color=\"blue\", label=\"Composites\", s = 1)\n",
    "plt.scatter(x_prime, y_prime, color=\"red\", label=\"Primes\", s = 1)\n",
    "plt.title(\"Euler Totient Function\")\n",
    "plt.ylabel(\"Totient\")\n",
    "plt.xlabel(\"Number\")\n",
    "plt.legend(fontsize=\"x-large\")\n",
    "plt.show()"
   ]
  },
  {
   "cell_type": "markdown",
   "metadata": {},
   "source": [
    "### Note, forms of private key"
   ]
  },
  {
   "cell_type": "markdown",
   "metadata": {},
   "source": [
    "If the private key is of the format $(p,q)$ where $N=pq$ given the public key $(N,e)$, the private key can be written in the format $(N,f)$ where $fe \\equiv 1 \\mod{\\phi(N)}$ by the following code"
   ]
  },
  {
   "cell_type": "code",
   "execution_count": 13,
   "metadata": {},
   "outputs": [],
   "source": [
    "def convert_to_N_f(prime_private_key, public_key):\n",
    "    '''inputs private key of form two primes and public key\n",
    "    outputs the new private key of form(N,f)'''\n",
    "    p = prime_private_key[\"p\"]\n",
    "    q = prime_private_key[\"q\"]\n",
    "    N = public_key[\"N\"]\n",
    "    e = public_key[\"e\"]\n",
    "\n",
    "    if p*q != N:\n",
    "        return \"The private key does not work with public key\"\n",
    "\n",
    "    phi_N = (p-1)*(q-1)\n",
    "    f = modular_inverse(e, phi_N)\n",
    "    new_private_key = {\"N\": N, \"f\": f}\n",
    "    return new_private_key"
   ]
  },
  {
   "cell_type": "code",
   "execution_count": 14,
   "metadata": {},
   "outputs": [],
   "source": [
    "# Tests\n",
    "prime_private_key = {\"p\": 41, \"q\": 61}\n",
    "public_key = {\"N\": 2501, \"e\": 7}\n",
    "private_key = convert_to_N_f(prime_private_key, public_key)\n",
    "assert private_key == {\"N\": 2501, \"f\": 343}"
   ]
  },
  {
   "cell_type": "markdown",
   "metadata": {},
   "source": [
    "## Examples of RSA Signature"
   ]
  },
  {
   "cell_type": "markdown",
   "metadata": {},
   "source": [
    "### Example 1, no intruder"
   ]
  },
  {
   "cell_type": "markdown",
   "metadata": {},
   "source": [
    "Bob wants to know the message he has been sent is from Alice. Therefore, Alice needs to generate private and public keys, sign the message. When Bob receives the message he has to verify the message is from Alice."
   ]
  },
  {
   "cell_type": "code",
   "execution_count": 15,
   "metadata": {},
   "outputs": [
    {
     "data": {
      "text/plain": [
       "1"
      ]
     },
     "execution_count": 15,
     "metadata": {},
     "output_type": "execute_result"
    }
   ],
   "source": [
    "message = \"Hello Bob my freind\"\n",
    "# Generate keys with 512 bit primes\n",
    "private_key, public_key = Generation(512)\n",
    "\n",
    "# Alice needs to sign message\n",
    "s = Sign(message, private_key)\n",
    "\n",
    "# s and message are sent to Bob\n",
    "# Bob should also have access to the public key\n",
    "# Bob will now verify Alice sent the message\n",
    "Verification = Verify(message, s, public_key)\n",
    "Verification"
   ]
  },
  {
   "cell_type": "markdown",
   "metadata": {},
   "source": [
    "As can be seen the verification process passed so Bob knows Alice sent the message.\n",
    "\n",
    "Sometimes with very small probability the prime generator will produce a composite number. However, this is fine as then the message will fail the verification process and then the signature process happens again."
   ]
  },
  {
   "cell_type": "markdown",
   "metadata": {},
   "source": [
    "### Example 2, intruder Dave"
   ]
  },
  {
   "cell_type": "markdown",
   "metadata": {},
   "source": [
    "Bob wants to know the message he has been sent is from Alice. And that Dave has not captured and changed the message. Same as before  Alice needs to generate private and public keys, sign the message. When Bob receives the message he has to verify the message is from Alice. If the message fails verification Dave has changed the message. "
   ]
  },
  {
   "cell_type": "code",
   "execution_count": 16,
   "metadata": {},
   "outputs": [
    {
     "data": {
      "text/plain": [
       "0"
      ]
     },
     "execution_count": 16,
     "metadata": {},
     "output_type": "execute_result"
    }
   ],
   "source": [
    "message = \"Hello Bob my freind\"\n",
    "# Generate keys with 512 bit primes\n",
    "private_key, public_key = Generation(512)\n",
    "\n",
    "# Alice needs to sign message\n",
    "s = Sign(message, private_key)\n",
    "\n",
    "# s and message are sent to Bob\n",
    "# Bob should also have access to the public key\n",
    "\n",
    "# Dave intercepts the message and changes it\n",
    "message = \"I declare war on Bob\"\n",
    "# Dave sends new message to Bob\n",
    "\n",
    "# Bob will now verify Alice sent the message\n",
    "Verification = Verify(message, s, public_key)\n",
    "Verification"
   ]
  },
  {
   "cell_type": "markdown",
   "metadata": {},
   "source": [
    "The verification failed this means Bob knows that someone has intercepted and changed the message. "
   ]
  },
  {
   "cell_type": "markdown",
   "metadata": {},
   "source": [
    "### Example 3, 6 bit primes with tests and calculations"
   ]
  },
  {
   "cell_type": "markdown",
   "metadata": {},
   "source": [
    "Let the message be hashed to $h$ where $h=15$, we will use 6 bit primes $p=41$ and $q=61$ so we get $N=2501$, we will use the fact that the Euler's totient function is multiplicative and $\\phi{prime} = prime - 1$.\n",
    ">$\\phi{2501} = \\phi{41}\\phi{61} = 40*60 = 2400$"
   ]
  },
  {
   "cell_type": "code",
   "execution_count": 17,
   "metadata": {},
   "outputs": [],
   "source": [
    "assert totient(2501) == 2400"
   ]
  },
  {
   "cell_type": "markdown",
   "metadata": {},
   "source": [
    "We will select $e=7$ as $gcd(7,2400)=1$\n",
    "\n",
    "calc by hand show working\n",
    "if test then we get all pass"
   ]
  },
  {
   "cell_type": "code",
   "execution_count": 18,
   "metadata": {},
   "outputs": [],
   "source": [
    "assert choose_e(2400) == 7"
   ]
  },
  {
   "cell_type": "markdown",
   "metadata": {},
   "source": [
    "We need to solve for f\n",
    ">\\begin{align*}\n",
    "ef &\\equiv 1 \\mod{\\phi{N}}\\\\\n",
    "7f &\\equiv 1 \\mod{2400}\\\\\n",
    "f &= 343\n",
    "\\end{align*}"
   ]
  },
  {
   "cell_type": "code",
   "execution_count": 19,
   "metadata": {},
   "outputs": [],
   "source": [
    "assert modular_inverse(7, 2400) == 343"
   ]
  },
  {
   "cell_type": "markdown",
   "metadata": {},
   "source": [
    "Therefore, we get private key $(N=2501, f=343)$ and public key $(N=2501, e=7)$"
   ]
  },
  {
   "cell_type": "code",
   "execution_count": 20,
   "metadata": {},
   "outputs": [],
   "source": [
    "private_key = {\"N\": 2501, \"f\": 343}\n",
    "public_key = {\"N\": 2501, \"e\": 7}\n",
    "message = 15"
   ]
  },
  {
   "cell_type": "markdown",
   "metadata": {},
   "source": [
    "We need to sign the message, the signature $s$\n",
    ">\\begin{align*}\n",
    "s &\\equiv h^f \\mod{N}\\\\\n",
    "s &\\equiv 15^{343} \\mod{2501}\\\\\n",
    "s &= 1053\n",
    "\\end{align*}"
   ]
  },
  {
   "cell_type": "code",
   "execution_count": 21,
   "metadata": {},
   "outputs": [],
   "source": [
    "s = Sign(message, private_key)\n",
    "assert s == 1053"
   ]
  },
  {
   "cell_type": "markdown",
   "metadata": {},
   "source": [
    "The message and signature are sent off to the person, the person will verify the message by checking if their $h\\prime = h$.\n",
    "\n",
    "Let us consider the case where the message is not changed.\n",
    "\n",
    ">\\begin{align*}\n",
    "h &\\equiv s^e \\pmod{N}\\\\\n",
    "h &\\equiv 1053^{7} \\pmod{2501}\\\\\n",
    "h &= 15\n",
    "\\end{align*}\n",
    "\n",
    "So since $h\\prime = h$ the message will be verified."
   ]
  },
  {
   "cell_type": "code",
   "execution_count": 22,
   "metadata": {},
   "outputs": [],
   "source": [
    "assert Verify(message, s, public_key) == 1"
   ]
  },
  {
   "cell_type": "markdown",
   "metadata": {},
   "source": [
    "This time the same message is sent but a middle man intercepts the message and changes it. Let the new message be hashed to $h\\prime=16$. Therefore, $h\\prime \\neq h$.\n"
   ]
  },
  {
   "cell_type": "code",
   "execution_count": 23,
   "metadata": {},
   "outputs": [],
   "source": [
    "message = 16\n",
    "assert Verify(message, s, public_key) == 0"
   ]
  },
  {
   "cell_type": "markdown",
   "metadata": {},
   "source": [
    "The middle man will struggle to forge $s$ as they will struggle to find $f$ as they know $e$ and $N$ but only knowing that information makes solving $ef \\equiv 1 \\mod{\\phi{N}}$ for $f$ difficult for large $N$ as $\\phi{N}$ takes a long time to calculate."
   ]
  },
  {
   "cell_type": "markdown",
   "metadata": {},
   "source": [
    "## Problems with the Plain RSA signature"
   ]
  },
  {
   "cell_type": "markdown",
   "metadata": {},
   "source": [
    "The Plain RSA signature is the same as the RSA-FDH signature but without the hash function $H$. This means only integers in $\\{1,2,...,N-1\\}$ can be sent as the message. With this signature there are a few forms of attacks."
   ]
  },
  {
   "cell_type": "markdown",
   "metadata": {},
   "source": [
    "### A no control of message attack,"
   ]
  },
  {
   "cell_type": "markdown",
   "metadata": {},
   "source": [
    "This attack only requires the public key $(N,e)$, it works as follows. The attacker uniformly picks a signature $s$ where $s\\in\\{1,2,3,...,N-1\\}$. Then calculates the message $h$ where \n",
    ">$h \\equiv s^e \\mod{N}$\n",
    "\n",
    "Therefore, the message $h$ has a valid signature $s$, this is a forgery as no signatures were signed by the owner of the public key. However, the attacker has no control over the messages $h$ that get forged.\n",
    "\n",
    "If this attack is repeated multiple times for different values of the signature $s$ then the attacker can pick a forged message which suits their needs."
   ]
  },
  {
   "cell_type": "markdown",
   "metadata": {},
   "source": [
    "### Forging a signature on an arbitary message"
   ]
  },
  {
   "cell_type": "markdown",
   "metadata": {},
   "source": [
    "Say the attacker wants to forge a message $h\\in\\{1,2,3,...,N-1\\}$ with respect to the public key $(N,e)$, then the attacker picks  $h_1,h_2\\in\\{1,2,3,...,N-1\\}$ which is different from $h$ with\n",
    "> $h \\equiv h_1h_2\\mod{N}$\n",
    "\n",
    "The attacker then needs to obtain valid signatures $s_1, s_2$ for $h_1, h_2$. Then we have $s \\equiv s_1s_2 \\mod{N}$ is a valid signature for $h$. This is because\n",
    ">$s^e \\equiv (s_1s_2)^e \\equiv (h_{1}^{f}h_{2}^{f})^e \\equiv h_1^{fe}h_2^{fe} \\equiv h_1h_2 \\equiv h \\mod{N}$\n",
    "\n",
    "where $f$ is part of the private key, but isn't needed for this to work.\n",
    "\n",
    "This may not seem devastating but it is dangerous to make assumptions about what messages the signer may or may not be willing to sign.\n",
    "\n",
    "Additionally, multiple valid signatures $\\textbf{s} = \\{s_1, s_2, ..., s_q\\}$ and their corresponding messages $\\textbf{h} = \\{h_1,h_2,...,h_q\\}$ can be captured. By using the same principle as above the attacker can obtain a valid signature on any of the $2^q-q$ other messages by taking products of the subset $\\textbf{h}$.\n",
    "\n",
    "Furthermore, one example of getting signatures and messages is when a client wants to connect to a server. If a client uses a signature scheme to authenticate with the server and this is done by the client signing a random message sent by the server. It is easy for a malicious server to ask for a certain message to be signed."
   ]
  },
  {
   "cell_type": "markdown",
   "metadata": {},
   "source": [
    "## Hash Function"
   ]
  },
  {
   "cell_type": "markdown",
   "metadata": {},
   "source": [
    "Let $m$ be a string message and $h$ be a hashed message such that $H(m) = h$\n",
    "\n",
    "This means to prevent these attacks the hash function $H$ must have certain properties.\n",
    "+ $H$ must be hard to invert, this will prevent the \"no control of message attack\". As for each valid signature that is forged it is difficult to find the string message $m$ which corresponds to the hashed message $h$\n",
    "\n",
    "+ $H$ must not have multiplicative relations, that means it is hard to find three messages $m,m_1,m_2$ such that $H(m) = H(m_1)H(m_2)$. This should prevent the \"forgery of an arbitrary message\".\n",
    "\n",
    "+ It must be hard to find collisions for $H$. Since if $H(m_1)=H(m_2)$, then $m_1$ and $m_2$ have the same signature, this means forgery of a non signed message is trivial.\n"
   ]
  },
  {
   "cell_type": "markdown",
   "metadata": {},
   "source": [
    "# Diffie-Hellman Protocol"
   ]
  },
  {
   "cell_type": "markdown",
   "metadata": {},
   "source": [
    "## Ronan Part"
   ]
  },
  {
   "cell_type": "code",
   "execution_count": 24,
   "metadata": {},
   "outputs": [],
   "source": [
    "def sgrandprime(n_bit, t):  # Talk about why we use a prime here, its because using a Prime allows for many more potential Secret\n",
    "    # Keys when modulo a prime, Also SOphie Germain prime avoids complications with certain primes because p-1 is composite, so\n",
    "    # The multiplicative group has order p-1, which is mad as it makes it easy to crack\n",
    "    while True:\n",
    "        p = random_prime(n_bit-1, t, trails=5000) #-1 as 2*p + 1 needs to be n_bit prime\n",
    "        if is_prime_miller_rabin((2*p)+1, t=40):\n",
    "            return p, (2*p)+1\n",
    "\n",
    "\n",
    "Publicprimes = sgrandprime(256, 40)"
   ]
  },
  {
   "cell_type": "code",
   "execution_count": 25,
   "metadata": {},
   "outputs": [],
   "source": [
    "#Range test\n",
    "test_prime = sgrandprime(10,40)[1]\n",
    "assert test_prime<2**10\n",
    "assert test_prime>=2**(10-1)"
   ]
  },
  {
   "cell_type": "code",
   "execution_count": 26,
   "metadata": {},
   "outputs": [
    {
     "data": {
      "text/plain": [
       "5"
      ]
     },
     "execution_count": 26,
     "metadata": {},
     "output_type": "execute_result"
    }
   ],
   "source": [
    "def safe_primitive_root(Publicprimes):\n",
    "    q = Publicprimes[1]\n",
    "    p = Publicprimes[0]\n",
    "    b = 2\n",
    "    primitive = False\n",
    "    while not primitive:\n",
    "        if b % q == 1 or (b*b) % q == 1 or pow(b, p, q) == 1:\n",
    "            b += 1\n",
    "            continue\n",
    "        else:\n",
    "            primitive = True\n",
    "    return b\n",
    "\n",
    "\n",
    "pr = safe_primitive_root(Publicprimes)\n",
    "pr"
   ]
  },
  {
   "cell_type": "code",
   "execution_count": 27,
   "metadata": {},
   "outputs": [
    {
     "data": {
      "text/plain": [
       "[38444453682869722282043440259505897798574255020149140079760868959356580330835,\n",
       " 38444453682869722282043440259505897798574255020149140079760868959356580330835]"
      ]
     },
     "execution_count": 27,
     "metadata": {},
     "output_type": "execute_result"
    }
   ],
   "source": [
    "def Private_keys(n, n_bit = 256):\n",
    "    keys = []\n",
    "    for i in range(0, n):\n",
    "        keys.append(2**(n_bit -1) + ran.SystemRandom().getrandbits((n_bit -1)))\n",
    "    return keys\n",
    "\n",
    "\n",
    "keys = Private_keys(2)\n",
    "\n",
    "Alice_private = keys[0]\n",
    "Bob_private = keys[1]\n",
    "\n",
    "\n",
    "def Public_Keys(primiroot, Privates, Prime):\n",
    "    n = len(Privates)\n",
    "    Publics = []\n",
    "    for i in range(0, n):\n",
    "        Publics.append(pow(primiroot, Privates[i], Prime))\n",
    "    return Publics\n",
    "\n",
    "\n",
    "Publics = Public_Keys(pr, keys, Publicprimes[1])\n",
    "\n",
    "Alice_public = Publics[0]\n",
    "Bob_public = Publics[1]\n",
    "\n",
    "\n",
    "def Secret_key(publics, privates, generator):\n",
    "    n = len(publics)\n",
    "    publicuse = publics\n",
    "    for m in range(0, n-1):\n",
    "        Temp = []\n",
    "        for i in range(0, n):\n",
    "            Temp.append(pow(publicuse[(i-1) % n], privates[i], generator))\n",
    "        for j in range(0, n):\n",
    "            publicuse[j] = Temp[j]\n",
    "    Final = Temp\n",
    "    return Final\n",
    "\n",
    "\n",
    "Secret_key(Publics, keys, Publicprimes[1])"
   ]
  },
  {
   "cell_type": "code",
   "execution_count": 28,
   "metadata": {},
   "outputs": [
    {
     "data": {
      "text/plain": [
       "[43912090456272108584130703998314800144769147101671437095173154452557285719871,\n",
       " 43912090456272108584130703998314800144769147101671437095173154452557285719871,\n",
       " 43912090456272108584130703998314800144769147101671437095173154452557285719871]"
      ]
     },
     "execution_count": 28,
     "metadata": {},
     "output_type": "execute_result"
    }
   ],
   "source": [
    "# Three parties\n",
    "threekeys = Private_keys(3)\n",
    "Three_Alice_private = threekeys[0]\n",
    "Three_Bob_private = threekeys[1]\n",
    "Three_Charlie_private = threekeys[2]\n",
    "\n",
    "Three_Public = Public_Keys(pr, threekeys, Publicprimes[1])\n",
    "\n",
    "Three_Alice_public = Three_Public[0]\n",
    "Three_Bob_public = Three_Public[1]\n",
    "Three_Charlie_public = Three_Public[2]\n",
    "\n",
    "Secret_key(Three_Public, threekeys, Publicprimes[1])"
   ]
  },
  {
   "cell_type": "markdown",
   "metadata": {},
   "source": [
    "## Solving the discrete logarithm problem"
   ]
  },
  {
   "cell_type": "markdown",
   "metadata": {},
   "source": [
    "The discrete logarithm problem is finding $a \\in \\mathbb{N}$ such that it solves\n",
    "> $M \\equiv g^a\\mod{p}$\n",
    "\n",
    "where $M,g,p \\in \\mathbb{N}$\n",
    "\n",
    "A time function will be used to time the function. Therefore, different methods can be compared. This time function can be used to time any function. "
   ]
  },
  {
   "cell_type": "code",
   "execution_count": 29,
   "metadata": {},
   "outputs": [],
   "source": [
    "def time_func(Func, num_samples, Func_parameters = [[]]):\n",
    "    \"\"\"Times the function\n",
    "\n",
    "    Parameters\n",
    "    ----------\n",
    "    Func : function\n",
    "        Function that is being timed \n",
    "    num_samples : int\n",
    "        Number of times Func will run\n",
    "    Func_parameters : 2D array\n",
    "        Each array in 2D array are the parameters of the Function Func, if num_samples\n",
    "        greater than number of arrays then it will loop over\n",
    "    \n",
    "    Returns\n",
    "    -------\n",
    "    tuple\n",
    "        mean_time,\n",
    "        std_time\n",
    "        \n",
    "        \n",
    "    Examples\n",
    "    --------\n",
    "    time_func(decompose, 4, [[3226322291321]])   \n",
    "    #will time decompose function 4 times with parameter 3226322291321\n",
    "       \n",
    "    time_func(decompose, 3, [[3304575252941], [1954377239027], [2964234252593]])   \n",
    "    #will time decompose function 3 times with a differenc parameter each time\n",
    "    \n",
    "    \n",
    "    \"\"\"\n",
    "    times = np.zeros(num_samples)\n",
    "    loopover = len(Func_parameters)\n",
    "    for i in range(num_samples):\n",
    "        temp_start_time = time.time()\n",
    "        Func(*Func_parameters[i%loopover])\n",
    "        temp_finish_time = time.time()\n",
    "        times[i] = (temp_finish_time - temp_start_time)\n",
    "    \n",
    "    return times.mean(), times.std()"
   ]
  },
  {
   "cell_type": "markdown",
   "metadata": {},
   "source": [
    "We will now create a function which times how long each discrete logarithm algorithm takes with different bit sizes. It outputs a pandas data frame."
   ]
  },
  {
   "cell_type": "code",
   "execution_count": 38,
   "metadata": {},
   "outputs": [],
   "source": [
    "def time_discrete_logarithm(Func, start, stop, num_samples=10):\n",
    "    r\"\"\"time_discrete_logarithm\n",
    "\n",
    "    Times how long a discrete logarithm algorithm takes to run.\n",
    "    Outputs a pandas data frame with the results.\n",
    "\n",
    "    Parameters\n",
    "    ----------\n",
    "    Func : Func\n",
    "        The function that is to solve the discrete logarithm\n",
    "    start : int\n",
    "        The bit size to start at\n",
    "    stop : int\n",
    "        The bit size to stop at, does not include stop size bit\n",
    "    num_samples : int, optional\n",
    "        The number of samples to be taken.  Defaults to 10\n",
    "\n",
    "    Returns\n",
    "    -------\n",
    "    pandas data frame\n",
    "        index: bit size of p and q\n",
    "        Mean time: Has the mean time\n",
    "        Std time: Has the std times\n",
    "\n",
    "    \"\"\"\n",
    "\n",
    "    discrete_logarithm_mean_times = []\n",
    "    discrete_logarithm_std_times = []\n",
    "\n",
    "    for n_bit in range(start, stop):\n",
    "        public_keys = [gen_public_key(n_bit) for i in range(num_samples)]\n",
    "\n",
    "        input_parameters = format_input_parameters(public_keys)\n",
    "        temp_mean, temp_std = time_func(\n",
    "            Func, num_samples, input_parameters)\n",
    "\n",
    "        discrete_logarithm_mean_times.append(temp_mean)\n",
    "        discrete_logarithm_std_times.append(temp_std)\n",
    "\n",
    "    #print(\"discrete_logarithm_brute_better_fast(g, p, A)\")\n",
    "\n",
    "    my_time_data = {\"Mean time\": discrete_logarithm_mean_times,\n",
    "                    \"Std time\": discrete_logarithm_std_times}\n",
    "    time_data_frame = pd.DataFrame(data=my_time_data)\n",
    "    time_data_frame.index = range(start, stop)\n",
    "    time_data_frame.index.name = \"bit size of p and a\"\n",
    "\n",
    "    return time_data_frame\n",
    "\n",
    "def gen_public_key(n_bit):\n",
    "    \"\"\"generates public information\n",
    "\n",
    "    Generates then calculates public information\n",
    "\n",
    "    Parameters\n",
    "    ----------\n",
    "    n_bit : int\n",
    "        The size of the p prime wanted\n",
    "\n",
    "    Returns\n",
    "    -------\n",
    "    dict\n",
    "        The public information\n",
    "        A : solution to g^a mod(p)\n",
    "        g : primitive root\n",
    "        p : large n_bit prime\n",
    "\n",
    "    \"\"\"\n",
    "    q, p = sgrandprime(n_bit, 40)\n",
    "    g = safe_primitive_root([q, p])\n",
    "    a = Private_keys(1, n_bit)[0]\n",
    "    A = pow(g, a, p)\n",
    "    return {\"A\": A, \"g\": g, \"p\": p}\n",
    "\n",
    "def format_input_parameters(public_keys, my_order=[\"g\", \"p\", \"A\"]):\n",
    "    \"\"\"Formats parameters for the function\n",
    "\n",
    "\n",
    "    Parameters\n",
    "    ----------\n",
    "    public_keys : array of dict\n",
    "\n",
    "    my_oreder : array of str\n",
    "        What order is wanted for the output\n",
    "\n",
    "    Returns\n",
    "    -------\n",
    "    2D array\n",
    "        The parameters for the funciton\n",
    "\n",
    "    \"\"\"\n",
    "\n",
    "    formated_public_keys = []\n",
    "\n",
    "    for public_key in public_keys:\n",
    "        temp_public_key = []\n",
    "        for key in my_order:\n",
    "            temp_public_key.append(public_key[key])\n",
    "        formated_public_keys.append(temp_public_key)\n",
    "\n",
    "    return formated_public_keys\n",
    "\n"
   ]
  },
  {
   "cell_type": "code",
   "execution_count": 39,
   "metadata": {},
   "outputs": [],
   "source": [
    "# Test format_input_parameters\n",
    "input_public_keys = [{\"A\": 307, \"g\": 5, \"p\": 863},\n",
    "                     {\"g\": 5, \"A\": 844, \"p\": 983},\n",
    "                     {\"p\": 563, \"g\": 2, \"A\": 83}]\n",
    "expected_format = [[5, 863, 307],\n",
    "                   [5, 983, 844],\n",
    "                   [2, 563, 83]]\n",
    "assert format_input_parameters(input_public_keys) == expected_format"
   ]
  },
  {
   "cell_type": "markdown",
   "metadata": {},
   "source": [
    "As solving the discrete logarithm problem has time complexity of $\\mathcal{O}(2^N)$, we will need a way of finding the curve of best fit in order to predict run times of higher bit numbers."
   ]
  },
  {
   "cell_type": "code",
   "execution_count": 275,
   "metadata": {},
   "outputs": [],
   "source": [
    "def log_best_fit(x, y):\n",
    "    \"\"\"Finds the best fit values for alpha, beta\n",
    "\n",
    "    y = alpha*e^(x*beta)\n",
    "\n",
    "    Parameters\n",
    "    ----------\n",
    "    y : array of floats\n",
    "\n",
    "    x : array of floats\n",
    "\n",
    "    Returns\n",
    "    -------\n",
    "        turple of float\n",
    "        alpha, beta\n",
    "        The parameters for the funciton\n",
    "\n",
    "    \"\"\"\n",
    "    x = np.array(x)\n",
    "    y = np.array(y)\n",
    "    #Need to disregard any y=0\n",
    "    index_of_0 = np.where(y == 0)\n",
    "    x = np.delete(x, index_of_0)\n",
    "    y = np.delete(y, index_of_0)\n",
    "    \n",
    "    ln_y = np.log(y)\n",
    "\n",
    "    ln_alpha, beta = best_fit(x, ln_y)\n",
    "    alpha = np.e**ln_alpha\n",
    "\n",
    "    return alpha, beta\n",
    "\n",
    "\n",
    "def best_fit(x, y):\n",
    "    \"\"\"Finds the best fit values for alpha, beta\n",
    "\n",
    "     y = beta*x + alpha\n",
    "\n",
    "\n",
    "    Parameters\n",
    "    ----------\n",
    "    y : array of floats\n",
    "\n",
    "    x : array of floats\n",
    "\n",
    "    Returns\n",
    "    -------\n",
    "        turple of float\n",
    "        alpha, beta\n",
    "        The parameters for the funciton\n",
    "\n",
    "    \"\"\"\n",
    "    x = np.array(x)\n",
    "    y = np.array(y)\n",
    "    \n",
    "    n = len(x)\n",
    "    S_xx = sum(x**2)-((sum(x))**2/n)\n",
    "    S_xy = sum(x*y)-(sum(x)*sum(y)/n)\n",
    "\n",
    "    beta = S_xy/S_xx\n",
    "    alpha = y.mean() - beta*x.mean()\n",
    "\n",
    "    return alpha, beta\n",
    "\n",
    "\n",
    "def get_prediction(df, start = 1, stop = 5, step=0.5, ab = False):\n",
    "    \"\"\"Get prediction of what further times will be\n",
    "\n",
    "    Uses linear and exponential regression to predict future times,\n",
    "    By solving\n",
    "        y = alpha*e^(x*beta)\n",
    "\n",
    "    Parameters\n",
    "    ----------\n",
    "    df : pandas data frame\n",
    "        Contains the time it takes for a n bit prime to be solved in discrete logarithum problem.\n",
    "    start : float, optional\n",
    "        the n_bit position to start the returned line.\n",
    "    stop: float, optional\n",
    "        the n_bit position to finish the returned line, does not include end. \n",
    "    step: float, optional\n",
    "        the smaller the number the higher the detail of the line, defaults to 0.5 .\n",
    "    ab: boolean, optional\n",
    "        If the alpha and beta want to be returned instead, defaults to false.\n",
    "\n",
    "    Returns\n",
    "    -------\n",
    "        turple of float arrays\n",
    "        Points of the predicted line\n",
    "        \n",
    "        alpha, beta\n",
    "        Curve of best fit\n",
    "\n",
    "    \"\"\"\n",
    "    # process df\n",
    "    n_bit = np.array(df.index)\n",
    "    times = np.array(df)\n",
    "\n",
    "    # find curve of best fit\n",
    "    alpha, beta = log_best_fit(n_bit, times)\n",
    "    \n",
    "    if ab:\n",
    "        return alpha, beta\n",
    "\n",
    "    # get points\n",
    "    x_vals = np.arange(start, stop, step)\n",
    "    y_vals = alpha*(np.e**(beta*x_vals))\n",
    "\n",
    "    return x_vals, y_vals"
   ]
  },
  {
   "cell_type": "code",
   "execution_count": 276,
   "metadata": {},
   "outputs": [],
   "source": [
    "# Test best_fit()\n",
    "test_x = [1, 3, 4]\n",
    "test_y = [5, 9, 11]\n",
    "test_alpha, test_beta = best_fit(test_x, test_y)\n",
    "assert abs(test_alpha - 3) < 0.001\n",
    "assert abs(test_beta - 2) < 0.001\n",
    "\n",
    "# Test log_best_fit()\n",
    "test_x = [0, 1, 2, 3, 4, 5]\n",
    "test_y = [3, 7, 10, 24, 50, 95]\n",
    "test_alpha, test_beta = log_best_fit(test_x, test_y)\n",
    "assert abs(test_alpha - 3.0465) < 0.001\n",
    "assert abs(test_beta - 0.6871) < 0.001\n",
    "\n",
    "# Test get prediction\n",
    "test_df = pd.DataFrame(data={'test data': [3, 7, 10, 24, 50, 95]})\n",
    "expected_y_vals = [23.934, 47.579, 94.584]\n",
    "actual_x_vals, actual_y_vals = get_prediction(test_df['test data'], 3, 6, 1)\n",
    "\n",
    "assert max(abs(actual_x_vals - [3, 4, 5])) < 1e-5\n",
    "assert max(abs(actual_y_vals - expected_y_vals)) < 1e-1"
   ]
  },
  {
   "cell_type": "markdown",
   "metadata": {},
   "source": [
    "To make the code run faster numba will be used. This will allow the code to be compiled before running, this means the start up time of a function will be longer but since these methods have many loops the time to complete will be reduced."
   ]
  },
  {
   "cell_type": "markdown",
   "metadata": {},
   "source": [
    "### Using Brute Force"
   ]
  },
  {
   "cell_type": "markdown",
   "metadata": {},
   "source": [
    "Here we have a basic brute force method. This method works by starting with $a=1$ then evaluating $g^a\\mod{p}$ and comparing it to $M$. By incrementing $a$ until a solution is found.\n",
    "\n",
    "This method only works if there is a solution for $a$ as \"discrete_logarithm_brute(2,4,3)\" will run forever. Since this is being used to crack the Diffie-Hellman protocol then there has to be a solution, so this problem can be disregarded."
   ]
  },
  {
   "cell_type": "code",
   "execution_count": 40,
   "metadata": {},
   "outputs": [],
   "source": [
    "def discrete_logarithm_brute(a, N, z):\n",
    "    \"\"\"Solves the discrete logarithm problem\n",
    "\n",
    "    Solves z = a^b mod(N) for b, by using a brute force method \n",
    "\n",
    "    Parameters\n",
    "    ----------\n",
    "    a : int\n",
    "    N : int\n",
    "    z : int\n",
    "\n",
    "    Returns\n",
    "    -------\n",
    "    int\n",
    "        Solves z = a^b mod(N) for b,\n",
    "    \"\"\"\n",
    "\n",
    "    b = 1\n",
    "    while True:\n",
    "        if pow(a, b, N) == z:\n",
    "            return b\n",
    "        b += 1\n",
    "\n",
    "@numba.jit('int64(int64,int64,int64)', nopython = True)       \n",
    "def discrete_logarithm_brute_fast(a, N, z):\n",
    "    \"\"\"Solves the discrete logarithm problem\n",
    "\n",
    "    Solves z = a^b mod(N) for b, by using a brute force method \n",
    "\n",
    "    Parameters\n",
    "    ----------\n",
    "    a : int\n",
    "    N : int\n",
    "    z : int\n",
    "\n",
    "    Returns\n",
    "    -------\n",
    "    int\n",
    "        Solves z = a^b mod(N) for b,\n",
    "    \"\"\"\n",
    "\n",
    "    b = 1\n",
    "    while True:\n",
    "        if my_pow(a, b, N) == z:\n",
    "            return b\n",
    "        b += 1\n",
    "\n"
   ]
  },
  {
   "cell_type": "code",
   "execution_count": 41,
   "metadata": {},
   "outputs": [],
   "source": [
    "# Tests\n",
    "assert discrete_logarithm_brute(15, 2342, 167) == 37\n",
    "assert discrete_logarithm_brute(5, 352, 133) == 25\n",
    "assert discrete_logarithm_brute(3452, 123456, 39104) == 543\n",
    "\n",
    "assert discrete_logarithm_brute_fast(15, 2342, 167) == 37\n",
    "assert discrete_logarithm_brute_fast(5, 352, 133) == 25\n",
    "assert discrete_logarithm_brute_fast(3452, 123456, 39104) == 543"
   ]
  },
  {
   "cell_type": "markdown",
   "metadata": {},
   "source": [
    "The method below is still a brute force method. It uses information from the previous loop which means it doesn't have to evaluate $g^a\\mod{p}$ every time. However, this comes at the price of using extra storage space which increase space complexity."
   ]
  },
  {
   "cell_type": "code",
   "execution_count": 42,
   "metadata": {},
   "outputs": [],
   "source": [
    "def discrete_logarithm_brute_better(a, N, z):\n",
    "    \"\"\"Solves the discrete logarithm problem\n",
    "\n",
    "    Solves z = a^b mod(N) for b, by using a brute force method \n",
    "\n",
    "    Parameters\n",
    "    ----------\n",
    "    a : int\n",
    "    N : int\n",
    "    z : int\n",
    "\n",
    "    Returns\n",
    "    -------\n",
    "    int\n",
    "        Solves z = a^b mod(N) for b,\n",
    "    \"\"\"\n",
    "    b = 1\n",
    "    a_new = a\n",
    "    while True:\n",
    "        if a_new == z:\n",
    "            return b\n",
    "        a_new = (a_new*a) % N\n",
    "        b += 1\n",
    "\n",
    "@numba.jit('int64(int64,int64,int64)', nopython = True)\n",
    "def discrete_logarithm_brute_better_fast(a, N, z):\n",
    "    \"\"\"Solves the discrete logarithm problem\n",
    "\n",
    "    Solves z = a^b mod(N) for b, by using a brute force method, uses a complied version\n",
    "\n",
    "    Parameters\n",
    "    ----------\n",
    "    a : int\n",
    "    N : int\n",
    "    z : int\n",
    "\n",
    "    Returns\n",
    "    -------\n",
    "    int\n",
    "        Solves z = a^b mod(N) for b,\n",
    "    \"\"\"\n",
    "    b = 1\n",
    "    a_new = a\n",
    "    while True:\n",
    "        if a_new == z:\n",
    "            return b\n",
    "        a_new = (a_new*a) % N\n",
    "        b += 1\n"
   ]
  },
  {
   "cell_type": "code",
   "execution_count": 43,
   "metadata": {},
   "outputs": [],
   "source": [
    "# Tests\n",
    "assert discrete_logarithm_brute_better(15, 2342, 167) == 37\n",
    "assert discrete_logarithm_brute_better(5, 352, 133) == 25\n",
    "assert discrete_logarithm_brute_better(3452, 123456, 39104) == 543\n",
    "\n",
    "# Tests\n",
    "assert discrete_logarithm_brute_better_fast(15, 2342, 167) == 37\n",
    "assert discrete_logarithm_brute_better_fast(5, 352, 133) == 25\n",
    "assert discrete_logarithm_brute_better_fast(3452, 123456, 39104) == 543"
   ]
  },
  {
   "cell_type": "markdown",
   "metadata": {},
   "source": [
    "### Comparing Brute Force Methods"
   ]
  },
  {
   "cell_type": "markdown",
   "metadata": {},
   "source": [
    "By comparing these functions it is clear to see that the brute better algorithm is faster. Additionally, the algorithms which are compiled are faster. So from using a better brute force method and compiled code we get the solution runs over $100$ times faster."
   ]
  },
  {
   "cell_type": "code",
   "execution_count": 250,
   "metadata": {
    "deletable": false,
    "editable": false,
    "run_control": {
     "frozen": true
    }
   },
   "outputs": [
    {
     "name": "stdout",
     "output_type": "stream",
     "text": [
      "615 µs ± 1.63 µs per loop (mean ± std. dev. of 7 runs, 1000 loops each)\n",
      "83.2 µs ± 76.2 ns per loop (mean ± std. dev. of 7 runs, 10000 loops each)\n",
      "56.6 µs ± 121 ns per loop (mean ± std. dev. of 7 runs, 10000 loops each)\n",
      "5.4 µs ± 11.8 ns per loop (mean ± std. dev. of 7 runs, 100000 loops each)\n"
     ]
    }
   ],
   "source": [
    "%timeit discrete_logarithm_brute(3452, 123456, 39104)\n",
    "%timeit discrete_logarithm_brute_fast(3452, 123456, 39104)\n",
    "%timeit discrete_logarithm_brute_better(3452, 123456, 39104)\n",
    "%timeit discrete_logarithm_brute_better_fast(3452, 123456, 39104)"
   ]
  },
  {
   "cell_type": "code",
   "execution_count": 321,
   "metadata": {},
   "outputs": [],
   "source": [
    "dl_brute_times = time_discrete_logarithm(discrete_logarithm_brute, 8, 18, 15) #8\n",
    "dl_brute_fast_times = time_discrete_logarithm(discrete_logarithm_brute_fast, 10, 20, 15) #10\n",
    "dl_brute_better_times = time_discrete_logarithm(discrete_logarithm_brute_better, 12, 22, 15) #12\n",
    "dl_brute_better_fast_times = time_discrete_logarithm(discrete_logarithm_brute_better_fast, 13, 26, 15) #13"
   ]
  },
  {
   "cell_type": "code",
   "execution_count": 322,
   "metadata": {},
   "outputs": [
    {
     "data": {
      "text/html": [
       "<div>\n",
       "<style scoped>\n",
       "    .dataframe tbody tr th:only-of-type {\n",
       "        vertical-align: middle;\n",
       "    }\n",
       "\n",
       "    .dataframe tbody tr th {\n",
       "        vertical-align: top;\n",
       "    }\n",
       "\n",
       "    .dataframe thead tr th {\n",
       "        text-align: left;\n",
       "    }\n",
       "\n",
       "    .dataframe thead tr:last-of-type th {\n",
       "        text-align: right;\n",
       "    }\n",
       "</style>\n",
       "<table border=\"1\" class=\"dataframe\">\n",
       "  <thead>\n",
       "    <tr>\n",
       "      <th></th>\n",
       "      <th colspan=\"2\" halign=\"left\">Brute</th>\n",
       "      <th colspan=\"2\" halign=\"left\">Compiled Brute</th>\n",
       "      <th colspan=\"2\" halign=\"left\">Better Brute</th>\n",
       "      <th colspan=\"2\" halign=\"left\">Compiled Better Brute</th>\n",
       "    </tr>\n",
       "    <tr>\n",
       "      <th></th>\n",
       "      <th>Mean time</th>\n",
       "      <th>Std time</th>\n",
       "      <th>Mean time</th>\n",
       "      <th>Std time</th>\n",
       "      <th>Mean time</th>\n",
       "      <th>Std time</th>\n",
       "      <th>Mean time</th>\n",
       "      <th>Std time</th>\n",
       "    </tr>\n",
       "    <tr>\n",
       "      <th>bit size of p and a</th>\n",
       "      <th></th>\n",
       "      <th></th>\n",
       "      <th></th>\n",
       "      <th></th>\n",
       "      <th></th>\n",
       "      <th></th>\n",
       "      <th></th>\n",
       "      <th></th>\n",
       "    </tr>\n",
       "  </thead>\n",
       "  <tbody>\n",
       "    <tr>\n",
       "      <th>8</th>\n",
       "      <td>0.000067</td>\n",
       "      <td>0.000249</td>\n",
       "      <td>NaN</td>\n",
       "      <td>NaN</td>\n",
       "      <td>NaN</td>\n",
       "      <td>NaN</td>\n",
       "      <td>NaN</td>\n",
       "      <td>NaN</td>\n",
       "    </tr>\n",
       "    <tr>\n",
       "      <th>9</th>\n",
       "      <td>0.000200</td>\n",
       "      <td>0.000399</td>\n",
       "      <td>NaN</td>\n",
       "      <td>NaN</td>\n",
       "      <td>NaN</td>\n",
       "      <td>NaN</td>\n",
       "      <td>NaN</td>\n",
       "      <td>NaN</td>\n",
       "    </tr>\n",
       "    <tr>\n",
       "      <th>10</th>\n",
       "      <td>0.000382</td>\n",
       "      <td>0.000511</td>\n",
       "      <td>0.000066</td>\n",
       "      <td>0.000249</td>\n",
       "      <td>NaN</td>\n",
       "      <td>NaN</td>\n",
       "      <td>NaN</td>\n",
       "      <td>NaN</td>\n",
       "    </tr>\n",
       "    <tr>\n",
       "      <th>11</th>\n",
       "      <td>0.000667</td>\n",
       "      <td>0.000471</td>\n",
       "      <td>0.000066</td>\n",
       "      <td>0.000249</td>\n",
       "      <td>NaN</td>\n",
       "      <td>NaN</td>\n",
       "      <td>NaN</td>\n",
       "      <td>NaN</td>\n",
       "    </tr>\n",
       "    <tr>\n",
       "      <th>12</th>\n",
       "      <td>0.001396</td>\n",
       "      <td>0.001535</td>\n",
       "      <td>0.000333</td>\n",
       "      <td>0.000471</td>\n",
       "      <td>0.000266</td>\n",
       "      <td>0.000441</td>\n",
       "      <td>NaN</td>\n",
       "      <td>NaN</td>\n",
       "    </tr>\n",
       "    <tr>\n",
       "      <th>13</th>\n",
       "      <td>0.002793</td>\n",
       "      <td>0.002707</td>\n",
       "      <td>0.000597</td>\n",
       "      <td>0.000488</td>\n",
       "      <td>0.000399</td>\n",
       "      <td>0.000489</td>\n",
       "      <td>0.000066</td>\n",
       "      <td>0.000249</td>\n",
       "    </tr>\n",
       "    <tr>\n",
       "      <th>14</th>\n",
       "      <td>0.006780</td>\n",
       "      <td>0.004431</td>\n",
       "      <td>0.001461</td>\n",
       "      <td>0.001146</td>\n",
       "      <td>0.001064</td>\n",
       "      <td>0.000572</td>\n",
       "      <td>0.000066</td>\n",
       "      <td>0.000249</td>\n",
       "    </tr>\n",
       "    <tr>\n",
       "      <th>15</th>\n",
       "      <td>0.017887</td>\n",
       "      <td>0.008114</td>\n",
       "      <td>0.003327</td>\n",
       "      <td>0.002409</td>\n",
       "      <td>0.001396</td>\n",
       "      <td>0.001197</td>\n",
       "      <td>0.000133</td>\n",
       "      <td>0.000339</td>\n",
       "    </tr>\n",
       "    <tr>\n",
       "      <th>16</th>\n",
       "      <td>0.036901</td>\n",
       "      <td>0.020377</td>\n",
       "      <td>0.005851</td>\n",
       "      <td>0.003712</td>\n",
       "      <td>0.002793</td>\n",
       "      <td>0.001899</td>\n",
       "      <td>0.000266</td>\n",
       "      <td>0.000441</td>\n",
       "    </tr>\n",
       "    <tr>\n",
       "      <th>17</th>\n",
       "      <td>0.076167</td>\n",
       "      <td>0.052985</td>\n",
       "      <td>0.016858</td>\n",
       "      <td>0.011797</td>\n",
       "      <td>0.004719</td>\n",
       "      <td>0.004285</td>\n",
       "      <td>0.000532</td>\n",
       "      <td>0.000617</td>\n",
       "    </tr>\n",
       "    <tr>\n",
       "      <th>18</th>\n",
       "      <td>NaN</td>\n",
       "      <td>NaN</td>\n",
       "      <td>0.041291</td>\n",
       "      <td>0.029157</td>\n",
       "      <td>0.009878</td>\n",
       "      <td>0.007405</td>\n",
       "      <td>0.001729</td>\n",
       "      <td>0.000572</td>\n",
       "    </tr>\n",
       "    <tr>\n",
       "      <th>19</th>\n",
       "      <td>NaN</td>\n",
       "      <td>NaN</td>\n",
       "      <td>0.090831</td>\n",
       "      <td>0.053290</td>\n",
       "      <td>0.023471</td>\n",
       "      <td>0.018048</td>\n",
       "      <td>0.002726</td>\n",
       "      <td>0.001120</td>\n",
       "    </tr>\n",
       "    <tr>\n",
       "      <th>20</th>\n",
       "      <td>NaN</td>\n",
       "      <td>NaN</td>\n",
       "      <td>NaN</td>\n",
       "      <td>NaN</td>\n",
       "      <td>0.037373</td>\n",
       "      <td>0.026837</td>\n",
       "      <td>0.004654</td>\n",
       "      <td>0.002909</td>\n",
       "    </tr>\n",
       "    <tr>\n",
       "      <th>21</th>\n",
       "      <td>NaN</td>\n",
       "      <td>NaN</td>\n",
       "      <td>NaN</td>\n",
       "      <td>NaN</td>\n",
       "      <td>0.077859</td>\n",
       "      <td>0.055951</td>\n",
       "      <td>0.007447</td>\n",
       "      <td>0.004587</td>\n",
       "    </tr>\n",
       "    <tr>\n",
       "      <th>22</th>\n",
       "      <td>NaN</td>\n",
       "      <td>NaN</td>\n",
       "      <td>NaN</td>\n",
       "      <td>NaN</td>\n",
       "      <td>NaN</td>\n",
       "      <td>NaN</td>\n",
       "      <td>0.014495</td>\n",
       "      <td>0.012653</td>\n",
       "    </tr>\n",
       "    <tr>\n",
       "      <th>23</th>\n",
       "      <td>NaN</td>\n",
       "      <td>NaN</td>\n",
       "      <td>NaN</td>\n",
       "      <td>NaN</td>\n",
       "      <td>NaN</td>\n",
       "      <td>NaN</td>\n",
       "      <td>0.044749</td>\n",
       "      <td>0.023608</td>\n",
       "    </tr>\n",
       "    <tr>\n",
       "      <th>24</th>\n",
       "      <td>NaN</td>\n",
       "      <td>NaN</td>\n",
       "      <td>NaN</td>\n",
       "      <td>NaN</td>\n",
       "      <td>NaN</td>\n",
       "      <td>NaN</td>\n",
       "      <td>0.078322</td>\n",
       "      <td>0.040900</td>\n",
       "    </tr>\n",
       "    <tr>\n",
       "      <th>25</th>\n",
       "      <td>NaN</td>\n",
       "      <td>NaN</td>\n",
       "      <td>NaN</td>\n",
       "      <td>NaN</td>\n",
       "      <td>NaN</td>\n",
       "      <td>NaN</td>\n",
       "      <td>0.152677</td>\n",
       "      <td>0.111271</td>\n",
       "    </tr>\n",
       "  </tbody>\n",
       "</table>\n",
       "</div>"
      ],
      "text/plain": [
       "                        Brute           Compiled Brute           Better Brute  \\\n",
       "                    Mean time  Std time      Mean time  Std time    Mean time   \n",
       "bit size of p and a                                                             \n",
       "8                    0.000067  0.000249            NaN       NaN          NaN   \n",
       "9                    0.000200  0.000399            NaN       NaN          NaN   \n",
       "10                   0.000382  0.000511       0.000066  0.000249          NaN   \n",
       "11                   0.000667  0.000471       0.000066  0.000249          NaN   \n",
       "12                   0.001396  0.001535       0.000333  0.000471     0.000266   \n",
       "13                   0.002793  0.002707       0.000597  0.000488     0.000399   \n",
       "14                   0.006780  0.004431       0.001461  0.001146     0.001064   \n",
       "15                   0.017887  0.008114       0.003327  0.002409     0.001396   \n",
       "16                   0.036901  0.020377       0.005851  0.003712     0.002793   \n",
       "17                   0.076167  0.052985       0.016858  0.011797     0.004719   \n",
       "18                        NaN       NaN       0.041291  0.029157     0.009878   \n",
       "19                        NaN       NaN       0.090831  0.053290     0.023471   \n",
       "20                        NaN       NaN            NaN       NaN     0.037373   \n",
       "21                        NaN       NaN            NaN       NaN     0.077859   \n",
       "22                        NaN       NaN            NaN       NaN          NaN   \n",
       "23                        NaN       NaN            NaN       NaN          NaN   \n",
       "24                        NaN       NaN            NaN       NaN          NaN   \n",
       "25                        NaN       NaN            NaN       NaN          NaN   \n",
       "\n",
       "                              Compiled Better Brute            \n",
       "                     Std time             Mean time  Std time  \n",
       "bit size of p and a                                            \n",
       "8                         NaN                   NaN       NaN  \n",
       "9                         NaN                   NaN       NaN  \n",
       "10                        NaN                   NaN       NaN  \n",
       "11                        NaN                   NaN       NaN  \n",
       "12                   0.000441                   NaN       NaN  \n",
       "13                   0.000489              0.000066  0.000249  \n",
       "14                   0.000572              0.000066  0.000249  \n",
       "15                   0.001197              0.000133  0.000339  \n",
       "16                   0.001899              0.000266  0.000441  \n",
       "17                   0.004285              0.000532  0.000617  \n",
       "18                   0.007405              0.001729  0.000572  \n",
       "19                   0.018048              0.002726  0.001120  \n",
       "20                   0.026837              0.004654  0.002909  \n",
       "21                   0.055951              0.007447  0.004587  \n",
       "22                        NaN              0.014495  0.012653  \n",
       "23                        NaN              0.044749  0.023608  \n",
       "24                        NaN              0.078322  0.040900  \n",
       "25                        NaN              0.152677  0.111271  "
      ]
     },
     "execution_count": 322,
     "metadata": {},
     "output_type": "execute_result"
    }
   ],
   "source": [
    "MT = 'Mean time'\n",
    "ST = 'Std time'\n",
    "\n",
    "df = pd.DataFrame({'0': dl_brute_times[MT], '1': dl_brute_times[ST],\n",
    "                   '2': dl_brute_fast_times[MT], '3': dl_brute_fast_times[ST],\n",
    "                   '4': dl_brute_better_times[MT], '5': dl_brute_better_times[ST],\n",
    "                   '6': dl_brute_better_fast_times[MT], '7': dl_brute_better_fast_times[ST]})\n",
    "\n",
    "columns = [('Brute', MT), ('Brute', ST),\n",
    "           ('Compiled Brute', MT), ('Compiled Brute', ST),\n",
    "           ('Better Brute', MT), ('Better Brute', ST),\n",
    "           ('Compiled Better Brute', MT), ('Compiled Better Brute', ST)]\n",
    "\n",
    "df.columns = pd.MultiIndex.from_tuples(columns)\n",
    "df.index.name = \"bit size of p and a\"\n",
    "df"
   ]
  },
  {
   "cell_type": "code",
   "execution_count": 323,
   "metadata": {},
   "outputs": [
    {
     "data": {
      "image/png": "[encoded data removed]",
      "text/plain": [
       "<Figure size 1008x576 with 1 Axes>"
      ]
     },
     "metadata": {
      "needs_background": "light"
     },
     "output_type": "display_data"
    }
   ],
   "source": [
    "# Make plot\n",
    "plt.figure(figsize=(14, 8))\n",
    "# Plot data\n",
    "plt.plot(dl_brute_times['Mean time'], label='Brute', color='Blue')\n",
    "plt.plot(dl_brute_fast_times['Mean time'],\n",
    "         label='Compiled Brute', color='orange')\n",
    "plt.plot(dl_brute_better_times['Mean time'],\n",
    "         label='Brute Better', color='green')\n",
    "plt.plot(dl_brute_better_fast_times['Mean time'],\n",
    "         label='Compiled Brute Better', color='red')\n",
    "\n",
    "# The extrapolated curves\n",
    "plt.plot(*get_prediction(dl_brute_times[MT], 12, 31), linewidth=1,\n",
    "         linestyle=\"--\", color=\"blue\",\n",
    "         label=r\"$y = (%e) e^{(%e) x}$\" % (get_prediction(dl_brute_times[MT], ab=True)))\n",
    "\n",
    "plt.plot(*get_prediction(dl_brute_fast_times[MT], 12, 31), linewidth=1,\n",
    "         linestyle=\"--\", color=\"orange\",\n",
    "         label=r\"$y = (%e) e^{(%e) x}$\" % (get_prediction(dl_brute_fast_times[MT], ab=True)))\n",
    "\n",
    "plt.plot(*get_prediction(dl_brute_better_times[MT], 12, 31), linewidth=1,\n",
    "         linestyle=\"--\", color=\"green\",\n",
    "         label=r\"$y = (%e) e^{(%e) x}$\" % (get_prediction(dl_brute_better_times[MT], ab=True)))\n",
    "\n",
    "plt.plot(*get_prediction(dl_brute_better_fast_times[MT], 12, 31), linewidth=1,\n",
    "         linestyle=\"--\", color=\"red\",\n",
    "         label=r\"$y = (%e) e^{(%e) x}$\" % (get_prediction(dl_brute_better_fast_times[MT],\n",
    "                                                                                    ab=True)))\n",
    "\n",
    "plt.ylim(0, 0.5)\n",
    "plt.legend(loc=\"upper left\", prop={\"size\": 12})\n",
    "plt.xlabel(r\"$n$ bit size of p and a\")\n",
    "plt.ylabel(r\" Mean time (seconds)\")\n",
    "plt.title(r\"Discrete Logarithm Brute Force Algorithms Time\")\n",
    "#plt.yscale('log')\n",
    "\n",
    "plt.show()"
   ]
  },
  {
   "cell_type": "markdown",
   "metadata": {},
   "source": [
    "The dashed lines are extrapolated data"
   ]
  },
  {
   "cell_type": "code",
   "execution_count": 37,
   "metadata": {},
   "outputs": [
    {
     "ename": "NameError",
     "evalue": "name 'start' is not defined",
     "output_type": "error",
     "traceback": [
      "\u001b[1;31m---------------------------------------------------------------------------\u001b[0m",
      "\u001b[1;31mNameError\u001b[0m                                 Traceback (most recent call last)",
      "\u001b[1;32m<ipython-input-37-0795d1ea7521>\u001b[0m in \u001b[0;36m<module>\u001b[1;34m\u001b[0m\n\u001b[0;32m      1\u001b[0m \u001b[1;31m# Make the plot\u001b[0m\u001b[1;33m\u001b[0m\u001b[1;33m\u001b[0m\u001b[1;33m\u001b[0m\u001b[0m\n\u001b[1;32m----> 2\u001b[1;33m plt.plot(range(start, stop), discrete_logarithm_brute_better_fast_mean_times, linewidth=3, linestyle=\"-\",\n\u001b[0m\u001b[0;32m      3\u001b[0m          color=\"blue\", label=r\"Collected data\")\n\u001b[0;32m      4\u001b[0m \u001b[0mplt\u001b[0m\u001b[1;33m.\u001b[0m\u001b[0mxlabel\u001b[0m\u001b[1;33m(\u001b[0m\u001b[1;34mr\"$n$ bit size of p and a\"\u001b[0m\u001b[1;33m)\u001b[0m\u001b[1;33m\u001b[0m\u001b[1;33m\u001b[0m\u001b[0m\n\u001b[0;32m      5\u001b[0m \u001b[0mplt\u001b[0m\u001b[1;33m.\u001b[0m\u001b[0mylabel\u001b[0m\u001b[1;33m(\u001b[0m\u001b[1;34mr\" Mean time (seconds)\"\u001b[0m\u001b[1;33m)\u001b[0m\u001b[1;33m\u001b[0m\u001b[1;33m\u001b[0m\u001b[0m\n",
      "\u001b[1;31mNameError\u001b[0m: name 'start' is not defined"
     ]
    }
   ],
   "source": [
    "# Make the plot\n",
    "plt.plot(range(start, stop), discrete_logarithm_brute_better_fast_mean_times, linewidth=3, linestyle=\"-\",\n",
    "         color=\"blue\", label=r\"Collected data\")\n",
    "plt.xlabel(r\"$n$ bit size of p and a\")\n",
    "plt.ylabel(r\" Mean time (seconds)\")\n",
    "plt.title(r\"Discrete Logarithm Brute Better Fast Time\")\n",
    "#plt.xlim(0, 2*np.pi)\n",
    "#plt.ylim(-1.1, 1.1)\n",
    "plt.legend(loc=\"upper left\")\n",
    "plt.show()"
   ]
  },
  {
   "cell_type": "code",
   "execution_count": 41,
   "metadata": {
    "deletable": false,
    "editable": false,
    "run_control": {
     "frozen": true
    }
   },
   "outputs": [
    {
     "ename": "KeyboardInterrupt",
     "evalue": "",
     "output_type": "error",
     "traceback": [
      "\u001b[1;31m---------------------------------------------------------------------------\u001b[0m",
      "\u001b[1;31mKeyboardInterrupt\u001b[0m                         Traceback (most recent call last)",
      "\u001b[1;32m<ipython-input-41-ff710eb03cad>\u001b[0m in \u001b[0;36m<module>\u001b[1;34m\u001b[0m\n\u001b[0;32m     14\u001b[0m     \u001b[0minput_parameters\u001b[0m \u001b[1;33m=\u001b[0m \u001b[0mformat_input_parameters\u001b[0m\u001b[1;33m(\u001b[0m\u001b[0mpublic_keys\u001b[0m\u001b[1;33m)\u001b[0m\u001b[1;33m\u001b[0m\u001b[1;33m\u001b[0m\u001b[0m\n\u001b[0;32m     15\u001b[0m     temp_mean, temp_std = time_func(\n\u001b[1;32m---> 16\u001b[1;33m         discrete_logarithm_brute, num_samples, input_parameters)\n\u001b[0m\u001b[0;32m     17\u001b[0m \u001b[1;33m\u001b[0m\u001b[0m\n\u001b[0;32m     18\u001b[0m     \u001b[0mstring_to_append\u001b[0m \u001b[1;33m=\u001b[0m \u001b[0mstr\u001b[0m\u001b[1;33m(\u001b[0m\u001b[0mn_bit\u001b[0m\u001b[1;33m)\u001b[0m \u001b[1;33m+\u001b[0m \u001b[1;34m\", \"\u001b[0m\u001b[1;33m\u001b[0m\u001b[1;33m\u001b[0m\u001b[0m\n",
      "\u001b[1;32m<ipython-input-30-2a57157e6038>\u001b[0m in \u001b[0;36mtime_func\u001b[1;34m(Func, num_samples, Func_parameters)\u001b[0m\n\u001b[0;32m     60\u001b[0m     \u001b[1;32mfor\u001b[0m \u001b[0mi\u001b[0m \u001b[1;32min\u001b[0m \u001b[0mrange\u001b[0m\u001b[1;33m(\u001b[0m\u001b[0mnum_samples\u001b[0m\u001b[1;33m)\u001b[0m\u001b[1;33m:\u001b[0m\u001b[1;33m\u001b[0m\u001b[1;33m\u001b[0m\u001b[0m\n\u001b[0;32m     61\u001b[0m         \u001b[0mtemp_start_time\u001b[0m \u001b[1;33m=\u001b[0m \u001b[0mtime\u001b[0m\u001b[1;33m.\u001b[0m\u001b[0mtime\u001b[0m\u001b[1;33m(\u001b[0m\u001b[1;33m)\u001b[0m\u001b[1;33m\u001b[0m\u001b[1;33m\u001b[0m\u001b[0m\n\u001b[1;32m---> 62\u001b[1;33m         \u001b[0mFunc\u001b[0m\u001b[1;33m(\u001b[0m\u001b[1;33m*\u001b[0m\u001b[0mFunc_parameters\u001b[0m\u001b[1;33m[\u001b[0m\u001b[0mi\u001b[0m\u001b[1;33m%\u001b[0m\u001b[0mloopover\u001b[0m\u001b[1;33m]\u001b[0m\u001b[1;33m)\u001b[0m\u001b[1;33m\u001b[0m\u001b[1;33m\u001b[0m\u001b[0m\n\u001b[0m\u001b[0;32m     63\u001b[0m         \u001b[0mtemp_finish_time\u001b[0m \u001b[1;33m=\u001b[0m \u001b[0mtime\u001b[0m\u001b[1;33m.\u001b[0m\u001b[0mtime\u001b[0m\u001b[1;33m(\u001b[0m\u001b[1;33m)\u001b[0m\u001b[1;33m\u001b[0m\u001b[1;33m\u001b[0m\u001b[0m\n\u001b[0;32m     64\u001b[0m         \u001b[0mtimes\u001b[0m\u001b[1;33m.\u001b[0m\u001b[0mappend\u001b[0m\u001b[1;33m(\u001b[0m\u001b[0mtemp_finish_time\u001b[0m \u001b[1;33m-\u001b[0m \u001b[0mtemp_start_time\u001b[0m\u001b[1;33m)\u001b[0m\u001b[1;33m\u001b[0m\u001b[1;33m\u001b[0m\u001b[0m\n",
      "\u001b[1;32m<ipython-input-27-f06ae70c5580>\u001b[0m in \u001b[0;36mdiscrete_logarithm_brute\u001b[1;34m(a, N, z)\u001b[0m\n\u001b[0;32m     20\u001b[0m         \u001b[1;32mif\u001b[0m \u001b[0mpow\u001b[0m\u001b[1;33m(\u001b[0m\u001b[0ma\u001b[0m\u001b[1;33m,\u001b[0m \u001b[0mb\u001b[0m\u001b[1;33m,\u001b[0m \u001b[0mN\u001b[0m\u001b[1;33m)\u001b[0m \u001b[1;33m==\u001b[0m \u001b[0mz\u001b[0m\u001b[1;33m:\u001b[0m\u001b[1;33m\u001b[0m\u001b[1;33m\u001b[0m\u001b[0m\n\u001b[0;32m     21\u001b[0m             \u001b[1;32mreturn\u001b[0m \u001b[0mb\u001b[0m\u001b[1;33m\u001b[0m\u001b[1;33m\u001b[0m\u001b[0m\n\u001b[1;32m---> 22\u001b[1;33m         \u001b[0mb\u001b[0m \u001b[1;33m+=\u001b[0m \u001b[1;36m1\u001b[0m\u001b[1;33m\u001b[0m\u001b[1;33m\u001b[0m\u001b[0m\n\u001b[0m\u001b[0;32m     23\u001b[0m \u001b[1;33m\u001b[0m\u001b[0m\n\u001b[0;32m     24\u001b[0m \u001b[1;33m\u001b[0m\u001b[0m\n",
      "\u001b[1;31mKeyboardInterrupt\u001b[0m: "
     ]
    }
   ],
   "source": [
    "# File save\n",
    "# Will be frozen so can't run when montoring\n",
    "start = 6\n",
    "stop = 70\n",
    "num_samples = 25\n",
    "\n",
    "\n",
    "file_name = \"BruteForceDiscreteLogData.csv\"\n",
    "\n",
    "\n",
    "for n_bit in range(start, stop):\n",
    "    public_keys = [gen_public_key(n_bit) for i in range(num_samples)]\n",
    "\n",
    "    input_parameters = format_input_parameters(public_keys)\n",
    "    temp_mean, temp_std = time_func(\n",
    "        discrete_logarithm_brute, num_samples, input_parameters)\n",
    "\n",
    "    string_to_append = str(n_bit) + \", \"\n",
    "    string_to_append += str(temp_mean) + \", \"\n",
    "    string_to_append += str(temp_std) + \", \"\n",
    "    string_to_append += str(num_samples) + \"\\n\"\n",
    "    brute_force_file = open(file_name, \"a\")\n",
    "    brute_force_file.write(string_to_append)\n",
    "    brute_force_file.close()"
   ]
  },
  {
   "cell_type": "markdown",
   "metadata": {},
   "source": [
    "###  Baby step/Giant step"
   ]
  },
  {
   "cell_type": "markdown",
   "metadata": {},
   "source": [
    "We are trying to solve for $x$\n",
    "> $a^x \\equiv b \\mod{N}$\n",
    "\n",
    "Let $k\\in \\mathbb{N}$, set $x = mk + n$ where $m,n \\in \\mathbb{N}$ such that\n",
    "\n",
    ">\\begin{align*}\n",
    "&a^{mk+n} \\equiv b \\mod{N}\\\\\n",
    "\\iff &a^{n} \\equiv ba^{-mk} \\mod{N}\n",
    "\\end{align*}\n",
    "\n",
    "So we are looking for $n,m \\in \\mathbb{N}$ to satisfy the equation above. We know $0 \\leq n < k$, since if $n=k$ then $m$ could be increased and $n$ reduced.\n",
    "To find this solution we evaluate\n",
    ">\\begin{align*}\n",
    "&a,a^{2},...,a^{k-1}\\mod{N}\\\\\n",
    "&ba^{-k}, ba^{-2k}, ..., ba^{-rk}\\mod{N}\n",
    "\\end{align*}\n",
    "\n",
    "until $rk>N$\n",
    "\n",
    "Stop when $rk>N$ as the order of any element $a$ has to be less than N. Then find the values that are equivalent, this gives a valid value for $m,n$. If none of them are the same then there is no solution."
   ]
  },
  {
   "cell_type": "code",
   "execution_count": null,
   "metadata": {},
   "outputs": [],
   "source": [
    "def discrete_logarithm_step(a, N, z):\n",
    "    \"\"\"Solves the discrete logarithm problem\n",
    "\n",
    "    Solves z = a^b mod(N) for b, by using the baby step, giant step method \n",
    "\n",
    "    Parameters\n",
    "    ----------\n",
    "    a : int\n",
    "    N : int\n",
    "    z : int\n",
    "\n",
    "    Returns\n",
    "    -------\n",
    "    int\n",
    "        Solves z = a^b mod(N) for b,\n",
    "        if recieved -1 then there is no solution\n",
    "    \"\"\"\n",
    "    k = np.int(np.floor(N**0.5 + 1))\n",
    "    a_to_k = np.zeros(k-1)\n",
    "    a_to_k[0] = int(a)\n",
    "    for i in range(1, k-1):\n",
    "        a_to_k[i] = pow(int(a*a_to_k[i-1]), 1, N)\n",
    "    a_inverse = modular_inverse(a, N)\n",
    "    if a_inverse == 'gcd not = 1':\n",
    "        return -1\n",
    "    r = 1\n",
    "    ba = [pow(a_inverse, k, N)]\n",
    "    while r*k <= N:\n",
    "        ba.append(pow(ba[0]*ba[r-1], 1, N))\n",
    "        r += 1\n",
    "    ba = np.array(ba)\n",
    "\n",
    "    ba = z*ba % N\n",
    "\n",
    "    # Compare elements\n",
    "    n = 0\n",
    "    m = 0\n",
    "    for val in ba:\n",
    "        if val in a_to_k:\n",
    "            n = np.where(a_to_k == val)[0][0] + 1\n",
    "            m = np.where(ba == val)[0][0] + 1\n",
    "            break\n",
    "    if (n == 0) and (m == 0):\n",
    "        return -1\n",
    "    return m*k+n\n"
   ]
  },
  {
   "cell_type": "code",
   "execution_count": null,
   "metadata": {},
   "outputs": [],
   "source": [
    "#Tests\n",
    "assert discrete_logarithm_step(3,59,19) == 17\n",
    "assert discrete_logarithm_step(2,4,3) == -1"
   ]
  },
  {
   "cell_type": "markdown",
   "metadata": {},
   "source": [
    "#### Example of Baby Step/Giant Step"
   ]
  },
  {
   "cell_type": "markdown",
   "metadata": {},
   "source": [
    "We will solve \n",
    "> $7^x \\equiv 13 \\mod{33}$\n",
    "\n",
    "Therefore, we will let $a=7$, $b=13$, $N=33$ and set $k=Ceiling(\\sqrt(N))=6$. As this is the value of $k$ in the code.\n",
    "\n",
    "First we calculate the sequence\n",
    "\n",
    ">\\begin{align*}\n",
    "&a,& &a^2,& &a^3,& &a^4,& &a^5,& \\mod{N}\\\\\n",
    "&\\underline{7},& &16,&  &13,&  &25,&  &10,& \\mod{33}\n",
    "\\end{align*}\n",
    "\n",
    "Then calculate the modular inverse,\n",
    "\n",
    ">\\begin{align*}\n",
    "aa^{-1} &\\equiv 1\\mod{N}\\\\\n",
    "77^{-1} &\\equiv 1\\mod{33}\\\\\n",
    "7^{-1} &\\equiv 19\\mod{33}\n",
    "\\end{align*}\n",
    "\n",
    "Now calculate\n",
    ">\\begin{align*}\n",
    "&ba^{-k},& &ba^{-2k},& &ba^{-3k},& &ba^{-4k},& &ba^{-5k},& &ba^{-6k},& \\mod{N}\\\\\n",
    "&13\\cdot 7^{-6},& &13\\cdot 7^{-12},& &13\\cdot 7^{-18},& &13\\cdot 7^{-24},& &13\\cdot 7^{-30},& &13\\cdot 7^{-36},& \\mod{33}\\\\\n",
    "&28,& &\\underline{7},&  &10,&  &19,&  &13,& &28&\\mod{33}\n",
    "\\end{align*}\n",
    "\n",
    "We then find the value which is in both lists, in this case there are multiple. We pick the one which gives the smallest value for $x$. In the code it observes 'ba' first and compares it to 'a_to_k' this will guarantee the smallest $x$. \n",
    "\n",
    "We have\n",
    "> $b\\cdot a^{-2\\cdot6}\\equiv 7 \\equiv a^1 \\mod{33}$\n",
    "\n",
    "Which leads to \n",
    "> $b \\equiv a^{1 + 2 \\cdot 6} \\mod{33}$\n",
    "\n",
    "So $x=13$"
   ]
  },
  {
   "cell_type": "code",
   "execution_count": null,
   "metadata": {},
   "outputs": [],
   "source": [
    "#Now check code folows example\n",
    "assert discrete_logarithm_step(7,33,13)==13"
   ]
  },
  {
   "cell_type": "markdown",
   "metadata": {},
   "source": [
    "#### Fast version"
   ]
  },
  {
   "cell_type": "code",
   "execution_count": null,
   "metadata": {},
   "outputs": [],
   "source": [
    "@numba.jit(nopython = True )\n",
    "def isin(element, the_list):\n",
    "    for selected_element in the_list:\n",
    "        if element == selected_element:\n",
    "            return True\n",
    "    return False\n",
    "\n",
    "@numba.jit('int64(int64,int64,int64)', nopython = True)\n",
    "def discrete_logarithm_step_fast(a, N, z):\n",
    "    \"\"\"Solves the discrete logarithm problem\n",
    "\n",
    "    Solves z = a^b mod(N) for b, by using the baby step, giant step method, compiled \n",
    "\n",
    "    Parameters\n",
    "    ----------\n",
    "    a : int\n",
    "    N : int\n",
    "    z : int\n",
    "\n",
    "    Returns\n",
    "    -------\n",
    "    int\n",
    "        Solves z = a^b mod(N) for b,\n",
    "        if recieved -1 then there is no solution\n",
    "    \"\"\"\n",
    "    k = np.int(np.floor(N**0.5 + 1))\n",
    "    a_to_k = np.zeros(k-1)\n",
    "    a_to_k[0] = int(a)\n",
    "    for i in range(1, k-1):\n",
    "        a_to_k[i] = my_pow(int(a*a_to_k[i-1]), 1, N)\n",
    "    a_inverse = modular_inverse_fast(a, N)\n",
    "    if a_inverse == -1: #gcd != 1\n",
    "        return -1\n",
    "    r = 1\n",
    "    ba = np.zeros(N//k + 1)\n",
    "    ba[0] = my_pow(a_inverse, k, N)\n",
    "    while r*k <= N:\n",
    "        ba[r] = (my_pow(ba[0]*ba[r-1], 1, N))\n",
    "        r += 1\n",
    "        \n",
    "    ba = z*ba % N\n",
    "\n",
    "    # Compare elements\n",
    "    n = 0\n",
    "    m = 0\n",
    "    for val in ba:\n",
    "        if isin(val, a_to_k):\n",
    "            n = np.where(a_to_k == val)[0][0] + 1\n",
    "            m = np.where(ba == val)[0][0] + 1\n",
    "            break\n",
    "    if (n == 0) and (m == 0):\n",
    "        return -1\n",
    "    return m*k+n\n"
   ]
  },
  {
   "cell_type": "code",
   "execution_count": null,
   "metadata": {},
   "outputs": [],
   "source": [
    "#Tests\n",
    "\n",
    "assert isin(2,np.array([1,4,6,2]))\n",
    "assert not isin(3,np.array([1,4,6,2]))\n",
    "\n",
    "assert discrete_logarithm_step_fast(7,33,13)==13\n",
    "assert discrete_logarithm_step_fast(3,59,19) == 17\n",
    "assert discrete_logarithm_step_fast(2,4,3) == -1"
   ]
  },
  {
   "cell_type": "code",
   "execution_count": 47,
   "metadata": {},
   "outputs": [
    {
     "data": {
      "application/javascript": [
       "$.getScript('https://kmahelona.github.io/ipython_notebook_goodies/ipython_notebook_toc.js')\n"
      ],
      "text/plain": [
       "<IPython.core.display.Javascript object>"
      ]
     },
     "metadata": {},
     "output_type": "display_data"
    }
   ],
   "source": []
  },
  {
   "cell_type": "code",
   "execution_count": null,
   "metadata": {},
   "outputs": [],
   "source": []
  }
 ],
 "metadata": {
  "kernelspec": {
   "display_name": "Python 3",
   "language": "python",
   "name": "python3"
  },
  "language_info": {
   "codemirror_mode": {
    "name": "ipython",
    "version": 3
   },
   "file_extension": ".py",
   "mimetype": "text/x-python",
   "name": "python",
   "nbconvert_exporter": "python",
   "pygments_lexer": "ipython3",
   "version": "3.7.6"
  },
  "toc": {
   "base_numbering": 1,
   "nav_menu": {
    "height": "498px",
    "width": "413px"
   },
   "number_sections": true,
   "sideBar": true,
   "skip_h1_title": false,
   "title_cell": "Table of Contents",
   "title_sidebar": "Contents",
   "toc_cell": false,
   "toc_position": {
    "height": "calc(100% - 180px)",
    "left": "10px",
    "top": "150px",
    "width": "389.198px"
   },
   "toc_section_display": true,
   "toc_window_display": false
  },
  "varInspector": {
   "cols": {
    "lenName": 16,
    "lenType": 16,
    "lenVar": 40
   },
   "kernels_config": {
    "python": {
     "delete_cmd_postfix": "",
     "delete_cmd_prefix": "del ",
     "library": "var_list.py",
     "varRefreshCmd": "print(var_dic_list())"
    },
    "r": {
     "delete_cmd_postfix": ") ",
     "delete_cmd_prefix": "rm(",
     "library": "var_list.r",
     "varRefreshCmd": "cat(var_dic_list()) "
    }
   },
   "position": {
    "height": "616.667px",
    "left": "989.333px",
    "right": "20px",
    "top": "124px",
    "width": "350px"
   },
   "types_to_exclude": [
    "module",
    "function",
    "builtin_function_or_method",
    "instance",
    "_Feature"
   ],
   "window_display": false
  }
 },
 "nbformat": 4,
 "nbformat_minor": 2
}
