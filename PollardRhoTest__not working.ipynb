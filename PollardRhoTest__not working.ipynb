{
 "cells": [
  {
   "cell_type": "markdown",
   "metadata": {},
   "source": [
    "## Core 4: Pollard Rho Method"
   ]
  },
  {
   "cell_type": "code",
   "execution_count": 1,
   "metadata": {},
   "outputs": [],
   "source": [
    "import numpy as np"
   ]
  },
  {
   "cell_type": "code",
   "execution_count": 83,
   "metadata": {},
   "outputs": [],
   "source": [
    "def gcd(a,b):\n",
    "    \"\"\"Returns the greatest common divisor of integers a and b using Euclid's algorithm.\n",
    "    The order of a and b does not matter and nor do the signs.\"\"\"\n",
    "    if not(a%1 ==0 and b%1==0):\n",
    "        return \"Need to use integers for gcd.\"\n",
    "    if b==0:\n",
    "        return abs(a)                           #Use abs to ensure this is positive\n",
    "    else:\n",
    "        return gcd(b,a%b)\n"
   ]
  },
  {
   "cell_type": "code",
   "execution_count": 82,
   "metadata": {},
   "outputs": [
    {
     "data": {
      "text/plain": [
       "609071"
      ]
     },
     "execution_count": 82,
     "metadata": {},
     "output_type": "execute_result"
    }
   ],
   "source": [
    "\n",
    "def pollard_rho99(n):\n",
    "    x = 2\n",
    "    y = 2\n",
    "    d = 1\n",
    "\n",
    "    while d == 1:\n",
    "        x = g(x)%n\n",
    "        y = g(g(y))%n\n",
    "        d = gcd(np.abs(x - y), n)\n",
    "    \n",
    "    if d == n: \n",
    "        return failure\n",
    "    else:\n",
    "        return d\n",
    "    \n",
    "pollard_rho99(396421778273)\n"
   ]
  }
 ],
 "metadata": {
  "kernelspec": {
   "display_name": "Python 3",
   "language": "python",
   "name": "python3"
  },
  "language_info": {
   "codemirror_mode": {
    "name": "ipython",
    "version": 3
   },
   "file_extension": ".py",
   "mimetype": "text/x-python",
   "name": "python",
   "nbconvert_exporter": "python",
   "pygments_lexer": "ipython3",
   "version": "3.7.4"
  }
 },
 "nbformat": 4,
 "nbformat_minor": 2
}
