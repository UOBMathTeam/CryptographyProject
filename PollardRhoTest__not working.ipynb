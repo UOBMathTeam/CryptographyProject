{
 "cells": [
  {
   "cell_type": "markdown",
   "metadata": {},
   "source": [
    "## Core 4: Pollard Rho Method"
   ]
  },
  {
   "cell_type": "code",
   "execution_count": 1,
   "metadata": {},
   "outputs": [],
   "source": [
    "import numpy as np\n",
    "import numba\n",
    "import time"
   ]
  },
  {
   "cell_type": "code",
   "execution_count": 2,
   "metadata": {},
   "outputs": [],
   "source": [
    "def gcd(a,b):\n",
    "    \"\"\"Returns the greatest common divisor of integers a and b using Euclid's algorithm.\n",
    "    The order of a and b does not matter and nor do the signs.\"\"\"\n",
    "    if not(a%1 ==0 and b%1==0):\n",
    "        return \"Need to use integers for gcd.\"\n",
    "    if b==0:\n",
    "        return abs(a)                           #Use abs to ensure this is positive\n",
    "    else:\n",
    "        return gcd(b,a%b)\n",
    "\n",
    "def g(a):\n",
    "    return (a**2 + 1)"
   ]
  },
  {
   "cell_type": "code",
   "execution_count": 3,
   "metadata": {},
   "outputs": [
    {
     "data": {
      "text/plain": [
       "609071"
      ]
     },
     "execution_count": 3,
     "metadata": {},
     "output_type": "execute_result"
    }
   ],
   "source": [
    "\n",
    "def pollard_rho99(n):\n",
    "    x = 2\n",
    "    y = 2\n",
    "    d = 1\n",
    "\n",
    "    while d == 1:\n",
    "        x = g(x)%n\n",
    "        y = g(g(y))%n\n",
    "        d = gcd(np.abs(x - y), n)\n",
    "    \n",
    "    if d == n: \n",
    "        return failure\n",
    "    else:\n",
    "        return d\n",
    "    \n",
    "pollard_rho99(396421778273)\n",
    "\n",
    "\n",
    "\n"
   ]
  },
  {
   "cell_type": "markdown",
   "metadata": {},
   "source": [
    "## Faster Version"
   ]
  },
  {
   "cell_type": "code",
   "execution_count": 4,
   "metadata": {},
   "outputs": [],
   "source": [
    "@numba.jit('int64(int64)', nopython = True, cache = True)\n",
    "def g_fast(a):\n",
    "    return (a**2 + 1)\n",
    "\n",
    "\n",
    "@numba.jit('int64(int64,int64)', nopython=True, cache = True)\n",
    "def gcd_fast(a, b):\n",
    "    \"\"\"Returns the greatest common divisor of integers a and b using Euclid's algorithm.\n",
    "    The order of a and b does not matter and nor do the signs.\"\"\"\n",
    "    if not(a % 1 == 0 and b % 1 == 0):\n",
    "        return -1\n",
    "    if b == 0:\n",
    "        return abs(a)  # Use abs to ensure this is positive\n",
    "    else:\n",
    "        return gcd_fast(b, a % b)\n",
    "\n",
    "@numba.jit('int64(int64)', nopython=True, cache = True)\n",
    "def pollard_rho99_fast(n):\n",
    "    x = 2\n",
    "    y = 2\n",
    "    d = 1\n",
    "        \n",
    "    while d == 1:\n",
    "        x = g_fast(x) % n\n",
    "        y = g_fast(g_fast(y)) % n\n",
    "        d = gcd_fast(np.abs(x - y), n)\n",
    "\n",
    "    if d == n:\n",
    "        return -1\n",
    "    else:\n",
    "        return d\n",
    "    \n",
    "    \n",
    "@numba.vectorize('int64(int64)', nopython = True, target = 'parallel', cache = True)\n",
    "def pollard_rho99_fast_ufunc(n):\n",
    "    return pollard_rho99_fast(n)\n",
    "    "
   ]
  },
  {
   "cell_type": "code",
   "execution_count": 5,
   "metadata": {},
   "outputs": [
    {
     "data": {
      "text/plain": [
       "609071"
      ]
     },
     "execution_count": 5,
     "metadata": {},
     "output_type": "execute_result"
    }
   ],
   "source": [
    "pollard_rho99_fast(396421778273)"
   ]
  },
  {
   "cell_type": "markdown",
   "metadata": {},
   "source": [
    "## Compare"
   ]
  },
  {
   "cell_type": "code",
   "execution_count": 6,
   "metadata": {},
   "outputs": [
    {
     "name": "stdout",
     "output_type": "stream",
     "text": [
      "135 µs ± 2.09 µs per loop (mean ± std. dev. of 7 runs, 10000 loops each)\n",
      "4.36 µs ± 57.7 ns per loop (mean ± std. dev. of 7 runs, 100000 loops each)\n",
      "2.81 µs ± 2.89 ns per loop (mean ± std. dev. of 7 runs, 100000 loops each)\n"
     ]
    }
   ],
   "source": [
    "a = np.random.randint(low = 10, high = 40000000, size =10, dtype = 'int64')\n",
    "%timeit [pollard_rho99(i) for i in a]\n",
    "%timeit [pollard_rho99_fast(i) for i in a]\n",
    "%timeit pollard_rho99_fast_ufunc(a)"
   ]
  },
  {
   "cell_type": "code",
   "execution_count": 7,
   "metadata": {},
   "outputs": [
    {
     "name": "stdout",
     "output_type": "stream",
     "text": [
      "16.4 ms ± 47.3 µs per loop (mean ± std. dev. of 7 runs, 100 loops each)\n",
      "57.9 ms ± 260 µs per loop (mean ± std. dev. of 7 runs, 10 loops each)\n",
      "59.1 ms ± 851 µs per loop (mean ± std. dev. of 7 runs, 10 loops each)\n"
     ]
    }
   ],
   "source": [
    "pollard_rho99_fast(396421778273)\n",
    "\n",
    "%timeit pollard_rho99(396421778273)\n",
    "%timeit pollard_rho99_fast(396421778273)\n",
    "%timeit pollard_rho99_fast_ufunc(396421778273)"
   ]
  },
  {
   "cell_type": "markdown",
   "metadata": {},
   "source": [
    "So it runs faster when doing big lot of calculations"
   ]
  },
  {
   "cell_type": "code",
   "execution_count": null,
   "metadata": {},
   "outputs": [],
   "source": []
  }
 ],
 "metadata": {
  "kernelspec": {
   "display_name": "Python 3",
   "language": "python",
   "name": "python3"
  },
  "language_info": {
   "codemirror_mode": {
    "name": "ipython",
    "version": 3
   },
   "file_extension": ".py",
   "mimetype": "text/x-python",
   "name": "python",
   "nbconvert_exporter": "python",
   "pygments_lexer": "ipython3",
   "version": "3.7.6"
  },
  "toc": {
   "base_numbering": 1,
   "nav_menu": {},
   "number_sections": true,
   "sideBar": true,
   "skip_h1_title": false,
   "title_cell": "Table of Contents",
   "title_sidebar": "Contents",
   "toc_cell": false,
   "toc_position": {},
   "toc_section_display": true,
   "toc_window_display": false
  },
  "varInspector": {
   "cols": {
    "lenName": 16,
    "lenType": 16,
    "lenVar": 40
   },
   "kernels_config": {
    "python": {
     "delete_cmd_postfix": "",
     "delete_cmd_prefix": "del ",
     "library": "var_list.py",
     "varRefreshCmd": "print(var_dic_list())"
    },
    "r": {
     "delete_cmd_postfix": ") ",
     "delete_cmd_prefix": "rm(",
     "library": "var_list.r",
     "varRefreshCmd": "cat(var_dic_list()) "
    }
   },
   "types_to_exclude": [
    "module",
    "function",
    "builtin_function_or_method",
    "instance",
    "_Feature"
   ],
   "window_display": false
  }
 },
 "nbformat": 4,
 "nbformat_minor": 2
}
