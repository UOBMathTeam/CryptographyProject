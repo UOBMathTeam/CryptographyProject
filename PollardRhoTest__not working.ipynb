{
 "cells": [
  {
   "cell_type": "markdown",
   "metadata": {},
   "source": [
    "## Core 4: Pollard Rho Method"
   ]
  },
  {
   "cell_type": "code",
   "execution_count": 1,
   "metadata": {},
   "outputs": [],
   "source": [
    "import numpy as np"
   ]
  },
  {
   "cell_type": "code",
   "execution_count": 2,
   "metadata": {},
   "outputs": [
    {
     "data": {
      "text/plain": [
       "array([], dtype=float64)"
      ]
     },
     "execution_count": 2,
     "metadata": {},
     "output_type": "execute_result"
    }
   ],
   "source": [
    "def gcd(a,b):\n",
    "    \"\"\"Returns the greatest common divisor of integers a and b using Euclid's algorithm.\n",
    "    The order of a and b does not matter and nor do the signs.\"\"\"\n",
    "    if not(a%1 ==0 and b%1==0):\n",
    "        return \"Need to use integers for gcd.\"\n",
    "    if b==0:\n",
    "        return abs(a)                           #Use abs to ensure this is positive\n",
    "    else:\n",
    "        return gcd(b,a%b)\n",
    "\n",
    "def pollard_rho1(n):\n",
    "    s = []\n",
    "    m_i = np.random.randint(0, n-1)\n",
    "    m_i1 = m_i\n",
    "    k = 10*(n**0.25)\n",
    "    i = 1\n",
    "    while i <= k:\n",
    "        m_i = np.random.randint(0, n-1)\n",
    "        d = gcd(np.abs(m_i - m_i1), n)\n",
    "        if d != 1 and d != n:\n",
    "            if d not in s:\n",
    "                s.append(d)\n",
    "        m_i1 =m_i\n",
    "        i += 1\n",
    "    p = np.sort(s)\n",
    "    return p\n",
    "\n",
    "pollard_rho1(906861684383)"
   ]
  },
  {
   "cell_type": "code",
   "execution_count": null,
   "metadata": {},
   "outputs": [],
   "source": []
  }
 ],
 "metadata": {
  "kernelspec": {
   "display_name": "Python 3",
   "language": "python",
   "name": "python3"
  },
  "language_info": {
   "codemirror_mode": {
    "name": "ipython",
    "version": 3
   },
   "file_extension": ".py",
   "mimetype": "text/x-python",
   "name": "python",
   "nbconvert_exporter": "python",
   "pygments_lexer": "ipython3",
   "version": "3.7.4"
  }
 },
 "nbformat": 4,
 "nbformat_minor": 2
}
