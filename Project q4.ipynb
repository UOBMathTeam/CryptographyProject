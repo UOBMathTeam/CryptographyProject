{
 "cells": [
  {
   "cell_type": "code",
   "execution_count": 177,
   "metadata": {},
   "outputs": [],
   "source": [
    "import numpy as np\n",
    "import random as ran\n",
    "import matplotlib.pyplot as plt\n",
    "from random import SystemRandom, randint\n",
    "from miller_rabin import is_prime\n",
    "from time import process_time   "
   ]
  },
  {
   "cell_type": "markdown",
   "metadata": {},
   "source": [
    "## Core 2: Decompose Function"
   ]
  },
  {
   "cell_type": "code",
   "execution_count": 178,
   "metadata": {},
   "outputs": [],
   "source": [
    "def decompose(n):\n",
    "    \"\"\"Generates a dictionary representing the prime decomposition.\"\"\"\n",
    "    factors={}\n",
    "    current_number=n                            #divide current_number by the factors found until it reaches 1\n",
    "    while current_number > 1:\n",
    "        p=smallest_factor(current_number)\n",
    "        if p in factors.keys():                 #if p is not a new factor, increase the power\n",
    "            factors[p]+=1\n",
    "        else:\n",
    "            factors[p]=1                        #if p is a new factor, create a new entry\n",
    "        current_number = current_number//p\n",
    "    return factors\n",
    "\n",
    "def smallest_factor(n):\n",
    "    \"\"\"Returns the smallest factor of a positive integer n.\"\"\"\n",
    "    sqrt=n**0.5\n",
    "    i=2\n",
    "    while i<=sqrt:\n",
    "        if n%i==0:\n",
    "            return i                            #If we get here, return i as the value.\n",
    "        i+=1\n",
    "    return n   \n",
    "\n",
    "\n",
    "\n",
    "def random_prime(n_bit, t, trails = 500):\n",
    "    '''Returns a uniform n-bit prime, with probability at most 2^(-t) getting a composite,\n",
    "    the higher the trails the less chance of failing to generate a prime but takes longer'''\n",
    "    for i in range(0, trails):\n",
    "        p = np.random.randint(0,2,n_bit-2)\n",
    "        b = \"\".join(str(i) for i in p)\n",
    "        my_int = int(\"1\" + b + \"1\", 2) #Want at least n bit and gives odd        \n",
    "        if is_prime_miller_rabin(my_int, t):\n",
    "            return my_int\n",
    "    return \"Fail\"\n",
    "\n",
    "def is_prime_miller_rabin(N,t = 40):\n",
    "    '''If N is prime, test always outputs True(prime)\n",
    "    If N is composite outputs False(not prime) except with probability at most 2^(-t)'''\n",
    "    \n",
    "    if N == 2:\n",
    "        return True # Prime\n",
    "    \n",
    "    if N == 3:\n",
    "        return True # Prime\n",
    "    \n",
    "    if N % 2 == 0:\n",
    "        return False # Comp\n",
    "    \n",
    "    if N < 2:\n",
    "        return False # Comp\n",
    "    \n",
    "    d, s = calc_d_s(N)\n",
    "    for j in range(0,t):\n",
    "        a = ran.randrange(2,N-1)\n",
    "        if is_composite(N, d, s, a):\n",
    "            return False #Comp\n",
    "    return True #Prime\n",
    "\n",
    "def calc_d_s(N):\n",
    "    s = 0\n",
    "    Num = N - 1\n",
    "    while Num%2 == 0:\n",
    "        Num //= 2\n",
    "        s += 1\n",
    "    d = Num\n",
    "    return int(d), int(s)\n",
    "\n",
    "def is_composite(N, d, s, a):\n",
    "    '''Evaulate a^d != +-1 mod(N), and, a^(d*2^r) != -1 mod(N) for r in {1,2,...,s-1},\n",
    "    However, if output False does not mean prime, it could be a strong liar'''\n",
    "    remain = pow(a, d, N)\n",
    "    if (remain != 1) and (remain != N - 1):\n",
    "        for r in range(1,s):\n",
    "            remain = pow(remain, 2, N)\n",
    "            if remain != N-1:\n",
    "                pass\n",
    "            else:\n",
    "                return False    \n",
    "    else:\n",
    "        return False\n",
    "    \n",
    "    return True"
   ]
  },
  {
   "cell_type": "code",
   "execution_count": 179,
   "metadata": {},
   "outputs": [
    {
     "data": {
      "text/plain": [
       "array([[ 35,  49,  25,  49,  25,  49,  35,  35,  49,  35,  35],\n",
       "       [143, 169, 169, 143, 169, 169, 143, 143, 121, 121, 143],\n",
       "       [899, 527, 841, 437, 667, 289, 713, 713, 437, 667, 437]])"
      ]
     },
     "execution_count": 179,
     "metadata": {},
     "output_type": "execute_result"
    }
   ],
   "source": [
    "def generate_N(k,n,verbose = False):\n",
    "    '''\n",
    "    Takes k and n as inputs where k is how many bits the random primes, p and q are. The input n is how many N = p*q \n",
    "    we generate. This function returns an n-sized list of N's (p*q's).\n",
    "    We have verbose as an input for our tests below to check that indeed N = p*q.\n",
    "    '''\n",
    "    \n",
    "    alist = ([])\n",
    "    for i in range(2*n):\n",
    "        alist.append(random_prime(k, 40))\n",
    "    x = np.array_split(alist,n)\n",
    "    blist = ([])\n",
    "    for j in range(n):\n",
    "        blist.append(np.product(x[j]))\n",
    "    if verbose == True:\n",
    "        return blist,x\n",
    "    else:\n",
    "        return blist\n",
    "     \n",
    "    \n",
    "\n",
    "def generate_sampleN(a,b,c,verbose = False):\n",
    "    '''\n",
    "    Takes a,b,c as inputs where a is the smallest a bit p and q random primes we generate to produce N=p*q and b is \n",
    "    the largest b bit pand q random primes we generate to produce N=p*q. The input c tells the function how many N's\n",
    "    to produce for each bit size. \n",
    "    This function returns a b - a + 1 dimensional array of N's for each bit size between a and b.\n",
    "    '''\n",
    "    if b >= a:\n",
    "        bignumbers = []\n",
    "        for p in range(a,b+1):\n",
    "            bignumbers.append(generate_N(p,c))\n",
    "        return np.array(bignumbers)\n",
    "    else:\n",
    "        return 'Error: Second input must be greater than the first input.'\n",
    "        \n",
    "generate_sampleN(3,5,11)"
   ]
  },
  {
   "cell_type": "code",
   "execution_count": 180,
   "metadata": {},
   "outputs": [],
   "source": [
    "#Tests\n",
    "assert len(generate_N(5,1)) == 1             #Checking the final input gives the number of N's generated\n",
    "assert len(generate_N(31,5)) == 5\n",
    "\n",
    "a = (generate_N(5,1,True))                   #Checking N = p*q\n",
    "assert np.product(a[1]) == a[0]\n",
    "b = (generate_N(7,5,True))\n",
    "for i in range(5):\n",
    "    assert np.product(b[1][i]) == b[0][i]\n",
    "    \n",
    "assert len(generate_sampleN(2,5,6)) == 5-2+1     #Checking this function generates a b-a+1 dimensional array of N's for each bit size between a and b\n",
    "assert len(generate_sampleN(3,9,11)[5]) == 11    #Checking each sample of N's generated for each bit size betwen a and b has length c\n",
    "for j in range(8-4+1):\n",
    "    assert len(generate_sampleN(4,8,13)[j]) == 13  \n",
    "    \n",
    "assert generate_sampleN(3,2,5) == 'Error: Second input must be greater than the first input.' #Checking error message\n",
    "\n"
   ]
  },
  {
   "cell_type": "code",
   "execution_count": 181,
   "metadata": {},
   "outputs": [
    {
     "name": "stdout",
     "output_type": "stream",
     "text": [
      "bit_size of p and q   Average decompose(N) time\n",
      "===================   =========================\n",
      "10                    0.0015140000000002374\n",
      "11                    0.0024084999999995915\n",
      "12                    0.006017499999999565\n",
      "13                    0.011141499999999915\n",
      "14                    0.021158999999999928\n",
      "15                    0.04024349999999988 \n",
      "16                    0.07781899999999986 \n",
      "17                    0.13671199999999928 \n",
      "18                    0.2943815000000001  \n",
      "19                    0.5659890000000001  \n",
      "20                    1.1506845000000006  \n",
      "21                    2.5225515000000005  \n",
      "22                    4.9335415000000005  \n",
      "23                    10.068831999999997  \n",
      "24                    22.046824499999996  \n",
      "25                    40.763031999999995  \n",
      "26                    92.8594935          \n",
      "27                    183.625892          \n"
     ]
    }
   ],
   "source": [
    "'''\n",
    "I have chosen to generate a sample of N's where p and q are between 10 and 27 bit random primes because otherwise if\n",
    "they were longer, it would take a very long time for the average decompose time to run. I have also chosen a sample \n",
    "size of 4 for each N so I am able to find an average from a decently sized sample as well as so the average decompose \n",
    "time doesn't take too long to run.\n",
    "'''\n",
    "\n",
    "a = 10\n",
    "b = 27\n",
    "c = 4\n",
    "samples = generate_sampleN(a,b,c)\n",
    "sample_size = len(samples[1])\n",
    "\n",
    "\n",
    "start = []\n",
    "end = []\n",
    "total_time = []\n",
    "average_time = []\n",
    "for i in range(b-a+1):\n",
    "    start.append(process_time())           \n",
    "    for n in samples[i]:\n",
    "        decompose(n)\n",
    "    end.append(process_time())  \n",
    "\n",
    "for j in range(b-a+1):\n",
    "    total_time.append(end[j] - start[j])\n",
    "for k in range(b-a+1):\n",
    "    average_time.append(total_time[k] / sample_size)\n",
    "\n",
    "print(\"bit_size of p and q   Average decompose(N) time\")\n",
    "print(\"===================   =========================\")\n",
    "for n in range(b-a+1):\n",
    "    average_time1 = str(average_time[n])\n",
    "    y = n+a\n",
    "    print(\"{:7s}               {:20s}\".format(str(y),average_time1))"
   ]
  },
  {
   "cell_type": "code",
   "execution_count": 182,
   "metadata": {},
   "outputs": [
    {
     "data": {
      "image/png": "[encoded data removed]",
      "text/plain": [
       "<Figure size 432x288 with 1 Axes>"
      ]
     },
     "metadata": {
      "needs_background": "light"
     },
     "output_type": "display_data"
    }
   ],
   "source": [
    "x = range(a,b+1)\n",
    "plt.plot(x, average_time)\n",
    "plt.xlabel('$n$, where $p$ and $q$ are $n$ bit primes')\n",
    "plt.ylabel('Average Decompose Time (seconds)')\n",
    "plt.title('Average Decompose Computation Time')\n",
    "plt.show()"
   ]
  },
  {
   "cell_type": "code",
   "execution_count": null,
   "metadata": {},
   "outputs": [],
   "source": [
    "dlist = []\n",
    "for i in range(b-a-1):\n",
    "    ratio = average_time[i+1]/average_time[i]\n",
    "    dlist.append(ratio)\n",
    "ratio_mean = np.mean(dlist)\n",
    "ratio_std = np.std(dlist)\n",
    "\n",
    "print('Ratio Mean = {}'.format(ratio_mean))\n",
    "print('Ratio Standard Deviation = {}'.format(ratio_std))"
   ]
  },
  {
   "cell_type": "markdown",
   "metadata": {},
   "source": [
    "### Estimating the Average Decompose Time\n",
    "\n",
    "Since the standard deviation for the ratio between the average decompose running time for $N$=$pq$ where $p$ and $q$ are $n$ bit random prime and for when $p$ and $q$ are $n-1$ bit random primes is quite small, it shows that this ratio roughly stays constant.\n",
    "Therefore, we can assume that for one bit we add onto each $p$ and $q$, the average decompose running time for $N=pq$ approximately doubles. In essence, the ratio increases logarithmically, as the graph above would suggest.\n",
    "\n",
    "In terms of the Big O notation, the decompose function is $O(2^n)$, since it has the shape of the graph $y = 2^x$. \n",
    "In order to estimate the average decompose time for larger values of $N$, we will plot a graph of shape $y = 2^x$, but where at $x = 10$, $y$ is the average decompose time for this number of bits.\n"
   ]
  },
  {
   "cell_type": "code",
   "execution_count": 38,
   "metadata": {},
   "outputs": [
    {
     "name": "stdout",
     "output_type": "stream",
     "text": [
      "bit_size of p and q   Estimated Average decompose(N) time\n",
      "===================   ===================================\n",
      "10                    0.0012190000000000811\n",
      "11                    0.0024380000000001623\n",
      "12                    0.0048760000000003245\n",
      "13                    0.009752000000000649\n",
      "14                    0.019504000000001298\n",
      "15                    0.039008000000002596\n",
      "16                    0.07801600000000519 \n",
      "17                    0.15603200000001038 \n",
      "18                    0.31206400000002077 \n",
      "19                    0.6241280000000415  \n",
      "20                    1.248256000000083   \n",
      "21                    2.496512000000166   \n",
      "22                    4.993024000000332   \n",
      "23                    9.986048000000665   \n",
      "24                    19.97209600000133   \n",
      "25                    39.94419200000266   \n",
      "26                    79.88838400000532   \n",
      "27                    159.77676800001063  \n",
      "28                    319.55353600002127  \n",
      "29                    639.1070720000425   \n",
      "30                    1278.214144000085   \n",
      "31                    2556.42828800017    \n",
      "32                    5112.85657600034    \n",
      "33                    10225.71315200068   \n",
      "34                    20451.42630400136   \n",
      "35                    40902.85260800272   \n",
      "36                    81805.70521600544   \n",
      "37                    163611.4104320109   \n",
      "38                    327222.8208640218   \n",
      "39                    654445.6417280436   \n",
      "40                    1308891.283456087   \n",
      "41                    2617782.566912174   \n",
      "42                    5235565.133824348   \n",
      "43                    10471130.267648697  \n",
      "44                    20942260.535297394  \n",
      "45                    41884521.07059479   \n",
      "46                    83769042.14118958   \n",
      "47                    167538084.28237915  \n",
      "48                    335076168.5647583   \n",
      "49                    670152337.1295166   \n"
     ]
    }
   ],
   "source": [
    "p = np.arange(10,50,0.01)\n",
    "c = average_time[0]\n",
    "flist = []\n",
    "for n in np.arange(0,40,0.01):\n",
    "    flist.append(c*(2**n))\n",
    "    \n",
    "\n",
    "print(\"bit_size of p and q   Estimated Average decompose(N) time\")\n",
    "print(\"===================   ===================================\")\n",
    "for n in range(40):\n",
    "    average_time2 = str(flist[100*n])\n",
    "    y = n+a\n",
    "    print(\"{:7s}               {:20s}\".format(str(y),average_time2))"
   ]
  },
  {
   "cell_type": "code",
   "execution_count": 184,
   "metadata": {},
   "outputs": [
    {
     "data": {
      "image/png": "[encoded data removed]",
      "text/plain": [
       "<Figure size 432x288 with 1 Axes>"
      ]
     },
     "metadata": {
      "needs_background": "light"
     },
     "output_type": "display_data"
    }
   ],
   "source": [
    "plt.plot(p,flist)\n",
    "plt.xlabel('$n$, where $p$ and $q$ are $n$ bit primes')\n",
    "plt.ylabel('Average Decompose Time of $N = pq$ (seconds)')\n",
    "plt.title('Estimated Average Decompose Computation Time')\n",
    "plt.show()"
   ]
  }
 ],
 "metadata": {
  "kernelspec": {
   "display_name": "Python 3",
   "language": "python",
   "name": "python3"
  },
  "language_info": {
   "codemirror_mode": {
    "name": "ipython",
    "version": 3
   },
   "file_extension": ".py",
   "mimetype": "text/x-python",
   "name": "python",
   "nbconvert_exporter": "python",
   "pygments_lexer": "ipython3",
   "version": "3.7.4"
  }
 },
 "nbformat": 4,
 "nbformat_minor": 2
}
