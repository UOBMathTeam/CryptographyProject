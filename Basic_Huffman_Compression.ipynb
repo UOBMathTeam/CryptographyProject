{
 "cells": [
  {
   "cell_type": "markdown",
   "metadata": {},
   "source": [
    "# Basic Huffman Compression"
   ]
  },
  {
   "cell_type": "code",
   "execution_count": 1,
   "metadata": {},
   "outputs": [],
   "source": [
    "import os"
   ]
  },
  {
   "cell_type": "markdown",
   "metadata": {},
   "source": [
    "When computers save text documents, they usually use ASCII or utf8. Storing the characters as bytes, so there are $256$ possible characters to choose from. The aim is to make the passage of text take less bits to store, we can do this by using a method called Huffman Compression. This is also a form of symmetric encryption as it requires a key to encrypt and decrypt, the key in this case is the binary tree.\n",
    "\n",
    "This method of compression is lossless and only works on text. There can be no lossy compression methods for texts as that would remove words from the text. The code below was codded using Test Driven Development and uses the python test framework 'unittest'. Additionally, this was designed to use a minimum amount of imported modules therefore it could be used with the base version of Python. "
   ]
  },
  {
   "cell_type": "markdown",
   "metadata": {},
   "source": [
    "### How it works"
   ]
  },
  {
   "cell_type": "markdown",
   "metadata": {},
   "source": [
    "When compressing we need to create a Huffman binary tree, which will be like an encryption and decryption key. The tree is created like so\n",
    "\n",
    "<ol>\n",
    "    <li> Count up how many times each character occurs (find the letter frequency). </li>\n",
    "    <li> Order from highest count to lowest.</li>\n",
    "    <li> Take the two least common characters, add their frequencies together. This forms a branch.  </li>\n",
    "    <li> Insert the branch into the list, inserted so the list is still in order. </li>\n",
    "    <li> Keep taking two least common elements until one is left.</li>\n",
    "</ol>\n",
    "We now have our Huffman Binary Tree.😊\n",
    "\n",
    "When uncompressing a compressed file we need the binary tree, we treat the compressed file's bits like reading morse code. But in morse code there is a brief wait between each of the characters allowing all the nodes in the binary tree to be used. However, since characters can't pause in computer systems, only the end nodes of the tree can be used to store characters. Each binary digit will tell us to go left or right on the tree.\n",
    "\n",
    "Below is the Huffman Compression code."
   ]
  },
  {
   "cell_type": "code",
   "execution_count": 2,
   "metadata": {},
   "outputs": [],
   "source": [
    "from tkinter.filedialog import askopenfilename\n",
    "\n",
    "\n",
    "def binary_splitter(string, number):\n",
    "    string += \"0\" * (len(string) % number)\n",
    "    split_string = []\n",
    "    for i in range(0, len(string), number):\n",
    "        temp_add = string[i:i + number]\n",
    "        temp_add = int(temp_add, 2)\n",
    "        split_string.append(temp_add)\n",
    "    return split_string\n",
    "\n",
    "\n",
    "def get_binary_string(byte_array):\n",
    "    binary_string = \"\"\n",
    "    for byte in byte_array:\n",
    "        temp_array = list(bin(byte))\n",
    "        del temp_array[0:2]\n",
    "        temp_array.insert(0, '0' * (8 - len(temp_array)))\n",
    "        binary_string += ''.join(temp_array)\n",
    "    return binary_string\n",
    "\n",
    "\n",
    "class Huffman:\n",
    "    def __init__(self, uncompressed_file=\"myFile.txt\", compressed_file=\"Byte_File\",\n",
    "                 binary_tree_file=\"binary_tree.txt\", file_browser=True):\n",
    "        self.uncompressed_file = uncompressed_file\n",
    "        self.compressed_file = compressed_file\n",
    "        self.chars = []\n",
    "        self.all_letters = []\n",
    "        self.numbers = []\n",
    "        self.binary_tree = []\n",
    "        self.binary_string = []\n",
    "        self.binary_tree_location = binary_tree_file\n",
    "        self.lookup_table = []\n",
    "        self.file_browser = file_browser\n",
    "\n",
    "    def add_letter(self, letter):\n",
    "        self.all_letters.append(letter)\n",
    "        if self.chars.count(letter) == 1:\n",
    "            index_of_element = self.chars.index(letter)\n",
    "            self.numbers[index_of_element] += 1\n",
    "        else:\n",
    "            self.chars.append(letter)\n",
    "            self.numbers.append(1)\n",
    "\n",
    "    def bubble_sort(self):\n",
    "        swapped = True\n",
    "        while swapped:\n",
    "            swapped = False\n",
    "            for i in range(0, len(self.numbers) - 1):\n",
    "                if self.numbers[i] > self.numbers[i + 1]:\n",
    "                    temp_number = self.numbers[i]\n",
    "                    temp_char = self.chars[i]\n",
    "                    self.numbers[i] = self.numbers[i + 1]\n",
    "                    self.chars[i] = self.chars[i + 1]\n",
    "                    self.numbers[i + 1] = temp_number\n",
    "                    self.chars[i + 1] = temp_char\n",
    "                    swapped = True\n",
    "\n",
    "    def read_uncompressed_file(self):\n",
    "        file = open(self.uncompressed_file, \"r\", encoding='utf8')\n",
    "        for elements in file.read():\n",
    "            self.add_letter(elements)\n",
    "        file.close()\n",
    "\n",
    "    def make_tree(self):\n",
    "        temp_chars = self.chars[:]  # So it passes by value(Makes copy), and not by reference\n",
    "        temp_num = self.numbers[:]\n",
    "        while len(self.chars) > 2:\n",
    "            total_number = self.numbers[0] + self.numbers[1]\n",
    "            add_section = [self.chars[0], self.chars[1]]\n",
    "            del self.chars[0:2]\n",
    "            del self.numbers[0:2]\n",
    "            self.chars.insert(0, add_section)\n",
    "            self.numbers.insert(0, total_number)\n",
    "            self.bubble_sort()\n",
    "\n",
    "        self.binary_tree = self.chars\n",
    "        self.chars = temp_chars\n",
    "        self.numbers = temp_num\n",
    "\n",
    "    def write_compressed_file(self):\n",
    "        file = open(self.compressed_file, 'wb')\n",
    "\n",
    "        byte_array = binary_splitter(self.binary_string, 8)\n",
    "        file.write(bytes(byte_array))\n",
    "        file.close()\n",
    "        self.binary_string = \"\"\n",
    "\n",
    "    def read_compressed_file(self):\n",
    "        self.binary_string = []\n",
    "        file = open(self.compressed_file, 'rb')\n",
    "        byte_array = file.read()\n",
    "        self.binary_string = get_binary_string(byte_array)\n",
    "        file.close()\n",
    "\n",
    "    def save_binary_tree(self):\n",
    "        file = open(self.binary_tree_location, \"w\", encoding='utf8')\n",
    "        file.write(str(self.binary_tree))\n",
    "        file.close()\n",
    "\n",
    "    def read_binary_tree(self):\n",
    "        file = open(self.binary_tree_location, \"r\", encoding='utf8')\n",
    "        self.binary_tree = eval(file.read())\n",
    "        file.close()\n",
    "\n",
    "    def write_uncompressed_file(self):\n",
    "        file = open(self.uncompressed_file, \"w\", encoding='utf8')\n",
    "        for element in self.all_letters:\n",
    "            file.write(element)\n",
    "        file.close()\n",
    "\n",
    "    def create_binary_store_string(self):\n",
    "        self.lookup_table = []\n",
    "        self.find_children(\"\", self.binary_tree)\n",
    "        for element in self.all_letters:\n",
    "            for lookup in self.lookup_table:\n",
    "                if lookup[0] == element:\n",
    "                    self.binary_string += lookup[1]\n",
    "                    break\n",
    "        self.binary_string = \"\".join(self.binary_string)\n",
    "\n",
    "    def find_children(self, binary_location, children):\n",
    "        if not (type(children[0]) == str):\n",
    "            self.find_children(binary_location + \"0\", children[0])\n",
    "        elif type(children[0]) == str:\n",
    "            self.lookup_table.append([children[0], binary_location + \"0\"])\n",
    "        else:\n",
    "            print(\"Error, find children\", children[0])\n",
    "        if not (type(children[1]) == str):\n",
    "            self.find_children(binary_location + \"1\", children[1])\n",
    "        elif type(children[1]) == str:\n",
    "            self.lookup_table.append([children[1], binary_location + \"1\"])\n",
    "        else:\n",
    "            print(\"Error, find children\", children[1])\n",
    "\n",
    "    def read_stored_binary_string(self):\n",
    "        self.all_letters = []\n",
    "        temp_tree = self.binary_tree[:]\n",
    "        for digit in self.binary_string:\n",
    "            temp_tree = temp_tree[:][int(digit)]\n",
    "            if type(temp_tree) == str:\n",
    "                self.all_letters.append(temp_tree)\n",
    "                temp_tree = self.binary_tree[:]\n",
    "\n",
    "    def refresh(self):\n",
    "        self.chars = []\n",
    "        self.all_letters = []\n",
    "        self.numbers = []\n",
    "        self.binary_tree = []\n",
    "        self.binary_string = []\n",
    "        self.lookup_table = []\n",
    "\n",
    "    def compress(self):\n",
    "        self.refresh()\n",
    "        self.select()\n",
    "        self.read_uncompressed_file()\n",
    "        self.bubble_sort()\n",
    "        self.make_tree()\n",
    "        self.save_binary_tree()\n",
    "        self.create_binary_store_string()\n",
    "        self.write_compressed_file()\n",
    "        self.refresh()\n",
    "\n",
    "    def select(self):\n",
    "        if self.file_browser:\n",
    "            print(\"Pick, uncompressed file\")\n",
    "            self.uncompressed_file = askopenfilename()\n",
    "            print(\"Pick, compressed file\")\n",
    "            self.compressed_file = askopenfilename()\n",
    "\n",
    "    def uncompress(self):\n",
    "        self.refresh()\n",
    "        self.select()\n",
    "        self.read_compressed_file()\n",
    "        self.read_binary_tree()\n",
    "        self.read_stored_binary_string()\n",
    "        self.write_uncompressed_file()\n",
    "        self.refresh()"
   ]
  },
  {
   "cell_type": "code",
   "execution_count": 3,
   "metadata": {},
   "outputs": [],
   "source": [
    "#My tests\n",
    "import unittest\n",
    "\n",
    "path = 'HuffmanCompression/'\n",
    "class TestHuffman(unittest.TestCase):\n",
    "    def test_add_letter_adds_new_letter_to_array_and_stores_one_as_number(self):\n",
    "        comp = Huffman()\n",
    "        comp.add_letter(\"m\")\n",
    "        self.assertEqual(\"m\", comp.chars[0])\n",
    "        self.assertEqual(1, comp.numbers[0])\n",
    "\n",
    "    def test_add_letter_adds_to_count_of_letter_with_letter_already_in_array(self):\n",
    "        comp = Huffman()\n",
    "        comp.add_letter(\"M\")\n",
    "        comp.add_letter(\"M\")\n",
    "        comp.add_letter(\"M\")\n",
    "        self.assertEqual(\"M\", comp.chars[0])\n",
    "        self.assertEqual(3, comp.numbers[0])\n",
    "\n",
    "    def test_add_letter_adds_each_letter_to_an_array(self):\n",
    "        comp = Huffman()\n",
    "        comp.add_letter(\"M\")\n",
    "        comp.add_letter(\"M\")\n",
    "        comp.add_letter(\"M\")\n",
    "        self.assertEqual([\"M\", \"M\", \"M\"], comp.all_letters)\n",
    "\n",
    "    def test_bubble_sort_sorts_data_into_increasing_order_on_number_of_elements(self):\n",
    "        comp = Huffman()\n",
    "        comp.chars = [\"d\", \"e\", \"J\", \"5\", \"u\", \"f\", \"0\"]\n",
    "        comp.numbers = [10, 8, 2, 2, 15, 12, 5]\n",
    "        expected_chars = [\"J\", \"5\", \"0\", \"e\", \"d\", \"f\", \"u\"]\n",
    "        expected_numbers = [2, 2, 5, 8, 10, 12, 15]\n",
    "        comp.bubble_sort()\n",
    "        self.assertEqual(expected_chars, comp.chars)\n",
    "        self.assertEqual(expected_numbers, comp.numbers)\n",
    "\n",
    "    def test_reading_text_file_and_adding_and_ordering_arrays(self):\n",
    "        comp = Huffman(path + \"Test.txt\")\n",
    "        comp.read_uncompressed_file()\n",
    "        comp.bubble_sort()\n",
    "        self.assertEqual([\"H\", \"e\", \" \", \"\\n\", \"w\", \"r\",\n",
    "                          \"d\", \"o\", \"l\"], comp.chars)\n",
    "        self.assertEqual([1, 1, 1, 1, 1, 1, 1, 2, 3], comp.numbers)\n",
    "\n",
    "    def test_make_tree_creates_the_correct_array_to_store_the_tree_in(self):\n",
    "        comp = Huffman()\n",
    "        comp.chars = [\"a\", \"b\", \"c\", \"d\", \"e\"]\n",
    "        comp.numbers = [1, 2, 3, 4, 5]\n",
    "        comp.make_tree()\n",
    "        self.assertEqual([[[\"a\", \"b\"], \"c\"], [\"d\", \"e\"]], comp.binary_tree)\n",
    "\n",
    "    def test_make_tree_does_not_modify_chars_and_numbers_once_finished(self):\n",
    "        comp = Huffman()\n",
    "        comp.chars = [\"a\", \"b\", \"c\", \"d\", \"e\"]\n",
    "        comp.numbers = [1, 2, 3, 4, 5]\n",
    "        comp.make_tree()\n",
    "        self.assertEqual([\"a\", \"b\", \"c\", \"d\", \"e\"], comp.chars)\n",
    "        self.assertEqual([1, 2, 3, 4, 5], comp.numbers)\n",
    "\n",
    "    def test_create_binary_store_string_creates_correct_string_of_0_and_1(self):\n",
    "        comp = Huffman()\n",
    "        comp.all_letters = [\"a\", \"b\", \"c\", \"d\", \"e\"]\n",
    "        comp.binary_tree = [[[\"a\", \"b\"], \"c\"], [\"d\", \"e\"]]\n",
    "        comp.create_binary_store_string()\n",
    "        self.assertEqual(\"000001011011\", comp.binary_string)\n",
    "\n",
    "    def test_write_compressed_file_and_read_compressed_file_so_that_they_work_together(self):\n",
    "        comp = Huffman()\n",
    "        comp.compressed_file = path + \"Testing_Byte_File\"\n",
    "        comp.binary_string = \"000001011011\"\n",
    "        comp.write_compressed_file()\n",
    "        comp.binary_string = \"\"\n",
    "        comp.read_compressed_file()\n",
    "        self.assertEqual(\"0000010110110000\", comp.binary_string)\n",
    "\n",
    "    def test_splitter_splits_string_into_array_of_elements_with_length_8(self):\n",
    "        actual = binary_splitter(\"000001011011\", 8)\n",
    "        self.assertEqual([0b00000101, 0b10110000], actual)\n",
    "\n",
    "    def test_get_binary_string_returns_the_correct_string_which_will_contain_0_or_1_for_given_byte_array(self):\n",
    "        actual1 = get_binary_string([255, 15])\n",
    "        actual2 = get_binary_string([5, 176])\n",
    "        self.assertEqual(\"1111111100001111\", actual1)\n",
    "        self.assertEqual(\"0000010110110000\", actual2)\n",
    "\n",
    "    def test_save_binary_tree_and_read_binary_tree_so_they_work_together(self):\n",
    "        comp = Huffman()\n",
    "        comp.compressed_file = path + \"Testing_Byte_File\"\n",
    "        comp.binary_tree_location = path + \"binary_tree_test.txt\"\n",
    "        comp.binary_tree = [[[\"a\", \"b\"], \"c\"], [\"d\", \"e\"]]\n",
    "        comp.save_binary_tree()\n",
    "        comp.binary_tree = []\n",
    "        comp.read_binary_tree()\n",
    "        self.assertEqual([[[\"a\", \"b\"], \"c\"], [\"d\", \"e\"]], comp.binary_tree)\n",
    "\n",
    "    def test_write_uncompressed_file_and_read_uncompressed_file_work_together(self):\n",
    "        comp = Huffman(path + \"Testing.txt\")\n",
    "        comp.all_letters = [\"a\", \"b\", \"c\", \"d\", \"e\"]\n",
    "        comp.write_uncompressed_file()\n",
    "        comp.all_letters = []\n",
    "        comp.read_uncompressed_file()\n",
    "        self.assertEqual([\"a\", \"b\", \"c\", \"d\", \"e\"], comp.all_letters)\n",
    "\n",
    "    def test_find_children_creates_the_correct_lookup_table(self):\n",
    "        comp = Huffman()\n",
    "        comp.binary_tree = [[[\"a\", \"b\"], \"c\"], [\"d\", \"e\"]]\n",
    "        comp.find_children(\"\", comp.binary_tree)\n",
    "        self.assertEqual([[\"a\", \"000\"], [\"b\", \"001\"], ['c', '01'], \n",
    "                          ['d', '10'], ['e', '11']], comp.lookup_table)\n",
    "\n",
    "    def test_read_stored_string_returns_correct_string_when_reading_binary_string_and_binary_tree(self):\n",
    "        comp = Huffman()\n",
    "        comp.binary_tree = [[[\"a\", \"b\"], \"c\"], [\"d\", \"e\"]]\n",
    "        comp.binary_string = \"000001011011\"\n",
    "        comp.read_stored_binary_string()\n",
    "        self.assertEqual([\"a\", \"b\", \"c\", \"d\", \"e\"], comp.all_letters)\n",
    "        "
   ]
  },
  {
   "cell_type": "code",
   "execution_count": 4,
   "metadata": {},
   "outputs": [
    {
     "name": "stderr",
     "output_type": "stream",
     "text": [
      "...............\n",
      "----------------------------------------------------------------------\n",
      "Ran 15 tests in 0.023s\n",
      "\n",
      "OK\n"
     ]
    },
    {
     "data": {
      "text/plain": [
       "<unittest.runner.TextTestResult run=15 errors=0 failures=0>"
      ]
     },
     "execution_count": 4,
     "metadata": {},
     "output_type": "execute_result"
    }
   ],
   "source": [
    "#Run tests\n",
    "suite = unittest.TestLoader().loadTestsFromTestCase(TestHuffman)\n",
    "unittest.TextTestRunner().run(suite)"
   ]
  },
  {
   "cell_type": "markdown",
   "metadata": {},
   "source": [
    "### Example: User Name"
   ]
  },
  {
   "cell_type": "markdown",
   "metadata": {},
   "source": [
    "Here is a simple example of compressing someone's username. The user name is 'Bell777', \n",
    "First we list the characters in order of frequency.\n",
    "\n",
    ">\\begin{align*}\n",
    "&\\text{Character},& &\\text{'$7$'},& &\\text{'l'},& &\\text{'B'},& &\\text{'e'},&\\\\\n",
    "&\\text{Number},& &3,& &2,& &1,& &1,& \n",
    "\\end{align*}\n",
    "\n",
    "This will form the binary tree."
   ]
  },
  {
   "cell_type": "code",
   "execution_count": 5,
   "metadata": {},
   "outputs": [],
   "source": [
    "\"   Start      \"\n",
    "\"   /    \\     \"\n",
    "\" '7'     .    \"\n",
    "\"        / \\   \"\n",
    "\"       /  'l' \"\n",
    "\"      .       \"\n",
    "\"     / \\      \"\n",
    "\"   'B' 'e'    \"\n",
    "\"              \"\n",
    "#This will be stored in the file as\n",
    "expected_binary_tree = ['7', [['B', 'e'], 'l']]"
   ]
  },
  {
   "cell_type": "code",
   "execution_count": 6,
   "metadata": {},
   "outputs": [],
   "source": [
    "#Test correct binary tree formed\n",
    "my_Huffman = Huffman(uncompressed_file=path + \"Example_User_Name.txt\",\n",
    "                     compressed_file=path + \"Compressed_User_Name\",\n",
    "                     binary_tree_file=path + \"bin_tree_User_Name.txt\",\n",
    "                     file_browser=False)\n",
    "\n",
    "my_Huffman.compress()\n",
    "my_Huffman.read_binary_tree()\n",
    "assert my_Huffman.binary_tree == expected_binary_tree"
   ]
  },
  {
   "cell_type": "markdown",
   "metadata": {},
   "source": [
    "From the binary tree we have\n",
    "> 'B' = $100$, 'e' = $101$, 'l' = $11$, '$7$' = $0$\n",
    "\n",
    "So 'Bell777' = $1001011111000$"
   ]
  },
  {
   "cell_type": "code",
   "execution_count": 7,
   "metadata": {},
   "outputs": [
    {
     "data": {
      "text/plain": [
       "'100101111100000000000000'"
      ]
     },
     "execution_count": 7,
     "metadata": {},
     "output_type": "execute_result"
    }
   ],
   "source": [
    "my_Huffman.read_compressed_file()\n",
    "my_Huffman.binary_string"
   ]
  },
  {
   "cell_type": "code",
   "execution_count": 8,
   "metadata": {},
   "outputs": [
    {
     "name": "stdout",
     "output_type": "stream",
     "text": [
      "['B', 'e', 'l', 'l', '7', '7', '7', '7', '7', '7', '7', '7', '7', '7', '7', '7', '7', '7']\n"
     ]
    }
   ],
   "source": [
    "uncompress_Huffman = Huffman(uncompressed_file=path + \"Testsed_Example_User_Name.txt\",\n",
    "                             compressed_file=path + \"Compressed_User_Name\",\n",
    "                             binary_tree_file=path + \"bin_tree_User_Name.txt\",\n",
    "                             file_browser=False)\n",
    "\n",
    "uncompress_Huffman.uncompress()\n",
    "uncompress_Huffman.read_uncompressed_file()\n",
    "print(uncompress_Huffman.all_letters)"
   ]
  },
  {
   "cell_type": "markdown",
   "metadata": {},
   "source": [
    "As can be seen this is not 'Bell777', this is because the code stores the binary string as a byte, therefore the it fills the end of the byte with zero. This can be fixed by having an stop character for an end node, thus telling the code the string is at an end. This is not needed as with bigger texts this impact will not always occur since the extra bits may not reach an end node, it may seem that using this method will make the file get bigger over time but after one compression and uncompression the file will remain a constant size when doing this method again as the binary string will be a multiple of 8, this is given that the extra letters don't change the outcome of the binary tree, the bigger the text passage the less likely the binary tree will be changed by this. But this should be fixed in the future. "
   ]
  },
  {
   "cell_type": "markdown",
   "metadata": {},
   "source": [
    "### The Lord of The Examples"
   ]
  },
  {
   "cell_type": "markdown",
   "metadata": {},
   "source": [
    "Here we will test the program works on large texts and see its compression statistics. We will be using the book Lord Of The Rings The Fellowship of the Ring."
   ]
  },
  {
   "cell_type": "code",
   "execution_count": 9,
   "metadata": {},
   "outputs": [
    {
     "name": "stdout",
     "output_type": "stream",
     "text": [
      "[[' ', [[[['.', ','], ['c', [['T', ['’', 'A']], 'v']]], 'h'], ['n', 'o']]], [[[[[['k', [[[['x', 'q'], 'R'], 'F'], ['S', ['E', ['C', 'Y']]]]], 'y'], [['\\n', ['I', [[[['\"', ['(', ')']], 'D'], ['O', [['ó', [['á', [[[['ы', 'н'], ['к', 'з']], '6'], [[[['у', 'ь'], ['_', 'г']], '*'], [['Z', 'м'], [['…', '='], '©']]]]], 'ú']], 'z']]], ['‘', ['L', 'N']]]]], 'm']], 'a'], ['t', ['l', ['f', 'g']]]], [[[[[[\"'\", ['B', ['`', 'M']]], 'p'], 'w'], 'd'], [['u', [[[['W', 'G'], [';', [[[[['”', [['8', ['л', ['в', ['|', ['б', 'х']]]]], ['/', '7']]], 'K'], [['“', 'J'], 'U']], 'P'], ':']]], [['H', '!'], ['-', ['?', ['j', [[[[['â', ['п', ['о', 'с']]], 'ë'], ['3', ['5', [['и', 'т'], ['‚', 'р']]]]], [['9', '2'], ['é', 'Q']]], [[['4', 'û'], 'V'], [[[['е', 'ä'], 'í'], [['а', ['Ó', 'д']], '0']], '1']]]]]]]], 'b']], 's']], [['r', 'i'], 'e']]]]\n"
     ]
    }
   ],
   "source": [
    "book_path = \"Books/\"\n",
    "huff_path = \"HuffmanCompression/\"\n",
    "\n",
    "Lord_Huffman = Huffman(uncompressed_file=book_path + \"The Lord Of The Rings The Fellowship of the Ring.txt\",\n",
    "                       compressed_file=huff_path + \"Compressed_LOTR\",\n",
    "                       binary_tree_file=huff_path + \"The_Lord_Of_The_Binary_Trees.txt\",\n",
    "                       file_browser=False)\n",
    "\n",
    "Lord_Huffman.compress()\n",
    "\n",
    "#Here is the binary tree in raw format\n",
    "Lord_Huffman.read_binary_tree()\n",
    "print(Lord_Huffman.binary_tree)"
   ]
  },
  {
   "cell_type": "code",
   "execution_count": 10,
   "metadata": {},
   "outputs": [
    {
     "name": "stdout",
     "output_type": "stream",
     "text": [
      "John Ronald Reuel Tolkien\n",
      "The Lord Of The Rings:\n",
      "The Fellowship of the Ring\n",
      "(1954)\n",
      "© J.R.R.Tolkien, 1954\n",
      "\n",
      "E-Text: Greylib\n",
      "\n",
      "Contents\n",
      "Foreword\n",
      "\n",
      " \n",
      "\n",
      "Prologue\n",
      "\n",
      "    1. Concerning Hobbits\n",
      "\n",
      "    2. Concerning Pipe-weed\n",
      "\n",
      "    3. Of the Ordering of the Shire\n",
      "\n",
      "    4. Of the Finding of the Ring\n",
      "\n",
      "    5. Note on the Shire Records\n",
      "\n",
      "Book I\n",
      "\n",
      "    Chapter 1. A Long-expected Party\n",
      "\n",
      "    Chapter 2. The Shadow of the Past\n",
      "\n",
      "    Chapter 3. Three is Company\n",
      "\n",
      "    Chapter 4. A Short Cut to Mushrooms\n",
      "\n",
      "    Chapter 5. A Conspiracy Unmasked\n",
      "\n",
      "    Chapter 6. The Old Forest\n",
      "\n",
      "    Chapter 7. In the House of Tom Bombadil\n",
      "\n",
      "    Chapter 8. Fog on the Barrow-Downs\n",
      "\n",
      "    Chapter 9. At the Sign of The Prancing Pony\n",
      "\n",
      "    Chapter 10. Strider\n",
      "\n",
      "    Chapter 11. A Knife in the Dark\n",
      "\n",
      "    Chapter 12. Flight to the Ford\n",
      "\n",
      "Book II\n",
      "\n",
      "    Chapter 1. Many Meetings\n",
      "\n",
      "    Chapter 2. The Council of Elrond\n",
      "\n",
      "    Chapter 3. The Ring Goes South\n",
      "\n",
      "    Chapter 4. A Journey in the Dark\n",
      "\n",
      "    Chapter 5. The Bridge of Khazad-dûm\n",
      "\n",
      "    Chapter 6. Lothlórien\n",
      "\n",
      "    Chapter 7. The Mirror of Galadriel\n",
      "\n",
      "    Chapter 8. Farewell to Lórien\n",
      "\n",
      "    Chapter 9. The Great River\n",
      "\n",
      "    Chapter 10. The Breaking of the Fellowship\n",
      "\n",
      " \n",
      "\n",
      " \n",
      "\n",
      " \n",
      "\n",
      "Foreword\n",
      "This tale grew in the telling, until it became a history of the Great War of the Ring and included many glimpses of the yet more ancient history that preceded it. It was begun soon after The Hobbit was written and before its publication in 1937; but I did not go on with this sequel, for I wished first to complete and set in order the mythology and legends of the Elder Days, which had then been taking shape for some years. I desired to do this for my own satisfaction, and I had little hope that other people would be interested in this work, especially since it was primarily linguistic in inspiration and was begun in order to provide the necessary background of 'history' for Elvish tongues.\n",
      "\n",
      "When those whose advice and opinion I sought corrected little hope to no hope, I went back to the sequel, encouraged by requests from readers for more information concerning hobbits and their adventures. But the story was drawn irresistibly towards the older world, and became an account, as it were, of its end and passing away before its beginning and middle had been told. The process had begun in the writing of The Hobbit, in which there were already some references to the older matter: Elrond, Gondolin, the High-elves, and the orcs, as well as glimpses that had arisen unbidden of things higher or deeper or darker than its surface: Durin, Moria, Gandalf, the Necromancer, the Ring. The discovery of the significance of these glimpses and of their relation to the ancient histories revealed the Third Age and its culmination in the War of the Ring.\n",
      "\n",
      "Those who had asked for more information about hobbits eventually got it, but they had to wait a long time; for the composition of The Lord of the Rings went on at intervals during the years 1936 to 1949, a period in which I had many duties that I did not neglect, and many other interests as a learner and teacher that often absorbed me. The delay was, of course, also increased by the outbreak of war in 1939, by the end of which year the tale had not yet reached the end of Book One. In spite of the darkness of the next five years I found that the story could not now be wholly abandoned, and I plodded on, mostly by night, till I stood by Balin's tomb in Moria. There I halted for a long while. It was almost a year later when I went on and so came to Lothlórien and the Great River late in 1941. In the next year I wrote the first drafts of the matter that now stands as Book Three, and the beginnings of chapters I and III of Book Five; and there as the beacons flared in Anórien and Théoden came to Harrowdale I stopped. Foresight had failed and there was no time for thought.\n",
      "\n",
      "It was during 1944 that, leaving the loose ends and perplexities of a war which it was my task to conduct, or at least to report, I forced myself to tackle the journey of Frodo to Mordor. These chapters, eventually to become Book Four, were written and sent out as a serial to my son, Christopher, then in South Africa with the RAF. Nonetheless it took another five years before the tale was brought to its present end; in that time I changed my house, my chair, and my college, and the days though less dark were no less laborious. Then when the 'end' had at last been reached the whole story had to be revised, and indeed largely re-written backwards. And it had to be typed, and re-typed: by me; the cost of professional typing by the ten-fingered was beyond my means.\n",
      "\n",
      "The Lord of the Rings has been read by many people since it finally appeared in print; and I should like to say something here with reference to the many opinions or guesses that I have received or have read concerning the motives and meaning of the tale. The prime motive was the desire of a tale-teller to try his hand at a really long story that would hold the attention of readers, amuse them, delight them, and at times maybe excite them or deeply move them. As a guide I had only my own feelings for what is appealing or moving, and for many the guide was inevitably often at fault. Some who have read the book, or at any rate have reviewed it, have found it boring, absurd, or contemptible; and I have no cause to complain, since I have similar opinions of their works, or of the kinds of writing that they evidently prefer. But even from the points of view of many who have enjoyed my story there is much that fails to please. It is perhaps not possible in a long tale to please everybody at all points, nor to displease everybody at the same points; for I find from the letters that I have received that the passages or chapters that are to some a blemish are all by others specially approved. The most critical reader of all, myself, now finds many defects, minor and major, but being fortunately under no obligation either to review the book or to write it again, he will pass over these in silence, except one that has been noted by others: the book is too short.\n",
      "\n",
      "As for any inner meaning or 'message', it has in the intention of the author none. It is neither allegorical nor topical. As the story grew it put down roots (into the past) and threw out unexpected branches: but its main theme was settled from the outset by the inevitable choice of the Ring as the link between it and The Hobbit. The crucial chapter, \"The Shadow of the Past', is one of the oldest parts of the tale. It was written long before the foreshadow of 1939 had yet become a threat of inevitable disaster, and from that point the story would have developed along essentially the same lines, if that disaster had been averted. Its sources are things long before in mind, or in some cases already written, and little or nothing in it was modified by the war that began in 1939 or its sequels.\n",
      "\n",
      "The real war does not resemble the legendary war in its process or its conclusion. If it had inspired or directed the development of the legend, then certainly the Ring would have been seized and used against Sauron; he would not have been annihilated but enslaved, and Barad-dûr would not have been destroyed but occupied. Saruman, failing to get possession of the Ring, would in the confusion and treacheries of the time have found in Mordor the missing links in his own researches into Ring-lore, and before long he would have made a Great Ring of his own with which to challenge the self-styled Ruler of Middle-earth. In that conflict both sides would have held hobbits in hatred and contempt: they would not long have survived even as slaves.\n",
      "\n",
      "Other arrangements could be devised according to the tastes or views of those who like allegory or topical reference. But I cordially dislike allegory in all its manifestations, and always have done so since I grew old and wary enough to detect its presence. I much prefer history, true or feigned, with its varied applicability to the thought and experience of readers. I think that many confuse 'applicability' with 'allegory'; but the one resides in the freedom of the reader, and the other in the purposed domination of the author.\n",
      "\n",
      "An author cannot of course remain wholly unaffected by his experience, but the ways in which a story-germ uses the soil of experience are extremely complex, and attempts to define the process are at best guesses from evidence that is inadequate and ambiguous. It is also false, though naturally attractive, when the lives of an author and critic have overlapped, to suppose that the movements of thought or the events of times common to both were necessarily the most powerful influences. One has indeed personally to come under the shadow of war to feel fully its oppression; but as the years go by it seems now often forgotten that to be caught in youth by 1914 was no less hideous an experience than to be involved in 1939 and the following years. By 1918 all but one of my close friends were dead. Or to take a less grievous matter: it has been supposed by some that 'The Scouring of the Shire' reflects the situation in England at the time when I was finishing my tale. It does not. It is an essential part of the plot, foreseen from the outset, though in the event modified by the character of Saruman as developed in the story without, need I say, any allegorical significance or contemporary political reference whatsoever. It has indeed some basis in experience, though slender (for the economic situation was entirely different), and much further back. The country in which I lived in childhood was being shabbily destroyed before I was ten, in days when motor-cars were rare objects (I had never seen one) and men were still building suburban railways. Recently I saw in a paper a picture of the last decrepitude of the once thriving corn-mill beside its pool that long ago seemed to me so important. I never liked the looks of the Young miller, but his father, the Old miller, had a black beard, and he was not named Sandyman.\n",
      "\n",
      "The Lord \n"
     ]
    }
   ],
   "source": [
    "# Now to uncopress the file\n",
    "Un_Lord_Huffman = Huffman(uncompressed_file=book_path + \"Comp and Uncomp LOTR.txt\",\n",
    "                          compressed_file=huff_path + \"Compressed_LOTR\",\n",
    "                          binary_tree_file=huff_path + \"The_Lord_Of_The_Binary_Trees.txt\",\n",
    "                          file_browser=False)\n",
    "Un_Lord_Huffman.uncompress()\n",
    "\n",
    "#View the file first part of the file\n",
    "Un_Lord_Huffman.read_uncompressed_file()\n",
    "print(''.join(Un_Lord_Huffman.all_letters[0:10000]))"
   ]
  },
  {
   "cell_type": "code",
   "execution_count": 11,
   "metadata": {},
   "outputs": [
    {
     "name": "stdout",
     "output_type": "stream",
     "text": [
      " Compressed LOTR Byte Size: 559895\n",
      "     Normal LOTR Byte Size: 1013626\n",
      "Binary Tree LOTR Byte Size: 867\n",
      "Compression Ratio: 0.5532237728708617\n"
     ]
    }
   ],
   "source": [
    "#Open the file in the books folder to see, all of book\n",
    "\n",
    "#Compare, gets the size in btyes\n",
    "comp_file_size = os.stat(huff_path + \"Compressed_LOTR\").st_size\n",
    "normal_file_size = os.stat(book_path + \"The Lord Of The Rings The Fellowship of the Ring.txt\").st_size\n",
    "binary_tree_size = os.stat(huff_path + \"The_Lord_Of_The_Binary_Trees.txt\").st_size\n",
    "print(\" Compressed LOTR Byte Size: \" + str(comp_file_size))\n",
    "print(\"     Normal LOTR Byte Size: \" + str(normal_file_size))\n",
    "print(\"Binary Tree LOTR Byte Size: \" + str(binary_tree_size))\n",
    "\n",
    "\n",
    "comp_ratio = (comp_file_size+binary_tree_size)/normal_file_size\n",
    "print(\"Compression Ratio: \" + str(comp_ratio))"
   ]
  },
  {
   "cell_type": "markdown",
   "metadata": {},
   "source": [
    "### Conclusion of Huffman Compression"
   ]
  },
  {
   "cell_type": "markdown",
   "metadata": {},
   "source": [
    "Clearly this method is not efficient for short texts as the binary tree has to be stored. Additionally, Huffman proved that for longer texts this is an efficient way of assigning $0$'s and $1$'s to store a passage of text. But how do word and zip files do better, because this is a basic Huffman Compression algorithm it only has characters as end nodes on the binary tree, if we worked with blocks bigger than one character better results can be obtained."
   ]
  },
  {
   "cell_type": "code",
   "execution_count": null,
   "metadata": {},
   "outputs": [],
   "source": []
  }
 ],
 "metadata": {
  "kernelspec": {
   "display_name": "Python 3",
   "language": "python",
   "name": "python3"
  },
  "language_info": {
   "codemirror_mode": {
    "name": "ipython",
    "version": 3
   },
   "file_extension": ".py",
   "mimetype": "text/x-python",
   "name": "python",
   "nbconvert_exporter": "python",
   "pygments_lexer": "ipython3",
   "version": "3.7.6"
  },
  "toc": {
   "base_numbering": 1,
   "nav_menu": {},
   "number_sections": true,
   "sideBar": true,
   "skip_h1_title": false,
   "title_cell": "Table of Contents",
   "title_sidebar": "Contents",
   "toc_cell": false,
   "toc_position": {},
   "toc_section_display": true,
   "toc_window_display": false
  },
  "varInspector": {
   "cols": {
    "lenName": 16,
    "lenType": 16,
    "lenVar": 40
   },
   "kernels_config": {
    "python": {
     "delete_cmd_postfix": "",
     "delete_cmd_prefix": "del ",
     "library": "var_list.py",
     "varRefreshCmd": "print(var_dic_list())"
    },
    "r": {
     "delete_cmd_postfix": ") ",
     "delete_cmd_prefix": "rm(",
     "library": "var_list.r",
     "varRefreshCmd": "cat(var_dic_list()) "
    }
   },
   "types_to_exclude": [
    "module",
    "function",
    "builtin_function_or_method",
    "instance",
    "_Feature"
   ],
   "window_display": false
  }
 },
 "nbformat": 4,
 "nbformat_minor": 4
}
